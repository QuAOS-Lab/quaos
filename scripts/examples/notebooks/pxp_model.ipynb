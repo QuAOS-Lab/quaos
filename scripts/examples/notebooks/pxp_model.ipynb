{
 "cells": [
  {
   "cell_type": "code",
   "execution_count": null,
   "id": "69e901eb",
   "metadata": {},
   "outputs": [],
   "source": [
    "import numpy as np\n",
    "from quaos.paulis import PauliSum, PauliString, Pauli\n",
    "from quaos.paulis.pauli import Xnd, Ynd, Znd, Id\n",
    "from quaos.hamiltonian import symplectic_pauli_reduction, pauli_reduce\n"
   ]
  },
  {
   "cell_type": "code",
   "execution_count": null,
   "id": "d43de3e9",
   "metadata": {},
   "outputs": [],
   "source": [
    "def pxp_model(n_qubits):\n",
    "    dims = [2] * n_qubits\n",
    "    psum = []\n",
    "    for i in range(n_qubits-2):\n",
    "        id = PauliSum([PauliString(np.zeros(n_qubits, dtype=int), np.zeros(n_qubits, dtype=int), dims)])\n",
    "\n",
    "        x_exp_z1 = np.zeros(n_qubits, dtype=int)\n",
    "        z_exp_z1 = np.zeros(n_qubits, dtype=int)\n",
    "        z_exp_z1[i] = 1\n",
    "        z1 = PauliSum([PauliString(x_exp_z1, z_exp_z1, dims)])\n",
    "\n",
    "        x_exp_z2 = np.zeros(n_qubits, dtype=int)\n",
    "        z_exp_z2 = np.zeros(n_qubits, dtype=int)\n",
    "        z_exp_z2[i+2] = 1\n",
    "        z2 = PauliSum([PauliString(x_exp_z2, z_exp_z2, dims)])\n",
    "\n",
    "        x_exp_x = np.zeros(n_qubits, dtype=int)\n",
    "        z_exp_x = np.zeros(n_qubits, dtype=int)\n",
    "        x_exp_x[i+1] = 1\n",
    "        x = PauliSum([PauliString(x_exp_x, z_exp_x, dims)])\n",
    "\n",
    "        p1 = id - z1\n",
    "        p2 = id - z2\n",
    "\n",
    "        H_i = p1 * x * p2\n",
    "        if i == 0:\n",
    "            H = H_i\n",
    "        else:\n",
    "            H += H_i\n",
    "    H.remove_trivial_paulis()\n",
    "    return H\n",
    "        "
   ]
  },
  {
   "cell_type": "code",
   "execution_count": null,
   "id": "88595135",
   "metadata": {},
   "outputs": [],
   "source": [
    "H = pxp_model(15)\n",
    "print(H)"
   ]
  },
  {
   "cell_type": "code",
   "execution_count": null,
   "id": "cbe23f05",
   "metadata": {},
   "outputs": [],
   "source": [
    "h_reduced, conditioned_hams, reducing_circuit, eigenvalues = pauli_reduce(H)\n",
    "print(h_reduced)\n",
    "for h in conditioned_hams:\n",
    "    print(h.n_qudits())\n",
    "\n",
    "reducing_circuit.show()"
   ]
  },
  {
   "cell_type": "code",
   "execution_count": null,
   "id": "6dfe78b6",
   "metadata": {},
   "outputs": [],
   "source": [
    "print(np.round(conditioned_hams[0].matrix_form().toarray(), 2).shape)"
   ]
  },
  {
   "cell_type": "code",
   "execution_count": null,
   "id": "abd70ac2",
   "metadata": {},
   "outputs": [],
   "source": []
  }
 ],
 "metadata": {
  "kernelspec": {
   "display_name": "venv",
   "language": "python",
   "name": "python3"
  },
  "language_info": {
   "codemirror_mode": {
    "name": "ipython",
    "version": 3
   },
   "file_extension": ".py",
   "mimetype": "text/x-python",
   "name": "python",
   "nbconvert_exporter": "python",
   "pygments_lexer": "ipython3",
   "version": "3.11.9"
  }
 },
 "nbformat": 4,
 "nbformat_minor": 5
}
