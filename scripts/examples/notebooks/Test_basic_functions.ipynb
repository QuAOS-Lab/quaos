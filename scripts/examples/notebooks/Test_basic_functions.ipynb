{
 "cells": [
  {
   "cell_type": "code",
   "execution_count": null,
   "id": "96dc27b1",
   "metadata": {},
   "outputs": [],
   "source": [
    "import numpy as np\n",
    "from quaos.basic_functions import *\n",
    "from quaos.hamiltonian import random_pauli_hamiltonian"
   ]
  },
  {
   "cell_type": "code",
   "execution_count": null,
   "id": "df85ef1b",
   "metadata": {},
   "outputs": [],
   "source": [
    "# Testing bases_to_int and int_to_bases\n",
    "base = [ 0, 1, 2]\n",
    "dimensions = [ 3, 3, 3]\n",
    "a = bases_to_int(base, dimensions)\n",
    "print(a)\n",
    "\n",
    "b = int_to_bases(a, dimensions)\n",
    "print(b)\n",
    "\n"
   ]
  },
  {
   "cell_type": "code",
   "execution_count": null,
   "id": "d73eeb9b",
   "metadata": {},
   "outputs": [],
   "source": [
    "# Testing Hamiltonian Mean, rand_state, Covariance Matrix and Commutation Graph\n",
    "P = random_pauli_hamiltonian(6, [3,3], mode='rand', seed=None)\n",
    "psi = rand_state(9)\n",
    "psi = psi / np.linalg.norm(psi)\n",
    "print(P)\n",
    "print(psi)\n",
    "print()\n",
    "print(Hamiltonian_Mean(P, psi))\n",
    "print()\n",
    "cov = covariance_matrix(P, psi)\n",
    "print(np.around(cov,2))\n",
    "print()\n",
    "comm = commutation_graph(P)\n",
    "print(comm)"
   ]
  },
  {
   "cell_type": "code",
   "execution_count": null,
   "id": "96ffea7d",
   "metadata": {},
   "outputs": [],
   "source": [
    "# Testing complex phase value\n",
    "complex_phase_value(2, 3)"
   ]
  },
  {
   "cell_type": "code",
   "execution_count": null,
   "id": "341e12fe",
   "metadata": {},
   "outputs": [],
   "source": [
    "# Testing PauliString Hermitian\n",
    "print(P[0])\n",
    "print(P[0].hermitian())"
   ]
  }
 ],
 "metadata": {
  "kernelspec": {
   "display_name": "venv",
   "language": "python",
   "name": "python3"
  },
  "language_info": {
   "codemirror_mode": {
    "name": "ipython",
    "version": 3
   },
   "file_extension": ".py",
   "mimetype": "text/x-python",
   "name": "python",
   "nbconvert_exporter": "python",
   "pygments_lexer": "ipython3",
   "version": "3.11.9"
  }
 },
 "nbformat": 4,
 "nbformat_minor": 5
}
