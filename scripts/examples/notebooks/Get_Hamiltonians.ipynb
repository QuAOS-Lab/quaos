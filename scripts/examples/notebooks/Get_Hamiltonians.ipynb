{
 "cells": [
  {
   "cell_type": "code",
   "execution_count": null,
   "metadata": {},
   "outputs": [],
   "source": [
    "import numpy as np\n",
    "\n",
    "import itertools\n",
    "import pickle"
   ]
  },
  {
   "cell_type": "markdown",
   "metadata": {},
   "source": [
    "### Functions to be employed"
   ]
  },
  {
   "cell_type": "code",
   "execution_count": null,
   "metadata": {},
   "outputs": [],
   "source": [
    "# Read the Hamiltonian stored in the \"Hamiltonian\" folder:\n",
    "#define a path\n",
    "def path(a,b):\n",
    "    path = 'data/Hamiltonians/'+a+'/'+b+'.txt'\n",
    "    return path\n",
    "\n",
    "#build a dictionary with the Hamiltonian\n",
    "def read_encoding_return_dict(path):\n",
    "    with open(path, 'r') as f:\n",
    "        first_line = f.readline()\n",
    "        first_character = first_line[0]\n",
    "        if first_character == '{':\n",
    "            format = 'dictionary'\n",
    "        else:\n",
    "            format = 'list'\n",
    "\n",
    "    if format == 'dictionary':\n",
    "        dic = {}\n",
    "        with open(path, 'r') as f:\n",
    "            dict1 = eval(f.read())\n",
    "            list2 = dict1['paulis']\n",
    "            for item in list2:\n",
    "                pauli_string = item['label']\n",
    "                coeff = item['coeff']['real']\n",
    "                dic[pauli_string] = coeff\n",
    "        return dic\n",
    "\n",
    "    if format == 'list':\n",
    "        dic = {}\n",
    "        with open(path, 'r') as f:\n",
    "            for line1, line2 in itertools.zip_longest(*[f]*2):\n",
    "                pauli_string = line1[:-1]\n",
    "                coefficient = float(line2[1:-5])\n",
    "                dic[pauli_string] = coefficient\n",
    "        return dic\n",
    "\n",
    "    pass\n",
    "\n",
    "\n",
    "# Rewrite the Hamiltonian in the format for Andrew's code\n",
    "def map_string(input_str):\n",
    "    # Define the mapping dictionary\n",
    "    mapping = {\n",
    "        'I': 'x0z0 ',\n",
    "        'Z': 'x0z1 ',\n",
    "        'X': 'x1z0 ',\n",
    "        'Y': 'x1z1 '\n",
    "    }\n",
    "    \n",
    "    # Initialize an empty result string\n",
    "    result = ''\n",
    "    compensation_coefficient = list()\n",
    "    \n",
    "    # Iterate over each character in the input string\n",
    "    for char in input_str:\n",
    "        # Append the mapped value to the result string\n",
    "        result += mapping.get(char, '')\n",
    "        compensation_coefficient.append(\n",
    "\n",
    "########################################################\n",
    "#IMPORTANT: Here I include the coefficient for ensuring that the Pauli Y (or any other) is correctly mapped, including the phase! I am not 100% sure the coefficient is correct, please check\n",
    "########################################################\n",
    "\n",
    "            1 if char == ('I' or 'X' or 'Z') else -1\n",
    "        )\n",
    "    \n",
    "    return np.prod(compensation_coefficient), result[:-1]"
   ]
  },
  {
   "cell_type": "markdown",
   "metadata": {},
   "source": [
    "### List of Hamiltonian that can be chosen:"
   ]
  },
  {
   "cell_type": "code",
   "execution_count": null,
   "metadata": {},
   "outputs": [],
   "source": [
    "# Possible Hamiltonians to choose from.\n",
    "# \n",
    "# I leave uncommented the ones that can be of interest for you :)\n",
    "\n",
    "# 4 qubits\n",
    "h2_jw_4 = ['H2_STO3g_4qubits', 'jw']\n",
    "h2_parity_4 = ['H2_STO3g_4qubits', 'parity']\n",
    "h2_bk_4 = ['H2_STO3g_4qubits', 'bk']\n",
    "\n",
    "# 8 qubits\n",
    "h2_jw = ['H2_6-31G_8qubits', 'jw']\n",
    "h2_parity = ['H2_6-31G_8qubits', 'parity']\n",
    "h2_bk = ['H2_6-31G_8qubits', 'bk']\n",
    "\n",
    "# 12 qubits\n",
    "lih_jw = ['LiH_STO3g_12qubits', 'jw']\n",
    "lih_parity = ['LiH_STO3g_12qubits', 'parity']\n",
    "lih_bk = ['LiH_STO3g_12qubits', 'bk']\n",
    "\n",
    "## 14 qubits\n",
    "#beh2_jw = ['BeH2_STO3g_14qubits', 'jw']\n",
    "#beh2_parity = ['BeH2_STO3g_14qubits', 'parity']\n",
    "#beh2_bk = ['BeH2_STO3g_14qubits', 'bk']\n",
    "\n",
    "#h2o_jw = ['H2O_STO3g_14qubits', 'jw']\n",
    "#h2o_parity = ['H2O_STO3g_14qubits', 'parity']\n",
    "#h2o_bk = ['H2O_STO3g_14qubits', 'bk']\n",
    "\n",
    "## 16 qubits\n",
    "#nh3_jw = ['NH3_STO3g_16qubits', 'jw']\n",
    "#nh3_parity = ['NH3_STO3g_16qubits', 'parity']\n",
    "#nh3_bk = ['NH3_STO3g_16qubits', 'bk']"
   ]
  },
  {
   "cell_type": "markdown",
   "metadata": {},
   "source": [
    "### Protocol:"
   ]
  },
  {
   "cell_type": "code",
   "execution_count": null,
   "metadata": {},
   "outputs": [],
   "source": [
    "# Choose specific Hamiltonian\n",
    "tmp_in = h2_jw\n",
    "ham = path(tmp_in[0],tmp_in[1])"
   ]
  },
  {
   "cell_type": "code",
   "execution_count": null,
   "metadata": {},
   "outputs": [],
   "source": [
    "# Get a dictionary with Pauli strings as labels and coefficient as the corresponding element\n",
    "\n",
    "ch_ham = read_encoding_return_dict(ham)\n",
    "#ch_ham"
   ]
  },
  {
   "cell_type": "code",
   "execution_count": null,
   "metadata": {},
   "outputs": [],
   "source": [
    "# Obtain all Paulis as a list:\n",
    "\n",
    "P_list = list()\n",
    "cc = list()\n",
    "\n",
    "tmp = list(ch_ham.items())\n",
    "\n",
    "for pauli, coef in tmp:\n",
    "    tmp_factor, tmp_str = map_string(pauli)\n",
    "\n",
    "    P_list.append(tmp_str)\n",
    "    cc.append(tmp_factor*coef)"
   ]
  },
  {
   "cell_type": "code",
   "execution_count": null,
   "metadata": {},
   "outputs": [],
   "source": [
    "# number of terms:\n",
    "len(cc)"
   ]
  },
  {
   "cell_type": "code",
   "execution_count": null,
   "metadata": {},
   "outputs": [],
   "source": [
    "for i in range(len(cc)):\n",
    "    print(cc[i],\"; \",P_list[i])"
   ]
  },
  {
   "cell_type": "markdown",
   "metadata": {},
   "source": [
    "### Save and load"
   ]
  },
  {
   "cell_type": "code",
   "execution_count": null,
   "metadata": {},
   "outputs": [],
   "source": [
    "#write\n",
    "pth_coef = 'data/Hamiltonians/'+tmp_in[0]+'_'+tmp_in[1]+'_coeffs'\n",
    "pth_paulis = 'data/Hamiltonians/'+tmp_in[0]+'_'+tmp_in[1]+'_paulis'\n",
    "\n",
    "with open(pth_coef, \"wb\") as fp:   #Pickling\n",
    "    pickle.dump(cc, fp)\n",
    "\n",
    "with open(pth_paulis, \"wb\") as fp:   #Pickling\n",
    "    pickle.dump(P_list, fp)"
   ]
  },
  {
   "cell_type": "code",
   "execution_count": null,
   "metadata": {},
   "outputs": [],
   "source": [
    "#load\n",
    "with open(pth_coef, \"rb\") as fp:   # Unpickling\n",
    "    reloaded_cc = pickle.load(fp)\n",
    "\n",
    "with open(pth_paulis, \"rb\") as fp:   # Unpickling\n",
    "    reloaded_P = pickle.load(fp)"
   ]
  },
  {
   "cell_type": "code",
   "execution_count": null,
   "metadata": {},
   "outputs": [],
   "source": [
    "reloaded_cc[0]"
   ]
  },
  {
   "cell_type": "code",
   "execution_count": null,
   "metadata": {},
   "outputs": [],
   "source": [
    "reloaded_P[0]"
   ]
  },
  {
   "cell_type": "code",
   "execution_count": null,
   "metadata": {},
   "outputs": [],
   "source": []
  },
  {
   "cell_type": "code",
   "execution_count": null,
   "metadata": {},
   "outputs": [],
   "source": []
  }
 ],
 "metadata": {
  "kernelspec": {
   "display_name": "venv",
   "language": "python",
   "name": "python3"
  },
  "language_info": {
   "codemirror_mode": {
    "name": "ipython",
    "version": 3
   },
   "file_extension": ".py",
   "mimetype": "text/x-python",
   "name": "python",
   "nbconvert_exporter": "python",
   "pygments_lexer": "ipython3",
   "version": "3.11.9"
  }
 },
 "nbformat": 4,
 "nbformat_minor": 2
}
