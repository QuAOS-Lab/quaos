{
 "cells": [
  {
   "cell_type": "code",
   "execution_count": 33,
   "id": "57181786",
   "metadata": {},
   "outputs": [],
   "source": [
    "import sys\n",
    "sys.path.append(\"././quaos\")\n",
    "import numpy as np\n",
    "from basic_functions import int_to_bases, bases_to_int\n",
    "from paulis import (PauliSum, PauliString, Pauli,)\n",
    "import sympy as sym\n",
    "from circuits import Gate, Circuit, Hadamard as H, SUM as CX, PHASE as S"
   ]
  },
  {
   "cell_type": "code",
   "execution_count": 84,
   "id": "ad6808d6",
   "metadata": {},
   "outputs": [
    {
     "data": {
      "text/latex": [
       "$\\displaystyle \\left[\\begin{matrix}0 & 0 & 0 & 0\\\\0 & 0 & 0 & 1.0\\\\0 & 1.0 & 0 & 0\\\\0 & 1.0 & 0 & 1.0\\end{matrix}\\right]$"
      ],
      "text/plain": [
       "Matrix([\n",
       "[0,   0, 0,   0],\n",
       "[0,   0, 0, 1.0],\n",
       "[0, 1.0, 0,   0],\n",
       "[0, 1.0, 0, 1.0]])"
      ]
     },
     "metadata": {},
     "output_type": "display_data"
    },
    {
     "data": {
      "text/latex": [
       "$\\displaystyle \\left[\\begin{matrix}0 & 0 & 0 & 0\\\\1.0 & 0 & 0 & 0\\\\0 & 0 & 1.0 & 0\\\\1.0 & 0 & 1.0 & 0\\end{matrix}\\right]$"
      ],
      "text/plain": [
       "Matrix([\n",
       "[  0, 0,   0, 0],\n",
       "[1.0, 0,   0, 0],\n",
       "[  0, 0, 1.0, 0],\n",
       "[1.0, 0, 1.0, 0]])"
      ]
     },
     "metadata": {},
     "output_type": "display_data"
    },
    {
     "data": {
      "text/latex": [
       "$\\displaystyle \\left[\\begin{matrix}0 & 0 & 0 & 1\\\\0 & 0 & 1 & 0\\\\0 & 1 & 0 & 0\\\\1 & 0 & 0 & 0\\end{matrix}\\right]$"
      ],
      "text/plain": [
       "Matrix([\n",
       "[0, 0, 0, 1],\n",
       "[0, 0, 1, 0],\n",
       "[0, 1, 0, 0],\n",
       "[1, 0, 0, 0]])"
      ]
     },
     "metadata": {},
     "output_type": "display_data"
    },
    {
     "data": {
      "text/latex": [
       "$\\displaystyle \\left[\\begin{matrix}0 & 0 & 0 & 0\\\\0 & 0 & 0 & 1.0\\\\0 & 1.0 & 0 & 0\\\\0 & 1.0 & 0 & 1.0\\end{matrix}\\right]$"
      ],
      "text/plain": [
       "Matrix([\n",
       "[0,   0, 0,   0],\n",
       "[0,   0, 0, 1.0],\n",
       "[0, 1.0, 0,   0],\n",
       "[0, 1.0, 0, 1.0]])"
      ]
     },
     "metadata": {},
     "output_type": "display_data"
    },
    {
     "data": {
      "text/latex": [
       "$\\displaystyle \\left[\\begin{matrix}0 & 0 & 0 & 0\\\\0 & 1.0 & 0 & 0\\\\0 & 0 & 0 & 1.0\\\\0 & 1.0 & 0 & 1.0\\end{matrix}\\right]$"
      ],
      "text/plain": [
       "Matrix([\n",
       "[0,   0, 0,   0],\n",
       "[0, 1.0, 0,   0],\n",
       "[0,   0, 0, 1.0],\n",
       "[0, 1.0, 0, 1.0]])"
      ]
     },
     "metadata": {},
     "output_type": "display_data"
    },
    {
     "data": {
      "text/latex": [
       "$\\displaystyle \\left[\\begin{matrix}0 & 0 & 1 & 0\\\\0 & 0 & 0 & 1\\\\1 & 0 & 0 & 0\\\\0 & 1 & 0 & 0\\end{matrix}\\right]$"
      ],
      "text/plain": [
       "Matrix([\n",
       "[0, 0, 1, 0],\n",
       "[0, 0, 0, 1],\n",
       "[1, 0, 0, 0],\n",
       "[0, 1, 0, 0]])"
      ]
     },
     "metadata": {},
     "output_type": "display_data"
    },
    {
     "data": {
      "text/latex": [
       "$\\displaystyle \\left[\\begin{matrix}0 & 0 & 0 & 0\\\\0 & 0 & 0 & 1.0\\\\0 & 1.0 & 0 & 0\\\\0 & 1.0 & 0 & 1.0\\end{matrix}\\right]$"
      ],
      "text/plain": [
       "Matrix([\n",
       "[0,   0, 0,   0],\n",
       "[0,   0, 0, 1.0],\n",
       "[0, 1.0, 0,   0],\n",
       "[0, 1.0, 0, 1.0]])"
      ]
     },
     "metadata": {},
     "output_type": "display_data"
    },
    {
     "data": {
      "text/latex": [
       "$\\displaystyle \\left[\\begin{matrix}0 & 0 & 0 & 0\\\\0 & 0 & 0 & 1.0\\\\0 & 1.0 & 0 & 0\\\\0 & 1.0 & 0 & 1.0\\end{matrix}\\right]$"
      ],
      "text/plain": [
       "Matrix([\n",
       "[0,   0, 0,   0],\n",
       "[0,   0, 0, 1.0],\n",
       "[0, 1.0, 0,   0],\n",
       "[0, 1.0, 0, 1.0]])"
      ]
     },
     "metadata": {},
     "output_type": "display_data"
    },
    {
     "data": {
      "text/latex": [
       "$\\displaystyle \\left[\\begin{matrix}0 & 0 & 1 & 0\\\\0 & 1 & 0 & 0\\\\1 & 0 & 0 & 0\\\\0 & 0 & 0 & 1\\end{matrix}\\right]$"
      ],
      "text/plain": [
       "Matrix([\n",
       "[0, 0, 1, 0],\n",
       "[0, 1, 0, 0],\n",
       "[1, 0, 0, 0],\n",
       "[0, 0, 0, 1]])"
      ]
     },
     "metadata": {},
     "output_type": "display_data"
    },
    {
     "data": {
      "text/latex": [
       "$\\displaystyle \\left[\\begin{matrix}0 & 0 & 0 & 0\\\\0 & 0 & 0 & 1.0\\\\0 & 1.0 & 0 & 0\\\\0 & 1.0 & 0 & 1.0\\end{matrix}\\right]$"
      ],
      "text/plain": [
       "Matrix([\n",
       "[0,   0, 0,   0],\n",
       "[0,   0, 0, 1.0],\n",
       "[0, 1.0, 0,   0],\n",
       "[0, 1.0, 0, 1.0]])"
      ]
     },
     "metadata": {},
     "output_type": "display_data"
    },
    {
     "data": {
      "text/latex": [
       "$\\displaystyle \\left[\\begin{matrix}0 & 0 & 0 & 0\\\\1.0 & 0 & 0 & 0\\\\0 & 0 & 1.0 & 0\\\\1.0 & 0 & 1.0 & 0\\end{matrix}\\right]$"
      ],
      "text/plain": [
       "Matrix([\n",
       "[  0, 0,   0, 0],\n",
       "[1.0, 0,   0, 0],\n",
       "[  0, 0, 1.0, 0],\n",
       "[1.0, 0, 1.0, 0]])"
      ]
     },
     "metadata": {},
     "output_type": "display_data"
    },
    {
     "data": {
      "text/latex": [
       "$\\displaystyle \\left[\\begin{matrix}0 & 0 & 0 & 1\\\\1 & 0 & 0 & 0\\\\0 & 1 & 0 & 0\\\\0 & 0 & 1 & 0\\end{matrix}\\right]$"
      ],
      "text/plain": [
       "Matrix([\n",
       "[0, 0, 0, 1],\n",
       "[1, 0, 0, 0],\n",
       "[0, 1, 0, 0],\n",
       "[0, 0, 1, 0]])"
      ]
     },
     "metadata": {},
     "output_type": "display_data"
    },
    {
     "data": {
      "text/latex": [
       "$\\displaystyle \\left[\\begin{matrix}0 & 0 & 0 & 0\\\\0 & 0 & 0 & 1.0\\\\0 & 1.0 & 0 & 0\\\\0 & 1.0 & 0 & 1.0\\end{matrix}\\right]$"
      ],
      "text/plain": [
       "Matrix([\n",
       "[0,   0, 0,   0],\n",
       "[0,   0, 0, 1.0],\n",
       "[0, 1.0, 0,   0],\n",
       "[0, 1.0, 0, 1.0]])"
      ]
     },
     "metadata": {},
     "output_type": "display_data"
    },
    {
     "data": {
      "text/latex": [
       "$\\displaystyle \\left[\\begin{matrix}0 & 0 & 0 & 0\\\\0 & 0 & 1.0 & 0\\\\1.0 & 0 & 0 & 0\\\\1.0 & 0 & 1.0 & 0\\end{matrix}\\right]$"
      ],
      "text/plain": [
       "Matrix([\n",
       "[  0, 0,   0, 0],\n",
       "[  0, 0, 1.0, 0],\n",
       "[1.0, 0,   0, 0],\n",
       "[1.0, 0, 1.0, 0]])"
      ]
     },
     "metadata": {},
     "output_type": "display_data"
    },
    {
     "data": {
      "text/latex": [
       "$\\displaystyle \\left[\\begin{matrix}0 & 1 & 0 & 0\\\\0 & 0 & 1 & 0\\\\0 & 0 & 0 & 1\\\\1 & 0 & 0 & 0\\end{matrix}\\right]$"
      ],
      "text/plain": [
       "Matrix([\n",
       "[0, 1, 0, 0],\n",
       "[0, 0, 1, 0],\n",
       "[0, 0, 0, 1],\n",
       "[1, 0, 0, 0]])"
      ]
     },
     "metadata": {},
     "output_type": "display_data"
    },
    {
     "data": {
      "text/latex": [
       "$\\displaystyle \\left[\\begin{matrix}0 & 0 & 0 & 0\\\\0 & 0 & 0 & 1.0\\\\0 & 1.0 & 0 & 0\\\\0 & 1.0 & 0 & 1.0\\end{matrix}\\right]$"
      ],
      "text/plain": [
       "Matrix([\n",
       "[0,   0, 0,   0],\n",
       "[0,   0, 0, 1.0],\n",
       "[0, 1.0, 0,   0],\n",
       "[0, 1.0, 0, 1.0]])"
      ]
     },
     "metadata": {},
     "output_type": "display_data"
    },
    {
     "data": {
      "text/latex": [
       "$\\displaystyle \\left[\\begin{matrix}0 & 0 & 0 & 0\\\\0 & 0 & 1.0 & 0\\\\1.0 & 0 & 0 & 0\\\\1.0 & 0 & 1.0 & 0\\end{matrix}\\right]$"
      ],
      "text/plain": [
       "Matrix([\n",
       "[  0, 0,   0, 0],\n",
       "[  0, 0, 1.0, 0],\n",
       "[1.0, 0,   0, 0],\n",
       "[1.0, 0, 1.0, 0]])"
      ]
     },
     "metadata": {},
     "output_type": "display_data"
    },
    {
     "data": {
      "text/latex": [
       "$\\displaystyle \\left[\\begin{matrix}0 & 1 & 0 & 0\\\\1 & 0 & 0 & 0\\\\0 & 0 & 0 & 1\\\\0 & 0 & 1 & 0\\end{matrix}\\right]$"
      ],
      "text/plain": [
       "Matrix([\n",
       "[0, 1, 0, 0],\n",
       "[1, 0, 0, 0],\n",
       "[0, 0, 0, 1],\n",
       "[0, 0, 1, 0]])"
      ]
     },
     "metadata": {},
     "output_type": "display_data"
    },
    {
     "ename": "KeyboardInterrupt",
     "evalue": "",
     "output_type": "error",
     "traceback": [
      "\u001b[1;31m---------------------------------------------------------------------------\u001b[0m",
      "\u001b[1;31mKeyboardInterrupt\u001b[0m                         Traceback (most recent call last)",
      "Cell \u001b[1;32mIn[84], line 57\u001b[0m\n\u001b[0;32m     55\u001b[0m \u001b[38;5;28;01mfor\u001b[39;00m n \u001b[38;5;129;01min\u001b[39;00m \u001b[38;5;28mrange\u001b[39m(\u001b[38;5;241m2\u001b[39m\u001b[38;5;241m*\u001b[39m\u001b[38;5;241m*\u001b[39m\u001b[38;5;241m16\u001b[39m):\n\u001b[0;32m     56\u001b[0m     \u001b[38;5;28mvars\u001b[39m \u001b[38;5;241m=\u001b[39m int_to_bases(n, [\u001b[38;5;241m2\u001b[39m,\u001b[38;5;241m2\u001b[39m,\u001b[38;5;241m2\u001b[39m,\u001b[38;5;241m2\u001b[39m,\u001b[38;5;241m2\u001b[39m,\u001b[38;5;241m2\u001b[39m,\u001b[38;5;241m2\u001b[39m,\u001b[38;5;241m2\u001b[39m,\u001b[38;5;241m2\u001b[39m,\u001b[38;5;241m2\u001b[39m,\u001b[38;5;241m2\u001b[39m,\u001b[38;5;241m2\u001b[39m,\u001b[38;5;241m2\u001b[39m,\u001b[38;5;241m2\u001b[39m,\u001b[38;5;241m2\u001b[39m,\u001b[38;5;241m2\u001b[39m])\n\u001b[1;32m---> 57\u001b[0m     subs_bounds \u001b[38;5;241m=\u001b[39m bounds\u001b[38;5;241m.\u001b[39msubs({r11: \u001b[38;5;28mvars\u001b[39m[\u001b[38;5;241m0\u001b[39m],r12: \u001b[38;5;28mvars\u001b[39m[\u001b[38;5;241m1\u001b[39m],r21: \u001b[38;5;28mvars\u001b[39m[\u001b[38;5;241m2\u001b[39m],r22: \u001b[38;5;28mvars\u001b[39m[\u001b[38;5;241m3\u001b[39m],r31: \u001b[38;5;28mvars\u001b[39m[\u001b[38;5;241m4\u001b[39m],r32: \u001b[38;5;28mvars\u001b[39m[\u001b[38;5;241m5\u001b[39m],r41: \u001b[38;5;28mvars\u001b[39m[\u001b[38;5;241m6\u001b[39m],r42: \u001b[38;5;28mvars\u001b[39m[\u001b[38;5;241m7\u001b[39m],s11: \u001b[38;5;28mvars\u001b[39m[\u001b[38;5;241m8\u001b[39m],s12: \u001b[38;5;28mvars\u001b[39m[\u001b[38;5;241m9\u001b[39m],s21: \u001b[38;5;28mvars\u001b[39m[\u001b[38;5;241m10\u001b[39m],s22: \u001b[38;5;28mvars\u001b[39m[\u001b[38;5;241m11\u001b[39m],s31: \u001b[38;5;28mvars\u001b[39m[\u001b[38;5;241m12\u001b[39m],s32: \u001b[38;5;28mvars\u001b[39m[\u001b[38;5;241m13\u001b[39m],s41: \u001b[38;5;28mvars\u001b[39m[\u001b[38;5;241m14\u001b[39m],s42: \u001b[38;5;28mvars\u001b[39m[\u001b[38;5;241m15\u001b[39m]})\n\u001b[0;32m     58\u001b[0m     \u001b[38;5;66;03m#display(subs_bounds)\u001b[39;00m\n\u001b[0;32m     59\u001b[0m     \u001b[38;5;28;01mif\u001b[39;00m subs_bounds\u001b[38;5;241m.\u001b[39mequals(sym\u001b[38;5;241m.\u001b[39mMatrix\u001b[38;5;241m.\u001b[39mzeros(subs_bounds\u001b[38;5;241m.\u001b[39mrows, subs_bounds\u001b[38;5;241m.\u001b[39mcols)):\n",
      "File \u001b[1;32mc:\\Users\\Rick\\anaconda3\\Lib\\site-packages\\sympy\\matrices\\common.py:2426\u001b[0m, in \u001b[0;36mMatrixOperations.subs\u001b[1;34m(self, *args, **kwargs)\u001b[0m\n\u001b[0;32m   2423\u001b[0m \u001b[38;5;28;01mif\u001b[39;00m \u001b[38;5;28mlen\u001b[39m(args) \u001b[38;5;241m==\u001b[39m \u001b[38;5;241m1\u001b[39m \u001b[38;5;129;01mand\u001b[39;00m  \u001b[38;5;129;01mnot\u001b[39;00m \u001b[38;5;28misinstance\u001b[39m(args[\u001b[38;5;241m0\u001b[39m], (\u001b[38;5;28mdict\u001b[39m, \u001b[38;5;28mset\u001b[39m)) \u001b[38;5;129;01mand\u001b[39;00m \u001b[38;5;28miter\u001b[39m(args[\u001b[38;5;241m0\u001b[39m]) \u001b[38;5;129;01mand\u001b[39;00m \u001b[38;5;129;01mnot\u001b[39;00m is_sequence(args[\u001b[38;5;241m0\u001b[39m]):\n\u001b[0;32m   2424\u001b[0m     args \u001b[38;5;241m=\u001b[39m (\u001b[38;5;28mlist\u001b[39m(args[\u001b[38;5;241m0\u001b[39m]),)\n\u001b[1;32m-> 2426\u001b[0m \u001b[38;5;28;01mreturn\u001b[39;00m \u001b[38;5;28mself\u001b[39m\u001b[38;5;241m.\u001b[39mapplyfunc(\u001b[38;5;28;01mlambda\u001b[39;00m x: x\u001b[38;5;241m.\u001b[39msubs(\u001b[38;5;241m*\u001b[39margs, \u001b[38;5;241m*\u001b[39m\u001b[38;5;241m*\u001b[39mkwargs))\n",
      "File \u001b[1;32mc:\\Users\\Rick\\anaconda3\\Lib\\site-packages\\sympy\\matrices\\common.py:2058\u001b[0m, in \u001b[0;36mMatrixOperations.applyfunc\u001b[1;34m(self, f)\u001b[0m\n\u001b[0;32m   2055\u001b[0m \u001b[38;5;28;01mif\u001b[39;00m \u001b[38;5;129;01mnot\u001b[39;00m \u001b[38;5;28mcallable\u001b[39m(f):\n\u001b[0;32m   2056\u001b[0m     \u001b[38;5;28;01mraise\u001b[39;00m \u001b[38;5;167;01mTypeError\u001b[39;00m(\u001b[38;5;124m\"\u001b[39m\u001b[38;5;124m`f` must be callable.\u001b[39m\u001b[38;5;124m\"\u001b[39m)\n\u001b[1;32m-> 2058\u001b[0m \u001b[38;5;28;01mreturn\u001b[39;00m \u001b[38;5;28mself\u001b[39m\u001b[38;5;241m.\u001b[39m_eval_applyfunc(f)\n",
      "File \u001b[1;32mc:\\Users\\Rick\\anaconda3\\Lib\\site-packages\\sympy\\matrices\\common.py:2000\u001b[0m, in \u001b[0;36mMatrixOperations._eval_applyfunc\u001b[1;34m(self, f)\u001b[0m\n\u001b[0;32m   1999\u001b[0m \u001b[38;5;28;01mdef\u001b[39;00m \u001b[38;5;21m_eval_applyfunc\u001b[39m(\u001b[38;5;28mself\u001b[39m, f):\n\u001b[1;32m-> 2000\u001b[0m     out \u001b[38;5;241m=\u001b[39m \u001b[38;5;28mself\u001b[39m\u001b[38;5;241m.\u001b[39m_new(\u001b[38;5;28mself\u001b[39m\u001b[38;5;241m.\u001b[39mrows, \u001b[38;5;28mself\u001b[39m\u001b[38;5;241m.\u001b[39mcols, [f(x) \u001b[38;5;28;01mfor\u001b[39;00m x \u001b[38;5;129;01min\u001b[39;00m \u001b[38;5;28mself\u001b[39m])\n\u001b[0;32m   2001\u001b[0m     \u001b[38;5;28;01mreturn\u001b[39;00m out\n",
      "File \u001b[1;32mc:\\Users\\Rick\\anaconda3\\Lib\\site-packages\\sympy\\matrices\\common.py:2000\u001b[0m, in \u001b[0;36m<listcomp>\u001b[1;34m(.0)\u001b[0m\n\u001b[0;32m   1999\u001b[0m \u001b[38;5;28;01mdef\u001b[39;00m \u001b[38;5;21m_eval_applyfunc\u001b[39m(\u001b[38;5;28mself\u001b[39m, f):\n\u001b[1;32m-> 2000\u001b[0m     out \u001b[38;5;241m=\u001b[39m \u001b[38;5;28mself\u001b[39m\u001b[38;5;241m.\u001b[39m_new(\u001b[38;5;28mself\u001b[39m\u001b[38;5;241m.\u001b[39mrows, \u001b[38;5;28mself\u001b[39m\u001b[38;5;241m.\u001b[39mcols, [f(x) \u001b[38;5;28;01mfor\u001b[39;00m x \u001b[38;5;129;01min\u001b[39;00m \u001b[38;5;28mself\u001b[39m])\n\u001b[0;32m   2001\u001b[0m     \u001b[38;5;28;01mreturn\u001b[39;00m out\n",
      "File \u001b[1;32mc:\\Users\\Rick\\anaconda3\\Lib\\site-packages\\sympy\\matrices\\common.py:2426\u001b[0m, in \u001b[0;36mMatrixOperations.subs.<locals>.<lambda>\u001b[1;34m(x)\u001b[0m\n\u001b[0;32m   2423\u001b[0m \u001b[38;5;28;01mif\u001b[39;00m \u001b[38;5;28mlen\u001b[39m(args) \u001b[38;5;241m==\u001b[39m \u001b[38;5;241m1\u001b[39m \u001b[38;5;129;01mand\u001b[39;00m  \u001b[38;5;129;01mnot\u001b[39;00m \u001b[38;5;28misinstance\u001b[39m(args[\u001b[38;5;241m0\u001b[39m], (\u001b[38;5;28mdict\u001b[39m, \u001b[38;5;28mset\u001b[39m)) \u001b[38;5;129;01mand\u001b[39;00m \u001b[38;5;28miter\u001b[39m(args[\u001b[38;5;241m0\u001b[39m]) \u001b[38;5;129;01mand\u001b[39;00m \u001b[38;5;129;01mnot\u001b[39;00m is_sequence(args[\u001b[38;5;241m0\u001b[39m]):\n\u001b[0;32m   2424\u001b[0m     args \u001b[38;5;241m=\u001b[39m (\u001b[38;5;28mlist\u001b[39m(args[\u001b[38;5;241m0\u001b[39m]),)\n\u001b[1;32m-> 2426\u001b[0m \u001b[38;5;28;01mreturn\u001b[39;00m \u001b[38;5;28mself\u001b[39m\u001b[38;5;241m.\u001b[39mapplyfunc(\u001b[38;5;28;01mlambda\u001b[39;00m x: x\u001b[38;5;241m.\u001b[39msubs(\u001b[38;5;241m*\u001b[39margs, \u001b[38;5;241m*\u001b[39m\u001b[38;5;241m*\u001b[39mkwargs))\n",
      "File \u001b[1;32mc:\\Users\\Rick\\anaconda3\\Lib\\site-packages\\sympy\\core\\basic.py:971\u001b[0m, in \u001b[0;36mBasic.subs\u001b[1;34m(self, *args, **kwargs)\u001b[0m\n\u001b[0;32m    969\u001b[0m \u001b[38;5;66;03m# do infinities first\u001b[39;00m\n\u001b[0;32m    970\u001b[0m \u001b[38;5;28;01mif\u001b[39;00m \u001b[38;5;129;01mnot\u001b[39;00m simultaneous:\n\u001b[1;32m--> 971\u001b[0m     redo \u001b[38;5;241m=\u001b[39m [i \u001b[38;5;28;01mfor\u001b[39;00m i, seq \u001b[38;5;129;01min\u001b[39;00m \u001b[38;5;28menumerate\u001b[39m(sequence) \u001b[38;5;28;01mif\u001b[39;00m seq[\u001b[38;5;241m1\u001b[39m] \u001b[38;5;129;01min\u001b[39;00m _illegal]\n\u001b[0;32m    972\u001b[0m     \u001b[38;5;28;01mfor\u001b[39;00m i \u001b[38;5;129;01min\u001b[39;00m \u001b[38;5;28mreversed\u001b[39m(redo):\n\u001b[0;32m    973\u001b[0m         sequence\u001b[38;5;241m.\u001b[39minsert(\u001b[38;5;241m0\u001b[39m, sequence\u001b[38;5;241m.\u001b[39mpop(i))\n",
      "File \u001b[1;32mc:\\Users\\Rick\\anaconda3\\Lib\\site-packages\\sympy\\core\\basic.py:971\u001b[0m, in \u001b[0;36m<listcomp>\u001b[1;34m(.0)\u001b[0m\n\u001b[0;32m    969\u001b[0m \u001b[38;5;66;03m# do infinities first\u001b[39;00m\n\u001b[0;32m    970\u001b[0m \u001b[38;5;28;01mif\u001b[39;00m \u001b[38;5;129;01mnot\u001b[39;00m simultaneous:\n\u001b[1;32m--> 971\u001b[0m     redo \u001b[38;5;241m=\u001b[39m [i \u001b[38;5;28;01mfor\u001b[39;00m i, seq \u001b[38;5;129;01min\u001b[39;00m \u001b[38;5;28menumerate\u001b[39m(sequence) \u001b[38;5;28;01mif\u001b[39;00m seq[\u001b[38;5;241m1\u001b[39m] \u001b[38;5;129;01min\u001b[39;00m _illegal]\n\u001b[0;32m    972\u001b[0m     \u001b[38;5;28;01mfor\u001b[39;00m i \u001b[38;5;129;01min\u001b[39;00m \u001b[38;5;28mreversed\u001b[39m(redo):\n\u001b[0;32m    973\u001b[0m         sequence\u001b[38;5;241m.\u001b[39minsert(\u001b[38;5;241m0\u001b[39m, sequence\u001b[38;5;241m.\u001b[39mpop(i))\n",
      "File \u001b[1;32mc:\\Users\\Rick\\anaconda3\\Lib\\site-packages\\sympy\\core\\numbers.py:3584\u001b[0m, in \u001b[0;36mNegativeInfinity.__eq__\u001b[1;34m(self, other)\u001b[0m\n\u001b[0;32m   3583\u001b[0m \u001b[38;5;28;01mdef\u001b[39;00m \u001b[38;5;21m__eq__\u001b[39m(\u001b[38;5;28mself\u001b[39m, other):\n\u001b[1;32m-> 3584\u001b[0m     \u001b[38;5;28;01mreturn\u001b[39;00m other \u001b[38;5;129;01mis\u001b[39;00m S\u001b[38;5;241m.\u001b[39mNegativeInfinity \u001b[38;5;129;01mor\u001b[39;00m other \u001b[38;5;241m==\u001b[39m \u001b[38;5;28mfloat\u001b[39m(\u001b[38;5;124m'\u001b[39m\u001b[38;5;124m-inf\u001b[39m\u001b[38;5;124m'\u001b[39m)\n",
      "File \u001b[1;32mc:\\Users\\Rick\\anaconda3\\Lib\\site-packages\\sympy\\core\\numbers.py:2243\u001b[0m, in \u001b[0;36mInteger.__eq__\u001b[1;34m(self, other)\u001b[0m\n\u001b[0;32m   2241\u001b[0m \u001b[38;5;28;01melif\u001b[39;00m \u001b[38;5;28misinstance\u001b[39m(other, Integer):\n\u001b[0;32m   2242\u001b[0m     \u001b[38;5;28;01mreturn\u001b[39;00m (\u001b[38;5;28mself\u001b[39m\u001b[38;5;241m.\u001b[39mp \u001b[38;5;241m==\u001b[39m other\u001b[38;5;241m.\u001b[39mp)\n\u001b[1;32m-> 2243\u001b[0m \u001b[38;5;28;01mreturn\u001b[39;00m Rational\u001b[38;5;241m.\u001b[39m\u001b[38;5;21m__eq__\u001b[39m(\u001b[38;5;28mself\u001b[39m, other)\n",
      "File \u001b[1;32mc:\\Users\\Rick\\anaconda3\\Lib\\site-packages\\sympy\\core\\numbers.py:1869\u001b[0m, in \u001b[0;36mRational.__eq__\u001b[1;34m(self, other)\u001b[0m\n\u001b[0;32m   1867\u001b[0m \u001b[38;5;28;01mdef\u001b[39;00m \u001b[38;5;21m__eq__\u001b[39m(\u001b[38;5;28mself\u001b[39m, other):\n\u001b[0;32m   1868\u001b[0m     \u001b[38;5;28;01mtry\u001b[39;00m:\n\u001b[1;32m-> 1869\u001b[0m         other \u001b[38;5;241m=\u001b[39m _sympify(other)\n\u001b[0;32m   1870\u001b[0m     \u001b[38;5;28;01mexcept\u001b[39;00m SympifyError:\n\u001b[0;32m   1871\u001b[0m         \u001b[38;5;28;01mreturn\u001b[39;00m \u001b[38;5;28mNotImplemented\u001b[39m\n",
      "File \u001b[1;32mc:\\Users\\Rick\\anaconda3\\Lib\\site-packages\\sympy\\core\\sympify.py:503\u001b[0m, in \u001b[0;36m_sympify\u001b[1;34m(a)\u001b[0m\n\u001b[0;32m    498\u001b[0m         \u001b[38;5;28;01mraise\u001b[39;00m SympifyError(\u001b[38;5;124m'\u001b[39m\u001b[38;5;124mcould not parse \u001b[39m\u001b[38;5;132;01m%r\u001b[39;00m\u001b[38;5;124m'\u001b[39m \u001b[38;5;241m%\u001b[39m a, exc)\n\u001b[0;32m    500\u001b[0m     \u001b[38;5;28;01mreturn\u001b[39;00m expr\n\u001b[1;32m--> 503\u001b[0m \u001b[38;5;28;01mdef\u001b[39;00m \u001b[38;5;21m_sympify\u001b[39m(a):\n\u001b[0;32m    504\u001b[0m \u001b[38;5;250m    \u001b[39m\u001b[38;5;124;03m\"\"\"\u001b[39;00m\n\u001b[0;32m    505\u001b[0m \u001b[38;5;124;03m    Short version of :func:`~.sympify` for internal usage for ``__add__`` and\u001b[39;00m\n\u001b[0;32m    506\u001b[0m \u001b[38;5;124;03m    ``__eq__`` methods where it is ok to allow some things (like Python\u001b[39;00m\n\u001b[1;32m   (...)\u001b[0m\n\u001b[0;32m    527\u001b[0m \n\u001b[0;32m    528\u001b[0m \u001b[38;5;124;03m    \"\"\"\u001b[39;00m\n\u001b[0;32m    529\u001b[0m     \u001b[38;5;28;01mreturn\u001b[39;00m sympify(a, strict\u001b[38;5;241m=\u001b[39m\u001b[38;5;28;01mTrue\u001b[39;00m)\n",
      "\u001b[1;31mKeyboardInterrupt\u001b[0m: "
     ]
    }
   ],
   "source": [
    "# all two qubit 4 Pauli hamiltonians\n",
    "r11, r12, r21, r22, r31, r32, r41, r42 = sym.symbols('r11 r12 r21 r22 r31 r32 r41 r42')\n",
    "s11, s12, s21, s22, s31, s32, s41, s42 = sym.symbols('s11 s12 s21 s22 s31 s32 s41 s42')\n",
    "\n",
    "M = sym.Matrix([[r11, r12,s11, s12],[r21, r22, s21, s22], [r31, r32, s31, s32], [r41, r42, s41, s42]])\n",
    "J = sym.Matrix([[0, 0, 1, 0],[0, 0, 0, 1], [1, 0, 0, 0], [0, 1, 0, 0]])\n",
    "H = sym.Matrix([[0, 0, 1, 0],[0, 1, 0, 0], [1, 0, 0, 0], [0, 0, 0, 1]])\n",
    "\n",
    "dims = [2,2]\n",
    "n_paulis = 4\n",
    "pauli_string_max_options = np.prod([2,2,2,2])\n",
    "#print(pauli_string_max_options)\n",
    "coefficients = [1 for i in range(n_paulis)]\n",
    "for i in range(pauli_string_max_options):\n",
    "    for j in range(pauli_string_max_options):\n",
    "        if i!= j:\n",
    "            for k in range(pauli_string_max_options):\n",
    "                if k != i and k != j:\n",
    "                    for l in range(pauli_string_max_options):\n",
    "                        if l != i and l != j and l != k:\n",
    "                            pauli_strings = ['' for i in range(n_paulis)]\n",
    "                            exponents0 = int_to_bases(i, [2,2,2,2])\n",
    "                            for m in range(2):\n",
    "                                r, s = int(exponents0[2*m]), int(exponents0[2*m+1])\n",
    "                                pauli_strings[0] += f\"x{r}z{s} \"\n",
    "                            exponents1 = int_to_bases(j, [2,2,2,2])\n",
    "                            for m in range(2):\n",
    "                                r, s = int(exponents1[2*m]), int(exponents1[2*m+1])\n",
    "                                pauli_strings[1] += f\"x{r}z{s} \"\n",
    "                            exponents2 = int_to_bases(k, [2,2,2,2])\n",
    "                            for m in range(2):\n",
    "                                r, s = int(exponents2[2*m]), int(exponents2[2*m+1])\n",
    "                                pauli_strings[2] += f\"x{r}z{s} \"\n",
    "                            exponents3 = int_to_bases(l, [2,2,2,2])\n",
    "                            for m in range(2):\n",
    "                                r, s = int(exponents3[2*m]), int(exponents3[2*m+1])\n",
    "                                pauli_strings[3] += f\"x{r}z{s}\"\n",
    "                            #print(pauli_strings)\n",
    "                            P = PauliSum(pauli_strings, weights=coefficients ,dimensions=dims, phases=None, standardise=False)\n",
    "                            P_sym = sym.Matrix(P.symplectic())\n",
    "\n",
    "                            # P_c\n",
    "                            P_c = (M*P_sym.T).T\n",
    "                            H_P_c = P_c*H.T\n",
    "                            #display(P_c)\n",
    "                            #display(P_c*H.T)\n",
    "\n",
    "\n",
    "\n",
    "                            # Boundary conditions\n",
    "                            bounds = M.T * J * M - J\n",
    "                            #display(bounds)\n",
    "\n",
    "                            # Plug in variables to find minimum of cost function\n",
    "                            for n in range(2**16):\n",
    "                                vars = int_to_bases(n, [2,2,2,2,2,2,2,2,2,2,2,2,2,2,2,2])\n",
    "                                subs_bounds = bounds.subs({r11: vars[0],r12: vars[1],r21: vars[2],r22: vars[3],r31: vars[4],r32: vars[5],r41: vars[6],r42: vars[7],s11: vars[8],s12: vars[9],s21: vars[10],s22: vars[11],s31: vars[12],s32: vars[13],s41: vars[14],s42: vars[15]})\n",
    "                                #display(subs_bounds)\n",
    "                                if subs_bounds.equals(sym.Matrix.zeros(subs_bounds.rows, subs_bounds.cols)):\n",
    "                                    subs_H_P_c = H_P_c.subs({r11: vars[0],r12: vars[1],r21: vars[2],r22: vars[3],r31: vars[4],r32: vars[5],r41: vars[6],r42: vars[7],s11: vars[8],s12: vars[9],s21: vars[10],s22: vars[11],s31: vars[12],s32: vars[13],s41: vars[14],s42: vars[15]})\n",
    "                                    subs_P_c = P_c.subs({r11: vars[0],r12: vars[1],r21: vars[2],r22: vars[3],r31: vars[4],r32: vars[5],r41: vars[6],r42: vars[7],s11: vars[8],s12: vars[9],s21: vars[10],s22: vars[11],s31: vars[12],s32: vars[13],s41: vars[14],s42: vars[15]})\n",
    "                                    dictionary = {matrix_to_string(subs_P_c[0,:]):-coefficients[0], matrix_to_string(subs_P_c[1,:]):-coefficients[1], matrix_to_string(subs_P_c[2,:]):-coefficients[2], matrix_to_string(subs_P_c[3,:]):-coefficients[3]}\n",
    "                                    #display(dictionary)\n",
    "                                    dictionary[matrix_to_string(subs_H_P_c[0,:])] += coefficients[0]\n",
    "                                    dictionary[matrix_to_string(subs_H_P_c[1,:])] += coefficients[1]\n",
    "                                    dictionary[matrix_to_string(subs_H_P_c[2,:])] += coefficients[2]\n",
    "                                    dictionary[matrix_to_string(subs_H_P_c[3,:])] += coefficients[3]\n",
    "                                    #display(dictionary)\n",
    "                                    cost = sum(value for value in dictionary.values())\n",
    "                                    if cost == 0:\n",
    "                                        display(P_sym)\n",
    "                                        display(subs_P_c)\n",
    "                                        subs_M = M.subs({r11: vars[0],r12: vars[1],r21: vars[2],r22: vars[3],r31: vars[4],r32: vars[5],r41: vars[6],r42: vars[7],s11: vars[8],s12: vars[9],s21: vars[10],s22: vars[11],s31: vars[12],s32: vars[13],s41: vars[14],s42: vars[15]})\n",
    "                                        display(subs_M)\n",
    "\n",
    "                            "
   ]
  },
  {
   "cell_type": "code",
   "execution_count": 34,
   "id": "252d1bf6",
   "metadata": {},
   "outputs": [
    {
     "data": {
      "text/latex": [
       "$\\displaystyle \\left[\\begin{matrix}0 & 0 & 0 & 0\\\\0 & 0 & 0 & 1\\\\0 & 1 & 0 & 0\\\\0 & 1 & 0 & 1\\end{matrix}\\right]$"
      ],
      "text/plain": [
       "Matrix([\n",
       "[0, 0, 0, 0],\n",
       "[0, 0, 0, 1],\n",
       "[0, 1, 0, 0],\n",
       "[0, 1, 0, 1]])"
      ]
     },
     "metadata": {},
     "output_type": "display_data"
    },
    {
     "data": {
      "text/latex": [
       "$\\displaystyle \\left[\\begin{matrix}2 r_{11} r_{31} + 2 r_{21} r_{41} & r_{11} r_{32} + r_{12} r_{31} + r_{21} r_{42} + r_{22} r_{41} & r_{11} s_{31} + r_{21} s_{41} + r_{31} s_{11} + r_{41} s_{21} - 1 & r_{11} s_{32} + r_{21} s_{42} + r_{31} s_{12} + r_{41} s_{22}\\\\r_{11} r_{32} + r_{12} r_{31} + r_{21} r_{42} + r_{22} r_{41} & 2 r_{12} r_{32} + 2 r_{22} r_{42} & r_{12} s_{31} + r_{22} s_{41} + r_{32} s_{11} + r_{42} s_{21} & r_{12} s_{32} + r_{22} s_{42} + r_{32} s_{12} + r_{42} s_{22} - 1\\\\r_{11} s_{31} + r_{21} s_{41} + r_{31} s_{11} + r_{41} s_{21} - 1 & r_{12} s_{31} + r_{22} s_{41} + r_{32} s_{11} + r_{42} s_{21} & 2 s_{11} s_{31} + 2 s_{21} s_{41} & s_{11} s_{32} + s_{12} s_{31} + s_{21} s_{42} + s_{22} s_{41}\\\\r_{11} s_{32} + r_{21} s_{42} + r_{31} s_{12} + r_{41} s_{22} & r_{12} s_{32} + r_{22} s_{42} + r_{32} s_{12} + r_{42} s_{22} - 1 & s_{11} s_{32} + s_{12} s_{31} + s_{21} s_{42} + s_{22} s_{41} & 2 s_{12} s_{32} + 2 s_{22} s_{42}\\end{matrix}\\right]$"
      ],
      "text/plain": [
       "Matrix([\n",
       "[                    2*r11*r31 + 2*r21*r41,     r11*r32 + r12*r31 + r21*r42 + r22*r41, r11*s31 + r21*s41 + r31*s11 + r41*s21 - 1,     r11*s32 + r21*s42 + r31*s12 + r41*s22],\n",
       "[    r11*r32 + r12*r31 + r21*r42 + r22*r41,                     2*r12*r32 + 2*r22*r42,     r12*s31 + r22*s41 + r32*s11 + r42*s21, r12*s32 + r22*s42 + r32*s12 + r42*s22 - 1],\n",
       "[r11*s31 + r21*s41 + r31*s11 + r41*s21 - 1,     r12*s31 + r22*s41 + r32*s11 + r42*s21,                     2*s11*s31 + 2*s21*s41,     s11*s32 + s12*s31 + s21*s42 + s22*s41],\n",
       "[    r11*s32 + r21*s42 + r31*s12 + r41*s22, r12*s32 + r22*s42 + r32*s12 + r42*s22 - 1,     s11*s32 + s12*s31 + s21*s42 + s22*s41,                     2*s12*s32 + 2*s22*s42]])"
      ]
     },
     "metadata": {},
     "output_type": "display_data"
    },
    {
     "name": "stdout",
     "output_type": "stream",
     "text": [
      "[0, 0] [[0, 0]]\n",
      "<class 'numpy.ndarray'>\n",
      "x0z0 x0z0 \n"
     ]
    },
    {
     "ename": "TypeError",
     "evalue": "Unsupported type <class 'paulis.pauli_sum.PauliSum'> for Gate.act. Expected Pauli, PauliString or PauliSum.",
     "output_type": "error",
     "traceback": [
      "\u001b[1;31m---------------------------------------------------------------------------\u001b[0m",
      "\u001b[1;31mTypeError\u001b[0m                                 Traceback (most recent call last)",
      "Cell \u001b[1;32mIn[34], line 69\u001b[0m\n\u001b[0;32m     67\u001b[0m subs_P_c \u001b[38;5;241m=\u001b[39m P_c\u001b[38;5;241m.\u001b[39msubs({r11: \u001b[38;5;28mvars\u001b[39m[\u001b[38;5;241m0\u001b[39m],r12: \u001b[38;5;28mvars\u001b[39m[\u001b[38;5;241m1\u001b[39m],r21: \u001b[38;5;28mvars\u001b[39m[\u001b[38;5;241m2\u001b[39m],r22: \u001b[38;5;28mvars\u001b[39m[\u001b[38;5;241m3\u001b[39m],r31: \u001b[38;5;28mvars\u001b[39m[\u001b[38;5;241m4\u001b[39m],r32: \u001b[38;5;28mvars\u001b[39m[\u001b[38;5;241m5\u001b[39m],r41: \u001b[38;5;28mvars\u001b[39m[\u001b[38;5;241m6\u001b[39m],r42: \u001b[38;5;28mvars\u001b[39m[\u001b[38;5;241m7\u001b[39m],s11: \u001b[38;5;28mvars\u001b[39m[\u001b[38;5;241m8\u001b[39m],s12: \u001b[38;5;28mvars\u001b[39m[\u001b[38;5;241m9\u001b[39m],s21: \u001b[38;5;28mvars\u001b[39m[\u001b[38;5;241m10\u001b[39m],s22: \u001b[38;5;28mvars\u001b[39m[\u001b[38;5;241m11\u001b[39m],s31: \u001b[38;5;28mvars\u001b[39m[\u001b[38;5;241m12\u001b[39m],s32: \u001b[38;5;28mvars\u001b[39m[\u001b[38;5;241m13\u001b[39m],s41: \u001b[38;5;28mvars\u001b[39m[\u001b[38;5;241m14\u001b[39m],s42: \u001b[38;5;28mvars\u001b[39m[\u001b[38;5;241m15\u001b[39m]})\n\u001b[0;32m     68\u001b[0m subs_P_c_PS \u001b[38;5;241m=\u001b[39m PauliSum([PauliString(np\u001b[38;5;241m.\u001b[39marray(subs_P_c[i,\u001b[38;5;241m0\u001b[39m:\u001b[38;5;241m2\u001b[39m]\u001b[38;5;241m.\u001b[39mtolist()[\u001b[38;5;241m0\u001b[39m]),np\u001b[38;5;241m.\u001b[39marray(subs_P_c[i,\u001b[38;5;241m2\u001b[39m:\u001b[38;5;241m4\u001b[39m]\u001b[38;5;241m.\u001b[39mtolist()[\u001b[38;5;241m0\u001b[39m]),dimensions\u001b[38;5;241m=\u001b[39mdims) \u001b[38;5;28;01mfor\u001b[39;00m i \u001b[38;5;129;01min\u001b[39;00m \u001b[38;5;28mrange\u001b[39m(\u001b[38;5;241m4\u001b[39m)],dimensions\u001b[38;5;241m=\u001b[39mdims, phases\u001b[38;5;241m=\u001b[39m\u001b[38;5;28;01mNone\u001b[39;00m, standardise\u001b[38;5;241m=\u001b[39m\u001b[38;5;28;01mFalse\u001b[39;00m)\n\u001b[1;32m---> 69\u001b[0m H_P_c_PS \u001b[38;5;241m=\u001b[39m C\u001b[38;5;241m.\u001b[39mact(subs_P_c_PS)\n\u001b[0;32m     70\u001b[0m subs_H_P_c \u001b[38;5;241m=\u001b[39m sym\u001b[38;5;241m.\u001b[39mMatrix(np\u001b[38;5;241m.\u001b[39marray(H_P_c_PS\u001b[38;5;241m.\u001b[39msymplectic(),dtype\u001b[38;5;241m=\u001b[39mnp\u001b[38;5;241m.\u001b[39mint32))\n\u001b[0;32m     72\u001b[0m dictionary \u001b[38;5;241m=\u001b[39m {matrix_to_string(subs_P_c[\u001b[38;5;241m0\u001b[39m,:]):\u001b[38;5;241m-\u001b[39mcoefficients[\u001b[38;5;241m0\u001b[39m], matrix_to_string(subs_P_c[\u001b[38;5;241m1\u001b[39m,:]):\u001b[38;5;241m-\u001b[39mcoefficients[\u001b[38;5;241m1\u001b[39m], matrix_to_string(subs_P_c[\u001b[38;5;241m2\u001b[39m,:]):\u001b[38;5;241m-\u001b[39mcoefficients[\u001b[38;5;241m2\u001b[39m], matrix_to_string(subs_P_c[\u001b[38;5;241m3\u001b[39m,:]):\u001b[38;5;241m-\u001b[39mcoefficients[\u001b[38;5;241m3\u001b[39m]}\n",
      "File \u001b[1;32mc:\\Users\\Rick\\Desktop\\VSCode\\quaos\\././quaos\\circuits\\Circuits.py:112\u001b[0m, in \u001b[0;36mCircuit.act\u001b[1;34m(self, pauli)\u001b[0m\n\u001b[0;32m    110\u001b[0m     \u001b[38;5;28;01mraise\u001b[39;00m \u001b[38;5;167;01mValueError\u001b[39;00m(\u001b[38;5;124m\"\u001b[39m\u001b[38;5;124mPauli dimensions do not match circuit dimensions\u001b[39m\u001b[38;5;124m\"\u001b[39m)\n\u001b[0;32m    111\u001b[0m \u001b[38;5;28;01mfor\u001b[39;00m gate \u001b[38;5;129;01min\u001b[39;00m \u001b[38;5;28mself\u001b[39m\u001b[38;5;241m.\u001b[39mgates:\n\u001b[1;32m--> 112\u001b[0m     pauli \u001b[38;5;241m=\u001b[39m gate\u001b[38;5;241m.\u001b[39mact(pauli)\n\u001b[0;32m    113\u001b[0m \u001b[38;5;28;01mreturn\u001b[39;00m pauli\n",
      "File \u001b[1;32mc:\\Users\\Rick\\Desktop\\VSCode\\quaos\\././quaos\\circuits\\Gates.py:43\u001b[0m, in \u001b[0;36mGate.act\u001b[1;34m(self, P)\u001b[0m\n\u001b[0;32m     41\u001b[0m     \u001b[38;5;28;01mreturn\u001b[39;00m \u001b[38;5;28mself\u001b[39m\u001b[38;5;241m.\u001b[39m_act_on_pauli_sum(P)\n\u001b[0;32m     42\u001b[0m \u001b[38;5;28;01melse\u001b[39;00m:\n\u001b[1;32m---> 43\u001b[0m     \u001b[38;5;28;01mraise\u001b[39;00m \u001b[38;5;167;01mTypeError\u001b[39;00m(\u001b[38;5;124mf\u001b[39m\u001b[38;5;124m\"\u001b[39m\u001b[38;5;124mUnsupported type \u001b[39m\u001b[38;5;132;01m{\u001b[39;00m\u001b[38;5;28mtype\u001b[39m(P)\u001b[38;5;132;01m}\u001b[39;00m\u001b[38;5;124m for Gate.act. Expected Pauli, PauliString or PauliSum.\u001b[39m\u001b[38;5;124m\"\u001b[39m)\n",
      "\u001b[1;31mTypeError\u001b[0m: Unsupported type <class 'paulis.pauli_sum.PauliSum'> for Gate.act. Expected Pauli, PauliString or PauliSum."
     ]
    }
   ],
   "source": [
    "# all two qubit 4 Pauli hamiltonians\n",
    "r11, r12, r21, r22, r31, r32, r41, r42 = sym.symbols('r11 r12 r21 r22 r31 r32 r41 r42')\n",
    "s11, s12, s21, s22, s31, s32, s41, s42 = sym.symbols('s11 s12 s21 s22 s31 s32 s41 s42')\n",
    "\n",
    "M = sym.Matrix([[r11, r12,s11, s12],[r21, r22, s21, s22], [r31, r32, s31, s32], [r41, r42, s41, s42]])\n",
    "J = sym.Matrix([[0, 0, 1, 0],[0, 0, 0, 1], [1, 0, 0, 0], [0, 1, 0, 0]])\n",
    "#H = sym.Matrix([[0, 0, 1, 0],[0, 1, 0, 0], [1, 0, 0, 0], [0, 0, 0, 1]])\n",
    "\n",
    "dims = [2,2]\n",
    "n_paulis = 4\n",
    "pauli_string_max_options = np.prod([2,2,2,2])\n",
    "#print(pauli_string_max_options)\n",
    "coefficients = [1 for i in range(n_paulis)]\n",
    "\n",
    "i = 0\n",
    "j = 1\n",
    "k = 2\n",
    "l = 3\n",
    "pauli_strings = ['' for i in range(n_paulis)]\n",
    "exponents0 = int_to_bases(i, [2,2,2,2])\n",
    "for m in range(2):\n",
    "    r, s = int(exponents0[2*m]), int(exponents0[2*m+1])\n",
    "    pauli_strings[0] += f\"x{r}z{s} \"\n",
    "exponents1 = int_to_bases(j, [2,2,2,2])\n",
    "for m in range(2):\n",
    "    r, s = int(exponents1[2*m]), int(exponents1[2*m+1])\n",
    "    pauli_strings[1] += f\"x{r}z{s} \"\n",
    "exponents2 = int_to_bases(k, [2,2,2,2])\n",
    "for m in range(2):\n",
    "    r, s = int(exponents2[2*m]), int(exponents2[2*m+1])\n",
    "    pauli_strings[2] += f\"x{r}z{s} \"\n",
    "exponents3 = int_to_bases(l, [2,2,2,2])\n",
    "for m in range(2):\n",
    "    r, s = int(exponents3[2*m]), int(exponents3[2*m+1])\n",
    "    pauli_strings[3] += f\"x{r}z{s}\"\n",
    "#print(pauli_strings)\n",
    "P = PauliSum(pauli_strings, weights=coefficients ,dimensions=dims, phases=None, standardise=False)\n",
    "P_sym = sym.Matrix(np.array(P.symplectic(),dtype=np.int32))\n",
    "display(P_sym)\n",
    "#display(P_sym*H.T)\n",
    "\n",
    "# P_c\n",
    "P_c = (M*P_sym.T).T\n",
    "#H_P_c = P_c*H.T\n",
    "#display(P_c)\n",
    "#display(P_c*H.T)\n",
    "\n",
    "\n",
    "\n",
    "# Boundary conditions\n",
    "bounds = M.T * J * M - J\n",
    "display(bounds)\n",
    "g = H(1,2)\n",
    "C = Circuit(dims,gates=[g])\n",
    "# Plug in variables to find minimum of cost function\n",
    "#for n in range(2**16):\n",
    "n = 1632\n",
    "vars = int_to_bases(n, [2,2,2,2,2,2,2,2,2,2,2,2,2,2,2,2])\n",
    "subs_bounds = bounds.subs({r11: vars[0],r12: vars[1],r21: vars[2],r22: vars[3],r31: vars[4],r32: vars[5],r41: vars[6],r42: vars[7],s11: vars[8],s12: vars[9],s21: vars[10],s22: vars[11],s31: vars[12],s32: vars[13],s41: vars[14],s42: vars[15]})\n",
    "#display(subs_bounds)\n",
    "if subs_bounds.equals(sym.Matrix.zeros(subs_bounds.rows, subs_bounds.cols)):\n",
    "    #print(n)\n",
    "    #subs_H_P_c = H_P_c.subs({r11: vars[0],r12: vars[1],r21: vars[2],r22: vars[3],r31: vars[4],r32: vars[5],r41: vars[6],r42: vars[7],s11: vars[8],s12: vars[9],s21: vars[10],s22: vars[11],s31: vars[12],s32: vars[13],s41: vars[14],s42: vars[15]})\n",
    "    print(subs_P_c[0,0:2].tolist()[0],subs_P_c[0,2:4].tolist())\n",
    "    print(type(np.array(subs_P_c[0,0:2].tolist()[0])))\n",
    "    print(PauliString(np.array(subs_P_c[0,0:2].tolist()[0]),np.array(subs_P_c[0,2:4].tolist()[0]),dimensions=dims))\n",
    "    subs_P_c = P_c.subs({r11: vars[0],r12: vars[1],r21: vars[2],r22: vars[3],r31: vars[4],r32: vars[5],r41: vars[6],r42: vars[7],s11: vars[8],s12: vars[9],s21: vars[10],s22: vars[11],s31: vars[12],s32: vars[13],s41: vars[14],s42: vars[15]})\n",
    "    subs_P_c_PS = PauliSum([PauliString(np.array(subs_P_c[i,0:2].tolist()[0]),np.array(subs_P_c[i,2:4].tolist()[0]),dimensions=dims) for i in range(4)],dimensions=dims, phases=None, standardise=False)\n",
    "    H_P_c_PS = C.act(subs_P_c_PS)\n",
    "    subs_H_P_c = sym.Matrix(np.array(H_P_c_PS.symplectic(),dtype=np.int32))\n",
    "\n",
    "    dictionary = {matrix_to_string(subs_P_c[0,:]):-coefficients[0], matrix_to_string(subs_P_c[1,:]):-coefficients[1], matrix_to_string(subs_P_c[2,:]):-coefficients[2], matrix_to_string(subs_P_c[3,:]):-coefficients[3]}\n",
    "    #display(dictionary)\n",
    "    dictionary[matrix_to_string(subs_H_P_c[0,:])] += H_P_c_PS.phases[0]*coefficients[0]\n",
    "    dictionary[matrix_to_string(subs_H_P_c[1,:])] += H_P_c_PS.phases[1]*coefficients[1]\n",
    "    dictionary[matrix_to_string(subs_H_P_c[2,:])] += H_P_c_PS.phases[2]*coefficients[2]\n",
    "    dictionary[matrix_to_string(subs_H_P_c[3,:])] += H_P_c_PS.phases[3]*coefficients[3]\n",
    "    #display(dictionary)\n",
    "    cost = sum(value for value in dictionary.values())\n",
    "    if cost == 0:\n",
    "        display(subs_P_c)\n",
    "        subs_M = M.subs({r11: vars[0],r12: vars[1],r21: vars[2],r22: vars[3],r31: vars[4],r32: vars[5],r41: vars[6],r42: vars[7],s11: vars[8],s12: vars[9],s21: vars[10],s22: vars[11],s31: vars[12],s32: vars[13],s41: vars[14],s42: vars[15]})\n",
    "        display(subs_M)\n",
    "#print(cost)\n",
    "#display(subs_P_c)\n",
    "#display(subs_H_P_c[1,:])\n",
    "#display(subs_H_P_c)\n",
    "#display(subs_bounds)\n"
   ]
  },
  {
   "cell_type": "code",
   "execution_count": 35,
   "id": "280aa58c",
   "metadata": {},
   "outputs": [
    {
     "name": "stdout",
     "output_type": "stream",
     "text": [
      "<class 'numpy.ndarray'>\n",
      "<class 'numpy.ndarray'>\n"
     ]
    },
    {
     "ename": "TypeError",
     "evalue": "Unsupported type <class 'paulis.pauli_sum.PauliSum'> for Gate.act. Expected Pauli, PauliString or PauliSum.",
     "output_type": "error",
     "traceback": [
      "\u001b[1;31m---------------------------------------------------------------------------\u001b[0m",
      "\u001b[1;31mTypeError\u001b[0m                                 Traceback (most recent call last)",
      "Cell \u001b[1;32mIn[35], line 5\u001b[0m\n\u001b[0;32m      3\u001b[0m P_test \u001b[38;5;241m=\u001b[39m PauliString(np\u001b[38;5;241m.\u001b[39marray(subs_P_c[\u001b[38;5;241m0\u001b[39m,\u001b[38;5;241m0\u001b[39m:\u001b[38;5;241m2\u001b[39m]\u001b[38;5;241m.\u001b[39mtolist()[\u001b[38;5;241m0\u001b[39m]),np\u001b[38;5;241m.\u001b[39marray(subs_P_c[\u001b[38;5;241m0\u001b[39m,\u001b[38;5;241m2\u001b[39m:\u001b[38;5;241m4\u001b[39m]\u001b[38;5;241m.\u001b[39mtolist()[\u001b[38;5;241m0\u001b[39m]),dimensions\u001b[38;5;241m=\u001b[39mdims)\n\u001b[0;32m      4\u001b[0m PS_test \u001b[38;5;241m=\u001b[39m PauliSum([P_test,P_test],dimensions\u001b[38;5;241m=\u001b[39mdims, phases\u001b[38;5;241m=\u001b[39m\u001b[38;5;28;01mNone\u001b[39;00m, standardise\u001b[38;5;241m=\u001b[39m\u001b[38;5;28;01mFalse\u001b[39;00m)\n\u001b[1;32m----> 5\u001b[0m C\u001b[38;5;241m.\u001b[39mact(PS_test)\n",
      "File \u001b[1;32mc:\\Users\\Rick\\Desktop\\VSCode\\quaos\\././quaos\\circuits\\Circuits.py:112\u001b[0m, in \u001b[0;36mCircuit.act\u001b[1;34m(self, pauli)\u001b[0m\n\u001b[0;32m    110\u001b[0m     \u001b[38;5;28;01mraise\u001b[39;00m \u001b[38;5;167;01mValueError\u001b[39;00m(\u001b[38;5;124m\"\u001b[39m\u001b[38;5;124mPauli dimensions do not match circuit dimensions\u001b[39m\u001b[38;5;124m\"\u001b[39m)\n\u001b[0;32m    111\u001b[0m \u001b[38;5;28;01mfor\u001b[39;00m gate \u001b[38;5;129;01min\u001b[39;00m \u001b[38;5;28mself\u001b[39m\u001b[38;5;241m.\u001b[39mgates:\n\u001b[1;32m--> 112\u001b[0m     pauli \u001b[38;5;241m=\u001b[39m gate\u001b[38;5;241m.\u001b[39mact(pauli)\n\u001b[0;32m    113\u001b[0m \u001b[38;5;28;01mreturn\u001b[39;00m pauli\n",
      "File \u001b[1;32mc:\\Users\\Rick\\Desktop\\VSCode\\quaos\\././quaos\\circuits\\Gates.py:43\u001b[0m, in \u001b[0;36mGate.act\u001b[1;34m(self, P)\u001b[0m\n\u001b[0;32m     41\u001b[0m     \u001b[38;5;28;01mreturn\u001b[39;00m \u001b[38;5;28mself\u001b[39m\u001b[38;5;241m.\u001b[39m_act_on_pauli_sum(P)\n\u001b[0;32m     42\u001b[0m \u001b[38;5;28;01melse\u001b[39;00m:\n\u001b[1;32m---> 43\u001b[0m     \u001b[38;5;28;01mraise\u001b[39;00m \u001b[38;5;167;01mTypeError\u001b[39;00m(\u001b[38;5;124mf\u001b[39m\u001b[38;5;124m\"\u001b[39m\u001b[38;5;124mUnsupported type \u001b[39m\u001b[38;5;132;01m{\u001b[39;00m\u001b[38;5;28mtype\u001b[39m(P)\u001b[38;5;132;01m}\u001b[39;00m\u001b[38;5;124m for Gate.act. Expected Pauli, PauliString or PauliSum.\u001b[39m\u001b[38;5;124m\"\u001b[39m)\n",
      "\u001b[1;31mTypeError\u001b[0m: Unsupported type <class 'paulis.pauli_sum.PauliSum'> for Gate.act. Expected Pauli, PauliString or PauliSum."
     ]
    }
   ],
   "source": [
    "print(type(np.array(subs_P_c[0,0:2].tolist()[0])))\n",
    "print(type(np.array([0,1])))\n",
    "P_test = PauliString(np.array(subs_P_c[0,0:2].tolist()[0]),np.array(subs_P_c[0,2:4].tolist()[0]),dimensions=dims)\n",
    "PS_test = PauliSum([P_test,P_test],dimensions=dims, phases=None, standardise=False)\n",
    "C.act(PS_test)"
   ]
  },
  {
   "cell_type": "code",
   "execution_count": 75,
   "id": "ddee733e",
   "metadata": {},
   "outputs": [],
   "source": [
    "def matrix_to_string(matrix):\n",
    "    \"\"\"Convert a SymPy matrix with 0s and 1s into a string.\"\"\"\n",
    "    return ''.join(map(str, matrix.tolist()[0]))\n"
   ]
  },
  {
   "cell_type": "code",
   "execution_count": 18,
   "id": "b33d022c",
   "metadata": {},
   "outputs": [
    {
     "data": {
      "text/plain": [
       "'0123'"
      ]
     },
     "execution_count": 18,
     "metadata": {},
     "output_type": "execute_result"
    }
   ],
   "source": [
    "xs = [0,1,2,3]\n",
    "''.join(str(x) for x in xs)"
   ]
  },
  {
   "cell_type": "code",
   "execution_count": 23,
   "id": "2f4d9953",
   "metadata": {},
   "outputs": [
    {
     "data": {
      "text/plain": [
       "{'0': x + y, '1': y}"
      ]
     },
     "execution_count": 23,
     "metadata": {},
     "output_type": "execute_result"
    }
   ],
   "source": [
    "x, y = sym.symbols('x y')\n",
    "A = {'0': x, '1': y}\n",
    "A['0'] += y\n",
    "A"
   ]
  },
  {
   "cell_type": "code",
   "execution_count": 48,
   "id": "349a763f",
   "metadata": {},
   "outputs": [
    {
     "data": {
      "text/plain": [
       "False"
      ]
     },
     "execution_count": 48,
     "metadata": {},
     "output_type": "execute_result"
    }
   ],
   "source": [
    "sym.Matrix(np.array([[0, 0, 0, 0],[0, 0, 0, 0], [0, 0, 0, 0], [0, 0, 0, 0]],dtype=np.int32)).is_zero"
   ]
  },
  {
   "cell_type": "code",
   "execution_count": 52,
   "id": "5d1c3fd2",
   "metadata": {},
   "outputs": [
    {
     "data": {
      "text/plain": [
       "True"
      ]
     },
     "execution_count": 52,
     "metadata": {},
     "output_type": "execute_result"
    }
   ],
   "source": [
    "A = sym.Matrix([[0, 0], [0, 0]])\n",
    "\n",
    "# Check if all elements are zero\n",
    "A.equals(sym.Matrix.zeros(A.rows, A.cols))\n"
   ]
  }
 ],
 "metadata": {
  "kernelspec": {
   "display_name": "base",
   "language": "python",
   "name": "python3"
  },
  "language_info": {
   "codemirror_mode": {
    "name": "ipython",
    "version": 3
   },
   "file_extension": ".py",
   "mimetype": "text/x-python",
   "name": "python",
   "nbconvert_exporter": "python",
   "pygments_lexer": "ipython3",
   "version": "3.11.5"
  }
 },
 "nbformat": 4,
 "nbformat_minor": 5
}
