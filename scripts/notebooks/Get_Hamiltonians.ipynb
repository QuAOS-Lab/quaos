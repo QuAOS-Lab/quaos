{
 "cells": [
  {
   "cell_type": "code",
   "execution_count": 103,
   "metadata": {},
   "outputs": [],
   "source": [
    "import numpy as np\n",
    "\n",
    "import itertools\n",
    "import pickle"
   ]
  },
  {
   "cell_type": "markdown",
   "metadata": {},
   "source": [
    "### Functions to be employed"
   ]
  },
  {
   "cell_type": "code",
   "execution_count": null,
   "metadata": {},
   "outputs": [],
   "source": [
    "# Read the Hamiltonian stored in the \"Hamiltonian\" folder:\n",
    "#define a path\n",
    "def path(a,b):\n",
    "    path = 'data/Hamiltonians/'+a+'/'+b+'.txt'\n",
    "    return path\n",
    "\n",
    "#build a dictionary with the Hamiltonian\n",
    "def read_encoding_return_dict(path):\n",
    "    with open(path, 'r') as f:\n",
    "        first_line = f.readline()\n",
    "        first_character = first_line[0]\n",
    "        if first_character == '{':\n",
    "            format = 'dictionary'\n",
    "        else:\n",
    "            format = 'list'\n",
    "\n",
    "    if format == 'dictionary':\n",
    "        dic = {}\n",
    "        with open(path, 'r') as f:\n",
    "            dict1 = eval(f.read())\n",
    "            list2 = dict1['paulis']\n",
    "            for item in list2:\n",
    "                pauli_string = item['label']\n",
    "                coeff = item['coeff']['real']\n",
    "                dic[pauli_string] = coeff\n",
    "        return dic\n",
    "\n",
    "    if format == 'list':\n",
    "        dic = {}\n",
    "        with open(path, 'r') as f:\n",
    "            for line1, line2 in itertools.zip_longest(*[f]*2):\n",
    "                pauli_string = line1[:-1]\n",
    "                coefficient = float(line2[1:-5])\n",
    "                dic[pauli_string] = coefficient\n",
    "        return dic\n",
    "\n",
    "    pass\n",
    "\n",
    "\n",
    "# Rewrite the Hamiltonian in the format for Andrew's code\n",
    "def map_string(input_str):\n",
    "    # Define the mapping dictionary\n",
    "    mapping = {\n",
    "        'I': 'x0z0 ',\n",
    "        'Z': 'x0z1 ',\n",
    "        'X': 'x1z0 ',\n",
    "        'Y': 'x1z1 '\n",
    "    }\n",
    "    \n",
    "    # Initialize an empty result string\n",
    "    result = ''\n",
    "    compensation_coefficient = list()\n",
    "    \n",
    "    # Iterate over each character in the input string\n",
    "    for char in input_str:\n",
    "        # Append the mapped value to the result string\n",
    "        result += mapping.get(char, '')\n",
    "        compensation_coefficient.append(\n",
    "\n",
    "########################################################\n",
    "#IMPORTANT: Here I include the coefficient for ensuring that the Pauli Y (or any other) is correctly mapped, including the phase! I am not 100% sure the coefficient is correct, please check\n",
    "########################################################\n",
    "\n",
    "            1 if char == ('I' or 'X' or 'Z') else -1\n",
    "        )\n",
    "    \n",
    "    return np.prod(compensation_coefficient), result[:-1]"
   ]
  },
  {
   "cell_type": "markdown",
   "metadata": {},
   "source": [
    "### List of Hamiltonian that can be chosen:"
   ]
  },
  {
   "cell_type": "code",
   "execution_count": 105,
   "metadata": {},
   "outputs": [],
   "source": [
    "# Possible Hamiltonians to choose from.\n",
    "# \n",
    "# I leave uncommented the ones that can be of interest for you :)\n",
    "\n",
    "# 4 qubits\n",
    "h2_jw_4 = ['H2_STO3g_4qubits', 'jw']\n",
    "h2_parity_4 = ['H2_STO3g_4qubits', 'parity']\n",
    "h2_bk_4 = ['H2_STO3g_4qubits', 'bk']\n",
    "\n",
    "# 8 qubits\n",
    "h2_jw = ['H2_6-31G_8qubits', 'jw']\n",
    "h2_parity = ['H2_6-31G_8qubits', 'parity']\n",
    "h2_bk = ['H2_6-31G_8qubits', 'bk']\n",
    "\n",
    "# 12 qubits\n",
    "lih_jw = ['LiH_STO3g_12qubits', 'jw']\n",
    "lih_parity = ['LiH_STO3g_12qubits', 'parity']\n",
    "lih_bk = ['LiH_STO3g_12qubits', 'bk']\n",
    "\n",
    "## 14 qubits\n",
    "#beh2_jw = ['BeH2_STO3g_14qubits', 'jw']\n",
    "#beh2_parity = ['BeH2_STO3g_14qubits', 'parity']\n",
    "#beh2_bk = ['BeH2_STO3g_14qubits', 'bk']\n",
    "\n",
    "#h2o_jw = ['H2O_STO3g_14qubits', 'jw']\n",
    "#h2o_parity = ['H2O_STO3g_14qubits', 'parity']\n",
    "#h2o_bk = ['H2O_STO3g_14qubits', 'bk']\n",
    "\n",
    "## 16 qubits\n",
    "#nh3_jw = ['NH3_STO3g_16qubits', 'jw']\n",
    "#nh3_parity = ['NH3_STO3g_16qubits', 'parity']\n",
    "#nh3_bk = ['NH3_STO3g_16qubits', 'bk']"
   ]
  },
  {
   "cell_type": "markdown",
   "metadata": {},
   "source": [
    "### Protocol:"
   ]
  },
  {
   "cell_type": "code",
   "execution_count": 106,
   "metadata": {},
   "outputs": [],
   "source": [
    "# Choose specific Hamiltonian\n",
    "tmp_in = h2_jw\n",
    "ham = path(tmp_in[0],tmp_in[1])"
   ]
  },
  {
   "cell_type": "code",
   "execution_count": 107,
   "metadata": {},
   "outputs": [],
   "source": [
    "# Get a dictionary with Pauli strings as labels and coefficient as the corresponding element\n",
    "\n",
    "ch_ham = read_encoding_return_dict(ham)\n",
    "#ch_ham"
   ]
  },
  {
   "cell_type": "code",
   "execution_count": 108,
   "metadata": {},
   "outputs": [],
   "source": [
    "# Obtain all Paulis as a list:\n",
    "\n",
    "P_list = list()\n",
    "cc = list()\n",
    "\n",
    "tmp = list(ch_ham.items())\n",
    "\n",
    "for pauli, coef in tmp:\n",
    "    tmp_factor, tmp_str = map_string(pauli)\n",
    "\n",
    "    P_list.append(tmp_str)\n",
    "    cc.append(tmp_factor*coef)"
   ]
  },
  {
   "cell_type": "code",
   "execution_count": 109,
   "metadata": {},
   "outputs": [
    {
     "data": {
      "text/plain": [
       "185"
      ]
     },
     "execution_count": 109,
     "metadata": {},
     "output_type": "execute_result"
    }
   ],
   "source": [
    "# number of terms:\n",
    "len(cc)"
   ]
  },
  {
   "cell_type": "code",
   "execution_count": 110,
   "metadata": {},
   "outputs": [
    {
     "name": "stdout",
     "output_type": "stream",
     "text": [
      "-0.08794122934165582 ;  x1z1 x0z1 x1z1 x0z0 x0z0 x0z0 x0z0 x0z0\n",
      "-0.08794122934165582 ;  x1z0 x0z1 x1z0 x0z0 x0z0 x0z0 x0z0 x0z0\n",
      "1.5253256224066558 ;  x0z0 x0z0 x0z0 x0z0 x0z0 x0z0 x0z0 x0z0\n",
      "0.2724180193998683 ;  x0z1 x0z0 x0z0 x0z0 x0z0 x0z0 x0z0 x0z0\n",
      "0.6921496164450819 ;  x0z0 x0z0 x0z1 x0z0 x0z0 x0z0 x0z0 x0z0\n",
      "0.4043851244705001 ;  x0z0 x0z1 x0z0 x0z0 x0z0 x0z0 x0z0 x0z0\n",
      "0.05255329774132767 ;  x0z0 x1z1 x0z1 x1z1 x0z0 x0z0 x0z0 x0z0\n",
      "0.05255329774132767 ;  x0z0 x1z0 x0z1 x1z0 x0z0 x0z0 x0z0 x0z0\n",
      "1.0346287559322498 ;  x0z0 x0z0 x0z0 x0z1 x0z0 x0z0 x0z0 x0z0\n",
      "0.2724180193998682 ;  x0z0 x0z0 x0z0 x0z0 x0z1 x0z0 x0z0 x0z0\n",
      "-0.08794122934165581 ;  x0z0 x0z0 x0z0 x0z0 x1z1 x0z1 x1z1 x0z0\n",
      "-0.08794122934165581 ;  x0z0 x0z0 x0z0 x0z0 x1z0 x0z1 x1z0 x0z0\n",
      "0.4043851244705001 ;  x0z0 x0z0 x0z0 x0z0 x0z0 x0z1 x0z0 x0z0\n",
      "0.05255329774132766 ;  x0z0 x0z0 x0z0 x0z0 x0z0 x1z1 x0z1 x1z1\n",
      "0.05255329774132766 ;  x0z0 x0z0 x0z0 x0z0 x0z0 x1z0 x0z1 x1z0\n",
      "0.6921496164450818 ;  x0z0 x0z0 x0z0 x0z0 x0z0 x0z0 x0z1 x0z0\n",
      "1.0346287559322498 ;  x0z0 x0z0 x0z0 x0z0 x0z0 x0z0 x0z0 x0z1\n",
      "0.023907160243420156 ;  x0z0 x1z1 x0z0 x1z1 x0z0 x0z0 x0z0 x0z0\n",
      "0.023907160243420156 ;  x0z0 x1z0 x0z0 x1z0 x0z0 x0z0 x0z0 x0z0\n",
      "-0.017318726572294618 ;  x1z0 x0z0 x1z0 x0z0 x0z0 x0z0 x0z0 x0z0\n",
      "-0.017318726572294618 ;  x1z1 x0z0 x1z1 x0z0 x0z0 x0z0 x0z0 x0z0\n",
      "-0.012608046401606652 ;  x1z1 x0z1 x1z1 x0z0 x0z0 x0z1 x0z0 x0z0\n",
      "-0.012608046401606652 ;  x1z0 x0z1 x1z0 x0z0 x0z0 x0z1 x0z0 x0z0\n",
      "-0.015412105039717084 ;  x1z0 x1z0 x1z0 x1z0 x0z0 x0z0 x0z0 x0z0\n",
      "-0.012794256152536574 ;  x1z1 x1z0 x1z0 x1z1 x0z0 x0z0 x0z0 x0z0\n",
      "-0.0026178488871805078 ;  x1z0 x1z0 x1z1 x1z1 x0z0 x0z0 x0z0 x0z0\n",
      "-0.0026178488871805078 ;  x1z1 x1z1 x1z0 x1z0 x0z0 x0z0 x0z0 x0z0\n",
      "-0.012794256152536574 ;  x1z0 x1z1 x1z1 x1z0 x0z0 x0z0 x0z0 x0z0\n",
      "-0.015412105039717084 ;  x1z1 x1z1 x1z1 x1z1 x0z0 x0z0 x0z0 x0z0\n",
      "-0.004710680170687968 ;  x1z1 x1z1 x0z0 x0z0 x0z0 x1z0 x1z0 x0z0\n",
      "-0.004710680170687968 ;  x1z1 x1z1 x0z0 x0z0 x0z0 x1z1 x1z1 x0z0\n",
      "-0.004710680170687968 ;  x1z0 x1z0 x0z0 x0z0 x0z0 x1z0 x1z0 x0z0\n",
      "-0.004710680170687968 ;  x1z0 x1z0 x0z0 x0z0 x0z0 x1z1 x1z1 x0z0\n",
      "0.13095738454560127 ;  x0z1 x0z0 x0z0 x0z1 x0z0 x0z0 x0z0 x0z0\n",
      "-0.005591850052488086 ;  x1z1 x0z1 x0z1 x1z1 x0z0 x1z0 x1z0 x0z0\n",
      "-0.005591850052488086 ;  x1z1 x0z1 x0z1 x1z1 x0z0 x1z1 x1z1 x0z0\n",
      "-0.005591850052488086 ;  x1z0 x0z1 x0z1 x1z0 x0z0 x1z0 x1z0 x0z0\n",
      "-0.005591850052488086 ;  x1z0 x0z1 x0z1 x1z0 x0z0 x1z1 x1z1 x0z0\n",
      "0.015961155441576884 ;  x0z1 x1z1 x0z1 x1z1 x0z0 x0z0 x0z0 x0z0\n",
      "0.015961155441576884 ;  x0z1 x1z0 x0z1 x1z0 x0z0 x0z0 x0z0 x0z0\n",
      "0.03583078300215678 ;  x0z1 x0z0 x0z0 x0z0 x0z0 x1z0 x0z1 x1z0\n",
      "0.03583078300215678 ;  x0z1 x0z0 x0z0 x0z0 x0z0 x1z1 x0z1 x1z1\n",
      "-0.01838610620502466 ;  x1z1 x0z1 x1z1 x0z0 x0z0 x1z0 x0z1 x1z0\n",
      "-0.01838610620502466 ;  x1z1 x0z1 x1z1 x0z0 x0z0 x1z1 x0z1 x1z1\n",
      "-0.01838610620502466 ;  x1z0 x0z1 x1z0 x0z0 x0z0 x1z0 x0z1 x1z0\n",
      "-0.01838610620502466 ;  x1z0 x0z1 x1z0 x0z0 x0z0 x1z1 x0z1 x1z1\n",
      "0.08831604919069061 ;  x0z1 x0z1 x0z0 x0z0 x0z0 x0z0 x0z0 x0z0\n",
      "-0.041611907907888844 ;  x0z1 x0z0 x0z0 x0z0 x1z1 x0z1 x1z1 x0z0\n",
      "-0.041611907907888844 ;  x0z1 x0z0 x0z0 x0z0 x1z0 x0z1 x1z0 x0z0\n",
      "0.027263069036128847 ;  x1z1 x0z1 x1z1 x0z0 x1z1 x0z1 x1z1 x0z0\n",
      "0.027263069036128847 ;  x1z1 x0z1 x1z1 x0z0 x1z0 x0z1 x1z0 x0z0\n",
      "0.027263069036128847 ;  x1z0 x0z1 x1z0 x0z0 x1z1 x0z1 x1z1 x0z0\n",
      "0.027263069036128847 ;  x1z0 x0z1 x1z0 x0z0 x1z0 x0z1 x1z0 x0z0\n",
      "0.1328282413043635 ;  x0z1 x0z0 x0z0 x0z0 x0z0 x0z0 x0z1 x0z0\n",
      "-0.02996880154502259 ;  x1z1 x0z1 x1z1 x0z0 x0z0 x0z0 x0z1 x0z0\n",
      "-0.02996880154502259 ;  x1z0 x0z1 x1z0 x0z0 x0z0 x0z0 x0z1 x0z0\n",
      "-0.021003955092205172 ;  x1z1 x1z1 x0z0 x0z0 x0z0 x0z0 x1z0 x1z0\n",
      "-0.021003955092205172 ;  x1z1 x1z1 x0z0 x0z0 x0z0 x0z0 x1z1 x1z1\n",
      "-0.021003955092205172 ;  x1z0 x1z0 x0z0 x0z0 x0z0 x0z0 x1z0 x1z0\n",
      "-0.021003955092205172 ;  x1z0 x1z0 x0z0 x0z0 x0z0 x0z0 x1z1 x1z1\n",
      "0.08647780044339264 ;  x0z0 x0z1 x0z1 x0z0 x0z0 x0z0 x0z0 x0z0\n",
      "0.030819246688616207 ;  x1z1 x0z1 x0z1 x1z1 x0z0 x0z0 x1z0 x1z0\n",
      "0.030819246688616207 ;  x1z1 x0z1 x0z1 x1z1 x0z0 x0z0 x1z1 x1z1\n",
      "0.030819246688616207 ;  x1z0 x0z1 x0z1 x1z0 x0z0 x0z0 x1z0 x1z0\n",
      "0.030819246688616207 ;  x1z0 x0z1 x0z1 x1z0 x0z0 x0z0 x1z1 x1z1\n",
      "-0.0198696275605799 ;  x1z1 x1z1 x0z0 x0z0 x1z1 x0z1 x0z1 x1z1\n",
      "-0.0198696275605799 ;  x1z1 x1z1 x0z0 x0z0 x1z0 x0z1 x0z1 x1z0\n",
      "-0.0198696275605799 ;  x1z0 x1z0 x0z0 x0z0 x1z1 x0z1 x0z1 x1z1\n",
      "-0.0198696275605799 ;  x1z0 x1z0 x0z0 x0z0 x1z0 x0z1 x0z1 x1z0\n",
      "0.0342610794129385 ;  x1z1 x0z1 x0z1 x1z1 x1z1 x0z1 x0z1 x1z1\n",
      "0.0342610794129385 ;  x1z1 x0z1 x0z1 x1z1 x1z0 x0z1 x0z1 x1z0\n",
      "0.0342610794129385 ;  x1z0 x0z1 x0z1 x1z0 x1z1 x0z1 x0z1 x1z1\n",
      "0.0342610794129385 ;  x1z0 x0z1 x0z1 x1z0 x1z0 x0z1 x0z1 x1z0\n",
      "0.16521846395853979 ;  x0z1 x0z0 x0z0 x0z0 x0z0 x0z0 x0z0 x0z1\n",
      "-0.050238442633643486 ;  x1z1 x0z1 x1z1 x0z0 x0z0 x0z0 x0z0 x0z1\n",
      "-0.050238442633643486 ;  x1z0 x0z1 x1z0 x0z0 x0z0 x0z0 x0z0 x0z1\n",
      "-0.04161190790788884 ;  x1z1 x0z1 x1z1 x0z0 x0z1 x0z0 x0z0 x0z0\n",
      "-0.04161190790788884 ;  x1z0 x0z1 x1z0 x0z0 x0z1 x0z0 x0z0 x0z0\n",
      "-0.01941919594502728 ;  x1z1 x0z1 x1z1 x0z1 x0z0 x0z0 x0z0 x0z0\n",
      "-0.01941919594502728 ;  x1z0 x0z1 x1z0 x0z1 x0z0 x0z0 x0z0 x0z0\n",
      "0.02016748720380559 ;  x1z1 x1z1 x0z0 x0z0 x1z0 x1z0 x0z0 x0z0\n",
      "0.02016748720380559 ;  x1z1 x1z1 x0z0 x0z0 x1z1 x1z1 x0z0 x0z0\n",
      "0.02016748720380559 ;  x1z0 x1z0 x0z0 x0z0 x1z0 x1z0 x0z0 x0z0\n",
      "0.02016748720380559 ;  x1z0 x1z0 x0z0 x0z0 x1z1 x1z1 x0z0 x0z0\n",
      "-0.01838610620502466 ;  x0z0 x1z1 x0z1 x1z1 x1z1 x0z1 x1z1 x0z0\n",
      "-0.01838610620502466 ;  x0z0 x1z1 x0z1 x1z1 x1z0 x0z1 x1z0 x0z0\n",
      "-0.01838610620502466 ;  x0z0 x1z0 x0z1 x1z0 x1z1 x0z1 x1z1 x0z0\n",
      "-0.01838610620502466 ;  x0z0 x1z0 x0z1 x1z0 x1z0 x0z1 x1z0 x0z0\n",
      "-0.005591850052488085 ;  x0z0 x1z1 x1z1 x0z0 x1z1 x0z1 x0z1 x1z1\n",
      "-0.005591850052488085 ;  x0z0 x1z1 x1z1 x0z0 x1z0 x0z1 x0z1 x1z0\n",
      "-0.005591850052488085 ;  x0z0 x1z0 x1z0 x0z0 x1z1 x0z1 x0z1 x1z1\n",
      "-0.005591850052488085 ;  x0z0 x1z0 x1z0 x0z0 x1z0 x0z1 x0z1 x1z0\n",
      "0.013785633495284501 ;  x0z0 x0z1 x0z0 x0z0 x0z0 x1z1 x0z1 x1z1\n",
      "0.013785633495284501 ;  x0z0 x0z1 x0z0 x0z0 x0z0 x1z0 x0z1 x1z0\n",
      "0.016976725669297192 ;  x0z0 x1z1 x0z1 x1z1 x0z0 x1z1 x0z1 x1z1\n",
      "0.016976725669297192 ;  x0z0 x1z1 x0z1 x1z1 x0z0 x1z0 x0z1 x1z0\n",
      "0.016976725669297192 ;  x0z0 x1z0 x0z1 x1z0 x0z0 x1z1 x0z1 x1z1\n",
      "0.016976725669297192 ;  x0z0 x1z0 x0z1 x1z0 x0z0 x1z0 x0z1 x1z0\n",
      "0.008949858543082407 ;  x0z0 x1z1 x1z1 x0z0 x0z0 x1z1 x1z1 x0z0\n",
      "0.008949858543082407 ;  x0z0 x1z1 x1z1 x0z0 x0z0 x1z0 x1z0 x0z0\n",
      "0.008949858543082407 ;  x0z0 x1z0 x1z0 x0z0 x0z0 x1z1 x1z1 x0z0\n",
      "0.008949858543082407 ;  x0z0 x1z0 x1z0 x0z0 x0z0 x1z0 x1z0 x0z0\n",
      "-0.0007987348107616162 ;  x0z0 x1z1 x1z1 x0z0 x0z0 x0z0 x1z1 x1z1\n",
      "-0.0007987348107616162 ;  x0z0 x1z1 x1z1 x0z0 x0z0 x0z0 x1z0 x1z0\n",
      "-0.0007987348107616162 ;  x0z0 x1z0 x1z0 x0z0 x0z0 x0z0 x1z1 x1z1\n",
      "-0.0007987348107616162 ;  x0z0 x1z0 x1z0 x0z0 x0z0 x0z0 x1z0 x1z0\n",
      "0.10556517226823464 ;  x0z1 x0z0 x0z1 x0z0 x0z0 x0z0 x0z0 x0z0\n",
      "0.09542765898647504 ;  x0z0 x0z1 x0z0 x0z0 x0z0 x0z0 x0z1 x0z0\n",
      "0.11066162842599216 ;  x0z0 x0z1 x0z0 x0z0 x0z0 x0z0 x0z0 x0z1\n",
      "0.09368490275669497 ;  x0z0 x0z1 x0z0 x0z1 x0z0 x0z0 x0z0 x0z0\n",
      "-0.004710680170687968 ;  x0z0 x1z1 x1z1 x0z0 x1z1 x1z1 x0z0 x0z0\n",
      "-0.004710680170687968 ;  x0z0 x1z1 x1z1 x0z0 x1z0 x1z0 x0z0 x0z0\n",
      "-0.004710680170687968 ;  x0z0 x1z0 x1z0 x0z0 x1z1 x1z1 x0z0 x0z0\n",
      "-0.004710680170687968 ;  x0z0 x1z0 x1z0 x0z0 x1z0 x1z0 x0z0 x0z0\n",
      "0.1619798167438987 ;  x0z1 x0z0 x0z0 x0z0 x0z1 x0z0 x0z0 x0z0\n",
      "0.09652650762551396 ;  x0z0 x0z1 x0z0 x0z0 x0z0 x0z1 x0z0 x0z0\n",
      "0.013785633495284501 ;  x0z0 x1z1 x0z1 x1z1 x0z0 x0z1 x0z0 x0z0\n",
      "0.013785633495284501 ;  x0z0 x1z0 x0z1 x1z0 x0z0 x0z1 x0z0 x0z0\n",
      "-0.012608046401606652 ;  x0z0 x0z1 x0z0 x0z0 x1z1 x0z1 x1z1 x0z0\n",
      "-0.012608046401606652 ;  x0z0 x0z1 x0z0 x0z0 x1z0 x0z1 x1z0 x0z0\n",
      "0.1084835363944962 ;  x0z0 x0z1 x0z0 x0z0 x0z1 x0z0 x0z0 x0z0\n",
      "0.03583078300215678 ;  x0z0 x1z1 x0z1 x1z1 x0z1 x0z0 x0z0 x0z0\n",
      "0.03583078300215678 ;  x0z0 x1z0 x0z1 x1z0 x0z1 x0z0 x0z0 x0z0\n",
      "0.02470589505418177 ;  x0z0 x1z1 x0z1 x1z1 x0z0 x0z0 x0z1 x0z0\n",
      "0.02470589505418177 ;  x0z0 x1z0 x0z1 x1z0 x0z0 x0z0 x0z1 x0z0\n",
      "-0.0198696275605799 ;  x1z1 x0z1 x0z1 x1z1 x1z0 x1z0 x0z0 x0z0\n",
      "-0.0198696275605799 ;  x1z1 x0z1 x0z1 x1z1 x1z1 x1z1 x0z0 x0z0\n",
      "-0.0198696275605799 ;  x1z0 x0z1 x0z1 x1z0 x1z0 x1z0 x0z0 x0z0\n",
      "-0.0198696275605799 ;  x1z0 x0z1 x0z1 x1z0 x1z1 x1z1 x0z0 x0z0\n",
      "0.1084835363944962 ;  x0z1 x0z0 x0z0 x0z0 x0z0 x0z1 x0z0 x0z0\n",
      "0.041946477622790114 ;  x0z0 x1z1 x0z1 x1z1 x0z0 x0z0 x0z0 x0z1\n",
      "0.041946477622790114 ;  x0z0 x1z0 x0z1 x1z0 x0z0 x0z0 x0z0 x0z1\n",
      "0.10585039887546002 ;  x0z0 x0z0 x0z1 x0z1 x0z0 x0z0 x0z0 x0z0\n",
      "0.1328282413043635 ;  x0z0 x0z0 x0z1 x0z0 x0z1 x0z0 x0z0 x0z0\n",
      "-0.021003955092205172 ;  x0z0 x0z0 x1z1 x1z1 x1z0 x1z0 x0z0 x0z0\n",
      "-0.021003955092205172 ;  x0z0 x0z0 x1z1 x1z1 x1z1 x1z1 x0z0 x0z0\n",
      "-0.021003955092205172 ;  x0z0 x0z0 x1z0 x1z0 x1z0 x1z0 x0z0 x0z0\n",
      "-0.021003955092205172 ;  x0z0 x0z0 x1z0 x1z0 x1z1 x1z1 x0z0 x0z0\n",
      "-0.02996880154502259 ;  x0z0 x0z0 x0z1 x0z0 x1z0 x0z1 x1z0 x0z0\n",
      "-0.02996880154502259 ;  x0z0 x0z0 x0z1 x0z0 x1z1 x0z1 x1z1 x0z0\n",
      "0.030819246688616207 ;  x0z0 x0z0 x1z1 x1z1 x1z0 x0z1 x0z1 x1z0\n",
      "0.030819246688616207 ;  x0z0 x0z0 x1z1 x1z1 x1z1 x0z1 x0z1 x1z1\n",
      "0.030819246688616207 ;  x0z0 x0z0 x1z0 x1z0 x1z0 x0z1 x0z1 x1z0\n",
      "0.030819246688616207 ;  x0z0 x0z0 x1z0 x1z0 x1z1 x0z1 x0z1 x1z1\n",
      "0.09542765898647504 ;  x0z0 x0z0 x0z1 x0z0 x0z0 x0z1 x0z0 x0z0\n",
      "-0.0007987348107616162 ;  x0z0 x0z0 x1z1 x1z1 x0z0 x1z0 x1z0 x0z0\n",
      "-0.0007987348107616162 ;  x0z0 x0z0 x1z1 x1z1 x0z0 x1z1 x1z1 x0z0\n",
      "-0.0007987348107616162 ;  x0z0 x0z0 x1z0 x1z0 x0z0 x1z0 x1z0 x0z0\n",
      "-0.0007987348107616162 ;  x0z0 x0z0 x1z0 x1z0 x0z0 x1z1 x1z1 x0z0\n",
      "0.02470589505418177 ;  x0z0 x0z0 x0z1 x0z0 x0z0 x1z0 x0z1 x1z0\n",
      "0.02470589505418177 ;  x0z0 x0z0 x0z1 x0z0 x0z0 x1z1 x0z1 x1z1\n",
      "0.1159589087829886 ;  x0z0 x0z0 x0z1 x0z0 x0z0 x0z0 x0z1 x0z0\n",
      "0.03211770000941987 ;  x0z0 x0z0 x1z1 x1z1 x0z0 x0z0 x1z0 x1z0\n",
      "0.03211770000941987 ;  x0z0 x0z0 x1z1 x1z1 x0z0 x0z0 x1z1 x1z1\n",
      "0.03211770000941987 ;  x0z0 x0z0 x1z0 x1z0 x0z0 x0z0 x1z0 x1z0\n",
      "0.03211770000941987 ;  x0z0 x0z0 x1z0 x1z0 x0z0 x0z0 x1z1 x1z1\n",
      "0.1379680988848799 ;  x0z0 x0z0 x0z1 x0z0 x0z0 x0z0 x0z0 x0z1\n",
      "0.16521846395853979 ;  x0z0 x0z0 x0z0 x0z1 x0z1 x0z0 x0z0 x0z0\n",
      "-0.050238442633643486 ;  x0z0 x0z0 x0z0 x0z1 x1z0 x0z1 x1z0 x0z0\n",
      "-0.050238442633643486 ;  x0z0 x0z0 x0z0 x0z1 x1z1 x0z1 x1z1 x0z0\n",
      "0.11066162842599216 ;  x0z0 x0z0 x0z0 x0z1 x0z0 x0z1 x0z0 x0z0\n",
      "0.04194647762279012 ;  x0z0 x0z0 x0z0 x0z1 x0z0 x1z0 x0z1 x1z0\n",
      "0.04194647762279012 ;  x0z0 x0z0 x0z0 x0z1 x0z0 x1z1 x0z1 x1z1\n",
      "0.1379680988848799 ;  x0z0 x0z0 x0z0 x0z1 x0z0 x0z0 x0z1 x0z0\n",
      "0.18449350486670163 ;  x0z0 x0z0 x0z0 x0z1 x0z0 x0z0 x0z0 x0z1\n",
      "0.08831604919069061 ;  x0z0 x0z0 x0z0 x0z0 x0z1 x0z1 x0z0 x0z0\n",
      "0.015961155441576884 ;  x0z0 x0z0 x0z0 x0z0 x0z1 x1z1 x0z1 x1z1\n",
      "0.015961155441576884 ;  x0z0 x0z0 x0z0 x0z0 x0z1 x1z0 x0z1 x1z0\n",
      "0.10556517226823464 ;  x0z0 x0z0 x0z0 x0z0 x0z1 x0z0 x0z1 x0z0\n",
      "0.13095738454560127 ;  x0z0 x0z0 x0z0 x0z0 x0z1 x0z0 x0z0 x0z1\n",
      "-0.017318726572294618 ;  x0z0 x0z0 x0z0 x0z0 x1z1 x0z0 x1z1 x0z0\n",
      "-0.017318726572294618 ;  x0z0 x0z0 x0z0 x0z0 x1z0 x0z0 x1z0 x0z0\n",
      "-0.01541210503971709 ;  x0z0 x0z0 x0z0 x0z0 x1z1 x1z1 x1z1 x1z1\n",
      "-0.002617848887180506 ;  x0z0 x0z0 x0z0 x0z0 x1z1 x1z1 x1z0 x1z0\n",
      "-0.012794256152536574 ;  x0z0 x0z0 x0z0 x0z0 x1z1 x1z0 x1z0 x1z1\n",
      "-0.012794256152536574 ;  x0z0 x0z0 x0z0 x0z0 x1z0 x1z1 x1z1 x1z0\n",
      "-0.002617848887180506 ;  x0z0 x0z0 x0z0 x0z0 x1z0 x1z0 x1z1 x1z1\n",
      "-0.01541210503971709 ;  x0z0 x0z0 x0z0 x0z0 x1z0 x1z0 x1z0 x1z0\n",
      "-0.01941919594502728 ;  x0z0 x0z0 x0z0 x0z0 x1z1 x0z1 x1z1 x0z1\n",
      "-0.01941919594502728 ;  x0z0 x0z0 x0z0 x0z0 x1z0 x0z1 x1z0 x0z1\n",
      "0.08647780044339264 ;  x0z0 x0z0 x0z0 x0z0 x0z0 x0z1 x0z1 x0z0\n",
      "0.09368490275669497 ;  x0z0 x0z0 x0z0 x0z0 x0z0 x0z1 x0z0 x0z1\n",
      "0.023907160243420156 ;  x0z0 x0z0 x0z0 x0z0 x0z0 x1z1 x0z0 x1z1\n",
      "0.023907160243420156 ;  x0z0 x0z0 x0z0 x0z0 x0z0 x1z0 x0z0 x1z0\n",
      "0.10585039887546002 ;  x0z0 x0z0 x0z0 x0z0 x0z0 x0z0 x0z1 x0z1\n"
     ]
    }
   ],
   "source": [
    "for i in range(len(cc)):\n",
    "    print(cc[i],\"; \",P_list[i])"
   ]
  },
  {
   "cell_type": "markdown",
   "metadata": {},
   "source": [
    "### Save and load"
   ]
  },
  {
   "cell_type": "code",
   "execution_count": null,
   "metadata": {},
   "outputs": [],
   "source": [
    "#write\n",
    "pth_coef = 'data/Hamiltonians/'+tmp_in[0]+'_'+tmp_in[1]+'_coeffs'\n",
    "pth_paulis = 'data/Hamiltonians/'+tmp_in[0]+'_'+tmp_in[1]+'_paulis'\n",
    "\n",
    "with open(pth_coef, \"wb\") as fp:   #Pickling\n",
    "    pickle.dump(cc, fp)\n",
    "\n",
    "with open(pth_paulis, \"wb\") as fp:   #Pickling\n",
    "    pickle.dump(P_list, fp)"
   ]
  },
  {
   "cell_type": "code",
   "execution_count": 112,
   "metadata": {},
   "outputs": [],
   "source": [
    "#load\n",
    "with open(pth_coef, \"rb\") as fp:   # Unpickling\n",
    "    reloaded_cc = pickle.load(fp)\n",
    "\n",
    "with open(pth_paulis, \"rb\") as fp:   # Unpickling\n",
    "    reloaded_P = pickle.load(fp)"
   ]
  },
  {
   "cell_type": "code",
   "execution_count": 113,
   "metadata": {},
   "outputs": [
    {
     "data": {
      "text/plain": [
       "-0.08794122934165582"
      ]
     },
     "execution_count": 113,
     "metadata": {},
     "output_type": "execute_result"
    }
   ],
   "source": [
    "reloaded_cc[0]"
   ]
  },
  {
   "cell_type": "code",
   "execution_count": 114,
   "metadata": {},
   "outputs": [
    {
     "data": {
      "text/plain": [
       "'x1z1 x0z1 x1z1 x0z0 x0z0 x0z0 x0z0 x0z0'"
      ]
     },
     "execution_count": 114,
     "metadata": {},
     "output_type": "execute_result"
    }
   ],
   "source": [
    "reloaded_P[0]"
   ]
  },
  {
   "cell_type": "code",
   "execution_count": null,
   "metadata": {},
   "outputs": [],
   "source": []
  },
  {
   "cell_type": "code",
   "execution_count": null,
   "metadata": {},
   "outputs": [],
   "source": []
  }
 ],
 "metadata": {
  "kernelspec": {
   "display_name": ".venv",
   "language": "python",
   "name": "python3"
  },
  "language_info": {
   "codemirror_mode": {
    "name": "ipython",
    "version": 3
   },
   "file_extension": ".py",
   "mimetype": "text/x-python",
   "name": "python",
   "nbconvert_exporter": "python",
   "pygments_lexer": "ipython3",
   "version": "3.9.5"
  }
 },
 "nbformat": 4,
 "nbformat_minor": 2
}
