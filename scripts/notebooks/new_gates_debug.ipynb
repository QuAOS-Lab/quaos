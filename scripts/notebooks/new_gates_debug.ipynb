{
 "cells": [
  {
   "cell_type": "code",
   "execution_count": 1,
   "id": "566d2974",
   "metadata": {},
   "outputs": [],
   "source": [
    "import sys\n",
    "sys.path.append(\"././quaos\")\n",
    "from math import gcd\n",
    "\n",
    "from paulis import PauliSum, PauliString, Pauli\n",
    "import numpy as np\n",
    "from circuits import Circuit, Gate, SUM as CX, Hadamard as H, PHASE as S, SWAP\n",
    "from hamiltonian import random_pauli_hamiltonian, cancel_pauli, symplectic_pauli_reduction, pauli_reduce"
   ]
  },
  {
   "cell_type": "code",
   "execution_count": 3,
   "id": "c73176ae",
   "metadata": {},
   "outputs": [
    {
     "name": "stdout",
     "output_type": "stream",
     "text": [
      "[0] [0]\n",
      "[0] [0]\n",
      "[0] [0]\n",
      "[0] [0]\n",
      "[0] [0]\n",
      "[0] [0]\n",
      "[0] [0]\n",
      "[0] [0]\n",
      "[0] [0]\n",
      "[0] [0]\n",
      "[0] [0]\n",
      "[0] [0]\n",
      "[0] [0]\n",
      "[0] [0]\n",
      "[0] [0]\n",
      "[0] [0]\n"
     ]
    }
   ],
   "source": [
    "p = PauliSum(['x1z0 x1z1'], dimensions=[2, 2])\n",
    "p2 = PauliSum(['x1z1 x0z1'], dimensions=[2, 2])\n",
    "\n",
    "for x0 in range(2):\n",
    "    for z0 in range(2):\n",
    "        for x1 in range(2):\n",
    "            for z1 in range(2):\n",
    "                q = PauliSum([f'x{x0}z{z0} x{x1}z{z1}'], dimensions=[2, 2])\n",
    "                print((q * p).phases, (p * q).phases)\n",
    "\n"
   ]
  },
  {
   "cell_type": "code",
   "execution_count": 27,
   "id": "c8383aa1",
   "metadata": {},
   "outputs": [
    {
     "name": "stdout",
     "output_type": "stream",
     "text": [
      "[0 0 0 0] [0 0 0 0] 1 1\n",
      "[0 0 0 1] [0 0 1 1] 1 1\n",
      "[0 0 1 0] [0 0 1 0] 1 1\n",
      "[0 0 1 1] [0 0 0 1] 1 1\n",
      "[0 1 0 0] [0 1 0 0] 1 1\n",
      "[0 1 0 1] [0 1 1 1] 1 1\n",
      "[0 1 1 0] [0 1 1 0] 1 1\n",
      "[0 1 1 1] [0 1 0 1] 1 1\n",
      "[1 0 0 0] [1 1 0 0] 1 1\n",
      "[1 0 0 1] [1 1 1 1] 1 1\n",
      "[1 0 1 0] [1 1 1 0] 1 1\n",
      "[1 0 1 1] [1 1 0 1] 1 1\n",
      "[1 1 0 0] [1 0 0 0] 1 1\n",
      "[1 1 0 1] [1 0 1 1] 1 1\n",
      "[1 1 1 0] [1 0 1 0] 1 1\n",
      "[1 1 1 1] [1 0 0 1] 1 1\n"
     ]
    }
   ],
   "source": [
    "\n",
    "# Pauli multiplication phase table over GF(2) symplectic vectors\n",
    "# Represent each Pauli P as (x|z|phase) over GF(2) and integers mod 4\n",
    "# phase in {0, 1, 2, 3} corresponds to {+1, +i, -1, -i}\n",
    "\n",
    "# Map Pauli symplectic representation to human-readable labels\n",
    "pauli_labels = {\n",
    "    (0, 0): 'I',\n",
    "    (1, 0): 'X',\n",
    "    (0, 1): 'Z',\n",
    "    (1, 1): 'Y'\n",
    "}\n",
    "\n",
    "def symplectic_commute(p1, p2):\n",
    "    \"\"\"Check if two Paulis commute based on symplectic product.\"\"\"\n",
    "    x1, z1 = p1[:len(p1)//2], p1[len(p1)//2:]\n",
    "    x2, z2 = p2[:len(p2)//2], p2[len(p2)//2:]\n",
    "    return (np.dot(x1, z2) + np.dot(x2, z1)) % 2\n",
    "\n",
    "def apply_symplectic_cnot(p):\n",
    "    \"\"\"Apply 2-qubit CNOT symplectic matrix to Pauli (x|z).\"\"\"\n",
    "    x = p[:2].copy()\n",
    "    z = p[2:4].copy()\n",
    "    x_new = np.array([x[0], x[0] ^ x[1]], dtype=int)\n",
    "    z_new = np.array([z[0] ^ z[1], z[1]], dtype=int)\n",
    "    return np.concatenate([x_new, z_new])\n",
    "\n",
    "def track_phase_change(original_p, transformed_p, orig_phase):\n",
    "    \"\"\"\n",
    "    Compute new phase (mod 4) using commutation rules:\n",
    "    If conjugation anticommutes with original, flip sign (add 2 mod 4).\n",
    "    \"\"\"\n",
    "    # Here, just test commutation between original and transformed\n",
    "    if symplectic_commute(original_p, transformed_p) == 1:\n",
    "        return (orig_phase + 2) % 4\n",
    "    else:\n",
    "        return orig_phase\n",
    "\n",
    "for x0 in range(2):\n",
    "    for x1 in range(2):\n",
    "        for z0 in range(2):\n",
    "            for z1 in range(2):\n",
    "\n",
    "                # Example: input Pauli YI (iXZ) -> symplectic (1,0 | 1,0), phase 1 (i)\n",
    "                pauli_symp = np.array([x0, x1, z0, z1])  # \n",
    "                phase = 1  # phase = 1\n",
    "\n",
    "                # Step 1: Apply symplectic transformation from CNOT\n",
    "                pauli_symp_cnot = apply_symplectic_cnot(pauli_symp)\n",
    "\n",
    "                # Step 2: Recover new phase\n",
    "                new_phase = track_phase_change(pauli_symp, pauli_symp_cnot, phase)\n",
    "\n",
    "                print(pauli_symp, pauli_symp_cnot, phase, new_phase)"
   ]
  },
  {
   "cell_type": "code",
   "execution_count": null,
   "id": "27beb07d",
   "metadata": {},
   "outputs": [],
   "source": []
  }
 ],
 "metadata": {
  "kernelspec": {
   "display_name": ".venv",
   "language": "python",
   "name": "python3"
  },
  "language_info": {
   "codemirror_mode": {
    "name": "ipython",
    "version": 3
   },
   "file_extension": ".py",
   "mimetype": "text/x-python",
   "name": "python",
   "nbconvert_exporter": "python",
   "pygments_lexer": "ipython3",
   "version": "3.12.3"
  }
 },
 "nbformat": 4,
 "nbformat_minor": 5
}
