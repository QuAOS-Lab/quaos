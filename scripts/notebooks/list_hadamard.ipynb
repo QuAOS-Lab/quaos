{
 "cells": [
  {
   "cell_type": "code",
<<<<<<< HEAD
   "execution_count": 2,
=======
   "execution_count": 1,
>>>>>>> origin/dev-cnation
   "metadata": {},
   "outputs": [],
   "source": [
    "from quaos.symplectic import PauliString, PauliSum, Pauli\n",
<<<<<<< HEAD
    "from quaos.gates import Hadamard as H, SUM as CX, PHASE as S\n",
=======
    "from quaos.gates import Hadamard as H, SUM as CX, PHASE as S, Circuit\n",
>>>>>>> origin/dev-cnation
    "import numpy as np\n"
   ]
  },
  {
   "cell_type": "code",
<<<<<<< HEAD
   "execution_count": 3,
=======
   "execution_count": 2,
>>>>>>> origin/dev-cnation
   "metadata": {},
   "outputs": [
    {
     "name": "stdout",
     "output_type": "stream",
     "text": [
      "SORTING\n",
      "SORTING\n",
      "SORTING\n",
      "SORTING\n",
      "SORTING\n",
      "SORTING\n",
      "SORTING\n",
      "SORTING\n"
     ]
    }
   ],
   "source": [
    "ps0 = PauliSum(['x1z0 x0z0', 'x0z1 x0z0'], dimensions=[2, 2])\n",
    "ps1 = PauliSum(['x1z0 x1z0', 'x0z1 x1z0'], dimensions=[2, 2])\n",
    "ps2 = PauliSum(['x1z0 x0z1', 'x0z1 x0z1'], dimensions=[2, 2])\n",
    "ps3 = PauliSum(['x1z0 x1z1', 'x0z1 x1z1'], dimensions=[2, 2])\n",
    "\n",
    "ps0_2 = PauliSum(['x0z1 x0z0', 'x1z0 x0z0'], dimensions=[2, 2])\n",
    "ps1_2 = PauliSum(['x0z1 x1z0', 'x1z0 x1z0'], dimensions=[2, 2])\n",
    "ps2_2 = PauliSum(['x0z1 x0z1', 'x1z0 x0z1'], dimensions=[2, 2])\n",
    "ps3_2 = PauliSum(['x0z1 x1z1', 'x1z0 x1z1'], dimensions=[2, 2])\n",
    "\n",
    "SUM_01 = CX(0, 1, 2)\n",
    "SUM_10 = CX(1, 0, 2)\n",
    "S0 = S(0, 2)\n",
    "S1 = S(1, 2)\n",
    "H1 = H(1, 2)"
   ]
  },
  {
   "cell_type": "code",
<<<<<<< HEAD
   "execution_count": null,
=======
   "execution_count": 4,
>>>>>>> origin/dev-cnation
   "metadata": {},
   "outputs": [
    {
     "name": "stdout",
     "output_type": "stream",
     "text": [
      "16 28 66 119 141 92 18\n",
      "480\n"
     ]
    }
   ],
   "source": [
    "tier0 = [ps0, ps1, ps2, ps3, ps0_2, ps1_2, ps2_2, ps3_2]\n",
    "\n",
    "tier0_gates = [SUM_01, SUM_10, S0, S1]\n",
    "all_gates = tier0_gates + [H1]\n",
    "\n",
<<<<<<< HEAD
    "circuits = []\n",
    "\n",
    "tier1 = set()\n",
    "for p in tier0:\n",
    "    for g in tier0_gates:        \n",
=======
    "circuits = [Circuit([2, 2])]*8\n",
    "\n",
    "tier1 = set()\n",
    "for i, p in enumerate(tier0):\n",
    "    for g in tier0_gates:\n",
>>>>>>> origin/dev-cnation
    "        tier1.add(g.act(p))\n",
    "        \n",
    "\n",
    "tier2 = tier1.copy()\n",
    "for p in tier1:\n",
    "    for g in all_gates:\n",
    "        tier2.add(g.act(p))\n",
    "\n",
    "tier3 = tier2.copy()\n",
    "for p in tier2:\n",
    "    for g in all_gates:\n",
    "        tier3.add(g.act(p))\n",
    "\n",
    "tier4 = tier3.copy()\n",
    "for p in tier3:\n",
    "    for g in all_gates:\n",
    "        tier4.add(g.act(p))\n",
    "\n",
    "tier5 = tier4.copy()\n",
    "for p in tier4:\n",
    "    for g in all_gates: \n",
    "        tier5.add(g.act(p))\n",
    "    \n",
    "tier6 = tier5.copy()\n",
    "for p in tier5:\n",
    "    for g in all_gates:\n",
    "        tier6.add(g.act(p))\n",
    "\n",
    "tier7 = tier6.copy()\n",
    "for p in tier6:\n",
    "    for g in all_gates:\n",
    "        tier7.add(g.act(p))\n",
    "\n",
    "print(len(tier1), len(tier2) - len(tier1), len(tier3) - len(tier2), \n",
    "len(tier4) - len(tier3), len(tier5) - len(tier4), len(tier6) - len(tier5), len(tier7) - len(tier6))\n",
    "\n",
    "print(len(tier7))\n",
    "\n",
    "# TODO"
   ]
  },
  {
   "cell_type": "code",
<<<<<<< HEAD
   "execution_count": null,
=======
   "execution_count": 6,
>>>>>>> origin/dev-cnation
   "metadata": {},
   "outputs": [
    {
     "name": "stdout",
     "output_type": "stream",
     "text": [
<<<<<<< HEAD
      "32 66 72 32 34 10 0\n",
      "246\n"
=======
      "(1+0j)|x0z1 x0z0 | 0 \n",
      "(1+0j)|x1z0 x0z1 | 0 \n",
      "\n",
      "(1+0j)|x0z1 x1z0 | 0 \n",
      "(1+0j)|x1z1 x1z0 | 0 \n",
      "\n",
      "(1+0j)|x0z1 x0z1 | 0 \n",
      "(1+0j)|x1z0 x0z0 | 0 \n",
      "\n",
      "(1+0j)|x0z1 x0z1 | 0 \n",
      "(1+0j)|x1z1 x0z1 | 0 \n",
      "\n",
      "(1+0j)|x0z0 x1z1 | 0 \n",
      "(1+0j)|x1z1 x0z1 | 1 \n",
      "\n",
      "(1+0j)|x0z1 x1z0 | 0 \n",
      "(1+0j)|x1z0 x0z0 | 0 \n",
      "\n",
      "(1+0j)|x0z1 x1z0 | 0 \n",
      "(1+0j)|x1z0 x1z0 | 0 \n",
      "\n",
      "(1+0j)|x1z1 x1z1 | 1 \n",
      "(1+0j)|x0z0 x1z0 | 0 \n",
      "\n",
      "(1+0j)|x0z1 x1z1 | 0 \n",
      "(1+0j)|x1z0 x1z1 | 0 \n",
      "\n",
      "(1+0j)|x1z1 x1z0 | 1 \n",
      "(1+0j)|x0z0 x1z1 | 0 \n",
      "\n",
      "(1+0j)|x0z1 x0z0 | 0 \n",
      "(1+0j)|x1z0 x1z0 | 0 \n",
      "\n",
      "(1+0j)|x0z1 x0z0 | 0 \n",
      "(1+0j)|x1z1 x0z0 | 0 \n",
      "\n",
      "(1+0j)|x0z0 x0z1 | 0 \n",
      "(1+0j)|x1z1 x1z1 | 1 \n",
      "\n",
      "(1+0j)|x0z1 x0z0 | 0 \n",
      "(1+0j)|x1z0 x0z0 | 0 \n",
      "\n",
      "(1+0j)|x0z1 x1z1 | 0 \n",
      "(1+0j)|x1z1 x1z1 | 0 \n",
      "\n",
      "(1+0j)|x0z1 x0z1 | 0 \n",
      "(1+0j)|x1z0 x0z1 | 0 \n",
      "\n"
>>>>>>> origin/dev-cnation
     ]
    }
   ],
   "source": [
<<<<<<< HEAD
    "tier0 = [ps0, ps1, ps2, ps3, ps0_2, ps1_2, ps2_2, ps3_2]\n",
    "\n",
    "tier0_gates = [SUM_01, SUM_10, S0, S1]\n",
    "all_gates = tier0_gates + [H1]\n",
    "\n",
    "circuits = []\n",
    "\n",
    "tier1 = set()\n",
    "for p in tier0:\n",
    "    for g in tier0_gates:        \n",
    "        tier1.add(g.act(p))\n",
    "\n",
    "tier2 = tier1.copy()\n",
    "for p in tier1:\n",
    "    for g in all_gates:\n",
    "        tier2.add(g.act(p))\n",
    "\n",
    "tier3 = tier2.copy()\n",
    "for p in tier2:\n",
    "    for g in all_gates:\n",
    "        tier3.add(g.act(p))\n",
    "\n",
    "tier4 = tier3.copy()\n",
    "for p in tier3:\n",
    "    for g in all_gates:\n",
    "        tier4.add(g.act(p))\n",
    "\n",
    "tier5 = tier4.copy()\n",
    "for p in tier4:\n",
    "    for g in all_gates: \n",
    "        tier5.add(g.act(p))\n",
    "    \n",
    "tier6 = tier5.copy()\n",
    "for p in tier5:\n",
    "    for g in all_gates:\n",
    "        tier6.add(g.act(p))\n",
    "\n",
    "tier7 = tier6.copy()\n",
    "for p in tier6:\n",
    "    for g in all_gates:\n",
    "        tier7.add(g.act(p))\n",
    "\n",
    "print(len(tier1), len(tier2) - len(tier1), len(tier3) - len(tier2), \n",
    "len(tier4) - len(tier3), len(tier5) - len(tier4), len(tier6) - len(tier5), len(tier7) - len(tier6))\n",
    "\n",
    "print(len(tier7))\n",
    "\n",
    "# TODO"
=======
    "for p in tier1:\n",
    "    print(p)"
>>>>>>> origin/dev-cnation
   ]
  },
  {
   "cell_type": "code",
   "execution_count": null,
   "metadata": {},
   "outputs": [],
   "source": []
  }
 ],
 "metadata": {
  "kernelspec": {
<<<<<<< HEAD
   "display_name": "base",
=======
   "display_name": ".venv",
>>>>>>> origin/dev-cnation
   "language": "python",
   "name": "python3"
  },
  "language_info": {
   "codemirror_mode": {
    "name": "ipython",
    "version": 3
   },
   "file_extension": ".py",
   "mimetype": "text/x-python",
   "name": "python",
   "nbconvert_exporter": "python",
   "pygments_lexer": "ipython3",
<<<<<<< HEAD
   "version": "3.11.5"
=======
   "version": "3.12.3"
>>>>>>> origin/dev-cnation
  }
 },
 "nbformat": 4,
 "nbformat_minor": 2
}
