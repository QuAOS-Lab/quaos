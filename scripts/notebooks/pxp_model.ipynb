{
 "cells": [
  {
   "cell_type": "code",
   "execution_count": 1,
   "id": "69e901eb",
   "metadata": {},
   "outputs": [],
   "source": [
    "import numpy as np\n",
    "from quaos.paulis import PauliSum, PauliString, Pauli\n",
    "from quaos.paulis.pauli import Xnd, Ynd, Znd, Id\n",
    "from quaos.hamiltonian import symplectic_pauli_reduction, pauli_reduce\n"
   ]
  },
  {
   "cell_type": "code",
   "execution_count": 2,
   "id": "d43de3e9",
   "metadata": {},
   "outputs": [],
   "source": [
    "def pxp_model(n_qubits):\n",
    "    dims = [2] * n_qubits\n",
    "    psum = []\n",
    "    for i in range(n_qubits-2):\n",
    "        id = PauliSum([PauliString(np.zeros(n_qubits, dtype=int), np.zeros(n_qubits, dtype=int), dims)])\n",
    "\n",
    "        x_exp_z1 = np.zeros(n_qubits, dtype=int)\n",
    "        z_exp_z1 = np.zeros(n_qubits, dtype=int)\n",
    "        z_exp_z1[i] = 1\n",
    "        z1 = PauliSum([PauliString(x_exp_z1, z_exp_z1, dims)])\n",
    "\n",
    "        x_exp_z2 = np.zeros(n_qubits, dtype=int)\n",
    "        z_exp_z2 = np.zeros(n_qubits, dtype=int)\n",
    "        z_exp_z2[i+2] = 1\n",
    "        z2 = PauliSum([PauliString(x_exp_z2, z_exp_z2, dims)])\n",
    "\n",
    "        x_exp_x = np.zeros(n_qubits, dtype=int)\n",
    "        z_exp_x = np.zeros(n_qubits, dtype=int)\n",
    "        x_exp_x[i+1] = 1\n",
    "        x = PauliSum([PauliString(x_exp_x, z_exp_x, dims)])\n",
    "\n",
    "        p1 = id - z1\n",
    "        p2 = id - z2\n",
    "\n",
    "        H_i = p1 * x * p2\n",
    "        if i == 0:\n",
    "            H = H_i\n",
    "        else:\n",
    "            H += H_i\n",
    "    H.remove_trivial_paulis()\n",
    "    return H\n",
    "        "
   ]
  },
  {
   "cell_type": "code",
   "execution_count": 7,
   "id": "88595135",
   "metadata": {},
   "outputs": [
    {
     "name": "stdout",
     "output_type": "stream",
     "text": [
      "(1+0j) |x0z0 x1z0 x0z0 x0z0 x0z0 x0z0 x0z0 x0z0 x0z0 x0z0 x0z0 x0z0 x0z0 x0z0 x0z0 | 0 \n",
      "(-1-0j)|x0z0 x1z0 x0z1 x0z0 x0z0 x0z0 x0z0 x0z0 x0z0 x0z0 x0z0 x0z0 x0z0 x0z0 x0z0 | 0 \n",
      "(-1-0j)|x0z1 x1z0 x0z0 x0z0 x0z0 x0z0 x0z0 x0z0 x0z0 x0z0 x0z0 x0z0 x0z0 x0z0 x0z0 | 0 \n",
      "(1+0j) |x0z1 x1z0 x0z1 x0z0 x0z0 x0z0 x0z0 x0z0 x0z0 x0z0 x0z0 x0z0 x0z0 x0z0 x0z0 | 0 \n",
      "(1+0j) |x0z0 x0z0 x1z0 x0z0 x0z0 x0z0 x0z0 x0z0 x0z0 x0z0 x0z0 x0z0 x0z0 x0z0 x0z0 | 0 \n",
      "(-1-0j)|x0z0 x0z0 x1z0 x0z1 x0z0 x0z0 x0z0 x0z0 x0z0 x0z0 x0z0 x0z0 x0z0 x0z0 x0z0 | 0 \n",
      "(-1-0j)|x0z0 x0z1 x1z0 x0z0 x0z0 x0z0 x0z0 x0z0 x0z0 x0z0 x0z0 x0z0 x0z0 x0z0 x0z0 | 0 \n",
      "(1+0j) |x0z0 x0z1 x1z0 x0z1 x0z0 x0z0 x0z0 x0z0 x0z0 x0z0 x0z0 x0z0 x0z0 x0z0 x0z0 | 0 \n",
      "(1+0j) |x0z0 x0z0 x0z0 x1z0 x0z0 x0z0 x0z0 x0z0 x0z0 x0z0 x0z0 x0z0 x0z0 x0z0 x0z0 | 0 \n",
      "(-1-0j)|x0z0 x0z0 x0z0 x1z0 x0z1 x0z0 x0z0 x0z0 x0z0 x0z0 x0z0 x0z0 x0z0 x0z0 x0z0 | 0 \n",
      "(-1-0j)|x0z0 x0z0 x0z1 x1z0 x0z0 x0z0 x0z0 x0z0 x0z0 x0z0 x0z0 x0z0 x0z0 x0z0 x0z0 | 0 \n",
      "(1+0j) |x0z0 x0z0 x0z1 x1z0 x0z1 x0z0 x0z0 x0z0 x0z0 x0z0 x0z0 x0z0 x0z0 x0z0 x0z0 | 0 \n",
      "(1+0j) |x0z0 x0z0 x0z0 x0z0 x1z0 x0z0 x0z0 x0z0 x0z0 x0z0 x0z0 x0z0 x0z0 x0z0 x0z0 | 0 \n",
      "(-1-0j)|x0z0 x0z0 x0z0 x0z0 x1z0 x0z1 x0z0 x0z0 x0z0 x0z0 x0z0 x0z0 x0z0 x0z0 x0z0 | 0 \n",
      "(-1-0j)|x0z0 x0z0 x0z0 x0z1 x1z0 x0z0 x0z0 x0z0 x0z0 x0z0 x0z0 x0z0 x0z0 x0z0 x0z0 | 0 \n",
      "(1+0j) |x0z0 x0z0 x0z0 x0z1 x1z0 x0z1 x0z0 x0z0 x0z0 x0z0 x0z0 x0z0 x0z0 x0z0 x0z0 | 0 \n",
      "(1+0j) |x0z0 x0z0 x0z0 x0z0 x0z0 x1z0 x0z0 x0z0 x0z0 x0z0 x0z0 x0z0 x0z0 x0z0 x0z0 | 0 \n",
      "(-1-0j)|x0z0 x0z0 x0z0 x0z0 x0z0 x1z0 x0z1 x0z0 x0z0 x0z0 x0z0 x0z0 x0z0 x0z0 x0z0 | 0 \n",
      "(-1-0j)|x0z0 x0z0 x0z0 x0z0 x0z1 x1z0 x0z0 x0z0 x0z0 x0z0 x0z0 x0z0 x0z0 x0z0 x0z0 | 0 \n",
      "(1+0j) |x0z0 x0z0 x0z0 x0z0 x0z1 x1z0 x0z1 x0z0 x0z0 x0z0 x0z0 x0z0 x0z0 x0z0 x0z0 | 0 \n",
      "(1+0j) |x0z0 x0z0 x0z0 x0z0 x0z0 x0z0 x1z0 x0z0 x0z0 x0z0 x0z0 x0z0 x0z0 x0z0 x0z0 | 0 \n",
      "(-1-0j)|x0z0 x0z0 x0z0 x0z0 x0z0 x0z0 x1z0 x0z1 x0z0 x0z0 x0z0 x0z0 x0z0 x0z0 x0z0 | 0 \n",
      "(-1-0j)|x0z0 x0z0 x0z0 x0z0 x0z0 x0z1 x1z0 x0z0 x0z0 x0z0 x0z0 x0z0 x0z0 x0z0 x0z0 | 0 \n",
      "(1+0j) |x0z0 x0z0 x0z0 x0z0 x0z0 x0z1 x1z0 x0z1 x0z0 x0z0 x0z0 x0z0 x0z0 x0z0 x0z0 | 0 \n",
      "(1+0j) |x0z0 x0z0 x0z0 x0z0 x0z0 x0z0 x0z0 x1z0 x0z0 x0z0 x0z0 x0z0 x0z0 x0z0 x0z0 | 0 \n",
      "(-1-0j)|x0z0 x0z0 x0z0 x0z0 x0z0 x0z0 x0z0 x1z0 x0z1 x0z0 x0z0 x0z0 x0z0 x0z0 x0z0 | 0 \n",
      "(-1-0j)|x0z0 x0z0 x0z0 x0z0 x0z0 x0z0 x0z1 x1z0 x0z0 x0z0 x0z0 x0z0 x0z0 x0z0 x0z0 | 0 \n",
      "(1+0j) |x0z0 x0z0 x0z0 x0z0 x0z0 x0z0 x0z1 x1z0 x0z1 x0z0 x0z0 x0z0 x0z0 x0z0 x0z0 | 0 \n",
      "(1+0j) |x0z0 x0z0 x0z0 x0z0 x0z0 x0z0 x0z0 x0z0 x1z0 x0z0 x0z0 x0z0 x0z0 x0z0 x0z0 | 0 \n",
      "(-1-0j)|x0z0 x0z0 x0z0 x0z0 x0z0 x0z0 x0z0 x0z0 x1z0 x0z1 x0z0 x0z0 x0z0 x0z0 x0z0 | 0 \n",
      "(-1-0j)|x0z0 x0z0 x0z0 x0z0 x0z0 x0z0 x0z0 x0z1 x1z0 x0z0 x0z0 x0z0 x0z0 x0z0 x0z0 | 0 \n",
      "(1+0j) |x0z0 x0z0 x0z0 x0z0 x0z0 x0z0 x0z0 x0z1 x1z0 x0z1 x0z0 x0z0 x0z0 x0z0 x0z0 | 0 \n",
      "(1+0j) |x0z0 x0z0 x0z0 x0z0 x0z0 x0z0 x0z0 x0z0 x0z0 x1z0 x0z0 x0z0 x0z0 x0z0 x0z0 | 0 \n",
      "(-1-0j)|x0z0 x0z0 x0z0 x0z0 x0z0 x0z0 x0z0 x0z0 x0z0 x1z0 x0z1 x0z0 x0z0 x0z0 x0z0 | 0 \n",
      "(-1-0j)|x0z0 x0z0 x0z0 x0z0 x0z0 x0z0 x0z0 x0z0 x0z1 x1z0 x0z0 x0z0 x0z0 x0z0 x0z0 | 0 \n",
      "(1+0j) |x0z0 x0z0 x0z0 x0z0 x0z0 x0z0 x0z0 x0z0 x0z1 x1z0 x0z1 x0z0 x0z0 x0z0 x0z0 | 0 \n",
      "(1+0j) |x0z0 x0z0 x0z0 x0z0 x0z0 x0z0 x0z0 x0z0 x0z0 x0z0 x1z0 x0z0 x0z0 x0z0 x0z0 | 0 \n",
      "(-1-0j)|x0z0 x0z0 x0z0 x0z0 x0z0 x0z0 x0z0 x0z0 x0z0 x0z0 x1z0 x0z1 x0z0 x0z0 x0z0 | 0 \n",
      "(-1-0j)|x0z0 x0z0 x0z0 x0z0 x0z0 x0z0 x0z0 x0z0 x0z0 x0z1 x1z0 x0z0 x0z0 x0z0 x0z0 | 0 \n",
      "(1+0j) |x0z0 x0z0 x0z0 x0z0 x0z0 x0z0 x0z0 x0z0 x0z0 x0z1 x1z0 x0z1 x0z0 x0z0 x0z0 | 0 \n",
      "(1+0j) |x0z0 x0z0 x0z0 x0z0 x0z0 x0z0 x0z0 x0z0 x0z0 x0z0 x0z0 x1z0 x0z0 x0z0 x0z0 | 0 \n",
      "(-1-0j)|x0z0 x0z0 x0z0 x0z0 x0z0 x0z0 x0z0 x0z0 x0z0 x0z0 x0z0 x1z0 x0z1 x0z0 x0z0 | 0 \n",
      "(-1-0j)|x0z0 x0z0 x0z0 x0z0 x0z0 x0z0 x0z0 x0z0 x0z0 x0z0 x0z1 x1z0 x0z0 x0z0 x0z0 | 0 \n",
      "(1+0j) |x0z0 x0z0 x0z0 x0z0 x0z0 x0z0 x0z0 x0z0 x0z0 x0z0 x0z1 x1z0 x0z1 x0z0 x0z0 | 0 \n",
      "(1+0j) |x0z0 x0z0 x0z0 x0z0 x0z0 x0z0 x0z0 x0z0 x0z0 x0z0 x0z0 x0z0 x1z0 x0z0 x0z0 | 0 \n",
      "(-1-0j)|x0z0 x0z0 x0z0 x0z0 x0z0 x0z0 x0z0 x0z0 x0z0 x0z0 x0z0 x0z0 x1z0 x0z1 x0z0 | 0 \n",
      "(-1-0j)|x0z0 x0z0 x0z0 x0z0 x0z0 x0z0 x0z0 x0z0 x0z0 x0z0 x0z0 x0z1 x1z0 x0z0 x0z0 | 0 \n",
      "(1+0j) |x0z0 x0z0 x0z0 x0z0 x0z0 x0z0 x0z0 x0z0 x0z0 x0z0 x0z0 x0z1 x1z0 x0z1 x0z0 | 0 \n",
      "(1+0j) |x0z0 x0z0 x0z0 x0z0 x0z0 x0z0 x0z0 x0z0 x0z0 x0z0 x0z0 x0z0 x0z0 x1z0 x0z0 | 0 \n",
      "(-1-0j)|x0z0 x0z0 x0z0 x0z0 x0z0 x0z0 x0z0 x0z0 x0z0 x0z0 x0z0 x0z0 x0z0 x1z0 x0z1 | 0 \n",
      "(-1-0j)|x0z0 x0z0 x0z0 x0z0 x0z0 x0z0 x0z0 x0z0 x0z0 x0z0 x0z0 x0z0 x0z1 x1z0 x0z0 | 0 \n",
      "(1+0j) |x0z0 x0z0 x0z0 x0z0 x0z0 x0z0 x0z0 x0z0 x0z0 x0z0 x0z0 x0z0 x0z1 x1z0 x0z1 | 0 \n",
      "\n"
     ]
    }
   ],
   "source": [
    "H = pxp_model(15)\n",
    "print(H)"
   ]
  },
  {
   "cell_type": "code",
   "execution_count": 10,
   "id": "cbe23f05",
   "metadata": {},
   "outputs": [
    {
     "name": "stdout",
     "output_type": "stream",
     "text": [
      "(1+0j) |x1z0 x0z1 x0z0 x0z0 x0z0 x0z0 x0z0 x0z0 x0z0 x0z0 x0z0 x0z0 x0z0 x0z0 x0z0 | 0 \n",
      "(-1-0j)|x0z0 x0z1 x0z1 x0z0 x0z0 x0z0 x0z0 x0z0 x0z0 x0z0 x0z0 x0z0 x0z0 x0z0 x0z0 | 0 \n",
      "(-1-0j)|x1z0 x0z0 x0z0 x0z0 x0z0 x0z0 x0z0 x0z0 x0z0 x0z0 x0z0 x0z0 x0z0 x0z0 x0z0 | 0 \n",
      "(1+0j) |x0z0 x0z0 x0z1 x0z0 x0z0 x0z0 x0z0 x0z0 x0z0 x0z0 x0z0 x0z0 x0z0 x0z0 x0z0 | 0 \n",
      "(1+0j) |x0z0 x0z0 x1z0 x0z0 x0z0 x0z0 x0z0 x0z0 x0z0 x0z0 x0z0 x0z0 x0z0 x0z0 x0z0 | 0 \n",
      "(-1-0j)|x0z0 x0z0 x1z0 x0z1 x0z0 x0z0 x0z0 x0z0 x0z0 x0z0 x0z0 x0z0 x0z0 x0z0 x0z0 | 0 \n",
      "(-1-0j)|x0z1 x0z0 x0z0 x0z0 x0z0 x0z0 x0z0 x0z0 x0z0 x0z0 x0z0 x0z0 x0z0 x0z0 x0z0 | 0 \n",
      "(1+0j) |x0z1 x0z0 x0z0 x0z1 x0z0 x0z0 x0z0 x0z0 x0z0 x0z0 x0z0 x0z0 x0z0 x0z0 x0z0 | 0 \n",
      "(1+0j) |x0z0 x0z0 x0z0 x1z0 x0z0 x0z0 x0z0 x0z0 x0z0 x0z0 x0z0 x0z0 x0z0 x0z0 x0z0 | 0 \n",
      "(-1-0j)|x0z0 x0z0 x0z0 x1z0 x0z1 x0z0 x0z0 x0z0 x0z0 x0z0 x0z0 x0z0 x0z0 x0z0 x0z0 | 0 \n",
      "(-1-0j)|x1z0 x0z0 x0z1 x1z0 x0z0 x0z0 x0z0 x0z0 x0z0 x0z0 x0z0 x0z0 x0z0 x0z0 x0z0 | 0 \n",
      "(1+0j) |x1z0 x0z0 x0z1 x1z0 x0z1 x0z0 x0z0 x0z0 x0z0 x0z0 x0z0 x0z0 x0z0 x0z0 x0z0 | 0 \n",
      "(1+0j) |x0z0 x0z0 x0z0 x0z0 x1z0 x0z0 x0z0 x0z0 x0z0 x0z0 x0z0 x0z0 x0z0 x0z0 x0z0 | 0 \n",
      "(-1-0j)|x0z0 x0z0 x0z0 x0z0 x1z0 x0z1 x0z0 x0z0 x0z0 x0z0 x0z0 x0z0 x0z0 x0z0 x0z0 | 0 \n",
      "(-1-0j)|x0z0 x0z0 x0z0 x0z1 x1z0 x0z0 x0z0 x0z0 x0z0 x0z0 x0z0 x0z0 x0z0 x0z0 x0z0 | 0 \n",
      "(1+0j) |x0z0 x0z0 x0z0 x0z1 x1z0 x0z1 x0z0 x0z0 x0z0 x0z0 x0z0 x0z0 x0z0 x0z0 x0z0 | 0 \n",
      "(1+0j) |x0z0 x0z0 x0z0 x0z0 x0z0 x1z0 x0z0 x0z0 x0z0 x0z0 x0z0 x0z0 x0z0 x0z0 x0z0 | 0 \n",
      "(-1-0j)|x0z0 x0z0 x0z0 x0z0 x0z0 x1z0 x0z1 x0z0 x0z0 x0z0 x0z0 x0z0 x0z0 x0z0 x0z0 | 0 \n",
      "(-1-0j)|x0z0 x0z0 x0z0 x0z0 x0z1 x1z0 x0z0 x0z0 x0z0 x0z0 x0z0 x0z0 x0z0 x0z0 x0z0 | 0 \n",
      "(1+0j) |x0z0 x0z0 x0z0 x0z0 x0z1 x1z0 x0z1 x0z0 x0z0 x0z0 x0z0 x0z0 x0z0 x0z0 x0z0 | 0 \n",
      "(1+0j) |x0z0 x0z0 x0z0 x0z0 x0z0 x0z0 x1z0 x0z0 x0z0 x0z0 x0z0 x0z0 x0z0 x0z0 x0z0 | 0 \n",
      "(-1-0j)|x0z0 x0z0 x0z0 x0z0 x0z0 x0z0 x1z0 x0z1 x0z0 x0z0 x0z0 x0z0 x0z0 x0z0 x0z0 | 0 \n",
      "(-1-0j)|x0z0 x0z0 x0z0 x0z0 x0z0 x0z1 x1z0 x0z0 x0z0 x0z0 x0z0 x0z0 x0z0 x0z0 x0z0 | 0 \n",
      "(1+0j) |x0z0 x0z0 x0z0 x0z0 x0z0 x0z1 x1z0 x0z1 x0z0 x0z0 x0z0 x0z0 x0z0 x0z0 x0z0 | 0 \n",
      "(1+0j) |x0z0 x0z0 x0z0 x0z0 x0z0 x0z0 x0z0 x1z0 x0z0 x0z0 x0z0 x0z0 x0z0 x0z0 x0z0 | 0 \n",
      "(-1-0j)|x0z0 x0z0 x0z0 x0z0 x0z0 x0z0 x0z0 x1z0 x0z1 x0z0 x0z0 x0z0 x0z0 x0z0 x0z0 | 0 \n",
      "(-1-0j)|x0z0 x0z0 x0z0 x0z0 x0z0 x0z0 x0z1 x1z0 x0z0 x0z0 x0z0 x0z0 x0z0 x0z0 x0z0 | 0 \n",
      "(1+0j) |x0z0 x0z0 x0z0 x0z0 x0z0 x0z0 x0z1 x1z0 x0z1 x0z0 x0z0 x0z0 x0z0 x0z0 x0z0 | 0 \n",
      "(1+0j) |x0z0 x0z0 x0z0 x0z0 x0z0 x0z0 x0z0 x0z0 x1z0 x0z0 x0z0 x0z0 x0z0 x0z0 x0z0 | 0 \n",
      "(-1-0j)|x0z0 x0z0 x0z0 x0z0 x0z0 x0z0 x0z0 x0z0 x1z0 x0z1 x0z0 x0z0 x0z0 x0z0 x0z0 | 0 \n",
      "(-1-0j)|x0z0 x0z0 x0z0 x0z0 x0z0 x0z0 x0z0 x0z1 x1z0 x0z0 x0z0 x0z0 x0z0 x0z0 x0z0 | 0 \n",
      "(1+0j) |x0z0 x0z0 x0z0 x0z0 x0z0 x0z0 x0z0 x0z1 x1z0 x0z1 x0z0 x0z0 x0z0 x0z0 x0z0 | 0 \n",
      "(1+0j) |x0z0 x0z0 x0z0 x0z0 x0z0 x0z0 x0z0 x0z0 x0z0 x1z0 x0z0 x0z0 x0z0 x0z0 x0z0 | 0 \n",
      "(-1-0j)|x0z0 x0z0 x0z0 x0z0 x0z0 x0z0 x0z0 x0z0 x0z0 x1z0 x0z1 x0z0 x0z0 x0z0 x0z0 | 0 \n",
      "(-1-0j)|x0z0 x0z0 x0z0 x0z0 x0z0 x0z0 x0z0 x0z0 x0z1 x1z0 x0z0 x0z0 x0z0 x0z0 x0z0 | 0 \n",
      "(1+0j) |x0z0 x0z0 x0z0 x0z0 x0z0 x0z0 x0z0 x0z0 x0z1 x1z0 x0z1 x0z0 x0z0 x0z0 x0z0 | 0 \n",
      "(1+0j) |x0z0 x0z0 x0z0 x0z0 x0z0 x0z0 x0z0 x0z0 x0z0 x0z0 x1z0 x0z0 x0z0 x0z0 x0z0 | 0 \n",
      "(-1-0j)|x0z0 x0z0 x0z0 x0z0 x0z0 x0z0 x0z0 x0z0 x0z0 x0z0 x1z0 x0z1 x0z0 x0z0 x0z0 | 0 \n",
      "(-1-0j)|x0z0 x0z0 x0z0 x0z0 x0z0 x0z0 x0z0 x0z0 x0z0 x0z1 x1z0 x0z0 x0z0 x0z0 x0z0 | 0 \n",
      "(1+0j) |x0z0 x0z0 x0z0 x0z0 x0z0 x0z0 x0z0 x0z0 x0z0 x0z1 x1z0 x0z1 x0z0 x0z0 x0z0 | 0 \n",
      "(1+0j) |x0z0 x0z0 x0z0 x0z0 x0z0 x0z0 x0z0 x0z0 x0z0 x0z0 x0z0 x1z0 x0z0 x0z0 x0z0 | 0 \n",
      "(-1-0j)|x0z0 x0z0 x0z0 x0z0 x0z0 x0z0 x0z0 x0z0 x0z0 x0z0 x0z0 x1z0 x0z1 x0z0 x0z0 | 0 \n",
      "(-1-0j)|x0z0 x0z0 x0z0 x0z0 x0z0 x0z0 x0z0 x0z0 x0z0 x0z0 x0z1 x1z0 x0z0 x0z0 x0z0 | 0 \n",
      "(1+0j) |x0z0 x0z0 x0z0 x0z0 x0z0 x0z0 x0z0 x0z0 x0z0 x0z0 x0z1 x1z0 x0z1 x0z0 x0z0 | 0 \n",
      "(1+0j) |x0z0 x0z0 x0z0 x0z0 x0z0 x0z0 x0z0 x0z0 x0z0 x0z0 x0z0 x0z0 x1z0 x0z0 x0z0 | 0 \n",
      "(-1-0j)|x0z0 x0z0 x0z0 x0z0 x0z0 x0z0 x0z0 x0z0 x0z0 x0z0 x0z0 x0z0 x1z0 x0z1 x0z0 | 0 \n",
      "(-1-0j)|x0z0 x0z0 x0z0 x0z0 x0z0 x0z0 x0z0 x0z0 x0z0 x0z0 x0z0 x0z1 x1z0 x0z0 x0z0 | 0 \n",
      "(1+0j) |x0z0 x0z0 x0z0 x0z0 x0z0 x0z0 x0z0 x0z0 x0z0 x0z0 x0z0 x0z1 x1z0 x0z1 x0z0 | 0 \n",
      "(1+0j) |x0z0 x0z0 x0z0 x0z0 x0z0 x0z0 x0z0 x0z0 x0z0 x0z0 x0z0 x0z0 x0z0 x1z0 x0z0 | 0 \n",
      "(-1-0j)|x0z0 x0z0 x0z0 x0z0 x0z0 x0z0 x0z0 x0z0 x0z0 x0z0 x0z0 x0z0 x0z0 x1z0 x0z1 | 0 \n",
      "(-1-0j)|x0z0 x0z0 x0z0 x0z0 x0z0 x0z0 x0z0 x0z0 x0z0 x0z0 x0z0 x0z0 x0z1 x1z0 x0z0 | 0 \n",
      "(1+0j) |x0z0 x0z0 x0z0 x0z0 x0z0 x0z0 x0z0 x0z0 x0z0 x0z0 x0z0 x0z0 x0z1 x1z0 x0z1 | 0 \n",
      "\n",
      "13\n",
      "13\n",
      "13\n",
      "13\n",
      "      ┌───┐     ┌───┐     ┌───┐┌───┐┌───┐┌───┐\n",
      " q_0: ┤ H ├──■──┤ H ├──■──┤ H ├┤ X ├┤ H ├┤ H ├\n",
      "      └───┘┌─┴─┐└───┘  │  └───┘└─┬─┘├───┤└───┘\n",
      " q_1: ─────┤ X ├───────┼─────────■──┤ H ├─────\n",
      "           └───┘     ┌─┴─┐┌───┐┌───┐└───┘     \n",
      " q_2: ───────────────┤ X ├┤ H ├┤ H ├──────────\n",
      "      ┌───┐┌───┐     └───┘└───┘└───┘          \n",
      " q_3: ┤ H ├┤ H ├──────────────────────────────\n",
      "      ├───┤├───┤                              \n",
      " q_4: ┤ H ├┤ H ├──────────────────────────────\n",
      "      ├───┤├───┤                              \n",
      " q_5: ┤ H ├┤ H ├──────────────────────────────\n",
      "      ├───┤├───┤                              \n",
      " q_6: ┤ H ├┤ H ├──────────────────────────────\n",
      "      ├───┤├───┤                              \n",
      " q_7: ┤ H ├┤ H ├──────────────────────────────\n",
      "      ├───┤├───┤                              \n",
      " q_8: ┤ H ├┤ H ├──────────────────────────────\n",
      "      ├───┤├───┤                              \n",
      " q_9: ┤ H ├┤ H ├──────────────────────────────\n",
      "      ├───┤├───┤                              \n",
      "q_10: ┤ H ├┤ H ├──────────────────────────────\n",
      "      ├───┤├───┤                              \n",
      "q_11: ┤ H ├┤ H ├──────────────────────────────\n",
      "      ├───┤├───┤                              \n",
      "q_12: ┤ H ├┤ H ├──────────────────────────────\n",
      "      ├───┤├───┤                              \n",
      "q_13: ┤ H ├┤ H ├──────────────────────────────\n",
      "      ├───┤├───┤                              \n",
      "q_14: ┤ H ├┤ H ├──────────────────────────────\n",
      "      └───┘└───┘                              \n"
     ]
    },
    {
     "data": {
      "text/plain": [
       "<qiskit.circuit.quantumcircuit.QuantumCircuit at 0x7a0eead126c0>"
      ]
     },
     "execution_count": 10,
     "metadata": {},
     "output_type": "execute_result"
    }
   ],
   "source": [
    "h_reduced, conditioned_hams, reducing_circuit, eigenvalues = pauli_reduce(H)\n",
    "print(h_reduced)\n",
    "for h in conditioned_hams:\n",
    "    print(h.n_qudits())\n",
    "\n",
    "reducing_circuit.show()"
   ]
  },
  {
   "cell_type": "code",
   "execution_count": 13,
   "id": "6dfe78b6",
   "metadata": {},
   "outputs": [
    {
     "name": "stdout",
     "output_type": "stream",
     "text": [
      "(8192, 8192)\n"
     ]
    }
   ],
   "source": [
    "print(np.round(conditioned_hams[0].matrix_form().toarray(), 2).shape)"
   ]
  },
  {
   "cell_type": "code",
   "execution_count": null,
   "id": "abd70ac2",
   "metadata": {},
   "outputs": [],
   "source": []
  }
 ],
 "metadata": {
  "kernelspec": {
   "display_name": ".venv",
   "language": "python",
   "name": "python3"
  },
  "language_info": {
   "codemirror_mode": {
    "name": "ipython",
    "version": 3
   },
   "file_extension": ".py",
   "mimetype": "text/x-python",
   "name": "python",
   "nbconvert_exporter": "python",
   "pygments_lexer": "ipython3",
   "version": "3.12.3"
  }
 },
 "nbformat": 4,
 "nbformat_minor": 5
}
