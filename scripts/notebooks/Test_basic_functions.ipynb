{
 "cells": [
  {
   "cell_type": "code",
   "execution_count": 1,
   "id": "96dc27b1",
   "metadata": {},
   "outputs": [],
   "source": [
    "import numpy as np\n",
    "from quaos.basic_functions import *\n",
    "from quaos.hamiltonian import random_pauli_hamiltonian"
   ]
  },
  {
   "cell_type": "code",
   "execution_count": 2,
   "id": "df85ef1b",
   "metadata": {},
   "outputs": [
    {
     "name": "stdout",
     "output_type": "stream",
     "text": [
      "5\n",
      "[0 1 2]\n"
     ]
    }
   ],
   "source": [
    "# Testing bases_to_int and int_to_bases\n",
    "base = [ 0, 1, 2]\n",
    "dimensions = [ 3, 3, 3]\n",
    "a = bases_to_int(base, dimensions)\n",
    "print(a)\n",
    "\n",
    "b = int_to_bases(a, dimensions)\n",
    "print(b)\n",
    "\n"
   ]
  },
  {
   "cell_type": "code",
   "execution_count": 10,
   "id": "d73eeb9b",
   "metadata": {},
   "outputs": [
    {
     "name": "stdout",
     "output_type": "stream",
     "text": [
      "(0.12912146959409138-1.094534678708563j)  |x2z2 x0z0 | 0 \n",
      "(-1.0124555718816999-0.43544486651181746j)|x1z1 x0z0 | 0 \n",
      "(-0.5505431230943135+0.8717917526158686j) |x2z0 x1z1 | 0 \n",
      "(1.0302653661222578-0.04088845417056469j) |x1z0 x2z2 | 0 \n",
      "(-0.944146849227117+0.6676223618841812j)  |x0z2 x1z2 | 0 \n",
      "(-0.10610450091270962+1.15146633727581j)  |x0z1 x2z1 | 0 \n",
      "(-0.9736940854044491+1.1052871206268742j) |x1z1 x0z2 | 0 \n",
      "(1.4440537676408527-0.290600253161471j)   |x2z2 x0z1 | 0 \n",
      "(-0.22789409920636156+0j)                 |x0z0 x1z0 | 0 \n",
      "(0.3127043811558505+0j)                   |x0z2 x0z2 | 0 \n",
      "\n",
      "[ 0.12031883-0.12842515j  0.07241654+0.0812588j   0.22247314+0.18842262j\n",
      " -0.3470447 -0.22574856j -0.2177993 -0.11219521j  0.15754075-0.30958557j\n",
      " -0.4873801 -0.30527703j -0.01861662-0.01574506j  0.21555687+0.37723217j]\n",
      "\n",
      "(-1.176239806072845+0.030755151883723127j)\n",
      "\n",
      "[[ 1.08+0.j    0.15-0.24j  0.05-0.23j -0.24-0.j   -0.02-0.11j  0.27-0.68j\n",
      "  -0.32-0.06j  0.48+0.06j -0.05-0.04j -0.04-0.06j]\n",
      " [ 0.15+0.24j  1.08+0.j    0.32-0.13j  0.26+0.04j  0.31-0.42j  0.07-0.22j\n",
      "   0.48-0.06j -0.32+0.06j -0.01-0.01j  0.11+0.12j]\n",
      " [ 0.05+0.23j  0.32+0.13j  0.95+0.j   -0.47+0.02j  0.38-0.05j  0.11+0.33j\n",
      "   0.13-0.1j  -0.31-0.23j  0.03+0.04j  0.13+0.01j]\n",
      " [-0.24+0.j    0.26-0.04j -0.47-0.02j  0.95-0.j    0.07+0.14j -0.33-0.28j\n",
      "   0.47-0.29j -0.16+0.52j  0.03-0.03j -0.04-0.j  ]\n",
      " [-0.02+0.11j  0.31+0.42j  0.38+0.05j  0.07-0.14j  1.23+0.j   -0.32+0.2j\n",
      "  -0.22-0.31j -0.09-0.09j -0.04-0.06j -0.01+0.j  ]\n",
      " [ 0.27+0.68j  0.07+0.22j  0.11-0.33j -0.33+0.28j -0.32-0.2j   1.23+0.j\n",
      "  -0.09+0.09j -0.22+0.31j  0.03+0.03j -0.07-0.03j]\n",
      " [-0.32+0.06j  0.48+0.06j  0.13+0.1j   0.47+0.29j -0.22+0.31j -0.09-0.09j\n",
      "   1.58+0.j   -0.55-0.18j  0.09+0.11j  0.12-0.01j]\n",
      " [ 0.48-0.06j -0.32-0.06j -0.31+0.23j -0.16-0.52j -0.09+0.09j -0.22-0.31j\n",
      "  -0.55+0.18j  1.58-0.j   -0.06-0.j   -0.1 +0.05j]\n",
      " [-0.05+0.04j -0.01+0.01j  0.03-0.04j  0.03+0.03j -0.04+0.06j  0.03-0.03j\n",
      "   0.09-0.11j -0.06+0.j    0.05-0.j    0.01+0.j  ]\n",
      " [-0.04+0.06j  0.11-0.12j  0.13-0.01j -0.04+0.j   -0.01-0.j   -0.07+0.03j\n",
      "   0.12+0.01j -0.1 -0.05j  0.01-0.j    0.09+0.j  ]]\n",
      "\n",
      "[[1 1 0 0 0 0 1 1 1 0]\n",
      " [1 1 0 0 0 0 1 1 1 0]\n",
      " [0 0 1 1 0 0 0 0 0 1]\n",
      " [0 0 1 1 0 0 0 0 0 1]\n",
      " [0 0 0 0 1 1 1 1 0 0]\n",
      " [0 0 0 0 1 1 1 1 0 0]\n",
      " [1 1 0 0 1 1 1 1 0 0]\n",
      " [1 1 0 0 1 1 1 1 0 0]\n",
      " [1 1 0 0 0 0 0 0 1 0]\n",
      " [0 0 1 1 0 0 0 0 0 1]]\n"
     ]
    }
   ],
   "source": [
    "# Testing Hamiltonian Mean, rand_state, Covariance Matrix and Commutation Graph\n",
    "P = random_pauli_hamiltonian(6, [3,3], mode='rand', seed=None)\n",
    "psi = rand_state(9)\n",
    "psi = psi / np.linalg.norm(psi)\n",
    "print(P)\n",
    "print(psi)\n",
    "print()\n",
    "print(Hamiltonian_Mean(P, psi))\n",
    "print()\n",
    "cov = covariance_matrix(P, psi)\n",
    "print(np.around(cov,2))\n",
    "print()\n",
    "comm = commutation_graph(P)\n",
    "print(comm)"
   ]
  },
  {
   "cell_type": "code",
   "execution_count": 11,
   "id": "96ffea7d",
   "metadata": {},
   "outputs": [
    {
     "data": {
      "text/plain": [
       "(-0.5000000000000004-0.8660254037844385j)"
      ]
     },
     "execution_count": 11,
     "metadata": {},
     "output_type": "execute_result"
    }
   ],
   "source": [
    "# Testing complex phase value\n",
    "complex_phase_value(2, 3)"
   ]
  },
  {
   "cell_type": "code",
   "execution_count": 12,
   "id": "341e12fe",
   "metadata": {},
   "outputs": [
    {
     "name": "stdout",
     "output_type": "stream",
     "text": [
      "x2z2 x0z0 \n",
      "x1z1 x0z0 \n"
     ]
    }
   ],
   "source": [
    "# Testing PauliString Hermitian\n",
    "print(P[0])\n",
    "print(P[0].hermitian())"
   ]
  }
 ],
 "metadata": {
  "kernelspec": {
   "display_name": "base",
   "language": "python",
   "name": "python3"
  },
  "language_info": {
   "codemirror_mode": {
    "name": "ipython",
    "version": 3
   },
   "file_extension": ".py",
   "mimetype": "text/x-python",
   "name": "python",
   "nbconvert_exporter": "python",
   "pygments_lexer": "ipython3",
   "version": "3.11.5"
  }
 },
 "nbformat": 4,
 "nbformat_minor": 5
}
