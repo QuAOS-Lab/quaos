{
 "cells": [
  {
   "cell_type": "code",
   "execution_count": 1,
   "id": "68aa79c4",
   "metadata": {},
   "outputs": [],
   "source": [
    "import numpy as np\n",
    "from quaos.symplectic import PauliSum, PauliString, Pauli, Xnd, Ynd, Znd, Id, string_to_symplectic, symplectic_to_string\n",
    "from quaos.gates import GateOperation, Circuit, Hadamard as H, SUM as CX, PHASE as S\n",
    "from quaos.hamiltonian import *\n",
    "from quaos.core.prime_Functions_Andrew import int_to_bases\n",
    "from collections import defaultdict\n",
    "import sympy as sym\n",
    "from sympy.physics.quantum import TensorProduct,Operator"
   ]
  },
  {
   "cell_type": "code",
   "execution_count": 45,
   "id": "2370c09a",
   "metadata": {},
   "outputs": [],
   "source": [
    "def xi(a, d):\n",
    "    \"\"\"\n",
    "    Computes the a-th eigenvalue of a pauli with dimension d.\n",
    "    \n",
    "    Parameters:\n",
    "        a (int): The integer to compute the eigenvalue for.\n",
    "        d (int): The dimension of the pauli to use.\n",
    "    \n",
    "    Returns:\n",
    "        complex: The computed eigenvalue.\n",
    "    \"\"\"\n",
    "    return np.exp(2 * np.pi * 1j * a / d)\n",
    "\n",
    "def group_indices(lst):\n",
    "    \"\"\"\n",
    "    Groups indices of the same value in a list into sublists.\n",
    "    For example, if the input list is [1, 2, 1, 3, 2], the output will be [[0, 2], [1, 4], [3]].\n",
    "    \"\"\"\n",
    "    index_dict = defaultdict(list)\n",
    "    for idx, value in enumerate(lst):\n",
    "        index_dict[value].append(idx)\n",
    "    \n",
    "    return [indices for indices in index_dict.values()]\n",
    "\n",
    "\n",
    "def Hadamard_Symmetric_PauliSum(n_paulis,n_qubits,n_sym_q):\n",
    "    # create coefficients\n",
    "    c_int_bands = np.sort(np.random.randint(n_paulis,size=n_paulis))\n",
    "    c_bands = group_indices(c_int_bands)\n",
    "\n",
    "    coefficients = np.zeros(n_paulis)\n",
    "    sym_bands = []\n",
    "    for i,b in enumerate(c_bands):\n",
    "        coefficients[b] = np.random.normal(0, 1)\n",
    "        if len(b) != 1:\n",
    "            sym_bands.append(b)\n",
    "\n",
    "    #print(sym_bands)\n",
    "    n_extra_bands = np.floor(np.sum([len(b) for b in sym_bands])/2 - n_sym_q)\n",
    "    pauli_strings = ['' for i in range(n_paulis)]\n",
    "\n",
    "    all_x = []\n",
    "    all_z = []\n",
    "    for i in range(n_sym_q):\n",
    "        x_pauli = []\n",
    "        z_pauli = []\n",
    "        if len(sym_bands) >= 1:\n",
    "            b_ind = np.random.randint(len(sym_bands))\n",
    "            b = sym_bands[b_ind]\n",
    "            x_ind = np.random.randint(len(b))\n",
    "            x_pauli.append(b[x_ind])\n",
    "            b.pop(x_ind)\n",
    "            z_ind = np.random.randint(len(b))\n",
    "            z_pauli.append(b[z_ind])\n",
    "            b.pop(z_ind)\n",
    "            if len(b) < 2:\n",
    "                sym_bands.pop(b_ind)\n",
    "            else:\n",
    "                sym_bands[b_ind] = b\n",
    "\n",
    "            # randomly adding extra x and zs if possible\n",
    "            if n_extra_bands > 0 and len(sym_bands) >= 1:\n",
    "                extras = np.random.randint(n_extra_bands)\n",
    "                n_extra_bands -= extras\n",
    "                for j in range(extras):\n",
    "                    b_ind = np.random.randint(len(sym_bands))\n",
    "                    b = sym_bands[b_ind]\n",
    "                    x_ind = np.random.randint(len(b))\n",
    "                    x_pauli.append(b[x_ind])\n",
    "                    b.pop(x_ind)\n",
    "                    z_ind = np.random.randint(len(b))\n",
    "                    z_pauli.append(b[z_ind])\n",
    "                    b.pop(z_ind)\n",
    "                    if len(b) < 2:\n",
    "                        sym_bands.pop(b_ind)\n",
    "                    else:\n",
    "                        sym_bands[b_ind] = b\n",
    "        print(coefficients[x_pauli])\n",
    "        for j in range(n_paulis):\n",
    "            if j in x_pauli:\n",
    "                pauli_strings[j] += 'x1z0 '\n",
    "            elif j in z_pauli:\n",
    "                pauli_strings[j] += 'x0z1 '\n",
    "            else:\n",
    "                pauli_strings[j] += 'x0z0 '\n",
    "        all_x += x_pauli\n",
    "        all_z += z_pauli\n",
    "    print(all_x,all_z)\n",
    "    non_sym_paulis = [i for i in range(n_paulis) if not i in all_x and not i in all_z]\n",
    "    q_dims = [2 for i in range(2*(n_qubits-n_sym_q))]\n",
    "    available_paulis = list(np.arange(int(np.prod(q_dims))))\n",
    "    for i,x in enumerate(all_x):\n",
    "        pauli_index = np.random.choice(available_paulis)\n",
    "        available_paulis.remove(pauli_index)\n",
    "        exponents = int_to_bases(pauli_index, q_dims)\n",
    "        for j in range(n_qubits-n_sym_q):\n",
    "            r, s = int(exponents[2*j]), int(exponents[2*j+1])\n",
    "            pauli_strings[x] += f\"x{r}z{s} \"\n",
    "            pauli_strings[all_z[i]] += f\"x{r}z{s} \"\n",
    "\n",
    "        pauli_strings[x].strip()\n",
    "        pauli_strings[all_z[i]].strip()\n",
    "\n",
    "    for i in non_sym_paulis:\n",
    "        pauli_index = np.random.choice(available_paulis)\n",
    "        available_paulis.remove(pauli_index)\n",
    "        exponents = int_to_bases(pauli_index, q_dims)\n",
    "        for j in range(n_qubits-n_sym_q):\n",
    "            r, s = int(exponents[2*j]), int(exponents[2*j+1])\n",
    "            pauli_strings[i] += f\"x{r}z{s} \"\n",
    "        pauli_strings[i].strip()\n",
    "\n",
    "    P = PauliSum(pauli_strings, weights=coefficients ,dimensions=[2 for i in range(n_qubits)], phases=None,standardise=False)\n",
    "    #print(P)\n",
    "\n",
    "    # construct random Clifford circuit\n",
    "    C = Circuit(dimensions=[2 for i in range(n_qubits)])\n",
    "    gate_list = [H,S,CX]\n",
    "    gg = []\n",
    "    for i in range(100):\n",
    "        g_i = np.random.randint(3)\n",
    "        if g_i == 2:\n",
    "            aa = list(random.sample(range(n_qubits), 2))\n",
    "            gg += [gate_list[g_i](aa[0],aa[1],2)]\n",
    "            #print(aa)\n",
    "        else:\n",
    "            aa = list(random.sample(range(n_qubits), 1))\n",
    "            gg += [gate_list[g_i](aa[0],2)]\n",
    "        \n",
    "    C.add_gate(gg)\n",
    "    P = C.act(P)\n",
    "\n",
    "    phases = P.phases\n",
    "    cc = P.weights\n",
    "    ss = P.pauli_strings\n",
    "    dims = P.dimensions\n",
    "\n",
    "    cc *= np.array([-1]*n_paulis)**phases\n",
    "    P = PauliSum(ss, weights=cc ,dimensions=dims, phases=None,standardise=False)\n",
    "\n",
    "    # qubits shuffle qubits (Fisher Yates Shuffle)\n",
    "    '''\n",
    "    gg = []\n",
    "    order = np.arange(n_qubits)\n",
    "    for i in np.arange(n_qubits)[::-1]:\n",
    "        j = np.random.randint(i+1)\n",
    "        gg += [GateOperation('SWAP',(i,j),['x1z0 x0z0 -> x0z0 x1z0', 'x0z1 x0z0 -> x0z0 x0z1', 'x0z0 x1z0 -> x1z0 x0z0', 'x0z0 x0z1 -> x0z1 x0z0'],2)]\n",
    "        a = int(order[i])\n",
    "        b = int(order[j])\n",
    "        order[i] = b\n",
    "        order[j] = a\n",
    "        \n",
    "    for g in gg:\n",
    "        P = g.act(P)\n",
    "    sym_qubit_ind = []\n",
    "    for i in range(n_qubits):\n",
    "        if order[i] in np.arange(n_sym_q):\n",
    "            sym_qubit_ind.append(i)\n",
    "    '''\n",
    "    #print('Symmetric qubits: ',sym_qubit_ind)\n",
    "    #print(P)\n",
    "    return(P,C)\n",
    "\n",
    "def add_s2(P,cq,qubit):\n",
    "    C = Circuit(dimensions=[2 for i in range(P.n_qudits())],gates=[CX(cq,qubit,2),H(qubit,2),CX(qubit,cq,2),S(qubit,2),H(qubit,2)])\n",
    "    return(C)\n",
    "\n",
    "def add_r2(P,cq,qubit):\n",
    "    C = Circuit(dimensions=[2 for i in range(P.n_qudits())],gates=[S(cq,2),CX(qubit,cq,2),S(cq,2)])\n",
    "    return(C)\n",
    "\n",
    "def add_r2s2(P,cq,qubit):\n",
    "    C = Circuit(dimensions=[2 for i in range(P.n_qudits())],gates=[S(qubit,2),CX(cq,qubit,2),H(qubit,2),CX(qubit,cq,2),S(qubit,2),H(qubit,2)])\n",
    "    return(C)\n",
    "\n",
    "def number_of_I(P,Pauli_index,qubits):\n",
    "    \"\"\"\n",
    "    Returns the number of I's in the Pauli string at Pauli_index for qubits.\n",
    "    \"\"\"\n",
    "\n",
    "    return np.sum([1 for i in qubits if P.x_exp[Pauli_index,i] == 0 and P.z_exp[Pauli_index,i] == 0])\n",
    "\n",
    "def flatten_list(nested_list):\n",
    "    \"\"\"\n",
    "    Flattens a list of lists into a single list with all the elements.\n",
    "    \n",
    "    Args:\n",
    "        nested_list (list of lists): The input list of lists.\n",
    "    \n",
    "    Returns:\n",
    "        list: A single flattened list containing all elements.\n",
    "    \"\"\"\n",
    "    return [item for sublist in nested_list for item in sublist]\n",
    "\n",
    "def find_circuit(start_pauli,goal_pauli,iterations,compare_phases = False):\n",
    "    n_qudits = start_pauli.n_qudits()\n",
    "    SUMs = [CX(i, j, 2) for i in range(n_qudits) for j in range(n_qudits) if i != j]\n",
    "    Ss = [S(i, 2) for i in range(n_qudits)]\n",
    "    Hs = [H(i, 2) for i in range(n_qudits)]\n",
    "    all_gates = SUMs + Ss + Hs\n",
    "\n",
    "    goal_circuits = []\n",
    "    circuits = [Circuit(dimensions=[2 for i in range(n_qudits)])]\n",
    "    intermediate_paulis = [start_pauli.copy()]\n",
    "    for i in range(iterations):\n",
    "        print(i,len(intermediate_paulis),len(goal_circuits))\n",
    "        intermediate_paulis_old = intermediate_paulis.copy()\n",
    "        for ip,p in enumerate(intermediate_paulis_old):\n",
    "            for g in all_gates:\n",
    "                P_temp = g.act(p)\n",
    "                if not compare_phases:  \n",
    "                    P_temp.phases = [0] \n",
    "                C_temp = Circuit(dimensions=[2 for i in range(n_qudits)])\n",
    "                for g2 in circuits[ip].gates:\n",
    "                    C_temp.add_gate(g2)\n",
    "                C_temp.add_gate(g)\n",
    "                if P_temp not in intermediate_paulis:\n",
    "                    intermediate_paulis.append(P_temp)\n",
    "                    circuits.append(C_temp)\n",
    "                if P_temp == goal_pauli:\n",
    "                    if C_temp not in goal_circuits:\n",
    "                        goal_circuits.append(C_temp)\n",
    "                    #print(\"Found goal circuit\") \n",
    "    return(goal_circuits)\n",
    "\n",
    "def find_circuit_simultaneous(start_paulis,goal_paulis,iterations,compare_phases = True):\n",
    "    n_qudits = start_paulis[0].n_qudits()\n",
    "    SUMs = [CX(i, j, 2) for i in range(n_qudits) for j in range(n_qudits) if i != j]\n",
    "    Ss = [S(i, 2) for i in range(n_qudits)]\n",
    "    Hs = [H(i, 2) for i in range(n_qudits)]\n",
    "    all_gates = SUMs + Ss + Hs\n",
    "\n",
    "    goal_circuits = []\n",
    "    circuits = [[Circuit(dimensions=[2 for i in range(n_qudits)])] for _ in range(len(start_paulis))]\n",
    "    intermediate_paulis = [[start_paulis[i]] for i in range(len(start_paulis))]\n",
    "    \n",
    "    for i in range(iterations):\n",
    "        intermediate_paulis_new = [[] for _ in range(len(start_paulis))]\n",
    "        circuits_new = [[] for _ in range(len(start_paulis))]\n",
    "        for g in all_gates:\n",
    "            for ip in range(len(intermediate_paulis[0])):\n",
    "                current_paulis = []\n",
    "                for ib,b in enumerate(intermediate_paulis):\n",
    "                    p = b[ip]\n",
    "                    P_temp = g.act(p)\n",
    "                    if not compare_phases:\n",
    "                        P_temp.phases = [0]\n",
    "                    C_temp = Circuit(dimensions=[2 for i in range(n_qudits)])\n",
    "                    for g2 in circuits[ib][ip].gates:\n",
    "                        C_temp.add_gate(g2)\n",
    "                    C_temp.add_gate(g)\n",
    "                    intermediate_paulis_new[ib].append(P_temp)\n",
    "                    circuits_new[ib].append(C_temp)\n",
    "                    current_paulis.append(P_temp)\n",
    "                if all([current_paulis[j] in goal_paulis for j in range(len(current_paulis))]):\n",
    "                    goal_circuits.append(circuits[ib][ip])\n",
    "                    return(C_temp)\n",
    "                    #print(\"Found goal circuit\")\n",
    "        intermediate_paulis = intermediate_paulis_new.copy()\n",
    "        circuits = circuits_new\n",
    "    return(None)\n",
    "\n",
    "def modulo_2(expr):\n",
    "    \"\"\"\n",
    "    Takes a SymPy expression and reduces its coefficients modulo 2.\n",
    "    \"\"\"\n",
    "    # Expand the expression to handle all terms\n",
    "    expr = expr.expand()\n",
    "    \n",
    "    # Iterate through the terms and apply modulo 2 to coefficients\n",
    "    terms = expr.as_ordered_terms()\n",
    "    mod_expr = sum(sym.Mod(term.as_coeff_Mul()[0], 2) * term.as_coeff_Mul()[1] for term in terms)\n",
    "    \n",
    "    return mod_expr\n",
    "\n",
    "def reduce_exponents(expr):\n",
    "    \"\"\"\n",
    "    Reduces all exponents in a SymPy expression to zero, assuming symbols are binary (0 or 1).\n",
    "    \n",
    "    Args:\n",
    "        expr (sympy.Expr): The input SymPy expression.\n",
    "    \n",
    "    Returns:\n",
    "        sympy.Expr: The modified expression with all exponents set to zero.\n",
    "    \"\"\"\n",
    "    expr = sym.expand(expr)  # Expand the expression to handle all terms\n",
    "    return expr.replace(lambda x: x.is_Pow, lambda x: x.base)\n",
    "\n",
    "def symplectic_effect(circuit,phases = True):\n",
    "    n_qudits = len(circuit.dimensions)\n",
    "    #print(n_qudits)\n",
    "    r_now = list(sym.symbols([f'r{i}' for i in range(1, n_qudits+1)]))\n",
    "    omega = sym.symbols('omega')\n",
    "    #print(len(r_now))\n",
    "    s_now = list(sym.symbols([f's{i}' for i in range(1, n_qudits+1)]))\n",
    "    r_next = [r_now[i] for i in range(n_qudits)]\n",
    "    s_next = [s_now[i] for i in range(n_qudits)]\n",
    "\n",
    "    #r1_start, r2_start, s1_start, s2_start = sym.symbols('r1 r2 s1 s2')\n",
    "    X = Operator('X')\n",
    "    Z = Operator('Z')\n",
    "\n",
    "    phase = 0\n",
    "    gates = circuit.gates\n",
    "    qubits = circuit.indexes\n",
    "    for i,g in enumerate(gates):\n",
    "        if g.name == 'SUM':\n",
    "            r_next[qubits[i][1]] = r_now[qubits[i][0]] + r_now[qubits[i][1]]\n",
    "            s_next[qubits[i][0]] = s_now[qubits[i][0]] + s_now[qubits[i][1]]\n",
    "            #phase += r_now[qubits[i][1]] * s_now[qubits[i][1]] * (r_now[qubits[i][0]] + s_now[qubits[i][0]] + 1)\n",
    "        elif g.name == 'H' or g.name == 'HADAMARD':\n",
    "            r_next[qubits[i][0]] = s_now[qubits[i][0]]\n",
    "            s_next[qubits[i][0]] = r_now[qubits[i][0]]\n",
    "            phase += s_now[qubits[i][0]] * r_now[qubits[i][0]]\n",
    "        elif g.name == 'S' or g.name == 'PHASE':\n",
    "            s_next[qubits[i][0]] = s_now[qubits[i][0]] + r_now[qubits[i][0]]\n",
    "            #phase += s_now[qubits[i][0]] * r_now[qubits[i][0]]\n",
    "        r_now = [r_next[i] for i in range(n_qudits)]\n",
    "        s_now = [s_next[i] for i in range(n_qudits)]\n",
    "    final = TensorProduct(X**(modulo_2(r_now[0])) * Z**(modulo_2(s_now[0])), X**(modulo_2(r_now[1])) * Z**(modulo_2(s_now[1])))\n",
    "    for i in range(2, n_qudits):\n",
    "        final = TensorProduct(final, X**(modulo_2(r_now[i])) * Z**(modulo_2(s_now[i])))\n",
    "    \n",
    "    if phases:\n",
    "        display(omega**modulo_2(reduce_exponents(modulo_2(sym.simplify(phase)))) * final)\n",
    "    else:\n",
    "        display(final)\n",
    "    return()\n",
    "\n"
   ]
  },
  {
   "cell_type": "code",
   "execution_count": 46,
   "id": "f981f5e5",
   "metadata": {},
   "outputs": [],
   "source": [
    "def add_phase(P,cq,qubit,phase_mode):\n",
    "    if phase_mode == 'SSSS':\n",
    "        C = Circuit(dimensions=[2 for i in range(P.n_qudits())])\n",
    "        return(C)\n",
    "    elif phase_mode == 'DDSS':\n",
    "        C = Circuit(dimensions=[2 for i in range(P.n_qudits())],gates=[CX(cq,qubit,2),S(qubit,2),H(qubit,2),S(qubit,2),CX(cq,qubit,2)])\n",
    "        return(C)\n",
    "    elif phase_mode == 'DSDS':\n",
    "        C = Circuit(dimensions=[2 for i in range(P.n_qudits())],gates=[CX(cq,qubit,2),S(qubit,2),CX(cq,qubit,2),H(qubit,2),CX(cq,qubit,2),S(cq,2)])\n",
    "        return(C)\n",
    "    elif phase_mode == 'DSSD':\n",
    "        C = Circuit(dimensions=[2 for i in range(P.n_qudits())],gates=[S(qubit,2),CX(cq,qubit,2),S(qubit,2),H(qubit,2),S(qubit,2),CX(cq,qubit,2)])\n",
    "        return(C)\n",
    "    elif phase_mode == 'SDDS':\n",
    "        C = Circuit(dimensions=[2 for i in range(P.n_qudits())],gates=[S(qubit,2),H(qubit,2),CX(qubit,cq,2),S(cq,2),CX(qubit,cq,2),H(qubit,2),CX(cq,qubit),S(cq,2)])\n",
    "        return(C)\n",
    "    elif phase_mode == 'SDSD':\n",
    "        C = Circuit(dimensions=[2 for i in range(P.n_qudits())],gates=[CX(qubit,cq,2),S(cq,2),CX(qubit,cq,2),H(qubit,2),CX(cq,qubit,2),S(cq,2)])\n",
    "        return(C)    \n",
    "    elif phase_mode == 'SSDD':\n",
    "        C = Circuit(dimensions=[2 for i in range(P.n_qudits())],gates=[H(qubit,2),CX(qubit,cq,2),S(cq,2),CX(qubit,cq,2),H(qubit,2),CX(cq,qubit,2),S(cq,2)])\n",
    "        return(C) \n",
    "    elif phase_mode == 'DDDD':\n",
    "        C = Circuit(dimensions=[2 for i in range(P.n_qudits())],gates=[CX(qubit,cq,2),S(cq,2),CX(qubit,cq,2),H(qubit,2),CX(cq,qubit,2),S(cq,2),CX(cq,qubit,2),S(qubit,2),H(qubit,2),S(qubit,2),CX(cq,qubit,2)])\n",
    "        return(C)     "
   ]
  },
  {
   "cell_type": "code",
   "execution_count": null,
   "id": "4faad604",
   "metadata": {},
   "outputs": [],
   "source": [
    "def prepare_sym_candidates(P1,pi,pj,C,current_qubit):\n",
    "    cq = current_qubit\n",
    "    # prepare anti-commuting pauli strings with the same absolute coefficients for test of hadamard Symmetry\n",
    "    # prime pauli pi and pj for cancel_pauli\n",
    "    if P1.x_exp[pi, cq] == 1 and P1.z_exp[pj, cq] == 1: # x,z\n",
    "        px = pi\n",
    "        pz = pj\n",
    "    elif P1.z_exp[pi, cq] == 1 and P1.x_exp[pj, cq] == 1: # z,x\n",
    "        px = pj\n",
    "        pz = pi\n",
    "    elif P1.x_exp[pi, cq] == 1 and P1.z_exp[pj, cq] == 0: # x,id or x,x\n",
    "        if any(P1.z_exp[pj, i] for i in range(cq,P1.n_qudits())):\n",
    "            g = CX(cq,min([i for i in range(cq,P1.n_qudits()) if P1.z_exp[pj, i]]),2)\n",
    "        elif any(P1.x_exp[pj, i] for i in range(cq,P1.n_qudits())):\n",
    "            g = H(min([i for i in range(cq,P1.n_qudits()) if P1.x_exp[pj, i]]),2)\n",
    "            P1 = g.act(P1)\n",
    "            C.add_gate(g)\n",
    "            g = CX(cq,min([i for i in range(cq,P1.n_qudits()) if P1.z_exp[pj, i]]),2)\n",
    "        C.add_gate(g)\n",
    "        P1 = g.act(P1)\n",
    "        px = pi\n",
    "        pz = pj\n",
    "    elif P1.z_exp[pi, cq] == 1 and P1.x_exp[pj, cq] == 0: # z,id or z,z\n",
    "        if any(P1.x_exp[pj, i] for i in range(cq,P1.n_qudits())):\n",
    "            g = CX(min([i for i in range(cq,P1.n_qudits()) if P1.x_exp[pj, i]]),cq,2)\n",
    "        elif any(P1.z_exp[pj, i] for i in range(cq,P1.n_qudits())):\n",
    "            g = H(min([i for i in range(cq,P1.n_qudits()) if P1.z_exp[pj, i]]),2)\n",
    "            P1 = g.act(P1)\n",
    "            C.add_gate(g)\n",
    "            g = CX(min([i for i in range(cq,P1.n_qudits()) if P1.x_exp[pj, i]]),cq,2)\n",
    "        C.add_gate(g)\n",
    "        P1 = g.act(P1)\n",
    "        px = pj\n",
    "        pz = pi\n",
    "    elif P1.x_exp[pi, cq] == 0 and P1.z_exp[pj, cq] == 1: # id,z\n",
    "        if any(P1.x_exp[pi, i] for i in range(cq,P1.n_qudits())):\n",
    "            g = CX(min([i for i in range(cq,P1.n_qudits()) if P1.x_exp[pi, i]]),cq,2)\n",
    "        elif any(P1.z_exp[pi, i] for i in range(cq,P1.n_qudits())):\n",
    "            g = H(min([i for i in range(cq,P1.n_qudits()) if P1.z_exp[pi, i]]),2)\n",
    "            P1 = g.act(P1)\n",
    "            C.add_gate(g)\n",
    "            g = CX(min([i for i in range(cq,P1.n_qudits()) if P1.x_exp[pi, i]]),cq,2)\n",
    "        C.add_gate(g)\n",
    "        P1 = g.act(P1)\n",
    "        px = pi\n",
    "        pz = pj\n",
    "    elif P1.x_exp[pi, cq] == 0 and P1.x_exp[pj, cq] == 1: # id,x\n",
    "        if any(P1.z_exp[pi, i] for i in range(cq,P1.n_qudits())):\n",
    "            g = CX(cq,min([i for i in range(cq,P1.n_qudits()) if P1.z_exp[pi, i]]),2)\n",
    "        elif any(P1.x_exp[pi, i] for i in range(cq,P1.n_qudits())):\n",
    "            g = H(min([i for i in range(cq,P1.n_qudits()) if P1.x_exp[pi, i]]),2)\n",
    "            P1 = g.act(P1)\n",
    "            C.add_gate(g)\n",
    "            g = CX(cq,min([i for i in range(cq,P1.n_qudits()) if P1.z_exp[pi, i]]),2)\n",
    "        C.add_gate(g)\n",
    "        P1 = g.act(P1)\n",
    "        px = pj\n",
    "        pz = pi\n",
    "    else: # id,id\n",
    "        if any(P1.x_exp[pi, i] for i in range(cq,P1.n_qudits())):\n",
    "            g = CX(min([i for i in range(cq,P1.n_qudits()) if P1.x_exp[pi, i]]),cq,2)\n",
    "            P1 = g.act(P1)\n",
    "            C.add_gate(g)\n",
    "            if any(P1.z_exp[pj, i] for i in range(cq,P1.n_qudits())):\n",
    "                g = CX(cq,min([i for i in range(cq,P1.n_qudits()) if P1.z_exp[pj, i]]),2)\n",
    "            elif any(P1.x_exp[pj, i] for i in range(cq,P1.n_qudits())):\n",
    "                g = H(min([i for i in range(cq,P1.n_qudits()) if P1.x_exp[pj, i]]),2)\n",
    "                P1 = g.act(P1)\n",
    "                C.add_gate(g)\n",
    "                g = CX(cq,min([i for i in range(cq,P1.n_qudits()) if P1.z_exp[pj, i]]),2)\n",
    "            C.add_gate(g)\n",
    "            P1 = g.act(P1)\n",
    "            px = pi\n",
    "            pz = pj\n",
    "        elif any(P1.z_exp[pi, i] for i in range(cq,P1.n_qudits())):\n",
    "            g = CX(cq,min([i for i in range(cq,P1.n_qudits()) if P1.z_exp[pi, i]]),2)\n",
    "            P1 = g.act(P1)\n",
    "            C.add_gate(g)\n",
    "            if any(P1.x_exp[pj, i] for i in range(cq,P1.n_qudits())):\n",
    "                g = CX(min([i for i in range(cq,P1.n_qudits()) if P1.x_exp[pj, i]]),cq,2)\n",
    "            elif any(P1.z_exp[pj, i] for i in range(cq,P1.n_qudits())):\n",
    "                g = H(min([i for i in range(cq,P1.n_qudits()) if P1.z_exp[pj, i]]),2)\n",
    "                P1 = g.act(P1)\n",
    "                C.add_gate(g)\n",
    "                g = CX(min([i for i in range(cq,P1.n_qudits()) if P1.x_exp[pj, i]]),cq,2)\n",
    "            C.add_gate(g)\n",
    "            P1 = g.act(P1)\n",
    "            px = pj\n",
    "            pz = pi\n",
    "    return(C, P1, px, pz)\n",
    "\n",
    "def check_current_paulis(P1,pi,pj,current_qubit,cc_bands):\n",
    "    current_qubit_pauli_check = True\n",
    "    for i in range(P1.n_qudits()):\n",
    "        if i != pi and i != pj:\n",
    "            if P1.x_exp[i, current_qubit] == 1 and P1.z_exp[i, current_qubit] == 1: # Y\n",
    "                continue\n",
    "            elif P1.x_exp[i, current_qubit] == 0 and P1.z_exp[i, current_qubit] == 0: # I\n",
    "                continue\n",
    "            elif (P1.x_exp[i, current_qubit] == 1 and P1.z_exp[i, current_qubit] == 0) or (P1.x_exp[i, current_qubit] == 0 and P1.z_exp[i, current_qubit] == 1): # X, Z\n",
    "                if i not in flatten_list(cc_bands):\n",
    "                    current_qubit_pauli_check = False\n",
    "                    break\n",
    "                else:\n",
    "                    for b2 in cc_bands:\n",
    "                        if i in b2:\n",
    "                            if sum([P1.x_exp[j, current_qubit] for j in b2]) - sum([P1.z_exp[j, current_qubit] for j in b2]) == 0:\n",
    "                                continue\n",
    "                            else:\n",
    "                                current_qubit_pauli_check = False\n",
    "                                break\n",
    "    return(current_qubit_pauli_check)\n",
    "\n",
    "def remove_Ys(P1,C,current_qubit,q_print = False):\n",
    "    cq = current_qubit\n",
    "    sym_paulis_candidates = [i for i in range(P1.n_paulis()) if (P1.x_exp[i,cq] == 1 and P1.z_exp[i,cq] == 0) or (P1.x_exp[i,cq] == 0 and P1.z_exp[i,cq] == 1)]\n",
    "    if q_print:\n",
    "        print('sym_paulis_candidates',sym_paulis_candidates)\n",
    "    other_paulis = [i for i in range(P1.n_paulis()) if i not in sym_paulis_candidates]\n",
    "    if q_print:\n",
    "        print('other_paulis',other_paulis)\n",
    "    P2 = P1.copy()\n",
    "    C2 = Circuit(dimensions=[2 for i in range(P1.n_qudits())])\n",
    "    for g in C.gates:\n",
    "        C2.add_gate(g)\n",
    "    h_sym = False\n",
    "    h_sym_impossible = False\n",
    "    no_forcings = False\n",
    "    no_qubits = False\n",
    "    usable_qubits = [i for i in range(cq+1,P1.n_qudits())]\n",
    "    gate_options = [[0,1,2,3] for i in range(cq+1,P1.n_qudits())]\n",
    "    #print(gate_options)\n",
    "    while not no_forcings and len(usable_qubits) > 0 and not h_sym and not h_sym_impossible:\n",
    "        list_n_I = [number_of_I(P2,Pauli_index,usable_qubits) for Pauli_index in range(P2.n_paulis())]\n",
    "        if q_print:\n",
    "            print('list_n_I',list_n_I)\n",
    "        forcing_candidates_paulis = [i for i in range(P2.n_paulis()) if list_n_I[i] == len(usable_qubits) - 1 and i not in sym_paulis_candidates]\n",
    "        if q_print:\n",
    "            print('forcing_candidates_paulis',forcing_candidates_paulis)\n",
    "        forcing_candidates_qubits = []\n",
    "        for i in forcing_candidates_paulis:\n",
    "            qubit_index = min([j for j in usable_qubits if (P2.x_exp[i,j]+P2.z_exp[i,j]) != 0])\n",
    "            if qubit_index not in forcing_candidates_qubits:\n",
    "                forcing_candidates_qubits.append(qubit_index)\n",
    "        if q_print:\n",
    "            print('forcing_candidates_qubits',forcing_candidates_qubits)\n",
    "        if len(forcing_candidates_qubits) == 0:\n",
    "            no_forcings = True\n",
    "\n",
    "        no_forcings = True\n",
    "        for qi in forcing_candidates_qubits:\n",
    "            pauli_indexes = [i for i in forcing_candidates_paulis if (P2.x_exp[i,qi]+P2.z_exp[i,qi]) != 0]\n",
    "            if q_print:\n",
    "                print('pauli_indexes',pauli_indexes)\n",
    "            first_qubit_x = P2.x_exp[[j for j in pauli_indexes],cq]\n",
    "            if q_print:\n",
    "                print('first_qubit_x',first_qubit_x)\n",
    "            forcing_pauli_types = set([])\n",
    "            for i in pauli_indexes:\n",
    "                if P2.x_exp[i,qi] == 0 and P2.z_exp[i,qi] == 0:\n",
    "                    forcing_pauli_types.add(0)\n",
    "                elif P2.x_exp[i,qi] == 1 and P2.z_exp[i,qi] == 0:\n",
    "                    forcing_pauli_types.add(1)\n",
    "                elif P2.x_exp[i,qi] == 0 and P2.z_exp[i,qi] == 1:\n",
    "                    forcing_pauli_types.add(2)\n",
    "                elif P2.x_exp[i,qi] == 1 and P2.z_exp[i,qi] == 1:\n",
    "                    forcing_pauli_types.add(3)\n",
    "            if q_print:\n",
    "                print('forcing_pauli_types',forcing_pauli_types)\n",
    "\n",
    "            if len(pauli_indexes) > 1 and len(forcing_pauli_types) > 1:\n",
    "                if not any(first_qubit_x):\n",
    "                    #print(gate_options[qi-1])\n",
    "                    gate_options[qi-(1+cq)].remove(1)\n",
    "                    gate_options[qi-(1+cq)].remove(2)\n",
    "                    gate_options[qi-(1+cq)].remove(3)\n",
    "                    usable_qubits.remove(qi)\n",
    "                    #print('identity',qi)\n",
    "                    #print(P2)\n",
    "                    #print()\n",
    "                    # identity\n",
    "                elif not any((first_qubit_x + P2.x_exp[[j for j in pauli_indexes],qi])%2):\n",
    "                    gate_options[qi-(1+cq)].remove(0)\n",
    "                    gate_options[qi-(1+cq)].remove(2)\n",
    "                    gate_options[qi-(1+cq)].remove(3)\n",
    "                    g = add_r2(P1,cq,qi)\n",
    "                    P2 = g.act(P2)\n",
    "                    for gg in g.gates:\n",
    "                        C2.add_gate(gg)\n",
    "                    usable_qubits.remove(qi)\n",
    "                    #print('Add r2',qi)\n",
    "                    #print(P2)\n",
    "                    #print()\n",
    "                elif not any((first_qubit_x + P2.z_exp[[j for j in pauli_indexes],qi])%2):\n",
    "                    gate_options[qi-(1+cq)].remove(0)\n",
    "                    gate_options[qi-(1+cq)].remove(1)\n",
    "                    gate_options[qi-(1+cq)].remove(3)\n",
    "                    g = add_s2(P1,cq,qi)\n",
    "                    P2 = g.act(P2)\n",
    "                    for gg in g.gates:\n",
    "                        C2.add_gate(gg)\n",
    "                    usable_qubits.remove(qi)\n",
    "                    #print('Add s2',qi)\n",
    "                    #print(P2)\n",
    "                    #print()\n",
    "                elif not any((first_qubit_x + P2.z_exp[[j for j in pauli_indexes],qi] + P2.x_exp[[j for j in pauli_indexes],qi])%2):\n",
    "                    #print(gate_options[qi-1])\n",
    "                    gate_options[qi-(1+cq)].remove(0)\n",
    "                    gate_options[qi-(1+cq)].remove(1)\n",
    "                    gate_options[qi-(1+cq)].remove(2)\n",
    "                    g = add_r2s2(P1,cq,qi)\n",
    "                    P2 = g.act(P2)\n",
    "                    for gg in g.gates:\n",
    "                        C2.add_gate(gg)\n",
    "                    usable_qubits.remove(qi)\n",
    "                    #print('Add r2s2',qi)\n",
    "                    #print(P2)\n",
    "                    #print()\n",
    "                else:\n",
    "                    gate_options[qi-(1+cq)].remove(0)\n",
    "                    gate_options[qi-(1+cq)].remove(1)\n",
    "                    gate_options[qi-(1+cq)].remove(2)\n",
    "                    gate_options[qi-(1+cq)].remove(3)\n",
    "                    h_sym_impossible = True\n",
    "                    #print('Not Possible')\n",
    "                    usable_qubits.remove(qi)\n",
    "                no_forcings = False\n",
    "                break\n",
    "            else:\n",
    "                continue\n",
    "        first_qubit_x = P2.x_exp[other_paulis,cq]\n",
    "        if q_print:\n",
    "            print('usable_qubits',usable_qubits)\n",
    "            print('gate_options',gate_options)\n",
    "        if not any(first_qubit_x%2):\n",
    "            h_sym = True\n",
    "        #if q_print:\n",
    "        #print(P2)\n",
    "    \n",
    "    if q_print:\n",
    "        print()\n",
    "        print('h_sym',h_sym)\n",
    "        print('h_sym_impossible',h_sym_impossible)\n",
    "    if not h_sym and not h_sym_impossible:\n",
    "        addition_options_lens = []\n",
    "        for l in gate_options:\n",
    "            addition_options_lens.append(len(l))\n",
    "        max_options = np.prod(addition_options_lens)\n",
    "        for i in range(max_options):\n",
    "            addition_options = int_to_bases(i,dims=addition_options_lens)\n",
    "            first_qubit_x = P2.x_exp[[j for j in range(P1.n_paulis()) if j not in sym_paulis_candidates],cq]\n",
    "            if q_print:\n",
    "                print('addition_options',addition_options)\n",
    "                print('first_qubit_x',first_qubit_x)\n",
    "            for k in range(len(addition_options)):\n",
    "                if addition_options[k] == 0:\n",
    "                    pass\n",
    "                elif addition_options[k] == 1:\n",
    "                    first_qubit_x += P2.x_exp[other_paulis,k+1+cq]\n",
    "                elif addition_options[k] == 2:\n",
    "                    first_qubit_x += P2.z_exp[other_paulis,k+1+cq]\n",
    "                elif addition_options[k] == 3:\n",
    "                    first_qubit_x += P2.x_exp[other_paulis,k+1+cq] + P2.z_exp[other_paulis,k+1+cq]\n",
    "            #print(first_qubit_x%2)\n",
    "            if q_print:\n",
    "                print('first_qubit_x',first_qubit_x)\n",
    "            if not any(first_qubit_x%2):\n",
    "                #print('found solution')\n",
    "                #print(addition_options)\n",
    "                for j,k in enumerate(addition_options):\n",
    "                    if addition_options_lens[j] > 1:\n",
    "                        if k == 0:\n",
    "                            #print(j,k)\n",
    "                            #print('Identity',qi)\n",
    "                            #print(P2)\n",
    "                            #print()\n",
    "                            pass\n",
    "                        elif k == 1:\n",
    "                            #print(j,k)\n",
    "                            g = add_r2(P1,cq,j+1+cq)\n",
    "                            P2 = g.act(P2)\n",
    "                            for gg in g.gates:\n",
    "                                C2.add_gate(gg)\n",
    "                            #print('Add r2',qi)\n",
    "                            #print(P2)\n",
    "                            #print()\n",
    "                        elif k == 2:\n",
    "                            #print(j,k)\n",
    "                            g = add_s2(P1,cq,j+1+cq)\n",
    "                            P2 = g.act(P2)\n",
    "                            for gg in g.gates:\n",
    "                                C2.add_gate(gg)\n",
    "                            #print('Add s2',qi)\n",
    "                            #print(P2)\n",
    "                            #print()\n",
    "                        elif k == 3:\n",
    "                            #print(j,k)\n",
    "                            g = add_r2s2(P1,cq,j+1+cq)\n",
    "                            P2 = g.act(P2) \n",
    "                            for gg in g.gates:\n",
    "                                C2.add_gate(gg)\n",
    "                            #print('Add r2s2',qi)\n",
    "                            #print(P2)\n",
    "                            #print()\n",
    "                break\n",
    "    return(P2,C2)"
   ]
  },
  {
   "cell_type": "code",
   "execution_count": 48,
   "id": "f060b5ed",
   "metadata": {},
   "outputs": [],
   "source": [
    "def PauliSum_Subspace(P,paulis,qubits):\n",
    "    pauli_strings = P.pauli_strings\n",
    "    weights = P.weights\n",
    "    dimensions = P.dimensions\n",
    "    phases = P.phases\n",
    "    n_qudits = P.n_qudits()\n",
    "    n_paulis = P.n_paulis()\n",
    "    \n",
    "    dimensions_new = np.array(dimensions)[qubits]\n",
    "    pauli_strings_new = [PauliString(pauli_strings[i].x_exp[qubits],pauli_strings[i].z_exp[qubits],dimensions=dimensions_new) for i in paulis]\n",
    "    weights_new = weights[paulis]\n",
    "    phases_new = phases[paulis]\n",
    "    P_new = PauliSum(pauli_strings_new, weights=weights_new ,dimensions=dimensions_new, phases=phases_new,standardise=False)\n",
    "    return(P_new)\n",
    "\n",
    "def add_uneven_phase(P1,q1,q2):\n",
    "    C = Circuit(dimensions=[2 for i in range(P1.n_qudits())],gates = [CX(q2,q1,2),S(q1,2),CX(q2,q1,2),CX(q1,q2,2),S(q2,2),CX(q1,q2,2)])\n",
    "    return(C)"
   ]
  },
  {
   "cell_type": "code",
   "execution_count": null,
   "id": "2361cadd",
   "metadata": {},
   "outputs": [],
   "source": [
    "def Find_Hadamard_Symmetries(P,q_print=False):\n",
    "    P1 = P.copy()\n",
    "    C = Circuit(dimensions=[2 for i in range(P1.n_qudits())])\n",
    "    # construct a list of all possible PS combinations that have the same absolute value coefficient \n",
    "    cc = P1.weights\n",
    "    cc_abs = np.abs(cc)\n",
    "    cc_bands = group_indices(cc_abs)\n",
    "    cc_bands = [np.array(b) for b in cc_bands if len(b) > 1]\n",
    "    current_qubit = 0\n",
    "    for ib,b in enumerate(cc_bands):\n",
    "        for ic,pi in enumerate(b):\n",
    "            for jc,pj in enumerate(b[ic+1:]):\n",
    "                P_temp = PauliSum_Subspace(P1,[pi,pj],[i for i in range(current_qubit,P1.n_qudits())])\n",
    "                if not P_temp.is_commuting():\n",
    "                    P1,C,current_qubit = Find_Hadamard_Symmetries_iter_(P1,C,pi,pj,current_qubit,cc_bands)\n",
    "                    if q_print:\n",
    "                        print(pi,pj)\n",
    "                        print(P1)\n",
    "                        print()\n",
    "    return(P1,C)\n",
    "\n",
    "def Find_Hadamard_Symmetries_iter_(P1,C,pi,pj,current_qubit,cc_bands,q_print=False):\n",
    "    C1 = Circuit(dimensions=[2 for i in range(P1.n_qudits())])\n",
    "    #for g in C.gates:\n",
    "    #    C1.add_gate(g)\n",
    "    \n",
    "    P2 = P1.copy()\n",
    "    C1, P2, px, pz = prepare_sym_candidates(P2,pi,pj,C1,current_qubit)\n",
    "    if q_print:\n",
    "        print('Original')\n",
    "        print(P2)\n",
    "        print()\n",
    "        print('Circuit')\n",
    "        print(C1.act(P1.copy()))\n",
    "    \n",
    "\n",
    "    # cancel for pauli with x\n",
    "    P2, C1 = cancel_pauli(P2, current_qubit, px, C1, P2.n_qudits())\n",
    "    # cancel for pauli with z\n",
    "    g = H(current_qubit, P2.dimensions[current_qubit])\n",
    "    C1.add_gate(g)\n",
    "    P2 = g.act(P2)\n",
    "    P2, C1 = cancel_pauli(P2, current_qubit, pz, C1, P2.n_qudits())  \n",
    "    g = H(current_qubit, P2.dimensions[current_qubit])\n",
    "    C1.add_gate(g)\n",
    "    P2 = g.act(P2)\n",
    "    if q_print:\n",
    "        print('Make X111... and Z111...')\n",
    "        print(P2)\n",
    "        #print(C1.act(P1.copy()))\n",
    "\n",
    "\n",
    "    current_qubit_pauli_check = check_current_paulis(P2,pi,pj,current_qubit,cc_bands)\n",
    "    #print('current_qubit_pauli_check',current_qubit_pauli_check)\n",
    "    if not current_qubit_pauli_check:\n",
    "        # not a candidate for Hadamard symmetry, return just the original P1 and C\n",
    "        return(P1,C,current_qubit)\n",
    "\n",
    "    for i in range(current_qubit+1,P1.n_qudits()):\n",
    "        #print(i)\n",
    "        C1, pivots = symplectic_reduction_iter_qudit_(P1.copy(), C1, [], i)\n",
    "        #print(C1.act(P1.copy()))\n",
    "\n",
    "    P2 = C1.act(P1.copy())\n",
    "    if q_print:\n",
    "        print(P2)\n",
    "\n",
    "    # cancel the Y's in the first qubit\n",
    "    #print(P2)\n",
    "    P2,C1 = remove_Ys(P2,C1,current_qubit,q_print=q_print)\n",
    "    if q_print:    \n",
    "        print(P2)\n",
    "\n",
    "    # check if all Y's in the first qubit have been cancelled\n",
    "    sym_paulis_candidates = [i for i in range(P2.n_paulis()) if (P2.x_exp[i,current_qubit] == 1 and P2.z_exp[i,current_qubit] == 0) \n",
    "    or (P2.x_exp[i,current_qubit] == 0 and P2.z_exp[i,current_qubit] == 1)]\n",
    "    other_paulis = [i for i in range(P2.n_paulis()) if i not in sym_paulis_candidates]\n",
    "    first_qubit_x = P2.x_exp[other_paulis,current_qubit]\n",
    "    if any(first_qubit_x%2):\n",
    "        #print('No Hadamard Symmetry')\n",
    "        return(P1,C,current_qubit)\n",
    "    \n",
    "    # deal with phases\n",
    "    # \n",
    "    cq = current_qubit\n",
    "    \n",
    "    sym_pairs = set([])\n",
    "    for i,spc_i in enumerate(sym_paulis_candidates):\n",
    "        for j,spc_j in enumerate(sym_paulis_candidates[i+1:]):\n",
    "            if abs(P2.weights[spc_i]) == abs(P2.weights[spc_j]) and np.array_equal(P2.x_exp[spc_i,current_qubit+1:],P2.x_exp[spc_j,current_qubit+1:]) and np.array_equal(P2.z_exp[spc_i,current_qubit+1:],P2.z_exp[spc_j,current_qubit+1:]):\n",
    "                sym_pairs.add((spc_i,spc_j))\n",
    "    #print(sym_pairs)\n",
    "    \n",
    "    pairs_parity = []\n",
    "    for pairs in sym_pairs:\n",
    "        if abs(P2.weights[pairs[0]] * xi(P2.phases[pairs[0]],2) - P2.weights[pairs[1]] * xi(P2.phases[pairs[1]],2)) < 10**-10:\n",
    "            pairs_parity.append(0)\n",
    "        else:\n",
    "            pairs_parity.append(1)\n",
    "    #print(pairs_parity)\n",
    "    max_options = 8**(P.n_qudits() - current_qubit - 1)\n",
    "    for i in range(max_options):\n",
    "        phase_options = int_to_bases(i,dims=[8]*(P.n_qudits() - current_qubit - 1))\n",
    "        #print(phase_options)\n",
    "        pairs_parity_copy = pairs_parity.copy()\n",
    "        for k in range(len(phase_options)):\n",
    "            #print(k)\n",
    "            if phase_options[k] == 0: # SSSS\n",
    "                pass\n",
    "            elif phase_options[k] == 1: # DDSS\n",
    "                for ip,pairs in enumerate(sym_pairs):\n",
    "                    if P2.x_exp[pairs[0],current_qubit + 1 + k] == 0 and P2.z_exp[pairs[0],current_qubit + 1 + k] == 0:\n",
    "                        pairs_parity_copy[ip] = (pairs_parity_copy[ip] + 1)%2\n",
    "                    elif P2.x_exp[pairs[0],current_qubit + 1 + k] == 1 and P2.z_exp[pairs[0],current_qubit + 1 + k] == 0:\n",
    "                        pairs_parity_copy[ip] = (pairs_parity_copy[ip] + 1)%2\n",
    "                    elif P2.x_exp[pairs[0],current_qubit + 1 + k] == 0 and P2.z_exp[pairs[0],current_qubit + 1 + k] == 1:\n",
    "                        pass\n",
    "                    elif P2.x_exp[pairs[0],current_qubit + 1 + k] == 1 and P2.z_exp[pairs[0],current_qubit + 1 + k] == 1:\n",
    "                        pass\n",
    "                #\n",
    "            elif phase_options[k] == 2: # DSDS\n",
    "                for ip,pairs in enumerate(sym_pairs):\n",
    "                    if P2.x_exp[pairs[0],current_qubit + 1 + k] == 0 and P2.z_exp[pairs[0],current_qubit + 1 + k] == 0:\n",
    "                        pairs_parity_copy[ip] = (pairs_parity_copy[ip] + 1)%2\n",
    "                        #pass\n",
    "                    elif P2.x_exp[pairs[0],current_qubit + 1 + k] == 1 and P2.z_exp[pairs[0],current_qubit + 1 + k] == 0:\n",
    "                        #pairs_parity_copy[ip] = (pairs_parity_copy[ip] + 1)%2\n",
    "                        pass\n",
    "                    elif P2.x_exp[pairs[0],current_qubit + 1 + k] == 0 and P2.z_exp[pairs[0],current_qubit + 1 + k] == 1:\n",
    "                        pairs_parity_copy[ip] = (pairs_parity_copy[ip] + 1)%2\n",
    "                        #pass\n",
    "                    elif P2.x_exp[pairs[0],current_qubit + 1 + k] == 1 and P2.z_exp[pairs[0],current_qubit + 1 + k] == 1:\n",
    "                        #pairs_parity_copy[ip] = (pairs_parity_copy[ip] + 1)%2\n",
    "                        pass\n",
    "                #\n",
    "            elif phase_options[k] == 3: # DSSD\n",
    "                for ip,pairs in enumerate(sym_pairs):\n",
    "                    if P2.x_exp[pairs[0],current_qubit + 1 + k] == 0 and P2.z_exp[pairs[0],current_qubit + 1 + k] == 0:\n",
    "                        pairs_parity_copy[ip] = (pairs_parity_copy[ip] + 1)%2\n",
    "                        #pass\n",
    "                    elif P2.x_exp[pairs[0],current_qubit + 1 + k] == 1 and P2.z_exp[pairs[0],current_qubit + 1 + k] == 0:\n",
    "                        #pairs_parity_copy[ip] = (pairs_parity_copy[ip] + 1)%2\n",
    "                        pass\n",
    "                    elif P2.x_exp[pairs[0],current_qubit + 1 + k] == 0 and P2.z_exp[pairs[0],current_qubit + 1 + k] == 1:\n",
    "                        #pairs_parity_copy[ip] = (pairs_parity_copy[ip] + 1)%2\n",
    "                        pass\n",
    "                    elif P2.x_exp[pairs[0],current_qubit + 1 + k] == 1 and P2.z_exp[pairs[0],current_qubit + 1 + k] == 1:\n",
    "                        pairs_parity_copy[ip] = (pairs_parity_copy[ip] + 1)%2\n",
    "                        #pass\n",
    "                #\n",
    "            elif phase_options[k] == 4: # SDDS\n",
    "                for ip,pairs in enumerate(sym_pairs):\n",
    "                    if P2.x_exp[pairs[0],current_qubit + 1 + k] == 0 and P2.z_exp[pairs[0],current_qubit + 1 + k] == 0:\n",
    "                        #pairs_parity_copy[ip] = (pairs_parity_copy[ip] + 1)%2\n",
    "                        pass\n",
    "                    elif P2.x_exp[pairs[0],current_qubit + 1 + k] == 1 and P2.z_exp[pairs[0],current_qubit + 1 + k] == 0:\n",
    "                        pairs_parity_copy[ip] = (pairs_parity_copy[ip] + 1)%2\n",
    "                        #pass\n",
    "                    elif P2.x_exp[pairs[0],current_qubit + 1 + k] == 0 and P2.z_exp[pairs[0],current_qubit + 1 + k] == 1:\n",
    "                        pairs_parity_copy[ip] = (pairs_parity_copy[ip] + 1)%2\n",
    "                        #pass\n",
    "                    elif P2.x_exp[pairs[0],current_qubit + 1 + k] == 1 and P2.z_exp[pairs[0],current_qubit + 1 + k] == 1:\n",
    "                        #pairs_parity_copy[ip] = (pairs_parity_copy[ip] + 1)%2\n",
    "                        pass\n",
    "                #\n",
    "            elif phase_options[k] == 5: # SDSD\n",
    "                for ip,pairs in enumerate(sym_pairs):\n",
    "                    if P2.x_exp[pairs[0],current_qubit + 1 + k] == 0 and P2.z_exp[pairs[0],current_qubit + 1 + k] == 0:\n",
    "                        #pairs_parity_copy[ip] = (pairs_parity_copy[ip] + 1)%2\n",
    "                        pass\n",
    "                    elif P2.x_exp[pairs[0],current_qubit + 1 + k] == 1 and P2.z_exp[pairs[0],current_qubit + 1 + k] == 0:\n",
    "                        pairs_parity_copy[ip] = (pairs_parity_copy[ip] + 1)%2\n",
    "                        #pass\n",
    "                    elif P2.x_exp[pairs[0],current_qubit + 1 + k] == 0 and P2.z_exp[pairs[0],current_qubit + 1 + k] == 1:\n",
    "                        #pairs_parity_copy[ip] = (pairs_parity_copy[ip] + 1)%2\n",
    "                        pass\n",
    "                    elif P2.x_exp[pairs[0],current_qubit + 1 + k] == 1 and P2.z_exp[pairs[0],current_qubit + 1 + k] == 1:\n",
    "                        pairs_parity_copy[ip] = (pairs_parity_copy[ip] + 1)%2\n",
    "                        #pass\n",
    "                #\n",
    "            elif phase_options[k] == 6: # SSDD\n",
    "                for ip,pairs in enumerate(sym_pairs):\n",
    "                    if P2.x_exp[pairs[0],current_qubit + 1 + k] == 0 and P2.z_exp[pairs[0],current_qubit + 1 + k] == 0:\n",
    "                        #pairs_parity_copy[ip] = (pairs_parity_copy[ip] + 1)%2\n",
    "                        pass\n",
    "                    elif P2.x_exp[pairs[0],current_qubit + 1 + k] == 1 and P2.z_exp[pairs[0],current_qubit + 1 + k] == 0:\n",
    "                        #pairs_parity_copy[ip] = (pairs_parity_copy[ip] + 1)%2\n",
    "                        pass\n",
    "                    elif P2.x_exp[pairs[0],current_qubit + 1 + k] == 0 and P2.z_exp[pairs[0],current_qubit + 1 + k] == 1:\n",
    "                        pairs_parity_copy[ip] = (pairs_parity_copy[ip] + 1)%2\n",
    "                        #pass\n",
    "                    elif P2.x_exp[pairs[0],current_qubit + 1 + k] == 1 and P2.z_exp[pairs[0],current_qubit + 1 + k] == 1:\n",
    "                        pairs_parity_copy[ip] = (pairs_parity_copy[ip] + 1)%2\n",
    "                        #pass\n",
    "                #\n",
    "            elif phase_options[k] == 7: # DDDD\n",
    "                for ip,pairs in enumerate(sym_pairs):\n",
    "                    if P2.x_exp[pairs[0],current_qubit + 1 + k] == 0 and P2.z_exp[pairs[0],current_qubit + 1 + k] == 0:\n",
    "                        pairs_parity_copy[ip] = (pairs_parity_copy[ip] + 1)%2\n",
    "                        #pass\n",
    "                    elif P2.x_exp[pairs[0],current_qubit + 1 + k] == 1 and P2.z_exp[pairs[0],current_qubit + 1 + k] == 0:\n",
    "                        pairs_parity_copy[ip] = (pairs_parity_copy[ip] + 1)%2\n",
    "                        #pass\n",
    "                    elif P2.x_exp[pairs[0],current_qubit + 1 + k] == 0 and P2.z_exp[pairs[0],current_qubit + 1 + k] == 1:\n",
    "                        pairs_parity_copy[ip] = (pairs_parity_copy[ip] + 1)%2\n",
    "                        #pass\n",
    "                    elif P2.x_exp[pairs[0],current_qubit + 1 + k] == 1 and P2.z_exp[pairs[0],current_qubit + 1 + k] == 1:\n",
    "                        pairs_parity_copy[ip] = (pairs_parity_copy[ip] + 1)%2\n",
    "                        #pass\n",
    "        if q_print:\n",
    "            print(pairs_parity_copy)\n",
    "        if not any(pairs_parity_copy):\n",
    "            for j,k in enumerate(phase_options):\n",
    "                if k == 0:\n",
    "                    #print(j,k)\n",
    "                    #print('Identity',qi)\n",
    "                    #print(P2)\n",
    "                    #print()\n",
    "                    pass\n",
    "                elif k == 1:\n",
    "                    #print(j,k)\n",
    "                    g = add_phase(P1,cq,j+1+cq,'DDSS')\n",
    "                    P2 = g.act(P2)\n",
    "                    for gg in g.gates:\n",
    "                        C1.add_gate(gg)\n",
    "                    #print(P2)\n",
    "                    #print()\n",
    "                elif k == 2:\n",
    "                    #print(j,k)\n",
    "                    g = add_phase(P1,cq,j+1+cq,'DSDS')\n",
    "                    P2 = g.act(P2)\n",
    "                    for gg in g.gates:\n",
    "                        C1.add_gate(gg)\n",
    "                    #print(P2)\n",
    "                    #print()\n",
    "                elif k == 3:\n",
    "                    g = add_phase(P1,cq,j+1+cq,'DSSD')\n",
    "                    P2 = g.act(P2) \n",
    "                    for gg in g.gates:\n",
    "                        C1.add_gate(gg)\n",
    "                elif k == 4:\n",
    "                    g = add_phase(P1,cq,j+1+cq,'SDDS')\n",
    "                    P2 = g.act(P2) \n",
    "                    for gg in g.gates:\n",
    "                        C1.add_gate(gg)\n",
    "                elif k == 5:\n",
    "                    g = add_phase(P1,cq,j+1+cq,'SDSD')\n",
    "                    P2 = g.act(P2) \n",
    "                    for gg in g.gates:\n",
    "                        C1.add_gate(gg)\n",
    "                elif k == 6:\n",
    "                    g = add_phase(P1,cq,j+1+cq,'SSDD')\n",
    "                    P2 = g.act(P2) \n",
    "                    for gg in g.gates:\n",
    "                        C1.add_gate(gg)\n",
    "                elif k == 7:\n",
    "                    g = add_phase(P1,cq,j+1+cq,'DDDD')\n",
    "                    P2 = g.act(P2) \n",
    "                    for gg in g.gates:\n",
    "                        C1.add_gate(gg)\n",
    "            break\n",
    "            \n",
    "    # ToDo: final check for Hadamard symmetry\n",
    "    # only x and z in the first qubit if both have the same coefficient\n",
    "    # no problematic phases\n",
    "    # after the x and z, all paulis are the same\n",
    "\n",
    "\n",
    "    C2 = Circuit(dimensions=[2 for i in range(P1.n_qudits())])\n",
    "    for g in C.gates:\n",
    "        C2.add_gate(g)\n",
    "    for g in C1.gates:\n",
    "        C2.add_gate(g)\n",
    "\n",
    "    return(P2,C2,current_qubit+1)\n",
    "    "
   ]
  },
  {
   "cell_type": "code",
   "execution_count": 64,
   "id": "5db687c7",
   "metadata": {},
   "outputs": [
    {
     "name": "stdout",
     "output_type": "stream",
     "text": [
      "[ 0.46693172 -1.20041766]\n",
      "[0.94856989]\n",
      "[-2.50444326  0.87865108  0.15973994]\n",
      "[-0.18646676]\n",
      "[4, 18, 11, 1, 21, 23, 15] [5, 17, 10, 0, 20, 24, 16]\n",
      "(-2.504443260343078+0j) |x0z1 x1z1 x0z0 x0z1 x0z1 x0z0 x0z0 x1z1 | 0 \n",
      "(-2.504443260343078+0j) |x0z1 x1z1 x1z0 x0z1 x0z1 x0z0 x0z1 x0z1 | 0 \n",
      "(1.0537748759681365+0j) |x1z0 x1z0 x0z0 x1z1 x1z1 x0z1 x0z1 x0z0 | 0 \n",
      "(0.8453444169091787-0j) |x1z1 x1z0 x0z0 x1z1 x0z1 x1z1 x1z0 x1z1 | 0 \n",
      "(0.4669317191151887+0j) |x1z0 x1z0 x0z1 x1z1 x0z0 x0z1 x1z0 x1z0 | 0 \n",
      "(-0.4669317191151887+0j)|x1z0 x0z1 x1z0 x1z1 x0z1 x0z0 x1z0 x0z1 | 0 \n",
      "(2.1770858571753755+0j) |x0z1 x1z1 x1z1 x0z1 x0z1 x0z0 x0z0 x1z1 | 0 \n",
      "(-1.4096990085158183+0j)|x0z1 x0z0 x1z1 x0z1 x0z1 x1z1 x0z1 x0z1 | 0 \n",
      "(-1.0564903258616098+0j)|x1z0 x0z1 x1z1 x1z0 x0z0 x1z1 x1z0 x0z0 | 0 \n",
      "(-0.4521837172758721+0j)|x0z1 x0z1 x1z0 x0z1 x0z0 x0z0 x0z1 x0z0 | 0 \n",
      "(-0.9485698930941907+0j)|x1z1 x1z1 x0z1 x1z0 x0z1 x0z0 x1z0 x1z0 | 0 \n",
      "(0.9485698930941907+0j) |x1z1 x0z1 x0z1 x0z1 x0z0 x1z0 x1z1 x1z0 | 0 \n",
      "(1.298308030291583-0j)  |x0z1 x0z1 x0z0 x1z0 x0z0 x0z0 x0z0 x1z0 | 0 \n",
      "(0.4571946673692935+0j) |x0z0 x1z0 x1z1 x1z1 x1z1 x0z0 x1z0 x0z0 | 0 \n",
      "(-0.4571946673692935+0j)|x1z1 x1z0 x0z1 x0z1 x1z0 x1z0 x0z0 x1z1 | 0 \n",
      "(-0.1864667576636262+0j)|x0z1 x0z0 x0z0 x0z0 x0z1 x0z0 x0z1 x0z0 | 0 \n",
      "(0.1864667576636262-0j) |x1z1 x0z0 x1z1 x0z0 x0z0 x1z0 x0z0 x0z1 | 0 \n",
      "(1.200417659349847-0j)  |x0z1 x1z1 x1z0 x0z0 x0z0 x1z1 x0z1 x1z0 | 0 \n",
      "(1.200417659349847-0j)  |x0z1 x0z0 x0z1 x0z0 x0z1 x1z0 x0z1 x0z1 | 0 \n",
      "(1.200417659349847-0j)  |x0z1 x0z0 x1z0 x1z1 x0z0 x1z0 x0z0 x0z0 | 0 \n",
      "(-0.878651075498764+0j) |x0z1 x0z0 x1z1 x0z0 x0z0 x1z0 x0z0 x1z0 | 0 \n",
      "(-0.878651075498764+0j) |x0z1 x0z0 x0z1 x0z0 x0z0 x1z0 x0z1 x0z0 | 0 \n",
      "(0.10050408278700675-0j)|x1z1 x1z0 x1z1 x1z0 x1z0 x1z0 x0z0 x0z1 | 0 \n",
      "(0.1597399361854819+0j) |x1z1 x0z0 x1z0 x0z0 x0z0 x1z1 x1z0 x0z0 | 0 \n",
      "(0.1597399361854819+0j) |x1z1 x0z0 x0z0 x0z0 x0z0 x1z1 x1z1 x1z0 | 0 \n",
      "\n"
     ]
    }
   ],
   "source": [
    "P,C = Hadamard_Symmetric_PauliSum(25,8,4)\n",
    "print(P)"
   ]
  },
  {
   "cell_type": "code",
   "execution_count": 67,
   "id": "8bbb75eb",
   "metadata": {},
   "outputs": [
    {
     "name": "stdout",
     "output_type": "stream",
     "text": [
      "(-2.504443260343078+0j) |x0z1 x0z0 x0z0 x0z0 x0z0 x0z1 x0z0 x0z0 | 0 \n",
      "(-2.504443260343078+0j) |x1z0 x0z0 x0z0 x0z0 x0z0 x0z1 x0z0 x0z0 | 0 \n",
      "(1.0537748759681365+0j) |x0z0 x0z0 x0z0 x0z0 x0z1 x0z0 x0z0 x0z0 | 1 \n",
      "(0.8453444169091787-0j) |x0z0 x0z0 x0z0 x0z0 x0z1 x1z1 x1z0 x0z0 | 0 \n",
      "(0.4669317191151887+0j) |x0z0 x0z1 x0z0 x0z0 x1z0 x0z0 x0z0 x0z0 | 1 \n",
      "(-0.4669317191151887+0j)|x0z0 x1z0 x0z0 x0z0 x1z0 x0z0 x0z0 x0z0 | 0 \n",
      "(2.1770858571753755+0j) |x0z0 x0z0 x0z0 x0z0 x0z1 x0z0 x0z1 x0z0 | 0 \n",
      "(-1.4096990085158183+0j)|x0z0 x0z0 x0z0 x0z0 x0z0 x1z0 x1z1 x1z0 | 1 \n",
      "(-1.0564903258616098+0j)|x0z0 x0z0 x0z0 x0z0 x0z0 x1z1 x1z1 x0z0 | 1 \n",
      "(-0.4521837172758721+0j)|x0z0 x0z0 x0z0 x0z0 x1z1 x1z1 x1z1 x0z0 | 1 \n",
      "(-0.9485698930941907+0j)|x0z0 x0z0 x1z0 x0z0 x1z1 x1z0 x1z1 x0z1 | 1 \n",
      "(0.9485698930941907+0j) |x0z0 x0z0 x0z1 x0z0 x1z1 x1z0 x1z1 x0z1 | 0 \n",
      "(1.298308030291583-0j)  |x0z0 x0z0 x0z0 x0z0 x1z1 x1z0 x0z0 x0z0 | 1 \n",
      "(0.4571946673692935+0j) |x0z0 x0z0 x0z0 x0z0 x1z1 x1z0 x0z1 x1z0 | 1 \n",
      "(-0.4571946673692935+0j)|x0z0 x0z0 x0z0 x0z0 x0z0 x1z0 x0z0 x0z1 | 1 \n",
      "(-0.1864667576636262+0j)|x0z0 x0z0 x0z0 x0z1 x0z0 x0z0 x0z0 x0z0 | 0 \n",
      "(0.1864667576636262-0j) |x0z0 x0z0 x0z0 x1z0 x0z0 x0z0 x0z0 x0z0 | 1 \n",
      "(1.200417659349847-0j)  |x0z0 x1z0 x0z0 x0z0 x1z0 x1z0 x1z0 x1z1 | 0 \n",
      "(1.200417659349847-0j)  |x0z0 x0z1 x0z0 x0z0 x1z0 x1z0 x1z0 x1z1 | 0 \n",
      "(1.200417659349847-0j)  |x0z0 x0z0 x0z0 x0z0 x0z1 x1z0 x0z1 x1z0 | 1 \n",
      "(-0.878651075498764+0j) |x0z1 x0z0 x0z0 x0z0 x0z1 x1z1 x1z1 x0z1 | 1 \n",
      "(-0.878651075498764+0j) |x1z0 x0z0 x0z0 x0z0 x0z1 x1z1 x1z1 x0z1 | 1 \n",
      "(0.10050408278700675-0j)|x0z0 x0z0 x0z0 x0z0 x0z1 x1z0 x1z1 x1z0 | 0 \n",
      "(0.1597399361854819+0j) |x1z0 x0z0 x0z0 x0z0 x1z1 x0z1 x1z0 x1z1 | 1 \n",
      "(0.1597399361854819+0j) |x0z1 x0z0 x0z0 x0z0 x1z1 x0z1 x1z0 x1z1 | 1 \n",
      "\n"
     ]
    }
   ],
   "source": [
    "P1,C = Find_Hadamard_Symmetries(P)\n",
    "print(P1)"
   ]
  },
  {
   "cell_type": "code",
   "execution_count": 50,
   "id": "1e91b502",
   "metadata": {},
   "outputs": [
    {
     "name": "stdout",
     "output_type": "stream",
     "text": [
      "(-1.595975519615152+0j)   |x1z0 x1z1 x0z0 x0z0 x1z0 x1z1 x0z0 x0z1 | 0 \n",
      "(1.595975519615152-0j)    |x0z0 x1z1 x0z1 x0z1 x0z1 x1z1 x1z0 x1z1 | 0 \n",
      "(1.595975519615152-0j)    |x1z0 x0z1 x1z1 x1z0 x1z1 x0z1 x0z1 x1z0 | 0 \n",
      "(-0.7028090543370635+0j)  |x0z1 x1z0 x0z0 x0z1 x0z0 x1z1 x0z0 x1z1 | 0 \n",
      "(-0.7063063566636919+0j)  |x1z1 x1z1 x0z0 x1z1 x1z0 x0z0 x1z0 x1z0 | 0 \n",
      "(0.6969201489230441-0j)   |x0z0 x1z1 x0z0 x1z1 x1z0 x0z1 x1z1 x1z1 | 0 \n",
      "(0.6969201489230441-0j)   |x1z0 x0z1 x1z0 x0z0 x0z0 x1z1 x0z0 x1z0 | 0 \n",
      "(2.3484203129711583+0j)   |x0z1 x0z0 x0z1 x1z1 x0z0 x1z0 x1z1 x0z0 | 0 \n",
      "(-0.4548959358007366+0j)  |x0z1 x1z1 x1z0 x1z0 x0z1 x0z1 x1z0 x0z1 | 0 \n",
      "(-0.8987870528114668+0j)  |x0z0 x1z1 x1z0 x1z0 x0z1 x0z1 x0z0 x0z1 | 0 \n",
      "(1.6972646567523169+0j)   |x0z0 x1z1 x1z0 x1z1 x1z0 x0z1 x0z0 x0z1 | 0 \n",
      "(0.7250958741620873-0j)   |x1z1 x0z0 x1z0 x0z1 x0z1 x1z1 x1z0 x1z0 | 0 \n",
      "(-0.7250958741620873+0j)  |x1z0 x0z0 x1z0 x1z1 x0z0 x1z1 x0z0 x1z1 | 0 \n",
      "(-1.6098063363418227+0j)  |x1z0 x1z0 x1z0 x0z0 x1z1 x1z0 x1z0 x0z0 | 0 \n",
      "(-0.047604731962217796+0j)|x1z0 x0z0 x1z1 x1z1 x0z0 x1z1 x0z1 x1z1 | 0 \n",
      "(0.7890033113247854-0j)   |x1z0 x0z0 x0z1 x0z1 x0z0 x1z1 x1z0 x0z0 | 0 \n",
      "(0.2495123057374185+0j)   |x1z0 x1z0 x0z1 x1z1 x0z0 x1z1 x0z0 x0z0 | 0 \n",
      "(-0.2495123057374185+0j)  |x1z0 x1z0 x0z1 x0z0 x1z0 x0z0 x1z0 x0z0 | 0 \n",
      "(0.2495123057374185+0j)   |x0z0 x0z0 x1z1 x1z1 x1z1 x1z0 x0z1 x1z0 | 0 \n",
      "(0.9569420706415099-0j)   |x1z0 x1z1 x1z1 x0z1 x1z0 x0z1 x1z0 x1z0 | 0 \n",
      "(0.4739876626834572-0j)   |x0z0 x1z1 x0z1 x1z0 x1z0 x1z1 x1z0 x1z0 | 0 \n",
      "(-0.288830174291068+0j)   |x0z0 x1z1 x0z0 x0z1 x1z0 x0z1 x1z1 x1z0 | 0 \n",
      "(2.0674758433447606-0j)   |x1z1 x0z0 x1z1 x1z1 x0z0 x1z1 x1z1 x1z1 | 0 \n",
      "(0.4473458418954267-0j)   |x1z0 x1z1 x1z1 x0z1 x0z1 x1z1 x1z1 x1z0 | 0 \n",
      "(0.4473458418954267-0j)   |x1z1 x1z0 x1z0 x0z0 x0z1 x1z0 x1z1 x0z1 | 0 \n",
      "\n",
      "\n",
      "{(1, 2), (5, 6)}\n",
      "[1, 0]\n",
      "{(11, 12)}\n",
      "[1]\n",
      "(-1.595975519615152+0j)   |x0z0 x0z0 x1z0 x0z0 x0z0 x0z0 x0z0 x0z0 | 1 \n",
      "(1.595975519615152-0j)    |x0z1 x0z0 x1z0 x0z1 x0z0 x0z0 x0z0 x0z0 | 0 \n",
      "(1.595975519615152-0j)    |x1z0 x0z0 x1z0 x0z1 x0z0 x0z0 x0z0 x0z0 | 0 \n",
      "(-0.7028090543370635+0j)  |x0z0 x0z0 x0z1 x0z0 x0z0 x0z0 x0z0 x0z0 | 1 \n",
      "(-0.7063063566636919+0j)  |x0z0 x0z0 x0z0 x1z0 x0z0 x0z0 x0z0 x0z0 | 0 \n",
      "(0.6969201489230441-0j)   |x0z1 x0z0 x1z0 x0z0 x0z1 x0z0 x0z0 x0z0 | 1 \n",
      "(0.6969201489230441-0j)   |x1z0 x0z0 x1z0 x0z0 x0z1 x0z0 x0z0 x0z0 | 1 \n",
      "(2.3484203129711583+0j)   |x0z0 x0z0 x0z0 x1z0 x1z0 x0z0 x0z0 x0z0 | 1 \n",
      "(-0.4548959358007366+0j)  |x0z0 x0z0 x0z1 x1z0 x1z0 x1z1 x0z0 x0z0 | 1 \n",
      "(-0.8987870528114668+0j)  |x0z0 x0z0 x0z0 x0z1 x1z0 x0z1 x0z0 x0z0 | 0 \n",
      "(1.6972646567523169+0j)   |x0z0 x0z0 x0z1 x0z1 x0z1 x1z1 x0z0 x0z0 | 1 \n",
      "(0.7250958741620873-0j)   |x0z0 x0z1 x0z1 x1z0 x0z1 x1z0 x0z0 x0z0 | 0 \n",
      "(-0.7250958741620873+0j)  |x0z0 x1z0 x0z1 x1z0 x0z1 x1z0 x0z0 x0z0 | 1 \n",
      "(-1.6098063363418227+0j)  |x0z0 x0z0 x0z1 x1z1 x1z0 x0z1 x0z0 x0z0 | 0 \n",
      "(-0.047604731962217796+0j)|x0z0 x0z0 x0z1 x0z1 x1z1 x1z1 x0z0 x0z0 | 0 \n",
      "(0.7890033113247854-0j)   |x0z0 x0z0 x1z0 x0z0 x1z0 x1z0 x0z0 x0z0 | 1 \n",
      "(0.2495123057374185+0j)   |x0z0 x0z0 x0z1 x1z0 x1z0 x1z0 x0z0 x0z0 | 1 \n",
      "(-0.2495123057374185+0j)  |x0z0 x0z0 x1z1 x1z0 x1z0 x0z1 x1z0 x0z0 | 1 \n",
      "(0.2495123057374185+0j)   |x0z0 x0z0 x1z1 x1z0 x1z0 x0z1 x0z1 x0z0 | 1 \n",
      "(0.9569420706415099-0j)   |x0z0 x0z0 x0z0 x0z0 x1z1 x1z1 x0z0 x0z0 | 0 \n",
      "(0.4739876626834572-0j)   |x0z0 x0z0 x1z1 x0z1 x1z0 x0z0 x0z0 x0z0 | 0 \n",
      "(-0.288830174291068+0j)   |x0z0 x0z0 x1z0 x0z0 x0z0 x1z0 x0z0 x0z0 | 0 \n",
      "(2.0674758433447606-0j)   |x0z0 x0z0 x0z0 x1z0 x1z1 x0z1 x0z0 x0z0 | 1 \n",
      "(0.4473458418954267-0j)   |x0z0 x0z0 x1z0 x1z0 x0z0 x1z0 x0z0 x1z0 | 1 \n",
      "(0.4473458418954267-0j)   |x0z0 x0z0 x1z0 x1z0 x0z0 x1z0 x0z0 x1z1 | 1 \n",
      "\n",
      "True\n"
     ]
    }
   ],
   "source": [
    "cc = P.weights\n",
    "cc_abs = np.abs(cc)\n",
    "cc_bands = group_indices(cc_abs)\n",
    "cc_bands = [np.array(b) for b in cc_bands if len(b) > 1]\n",
    "C = Circuit(dimensions=[2 for i in range(P.n_qudits())])\n",
    "print(P)\n",
    "print()\n",
    "P1,C,current_qubit = Find_Hadamard_Symmetries_iter_(P,C,1,2,0,cc_bands)\n",
    "#print(current_qubit)\n",
    "P1,C,current_qubit = Find_Hadamard_Symmetries_iter_(P1,C,11,12,current_qubit,cc_bands,q_print=False)\n",
    "#P1,C,current_qubit = Find_Hadamard_Symmetries_iter_(P1,C,23,24,current_qubit,cc_bands,q_print=True)\n",
    "#P1,C = Find_Hadamard_Symmetries(P)\n",
    "print(P1)\n",
    "print(P1 == C.act(P))"
   ]
  },
  {
   "cell_type": "code",
   "execution_count": 18,
   "id": "89ea6e39",
   "metadata": {},
   "outputs": [],
   "source": [
    "def find_circuit_simultaneous(start_paulis,goal_paulis,iterations,compare_phases = True):\n",
    "    n_qudits = start_paulis[0].n_qudits()\n",
    "    SUMs = [CX(i, j, 2) for i in range(n_qudits) for j in range(n_qudits) if i != j]\n",
    "    Ss = [S(i, 2) for i in range(n_qudits)]\n",
    "    Hs = [H(i, 2) for i in range(n_qudits)]\n",
    "    all_gates = SUMs + Ss + Hs\n",
    "\n",
    "    goal_circuits = []\n",
    "    circuits = [[Circuit(dimensions=[2 for i in range(n_qudits)])] for _ in range(len(start_paulis))]\n",
    "    intermediate_paulis = [[start_paulis[i]] for i in range(len(start_paulis))]\n",
    "    \n",
    "    for i in range(iterations):\n",
    "        print(i)\n",
    "        intermediate_paulis_new = [[] for _ in range(len(start_paulis))]\n",
    "        circuits_new = [[] for _ in range(len(start_paulis))]\n",
    "        for g in all_gates:\n",
    "            for ip in range(len(intermediate_paulis[0])):\n",
    "                current_paulis = []\n",
    "                for ib,b in enumerate(intermediate_paulis):\n",
    "                    p = b[ip]\n",
    "                    P_temp = g.act(p)\n",
    "                    if not compare_phases:\n",
    "                        P_temp.phases = [0]\n",
    "                    C_temp = Circuit(dimensions=[2 for i in range(n_qudits)])\n",
    "                    for g2 in circuits[ib][ip].gates:\n",
    "                        C_temp.add_gate(g2)\n",
    "                    C_temp.add_gate(g)\n",
    "                    intermediate_paulis_new[ib].append(P_temp)\n",
    "                    circuits_new[ib].append(C_temp)\n",
    "                    current_paulis.append(P_temp)\n",
    "                if all([current_paulis[j] in goal_paulis for j in range(len(current_paulis))]):\n",
    "                    goal_circuits.append(circuits[ib][ip])\n",
    "                    return(C_temp)\n",
    "                    #print(\"Found goal circuit\")\n",
    "        intermediate_paulis = intermediate_paulis_new.copy()\n",
    "        circuits = circuits_new\n",
    "    return(None)"
   ]
  },
  {
   "cell_type": "code",
   "execution_count": 139,
   "id": "05a40644",
   "metadata": {},
   "outputs": [
    {
     "data": {
      "text/latex": [
       "$\\displaystyle \\omega^{r_{2} s_{1} + s_{1} s_{2}} {{{{{{\\left({X^{r_{1} + r_{2} + s_{2}} Z^{r_{2} + s_{1} + s_{2}}}\\right)\\otimes \\left({X^{r_{1} + r_{2} + s_{1}} Z^{r_{2} + s_{2}}}\\right)}\\otimes \\left({X^{r_{3}} Z^{s_{3}}}\\right)}\\otimes \\left({X^{r_{4}} Z^{s_{4}}}\\right)}\\otimes \\left({X^{r_{5}} Z^{s_{5}}}\\right)}\\otimes \\left({X^{r_{6}} Z^{s_{6}}}\\right)}\\otimes \\left({X^{r_{7}} Z^{s_{7}}}\\right)}\\otimes \\left({X^{r_{8}} Z^{s_{8}}}\\right)$"
      ],
      "text/plain": [
       "omega**(r2*s1 + s1*s2)*(X**(r1 + r2 + s2)*Z**(r2 + s1 + s2))x(X**(r1 + r2 + s1)*Z**(r2 + s2))x(X**r3*Z**s3)x(X**r4*Z**s4)x(X**r5*Z**s5)x(X**r6*Z**s6)x(X**r7*Z**s7)x(X**r8*Z**s8)"
      ]
     },
     "metadata": {},
     "output_type": "display_data"
    },
    {
     "data": {
      "text/plain": [
       "()"
      ]
     },
     "execution_count": 139,
     "metadata": {},
     "output_type": "execute_result"
    }
   ],
   "source": [
    "C = add_r2s2(P,0,1)\n",
    "symplectic_effect(C)"
   ]
  },
  {
   "cell_type": "code",
   "execution_count": null,
   "id": "73a8d67f",
   "metadata": {},
   "outputs": [
    {
     "name": "stdout",
     "output_type": "stream",
     "text": [
      "SORTING\n",
      "SORTING\n",
      "0 1 0\n",
      "1 5 0\n",
      "2 19 0\n",
      "3 55 1\n",
      "4 104 5\n",
      "5 119 11\n",
      "6 120 17\n",
      "7 120 23\n",
      "SORTING\n",
      "(1+0j)|x1z0 x0z1 | 1 \n",
      "(1+0j)|x0z1 x0z1 | 0 \n",
      "\n"
     ]
    },
    {
     "data": {
      "text/latex": [
       "$\\displaystyle \\omega^{r_{2} s_{1} + r_{2} s_{2}} \\left({X^{r_{1} + r_{2}} Z^{r_{2} + s_{1}}}\\right)\\otimes \\left({X^{r_{1} + r_{2} + s_{1} + s_{2}} Z^{r_{2}}}\\right)$"
      ],
      "text/plain": [
       "omega**(r2*s1 + r2*s2)*(X**(r1 + r2)*Z**(r2 + s1))x(X**(r1 + r2 + s1 + s2)*Z**r2)"
      ]
     },
     "metadata": {},
     "output_type": "display_data"
    },
    {
     "name": "stdout",
     "output_type": "stream",
     "text": [
      "SORTING\n",
      "(1+0j)|x1z0 x0z1 | 1 \n",
      "(1+0j)|x0z1 x0z1 | 0 \n",
      "\n"
     ]
    },
    {
     "data": {
      "text/latex": [
       "$\\displaystyle \\omega^{r_{2} s_{1} + r_{2} s_{2}} \\left({X^{r_{1} + r_{2}} Z^{r_{2} + s_{1}}}\\right)\\otimes \\left({X^{r_{1} + r_{2} + s_{1} + s_{2}} Z^{r_{2}}}\\right)$"
      ],
      "text/plain": [
       "omega**(r2*s1 + r2*s2)*(X**(r1 + r2)*Z**(r2 + s1))x(X**(r1 + r2 + s1 + s2)*Z**r2)"
      ]
     },
     "metadata": {},
     "output_type": "display_data"
    },
    {
     "name": "stdout",
     "output_type": "stream",
     "text": [
      "SORTING\n",
      "(1+0j)|x0z1 x0z0 | 0 \n",
      "(1+0j)|x1z0 x0z0 | 0 \n",
      "\n"
     ]
    },
    {
     "data": {
      "text/latex": [
       "$\\displaystyle \\omega^{s_{1} s_{2} + s_{2}} \\left({X^{r_{1} + s_{2}} Z^{s_{1} + s_{2}}}\\right)\\otimes \\left({X^{r_{1} + r_{2} + s_{1} + s_{2}} Z^{s_{2}}}\\right)$"
      ],
      "text/plain": [
       "omega**(s1*s2 + s2)*(X**(r1 + s2)*Z**(s1 + s2))x(X**(r1 + r2 + s1 + s2)*Z**s2)"
      ]
     },
     "metadata": {},
     "output_type": "display_data"
    },
    {
     "name": "stdout",
     "output_type": "stream",
     "text": [
      "SORTING\n",
      "(1+0j)|x0z1 x0z0 | 0 \n",
      "(1+0j)|x1z0 x0z0 | 0 \n",
      "\n"
     ]
    },
    {
     "data": {
      "text/latex": [
       "$\\displaystyle \\omega^{s_{1} s_{2} + s_{2}} \\left({X^{r_{1} + s_{2}} Z^{s_{1} + s_{2}}}\\right)\\otimes \\left({X^{r_{1} + r_{2} + s_{1} + s_{2}} Z^{s_{2}}}\\right)$"
      ],
      "text/plain": [
       "omega**(s1*s2 + s2)*(X**(r1 + s2)*Z**(s1 + s2))x(X**(r1 + r2 + s1 + s2)*Z**s2)"
      ]
     },
     "metadata": {},
     "output_type": "display_data"
    },
    {
     "name": "stdout",
     "output_type": "stream",
     "text": [
      "SORTING\n",
      "(1+0j)|x1z0 x1z1 | 0 \n",
      "(1+0j)|x0z1 x1z1 | 0 \n",
      "\n"
     ]
    },
    {
     "data": {
      "text/latex": [
       "$\\displaystyle \\omega^{r_{1} r_{2} + r_{2} s_{1} + r_{2} s_{2}} \\left({X^{r_{1} + r_{2}} Z^{r_{2} + s_{1}}}\\right)\\otimes \\left({X^{r_{1} + s_{1} + s_{2}} Z^{r_{2}}}\\right)$"
      ],
      "text/plain": [
       "omega**(r1*r2 + r2*s1 + r2*s2)*(X**(r1 + r2)*Z**(r2 + s1))x(X**(r1 + s1 + s2)*Z**r2)"
      ]
     },
     "metadata": {},
     "output_type": "display_data"
    },
    {
     "name": "stdout",
     "output_type": "stream",
     "text": [
      "SORTING\n",
      "(1+0j)|x1z0 x0z1 | 1 \n",
      "(1+0j)|x0z1 x0z1 | 0 \n",
      "\n"
     ]
    },
    {
     "data": {
      "text/latex": [
       "$\\displaystyle \\omega^{r_{2} s_{1} + r_{2} s_{2}} \\left({X^{r_{1} + r_{2}} Z^{r_{2} + s_{1}}}\\right)\\otimes \\left({X^{r_{1} + r_{2} + s_{1} + s_{2}} Z^{r_{2}}}\\right)$"
      ],
      "text/plain": [
       "omega**(r2*s1 + r2*s2)*(X**(r1 + r2)*Z**(r2 + s1))x(X**(r1 + r2 + s1 + s2)*Z**r2)"
      ]
     },
     "metadata": {},
     "output_type": "display_data"
    },
    {
     "name": "stdout",
     "output_type": "stream",
     "text": [
      "SORTING\n",
      "(1+0j)|x0z1 x0z0 | 0 \n",
      "(1+0j)|x1z0 x0z0 | 0 \n",
      "\n"
     ]
    },
    {
     "data": {
      "text/latex": [
       "$\\displaystyle \\omega^{s_{1} s_{2} + s_{2}} \\left({X^{r_{1} + s_{2}} Z^{s_{1} + s_{2}}}\\right)\\otimes \\left({X^{r_{1} + r_{2} + s_{1} + s_{2}} Z^{s_{2}}}\\right)$"
      ],
      "text/plain": [
       "omega**(s1*s2 + s2)*(X**(r1 + s2)*Z**(s1 + s2))x(X**(r1 + r2 + s1 + s2)*Z**s2)"
      ]
     },
     "metadata": {},
     "output_type": "display_data"
    },
    {
     "name": "stdout",
     "output_type": "stream",
     "text": [
      "SORTING\n",
      "(1+0j)|x0z1 x0z0 | 0 \n",
      "(1+0j)|x1z0 x0z0 | 0 \n",
      "\n"
     ]
    },
    {
     "data": {
      "text/latex": [
       "$\\displaystyle \\omega^{s_{1} s_{2} + s_{2}} \\left({X^{r_{1} + s_{2}} Z^{s_{1} + s_{2}}}\\right)\\otimes \\left({X^{r_{1} + r_{2} + s_{1} + s_{2}} Z^{s_{2}}}\\right)$"
      ],
      "text/plain": [
       "omega**(s1*s2 + s2)*(X**(r1 + s2)*Z**(s1 + s2))x(X**(r1 + r2 + s1 + s2)*Z**s2)"
      ]
     },
     "metadata": {},
     "output_type": "display_data"
    },
    {
     "name": "stdout",
     "output_type": "stream",
     "text": [
      "SORTING\n",
      "(1+0j)|x1z0 x1z1 | 0 \n",
      "(1+0j)|x0z1 x1z1 | 0 \n",
      "\n"
     ]
    },
    {
     "data": {
      "text/latex": [
       "$\\displaystyle \\omega^{r_{1} r_{2} + r_{2} s_{1} + r_{2} s_{2}} \\left({X^{r_{1} + r_{2}} Z^{r_{2} + s_{1}}}\\right)\\otimes \\left({X^{r_{1} + s_{1} + s_{2}} Z^{r_{2}}}\\right)$"
      ],
      "text/plain": [
       "omega**(r1*r2 + r2*s1 + r2*s2)*(X**(r1 + r2)*Z**(r2 + s1))x(X**(r1 + s1 + s2)*Z**r2)"
      ]
     },
     "metadata": {},
     "output_type": "display_data"
    },
    {
     "name": "stdout",
     "output_type": "stream",
     "text": [
      "SORTING\n",
      "(1+0j)|x1z0 x0z1 | 1 \n",
      "(1+0j)|x0z1 x0z1 | 0 \n",
      "\n"
     ]
    },
    {
     "data": {
      "text/latex": [
       "$\\displaystyle \\omega^{r_{2} s_{1} + r_{2} s_{2}} \\left({X^{r_{1} + r_{2}} Z^{r_{2} + s_{1}}}\\right)\\otimes \\left({X^{r_{1} + r_{2} + s_{1} + s_{2}} Z^{r_{2}}}\\right)$"
      ],
      "text/plain": [
       "omega**(r2*s1 + r2*s2)*(X**(r1 + r2)*Z**(r2 + s1))x(X**(r1 + r2 + s1 + s2)*Z**r2)"
      ]
     },
     "metadata": {},
     "output_type": "display_data"
    },
    {
     "name": "stdout",
     "output_type": "stream",
     "text": [
      "SORTING\n",
      "(1+0j)|x1z0 x0z1 | 1 \n",
      "(1+0j)|x0z1 x0z1 | 0 \n",
      "\n"
     ]
    },
    {
     "data": {
      "text/latex": [
       "$\\displaystyle \\omega^{r_{2} s_{1} + r_{2} s_{2}} \\left({X^{r_{1} + r_{2}} Z^{r_{2} + s_{1}}}\\right)\\otimes \\left({X^{r_{1} + r_{2} + s_{1} + s_{2}} Z^{r_{2}}}\\right)$"
      ],
      "text/plain": [
       "omega**(r2*s1 + r2*s2)*(X**(r1 + r2)*Z**(r2 + s1))x(X**(r1 + r2 + s1 + s2)*Z**r2)"
      ]
     },
     "metadata": {},
     "output_type": "display_data"
    },
    {
     "name": "stdout",
     "output_type": "stream",
     "text": [
      "SORTING\n",
      "(1+0j)|x1z0 x0z1 | 1 \n",
      "(1+0j)|x0z1 x0z1 | 0 \n",
      "\n"
     ]
    },
    {
     "data": {
      "text/latex": [
       "$\\displaystyle \\omega^{r_{2} s_{1} + r_{2} s_{2}} \\left({X^{r_{1} + r_{2}} Z^{r_{2} + s_{1}}}\\right)\\otimes \\left({X^{r_{1} + r_{2} + s_{1} + s_{2}} Z^{r_{2}}}\\right)$"
      ],
      "text/plain": [
       "omega**(r2*s1 + r2*s2)*(X**(r1 + r2)*Z**(r2 + s1))x(X**(r1 + r2 + s1 + s2)*Z**r2)"
      ]
     },
     "metadata": {},
     "output_type": "display_data"
    },
    {
     "name": "stdout",
     "output_type": "stream",
     "text": [
      "SORTING\n",
      "(1+0j)|x0z1 x0z0 | 0 \n",
      "(1+0j)|x1z0 x0z0 | 0 \n",
      "\n"
     ]
    },
    {
     "data": {
      "text/latex": [
       "$\\displaystyle \\omega^{s_{1} s_{2} + s_{2}} \\left({X^{r_{1} + s_{2}} Z^{s_{1} + s_{2}}}\\right)\\otimes \\left({X^{r_{1} + r_{2} + s_{1} + s_{2}} Z^{s_{2}}}\\right)$"
      ],
      "text/plain": [
       "omega**(s1*s2 + s2)*(X**(r1 + s2)*Z**(s1 + s2))x(X**(r1 + r2 + s1 + s2)*Z**s2)"
      ]
     },
     "metadata": {},
     "output_type": "display_data"
    },
    {
     "name": "stdout",
     "output_type": "stream",
     "text": [
      "SORTING\n",
      "(1+0j)|x0z1 x0z0 | 0 \n",
      "(1+0j)|x1z0 x0z0 | 0 \n",
      "\n"
     ]
    },
    {
     "data": {
      "text/latex": [
       "$\\displaystyle \\omega^{s_{1} s_{2} + s_{2}} \\left({X^{r_{1} + s_{2}} Z^{s_{1} + s_{2}}}\\right)\\otimes \\left({X^{r_{1} + r_{2} + s_{1} + s_{2}} Z^{s_{2}}}\\right)$"
      ],
      "text/plain": [
       "omega**(s1*s2 + s2)*(X**(r1 + s2)*Z**(s1 + s2))x(X**(r1 + r2 + s1 + s2)*Z**s2)"
      ]
     },
     "metadata": {},
     "output_type": "display_data"
    },
    {
     "name": "stdout",
     "output_type": "stream",
     "text": [
      "SORTING\n",
      "(1+0j)|x1z0 x1z1 | 0 \n",
      "(1+0j)|x0z1 x1z1 | 0 \n",
      "\n"
     ]
    },
    {
     "data": {
      "text/latex": [
       "$\\displaystyle \\omega^{r_{1} r_{2} + r_{2} s_{1} + r_{2} s_{2}} \\left({X^{r_{1} + r_{2}} Z^{r_{2} + s_{1}}}\\right)\\otimes \\left({X^{r_{1} + s_{1} + s_{2}} Z^{r_{2}}}\\right)$"
      ],
      "text/plain": [
       "omega**(r1*r2 + r2*s1 + r2*s2)*(X**(r1 + r2)*Z**(r2 + s1))x(X**(r1 + s1 + s2)*Z**r2)"
      ]
     },
     "metadata": {},
     "output_type": "display_data"
    },
    {
     "name": "stdout",
     "output_type": "stream",
     "text": [
      "SORTING\n",
      "(1+0j)|x1z0 x0z1 | 1 \n",
      "(1+0j)|x0z1 x0z1 | 0 \n",
      "\n"
     ]
    },
    {
     "data": {
      "text/latex": [
       "$\\displaystyle \\omega^{r_{2} s_{1} + r_{2} s_{2}} \\left({X^{r_{1} + r_{2}} Z^{r_{2} + s_{1}}}\\right)\\otimes \\left({X^{r_{1} + r_{2} + s_{1} + s_{2}} Z^{r_{2}}}\\right)$"
      ],
      "text/plain": [
       "omega**(r2*s1 + r2*s2)*(X**(r1 + r2)*Z**(r2 + s1))x(X**(r1 + r2 + s1 + s2)*Z**r2)"
      ]
     },
     "metadata": {},
     "output_type": "display_data"
    },
    {
     "name": "stdout",
     "output_type": "stream",
     "text": [
      "SORTING\n",
      "(1+0j)|x1z0 x0z1 | 1 \n",
      "(1+0j)|x0z1 x0z1 | 0 \n",
      "\n"
     ]
    },
    {
     "data": {
      "text/latex": [
       "$\\displaystyle \\omega^{r_{2} s_{1} + r_{2} s_{2}} \\left({X^{r_{1} + r_{2}} Z^{r_{2} + s_{1}}}\\right)\\otimes \\left({X^{r_{1} + r_{2} + s_{1} + s_{2}} Z^{r_{2}}}\\right)$"
      ],
      "text/plain": [
       "omega**(r2*s1 + r2*s2)*(X**(r1 + r2)*Z**(r2 + s1))x(X**(r1 + r2 + s1 + s2)*Z**r2)"
      ]
     },
     "metadata": {},
     "output_type": "display_data"
    },
    {
     "name": "stdout",
     "output_type": "stream",
     "text": [
      "SORTING\n",
      "(1+0j)|x1z0 x0z1 | 1 \n",
      "(1+0j)|x0z1 x0z1 | 0 \n",
      "\n"
     ]
    },
    {
     "data": {
      "text/latex": [
       "$\\displaystyle \\omega^{r_{2} s_{1} + r_{2} s_{2}} \\left({X^{r_{1} + r_{2}} Z^{r_{2} + s_{1}}}\\right)\\otimes \\left({X^{r_{1} + r_{2} + s_{1} + s_{2}} Z^{r_{2}}}\\right)$"
      ],
      "text/plain": [
       "omega**(r2*s1 + r2*s2)*(X**(r1 + r2)*Z**(r2 + s1))x(X**(r1 + r2 + s1 + s2)*Z**r2)"
      ]
     },
     "metadata": {},
     "output_type": "display_data"
    },
    {
     "name": "stdout",
     "output_type": "stream",
     "text": [
      "SORTING\n",
      "(1+0j)|x0z1 x0z0 | 0 \n",
      "(1+0j)|x1z0 x0z0 | 0 \n",
      "\n"
     ]
    },
    {
     "data": {
      "text/latex": [
       "$\\displaystyle \\omega^{s_{1} s_{2} + s_{2}} \\left({X^{r_{1} + s_{2}} Z^{s_{1} + s_{2}}}\\right)\\otimes \\left({X^{r_{1} + r_{2} + s_{1} + s_{2}} Z^{s_{2}}}\\right)$"
      ],
      "text/plain": [
       "omega**(s1*s2 + s2)*(X**(r1 + s2)*Z**(s1 + s2))x(X**(r1 + r2 + s1 + s2)*Z**s2)"
      ]
     },
     "metadata": {},
     "output_type": "display_data"
    },
    {
     "name": "stdout",
     "output_type": "stream",
     "text": [
      "SORTING\n",
      "(1+0j)|x0z1 x0z0 | 0 \n",
      "(1+0j)|x1z0 x0z0 | 0 \n",
      "\n"
     ]
    },
    {
     "data": {
      "text/latex": [
       "$\\displaystyle \\omega^{s_{1} s_{2} + s_{2}} \\left({X^{r_{1} + s_{2}} Z^{s_{1} + s_{2}}}\\right)\\otimes \\left({X^{r_{1} + r_{2} + s_{1} + s_{2}} Z^{s_{2}}}\\right)$"
      ],
      "text/plain": [
       "omega**(s1*s2 + s2)*(X**(r1 + s2)*Z**(s1 + s2))x(X**(r1 + r2 + s1 + s2)*Z**s2)"
      ]
     },
     "metadata": {},
     "output_type": "display_data"
    },
    {
     "name": "stdout",
     "output_type": "stream",
     "text": [
      "SORTING\n",
      "(1+0j)|x1z0 x1z1 | 0 \n",
      "(1+0j)|x0z1 x1z1 | 0 \n",
      "\n"
     ]
    },
    {
     "data": {
      "text/latex": [
       "$\\displaystyle \\omega^{r_{1} r_{2} + r_{2} s_{1} + r_{2} s_{2}} \\left({X^{r_{1} + r_{2}} Z^{r_{2} + s_{1}}}\\right)\\otimes \\left({X^{r_{1} + s_{1} + s_{2}} Z^{r_{2}}}\\right)$"
      ],
      "text/plain": [
       "omega**(r1*r2 + r2*s1 + r2*s2)*(X**(r1 + r2)*Z**(r2 + s1))x(X**(r1 + s1 + s2)*Z**r2)"
      ]
     },
     "metadata": {},
     "output_type": "display_data"
    },
    {
     "name": "stdout",
     "output_type": "stream",
     "text": [
      "SORTING\n",
      "(1+0j)|x1z0 x0z1 | 1 \n",
      "(1+0j)|x0z1 x0z1 | 0 \n",
      "\n"
     ]
    },
    {
     "data": {
      "text/latex": [
       "$\\displaystyle \\omega^{r_{2} s_{1} + r_{2} s_{2}} \\left({X^{r_{1} + r_{2}} Z^{r_{2} + s_{1}}}\\right)\\otimes \\left({X^{r_{1} + r_{2} + s_{1} + s_{2}} Z^{r_{2}}}\\right)$"
      ],
      "text/plain": [
       "omega**(r2*s1 + r2*s2)*(X**(r1 + r2)*Z**(r2 + s1))x(X**(r1 + r2 + s1 + s2)*Z**r2)"
      ]
     },
     "metadata": {},
     "output_type": "display_data"
    },
    {
     "name": "stdout",
     "output_type": "stream",
     "text": [
      "SORTING\n",
      "(1+0j)|x1z0 x0z1 | 1 \n",
      "(1+0j)|x0z1 x0z1 | 0 \n",
      "\n"
     ]
    },
    {
     "data": {
      "text/latex": [
       "$\\displaystyle \\omega^{r_{2} s_{1} + r_{2} s_{2}} \\left({X^{r_{1} + r_{2}} Z^{r_{2} + s_{1}}}\\right)\\otimes \\left({X^{r_{1} + r_{2} + s_{1} + s_{2}} Z^{r_{2}}}\\right)$"
      ],
      "text/plain": [
       "omega**(r2*s1 + r2*s2)*(X**(r1 + r2)*Z**(r2 + s1))x(X**(r1 + r2 + s1 + s2)*Z**r2)"
      ]
     },
     "metadata": {},
     "output_type": "display_data"
    },
    {
     "name": "stdout",
     "output_type": "stream",
     "text": [
      "SORTING\n",
      "(1+0j)|x1z0 x0z1 | 1 \n",
      "(1+0j)|x0z1 x0z1 | 0 \n",
      "\n"
     ]
    },
    {
     "data": {
      "text/latex": [
       "$\\displaystyle \\omega^{r_{2} s_{1} + r_{2} s_{2}} \\left({X^{r_{1} + r_{2}} Z^{r_{2} + s_{1}}}\\right)\\otimes \\left({X^{r_{1} + r_{2} + s_{1} + s_{2}} Z^{r_{2}}}\\right)$"
      ],
      "text/plain": [
       "omega**(r2*s1 + r2*s2)*(X**(r1 + r2)*Z**(r2 + s1))x(X**(r1 + r2 + s1 + s2)*Z**r2)"
      ]
     },
     "metadata": {},
     "output_type": "display_data"
    },
    {
     "name": "stdout",
     "output_type": "stream",
     "text": [
      "SORTING\n",
      "(1+0j)|x0z1 x0z0 | 0 \n",
      "(1+0j)|x1z0 x0z0 | 0 \n",
      "\n"
     ]
    },
    {
     "data": {
      "text/latex": [
       "$\\displaystyle \\omega^{s_{1} s_{2} + s_{2}} \\left({X^{r_{1} + s_{2}} Z^{s_{1} + s_{2}}}\\right)\\otimes \\left({X^{r_{1} + r_{2} + s_{1} + s_{2}} Z^{s_{2}}}\\right)$"
      ],
      "text/plain": [
       "omega**(s1*s2 + s2)*(X**(r1 + s2)*Z**(s1 + s2))x(X**(r1 + r2 + s1 + s2)*Z**s2)"
      ]
     },
     "metadata": {},
     "output_type": "display_data"
    },
    {
     "name": "stdout",
     "output_type": "stream",
     "text": [
      "SORTING\n",
      "(1+0j)|x0z1 x0z0 | 0 \n",
      "(1+0j)|x1z0 x0z0 | 0 \n",
      "\n"
     ]
    },
    {
     "data": {
      "text/latex": [
       "$\\displaystyle \\omega^{s_{1} s_{2} + s_{2}} \\left({X^{r_{1} + s_{2}} Z^{s_{1} + s_{2}}}\\right)\\otimes \\left({X^{r_{1} + r_{2} + s_{1} + s_{2}} Z^{s_{2}}}\\right)$"
      ],
      "text/plain": [
       "omega**(s1*s2 + s2)*(X**(r1 + s2)*Z**(s1 + s2))x(X**(r1 + r2 + s1 + s2)*Z**s2)"
      ]
     },
     "metadata": {},
     "output_type": "display_data"
    },
    {
     "name": "stdout",
     "output_type": "stream",
     "text": [
      "SORTING\n",
      "(1+0j)|x1z0 x1z1 | 0 \n",
      "(1+0j)|x0z1 x1z1 | 0 \n",
      "\n"
     ]
    },
    {
     "data": {
      "text/latex": [
       "$\\displaystyle \\omega^{r_{1} r_{2} + r_{2} s_{1} + r_{2} s_{2}} \\left({X^{r_{1} + r_{2}} Z^{r_{2} + s_{1}}}\\right)\\otimes \\left({X^{r_{1} + s_{1} + s_{2}} Z^{r_{2}}}\\right)$"
      ],
      "text/plain": [
       "omega**(r1*r2 + r2*s1 + r2*s2)*(X**(r1 + r2)*Z**(r2 + s1))x(X**(r1 + s1 + s2)*Z**r2)"
      ]
     },
     "metadata": {},
     "output_type": "display_data"
    },
    {
     "name": "stdout",
     "output_type": "stream",
     "text": [
      "SORTING\n",
      "(1+0j)|x1z0 x0z1 | 1 \n",
      "(1+0j)|x0z1 x0z1 | 0 \n",
      "\n"
     ]
    },
    {
     "data": {
      "text/latex": [
       "$\\displaystyle \\omega^{r_{2} s_{1} + r_{2} s_{2}} \\left({X^{r_{1} + r_{2}} Z^{r_{2} + s_{1}}}\\right)\\otimes \\left({X^{r_{1} + r_{2} + s_{1} + s_{2}} Z^{r_{2}}}\\right)$"
      ],
      "text/plain": [
       "omega**(r2*s1 + r2*s2)*(X**(r1 + r2)*Z**(r2 + s1))x(X**(r1 + r2 + s1 + s2)*Z**r2)"
      ]
     },
     "metadata": {},
     "output_type": "display_data"
    },
    {
     "name": "stdout",
     "output_type": "stream",
     "text": [
      "SORTING\n",
      "(1+0j)|x1z0 x0z1 | 1 \n",
      "(1+0j)|x0z1 x0z1 | 0 \n",
      "\n"
     ]
    },
    {
     "data": {
      "text/latex": [
       "$\\displaystyle \\omega^{r_{2} s_{1} + r_{2} s_{2}} \\left({X^{r_{1} + r_{2}} Z^{r_{2} + s_{1}}}\\right)\\otimes \\left({X^{r_{1} + r_{2} + s_{1} + s_{2}} Z^{r_{2}}}\\right)$"
      ],
      "text/plain": [
       "omega**(r2*s1 + r2*s2)*(X**(r1 + r2)*Z**(r2 + s1))x(X**(r1 + r2 + s1 + s2)*Z**r2)"
      ]
     },
     "metadata": {},
     "output_type": "display_data"
    }
   ],
   "source": [
    "start_pauli = PauliSum(['x1z0 x0z0', 'x0z1 x0z0'], dimensions=[2, 2], phases=[0,0])\n",
    "goal_pauli = PauliSum(['x1z0 x1z0', 'x0z1 x1z0'], dimensions=[2, 2], phases=[0,0])\n",
    "iterations = 8\n",
    "goal_circuits = find_circuit(start_pauli,goal_pauli,iterations,compare_phases=False)\n",
    "for i,c in enumerate(goal_circuits):\n",
    "    p = PauliSum(['x1z0 x1z0', 'x0z1 x1z0'], dimensions=[2, 2], phases=[0,0])\n",
    "    for g in c.gates:\n",
    "        p = g.act(p)\n",
    "    print(p)\n",
    "    symplectic_effect(c)"
   ]
  },
  {
   "cell_type": "code",
   "execution_count": 145,
   "id": "b511a1ca",
   "metadata": {},
   "outputs": [
    {
     "name": "stdout",
     "output_type": "stream",
     "text": [
      "SORTING\n",
      "(1+0j)|x0z1 x1z0 | 0 \n",
      "(1+0j)|x1z0 x1z0 | 0 \n",
      "\n"
     ]
    }
   ],
   "source": [
    "p = PauliSum(['x1z0 x0z0', 'x0z1 x0z0'], dimensions=[2, 2], phases=[0,0])\n",
    "C = add_r2s2(p,0,1)\n",
    "p = C.act(p)\n",
    "print(p)"
   ]
  },
  {
   "cell_type": "code",
   "execution_count": 150,
   "id": "3d310d9e",
   "metadata": {},
   "outputs": [
    {
     "name": "stdout",
     "output_type": "stream",
     "text": [
      "SORTING\n",
      "SUM [1, 0]\n",
      "H [1]\n",
      "SUM [0, 1]\n",
      "S [1]\n",
      "\n",
      "(1+0j)|x1z0 x1z0 | 0 \n",
      "(1+0j)|x0z1 x1z0 | 1 \n",
      "\n"
     ]
    },
    {
     "data": {
      "text/latex": [
       "$\\displaystyle \\omega^{r_{2} s_{1} + r_{2} s_{2}} \\left({X^{r_{1} + r_{2}} Z^{r_{2} + s_{1}}}\\right)\\otimes \\left({X^{r_{1} + r_{2} + s_{1} + s_{2}} Z^{r_{1} + s_{1} + s_{2}}}\\right)$"
      ],
      "text/plain": [
       "omega**(r2*s1 + r2*s2)*(X**(r1 + r2)*Z**(r2 + s1))x(X**(r1 + r2 + s1 + s2)*Z**(r1 + s1 + s2))"
      ]
     },
     "metadata": {},
     "output_type": "display_data"
    },
    {
     "name": "stdout",
     "output_type": "stream",
     "text": [
      "SORTING\n",
      "SUM [1, 0]\n",
      "H [1]\n",
      "SUM [0, 1]\n",
      "S [1]\n",
      "\n",
      "(1+0j)|x1z0 x1z0 | 0 \n",
      "(1+0j)|x0z1 x1z0 | 1 \n",
      "\n"
     ]
    },
    {
     "data": {
      "text/latex": [
       "$\\displaystyle \\omega^{r_{2} s_{1} + r_{2} s_{2}} \\left({X^{r_{1} + r_{2}} Z^{r_{2} + s_{1}}}\\right)\\otimes \\left({X^{r_{1} + r_{2} + s_{1} + s_{2}} Z^{r_{1} + s_{1} + s_{2}}}\\right)$"
      ],
      "text/plain": [
       "omega**(r2*s1 + r2*s2)*(X**(r1 + r2)*Z**(r2 + s1))x(X**(r1 + r2 + s1 + s2)*Z**(r1 + s1 + s2))"
      ]
     },
     "metadata": {},
     "output_type": "display_data"
    },
    {
     "name": "stdout",
     "output_type": "stream",
     "text": [
      "SORTING\n",
      "SUM [0, 1]\n",
      "H [0]\n",
      "SUM [0, 1]\n",
      "S [1]\n",
      "H [0]\n",
      "\n",
      "(1+0j)|x1z0 x1z0 | 0 \n",
      "(1+0j)|x0z1 x1z0 | 1 \n",
      "\n"
     ]
    },
    {
     "data": {
      "text/latex": [
       "$\\displaystyle \\omega^{s_{1} s_{2} + s_{2}} \\left({X^{r_{1} + s_{2}} Z^{s_{1} + s_{2}}}\\right)\\otimes \\left({X^{r_{1} + r_{2} + s_{1} + s_{2}} Z^{r_{1} + r_{2} + s_{1}}}\\right)$"
      ],
      "text/plain": [
       "omega**(s1*s2 + s2)*(X**(r1 + s2)*Z**(s1 + s2))x(X**(r1 + r2 + s1 + s2)*Z**(r1 + r2 + s1))"
      ]
     },
     "metadata": {},
     "output_type": "display_data"
    },
    {
     "name": "stdout",
     "output_type": "stream",
     "text": [
      "SORTING\n",
      "SUM [1, 0]\n",
      "H [1]\n",
      "SUM [0, 1]\n",
      "S [1]\n",
      "H [1]\n",
      "\n",
      "(1+0j)|x1z0 x0z1 | 0 \n",
      "(1+0j)|x0z1 x0z1 | 1 \n",
      "\n"
     ]
    },
    {
     "data": {
      "text/latex": [
       "$\\displaystyle \\omega^{r_{1} r_{2} + r_{1} + s_{1} + s_{2}} \\left({X^{r_{1} + r_{2}} Z^{r_{2} + s_{1}}}\\right)\\otimes \\left({X^{r_{1} + s_{1} + s_{2}} Z^{r_{1} + r_{2} + s_{1} + s_{2}}}\\right)$"
      ],
      "text/plain": [
       "omega**(r1*r2 + r1 + s1 + s2)*(X**(r1 + r2)*Z**(r2 + s1))x(X**(r1 + s1 + s2)*Z**(r1 + r2 + s1 + s2))"
      ]
     },
     "metadata": {},
     "output_type": "display_data"
    },
    {
     "name": "stdout",
     "output_type": "stream",
     "text": [
      "SORTING\n",
      "S [0]\n",
      "SUM [1, 0]\n",
      "H [1]\n",
      "S [1]\n",
      "S [0]\n",
      "\n",
      "(1+0j)|x1z0 x0z1 | 1 \n",
      "(1+0j)|x0z1 x0z1 | 1 \n",
      "\n"
     ]
    },
    {
     "data": {
      "text/latex": [
       "$\\displaystyle \\omega^{r_{1} r_{2} + r_{2} s_{1} + r_{2} s_{2}} \\left({X^{r_{1} + r_{2}} Z^{r_{2} + s_{1}}}\\right)\\otimes \\left({X^{r_{1} + s_{1} + s_{2}} Z^{r_{1} + r_{2} + s_{1} + s_{2}}}\\right)$"
      ],
      "text/plain": [
       "omega**(r1*r2 + r2*s1 + r2*s2)*(X**(r1 + r2)*Z**(r2 + s1))x(X**(r1 + s1 + s2)*Z**(r1 + r2 + s1 + s2))"
      ]
     },
     "metadata": {},
     "output_type": "display_data"
    },
    {
     "name": "stdout",
     "output_type": "stream",
     "text": [
      "SORTING\n",
      "SUM [1, 0]\n",
      "H [1]\n",
      "SUM [0, 1]\n",
      "S [1]\n",
      "\n",
      "(1+0j)|x1z0 x1z0 | 0 \n",
      "(1+0j)|x0z1 x1z0 | 1 \n",
      "\n"
     ]
    },
    {
     "data": {
      "text/latex": [
       "$\\displaystyle \\omega^{r_{2} s_{1} + r_{2} s_{2}} \\left({X^{r_{1} + r_{2}} Z^{r_{2} + s_{1}}}\\right)\\otimes \\left({X^{r_{1} + r_{2} + s_{1} + s_{2}} Z^{r_{1} + s_{1} + s_{2}}}\\right)$"
      ],
      "text/plain": [
       "omega**(r2*s1 + r2*s2)*(X**(r1 + r2)*Z**(r2 + s1))x(X**(r1 + r2 + s1 + s2)*Z**(r1 + s1 + s2))"
      ]
     },
     "metadata": {},
     "output_type": "display_data"
    },
    {
     "name": "stdout",
     "output_type": "stream",
     "text": [
      "SORTING\n",
      "SUM [0, 1]\n",
      "H [0]\n",
      "SUM [0, 1]\n",
      "S [1]\n",
      "H [0]\n",
      "\n",
      "(1+0j)|x1z0 x1z0 | 0 \n",
      "(1+0j)|x0z1 x1z0 | 1 \n",
      "\n"
     ]
    },
    {
     "data": {
      "text/latex": [
       "$\\displaystyle \\omega^{s_{1} s_{2} + s_{2}} \\left({X^{r_{1} + s_{2}} Z^{s_{1} + s_{2}}}\\right)\\otimes \\left({X^{r_{1} + r_{2} + s_{1} + s_{2}} Z^{r_{1} + r_{2} + s_{1}}}\\right)$"
      ],
      "text/plain": [
       "omega**(s1*s2 + s2)*(X**(r1 + s2)*Z**(s1 + s2))x(X**(r1 + r2 + s1 + s2)*Z**(r1 + r2 + s1))"
      ]
     },
     "metadata": {},
     "output_type": "display_data"
    },
    {
     "name": "stdout",
     "output_type": "stream",
     "text": [
      "SORTING\n",
      "SUM [1, 0]\n",
      "H [1]\n",
      "SUM [0, 1]\n",
      "S [1]\n",
      "H [1]\n",
      "\n",
      "(1+0j)|x1z0 x0z1 | 0 \n",
      "(1+0j)|x0z1 x0z1 | 1 \n",
      "\n"
     ]
    },
    {
     "data": {
      "text/latex": [
       "$\\displaystyle \\omega^{r_{1} r_{2} + r_{1} + s_{1} + s_{2}} \\left({X^{r_{1} + r_{2}} Z^{r_{2} + s_{1}}}\\right)\\otimes \\left({X^{r_{1} + s_{1} + s_{2}} Z^{r_{1} + r_{2} + s_{1} + s_{2}}}\\right)$"
      ],
      "text/plain": [
       "omega**(r1*r2 + r1 + s1 + s2)*(X**(r1 + r2)*Z**(r2 + s1))x(X**(r1 + s1 + s2)*Z**(r1 + r2 + s1 + s2))"
      ]
     },
     "metadata": {},
     "output_type": "display_data"
    },
    {
     "name": "stdout",
     "output_type": "stream",
     "text": [
      "SORTING\n",
      "S [0]\n",
      "SUM [1, 0]\n",
      "H [1]\n",
      "S [1]\n",
      "S [0]\n",
      "\n",
      "(1+0j)|x1z0 x0z1 | 1 \n",
      "(1+0j)|x0z1 x0z1 | 1 \n",
      "\n"
     ]
    },
    {
     "data": {
      "text/latex": [
       "$\\displaystyle \\omega^{r_{1} r_{2} + r_{2} s_{1} + r_{2} s_{2}} \\left({X^{r_{1} + r_{2}} Z^{r_{2} + s_{1}}}\\right)\\otimes \\left({X^{r_{1} + s_{1} + s_{2}} Z^{r_{1} + r_{2} + s_{1} + s_{2}}}\\right)$"
      ],
      "text/plain": [
       "omega**(r1*r2 + r2*s1 + r2*s2)*(X**(r1 + r2)*Z**(r2 + s1))x(X**(r1 + s1 + s2)*Z**(r1 + r2 + s1 + s2))"
      ]
     },
     "metadata": {},
     "output_type": "display_data"
    },
    {
     "name": "stdout",
     "output_type": "stream",
     "text": [
      "SORTING\n",
      "SUM [0, 1]\n",
      "SUM [1, 0]\n",
      "H [0]\n",
      "SUM [0, 1]\n",
      "S [1]\n",
      "SUM [1, 0]\n",
      "\n",
      "(1+0j)|x1z0 x1z0 | 0 \n",
      "(1+0j)|x0z1 x1z0 | 1 \n",
      "\n"
     ]
    },
    {
     "data": {
      "text/latex": [
       "$\\displaystyle \\omega^{r_{2} s_{1} + r_{2} s_{2}} \\left({X^{r_{1} + r_{2}} Z^{r_{2} + s_{1}}}\\right)\\otimes \\left({X^{r_{1} + r_{2} + s_{1} + s_{2}} Z^{r_{1} + s_{1} + s_{2}}}\\right)$"
      ],
      "text/plain": [
       "omega**(r2*s1 + r2*s2)*(X**(r1 + r2)*Z**(r2 + s1))x(X**(r1 + r2 + s1 + s2)*Z**(r1 + s1 + s2))"
      ]
     },
     "metadata": {},
     "output_type": "display_data"
    },
    {
     "name": "stdout",
     "output_type": "stream",
     "text": [
      "SORTING\n",
      "SUM [1, 0]\n",
      "SUM [0, 1]\n",
      "S [0]\n",
      "H [1]\n",
      "S [1]\n",
      "SUM [0, 1]\n",
      "\n",
      "(1+0j)|x1z0 x1z0 | 1 \n",
      "(1+0j)|x0z1 x1z0 | 1 \n",
      "\n"
     ]
    },
    {
     "data": {
      "text/latex": [
       "$\\displaystyle \\omega^{r_{1} s_{1} + r_{1} s_{2}} \\left({X^{r_{1} + r_{2}} Z^{r_{2} + s_{1}}}\\right)\\otimes \\left({X^{r_{1} + r_{2} + s_{1} + s_{2}} Z^{r_{1} + s_{1} + s_{2}}}\\right)$"
      ],
      "text/plain": [
       "omega**(r1*s1 + r1*s2)*(X**(r1 + r2)*Z**(r2 + s1))x(X**(r1 + r2 + s1 + s2)*Z**(r1 + s1 + s2))"
      ]
     },
     "metadata": {},
     "output_type": "display_data"
    },
    {
     "name": "stdout",
     "output_type": "stream",
     "text": [
      "SORTING\n",
      "SUM [1, 0]\n",
      "H [1]\n",
      "SUM [0, 1]\n",
      "S [1]\n",
      "\n",
      "(1+0j)|x1z0 x1z0 | 0 \n",
      "(1+0j)|x0z1 x1z0 | 1 \n",
      "\n"
     ]
    },
    {
     "data": {
      "text/latex": [
       "$\\displaystyle \\omega^{r_{2} s_{1} + r_{2} s_{2}} \\left({X^{r_{1} + r_{2}} Z^{r_{2} + s_{1}}}\\right)\\otimes \\left({X^{r_{1} + r_{2} + s_{1} + s_{2}} Z^{r_{1} + s_{1} + s_{2}}}\\right)$"
      ],
      "text/plain": [
       "omega**(r2*s1 + r2*s2)*(X**(r1 + r2)*Z**(r2 + s1))x(X**(r1 + r2 + s1 + s2)*Z**(r1 + s1 + s2))"
      ]
     },
     "metadata": {},
     "output_type": "display_data"
    },
    {
     "name": "stdout",
     "output_type": "stream",
     "text": [
      "SORTING\n",
      "SUM [0, 1]\n",
      "H [0]\n",
      "SUM [0, 1]\n",
      "S [1]\n",
      "H [0]\n",
      "\n",
      "(1+0j)|x1z0 x1z0 | 0 \n",
      "(1+0j)|x0z1 x1z0 | 1 \n",
      "\n"
     ]
    },
    {
     "data": {
      "text/latex": [
       "$\\displaystyle \\omega^{s_{1} s_{2} + s_{2}} \\left({X^{r_{1} + s_{2}} Z^{s_{1} + s_{2}}}\\right)\\otimes \\left({X^{r_{1} + r_{2} + s_{1} + s_{2}} Z^{r_{1} + r_{2} + s_{1}}}\\right)$"
      ],
      "text/plain": [
       "omega**(s1*s2 + s2)*(X**(r1 + s2)*Z**(s1 + s2))x(X**(r1 + r2 + s1 + s2)*Z**(r1 + r2 + s1))"
      ]
     },
     "metadata": {},
     "output_type": "display_data"
    },
    {
     "name": "stdout",
     "output_type": "stream",
     "text": [
      "SORTING\n",
      "SUM [1, 0]\n",
      "H [1]\n",
      "SUM [0, 1]\n",
      "S [1]\n",
      "H [1]\n",
      "\n",
      "(1+0j)|x1z0 x0z1 | 0 \n",
      "(1+0j)|x0z1 x0z1 | 1 \n",
      "\n"
     ]
    },
    {
     "data": {
      "text/latex": [
       "$\\displaystyle \\omega^{r_{1} r_{2} + r_{1} + s_{1} + s_{2}} \\left({X^{r_{1} + r_{2}} Z^{r_{2} + s_{1}}}\\right)\\otimes \\left({X^{r_{1} + s_{1} + s_{2}} Z^{r_{1} + r_{2} + s_{1} + s_{2}}}\\right)$"
      ],
      "text/plain": [
       "omega**(r1*r2 + r1 + s1 + s2)*(X**(r1 + r2)*Z**(r2 + s1))x(X**(r1 + s1 + s2)*Z**(r1 + r2 + s1 + s2))"
      ]
     },
     "metadata": {},
     "output_type": "display_data"
    },
    {
     "name": "stdout",
     "output_type": "stream",
     "text": [
      "SORTING\n",
      "S [0]\n",
      "SUM [1, 0]\n",
      "H [1]\n",
      "S [1]\n",
      "S [0]\n",
      "\n",
      "(1+0j)|x1z0 x0z1 | 1 \n",
      "(1+0j)|x0z1 x0z1 | 1 \n",
      "\n"
     ]
    },
    {
     "data": {
      "text/latex": [
       "$\\displaystyle \\omega^{r_{1} r_{2} + r_{2} s_{1} + r_{2} s_{2}} \\left({X^{r_{1} + r_{2}} Z^{r_{2} + s_{1}}}\\right)\\otimes \\left({X^{r_{1} + s_{1} + s_{2}} Z^{r_{1} + r_{2} + s_{1} + s_{2}}}\\right)$"
      ],
      "text/plain": [
       "omega**(r1*r2 + r2*s1 + r2*s2)*(X**(r1 + r2)*Z**(r2 + s1))x(X**(r1 + s1 + s2)*Z**(r1 + r2 + s1 + s2))"
      ]
     },
     "metadata": {},
     "output_type": "display_data"
    },
    {
     "name": "stdout",
     "output_type": "stream",
     "text": [
      "SORTING\n",
      "SUM [0, 1]\n",
      "SUM [1, 0]\n",
      "H [0]\n",
      "SUM [0, 1]\n",
      "S [1]\n",
      "SUM [1, 0]\n",
      "\n",
      "(1+0j)|x1z0 x1z0 | 0 \n",
      "(1+0j)|x0z1 x1z0 | 1 \n",
      "\n"
     ]
    },
    {
     "data": {
      "text/latex": [
       "$\\displaystyle \\omega^{r_{2} s_{1} + r_{2} s_{2}} \\left({X^{r_{1} + r_{2}} Z^{r_{2} + s_{1}}}\\right)\\otimes \\left({X^{r_{1} + r_{2} + s_{1} + s_{2}} Z^{r_{1} + s_{1} + s_{2}}}\\right)$"
      ],
      "text/plain": [
       "omega**(r2*s1 + r2*s2)*(X**(r1 + r2)*Z**(r2 + s1))x(X**(r1 + r2 + s1 + s2)*Z**(r1 + s1 + s2))"
      ]
     },
     "metadata": {},
     "output_type": "display_data"
    },
    {
     "name": "stdout",
     "output_type": "stream",
     "text": [
      "SORTING\n",
      "SUM [1, 0]\n",
      "SUM [0, 1]\n",
      "S [0]\n",
      "H [1]\n",
      "S [1]\n",
      "SUM [0, 1]\n",
      "\n",
      "(1+0j)|x1z0 x1z0 | 1 \n",
      "(1+0j)|x0z1 x1z0 | 1 \n",
      "\n"
     ]
    },
    {
     "data": {
      "text/latex": [
       "$\\displaystyle \\omega^{r_{1} s_{1} + r_{1} s_{2}} \\left({X^{r_{1} + r_{2}} Z^{r_{2} + s_{1}}}\\right)\\otimes \\left({X^{r_{1} + r_{2} + s_{1} + s_{2}} Z^{r_{1} + s_{1} + s_{2}}}\\right)$"
      ],
      "text/plain": [
       "omega**(r1*s1 + r1*s2)*(X**(r1 + r2)*Z**(r2 + s1))x(X**(r1 + r2 + s1 + s2)*Z**(r1 + s1 + s2))"
      ]
     },
     "metadata": {},
     "output_type": "display_data"
    },
    {
     "name": "stdout",
     "output_type": "stream",
     "text": [
      "SORTING\n",
      "SUM [1, 0]\n",
      "H [1]\n",
      "SUM [0, 1]\n",
      "S [1]\n",
      "\n",
      "(1+0j)|x1z0 x1z0 | 0 \n",
      "(1+0j)|x0z1 x1z0 | 1 \n",
      "\n"
     ]
    },
    {
     "data": {
      "text/latex": [
       "$\\displaystyle \\omega^{r_{2} s_{1} + r_{2} s_{2}} \\left({X^{r_{1} + r_{2}} Z^{r_{2} + s_{1}}}\\right)\\otimes \\left({X^{r_{1} + r_{2} + s_{1} + s_{2}} Z^{r_{1} + s_{1} + s_{2}}}\\right)$"
      ],
      "text/plain": [
       "omega**(r2*s1 + r2*s2)*(X**(r1 + r2)*Z**(r2 + s1))x(X**(r1 + r2 + s1 + s2)*Z**(r1 + s1 + s2))"
      ]
     },
     "metadata": {},
     "output_type": "display_data"
    },
    {
     "name": "stdout",
     "output_type": "stream",
     "text": [
      "SORTING\n",
      "SUM [0, 1]\n",
      "H [0]\n",
      "SUM [0, 1]\n",
      "S [1]\n",
      "H [0]\n",
      "\n",
      "(1+0j)|x1z0 x1z0 | 0 \n",
      "(1+0j)|x0z1 x1z0 | 1 \n",
      "\n"
     ]
    },
    {
     "data": {
      "text/latex": [
       "$\\displaystyle \\omega^{s_{1} s_{2} + s_{2}} \\left({X^{r_{1} + s_{2}} Z^{s_{1} + s_{2}}}\\right)\\otimes \\left({X^{r_{1} + r_{2} + s_{1} + s_{2}} Z^{r_{1} + r_{2} + s_{1}}}\\right)$"
      ],
      "text/plain": [
       "omega**(s1*s2 + s2)*(X**(r1 + s2)*Z**(s1 + s2))x(X**(r1 + r2 + s1 + s2)*Z**(r1 + r2 + s1))"
      ]
     },
     "metadata": {},
     "output_type": "display_data"
    },
    {
     "name": "stdout",
     "output_type": "stream",
     "text": [
      "SORTING\n",
      "SUM [1, 0]\n",
      "H [1]\n",
      "SUM [0, 1]\n",
      "S [1]\n",
      "H [1]\n",
      "\n",
      "(1+0j)|x1z0 x0z1 | 0 \n",
      "(1+0j)|x0z1 x0z1 | 1 \n",
      "\n"
     ]
    },
    {
     "data": {
      "text/latex": [
       "$\\displaystyle \\omega^{r_{1} r_{2} + r_{1} + s_{1} + s_{2}} \\left({X^{r_{1} + r_{2}} Z^{r_{2} + s_{1}}}\\right)\\otimes \\left({X^{r_{1} + s_{1} + s_{2}} Z^{r_{1} + r_{2} + s_{1} + s_{2}}}\\right)$"
      ],
      "text/plain": [
       "omega**(r1*r2 + r1 + s1 + s2)*(X**(r1 + r2)*Z**(r2 + s1))x(X**(r1 + s1 + s2)*Z**(r1 + r2 + s1 + s2))"
      ]
     },
     "metadata": {},
     "output_type": "display_data"
    },
    {
     "name": "stdout",
     "output_type": "stream",
     "text": [
      "SORTING\n",
      "S [0]\n",
      "SUM [1, 0]\n",
      "H [1]\n",
      "S [1]\n",
      "S [0]\n",
      "\n",
      "(1+0j)|x1z0 x0z1 | 1 \n",
      "(1+0j)|x0z1 x0z1 | 1 \n",
      "\n"
     ]
    },
    {
     "data": {
      "text/latex": [
       "$\\displaystyle \\omega^{r_{1} r_{2} + r_{2} s_{1} + r_{2} s_{2}} \\left({X^{r_{1} + r_{2}} Z^{r_{2} + s_{1}}}\\right)\\otimes \\left({X^{r_{1} + s_{1} + s_{2}} Z^{r_{1} + r_{2} + s_{1} + s_{2}}}\\right)$"
      ],
      "text/plain": [
       "omega**(r1*r2 + r2*s1 + r2*s2)*(X**(r1 + r2)*Z**(r2 + s1))x(X**(r1 + s1 + s2)*Z**(r1 + r2 + s1 + s2))"
      ]
     },
     "metadata": {},
     "output_type": "display_data"
    },
    {
     "name": "stdout",
     "output_type": "stream",
     "text": [
      "SORTING\n",
      "SUM [0, 1]\n",
      "SUM [1, 0]\n",
      "H [0]\n",
      "SUM [0, 1]\n",
      "S [1]\n",
      "SUM [1, 0]\n",
      "\n",
      "(1+0j)|x1z0 x1z0 | 0 \n",
      "(1+0j)|x0z1 x1z0 | 1 \n",
      "\n"
     ]
    },
    {
     "data": {
      "text/latex": [
       "$\\displaystyle \\omega^{r_{2} s_{1} + r_{2} s_{2}} \\left({X^{r_{1} + r_{2}} Z^{r_{2} + s_{1}}}\\right)\\otimes \\left({X^{r_{1} + r_{2} + s_{1} + s_{2}} Z^{r_{1} + s_{1} + s_{2}}}\\right)$"
      ],
      "text/plain": [
       "omega**(r2*s1 + r2*s2)*(X**(r1 + r2)*Z**(r2 + s1))x(X**(r1 + r2 + s1 + s2)*Z**(r1 + s1 + s2))"
      ]
     },
     "metadata": {},
     "output_type": "display_data"
    },
    {
     "name": "stdout",
     "output_type": "stream",
     "text": [
      "SORTING\n",
      "SUM [1, 0]\n",
      "SUM [0, 1]\n",
      "S [0]\n",
      "H [1]\n",
      "S [1]\n",
      "SUM [0, 1]\n",
      "\n",
      "(1+0j)|x1z0 x1z0 | 1 \n",
      "(1+0j)|x0z1 x1z0 | 1 \n",
      "\n"
     ]
    },
    {
     "data": {
      "text/latex": [
       "$\\displaystyle \\omega^{r_{1} s_{1} + r_{1} s_{2}} \\left({X^{r_{1} + r_{2}} Z^{r_{2} + s_{1}}}\\right)\\otimes \\left({X^{r_{1} + r_{2} + s_{1} + s_{2}} Z^{r_{1} + s_{1} + s_{2}}}\\right)$"
      ],
      "text/plain": [
       "omega**(r1*s1 + r1*s2)*(X**(r1 + r2)*Z**(r2 + s1))x(X**(r1 + r2 + s1 + s2)*Z**(r1 + s1 + s2))"
      ]
     },
     "metadata": {},
     "output_type": "display_data"
    }
   ],
   "source": [
    "for i,c in enumerate(goal_circuits):\n",
    "    p = PauliSum(['x1z0 x1z1', 'x0z1 x1z1'], dimensions=[2, 2], phases=[0,0])\n",
    "    for g in c.gates:\n",
    "        p = g.act(p)\n",
    "    print(c)\n",
    "    print(p)\n",
    "    symplectic_effect(c)"
   ]
  },
  {
   "cell_type": "code",
   "execution_count": 69,
   "id": "50a173e9",
   "metadata": {},
   "outputs": [
    {
     "name": "stdout",
     "output_type": "stream",
     "text": [
      "SORTING\n",
      "SORTING\n",
      "SORTING\n",
      "SORTING\n",
      "SORTING\n",
      "SORTING\n",
      "SORTING\n",
      "SORTING\n",
      "SORTING\n",
      "SORTING\n",
      "SORTING\n",
      "SORTING\n",
      "SORTING\n",
      "SORTING\n"
     ]
    },
    {
     "ename": "KeyboardInterrupt",
     "evalue": "",
     "output_type": "error",
     "traceback": [
      "\u001b[1;31m---------------------------------------------------------------------------\u001b[0m",
      "\u001b[1;31mKeyboardInterrupt\u001b[0m                         Traceback (most recent call last)",
      "Cell \u001b[1;32mIn[69], line 17\u001b[0m\n\u001b[0;32m      3\u001b[0m goal_pauli \u001b[38;5;241m=\u001b[39m [PauliSum([\u001b[38;5;124m'\u001b[39m\u001b[38;5;124mx1z0 x1z0\u001b[39m\u001b[38;5;124m'\u001b[39m, \u001b[38;5;124m'\u001b[39m\u001b[38;5;124mx0z1 x1z0\u001b[39m\u001b[38;5;124m'\u001b[39m], dimensions\u001b[38;5;241m=\u001b[39m[\u001b[38;5;241m2\u001b[39m, \u001b[38;5;241m2\u001b[39m], phases\u001b[38;5;241m=\u001b[39m[\u001b[38;5;241m0\u001b[39m,\u001b[38;5;241m0\u001b[39m]),\n\u001b[0;32m      4\u001b[0m                PauliSum([\u001b[38;5;124m'\u001b[39m\u001b[38;5;124mx0z0 x1z0\u001b[39m\u001b[38;5;124m'\u001b[39m, \u001b[38;5;124m'\u001b[39m\u001b[38;5;124mx0z0 x1z0\u001b[39m\u001b[38;5;124m'\u001b[39m], dimensions\u001b[38;5;241m=\u001b[39m[\u001b[38;5;241m2\u001b[39m, \u001b[38;5;241m2\u001b[39m], phases\u001b[38;5;241m=\u001b[39m[\u001b[38;5;241m1\u001b[39m,\u001b[38;5;241m1\u001b[39m]),\n\u001b[0;32m      5\u001b[0m                PauliSum([\u001b[38;5;124m'\u001b[39m\u001b[38;5;124mx0z0 x0z1\u001b[39m\u001b[38;5;124m'\u001b[39m, \u001b[38;5;124m'\u001b[39m\u001b[38;5;124mx0z0 x0z1\u001b[39m\u001b[38;5;124m'\u001b[39m], dimensions\u001b[38;5;241m=\u001b[39m[\u001b[38;5;241m2\u001b[39m, \u001b[38;5;241m2\u001b[39m], phases\u001b[38;5;241m=\u001b[39m[\u001b[38;5;241m0\u001b[39m,\u001b[38;5;241m0\u001b[39m]),\n\u001b[1;32m   (...)\u001b[0m\n\u001b[0;32m     13\u001b[0m                PauliSum([\u001b[38;5;124m'\u001b[39m\u001b[38;5;124mx0z0 x1z1\u001b[39m\u001b[38;5;124m'\u001b[39m, \u001b[38;5;124m'\u001b[39m\u001b[38;5;124mx0z0 x1z1\u001b[39m\u001b[38;5;124m'\u001b[39m], dimensions\u001b[38;5;241m=\u001b[39m[\u001b[38;5;241m2\u001b[39m, \u001b[38;5;241m2\u001b[39m], phases\u001b[38;5;241m=\u001b[39m[\u001b[38;5;241m0\u001b[39m,\u001b[38;5;241m0\u001b[39m]),\n\u001b[0;32m     14\u001b[0m                PauliSum([\u001b[38;5;124m'\u001b[39m\u001b[38;5;124mx0z0 x1z1\u001b[39m\u001b[38;5;124m'\u001b[39m, \u001b[38;5;124m'\u001b[39m\u001b[38;5;124mx0z0 x1z1\u001b[39m\u001b[38;5;124m'\u001b[39m], dimensions\u001b[38;5;241m=\u001b[39m[\u001b[38;5;241m2\u001b[39m, \u001b[38;5;241m2\u001b[39m], phases\u001b[38;5;241m=\u001b[39m[\u001b[38;5;241m1\u001b[39m,\u001b[38;5;241m1\u001b[39m])]\n\u001b[0;32m     16\u001b[0m iterations \u001b[38;5;241m=\u001b[39m \u001b[38;5;241m8\u001b[39m\n\u001b[1;32m---> 17\u001b[0m goal_circuit \u001b[38;5;241m=\u001b[39m find_circuit_simultaneous(start_pauli,goal_pauli,iterations,compare_phases \u001b[38;5;241m=\u001b[39m \u001b[38;5;28;01mTrue\u001b[39;00m)\n\u001b[0;32m     18\u001b[0m \u001b[38;5;28mprint\u001b[39m(goal_circuit)\n\u001b[0;32m     19\u001b[0m symplectic_effect(goal_circuit)\n",
      "Cell \u001b[1;32mIn[3], line 231\u001b[0m, in \u001b[0;36mfind_circuit_simultaneous\u001b[1;34m(start_paulis, goal_paulis, iterations, compare_phases)\u001b[0m\n\u001b[0;32m    229\u001b[0m \u001b[38;5;28;01mfor\u001b[39;00m ib,b \u001b[38;5;129;01min\u001b[39;00m \u001b[38;5;28menumerate\u001b[39m(intermediate_paulis):\n\u001b[0;32m    230\u001b[0m     p \u001b[38;5;241m=\u001b[39m b[ip]\n\u001b[1;32m--> 231\u001b[0m     P_temp \u001b[38;5;241m=\u001b[39m g\u001b[38;5;241m.\u001b[39mact(p)\n\u001b[0;32m    232\u001b[0m     \u001b[38;5;28;01mif\u001b[39;00m \u001b[38;5;129;01mnot\u001b[39;00m compare_phases:\n\u001b[0;32m    233\u001b[0m         P_temp\u001b[38;5;241m.\u001b[39mphases \u001b[38;5;241m=\u001b[39m [\u001b[38;5;241m0\u001b[39m]\n",
      "File \u001b[1;32mc:\\Users\\Rick\\Desktop\\VSCode\\quaos\\quaos\\gates.py:283\u001b[0m, in \u001b[0;36mGateOperation.act\u001b[1;34m(self, P)\u001b[0m\n\u001b[0;32m    281\u001b[0m     \u001b[38;5;28;01mreturn\u001b[39;00m \u001b[38;5;28mself\u001b[39m\u001b[38;5;241m.\u001b[39m_act_on_pauli_string(P)\n\u001b[0;32m    282\u001b[0m \u001b[38;5;28;01melif\u001b[39;00m \u001b[38;5;28misinstance\u001b[39m(P, PauliSum):\n\u001b[1;32m--> 283\u001b[0m     \u001b[38;5;28;01mreturn\u001b[39;00m \u001b[38;5;28mself\u001b[39m\u001b[38;5;241m.\u001b[39m_act_on_pauli_sum(P)\n\u001b[0;32m    284\u001b[0m \u001b[38;5;28;01melse\u001b[39;00m:\n\u001b[0;32m    285\u001b[0m     \u001b[38;5;28;01mraise\u001b[39;00m \u001b[38;5;167;01mValueError\u001b[39;00m(\u001b[38;5;124mf\u001b[39m\u001b[38;5;124m\"\u001b[39m\u001b[38;5;124mTwoQuditOperation cannot act on type \u001b[39m\u001b[38;5;132;01m{\u001b[39;00m\u001b[38;5;28mtype\u001b[39m(P)\u001b[38;5;132;01m}\u001b[39;00m\u001b[38;5;124m\"\u001b[39m)\n",
      "File \u001b[1;32mc:\\Users\\Rick\\Desktop\\VSCode\\quaos\\quaos\\gates.py:268\u001b[0m, in \u001b[0;36mGateOperation._act_on_pauli_sum\u001b[1;34m(self, P)\u001b[0m\n\u001b[0;32m    266\u001b[0m acquired_phase \u001b[38;5;241m=\u001b[39m []\n\u001b[0;32m    267\u001b[0m \u001b[38;5;28;01mfor\u001b[39;00m p \u001b[38;5;129;01min\u001b[39;00m P\u001b[38;5;241m.\u001b[39mpauli_strings:\n\u001b[1;32m--> 268\u001b[0m     new_pauli_string, additional_phase \u001b[38;5;241m=\u001b[39m \u001b[38;5;28mself\u001b[39m\u001b[38;5;241m.\u001b[39m_act_on_pauli_string(p, return_phase\u001b[38;5;241m=\u001b[39m\u001b[38;5;28;01mTrue\u001b[39;00m)\n\u001b[0;32m    269\u001b[0m     acquired_phase\u001b[38;5;241m.\u001b[39mappend(additional_phase)\n\u001b[0;32m    270\u001b[0m     pauli_list\u001b[38;5;241m.\u001b[39mappend(new_pauli_string)\n",
      "File \u001b[1;32mc:\\Users\\Rick\\Desktop\\VSCode\\quaos\\quaos\\gates.py:237\u001b[0m, in \u001b[0;36mGateOperation._act_on_pauli_string\u001b[1;34m(self, P, return_phase)\u001b[0m\n\u001b[0;32m    229\u001b[0m \u001b[38;5;28;01mdef\u001b[39;00m \u001b[38;5;21m_act_on_pauli_string\u001b[39m(\u001b[38;5;28mself\u001b[39m, P, return_phase\u001b[38;5;241m=\u001b[39m\u001b[38;5;28;01mFalse\u001b[39;00m):\n\u001b[0;32m    230\u001b[0m     \u001b[38;5;66;03m# Extract symplectic of PauliString\u001b[39;00m\n\u001b[0;32m    231\u001b[0m     \u001b[38;5;66;03m# Extract the symplectic of the relevant qudit numbers in self.qudit_indices\u001b[39;00m\n\u001b[1;32m   (...)\u001b[0m\n\u001b[0;32m    235\u001b[0m     \u001b[38;5;66;03m# Return new PauliString\u001b[39;00m\n\u001b[0;32m    236\u001b[0m     \u001b[38;5;66;03m# Phase ignored by default as it is a global phase for only a single PauliString\u001b[39;00m\n\u001b[1;32m--> 237\u001b[0m     symplectic \u001b[38;5;241m=\u001b[39m P\u001b[38;5;241m.\u001b[39msymplectic()\n\u001b[0;32m    238\u001b[0m     local_symplectic \u001b[38;5;241m=\u001b[39m np\u001b[38;5;241m.\u001b[39mzeros(\u001b[38;5;241m2\u001b[39m \u001b[38;5;241m*\u001b[39m \u001b[38;5;28mlen\u001b[39m(\u001b[38;5;28mself\u001b[39m\u001b[38;5;241m.\u001b[39mqudit_indices))\n\u001b[0;32m    239\u001b[0m     \u001b[38;5;28;01mfor\u001b[39;00m i, index \u001b[38;5;129;01min\u001b[39;00m \u001b[38;5;28menumerate\u001b[39m(\u001b[38;5;28mself\u001b[39m\u001b[38;5;241m.\u001b[39mqudit_indices):\n",
      "File \u001b[1;32mc:\\Users\\Rick\\Desktop\\VSCode\\quaos\\quaos\\symplectic.py:288\u001b[0m, in \u001b[0;36mPauliString.symplectic\u001b[1;34m(self)\u001b[0m\n\u001b[0;32m    286\u001b[0m symp \u001b[38;5;241m=\u001b[39m np\u001b[38;5;241m.\u001b[39mzeros(\u001b[38;5;241m2\u001b[39m \u001b[38;5;241m*\u001b[39m \u001b[38;5;28mself\u001b[39m\u001b[38;5;241m.\u001b[39mn_qudits())\n\u001b[0;32m    287\u001b[0m symp[\u001b[38;5;241m0\u001b[39m:\u001b[38;5;28mself\u001b[39m\u001b[38;5;241m.\u001b[39mn_qudits()] \u001b[38;5;241m=\u001b[39m \u001b[38;5;28mself\u001b[39m\u001b[38;5;241m.\u001b[39mx_exp\n\u001b[1;32m--> 288\u001b[0m symp[\u001b[38;5;28mself\u001b[39m\u001b[38;5;241m.\u001b[39mn_qudits():\u001b[38;5;241m2\u001b[39m \u001b[38;5;241m*\u001b[39m \u001b[38;5;28mself\u001b[39m\u001b[38;5;241m.\u001b[39mn_qudits()] \u001b[38;5;241m=\u001b[39m \u001b[38;5;28mself\u001b[39m\u001b[38;5;241m.\u001b[39mz_exp\n\u001b[0;32m    289\u001b[0m \u001b[38;5;28;01mreturn\u001b[39;00m symp\n",
      "File \u001b[1;32mc:\\Users\\Rick\\Desktop\\VSCode\\quaos\\quaos\\symplectic.py:275\u001b[0m, in \u001b[0;36mPauliString.n_qudits\u001b[1;34m(self)\u001b[0m\n\u001b[0;32m    271\u001b[0m \u001b[38;5;28;01mdef\u001b[39;00m \u001b[38;5;21m__dict__\u001b[39m(\u001b[38;5;28mself\u001b[39m):\n\u001b[0;32m    273\u001b[0m     \u001b[38;5;28;01mreturn\u001b[39;00m {\u001b[38;5;124m'\u001b[39m\u001b[38;5;124mx_exp\u001b[39m\u001b[38;5;124m'\u001b[39m: \u001b[38;5;28mself\u001b[39m\u001b[38;5;241m.\u001b[39mx_exp, \u001b[38;5;124m'\u001b[39m\u001b[38;5;124mz_exp\u001b[39m\u001b[38;5;124m'\u001b[39m: \u001b[38;5;28mself\u001b[39m\u001b[38;5;241m.\u001b[39mz_exp, \u001b[38;5;124m'\u001b[39m\u001b[38;5;124mdimensions\u001b[39m\u001b[38;5;124m'\u001b[39m: \u001b[38;5;28mself\u001b[39m\u001b[38;5;241m.\u001b[39mdimensions}\n\u001b[1;32m--> 275\u001b[0m \u001b[38;5;28;01mdef\u001b[39;00m \u001b[38;5;21mn_qudits\u001b[39m(\u001b[38;5;28mself\u001b[39m):\n\u001b[0;32m    276\u001b[0m     \u001b[38;5;28;01mreturn\u001b[39;00m \u001b[38;5;28mlen\u001b[39m(\u001b[38;5;28mself\u001b[39m\u001b[38;5;241m.\u001b[39mx_exp)\n\u001b[0;32m    278\u001b[0m \u001b[38;5;28;01mdef\u001b[39;00m \u001b[38;5;21mget_paulis\u001b[39m(\u001b[38;5;28mself\u001b[39m):\n",
      "\u001b[1;31mKeyboardInterrupt\u001b[0m: "
     ]
    }
   ],
   "source": [
    "start_pauli = [PauliSum(['x0z0 x1z0', 'x0z0 x1z0'], dimensions=[2, 2], phases=[1,0]),\n",
    "               PauliSum(['x0z0 x1z0', 'x0z0 x1z0'], dimensions=[2, 2], phases=[0,1])]\n",
    "goal_pauli = [PauliSum(['x1z0 x1z0', 'x0z1 x1z0'], dimensions=[2, 2], phases=[0,0]),\n",
    "               PauliSum(['x0z0 x1z0', 'x0z0 x1z0'], dimensions=[2, 2], phases=[1,1]),\n",
    "               PauliSum(['x0z0 x0z1', 'x0z0 x0z1'], dimensions=[2, 2], phases=[0,0]),\n",
    "               PauliSum(['x0z0 x0z1', 'x0z0 x0z1'], dimensions=[2, 2], phases=[1,1]),\n",
    "               PauliSum(['x0z0 x1z1', 'x0z0 x1z1'], dimensions=[2, 2], phases=[0,0]),\n",
    "               PauliSum(['x0z0 x1z1', 'x0z0 x1z1'], dimensions=[2, 2], phases=[1,1]),\n",
    "               PauliSum(['x0z0 x1z0', 'x0z0 x1z0'], dimensions=[2, 2], phases=[0,0]),\n",
    "               PauliSum(['x0z0 x1z0', 'x0z0 x1z0'], dimensions=[2, 2], phases=[1,1]),\n",
    "               PauliSum(['x0z0 x0z1', 'x0z0 x0z1'], dimensions=[2, 2], phases=[0,0]),\n",
    "               PauliSum(['x0z0 x0z1', 'x0z0 x0z1'], dimensions=[2, 2], phases=[1,1]),\n",
    "               PauliSum(['x0z0 x1z1', 'x0z0 x1z1'], dimensions=[2, 2], phases=[0,0]),\n",
    "               PauliSum(['x0z0 x1z1', 'x0z0 x1z1'], dimensions=[2, 2], phases=[1,1])]\n",
    "\n",
    "iterations = 8\n",
    "goal_circuit = find_circuit_simultaneous(start_pauli,goal_pauli,iterations,compare_phases = True)\n",
    "print(goal_circuit)\n",
    "symplectic_effect(goal_circuit)"
   ]
  },
  {
   "cell_type": "code",
   "execution_count": 67,
   "id": "f7db0f54",
   "metadata": {},
   "outputs": [
    {
     "name": "stdout",
     "output_type": "stream",
     "text": [
      "SORTING\n",
      "(1+0j)|x1z1 x1z0 | 1 \n",
      "(1+0j)|x1z1 x1z0 | 0 \n",
      "\n"
     ]
    }
   ],
   "source": [
    "C = goal_circuit\n",
    "p = PauliSum(['x0z0 x1z1', 'x0z0 x1z1'], dimensions=[2, 2], phases=[0,1])\n",
    "print(C.act(p))"
   ]
  },
  {
   "cell_type": "code",
   "execution_count": 62,
   "id": "def7bd6e",
   "metadata": {},
   "outputs": [
    {
     "name": "stdout",
     "output_type": "stream",
     "text": [
      "SORTING\n",
      "SORTING\n",
      "SORTING\n",
      "SORTING\n",
      "SORTING\n",
      "SORTING\n",
      "SORTING\n",
      "SORTING\n",
      "SORTING\n",
      "SORTING\n",
      "SORTING\n",
      "SORTING\n",
      "SORTING\n",
      "SORTING\n",
      "SORTING\n",
      "SORTING\n",
      "SORTING\n",
      "SORTING\n",
      "SORTING\n",
      "SORTING\n",
      "SORTING\n",
      "SORTING\n",
      "SORTING\n",
      "SORTING\n",
      "0\n",
      "1\n",
      "2\n",
      "3\n",
      "4\n",
      "5\n",
      "SUM [1, 0]\n",
      "S [0]\n",
      "SUM [1, 0]\n",
      "SUM [0, 1]\n",
      "S [1]\n",
      "SUM [0, 1]\n",
      "\n"
     ]
    },
    {
     "data": {
      "text/latex": [
       "$\\displaystyle \\omega^{r_{2}} \\left({X^{r_{1}} Z^{s_{1}}}\\right)\\otimes \\left({X^{r_{2}} Z^{s_{2}}}\\right)$"
      ],
      "text/plain": [
       "omega**r2*(X**r1*Z**s1)x(X**r2*Z**s2)"
      ]
     },
     "metadata": {},
     "output_type": "display_data"
    },
    {
     "data": {
      "text/plain": [
       "()"
      ]
     },
     "execution_count": 62,
     "metadata": {},
     "output_type": "execute_result"
    }
   ],
   "source": [
    "start_pauli = [PauliSum(['x1z0 x0z0', 'x0z1 x0z0'], dimensions=[2, 2], phases=[0,0]),\n",
    "               PauliSum(['x1z0 x1z0', 'x0z1 x1z0'], dimensions=[2, 2], phases=[0,0]),\n",
    "               PauliSum(['x1z0 x0z1', 'x0z1 x0z1'], dimensions=[2, 2], phases=[0,0]),\n",
    "               PauliSum(['x1z0 x1z1', 'x0z1 x1z1'], dimensions=[2, 2], phases=[0,0]),\n",
    "               PauliSum(['x0z1 x0z0', 'x1z0 x0z0'], dimensions=[2, 2], phases=[0,0]),\n",
    "               PauliSum(['x0z1 x1z0', 'x1z0 x1z0'], dimensions=[2, 2], phases=[0,0]),\n",
    "               PauliSum(['x0z1 x0z1', 'x1z0 x0z1'], dimensions=[2, 2], phases=[0,0]),\n",
    "               PauliSum(['x0z1 x1z1', 'x1z0 x1z1'], dimensions=[2, 2], phases=[0,0])]\n",
    "goal_pauli = [PauliSum(['x1z0 x0z0', 'x0z1 x0z0'], dimensions=[2, 2], phases=[1,0]),\n",
    "              PauliSum(['x1z0 x1z0', 'x0z1 x1z0'], dimensions=[2, 2], phases=[1,0]),\n",
    "              PauliSum(['x1z0 x0z1', 'x0z1 x0z1'], dimensions=[2, 2], phases=[1,0]),\n",
    "              PauliSum(['x1z0 x1z1', 'x0z1 x1z1'], dimensions=[2, 2], phases=[1,0]),\n",
    "              PauliSum(['x1z0 x0z0', 'x0z1 x0z0'], dimensions=[2, 2], phases=[0,1]),\n",
    "              PauliSum(['x1z0 x1z0', 'x0z1 x1z0'], dimensions=[2, 2], phases=[0,1]),\n",
    "              PauliSum(['x1z0 x0z1', 'x0z1 x0z1'], dimensions=[2, 2], phases=[0,1]),\n",
    "              PauliSum(['x1z0 x1z1', 'x0z1 x1z1'], dimensions=[2, 2], phases=[0,1]),\n",
    "              PauliSum(['x0z1 x0z0', 'x1z0 x0z0'], dimensions=[2, 2], phases=[1,0]),\n",
    "              PauliSum(['x0z1 x1z0', 'x1z0 x1z0'], dimensions=[2, 2], phases=[1,0]),\n",
    "              PauliSum(['x0z1 x0z1', 'x1z0 x0z1'], dimensions=[2, 2], phases=[1,0]),\n",
    "              PauliSum(['x0z1 x1z1', 'x1z0 x1z1'], dimensions=[2, 2], phases=[1,0]),\n",
    "              PauliSum(['x0z1 x0z0', 'x1z0 x0z0'], dimensions=[2, 2], phases=[0,1]),\n",
    "              PauliSum(['x0z1 x1z0', 'x1z0 x1z0'], dimensions=[2, 2], phases=[0,1]),\n",
    "              PauliSum(['x0z1 x0z1', 'x1z0 x0z1'], dimensions=[2, 2], phases=[0,1]),\n",
    "              PauliSum(['x0z1 x1z1', 'x1z0 x1z1'], dimensions=[2, 2], phases=[0,1])]\n",
    "\n",
    "iterations = 8\n",
    "goal_circuit = find_circuit_simultaneous(start_pauli,goal_pauli,iterations,compare_phases = True)\n",
    "print(goal_circuit)\n",
    "symplectic_effect(goal_circuit)\n"
   ]
  },
  {
   "cell_type": "code",
   "execution_count": 172,
   "id": "6c10c23a",
   "metadata": {},
   "outputs": [
    {
     "data": {
      "text/latex": [
       "$\\displaystyle \\omega^{r_{2} s_{1} + s_{1} s_{2}} \\left({X^{r_{1} + r_{2} + s_{2}} Z^{r_{2} + s_{1} + s_{2}}}\\right)\\otimes \\left({X^{r_{1} + r_{2} + s_{1}} Z^{r_{2} + s_{2}}}\\right)$"
      ],
      "text/plain": [
       "omega**(r2*s1 + s1*s2)*(X**(r1 + r2 + s2)*Z**(r2 + s1 + s2))x(X**(r1 + r2 + s1)*Z**(r2 + s2))"
      ]
     },
     "metadata": {},
     "output_type": "display_data"
    },
    {
     "name": "stdout",
     "output_type": "stream",
     "text": [
      "S [1]\n",
      "SUM [0, 1]\n",
      "H [1]\n",
      "SUM [1, 0]\n",
      "S [1]\n",
      "H [1]\n",
      "\n",
      "(1+0j)|x1z0 x1z0 | 0 \n",
      "(1+0j)|x0z1 x1z0 | 0 \n",
      "\n"
     ]
    }
   ],
   "source": [
    "p_test = PauliSum(['x1z0 x0z0', 'x0z1 x0z0'], dimensions=[2, 2], phases=[0,0],standardise=False)\n",
    "goal_circuit = add_r2s2(p_test,0,1)\n",
    "symplectic_effect(goal_circuit)\n",
    "print(goal_circuit)\n",
    "print(goal_circuit.act(p_test))"
   ]
  },
  {
   "cell_type": "code",
   "execution_count": 175,
   "id": "39552547",
   "metadata": {},
   "outputs": [],
   "source": [
    "def find_circuit_V2(start_pauli,goal_pauli,iterations,compare_phases = False,employ_reached_paulis = True):\n",
    "    n_qudits = start_pauli.n_qudits()\n",
    "    SUMs = [CX(i, j, 2) for i in range(n_qudits) for j in range(n_qudits) if i != j]\n",
    "    Ss = [S(i, 2) for i in range(n_qudits)]\n",
    "    Hs = [H(i, 2) for i in range(n_qudits)]\n",
    "    all_gates = SUMs + Ss + Hs\n",
    "\n",
    "    intermediate_paulis = [start_pauli.copy()]\n",
    "    intermediate_paulis_new = [start_pauli.copy()]\n",
    "    reached_paulis = [start_pauli.copy()]\n",
    "    intermediate_circuits = [Circuit(dimensions=[2 for i in range(n_qudits)])]\n",
    "    intermediate_circuits_new = [Circuit(dimensions=[2 for i in range(n_qudits)])]\n",
    "    \n",
    "    goal_circuits = []\n",
    "\n",
    "    for i in range(iterations):\n",
    "        print(i,len(intermediate_paulis_new),len(goal_circuits))\n",
    "        intermediate_paulis = intermediate_paulis_new.copy()\n",
    "        intermediate_circuits = intermediate_circuits_new.copy()\n",
    "        intermediate_paulis_new = []\n",
    "        intermediate_circuits_new = []\n",
    "        for ip,p in enumerate(intermediate_paulis):\n",
    "            for g in all_gates:\n",
    "                if len(intermediate_circuits[ip].gates) > 0:\n",
    "                    if g == intermediate_circuits[ip].gates[-1]:\n",
    "                        continue\n",
    "                # create new pauli\n",
    "                P_temp = g.act(p)\n",
    "                if not compare_phases:  \n",
    "                    P_temp.phases = [0]\n",
    "                # append circuit \n",
    "                C_temp = Circuit(dimensions=[2 for i in range(n_qudits)])\n",
    "                for g2 in intermediate_circuits[ip].gates:\n",
    "                    C_temp.add_gate(g2)\n",
    "                C_temp.add_gate(g)\n",
    "                if P_temp == goal_pauli:\n",
    "                    if C_temp not in goal_circuits:\n",
    "                        goal_circuits.append(C_temp)\n",
    "                else:\n",
    "                    if P_temp in reached_paulis and employ_reached_paulis:\n",
    "                        pass\n",
    "                    else:\n",
    "                        reached_paulis.append(P_temp)\n",
    "                        intermediate_paulis_new.append(P_temp)\n",
    "                        intermediate_circuits_new.append(C_temp)\n",
    "\n",
    "    return(goal_circuits)\n",
    "\n"
   ]
  },
  {
   "cell_type": "code",
   "execution_count": null,
   "id": "56213402",
   "metadata": {},
   "outputs": [
    {
     "name": "stdout",
     "output_type": "stream",
     "text": [
      "0 1 0\n",
      "1 4 0\n",
      "2 14 0\n",
      "3 40 1\n",
      "4 78 4\n",
      "5 122 5\n",
      "6 120 6\n",
      "7 77 6\n",
      "SORTING\n",
      "(1+0j)|x1z0 x0z1 | 1 \n",
      "(1+0j)|x0z1 x0z1 | 0 \n",
      "\n"
     ]
    },
    {
     "data": {
      "text/latex": [
       "$\\displaystyle \\omega^{r_{2} s_{1} + r_{2} s_{2}} \\left({X^{r_{1} + r_{2}} Z^{r_{2} + s_{1}}}\\right)\\otimes \\left({X^{r_{1} + r_{2} + s_{1} + s_{2}} Z^{r_{2}}}\\right)$"
      ],
      "text/plain": [
       "omega**(r2*s1 + r2*s2)*(X**(r1 + r2)*Z**(r2 + s1))x(X**(r1 + r2 + s1 + s2)*Z**r2)"
      ]
     },
     "metadata": {},
     "output_type": "display_data"
    },
    {
     "name": "stdout",
     "output_type": "stream",
     "text": [
      "SORTING\n",
      "(1+0j)|x0z1 x0z0 | 0 \n",
      "(1+0j)|x1z0 x0z0 | 0 \n",
      "\n"
     ]
    },
    {
     "data": {
      "text/latex": [
       "$\\displaystyle \\omega^{s_{1} s_{2} + s_{2}} \\left({X^{r_{1} + s_{2}} Z^{s_{1} + s_{2}}}\\right)\\otimes \\left({X^{r_{1} + r_{2} + s_{1} + s_{2}} Z^{s_{2}}}\\right)$"
      ],
      "text/plain": [
       "omega**(s1*s2 + s2)*(X**(r1 + s2)*Z**(s1 + s2))x(X**(r1 + r2 + s1 + s2)*Z**s2)"
      ]
     },
     "metadata": {},
     "output_type": "display_data"
    },
    {
     "name": "stdout",
     "output_type": "stream",
     "text": [
      "SORTING\n",
      "(1+0j)|x0z1 x0z0 | 0 \n",
      "(1+0j)|x1z0 x0z0 | 0 \n",
      "\n"
     ]
    },
    {
     "data": {
      "text/latex": [
       "$\\displaystyle \\omega^{s_{1} s_{2} + s_{2}} \\left({X^{r_{1} + s_{2}} Z^{s_{1} + s_{2}}}\\right)\\otimes \\left({X^{r_{1} + r_{2} + s_{1} + s_{2}} Z^{s_{2}}}\\right)$"
      ],
      "text/plain": [
       "omega**(s1*s2 + s2)*(X**(r1 + s2)*Z**(s1 + s2))x(X**(r1 + r2 + s1 + s2)*Z**s2)"
      ]
     },
     "metadata": {},
     "output_type": "display_data"
    },
    {
     "name": "stdout",
     "output_type": "stream",
     "text": [
      "SORTING\n",
      "(1+0j)|x1z0 x1z1 | 0 \n",
      "(1+0j)|x0z1 x1z1 | 0 \n",
      "\n"
     ]
    },
    {
     "data": {
      "text/latex": [
       "$\\displaystyle \\omega^{r_{1} r_{2} + r_{2} s_{1} + r_{2} s_{2}} \\left({X^{r_{1} + r_{2}} Z^{r_{2} + s_{1}}}\\right)\\otimes \\left({X^{r_{1} + s_{1} + s_{2}} Z^{r_{2}}}\\right)$"
      ],
      "text/plain": [
       "omega**(r1*r2 + r2*s1 + r2*s2)*(X**(r1 + r2)*Z**(r2 + s1))x(X**(r1 + s1 + s2)*Z**r2)"
      ]
     },
     "metadata": {},
     "output_type": "display_data"
    },
    {
     "name": "stdout",
     "output_type": "stream",
     "text": [
      "SORTING\n",
      "(1+0j)|x1z0 x0z1 | 1 \n",
      "(1+0j)|x0z1 x0z1 | 0 \n",
      "\n"
     ]
    },
    {
     "data": {
      "text/latex": [
       "$\\displaystyle \\omega^{r_{2} s_{1} + r_{2} s_{2}} \\left({X^{r_{1} + r_{2}} Z^{r_{2} + s_{1}}}\\right)\\otimes \\left({X^{r_{1} + r_{2} + s_{1} + s_{2}} Z^{r_{2}}}\\right)$"
      ],
      "text/plain": [
       "omega**(r2*s1 + r2*s2)*(X**(r1 + r2)*Z**(r2 + s1))x(X**(r1 + r2 + s1 + s2)*Z**r2)"
      ]
     },
     "metadata": {},
     "output_type": "display_data"
    },
    {
     "name": "stdout",
     "output_type": "stream",
     "text": [
      "SORTING\n",
      "(1+0j)|x0z1 x0z0 | 0 \n",
      "(1+0j)|x1z0 x0z0 | 0 \n",
      "\n"
     ]
    },
    {
     "data": {
      "text/latex": [
       "$\\displaystyle \\omega^{s_{1} s_{2} + s_{2}} \\left({X^{r_{1} + s_{2}} Z^{s_{1} + s_{2}}}\\right)\\otimes \\left({X^{r_{1} + r_{2} + s_{1} + s_{2}} Z^{s_{2}}}\\right)$"
      ],
      "text/plain": [
       "omega**(s1*s2 + s2)*(X**(r1 + s2)*Z**(s1 + s2))x(X**(r1 + r2 + s1 + s2)*Z**s2)"
      ]
     },
     "metadata": {},
     "output_type": "display_data"
    }
   ],
   "source": [
    "start_pauli = PauliSum(['x1z0 x0z0', 'x0z1 x0z0'], dimensions=[2, 2], phases=[0,0],standardise=False)\n",
    "goal_paulis = PauliSum(['x1z0 x1z0', 'x0z1 x1z0'], dimensions=[2, 2], phases=[0,0],standardise=False)\n",
    "iterations = 8\n",
    "goal_circuits = find_circuit_V2(start_pauli,goal_pauli,iterations,compare_phases=True,employ_reached_paulis=True)\n",
    "for i,c in enumerate(goal_circuits):\n",
    "    p = PauliSum(['x1z0 x1z0', 'x0z1 x1z0'], dimensions=[2, 2], phases=[0,0])\n",
    "    for g in c.gates:\n",
    "        p = g.act(p)\n",
    "    print(p)\n",
    "    symplectic_effect(c)\n"
   ]
  },
  {
   "cell_type": "code",
   "execution_count": 8,
   "id": "01663eac",
   "metadata": {},
   "outputs": [
    {
     "name": "stdout",
     "output_type": "stream",
     "text": [
      "\n",
      "0 1 0 4\n",
      "0\n",
      "\n",
      "1 17 0 21\n",
      "0\n",
      "10\n",
      "\n",
      "2 50 1 71\n",
      "0\n",
      "10\n",
      "20\n",
      "30\n",
      "40\n",
      "\n",
      "3 110 6 181\n",
      "0\n",
      "10\n",
      "20\n",
      "30\n",
      "40\n",
      "50\n",
      "60\n",
      "70\n",
      "80\n",
      "90\n",
      "100\n",
      "\n",
      "4 140 16 321\n",
      "0\n",
      "10\n",
      "20\n",
      "30\n",
      "40\n",
      "50\n",
      "60\n",
      "70\n",
      "80\n",
      "90\n",
      "100\n",
      "110\n",
      "120\n",
      "130\n",
      "\n",
      "5 112 34 433\n",
      "0\n",
      "10\n",
      "20\n",
      "30\n",
      "40\n",
      "50\n",
      "60\n",
      "70\n",
      "80\n",
      "90\n",
      "100\n",
      "110\n",
      "\n",
      "6 26 56 459\n",
      "0\n",
      "10\n",
      "20\n",
      "\n",
      "7 2 60 461\n",
      "0\n",
      "\n",
      "8 0 61 461\n",
      "\n",
      "9 0 61 461\n"
     ]
    }
   ],
   "source": [
    "start_paulis = [PauliSum(['x1z0 x0z0', 'x0z1 x0z0'], dimensions=[2, 2], phases=[0,0],standardise=False),\n",
    "               PauliSum(['x1z0 x1z0', 'x0z1 x1z0'], dimensions=[2, 2], phases=[0,0],standardise=False),\n",
    "               PauliSum(['x1z0 x0z1', 'x0z1 x0z1'], dimensions=[2, 2], phases=[0,0],standardise=False),\n",
    "               PauliSum(['x1z0 x1z1', 'x0z1 x1z1'], dimensions=[2, 2], phases=[0,0],standardise=False)]\n",
    "\n",
    "goal_paulis = [PauliSum(['x1z0 x0z0', 'x0z1 x0z0'], dimensions=[2, 2], phases=[1,0],standardise=False),\n",
    "              PauliSum(['x1z0 x1z0', 'x0z1 x1z0'], dimensions=[2, 2], phases=[1,0],standardise=False),\n",
    "              PauliSum(['x1z0 x0z1', 'x0z1 x0z1'], dimensions=[2, 2], phases=[1,0],standardise=False),\n",
    "              PauliSum(['x1z0 x1z1', 'x0z1 x1z1'], dimensions=[2, 2], phases=[1,0],standardise=False),\n",
    "              PauliSum(['x1z0 x0z0', 'x0z1 x0z0'], dimensions=[2, 2], phases=[0,1],standardise=False),\n",
    "              PauliSum(['x1z0 x1z0', 'x0z1 x1z0'], dimensions=[2, 2], phases=[0,1],standardise=False),\n",
    "              PauliSum(['x1z0 x0z1', 'x0z1 x0z1'], dimensions=[2, 2], phases=[0,1],standardise=False),\n",
    "              PauliSum(['x1z0 x1z1', 'x0z1 x1z1'], dimensions=[2, 2], phases=[0,1],standardise=False),\n",
    "              PauliSum(['x0z1 x0z0', 'x1z0 x0z0'], dimensions=[2, 2], phases=[1,0],standardise=False),\n",
    "              PauliSum(['x0z1 x1z0', 'x1z0 x1z0'], dimensions=[2, 2], phases=[1,0],standardise=False),\n",
    "              PauliSum(['x0z1 x0z1', 'x1z0 x0z1'], dimensions=[2, 2], phases=[1,0],standardise=False),\n",
    "              PauliSum(['x0z1 x1z1', 'x1z0 x1z1'], dimensions=[2, 2], phases=[1,0],standardise=False),\n",
    "              PauliSum(['x0z1 x0z0', 'x1z0 x0z0'], dimensions=[2, 2], phases=[0,1],standardise=False),\n",
    "              PauliSum(['x0z1 x1z0', 'x1z0 x1z0'], dimensions=[2, 2], phases=[0,1],standardise=False),\n",
    "              PauliSum(['x0z1 x0z1', 'x1z0 x0z1'], dimensions=[2, 2], phases=[0,1],standardise=False),\n",
    "              PauliSum(['x0z1 x1z1', 'x1z0 x1z1'], dimensions=[2, 2], phases=[0,1],standardise=False),\n",
    "              PauliSum(['x1z0 x0z0', 'x0z1 x0z0'], dimensions=[2, 2], phases=[0,0],standardise=False),\n",
    "              PauliSum(['x1z0 x1z0', 'x0z1 x1z0'], dimensions=[2, 2], phases=[0,0],standardise=False),\n",
    "              PauliSum(['x1z0 x0z1', 'x0z1 x0z1'], dimensions=[2, 2], phases=[0,0],standardise=False),\n",
    "              PauliSum(['x1z0 x1z1', 'x0z1 x1z1'], dimensions=[2, 2], phases=[0,0],standardise=False),\n",
    "              PauliSum(['x1z0 x0z0', 'x0z1 x0z0'], dimensions=[2, 2], phases=[0,0],standardise=False),\n",
    "              PauliSum(['x1z0 x1z0', 'x0z1 x1z0'], dimensions=[2, 2], phases=[0,0],standardise=False),\n",
    "              PauliSum(['x1z0 x0z1', 'x0z1 x0z1'], dimensions=[2, 2], phases=[0,0],standardise=False),\n",
    "              PauliSum(['x1z0 x1z1', 'x0z1 x1z1'], dimensions=[2, 2], phases=[0,0],standardise=False),\n",
    "              PauliSum(['x1z0 x0z0', 'x0z1 x0z0'], dimensions=[2, 2], phases=[1,1],standardise=False),\n",
    "              PauliSum(['x1z0 x1z0', 'x0z1 x1z0'], dimensions=[2, 2], phases=[1,1],standardise=False),\n",
    "              PauliSum(['x1z0 x0z1', 'x0z1 x0z1'], dimensions=[2, 2], phases=[1,1],standardise=False),\n",
    "              PauliSum(['x1z0 x1z1', 'x0z1 x1z1'], dimensions=[2, 2], phases=[1,1],standardise=False),\n",
    "              PauliSum(['x1z0 x0z0', 'x0z1 x0z0'], dimensions=[2, 2], phases=[1,1],standardise=False),\n",
    "              PauliSum(['x1z0 x1z0', 'x0z1 x1z0'], dimensions=[2, 2], phases=[1,1],standardise=False),\n",
    "              PauliSum(['x1z0 x0z1', 'x0z1 x0z1'], dimensions=[2, 2], phases=[1,1],standardise=False),\n",
    "              PauliSum(['x1z0 x1z1', 'x0z1 x1z1'], dimensions=[2, 2], phases=[1,1],standardise=False)]\n",
    "\n",
    "\n",
    "n_qudits = 2\n",
    "SUMs = [CX(i, j, 2) for i in range(n_qudits) for j in range(n_qudits) if i != j]\n",
    "Ss = [S(i, 2) for i in range(n_qudits)]\n",
    "Hs = [H(i, 2) for i in range(n_qudits)]\n",
    "all_gates = SUMs + Ss + Hs\n",
    "\n",
    "iterations = 10\n",
    "paulis_reached = start_paulis.copy()\n",
    "reached_circuits = [Circuit(dimensions=[2 for i in range(n_qudits)])]\n",
    "intermediate_circuits = [Circuit(dimensions=[2 for i in range(n_qudits)])]\n",
    "intermediate_circuits_new = [Circuit(dimensions=[2 for i in range(n_qudits)])]\n",
    "\n",
    "goal_circuits = []\n",
    "\n",
    "for i in range(iterations):\n",
    "    print()\n",
    "    print(i,len(intermediate_circuits_new),len(goal_circuits),len(paulis_reached))\n",
    "    intermediate_circuits = intermediate_circuits_new.copy()\n",
    "    intermediate_circuits_new = []\n",
    "    for ic,c in enumerate(intermediate_circuits):\n",
    "        if ic%10 == 0:\n",
    "            print(ic)\n",
    "        #print('c')\n",
    "        #print(c)\n",
    "        for g in all_gates:\n",
    "            #print('g')\n",
    "            #print(g.name)\n",
    "            if len(c.gates) > 0:\n",
    "                if g == c.gates[-1]:\n",
    "                    continue\n",
    "            C_temp = Circuit(dimensions=[2 for i in range(n_qudits)])\n",
    "            for g2 in c.gates:\n",
    "                C_temp.add_gate(g2)\n",
    "            C_temp.add_gate(g)\n",
    "            #print('C_temp')\n",
    "            #print(C_temp)\n",
    "            for ip,p in enumerate(start_paulis):\n",
    "                P_temp = C_temp.act(p)\n",
    "                #print('P_temp')\n",
    "                #print(P_temp)\n",
    "                if P_temp in goal_paulis:\n",
    "                    names_bool = np.array([all([C_temp.gates[ig].name == g1.name for ig,g1 in enumerate(c2.gates)]) for c2 in goal_circuits])\n",
    "                    indexes_bool = np.array([C_temp.indexes == c2.indexes  for c2 in goal_circuits])\n",
    "                    circ_bool = names_bool * indexes_bool\n",
    "                    if not any(circ_bool):\n",
    "                        if P_temp != p and P_temp != Ss[1].act(p) and P_temp != Hs[0].act(p) and P_temp != Hs[1].act(p):\n",
    "                            goal_circuits.append(C_temp)\n",
    "                        else:\n",
    "                            if P_temp not in paulis_reached:\n",
    "                                intermediate_circuits_new.append(C_temp)\n",
    "                                paulis_reached.append(P_temp)\n",
    "\n",
    "                else:\n",
    "                    if P_temp not in paulis_reached:\n",
    "                        intermediate_circuits_new.append(C_temp)\n",
    "                        paulis_reached.append(P_temp)\n",
    "\n",
    "     \n",
    "        "
   ]
  },
  {
   "cell_type": "code",
   "execution_count": 9,
   "id": "d6c853c6",
   "metadata": {},
   "outputs": [
    {
     "name": "stdout",
     "output_type": "stream",
     "text": [
      "H [1]\n",
      "S [1]\n",
      "\n"
     ]
    },
    {
     "data": {
      "text/latex": [
       "$\\displaystyle \\left({X^{r_{1}} Z^{s_{1}}}\\right)\\otimes \\left({X^{s_{2}} Z^{r_{2} + s_{2}}}\\right)$"
      ],
      "text/plain": [
       "(X**r1*Z**s1)x(X**s2*Z**(r2 + s2))"
      ]
     },
     "metadata": {},
     "output_type": "display_data"
    },
    {
     "name": "stdout",
     "output_type": "stream",
     "text": [
      "I  ->  I\n",
      "Same Phase\n",
      "X  ->  Z\n",
      "Same Phase\n",
      "Z  ->  Y\n",
      "Same Phase\n",
      "Y  ->  X\n",
      "Same Phase\n",
      "\n",
      "\n",
      "\n",
      "SUM [0, 1]\n",
      "H [0]\n",
      "SUM [0, 1]\n",
      "\n"
     ]
    },
    {
     "data": {
      "text/latex": [
       "$\\displaystyle \\left({X^{s_{1} + s_{2}} Z^{r_{1} + s_{2}}}\\right)\\otimes \\left({X^{r_{1} + r_{2} + s_{1} + s_{2}} Z^{s_{2}}}\\right)$"
      ],
      "text/plain": [
       "(X**(s1 + s2)*Z**(r1 + s2))x(X**(r1 + r2 + s1 + s2)*Z**s2)"
      ]
     },
     "metadata": {},
     "output_type": "display_data"
    },
    {
     "name": "stdout",
     "output_type": "stream",
     "text": [
      "I  ->  X\n",
      "Same Phase\n",
      "X  ->  I\n",
      "Same Phase\n",
      "Z  ->  Z\n",
      "Different Phase\n",
      "Y  ->  Y\n",
      "Different Phase\n",
      "\n",
      "\n",
      "\n",
      "SUM [0, 1]\n",
      "H [1]\n",
      "SUM [1, 0]\n",
      "\n"
     ]
    },
    {
     "data": {
      "text/latex": [
       "$\\displaystyle \\left({X^{r_{1} + s_{2}} Z^{s_{1} + s_{2}}}\\right)\\otimes \\left({X^{s_{2}} Z^{r_{1} + r_{2} + s_{1} + s_{2}}}\\right)$"
      ],
      "text/plain": [
       "(X**(r1 + s2)*Z**(s1 + s2))x(X**s2*Z**(r1 + r2 + s1 + s2))"
      ]
     },
     "metadata": {},
     "output_type": "display_data"
    },
    {
     "name": "stdout",
     "output_type": "stream",
     "text": [
      "I  ->  Z\n",
      "Same Phase\n",
      "X  ->  I\n",
      "Same Phase\n",
      "Z  ->  X\n",
      "Different Phase\n",
      "Y  ->  Y\n",
      "Different Phase\n",
      "\n",
      "\n",
      "\n",
      "SUM [1, 0]\n",
      "H [0]\n",
      "SUM [1, 0]\n",
      "\n"
     ]
    },
    {
     "data": {
      "text/latex": [
       "$\\displaystyle \\left({X^{r_{2} + s_{1}} Z^{r_{1} + r_{2}}}\\right)\\otimes \\left({X^{r_{2}} Z^{r_{1} + r_{2} + s_{1} + s_{2}}}\\right)$"
      ],
      "text/plain": [
       "(X**(r2 + s1)*Z**(r1 + r2))x(X**r2*Z**(r1 + r2 + s1 + s2))"
      ]
     },
     "metadata": {},
     "output_type": "display_data"
    },
    {
     "name": "stdout",
     "output_type": "stream",
     "text": [
      "I  ->  Z\n",
      "Same Phase\n",
      "X  ->  X\n",
      "Different Phase\n",
      "Z  ->  I\n",
      "Same Phase\n",
      "Y  ->  Y\n",
      "Different Phase\n",
      "\n",
      "\n",
      "\n",
      "SUM [1, 0]\n",
      "H [1]\n",
      "SUM [0, 1]\n",
      "\n"
     ]
    },
    {
     "data": {
      "text/latex": [
       "$\\displaystyle \\left({X^{r_{1} + r_{2}} Z^{r_{2} + s_{1}}}\\right)\\otimes \\left({X^{r_{1} + r_{2} + s_{1} + s_{2}} Z^{r_{2}}}\\right)$"
      ],
      "text/plain": [
       "(X**(r1 + r2)*Z**(r2 + s1))x(X**(r1 + r2 + s1 + s2)*Z**r2)"
      ]
     },
     "metadata": {},
     "output_type": "display_data"
    },
    {
     "name": "stdout",
     "output_type": "stream",
     "text": [
      "I  ->  X\n",
      "Same Phase\n",
      "X  ->  Z\n",
      "Different Phase\n",
      "Z  ->  I\n",
      "Same Phase\n",
      "Y  ->  Y\n",
      "Different Phase\n",
      "\n",
      "\n",
      "\n",
      "S [0]\n",
      "SUM [1, 0]\n",
      "S [0]\n",
      "\n"
     ]
    },
    {
     "data": {
      "text/latex": [
       "$\\displaystyle \\left({X^{r_{1} + r_{2}} Z^{r_{2} + s_{1}}}\\right)\\otimes \\left({X^{r_{2}} Z^{r_{1} + s_{1} + s_{2}}}\\right)$"
      ],
      "text/plain": [
       "(X**(r1 + r2)*Z**(r2 + s1))x(X**r2*Z**(r1 + s1 + s2))"
      ]
     },
     "metadata": {},
     "output_type": "display_data"
    },
    {
     "name": "stdout",
     "output_type": "stream",
     "text": [
      "I  ->  Z\n",
      "Same Phase\n",
      "X  ->  Y\n",
      "Same Phase\n",
      "Z  ->  I\n",
      "Same Phase\n",
      "Y  ->  X\n",
      "Same Phase\n",
      "\n",
      "\n",
      "\n",
      "SUM [0, 1]\n",
      "H [1]\n",
      "S [1]\n",
      "SUM [1, 0]\n",
      "\n"
     ]
    },
    {
     "data": {
      "text/latex": [
       "$\\displaystyle \\left({X^{r_{1} + s_{2}} Z^{s_{1} + s_{2}}}\\right)\\otimes \\left({X^{s_{2}} Z^{r_{1} + r_{2} + s_{1}}}\\right)$"
      ],
      "text/plain": [
       "(X**(r1 + s2)*Z**(s1 + s2))x(X**s2*Z**(r1 + r2 + s1))"
      ]
     },
     "metadata": {},
     "output_type": "display_data"
    },
    {
     "name": "stdout",
     "output_type": "stream",
     "text": [
      "I  ->  Z\n",
      "Same Phase\n",
      "X  ->  I\n",
      "Same Phase\n",
      "Z  ->  Y\n",
      "Different Phase\n",
      "Y  ->  X\n",
      "Different Phase\n",
      "\n",
      "\n",
      "\n",
      "S [0]\n",
      "SUM [1, 0]\n",
      "S [0]\n",
      "S [1]\n",
      "\n"
     ]
    },
    {
     "data": {
      "text/latex": [
       "$\\displaystyle \\left({X^{r_{1} + r_{2}} Z^{r_{2} + s_{1}}}\\right)\\otimes \\left({X^{r_{2}} Z^{r_{1} + r_{2} + s_{1} + s_{2}}}\\right)$"
      ],
      "text/plain": [
       "(X**(r1 + r2)*Z**(r2 + s1))x(X**r2*Z**(r1 + r2 + s1 + s2))"
      ]
     },
     "metadata": {},
     "output_type": "display_data"
    },
    {
     "name": "stdout",
     "output_type": "stream",
     "text": [
      "I  ->  Z\n",
      "Same Phase\n",
      "X  ->  X\n",
      "Same Phase\n",
      "Z  ->  I\n",
      "Same Phase\n",
      "Y  ->  Y\n",
      "Same Phase\n",
      "\n",
      "\n",
      "\n",
      "S [0]\n",
      "SUM [1, 0]\n",
      "S [0]\n",
      "H [0]\n",
      "\n"
     ]
    },
    {
     "data": {
      "text/latex": [
       "$\\displaystyle \\left({X^{r_{2} + s_{1}} Z^{r_{1} + r_{2}}}\\right)\\otimes \\left({X^{r_{2}} Z^{r_{1} + s_{1} + s_{2}}}\\right)$"
      ],
      "text/plain": [
       "(X**(r2 + s1)*Z**(r1 + r2))x(X**r2*Z**(r1 + s1 + s2))"
      ]
     },
     "metadata": {},
     "output_type": "display_data"
    },
    {
     "name": "stdout",
     "output_type": "stream",
     "text": [
      "I  ->  Z\n",
      "Same Phase\n",
      "X  ->  Y\n",
      "Same Phase\n",
      "Z  ->  I\n",
      "Same Phase\n",
      "Y  ->  X\n",
      "Same Phase\n",
      "\n",
      "\n",
      "\n",
      "S [0]\n",
      "SUM [1, 0]\n",
      "S [0]\n",
      "H [1]\n",
      "\n"
     ]
    },
    {
     "data": {
      "text/latex": [
       "$\\displaystyle \\left({X^{r_{1} + r_{2}} Z^{r_{2} + s_{1}}}\\right)\\otimes \\left({X^{r_{1} + s_{1} + s_{2}} Z^{r_{2}}}\\right)$"
      ],
      "text/plain": [
       "(X**(r1 + r2)*Z**(r2 + s1))x(X**(r1 + s1 + s2)*Z**r2)"
      ]
     },
     "metadata": {},
     "output_type": "display_data"
    },
    {
     "name": "stdout",
     "output_type": "stream",
     "text": [
      "I  ->  X\n",
      "Same Phase\n",
      "X  ->  Y\n",
      "Same Phase\n",
      "Z  ->  I\n",
      "Same Phase\n",
      "Y  ->  Z\n",
      "Same Phase\n",
      "\n",
      "\n",
      "\n",
      "S [0]\n",
      "SUM [1, 0]\n",
      "H [1]\n",
      "S [0]\n",
      "\n"
     ]
    },
    {
     "data": {
      "text/latex": [
       "$\\displaystyle \\left({X^{r_{1} + r_{2}} Z^{r_{2} + s_{1}}}\\right)\\otimes \\left({X^{r_{1} + s_{1} + s_{2}} Z^{r_{2}}}\\right)$"
      ],
      "text/plain": [
       "(X**(r1 + r2)*Z**(r2 + s1))x(X**(r1 + s1 + s2)*Z**r2)"
      ]
     },
     "metadata": {},
     "output_type": "display_data"
    },
    {
     "name": "stdout",
     "output_type": "stream",
     "text": [
      "I  ->  X\n",
      "Same Phase\n",
      "X  ->  Y\n",
      "Same Phase\n",
      "Z  ->  I\n",
      "Same Phase\n",
      "Y  ->  Z\n",
      "Same Phase\n",
      "\n",
      "\n",
      "\n",
      "S [0]\n",
      "H [1]\n",
      "S [1]\n",
      "S [0]\n",
      "\n"
     ]
    },
    {
     "data": {
      "text/latex": [
       "$\\displaystyle \\left({X^{r_{1}} Z^{s_{1}}}\\right)\\otimes \\left({X^{s_{2}} Z^{r_{2} + s_{2}}}\\right)$"
      ],
      "text/plain": [
       "(X**r1*Z**s1)x(X**s2*Z**(r2 + s2))"
      ]
     },
     "metadata": {},
     "output_type": "display_data"
    },
    {
     "name": "stdout",
     "output_type": "stream",
     "text": [
      "I  ->  I\n",
      "Same Phase\n",
      "X  ->  Z\n",
      "Same Phase\n",
      "Z  ->  Y\n",
      "Same Phase\n",
      "Y  ->  X\n",
      "Same Phase\n",
      "\n",
      "\n",
      "\n",
      "H [0]\n",
      "SUM [0, 1]\n",
      "H [0]\n",
      "SUM [0, 1]\n",
      "\n"
     ]
    },
    {
     "data": {
      "text/latex": [
       "$\\displaystyle \\left({X^{r_{1} + s_{2}} Z^{s_{1} + s_{2}}}\\right)\\otimes \\left({X^{r_{1} + r_{2} + s_{1} + s_{2}} Z^{s_{2}}}\\right)$"
      ],
      "text/plain": [
       "(X**(r1 + s2)*Z**(s1 + s2))x(X**(r1 + r2 + s1 + s2)*Z**s2)"
      ]
     },
     "metadata": {},
     "output_type": "display_data"
    },
    {
     "name": "stdout",
     "output_type": "stream",
     "text": [
      "I  ->  X\n",
      "Same Phase\n",
      "X  ->  I\n",
      "Same Phase\n",
      "Z  ->  Z\n",
      "Different Phase\n",
      "Y  ->  Y\n",
      "Different Phase\n",
      "\n",
      "\n",
      "\n",
      "H [0]\n",
      "SUM [0, 1]\n",
      "H [1]\n",
      "SUM [1, 0]\n",
      "\n"
     ]
    },
    {
     "data": {
      "text/latex": [
       "$\\displaystyle \\left({X^{s_{1} + s_{2}} Z^{r_{1} + s_{2}}}\\right)\\otimes \\left({X^{s_{2}} Z^{r_{1} + r_{2} + s_{1} + s_{2}}}\\right)$"
      ],
      "text/plain": [
       "(X**(s1 + s2)*Z**(r1 + s2))x(X**s2*Z**(r1 + r2 + s1 + s2))"
      ]
     },
     "metadata": {},
     "output_type": "display_data"
    },
    {
     "name": "stdout",
     "output_type": "stream",
     "text": [
      "I  ->  Z\n",
      "Same Phase\n",
      "X  ->  I\n",
      "Same Phase\n",
      "Z  ->  X\n",
      "Different Phase\n",
      "Y  ->  Y\n",
      "Different Phase\n",
      "\n",
      "\n",
      "\n",
      "H [0]\n",
      "SUM [1, 0]\n",
      "H [1]\n",
      "SUM [0, 1]\n",
      "\n"
     ]
    },
    {
     "data": {
      "text/latex": [
       "$\\displaystyle \\left({X^{r_{2} + s_{1}} Z^{r_{1} + r_{2}}}\\right)\\otimes \\left({X^{r_{1} + r_{2} + s_{1} + s_{2}} Z^{r_{2}}}\\right)$"
      ],
      "text/plain": [
       "(X**(r2 + s1)*Z**(r1 + r2))x(X**(r1 + r2 + s1 + s2)*Z**r2)"
      ]
     },
     "metadata": {},
     "output_type": "display_data"
    },
    {
     "name": "stdout",
     "output_type": "stream",
     "text": [
      "I  ->  X\n",
      "Same Phase\n",
      "X  ->  Z\n",
      "Different Phase\n",
      "Z  ->  I\n",
      "Same Phase\n",
      "Y  ->  Y\n",
      "Different Phase\n",
      "\n",
      "\n",
      "\n",
      "H [1]\n",
      "SUM [1, 0]\n",
      "S [1]\n",
      "SUM [1, 0]\n",
      "\n"
     ]
    },
    {
     "data": {
      "text/latex": [
       "$\\displaystyle \\left({X^{r_{1}} Z^{s_{1}}}\\right)\\otimes \\left({X^{s_{2}} Z^{r_{2} + s_{2}}}\\right)$"
      ],
      "text/plain": [
       "(X**r1*Z**s1)x(X**s2*Z**(r2 + s2))"
      ]
     },
     "metadata": {},
     "output_type": "display_data"
    },
    {
     "name": "stdout",
     "output_type": "stream",
     "text": [
      "I  ->  I\n",
      "Same Phase\n",
      "X  ->  Z\n",
      "Same Phase\n",
      "Z  ->  Y\n",
      "Same Phase\n",
      "Y  ->  X\n",
      "Same Phase\n",
      "\n",
      "\n",
      "\n",
      "SUM [0, 1]\n",
      "SUM [1, 0]\n",
      "S [0]\n",
      "SUM [1, 0]\n",
      "SUM [0, 1]\n",
      "\n"
     ]
    },
    {
     "data": {
      "text/latex": [
       "$\\displaystyle \\left({X^{r_{1}} Z^{s_{1}}}\\right)\\otimes \\left({X^{r_{2}} Z^{r_{2} + s_{2}}}\\right)$"
      ],
      "text/plain": [
       "(X**r1*Z**s1)x(X**r2*Z**(r2 + s2))"
      ]
     },
     "metadata": {},
     "output_type": "display_data"
    },
    {
     "name": "stdout",
     "output_type": "stream",
     "text": [
      "I  ->  I\n",
      "Same Phase\n",
      "X  ->  Y\n",
      "Same Phase\n",
      "Z  ->  Z\n",
      "Same Phase\n",
      "Y  ->  X\n",
      "Same Phase\n",
      "\n",
      "\n",
      "\n",
      "SUM [0, 1]\n",
      "SUM [1, 0]\n",
      "H [0]\n",
      "SUM [0, 1]\n",
      "SUM [1, 0]\n",
      "\n"
     ]
    },
    {
     "data": {
      "text/latex": [
       "$\\displaystyle \\left({X^{r_{1} + r_{2}} Z^{r_{2} + s_{1}}}\\right)\\otimes \\left({X^{r_{1} + r_{2} + s_{1} + s_{2}} Z^{r_{2}}}\\right)$"
      ],
      "text/plain": [
       "(X**(r1 + r2)*Z**(r2 + s1))x(X**(r1 + r2 + s1 + s2)*Z**r2)"
      ]
     },
     "metadata": {},
     "output_type": "display_data"
    },
    {
     "name": "stdout",
     "output_type": "stream",
     "text": [
      "I  ->  X\n",
      "Same Phase\n",
      "X  ->  Z\n",
      "Different Phase\n",
      "Z  ->  I\n",
      "Same Phase\n",
      "Y  ->  Y\n",
      "Different Phase\n",
      "\n",
      "\n",
      "\n",
      "SUM [0, 1]\n",
      "SUM [1, 0]\n",
      "H [1]\n",
      "SUM [1, 0]\n",
      "SUM [0, 1]\n",
      "\n"
     ]
    },
    {
     "data": {
      "text/latex": [
       "$\\displaystyle \\left({X^{r_{2} + s_{1}} Z^{r_{1} + r_{2}}}\\right)\\otimes \\left({X^{r_{2}} Z^{r_{1} + r_{2} + s_{1} + s_{2}}}\\right)$"
      ],
      "text/plain": [
       "(X**(r2 + s1)*Z**(r1 + r2))x(X**r2*Z**(r1 + r2 + s1 + s2))"
      ]
     },
     "metadata": {},
     "output_type": "display_data"
    },
    {
     "name": "stdout",
     "output_type": "stream",
     "text": [
      "I  ->  Z\n",
      "Same Phase\n",
      "X  ->  X\n",
      "Different Phase\n",
      "Z  ->  I\n",
      "Same Phase\n",
      "Y  ->  Y\n",
      "Different Phase\n",
      "\n",
      "\n",
      "\n",
      "SUM [0, 1]\n",
      "S [0]\n",
      "S [1]\n",
      "SUM [0, 1]\n",
      "SUM [1, 0]\n",
      "\n"
     ]
    },
    {
     "data": {
      "text/latex": [
       "$\\displaystyle \\left({X^{r_{1} + r_{2}} Z^{r_{2} + s_{1}}}\\right)\\otimes \\left({X^{r_{2}} Z^{r_{1} + s_{1} + s_{2}}}\\right)$"
      ],
      "text/plain": [
       "(X**(r1 + r2)*Z**(r2 + s1))x(X**r2*Z**(r1 + s1 + s2))"
      ]
     },
     "metadata": {},
     "output_type": "display_data"
    },
    {
     "name": "stdout",
     "output_type": "stream",
     "text": [
      "I  ->  Z\n",
      "Different Phase\n",
      "X  ->  Y\n",
      "Different Phase\n",
      "Z  ->  I\n",
      "Different Phase\n",
      "Y  ->  X\n",
      "Different Phase\n",
      "\n",
      "\n",
      "\n",
      "SUM [0, 1]\n",
      "S [1]\n",
      "H [1]\n",
      "S [1]\n",
      "SUM [0, 1]\n",
      "\n"
     ]
    },
    {
     "data": {
      "text/latex": [
       "$\\displaystyle \\left({X^{r_{1}} Z^{s_{1}}}\\right)\\otimes \\left({X^{r_{2} + s_{2}} Z^{s_{2}}}\\right)$"
      ],
      "text/plain": [
       "(X**r1*Z**s1)x(X**(r2 + s2)*Z**s2)"
      ]
     },
     "metadata": {},
     "output_type": "display_data"
    },
    {
     "name": "stdout",
     "output_type": "stream",
     "text": [
      "I  ->  I\n",
      "Different Phase\n",
      "X  ->  X\n",
      "Different Phase\n",
      "Z  ->  Y\n",
      "Same Phase\n",
      "Y  ->  Z\n",
      "Same Phase\n",
      "\n",
      "\n",
      "\n",
      "SUM [0, 1]\n",
      "H [0]\n",
      "S [0]\n",
      "SUM [0, 1]\n",
      "S [0]\n",
      "\n"
     ]
    },
    {
     "data": {
      "text/latex": [
       "$\\displaystyle \\left({X^{s_{1} + s_{2}} Z^{r_{1} + s_{2}}}\\right)\\otimes \\left({X^{r_{1} + r_{2} + s_{1} + s_{2}} Z^{s_{2}}}\\right)$"
      ],
      "text/plain": [
       "(X**(s1 + s2)*Z**(r1 + s2))x(X**(r1 + r2 + s1 + s2)*Z**s2)"
      ]
     },
     "metadata": {},
     "output_type": "display_data"
    },
    {
     "name": "stdout",
     "output_type": "stream",
     "text": [
      "I  ->  X\n",
      "Same Phase\n",
      "X  ->  I\n",
      "Same Phase\n",
      "Z  ->  Z\n",
      "Different Phase\n",
      "Y  ->  Y\n",
      "Different Phase\n",
      "\n",
      "\n",
      "\n",
      "SUM [0, 1]\n",
      "H [1]\n",
      "S [1]\n",
      "H [1]\n",
      "SUM [0, 1]\n",
      "\n"
     ]
    },
    {
     "data": {
      "text/latex": [
       "$\\displaystyle \\left({X^{r_{1}} Z^{s_{1}}}\\right)\\otimes \\left({X^{r_{2} + s_{2}} Z^{s_{2}}}\\right)$"
      ],
      "text/plain": [
       "(X**r1*Z**s1)x(X**(r2 + s2)*Z**s2)"
      ]
     },
     "metadata": {},
     "output_type": "display_data"
    },
    {
     "name": "stdout",
     "output_type": "stream",
     "text": [
      "I  ->  I\n",
      "Same Phase\n",
      "X  ->  X\n",
      "Same Phase\n",
      "Z  ->  Y\n",
      "Same Phase\n",
      "Y  ->  Z\n",
      "Same Phase\n",
      "\n",
      "\n",
      "\n",
      "SUM [1, 0]\n",
      "SUM [0, 1]\n",
      "S [0]\n",
      "S [1]\n",
      "SUM [0, 1]\n",
      "\n"
     ]
    },
    {
     "data": {
      "text/latex": [
       "$\\displaystyle \\left({X^{r_{1} + r_{2}} Z^{r_{2} + s_{1}}}\\right)\\otimes \\left({X^{r_{2}} Z^{r_{1} + s_{1} + s_{2}}}\\right)$"
      ],
      "text/plain": [
       "(X**(r1 + r2)*Z**(r2 + s1))x(X**r2*Z**(r1 + s1 + s2))"
      ]
     },
     "metadata": {},
     "output_type": "display_data"
    },
    {
     "name": "stdout",
     "output_type": "stream",
     "text": [
      "I  ->  Z\n",
      "Different Phase\n",
      "X  ->  Y\n",
      "Different Phase\n",
      "Z  ->  I\n",
      "Different Phase\n",
      "Y  ->  X\n",
      "Different Phase\n",
      "\n",
      "\n",
      "\n",
      "SUM [1, 0]\n",
      "SUM [0, 1]\n",
      "S [1]\n",
      "SUM [0, 1]\n",
      "S [0]\n",
      "\n"
     ]
    },
    {
     "data": {
      "text/latex": [
       "$\\displaystyle \\left({X^{r_{1} + r_{2}} Z^{r_{2} + s_{1}}}\\right)\\otimes \\left({X^{r_{2}} Z^{r_{1} + s_{1} + s_{2}}}\\right)$"
      ],
      "text/plain": [
       "(X**(r1 + r2)*Z**(r2 + s1))x(X**r2*Z**(r1 + s1 + s2))"
      ]
     },
     "metadata": {},
     "output_type": "display_data"
    },
    {
     "name": "stdout",
     "output_type": "stream",
     "text": [
      "I  ->  Z\n",
      "Different Phase\n",
      "X  ->  Y\n",
      "Different Phase\n",
      "Z  ->  I\n",
      "Different Phase\n",
      "Y  ->  X\n",
      "Different Phase\n",
      "\n",
      "\n",
      "\n",
      "SUM [1, 0]\n",
      "SUM [0, 1]\n",
      "H [0]\n",
      "SUM [1, 0]\n",
      "SUM [0, 1]\n",
      "\n"
     ]
    },
    {
     "data": {
      "text/latex": [
       "$\\displaystyle \\left({X^{r_{1} + s_{2}} Z^{s_{1} + s_{2}}}\\right)\\otimes \\left({X^{s_{2}} Z^{r_{1} + r_{2} + s_{1} + s_{2}}}\\right)$"
      ],
      "text/plain": [
       "(X**(r1 + s2)*Z**(s1 + s2))x(X**s2*Z**(r1 + r2 + s1 + s2))"
      ]
     },
     "metadata": {},
     "output_type": "display_data"
    },
    {
     "name": "stdout",
     "output_type": "stream",
     "text": [
      "I  ->  Z\n",
      "Same Phase\n",
      "X  ->  I\n",
      "Same Phase\n",
      "Z  ->  X\n",
      "Different Phase\n",
      "Y  ->  Y\n",
      "Different Phase\n",
      "\n",
      "\n",
      "\n",
      "SUM [1, 0]\n",
      "S [0]\n",
      "H [1]\n",
      "SUM [0, 1]\n",
      "S [0]\n",
      "\n"
     ]
    },
    {
     "data": {
      "text/latex": [
       "$\\displaystyle \\left({X^{r_{1} + r_{2}} Z^{r_{2} + s_{1}}}\\right)\\otimes \\left({X^{r_{1} + r_{2} + s_{1} + s_{2}} Z^{r_{2}}}\\right)$"
      ],
      "text/plain": [
       "(X**(r1 + r2)*Z**(r2 + s1))x(X**(r1 + r2 + s1 + s2)*Z**r2)"
      ]
     },
     "metadata": {},
     "output_type": "display_data"
    },
    {
     "name": "stdout",
     "output_type": "stream",
     "text": [
      "I  ->  X\n",
      "Same Phase\n",
      "X  ->  Z\n",
      "Different Phase\n",
      "Z  ->  I\n",
      "Same Phase\n",
      "Y  ->  Y\n",
      "Different Phase\n",
      "\n",
      "\n",
      "\n",
      "S [0]\n",
      "SUM [1, 0]\n",
      "SUM [0, 1]\n",
      "S [0]\n",
      "SUM [0, 1]\n",
      "\n"
     ]
    },
    {
     "data": {
      "text/latex": [
       "$\\displaystyle \\left({X^{r_{1} + r_{2}} Z^{r_{2} + s_{1}}}\\right)\\otimes \\left({X^{r_{2}} Z^{r_{1} + s_{1} + s_{2}}}\\right)$"
      ],
      "text/plain": [
       "(X**(r1 + r2)*Z**(r2 + s1))x(X**r2*Z**(r1 + s1 + s2))"
      ]
     },
     "metadata": {},
     "output_type": "display_data"
    },
    {
     "name": "stdout",
     "output_type": "stream",
     "text": [
      "I  ->  Z\n",
      "Same Phase\n",
      "X  ->  Y\n",
      "Same Phase\n",
      "Z  ->  I\n",
      "Same Phase\n",
      "Y  ->  X\n",
      "Same Phase\n",
      "\n",
      "\n",
      "\n",
      "S [0]\n",
      "SUM [1, 0]\n",
      "S [0]\n",
      "H [1]\n",
      "S [1]\n",
      "\n"
     ]
    },
    {
     "data": {
      "text/latex": [
       "$\\displaystyle \\left({X^{r_{1} + r_{2}} Z^{r_{2} + s_{1}}}\\right)\\otimes \\left({X^{r_{1} + s_{1} + s_{2}} Z^{r_{1} + r_{2} + s_{1} + s_{2}}}\\right)$"
      ],
      "text/plain": [
       "(X**(r1 + r2)*Z**(r2 + s1))x(X**(r1 + s1 + s2)*Z**(r1 + r2 + s1 + s2))"
      ]
     },
     "metadata": {},
     "output_type": "display_data"
    },
    {
     "name": "stdout",
     "output_type": "stream",
     "text": [
      "I  ->  Y\n",
      "Same Phase\n",
      "X  ->  X\n",
      "Same Phase\n",
      "Z  ->  I\n",
      "Same Phase\n",
      "Y  ->  Z\n",
      "Same Phase\n",
      "\n",
      "\n",
      "\n",
      "S [0]\n",
      "SUM [1, 0]\n",
      "S [0]\n",
      "H [1]\n",
      "H [0]\n",
      "\n"
     ]
    },
    {
     "data": {
      "text/latex": [
       "$\\displaystyle \\left({X^{r_{2} + s_{1}} Z^{r_{1} + r_{2}}}\\right)\\otimes \\left({X^{r_{1} + s_{1} + s_{2}} Z^{r_{2}}}\\right)$"
      ],
      "text/plain": [
       "(X**(r2 + s1)*Z**(r1 + r2))x(X**(r1 + s1 + s2)*Z**r2)"
      ]
     },
     "metadata": {},
     "output_type": "display_data"
    },
    {
     "name": "stdout",
     "output_type": "stream",
     "text": [
      "I  ->  X\n",
      "Same Phase\n",
      "X  ->  Y\n",
      "Same Phase\n",
      "Z  ->  I\n",
      "Same Phase\n",
      "Y  ->  Z\n",
      "Same Phase\n",
      "\n",
      "\n",
      "\n",
      "S [0]\n",
      "SUM [1, 0]\n",
      "H [1]\n",
      "SUM [1, 0]\n",
      "S [0]\n",
      "\n"
     ]
    },
    {
     "data": {
      "text/latex": [
       "$\\displaystyle \\left({X^{r_{2} + s_{1} + s_{2}} Z^{r_{1} + r_{2} + s_{2}}}\\right)\\otimes \\left({X^{r_{1} + s_{1} + s_{2}} Z^{r_{1} + r_{2} + s_{1}}}\\right)$"
      ],
      "text/plain": [
       "(X**(r2 + s1 + s2)*Z**(r1 + r2 + s2))x(X**(r1 + s1 + s2)*Z**(r1 + r2 + s1))"
      ]
     },
     "metadata": {},
     "output_type": "display_data"
    },
    {
     "name": "stdout",
     "output_type": "stream",
     "text": [
      "I  ->  Y\n",
      "Same Phase\n",
      "X  ->  X\n",
      "Same Phase\n",
      "Z  ->  Z\n",
      "Same Phase\n",
      "Y  ->  I\n",
      "Same Phase\n",
      "\n",
      "\n",
      "\n",
      "S [0]\n",
      "H [1]\n",
      "S [1]\n",
      "H [1]\n",
      "S [0]\n",
      "\n"
     ]
    },
    {
     "data": {
      "text/latex": [
       "$\\displaystyle \\left({X^{r_{1}} Z^{s_{1}}}\\right)\\otimes \\left({X^{r_{2} + s_{2}} Z^{s_{2}}}\\right)$"
      ],
      "text/plain": [
       "(X**r1*Z**s1)x(X**(r2 + s2)*Z**s2)"
      ]
     },
     "metadata": {},
     "output_type": "display_data"
    },
    {
     "name": "stdout",
     "output_type": "stream",
     "text": [
      "I  ->  I\n",
      "Same Phase\n",
      "X  ->  X\n",
      "Same Phase\n",
      "Z  ->  Y\n",
      "Same Phase\n",
      "Y  ->  Z\n",
      "Same Phase\n",
      "\n",
      "\n",
      "\n",
      "H [0]\n",
      "SUM [0, 1]\n",
      "H [1]\n",
      "S [1]\n",
      "SUM [1, 0]\n",
      "\n"
     ]
    },
    {
     "data": {
      "text/latex": [
       "$\\displaystyle \\left({X^{s_{1} + s_{2}} Z^{r_{1} + s_{2}}}\\right)\\otimes \\left({X^{s_{2}} Z^{r_{1} + r_{2} + s_{1}}}\\right)$"
      ],
      "text/plain": [
       "(X**(s1 + s2)*Z**(r1 + s2))x(X**s2*Z**(r1 + r2 + s1))"
      ]
     },
     "metadata": {},
     "output_type": "display_data"
    },
    {
     "name": "stdout",
     "output_type": "stream",
     "text": [
      "I  ->  Z\n",
      "Same Phase\n",
      "X  ->  I\n",
      "Same Phase\n",
      "Z  ->  Y\n",
      "Different Phase\n",
      "Y  ->  X\n",
      "Different Phase\n",
      "\n",
      "\n",
      "\n",
      "H [1]\n",
      "SUM [1, 0]\n",
      "S [1]\n",
      "H [1]\n",
      "SUM [0, 1]\n",
      "\n"
     ]
    },
    {
     "data": {
      "text/latex": [
       "$\\displaystyle \\left({X^{r_{1} + s_{2}} Z^{s_{1} + s_{2}}}\\right)\\otimes \\left({X^{r_{1} + r_{2} + s_{1}} Z^{s_{2}}}\\right)$"
      ],
      "text/plain": [
       "(X**(r1 + s2)*Z**(s1 + s2))x(X**(r1 + r2 + s1)*Z**s2)"
      ]
     },
     "metadata": {},
     "output_type": "display_data"
    },
    {
     "name": "stdout",
     "output_type": "stream",
     "text": [
      "I  ->  X\n",
      "Same Phase\n",
      "X  ->  I\n",
      "Same Phase\n",
      "Z  ->  Y\n",
      "Different Phase\n",
      "Y  ->  Z\n",
      "Different Phase\n",
      "\n",
      "\n",
      "\n",
      "SUM [0, 1]\n",
      "SUM [1, 0]\n",
      "S [0]\n",
      "SUM [1, 0]\n",
      "H [0]\n",
      "SUM [0, 1]\n",
      "\n"
     ]
    },
    {
     "data": {
      "text/latex": [
       "$\\displaystyle \\left({X^{r_{2} + s_{1} + s_{2}} Z^{r_{1} + r_{2} + s_{2}}}\\right)\\otimes \\left({X^{r_{1} + s_{1} + s_{2}} Z^{r_{2} + s_{2}}}\\right)$"
      ],
      "text/plain": [
       "(X**(r2 + s1 + s2)*Z**(r1 + r2 + s2))x(X**(r1 + s1 + s2)*Z**(r2 + s2))"
      ]
     },
     "metadata": {},
     "output_type": "display_data"
    },
    {
     "name": "stdout",
     "output_type": "stream",
     "text": [
      "I  ->  X\n",
      "Same Phase\n",
      "X  ->  Y\n",
      "Different Phase\n",
      "Z  ->  Z\n",
      "Different Phase\n",
      "Y  ->  I\n",
      "Same Phase\n",
      "\n",
      "\n",
      "\n",
      "SUM [0, 1]\n",
      "SUM [1, 0]\n",
      "S [0]\n",
      "SUM [1, 0]\n",
      "H [1]\n",
      "SUM [1, 0]\n",
      "\n"
     ]
    },
    {
     "data": {
      "text/latex": [
       "$\\displaystyle \\left({X^{r_{1} + r_{2} + s_{2}} Z^{r_{2} + s_{1} + s_{2}}}\\right)\\otimes \\left({X^{r_{2} + s_{2}} Z^{r_{1} + s_{1} + s_{2}}}\\right)$"
      ],
      "text/plain": [
       "(X**(r1 + r2 + s2)*Z**(r2 + s1 + s2))x(X**(r2 + s2)*Z**(r1 + s1 + s2))"
      ]
     },
     "metadata": {},
     "output_type": "display_data"
    },
    {
     "name": "stdout",
     "output_type": "stream",
     "text": [
      "I  ->  Z\n",
      "Same Phase\n",
      "X  ->  Y\n",
      "Different Phase\n",
      "Z  ->  X\n",
      "Different Phase\n",
      "Y  ->  I\n",
      "Same Phase\n",
      "\n",
      "\n",
      "\n",
      "SUM [0, 1]\n",
      "SUM [1, 0]\n",
      "S [0]\n",
      "H [0]\n",
      "SUM [0, 1]\n",
      "SUM [1, 0]\n",
      "\n"
     ]
    },
    {
     "data": {
      "text/latex": [
       "$\\displaystyle \\left({X^{r_{1} + r_{2}} Z^{r_{2} + s_{1}}}\\right)\\otimes \\left({X^{r_{1} + s_{1} + s_{2}} Z^{r_{2}}}\\right)$"
      ],
      "text/plain": [
       "(X**(r1 + r2)*Z**(r2 + s1))x(X**(r1 + s1 + s2)*Z**r2)"
      ]
     },
     "metadata": {},
     "output_type": "display_data"
    },
    {
     "name": "stdout",
     "output_type": "stream",
     "text": [
      "I  ->  X\n",
      "Same Phase\n",
      "X  ->  Y\n",
      "Different Phase\n",
      "Z  ->  I\n",
      "Same Phase\n",
      "Y  ->  Z\n",
      "Different Phase\n",
      "\n",
      "\n",
      "\n",
      "SUM [0, 1]\n",
      "SUM [1, 0]\n",
      "S [0]\n",
      "H [1]\n",
      "SUM [1, 0]\n",
      "SUM [0, 1]\n",
      "\n"
     ]
    },
    {
     "data": {
      "text/latex": [
       "$\\displaystyle \\left({X^{r_{2} + s_{1}} Z^{r_{1} + r_{2}}}\\right)\\otimes \\left({X^{r_{2}} Z^{r_{1} + s_{1} + s_{2}}}\\right)$"
      ],
      "text/plain": [
       "(X**(r2 + s1)*Z**(r1 + r2))x(X**r2*Z**(r1 + s1 + s2))"
      ]
     },
     "metadata": {},
     "output_type": "display_data"
    },
    {
     "name": "stdout",
     "output_type": "stream",
     "text": [
      "I  ->  Z\n",
      "Same Phase\n",
      "X  ->  Y\n",
      "Different Phase\n",
      "Z  ->  I\n",
      "Same Phase\n",
      "Y  ->  X\n",
      "Different Phase\n",
      "\n",
      "\n",
      "\n",
      "SUM [0, 1]\n",
      "SUM [1, 0]\n",
      "H [0]\n",
      "SUM [0, 1]\n",
      "H [0]\n",
      "SUM [1, 0]\n",
      "\n"
     ]
    },
    {
     "data": {
      "text/latex": [
       "$\\displaystyle \\left({X^{r_{1} + s_{2}} Z^{s_{1} + s_{2}}}\\right)\\otimes \\left({X^{r_{1} + r_{2} + s_{1} + s_{2}} Z^{s_{2}}}\\right)$"
      ],
      "text/plain": [
       "(X**(r1 + s2)*Z**(s1 + s2))x(X**(r1 + r2 + s1 + s2)*Z**s2)"
      ]
     },
     "metadata": {},
     "output_type": "display_data"
    },
    {
     "name": "stdout",
     "output_type": "stream",
     "text": [
      "I  ->  X\n",
      "Different Phase\n",
      "X  ->  I\n",
      "Different Phase\n",
      "Z  ->  Z\n",
      "Same Phase\n",
      "Y  ->  Y\n",
      "Same Phase\n",
      "\n",
      "\n",
      "\n",
      "SUM [0, 1]\n",
      "SUM [1, 0]\n",
      "H [0]\n",
      "SUM [0, 1]\n",
      "H [1]\n",
      "SUM [0, 1]\n",
      "\n"
     ]
    },
    {
     "data": {
      "text/latex": [
       "$\\displaystyle \\left({X^{s_{1} + s_{2}} Z^{r_{1} + s_{2}}}\\right)\\otimes \\left({X^{s_{2}} Z^{r_{1} + r_{2} + s_{1} + s_{2}}}\\right)$"
      ],
      "text/plain": [
       "(X**(s1 + s2)*Z**(r1 + s2))x(X**s2*Z**(r1 + r2 + s1 + s2))"
      ]
     },
     "metadata": {},
     "output_type": "display_data"
    },
    {
     "name": "stdout",
     "output_type": "stream",
     "text": [
      "I  ->  Z\n",
      "Different Phase\n",
      "X  ->  I\n",
      "Different Phase\n",
      "Z  ->  X\n",
      "Same Phase\n",
      "Y  ->  Y\n",
      "Same Phase\n",
      "\n",
      "\n",
      "\n",
      "SUM [0, 1]\n",
      "S [0]\n",
      "S [1]\n",
      "SUM [0, 1]\n",
      "H [0]\n",
      "SUM [1, 0]\n",
      "\n"
     ]
    },
    {
     "data": {
      "text/latex": [
       "$\\displaystyle \\left({X^{s_{1}} Z^{r_{1}}}\\right)\\otimes \\left({X^{r_{2}} Z^{r_{2} + s_{2}}}\\right)$"
      ],
      "text/plain": [
       "(X**s1*Z**r1)x(X**r2*Z**(r2 + s2))"
      ]
     },
     "metadata": {},
     "output_type": "display_data"
    },
    {
     "name": "stdout",
     "output_type": "stream",
     "text": [
      "I  ->  I\n",
      "Different Phase\n",
      "X  ->  Y\n",
      "Same Phase\n",
      "Z  ->  Z\n",
      "Different Phase\n",
      "Y  ->  X\n",
      "Same Phase\n",
      "\n",
      "\n",
      "\n",
      "SUM [0, 1]\n",
      "S [0]\n",
      "S [1]\n",
      "H [0]\n",
      "SUM [1, 0]\n",
      "SUM [0, 1]\n",
      "\n"
     ]
    },
    {
     "data": {
      "text/latex": [
       "$\\displaystyle \\left({X^{r_{2} + s_{1} + s_{2}} Z^{r_{1} + r_{2} + s_{2}}}\\right)\\otimes \\left({X^{r_{1} + s_{1} + s_{2}} Z^{r_{2} + s_{2}}}\\right)$"
      ],
      "text/plain": [
       "(X**(r2 + s1 + s2)*Z**(r1 + r2 + s2))x(X**(r1 + s1 + s2)*Z**(r2 + s2))"
      ]
     },
     "metadata": {},
     "output_type": "display_data"
    },
    {
     "name": "stdout",
     "output_type": "stream",
     "text": [
      "I  ->  X\n",
      "Same Phase\n",
      "X  ->  Y\n",
      "Same Phase\n",
      "Z  ->  Z\n",
      "Different Phase\n",
      "Y  ->  I\n",
      "Different Phase\n",
      "\n",
      "\n",
      "\n",
      "SUM [0, 1]\n",
      "S [1]\n",
      "SUM [0, 1]\n",
      "H [1]\n",
      "SUM [0, 1]\n",
      "S [0]\n",
      "\n"
     ]
    },
    {
     "data": {
      "text/latex": [
       "$\\displaystyle \\left({X^{r_{1}} Z^{s_{1}}}\\right)\\otimes \\left({X^{r_{2} + s_{2}} Z^{r_{2}}}\\right)$"
      ],
      "text/plain": [
       "(X**r1*Z**s1)x(X**(r2 + s2)*Z**r2)"
      ]
     },
     "metadata": {},
     "output_type": "display_data"
    },
    {
     "name": "stdout",
     "output_type": "stream",
     "text": [
      "I  ->  I\n",
      "Different Phase\n",
      "X  ->  Y\n",
      "Same Phase\n",
      "Z  ->  X\n",
      "Different Phase\n",
      "Y  ->  Z\n",
      "Same Phase\n",
      "\n",
      "\n",
      "\n",
      "SUM [0, 1]\n",
      "H [0]\n",
      "S [0]\n",
      "SUM [0, 1]\n",
      "H [1]\n",
      "S [0]\n",
      "\n"
     ]
    },
    {
     "data": {
      "text/latex": [
       "$\\displaystyle \\left({X^{s_{1} + s_{2}} Z^{r_{1} + s_{2}}}\\right)\\otimes \\left({X^{s_{2}} Z^{r_{1} + r_{2} + s_{1} + s_{2}}}\\right)$"
      ],
      "text/plain": [
       "(X**(s1 + s2)*Z**(r1 + s2))x(X**s2*Z**(r1 + r2 + s1 + s2))"
      ]
     },
     "metadata": {},
     "output_type": "display_data"
    },
    {
     "name": "stdout",
     "output_type": "stream",
     "text": [
      "I  ->  Z\n",
      "Same Phase\n",
      "X  ->  I\n",
      "Same Phase\n",
      "Z  ->  X\n",
      "Different Phase\n",
      "Y  ->  Y\n",
      "Different Phase\n",
      "\n",
      "\n",
      "\n",
      "SUM [0, 1]\n",
      "H [0]\n",
      "H [1]\n",
      "S [1]\n",
      "H [1]\n",
      "SUM [0, 1]\n",
      "\n"
     ]
    },
    {
     "data": {
      "text/latex": [
       "$\\displaystyle \\left({X^{s_{1} + s_{2}} Z^{r_{1} + s_{2}}}\\right)\\otimes \\left({X^{r_{1} + r_{2} + s_{1}} Z^{s_{2}}}\\right)$"
      ],
      "text/plain": [
       "(X**(s1 + s2)*Z**(r1 + s2))x(X**(r1 + r2 + s1)*Z**s2)"
      ]
     },
     "metadata": {},
     "output_type": "display_data"
    },
    {
     "name": "stdout",
     "output_type": "stream",
     "text": [
      "I  ->  X\n",
      "Same Phase\n",
      "X  ->  I\n",
      "Same Phase\n",
      "Z  ->  Y\n",
      "Different Phase\n",
      "Y  ->  Z\n",
      "Different Phase\n",
      "\n",
      "\n",
      "\n",
      "SUM [1, 0]\n",
      "SUM [0, 1]\n",
      "S [0]\n",
      "S [1]\n",
      "H [0]\n",
      "SUM [0, 1]\n",
      "\n"
     ]
    },
    {
     "data": {
      "text/latex": [
       "$\\displaystyle \\left({X^{r_{1} + r_{2} + s_{2}} Z^{r_{2} + s_{1} + s_{2}}}\\right)\\otimes \\left({X^{r_{2} + s_{2}} Z^{r_{1} + s_{1} + s_{2}}}\\right)$"
      ],
      "text/plain": [
       "(X**(r1 + r2 + s2)*Z**(r2 + s1 + s2))x(X**(r2 + s2)*Z**(r1 + s1 + s2))"
      ]
     },
     "metadata": {},
     "output_type": "display_data"
    },
    {
     "name": "stdout",
     "output_type": "stream",
     "text": [
      "I  ->  Z\n",
      "Same Phase\n",
      "X  ->  Y\n",
      "Same Phase\n",
      "Z  ->  X\n",
      "Different Phase\n",
      "Y  ->  I\n",
      "Different Phase\n",
      "\n",
      "\n",
      "\n",
      "SUM [1, 0]\n",
      "SUM [0, 1]\n",
      "S [0]\n",
      "S [1]\n",
      "H [1]\n",
      "SUM [1, 0]\n",
      "\n"
     ]
    },
    {
     "data": {
      "text/latex": [
       "$\\displaystyle \\left({X^{r_{2} + s_{1} + s_{2}} Z^{r_{1} + r_{2} + s_{2}}}\\right)\\otimes \\left({X^{r_{1} + s_{1} + s_{2}} Z^{r_{2} + s_{2}}}\\right)$"
      ],
      "text/plain": [
       "(X**(r2 + s1 + s2)*Z**(r1 + r2 + s2))x(X**(r1 + s1 + s2)*Z**(r2 + s2))"
      ]
     },
     "metadata": {},
     "output_type": "display_data"
    },
    {
     "name": "stdout",
     "output_type": "stream",
     "text": [
      "I  ->  X\n",
      "Same Phase\n",
      "X  ->  Y\n",
      "Same Phase\n",
      "Z  ->  Z\n",
      "Different Phase\n",
      "Y  ->  I\n",
      "Different Phase\n",
      "\n",
      "\n",
      "\n",
      "SUM [1, 0]\n",
      "S [0]\n",
      "SUM [1, 0]\n",
      "H [1]\n",
      "SUM [0, 1]\n",
      "S [0]\n",
      "\n"
     ]
    },
    {
     "data": {
      "text/latex": [
       "$\\displaystyle \\left({X^{r_{1}} Z^{s_{1}}}\\right)\\otimes \\left({X^{r_{2} + s_{2}} Z^{r_{2}}}\\right)$"
      ],
      "text/plain": [
       "(X**r1*Z**s1)x(X**(r2 + s2)*Z**r2)"
      ]
     },
     "metadata": {},
     "output_type": "display_data"
    },
    {
     "name": "stdout",
     "output_type": "stream",
     "text": [
      "I  ->  I\n",
      "Same Phase\n",
      "X  ->  Y\n",
      "Different Phase\n",
      "Z  ->  X\n",
      "Same Phase\n",
      "Y  ->  Z\n",
      "Different Phase\n",
      "\n",
      "\n",
      "\n",
      "SUM [1, 0]\n",
      "S [0]\n",
      "H [1]\n",
      "SUM [0, 1]\n",
      "SUM [1, 0]\n",
      "S [0]\n",
      "\n"
     ]
    },
    {
     "data": {
      "text/latex": [
       "$\\displaystyle \\left({X^{s_{1} + s_{2}} Z^{r_{1} + s_{2}}}\\right)\\otimes \\left({X^{r_{1} + r_{2} + s_{1} + s_{2}} Z^{r_{1} + r_{2} + s_{1}}}\\right)$"
      ],
      "text/plain": [
       "(X**(s1 + s2)*Z**(r1 + s2))x(X**(r1 + r2 + s1 + s2)*Z**(r1 + r2 + s1))"
      ]
     },
     "metadata": {},
     "output_type": "display_data"
    },
    {
     "name": "stdout",
     "output_type": "stream",
     "text": [
      "I  ->  Y\n",
      "Same Phase\n",
      "X  ->  I\n",
      "Different Phase\n",
      "Z  ->  Z\n",
      "Same Phase\n",
      "Y  ->  X\n",
      "Different Phase\n",
      "\n",
      "\n",
      "\n",
      "SUM [1, 0]\n",
      "S [0]\n",
      "H [1]\n",
      "SUM [0, 1]\n",
      "S [1]\n",
      "S [0]\n",
      "\n"
     ]
    },
    {
     "data": {
      "text/latex": [
       "$\\displaystyle \\left({X^{r_{1} + r_{2}} Z^{r_{2} + s_{1}}}\\right)\\otimes \\left({X^{r_{1} + r_{2} + s_{1} + s_{2}} Z^{r_{1} + s_{1} + s_{2}}}\\right)$"
      ],
      "text/plain": [
       "(X**(r1 + r2)*Z**(r2 + s1))x(X**(r1 + r2 + s1 + s2)*Z**(r1 + s1 + s2))"
      ]
     },
     "metadata": {},
     "output_type": "display_data"
    },
    {
     "name": "stdout",
     "output_type": "stream",
     "text": [
      "I  ->  Y\n",
      "Same Phase\n",
      "X  ->  Z\n",
      "Different Phase\n",
      "Z  ->  I\n",
      "Same Phase\n",
      "Y  ->  X\n",
      "Different Phase\n",
      "\n",
      "\n",
      "\n",
      "S [0]\n",
      "SUM [1, 0]\n",
      "SUM [0, 1]\n",
      "S [0]\n",
      "H [0]\n",
      "SUM [0, 1]\n",
      "\n"
     ]
    },
    {
     "data": {
      "text/latex": [
       "$\\displaystyle \\left({X^{r_{1} + r_{2} + s_{2}} Z^{r_{2} + s_{1} + s_{2}}}\\right)\\otimes \\left({X^{r_{2} + s_{2}} Z^{r_{1} + s_{1} + s_{2}}}\\right)$"
      ],
      "text/plain": [
       "(X**(r1 + r2 + s2)*Z**(r2 + s1 + s2))x(X**(r2 + s2)*Z**(r1 + s1 + s2))"
      ]
     },
     "metadata": {},
     "output_type": "display_data"
    },
    {
     "name": "stdout",
     "output_type": "stream",
     "text": [
      "I  ->  Z\n",
      "Different Phase\n",
      "X  ->  Y\n",
      "Different Phase\n",
      "Z  ->  X\n",
      "Same Phase\n",
      "Y  ->  I\n",
      "Same Phase\n",
      "\n",
      "\n",
      "\n",
      "S [0]\n",
      "SUM [1, 0]\n",
      "SUM [0, 1]\n",
      "S [0]\n",
      "H [1]\n",
      "SUM [1, 0]\n",
      "\n"
     ]
    },
    {
     "data": {
      "text/latex": [
       "$\\displaystyle \\left({X^{r_{2} + s_{1} + s_{2}} Z^{r_{1} + r_{2} + s_{2}}}\\right)\\otimes \\left({X^{r_{1} + s_{1} + s_{2}} Z^{r_{2} + s_{2}}}\\right)$"
      ],
      "text/plain": [
       "(X**(r2 + s1 + s2)*Z**(r1 + r2 + s2))x(X**(r1 + s1 + s2)*Z**(r2 + s2))"
      ]
     },
     "metadata": {},
     "output_type": "display_data"
    },
    {
     "name": "stdout",
     "output_type": "stream",
     "text": [
      "I  ->  X\n",
      "Different Phase\n",
      "X  ->  Y\n",
      "Different Phase\n",
      "Z  ->  Z\n",
      "Same Phase\n",
      "Y  ->  I\n",
      "Same Phase\n",
      "\n",
      "\n",
      "\n",
      "S [0]\n",
      "SUM [1, 0]\n",
      "H [1]\n",
      "SUM [1, 0]\n",
      "S [0]\n",
      "S [1]\n",
      "\n"
     ]
    },
    {
     "data": {
      "text/latex": [
       "$\\displaystyle \\left({X^{r_{2} + s_{1} + s_{2}} Z^{r_{1} + r_{2} + s_{2}}}\\right)\\otimes \\left({X^{r_{1} + s_{1} + s_{2}} Z^{r_{2} + s_{2}}}\\right)$"
      ],
      "text/plain": [
       "(X**(r2 + s1 + s2)*Z**(r1 + r2 + s2))x(X**(r1 + s1 + s2)*Z**(r2 + s2))"
      ]
     },
     "metadata": {},
     "output_type": "display_data"
    },
    {
     "name": "stdout",
     "output_type": "stream",
     "text": [
      "I  ->  X\n",
      "Same Phase\n",
      "X  ->  Y\n",
      "Same Phase\n",
      "Z  ->  Z\n",
      "Same Phase\n",
      "Y  ->  I\n",
      "Same Phase\n",
      "\n",
      "\n",
      "\n",
      "S [0]\n",
      "SUM [1, 0]\n",
      "H [1]\n",
      "SUM [1, 0]\n",
      "S [0]\n",
      "H [0]\n",
      "\n"
     ]
    },
    {
     "data": {
      "text/latex": [
       "$\\displaystyle \\left({X^{r_{1} + r_{2} + s_{2}} Z^{r_{2} + s_{1} + s_{2}}}\\right)\\otimes \\left({X^{r_{1} + s_{1} + s_{2}} Z^{r_{1} + r_{2} + s_{1}}}\\right)$"
      ],
      "text/plain": [
       "(X**(r1 + r2 + s2)*Z**(r2 + s1 + s2))x(X**(r1 + s1 + s2)*Z**(r1 + r2 + s1))"
      ]
     },
     "metadata": {},
     "output_type": "display_data"
    },
    {
     "name": "stdout",
     "output_type": "stream",
     "text": [
      "I  ->  Y\n",
      "Same Phase\n",
      "X  ->  X\n",
      "Same Phase\n",
      "Z  ->  Z\n",
      "Same Phase\n",
      "Y  ->  I\n",
      "Same Phase\n",
      "\n",
      "\n",
      "\n",
      "S [0]\n",
      "SUM [1, 0]\n",
      "H [1]\n",
      "SUM [1, 0]\n",
      "S [0]\n",
      "H [1]\n",
      "\n"
     ]
    },
    {
     "data": {
      "text/latex": [
       "$\\displaystyle \\left({X^{r_{2} + s_{1} + s_{2}} Z^{r_{1} + r_{2} + s_{2}}}\\right)\\otimes \\left({X^{r_{1} + r_{2} + s_{1}} Z^{r_{1} + s_{1} + s_{2}}}\\right)$"
      ],
      "text/plain": [
       "(X**(r2 + s1 + s2)*Z**(r1 + r2 + s2))x(X**(r1 + r2 + s1)*Z**(r1 + s1 + s2))"
      ]
     },
     "metadata": {},
     "output_type": "display_data"
    },
    {
     "name": "stdout",
     "output_type": "stream",
     "text": [
      "I  ->  Y\n",
      "Same Phase\n",
      "X  ->  Z\n",
      "Same Phase\n",
      "Z  ->  X\n",
      "Same Phase\n",
      "Y  ->  I\n",
      "Same Phase\n",
      "\n",
      "\n",
      "\n",
      "S [0]\n",
      "H [1]\n",
      "S [1]\n",
      "H [1]\n",
      "SUM [1, 0]\n",
      "S [0]\n",
      "\n"
     ]
    },
    {
     "data": {
      "text/latex": [
       "$\\displaystyle \\left({X^{r_{1} + r_{2} + s_{2}} Z^{r_{2} + s_{1} + s_{2}}}\\right)\\otimes \\left({X^{r_{2} + s_{2}} Z^{r_{1} + s_{1} + s_{2}}}\\right)$"
      ],
      "text/plain": [
       "(X**(r1 + r2 + s2)*Z**(r2 + s1 + s2))x(X**(r2 + s2)*Z**(r1 + s1 + s2))"
      ]
     },
     "metadata": {},
     "output_type": "display_data"
    },
    {
     "name": "stdout",
     "output_type": "stream",
     "text": [
      "I  ->  Z\n",
      "Same Phase\n",
      "X  ->  Y\n",
      "Same Phase\n",
      "Z  ->  X\n",
      "Same Phase\n",
      "Y  ->  I\n",
      "Same Phase\n",
      "\n",
      "\n",
      "\n",
      "SUM [1, 0]\n",
      "SUM [0, 1]\n",
      "S [0]\n",
      "SUM [1, 0]\n",
      "H [0]\n",
      "SUM [0, 1]\n",
      "S [0]\n",
      "\n"
     ]
    },
    {
     "data": {
      "text/latex": [
       "$\\displaystyle \\left({X^{r_{1} + r_{2} + s_{2}} Z^{r_{2} + s_{1} + s_{2}}}\\right)\\otimes \\left({X^{r_{2} + s_{2}} Z^{r_{1} + r_{2} + s_{1}}}\\right)$"
      ],
      "text/plain": [
       "(X**(r1 + r2 + s2)*Z**(r2 + s1 + s2))x(X**(r2 + s2)*Z**(r1 + r2 + s1))"
      ]
     },
     "metadata": {},
     "output_type": "display_data"
    },
    {
     "name": "stdout",
     "output_type": "stream",
     "text": [
      "I  ->  Z\n",
      "Same Phase\n",
      "X  ->  X\n",
      "Different Phase\n",
      "Z  ->  Y\n",
      "Same Phase\n",
      "Y  ->  I\n",
      "Different Phase\n",
      "\n",
      "\n",
      "\n",
      "SUM [1, 0]\n",
      "SUM [0, 1]\n",
      "S [0]\n",
      "S [1]\n",
      "H [0]\n",
      "H [1]\n",
      "SUM [1, 0]\n",
      "\n"
     ]
    },
    {
     "data": {
      "text/latex": [
       "$\\displaystyle \\left({X^{r_{2} + s_{1}} Z^{r_{1} + r_{2}}}\\right)\\otimes \\left({X^{r_{1} + s_{1} + s_{2}} Z^{r_{2}}}\\right)$"
      ],
      "text/plain": [
       "(X**(r2 + s1)*Z**(r1 + r2))x(X**(r1 + s1 + s2)*Z**r2)"
      ]
     },
     "metadata": {},
     "output_type": "display_data"
    },
    {
     "name": "stdout",
     "output_type": "stream",
     "text": [
      "I  ->  X\n",
      "Different Phase\n",
      "X  ->  Y\n",
      "Different Phase\n",
      "Z  ->  I\n",
      "Different Phase\n",
      "Y  ->  Z\n",
      "Different Phase\n",
      "\n",
      "\n",
      "\n",
      "SUM [1, 0]\n",
      "SUM [0, 1]\n",
      "S [0]\n",
      "H [0]\n",
      "SUM [0, 1]\n",
      "S [0]\n",
      "SUM [1, 0]\n",
      "\n"
     ]
    },
    {
     "data": {
      "text/latex": [
       "$\\displaystyle \\left({X^{r_{1}} Z^{s_{1}}}\\right)\\otimes \\left({X^{r_{2} + s_{2}} Z^{s_{2}}}\\right)$"
      ],
      "text/plain": [
       "(X**r1*Z**s1)x(X**(r2 + s2)*Z**s2)"
      ]
     },
     "metadata": {},
     "output_type": "display_data"
    },
    {
     "name": "stdout",
     "output_type": "stream",
     "text": [
      "I  ->  I\n",
      "Different Phase\n",
      "X  ->  X\n",
      "Different Phase\n",
      "Z  ->  Y\n",
      "Same Phase\n",
      "Y  ->  Z\n",
      "Same Phase\n",
      "\n",
      "\n",
      "\n",
      "SUM [1, 0]\n",
      "S [0]\n",
      "H [1]\n",
      "SUM [0, 1]\n",
      "S [1]\n",
      "H [1]\n",
      "S [0]\n",
      "\n"
     ]
    },
    {
     "data": {
      "text/latex": [
       "$\\displaystyle \\left({X^{r_{1} + r_{2}} Z^{r_{2} + s_{1}}}\\right)\\otimes \\left({X^{r_{1} + s_{1} + s_{2}} Z^{r_{1} + r_{2} + s_{1} + s_{2}}}\\right)$"
      ],
      "text/plain": [
       "(X**(r1 + r2)*Z**(r2 + s1))x(X**(r1 + s1 + s2)*Z**(r1 + r2 + s1 + s2))"
      ]
     },
     "metadata": {},
     "output_type": "display_data"
    },
    {
     "name": "stdout",
     "output_type": "stream",
     "text": [
      "I  ->  Y\n",
      "Same Phase\n",
      "X  ->  X\n",
      "Different Phase\n",
      "Z  ->  I\n",
      "Same Phase\n",
      "Y  ->  Z\n",
      "Different Phase\n",
      "\n",
      "\n",
      "\n",
      "SUM [0, 1]\n",
      "SUM [1, 0]\n",
      "S [0]\n",
      "H [0]\n",
      "H [1]\n",
      "S [1]\n",
      "SUM [0, 1]\n",
      "S [0]\n",
      "\n"
     ]
    },
    {
     "data": {
      "text/latex": [
       "$\\displaystyle \\left({X^{r_{2} + s_{1} + s_{2}} Z^{r_{1} + r_{2} + s_{2}}}\\right)\\otimes \\left({X^{r_{2} + s_{2}} Z^{r_{1} + r_{2} + s_{1}}}\\right)$"
      ],
      "text/plain": [
       "(X**(r2 + s1 + s2)*Z**(r1 + r2 + s2))x(X**(r2 + s2)*Z**(r1 + r2 + s1))"
      ]
     },
     "metadata": {},
     "output_type": "display_data"
    },
    {
     "name": "stdout",
     "output_type": "stream",
     "text": [
      "I  ->  Z\n",
      "Different Phase\n",
      "X  ->  X\n",
      "Different Phase\n",
      "Z  ->  Y\n",
      "Different Phase\n",
      "Y  ->  I\n",
      "Different Phase\n",
      "\n",
      "\n",
      "\n"
     ]
    }
   ],
   "source": [
    "for i,c in enumerate(goal_circuits):\n",
    "    print(c)\n",
    "    symplectic_effect(c,phases=False)\n",
    "    for ip,p in enumerate(start_paulis):\n",
    "        P_temp = c.act(p)\n",
    "        if ip == 0:\n",
    "            ini_s = 'I'\n",
    "        elif ip == 1:\n",
    "            ini_s = 'X'\n",
    "        elif ip == 2:\n",
    "            ini_s = 'Z'\n",
    "        elif ip == 3:\n",
    "            ini_s = 'Y'\n",
    "\n",
    "        if P_temp.x_exp[0,1] == 0:\n",
    "            if P_temp.z_exp[0,1] == 0:\n",
    "                print(ini_s,' -> ','I')\n",
    "            else:\n",
    "                print(ini_s,' -> ','Z')\n",
    "        elif P_temp.x_exp[0,1] == 1:\n",
    "            if P_temp.z_exp[0,1] == 0:\n",
    "                print(ini_s,' -> ','X')\n",
    "            else:\n",
    "                print(ini_s,' -> ','Y')\n",
    "\n",
    "        phases = P_temp.phases\n",
    "        if phases[0] == phases[1]:\n",
    "            print('Same Phase')\n",
    "        else:\n",
    "            print('Different Phase')\n",
    "    print()\n",
    "    print()\n",
    "    print()"
   ]
  },
  {
   "cell_type": "code",
   "execution_count": 11,
   "id": "953eba1f",
   "metadata": {},
   "outputs": [
    {
     "name": "stdout",
     "output_type": "stream",
     "text": [
      "(1,)\n",
      "(2,)\n",
      "(3,)\n",
      "(1, 1)\n",
      "(1, 2)\n",
      "(1, 3)\n",
      "(2, 1)\n",
      "(2, 2)\n",
      "(2, 3)\n",
      "(3, 1)\n",
      "(3, 2)\n",
      "(3, 3)\n",
      "(1, 1, 1)\n",
      "(1, 1, 2)\n",
      "(1, 1, 3)\n",
      "(1, 2, 1)\n",
      "(1, 2, 2)\n",
      "(1, 2, 3)\n",
      "(1, 3, 1)\n",
      "(1, 3, 2)\n",
      "(1, 3, 3)\n",
      "(2, 1, 1)\n",
      "(2, 1, 2)\n",
      "(2, 1, 3)\n",
      "(2, 2, 1)\n",
      "(2, 2, 2)\n",
      "(2, 2, 3)\n",
      "(2, 3, 1)\n",
      "(2, 3, 2)\n",
      "(2, 3, 3)\n",
      "(3, 1, 1)\n",
      "(3, 1, 2)\n",
      "(3, 1, 3)\n",
      "(3, 2, 1)\n",
      "(3, 2, 2)\n",
      "(3, 2, 3)\n",
      "(3, 3, 1)\n",
      "(3, 3, 2)\n",
      "(3, 3, 3)\n"
     ]
    }
   ],
   "source": [
    "from itertools import product\n",
    "\n",
    "# Example list\n",
    "elements = [1, 2, 3]\n",
    "\n",
    "# Loop through all permutations of length 1 to n\n",
    "for r in range(1, len(elements) + 1):\n",
    "    for combo in product(elements, repeat=r):\n",
    "        print(combo)"
   ]
  },
  {
   "cell_type": "code",
   "execution_count": 14,
   "id": "17a117af",
   "metadata": {},
   "outputs": [
    {
     "name": "stdout",
     "output_type": "stream",
     "text": [
      "1\n",
      "\n",
      "Option 0:\n",
      "H [1]\n",
      "\n",
      "\n",
      "Option 1:\n",
      "SUM [0, 1]\n",
      "S [1]\n",
      "H [1]\n",
      "S [1]\n",
      "SUM [0, 1]\n",
      "\n",
      "\n",
      "Option 5:\n",
      "SUM [1, 0]\n",
      "S [0]\n",
      "SUM [1, 0]\n",
      "H [1]\n",
      "SUM [0, 1]\n",
      "S [0]\n",
      "\n",
      "\n",
      "Option 2:\n",
      "SUM [0, 1]\n",
      "S [1]\n",
      "SUM [0, 1]\n",
      "H [1]\n",
      "SUM [0, 1]\n",
      "S [0]\n",
      "\n",
      "\n",
      "2\n",
      "\n",
      "Option 6:\n",
      "H [1]\n",
      "SUM [1, 0]\n",
      "S [0]\n",
      "SUM [1, 0]\n",
      "H [1]\n",
      "SUM [0, 1]\n",
      "S [0]\n",
      "\n",
      "\n",
      "Option 3:\n",
      "S [1]\n",
      "SUM [0, 1]\n",
      "S [1]\n",
      "H [1]\n",
      "S [1]\n",
      "SUM [0, 1]\n",
      "\n",
      "\n",
      "Option 4:\n",
      "S [1]\n",
      "H [1]\n",
      "SUM [1, 0]\n",
      "S [0]\n",
      "SUM [1, 0]\n",
      "H [1]\n",
      "SUM [0, 1]\n",
      "S [0]\n",
      "\n",
      "\n",
      "Option 7:\n",
      "SUM [1, 0]\n",
      "S [0]\n",
      "SUM [1, 0]\n",
      "H [1]\n",
      "SUM [0, 1]\n",
      "S [0]\n",
      "SUM [0, 1]\n",
      "S [1]\n",
      "H [1]\n",
      "S [1]\n",
      "SUM [0, 1]\n",
      "\n",
      "\n",
      "3\n",
      "\n",
      "4\n",
      "\n",
      "5\n",
      "\n",
      "6\n",
      "\n",
      "7\n",
      "\n",
      "8\n",
      "\n",
      "9\n",
      "\n",
      "10\n",
      "\n",
      "11\n",
      "\n"
     ]
    },
    {
     "data": {
      "text/plain": [
       "\"\\nfor i,c in enumerate(Id_phase_gates):\\n    print(c)\\n    symplectic_effect(c,phases=False)\\n    for ip,p in enumerate(start_paulis):\\n        P_temp = c.act(p)\\n        if ip == 0:\\n            ini_s = 'I'\\n        elif ip == 1:\\n            ini_s = 'X'\\n        elif ip == 2:\\n            ini_s = 'Z'\\n        elif ip == 3:\\n            ini_s = 'Y'\\n\\n        if P_temp.x_exp[0,1] == 0:\\n            if P_temp.z_exp[0,1] == 0:\\n                print(ini_s,' -> ','I')\\n            else:\\n                print(ini_s,' -> ','Z')\\n        elif P_temp.x_exp[0,1] == 1:\\n            if P_temp.z_exp[0,1] == 0:\\n                print(ini_s,' -> ','X')\\n            else:\\n                print(ini_s,' -> ','Y')\\n\\n        phases = P_temp.phases\\n        if phases[0] == phases[1]:\\n            print('Same Phase')\\n        else:\\n            print('Different Phase')\\n    print()\\n    print()\\n    print()\\n\""
      ]
     },
     "execution_count": 14,
     "metadata": {},
     "output_type": "execute_result"
    }
   ],
   "source": [
    "\n",
    "\n",
    "\n",
    "Id_phase_gates = [Circuit(dimensions=[2,2], gates=[H(1,2)]),\n",
    "                  Circuit(dimensions=[2,2], gates=[S(1,2)]),\n",
    "                  Circuit(dimensions=[2,2], gates=[H(1,2),S(1,2)]),\n",
    "                  Circuit(dimensions=[2,2], gates=[S(1,2),H(1,2)]),\n",
    "                  Circuit(dimensions=[2,2], gates=[S(0,2),H(1,2),S(1,2),H(1,2),S(0,2)]),\n",
    "                  Circuit(dimensions=[2,2], gates=[CX(0,1,2),H(1,2),S(1,2),H(1,2),CX(0,1,2)]),\n",
    "                  Circuit(dimensions=[2,2], gates=[CX(0,1,2),S(1,2),H(1,2),S(1,2),CX(0,1,2)]),\n",
    "                  Circuit(dimensions=[2,2], gates=[CX(1,0,2),S(0,2),CX(1,0,2),H(1,2),CX(0,1,2),S(0,2)]),\n",
    "                  Circuit(dimensions=[2,2], gates=[CX(0,1,2),S(1,2),CX(0,1,2),H(1,2),CX(0,1,2),S(0,2)]),\n",
    "                  Circuit(dimensions=[2,2], gates=[CX(0,1,2),S(0,2),S(1,2),CX(0,1,2),H(0,2),CX(1,0,2)]),\n",
    "                  Circuit(dimensions=[2,2], gates=[CX(1,0,2),CX(0,1,2),S(0,2),H(0,2),CX(0,1,2),S(0,2),CX(1,0,2)])]\n",
    "\n",
    "options = [0,1,2,3,4,5,6,7]\n",
    "\n",
    "elements = [i for i in range(len(Id_phase_gates))]\n",
    "for r in range(1, len(elements) + 1):\n",
    "    print(r)\n",
    "    print()\n",
    "    for combo in product(elements, repeat=r):\n",
    "        #print(combo)\n",
    "        c = Circuit(dimensions=[2,2])\n",
    "        for j in combo:\n",
    "            C_add = Id_phase_gates[j]\n",
    "            for g2 in C_add.gates:\n",
    "                c.add_gate(g2)\n",
    "        #print(c)\n",
    "        #symplectic_effect(c,phases=False)\n",
    "        p_counter = 0\n",
    "        p_ss = ''\n",
    "        ini_ss = []\n",
    "        for ip,p in enumerate(start_paulis):\n",
    "            P_temp = c.act(p)\n",
    "            if ip == 0:\n",
    "                ini_s = 'I'\n",
    "            elif ip == 1:\n",
    "                ini_s = 'X'\n",
    "            elif ip == 2:\n",
    "                ini_s = 'Z'\n",
    "            elif ip == 3:\n",
    "                ini_s = 'Y'\n",
    "\n",
    "            if P_temp.x_exp[0,1] == 0:\n",
    "                if P_temp.z_exp[0,1] == 0:\n",
    "                    ini_s += '-> I'\n",
    "                    #print(ini_s,' -> ','I')\n",
    "                    pass\n",
    "                else:\n",
    "                    ini_s += '-> Z'\n",
    "                    #print(ini_s,' -> ','Z')\n",
    "                    pass\n",
    "            elif P_temp.x_exp[0,1] == 1:\n",
    "                if P_temp.z_exp[0,1] == 0:\n",
    "                    ini_s += '-> X'\n",
    "                    #print(ini_s,' -> ','X')\n",
    "                    pass\n",
    "                else:\n",
    "                    ini_s += '-> Y'\n",
    "                    #print(ini_s,' -> ','Y')\n",
    "                    pass\n",
    "            ini_ss.append(ini_s)\n",
    "            phases = P_temp.phases\n",
    "            if phases[0] == phases[1]:\n",
    "                #print('Same Phase')\n",
    "                p_ss += 'S'\n",
    "                p_counter += 1\n",
    "            else:\n",
    "                p_ss += 'D'\n",
    "                #print('Different Phase')\n",
    "                pass\n",
    "        if p_ss == 'SSSS' and 0 in options:\n",
    "            print('Option 0:')\n",
    "            print(c)\n",
    "            print()\n",
    "            options.remove(0)\n",
    "        elif p_ss == 'DDSS' and 1 in options:\n",
    "            print('Option 1:')\n",
    "            print(c)\n",
    "            print()\n",
    "            options.remove(1)\n",
    "        elif p_ss == 'DSDS' and 2 in options:\n",
    "            print('Option 2:')\n",
    "            print(c)\n",
    "            print()\n",
    "            options.remove(2)\n",
    "        elif p_ss == 'DSSD' and 3 in options:\n",
    "            print('Option 3:')\n",
    "            print(c)\n",
    "            print()\n",
    "            options.remove(3)\n",
    "        elif p_ss == 'SDDS' and 4 in options:\n",
    "            print('Option 4:')\n",
    "            print(c)\n",
    "            print()\n",
    "            options.remove(4)\n",
    "        elif p_ss == 'SDSD' and 5 in options:\n",
    "            print('Option 5:')\n",
    "            print(c)\n",
    "            print()\n",
    "            options.remove(5)\n",
    "        elif p_ss == 'SSDD' and 6 in options:\n",
    "            print('Option 6:')\n",
    "            print(c)\n",
    "            print()\n",
    "            options.remove(6)\n",
    "        elif p_ss == 'DDDD' and 7 in options:\n",
    "            print('Option 7:')\n",
    "            print(c)\n",
    "            print()\n",
    "            options.remove(7)\n",
    "\n",
    "        if p_counter == 3 or p_counter == 1:\n",
    "            print(combo)\n",
    "            print(c)\n",
    "            symplectic_effect(c,phases=False)\n",
    "            for ini_s in ini_ss:\n",
    "                print(ini_s)\n",
    "            print()\n",
    "            print()\n",
    "            print()\n",
    "\n",
    "        if len(options) == 0:\n",
    "            break\n",
    "\n",
    "        \n",
    "            \n",
    "'''\n",
    "for i,c in enumerate(Id_phase_gates):\n",
    "    print(c)\n",
    "    symplectic_effect(c,phases=False)\n",
    "    for ip,p in enumerate(start_paulis):\n",
    "        P_temp = c.act(p)\n",
    "        if ip == 0:\n",
    "            ini_s = 'I'\n",
    "        elif ip == 1:\n",
    "            ini_s = 'X'\n",
    "        elif ip == 2:\n",
    "            ini_s = 'Z'\n",
    "        elif ip == 3:\n",
    "            ini_s = 'Y'\n",
    "\n",
    "        if P_temp.x_exp[0,1] == 0:\n",
    "            if P_temp.z_exp[0,1] == 0:\n",
    "                print(ini_s,' -> ','I')\n",
    "            else:\n",
    "                print(ini_s,' -> ','Z')\n",
    "        elif P_temp.x_exp[0,1] == 1:\n",
    "            if P_temp.z_exp[0,1] == 0:\n",
    "                print(ini_s,' -> ','X')\n",
    "            else:\n",
    "                print(ini_s,' -> ','Y')\n",
    "\n",
    "        phases = P_temp.phases\n",
    "        if phases[0] == phases[1]:\n",
    "            print('Same Phase')\n",
    "        else:\n",
    "            print('Different Phase')\n",
    "    print()\n",
    "    print()\n",
    "    print()\n",
    "'''"
   ]
  },
  {
   "cell_type": "code",
   "execution_count": 265,
   "id": "c1957084",
   "metadata": {},
   "outputs": [
    {
     "name": "stdout",
     "output_type": "stream",
     "text": [
      "(1+0j)|x1z0 x1z0 | 1 \n",
      "(1+0j)|x0z1 x1z0 | 0 \n",
      "(1+0j)|x0z0 x1z1 | 0 \n",
      "(1+0j)|x0z0 x1z0 | 0 \n",
      "(1+0j)|x0z0 x0z1 | 0 \n",
      "(1+0j)|x1z0 x0z1 | 0 \n",
      "(1+0j)|x0z1 x0z1 | 0 \n",
      "\n",
      "\n",
      "(1+0j)|x1z0 x1z0 | 1 \n",
      "(1+0j)|x0z1 x1z0 | 1 \n",
      "(1+0j)|x0z0 x0z1 | 0 \n",
      "(1+0j)|x0z0 x1z0 | 1 \n",
      "(1+0j)|x0z0 x1z1 | 0 \n",
      "(1+0j)|x1z0 x1z1 | 0 \n",
      "(1+0j)|x0z1 x1z1 | 0 \n",
      "\n"
     ]
    }
   ],
   "source": [
    "p = PauliSum(['x1z0 x1z0', 'x0z1 x1z0', 'x0z0 x1z1','x0z0 x1z0','x0z0 x0z1','x1z0 x0z1','x0z1 x0z1'], dimensions=[2, 2], phases=[1,0,0,0,0,0,0],standardise=False)\n",
    "#c = Circuit(dimensions=[2,2],gates=[CX(0,1,2),S(0,2),S(1,2),CX(0,1,2),H(0,2),CX(1,0,2)])\n",
    "c = Circuit(dimensions=[2,2],gates=[CX(0,1,2),S(1,2),H(1,2),S(1,2),CX(0,1,2)])\n",
    "print(p)\n",
    "print()\n",
    "print(c.act(p))"
   ]
  },
  {
   "cell_type": "code",
   "execution_count": null,
   "id": "9b8f3982",
   "metadata": {},
   "outputs": [],
   "source": [
    "\n",
    "\n",
    "\n",
    "def Find_Hadamard_SymmetriesV1(P):\n",
    "    # Step 0\n",
    "    P1 = P.copy()\n",
    "    #print(P1)\n",
    "    cc = P1.weights\n",
    "    # Step 1, organize the coefficients into bands with the same absolute value\n",
    "    cc_abs = np.abs(cc)\n",
    "    cc_bands = group_indices(cc_abs)\n",
    "    cc_bands = [np.array(b) for b in cc_bands if len(b) > 1]\n",
    "\n",
    "    print(cc_bands)\n",
    "    print([cc[b[0]] for b in cc_bands])\n",
    "\n",
    "    for ib,b in enumerate(cc_bands):\n",
    "        for ic,pi in enumerate(b):\n",
    "            for jc,pj in enumerate(b[ic+1:]):\n",
    "                P1 = P.copy()\n",
    "                if not P1.is_commuting(pauli_string_indexes=(pi,pj)):\n",
    "                    print(f\"Band {ib}, Pauli {pi} and {pj} anti-commute\")\n",
    "                    #print()\n",
    "                    C, P1, px, pz = prepare_sym_candidates(P1,pi,pj)\n",
    "\n",
    "                    #print('Prepared:',pi,pj)\n",
    "                    #print(P1)\n",
    "                    #print()\n",
    "                    # cancel for pauli with x\n",
    "                    P1, C = cancel_pauli(P1, 0, px, C, P1.n_qudits())\n",
    "                    # cancel for pauli with z\n",
    "                    g = H(0, P.dimensions[0])\n",
    "                    C.add_gate(g)\n",
    "                    P1 = g.act(P1)\n",
    "                    P1, C = cancel_pauli(P1, 0, pz, C, P1.n_qudits())  \n",
    "                    g = H(0, P.dimensions[0])\n",
    "                    C.add_gate(g)\n",
    "                    P1 = g.act(P1)\n",
    "                    #print('Make X111... and Z111...')\n",
    "                    #print(P1)\n",
    "                    #print()\n",
    "\n",
    "                    # check if all other paulis in the first qubit have either id, Y, or x and z but with the same coefficients\n",
    "                    current_qubit_pauli_check = check_current_paulis(P1,pi,pj)\n",
    "                    #print('current_qubit_pauli_check',current_qubit_pauli_check)\n",
    "                    if not current_qubit_pauli_check:\n",
    "                        continue\n",
    "                    \n",
    "                    #print(pi,pj,'are candidates for Hadamard symmetry')\n",
    "                    \n",
    "                    # organize the remaining paulis to make detection of useful qubits easier\n",
    "                    for i in range(1,P1.n_qudits()):\n",
    "                        C, pivots = symplectic_reduction_iter_qudit_(P.copy(), C, [], i)\n",
    "                    P1 = C.act(P.copy())\n",
    "                    #print(P1)\n",
    "                    #print()\n",
    "\n",
    "                    # cancel the Y's in the first qubit\n",
    "                    P1 = remove_Ys(P1)\n",
    "                    #print()\n",
    "                    #print(P2)\n",
    "                    first_qubit_x = P2.x_exp[other_paulis,0]\n",
    "                    #print(first_qubit_x%2)\n",
    "                    if any(first_qubit_x%2):\n",
    "                        print('No Hadamard Symmetry')\n",
    "                    else:\n",
    "                        return(P2)\n",
    "                        # Erase phase\n",
    "                        #           "
   ]
  },
  {
   "cell_type": "code",
   "execution_count": 185,
   "id": "10d28ca7",
   "metadata": {},
   "outputs": [
    {
     "name": "stdout",
     "output_type": "stream",
     "text": [
      "(1+0j)|x1z0 x0z1 | 0 \n",
      "(1+0j)|x0z1 x0z1 | 0 \n",
      "(1+0j)|x0z0 x0z1 | 0 \n",
      "(1+0j)|x1z1 x1z0 | 0 \n",
      "(1+0j)|x0z0 x1z0 | 0 \n",
      "\n"
     ]
    }
   ],
   "source": [
    "start_pauli = PauliSum(['x1z0 x0z0', 'x0z1 x0z0','x0z0 x0z1','x0z0 x1z0', 'x1z1 x1z0'], dimensions=[2, 2], phases=[0,0,0,0,0],standardise=False)\n",
    "C = add_r2(start_pauli,0,1)\n",
    "print(C.act(start_pauli))"
   ]
  },
  {
   "cell_type": "code",
   "execution_count": null,
   "id": "c5d9c15c",
   "metadata": {},
   "outputs": [],
   "source": []
  }
 ],
 "metadata": {
  "kernelspec": {
   "display_name": "base",
   "language": "python",
   "name": "python3"
  },
  "language_info": {
   "codemirror_mode": {
    "name": "ipython",
    "version": 3
   },
   "file_extension": ".py",
   "mimetype": "text/x-python",
   "name": "python",
   "nbconvert_exporter": "python",
   "pygments_lexer": "ipython3",
   "version": "3.11.5"
  }
 },
 "nbformat": 4,
 "nbformat_minor": 5
}
