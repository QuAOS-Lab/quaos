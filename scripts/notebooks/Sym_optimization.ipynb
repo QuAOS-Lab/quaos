{
 "cells": [
  {
   "cell_type": "code",
   "execution_count": 3,
   "id": "3988ea86",
   "metadata": {},
   "outputs": [],
   "source": [
    "import sys\n",
    "sys.path.append(\"./\")\n",
    "import numpy as np\n",
    "from quaos.basic_functions import int_to_bases, bases_to_int,complex_phase_value\n",
    "from quaos.paulis import (PauliSum, PauliString, Pauli,)\n",
    "import sympy as sym\n",
    "from quaos.circuits import Gate, Circuit, Hadamard as H, SUM as CX, PHASE as S\n",
    "from collections import defaultdict\n",
    "from sympy.physics.quantum import TensorProduct,Operator\n",
    "import random\n",
    "from quaos.hamiltonian import *"
   ]
  },
  {
   "cell_type": "code",
   "execution_count": 2,
   "id": "1b059b67",
   "metadata": {},
   "outputs": [
    {
     "name": "stdout",
     "output_type": "stream",
     "text": [
      "(1+0j)|x0z0 x0z1 | 0 \n",
      "(1+0j)|x1z1 x1z0 | 0 \n",
      "\n"
     ]
    },
    {
     "ename": "NameError",
     "evalue": "name 'symmetry_cost_function' is not defined",
     "output_type": "error",
     "traceback": [
      "\u001b[1;31m---------------------------------------------------------------------------\u001b[0m",
      "\u001b[1;31mNameError\u001b[0m                                 Traceback (most recent call last)",
      "Cell \u001b[1;32mIn[2], line 5\u001b[0m\n\u001b[0;32m      3\u001b[0m C \u001b[38;5;241m=\u001b[39m Circuit([\u001b[38;5;241m2\u001b[39m,\u001b[38;5;241m2\u001b[39m],gates\u001b[38;5;241m=\u001b[39m[H(\u001b[38;5;241m0\u001b[39m,\u001b[38;5;241m2\u001b[39m)])\n\u001b[0;32m      4\u001b[0m \u001b[38;5;28mprint\u001b[39m(P)\n\u001b[1;32m----> 5\u001b[0m \u001b[38;5;28mprint\u001b[39m(symmetry_cost_function(P, C))\n",
      "\u001b[1;31mNameError\u001b[0m: name 'symmetry_cost_function' is not defined"
     ]
    }
   ],
   "source": [
    "P = random_pauli_hamiltonian(2, [2,2], mode='uniform', seed=None)\n",
    "#P1 = random_pauli_hamiltonian(4, [2,2], mode='uniform', seed=None)\n",
    "C = Circuit([2,2],gates=[H(0,2)])\n",
    "print(P)\n",
    "print(symmetry_cost_function(P, C))"
   ]
  },
  {
   "cell_type": "code",
   "execution_count": 87,
   "id": "0bce5989",
   "metadata": {},
   "outputs": [],
   "source": [
    "def symmetry_cost_function(P : PauliSum, C : Circuit|Gate):\n",
    "    P.weights = np.abs(P.weights)\n",
    "    P1 = C.act(P)\n",
    "    P1.phase_to_weight()\n",
    "    P_dict = {}\n",
    "    for i in range(P.n_paulis()):\n",
    "        P_dict[str(P[i])] = -np.abs(P.weights[i])\n",
    "    for i in range(P.n_paulis()):\n",
    "        if str(P1[i]) in P_dict.keys():\n",
    "            P_dict[str(P1[i])] += np.around(P1.weights[i].real,decimals=10)\n",
    "        else:\n",
    "            P_dict[str(P1[i])] = np.around(P1.weights[i].real,decimals=10)\n",
    "    cost = sum(abs(value) for value in P_dict.values())\n",
    "    return(cost)\n",
    "\n",
    "def symplectic_to_PauliSum(P_sym,weights):\n",
    "    n_q = int(P_sym.shape[1]/2)\n",
    "    n_p = int(P_sym.shape[0])\n",
    "    P = PauliSum([PauliString(np.array(P_sym[i,0:n_q],dtype=np.int32),np.array(P_sym[i,n_q:2*n_q],dtype=np.int32),dimensions=[2 for j in range(n_q)]) for i in range(n_p)],dimensions=[2 for j in range(n_q)], phases=None,weights=weights, standardise=False)\n",
    "    return(P)\n",
    "\n",
    "def M_to_cost(M,P,C):\n",
    "    P_sym = P.symplectic()\n",
    "    P_c = P_sym @ M.T\n",
    "    P_c_PS = symplectic_to_PauliSum(P_c,P.weights)\n",
    "    cost = symmetry_cost_function(P_c_PS, C)\n",
    "    return(cost)\n",
    "\n",
    "def symplectic_form(n):\n",
    "    \"\"\"Return the standard 2n x 2n symplectic form matrix.\"\"\"\n",
    "    I = np.identity(n, dtype=np.uint8)\n",
    "    O = np.zeros((n, n), dtype=np.uint8)\n",
    "    return np.block([\n",
    "        [O, I],\n",
    "        [I, O]\n",
    "    ])\n",
    "\n",
    "def symplectic_dot(u, v, J):\n",
    "    \"\"\"Symplectic inner product: u^T J v mod 2\"\"\"\n",
    "    return int(np.dot(u, J @ v) % 2)\n",
    "\n",
    "def random_isotropic_vector(J):\n",
    "    \"\"\"Generate a random vector v such that <v, v> = 0.\"\"\"\n",
    "    while True:\n",
    "        v = np.random.randint(0, 2, size=(J.shape[0],), dtype=np.uint8)\n",
    "        if symplectic_dot(v, v, J) == 0:\n",
    "            return v\n",
    "        \n",
    "def symplectic_transvection(v, J):\n",
    "    \"\"\"Return the matrix T_v(w) = w + <v, w> * v (mod 2).\"\"\"\n",
    "    v = v.reshape(-1, 1)\n",
    "    return (np.identity(len(v), dtype=np.uint8) + (J @ v) @ v.T) % 2\n",
    "\n",
    "def update_M(M):\n",
    "    n = int(M.shape[0]/2)\n",
    "    J = symplectic_form(n)\n",
    "    v = random_isotropic_vector(J)\n",
    "    Mv = symplectic_transvection(v, J)\n",
    "    M_res = Mv @ M % 2\n",
    "    return(M_res)\n",
    "\n",
    "def is_symplectic(M):\n",
    "    \"\"\"Check if M^T J M = J over GF(2).\"\"\"\n",
    "    J = symplectic_form(int(M.shape[0]/2))\n",
    "    left = (M.T @ J @ M) % 2\n",
    "    return np.array_equal(left, J)\n"
   ]
  },
  {
   "cell_type": "code",
   "execution_count": 88,
   "id": "cc34c1cc",
   "metadata": {},
   "outputs": [],
   "source": [
    "def simulated_annealing(P,C,step_max = 99,T_min = 10**(-4)):\n",
    "    #weights = P.weights\n",
    "    P_0 = P.symplectic()\n",
    "    M_0 = np.identity(2*P.n_qudits())\n",
    "    cost_0 = M_to_cost(M_0,P,C)\n",
    "    M_best = M_0\n",
    "    cost_best = cost_0\n",
    "    T = 1\n",
    "    alpha = (T_min)**(1/step_max)\n",
    "    for i in range(step_max):\n",
    "        T *= alpha\n",
    "        M_1 = update_M(M_0)\n",
    "        cost_1 = M_to_cost(M_1,P,C)\n",
    "        prob = min(1, np.exp(-(cost_1 - cost_0)/T))\n",
    "        if prob > np.random.rand():\n",
    "            M_0 = M_1\n",
    "            cost_0 = cost_1\n",
    "        \n",
    "        if cost_0 < cost_best:\n",
    "            M_best = M_0\n",
    "            cost_best = cost_0\n",
    "        \n",
    "        if cost_0 ==0:\n",
    "            return(M_0, symplectic_to_PauliSum(P_0 @ M_0.T,P.weights),cost_0)\n",
    "    \n",
    "    return(M_best, symplectic_to_PauliSum(P_0 @ M_best.T,P.weights),cost_best)\n",
    "    "
   ]
  },
  {
   "cell_type": "code",
   "execution_count": 94,
   "id": "65e09011",
   "metadata": {},
   "outputs": [
    {
     "name": "stdout",
     "output_type": "stream",
     "text": [
      "(1+0j)|x0z0 x0z0 | 0 \n",
      "(1+0j)|x0z0 x0z1 | 0 \n",
      "(1+0j)|x0z0 x1z0 | 0 \n",
      "(1+0j)|x0z1 x0z0 | 0 \n",
      "\n",
      "[[0. 1. 0. 0.]\n",
      " [1. 0. 0. 0.]\n",
      " [0. 0. 0. 1.]\n",
      " [0. 0. 1. 0.]]\n",
      "(1+0j)|x0z0 x0z0 | 0 \n",
      "(1+0j)|x0z1 x0z0 | 0 \n",
      "(1+0j)|x1z0 x0z0 | 0 \n",
      "(1+0j)|x0z0 x0z1 | 0 \n",
      "\n",
      "0.0\n"
     ]
    }
   ],
   "source": [
    "P = PauliSum(['x0z0 x0z0','x0z0 x0z1','x0z0 x1z0','x0z1 x0z0'],dimensions=[2,2],weights=[1,1,1,1],phases=[0,0,0,0],standardise=False)\n",
    "print(P)\n",
    "#weights = P.weights\n",
    "#P_sym = P.symplectic()\n",
    "#print(P_sym)\n",
    "#print(symplectic_to_PauliSum(P_sym,weights))\n",
    "C = Circuit([2,2],gates=[H(0,2)])\n",
    "M, P_sym, cost = simulated_annealing(P,C,step_max = 2000)\n",
    "print(M)\n",
    "print(P_sym)\n",
    "print(cost)"
   ]
  },
  {
   "cell_type": "code",
   "execution_count": 82,
   "id": "6d8e773f",
   "metadata": {},
   "outputs": [
    {
     "name": "stdout",
     "output_type": "stream",
     "text": [
      "1.0|x0z0 x0z0 | 0 \n",
      "1.0|x1z0 x0z1 | 0 \n",
      "1.0|x0z1 x0z1 | 0 \n",
      "1.0|x0z0 x0z1 | 0 \n",
      "\n",
      "(1+0j)|x0z0 x0z0 | 0 \n",
      "(1+0j)|x0z1 x0z1 | 0 \n",
      "(1+0j)|x1z0 x0z1 | 0 \n",
      "(1+0j)|x0z0 x0z1 | 0 \n",
      "\n",
      "{'x0z0 x0z0 ': 0.0, 'x1z0 x0z1 ': 0.0, 'x0z1 x0z1 ': 0.0, 'x0z0 x0z1 ': 0.0}\n"
     ]
    },
    {
     "data": {
      "text/plain": [
       "0.0"
      ]
     },
     "execution_count": 82,
     "metadata": {},
     "output_type": "execute_result"
    }
   ],
   "source": [
    "symmetry_cost_function(P_sym, C)"
   ]
  },
  {
   "cell_type": "code",
   "execution_count": 84,
   "id": "69754df2",
   "metadata": {},
   "outputs": [
    {
     "data": {
      "text/plain": [
       "0.9111627561154892"
      ]
     },
     "execution_count": 84,
     "metadata": {},
     "output_type": "execute_result"
    }
   ],
   "source": [
    "(10**(-4))**(1/99)"
   ]
  },
  {
   "cell_type": "code",
   "execution_count": 7,
   "id": "b69cf501",
   "metadata": {},
   "outputs": [
    {
     "name": "stdout",
     "output_type": "stream",
     "text": [
      "[[0 1 2]\n",
      " [3 4 5]\n",
      " [6 7 8]]\n",
      "[[0 3 6]\n",
      " [1 4 7]\n",
      " [2 5 8]]\n",
      "[[  5  14  23]\n",
      " [ 14  50  86]\n",
      " [ 23  86 149]]\n"
     ]
    }
   ],
   "source": [
    "A = np.arange(9).reshape(3,3)\n",
    "B = np.arange(9).reshape(3,3)\n",
    "print(A)\n",
    "print(B.T)\n",
    "print(A @ B.T)"
   ]
  },
  {
   "cell_type": "code",
   "execution_count": 81,
   "id": "d6b07427",
   "metadata": {},
   "outputs": [
    {
     "name": "stdout",
     "output_type": "stream",
     "text": [
      "Random symplectic matrix:\n",
      "[[0 1 1 0 0 1]\n",
      " [1 0 1 1 0 1]\n",
      " [0 1 0 1 1 1]\n",
      " [0 1 0 0 1 0]\n",
      " [0 0 0 1 0 0]\n",
      " [0 1 1 1 1 0]]\n"
     ]
    },
    {
     "data": {
      "text/plain": [
       "True"
      ]
     },
     "execution_count": 81,
     "metadata": {},
     "output_type": "execute_result"
    }
   ],
   "source": [
    "import numpy as np\n",
    "\n",
    "def symplectic_form(n):\n",
    "    \"\"\"Return the standard 2n x 2n symplectic form matrix.\"\"\"\n",
    "    I = np.identity(n, dtype=np.uint8)\n",
    "    O = np.zeros((n, n), dtype=np.uint8)\n",
    "    return np.block([\n",
    "        [O, I],\n",
    "        [I, O]\n",
    "    ])\n",
    "\n",
    "def symplectic_dot(u, v, J):\n",
    "    \"\"\"Symplectic inner product: u^T J v mod 2\"\"\"\n",
    "    return int(np.dot(u, J @ v) % 2)\n",
    "\n",
    "def symplectic_transvection(v, J):\n",
    "    \"\"\"Return the matrix T_v(w) = w + <v, w> * v (mod 2).\"\"\"\n",
    "    v = v.reshape(-1, 1)\n",
    "    return (np.identity(len(v), dtype=np.uint8) + (J @ v) @ v.T) % 2\n",
    "\n",
    "def random_isotropic_vector(J):\n",
    "    \"\"\"Generate a random vector v such that <v, v> = 0.\"\"\"\n",
    "    while True:\n",
    "        v = np.random.randint(0, 2, size=(J.shape[0],), dtype=np.uint8)\n",
    "        if symplectic_dot(v, v, J) == 0:\n",
    "            return v\n",
    "\n",
    "def generate_random_symplectic(n, num_transvections=None):\n",
    "    \"\"\"Generate a random element of Sp(2n, F2) using transvections.\"\"\"\n",
    "    J = symplectic_form(n)\n",
    "    dim = 2 * n\n",
    "    T = np.identity(dim, dtype=np.uint8)\n",
    "\n",
    "    if num_transvections is None:\n",
    "        num_transvections = 2 * dim  # reasonable default\n",
    "\n",
    "    for _ in range(num_transvections):\n",
    "        v = random_isotropic_vector(J)\n",
    "        Tv = symplectic_transvection(v, J)\n",
    "        T = Tv @ T % 2  # compose\n",
    "\n",
    "    return T\n",
    "\n",
    "# Example usage\n",
    "n = 3  # Sp(6, F2)\n",
    "M = generate_random_symplectic(n)\n",
    "print(\"Random symplectic matrix:\")\n",
    "print(M)\n",
    "\n",
    "def is_symplectic(M):\n",
    "    \"\"\"Check if M^T J M = J over GF(2).\"\"\"\n",
    "    J = symplectic_form(int(M.shape[0]/2))\n",
    "    left = (M.T @ J @ M) % 2\n",
    "    return np.array_equal(left, J)\n",
    "\n",
    "is_symplectic(M)"
   ]
  },
  {
   "cell_type": "code",
   "execution_count": 6,
   "id": "668b1875",
   "metadata": {},
   "outputs": [
    {
     "data": {
      "text/plain": [
       "(6, 6)"
      ]
     },
     "execution_count": 6,
     "metadata": {},
     "output_type": "execute_result"
    }
   ],
   "source": [
    "M.shape"
   ]
  },
  {
   "cell_type": "code",
   "execution_count": null,
   "id": "c61bfd34",
   "metadata": {},
   "outputs": [],
   "source": []
  }
 ],
 "metadata": {
  "kernelspec": {
   "display_name": "base",
   "language": "python",
   "name": "python3"
  },
  "language_info": {
   "codemirror_mode": {
    "name": "ipython",
    "version": 3
   },
   "file_extension": ".py",
   "mimetype": "text/x-python",
   "name": "python",
   "nbconvert_exporter": "python",
   "pygments_lexer": "ipython3",
   "version": "3.11.5"
  }
 },
 "nbformat": 4,
 "nbformat_minor": 5
}
