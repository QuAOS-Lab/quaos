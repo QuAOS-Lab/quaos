{
 "cells": [
  {
   "cell_type": "code",
   "execution_count": null,
   "id": "5995787e",
   "metadata": {},
   "outputs": [],
   "source": [
    "import numpy as np\n",
    "import matplotlib.pyplot as plt\n",
    "import math\n",
    "import timeit\n",
    "\n",
    "import os\n",
    "import sys\n",
    "root_path = os.getcwd() + \"/scripts/personal/rick\"\n",
    "sys.path.append(str(root_path))\n",
    "\n",
    "from prime_Functions_Andrew import *\n",
    "from prime_Functions_quditV2 import *\n",
    "np.set_printoptions(linewidth=200)"
   ]
  },
  {
   "cell_type": "code",
   "execution_count": 3,
   "id": "923455a3",
   "metadata": {},
   "outputs": [],
   "source": [
    "### Numerical Setup - constants\n",
    "## general\n",
    "shots = 12801\n",
    "part_func = weighted_vertex_covering_maximal_cliques\n",
    "full_simulation = True\n",
    "intermediate_results_list = [6,12,25,50,100,200,400,800,1600,3200,6400,12800]\n",
    "allocation_mode = 'set'\n",
    "\n",
    "## Monte-Carlo\n",
    "N = 500\n",
    "N_max = 2001\n",
    "mcmc_shot_scale = 0\n",
    "\n",
    "## analysis\n",
    "repeats = 4\n",
    "p_noise = 0.01\n",
    "\n",
    "### Numerical Setups - variable parameters\n",
    "general_commutation_options = [True,False]\n",
    "adaptive_options = [np.array([6,12,25,50,100,200,400,800,1600,3200,6400,12800,25600,51200,102400]),np.array([0])]"
   ]
  },
  {
   "cell_type": "code",
   "execution_count": 4,
   "id": "eb127b4e",
   "metadata": {},
   "outputs": [
    {
     "name": "stdout",
     "output_type": "stream",
     "text": [
      "repeat: 0\n",
      "Setting:  GC + adaptive\n"
     ]
    },
    {
     "name": "stderr",
     "output_type": "stream",
     "text": [
      "100%|███████████████████████████████████████████████████████████████████████████| 12801/12801 [00:53<00:00, 239.57it/s]\n"
     ]
    },
    {
     "name": "stdout",
     "output_type": "stream",
     "text": [
      "k 0\n",
      "k 1\n",
      "k 2\n",
      "k 3\n",
      "k 4\n",
      "k 5\n",
      "k 6\n",
      "k 7\n",
      "k 8\n",
      "k 9\n",
      "k 10\n",
      "k 11\n",
      "\n",
      "\n",
      "Setting:  GC + non-adaptive\n"
     ]
    },
    {
     "name": "stderr",
     "output_type": "stream",
     "text": [
      "100%|███████████████████████████████████████████████████████████████████████████| 12801/12801 [00:13<00:00, 919.08it/s]\n"
     ]
    },
    {
     "name": "stdout",
     "output_type": "stream",
     "text": [
      "k 0\n",
      "k 1\n",
      "k 2\n",
      "k 3\n",
      "k 4\n",
      "k 5\n",
      "k 6\n",
      "k 7\n",
      "k 8\n",
      "k 9\n",
      "k 10\n",
      "k 11\n",
      "\n",
      "\n",
      "Setting:  BC + adaptive\n"
     ]
    },
    {
     "name": "stderr",
     "output_type": "stream",
     "text": [
      "100%|██████████████████████████████████████████████████████████████████████████| 12801/12801 [00:08<00:00, 1475.96it/s]\n"
     ]
    },
    {
     "name": "stdout",
     "output_type": "stream",
     "text": [
      "k 0\n",
      "k 1\n",
      "k 2\n",
      "k 3\n",
      "k 4\n",
      "k 5\n",
      "k 6\n",
      "k 7\n",
      "k 8\n",
      "k 9\n",
      "k 10\n",
      "k 11\n",
      "\n",
      "\n",
      "Setting:  BC + non-adaptive\n"
     ]
    },
    {
     "name": "stderr",
     "output_type": "stream",
     "text": [
      "100%|██████████████████████████████████████████████████████████████████████████| 12801/12801 [00:06<00:00, 1921.80it/s]\n"
     ]
    },
    {
     "name": "stdout",
     "output_type": "stream",
     "text": [
      "k 0\n",
      "k 1\n",
      "k 2\n",
      "k 3\n",
      "k 4\n",
      "k 5\n",
      "k 6\n",
      "k 7\n",
      "k 8\n",
      "k 9\n",
      "k 10\n",
      "k 11\n",
      "\n",
      "\n",
      "Setting:  Andrew\n",
      "k 0\n",
      "k 1                                                                \n",
      "k 2                                                                  \n",
      "k 3                                                                  \n",
      "k 4                                                                  \n",
      "k 5                                                                   \n",
      "k 6                                                                    \n",
      "k 7                                                                    \n",
      "k 8                                                                    \n",
      "k 9                                                                      \n",
      "k 10                                                                     \n",
      "k 11                                                                     \n",
      "                                                                           \n",
      "\n",
      "Setting:  True Covariance\n"
     ]
    },
    {
     "data": {
      "application/vnd.jupyter.widget-view+json": {
       "model_id": "644fd553208749cbae4a77f7bdaba94b",
       "version_major": 2,
       "version_minor": 0
      },
      "text/plain": [
       "IntProgress(value=0, max=12)"
      ]
     },
     "metadata": {},
     "output_type": "display_data"
    },
    {
     "name": "stderr",
     "output_type": "stream",
     "text": [
      "100%|███████████████████████████████████████████████████████████████████████████| 12801/12801 [00:15<00:00, 835.46it/s]\n"
     ]
    },
    {
     "name": "stdout",
     "output_type": "stream",
     "text": [
      "k 0\n",
      "k 1\n",
      "k 2\n",
      "k 3\n",
      "k 4\n",
      "k 5\n",
      "k 6\n",
      "k 7\n",
      "k 8\n",
      "k 9\n",
      "k 10\n",
      "k 11\n",
      "\n",
      "Time Repeat 0 :  201.03031929999997\n",
      "\n",
      "\n",
      "\n",
      "repeat: 1\n",
      "Setting:  GC + adaptive\n"
     ]
    },
    {
     "name": "stderr",
     "output_type": "stream",
     "text": [
      "100%|███████████████████████████████████████████████████████████████████████████| 12801/12801 [00:29<00:00, 429.59it/s]\n"
     ]
    },
    {
     "name": "stdout",
     "output_type": "stream",
     "text": [
      "k 0\n",
      "k 1\n",
      "k 2\n",
      "k 3\n",
      "k 4\n",
      "k 5\n",
      "k 6\n",
      "k 7\n",
      "k 8\n",
      "k 9\n",
      "k 10\n",
      "k 11\n",
      "\n",
      "\n",
      "Setting:  GC + non-adaptive\n"
     ]
    },
    {
     "name": "stderr",
     "output_type": "stream",
     "text": [
      "100%|███████████████████████████████████████████████████████████████████████████| 12801/12801 [00:15<00:00, 827.08it/s]\n"
     ]
    },
    {
     "name": "stdout",
     "output_type": "stream",
     "text": [
      "k 0\n",
      "k 1\n",
      "k 2\n",
      "k 3\n",
      "k 4\n",
      "k 5\n",
      "k 6\n",
      "k 7\n",
      "k 8\n",
      "k 9\n",
      "k 10\n",
      "k 11\n",
      "\n",
      "\n",
      "Setting:  BC + adaptive\n"
     ]
    },
    {
     "name": "stderr",
     "output_type": "stream",
     "text": [
      "100%|██████████████████████████████████████████████████████████████████████████| 12801/12801 [00:09<00:00, 1406.72it/s]\n"
     ]
    },
    {
     "name": "stdout",
     "output_type": "stream",
     "text": [
      "k 0\n",
      "k 1\n",
      "k 2\n",
      "k 3\n",
      "k 4\n",
      "k 5\n",
      "k 6\n",
      "k 7\n",
      "k 8\n",
      "k 9\n",
      "k 10\n",
      "k 11\n",
      "\n",
      "\n",
      "Setting:  BC + non-adaptive\n"
     ]
    },
    {
     "name": "stderr",
     "output_type": "stream",
     "text": [
      "100%|██████████████████████████████████████████████████████████████████████████| 12801/12801 [00:07<00:00, 1680.36it/s]\n"
     ]
    },
    {
     "name": "stdout",
     "output_type": "stream",
     "text": [
      "k 0\n",
      "k 1\n",
      "k 2\n",
      "k 3\n",
      "k 4\n",
      "k 5\n",
      "k 6\n",
      "k 7\n",
      "k 8\n",
      "k 9\n",
      "k 10\n",
      "k 11\n",
      "\n",
      "\n",
      "Setting:  Andrew\n",
      "k 0\n",
      "k 1                                                                \n",
      "k 2                                                                  \n",
      "k 3                                                                  \n",
      "k 4                                                                  \n",
      "k 5                                                                   \n",
      "k 6                                                                    \n",
      "k 7                                                                    \n",
      "k 8                                                                    \n",
      "k 9                                                                      \n",
      "k 10                                                                     \n",
      "k 11                                                                     \n",
      "                                                                           \n",
      "\n",
      "Setting:  True Covariance\n"
     ]
    },
    {
     "data": {
      "application/vnd.jupyter.widget-view+json": {
       "model_id": "04203f345b46439d9c30e10c9d1e5ee5",
       "version_major": 2,
       "version_minor": 0
      },
      "text/plain": [
       "IntProgress(value=0, max=12)"
      ]
     },
     "metadata": {},
     "output_type": "display_data"
    },
    {
     "name": "stderr",
     "output_type": "stream",
     "text": [
      "100%|███████████████████████████████████████████████████████████████████████████| 12801/12801 [00:15<00:00, 823.47it/s]\n"
     ]
    },
    {
     "name": "stdout",
     "output_type": "stream",
     "text": [
      "k 0\n",
      "k 1\n",
      "k 2\n",
      "k 3\n",
      "k 4\n",
      "k 5\n",
      "k 6\n",
      "k 7\n",
      "k 8\n",
      "k 9\n",
      "k 10\n",
      "k 11\n",
      "\n",
      "Time Repeat 1 :  163.86039250000613\n",
      "\n",
      "\n",
      "\n",
      "repeat: 2\n",
      "Setting:  GC + adaptive\n"
     ]
    },
    {
     "name": "stderr",
     "output_type": "stream",
     "text": [
      "100%|███████████████████████████████████████████████████████████████████████████| 12801/12801 [00:27<00:00, 464.06it/s]\n"
     ]
    },
    {
     "name": "stdout",
     "output_type": "stream",
     "text": [
      "k 0\n",
      "k 1\n",
      "k 2\n",
      "k 3\n",
      "k 4\n",
      "k 5\n",
      "k 6\n",
      "k 7\n",
      "k 8\n",
      "k 9\n",
      "k 10\n",
      "k 11\n",
      "\n",
      "\n",
      "Setting:  GC + non-adaptive\n"
     ]
    },
    {
     "name": "stderr",
     "output_type": "stream",
     "text": [
      "100%|███████████████████████████████████████████████████████████████████████████| 12801/12801 [00:14<00:00, 872.61it/s]\n"
     ]
    },
    {
     "name": "stdout",
     "output_type": "stream",
     "text": [
      "k 0\n",
      "k 1\n",
      "k 2\n",
      "k 3\n",
      "k 4\n",
      "k 5\n",
      "k 6\n",
      "k 7\n",
      "k 8\n",
      "k 9\n",
      "k 10\n",
      "k 11\n",
      "\n",
      "\n",
      "Setting:  BC + adaptive\n"
     ]
    },
    {
     "name": "stderr",
     "output_type": "stream",
     "text": [
      "100%|██████████████████████████████████████████████████████████████████████████| 12801/12801 [00:09<00:00, 1336.92it/s]\n"
     ]
    },
    {
     "name": "stdout",
     "output_type": "stream",
     "text": [
      "k 0\n",
      "k 1\n",
      "k 2\n",
      "k 3\n",
      "k 4\n",
      "k 5\n",
      "k 6\n",
      "k 7\n",
      "k 8\n",
      "k 9\n",
      "k 10\n",
      "k 11\n",
      "\n",
      "\n",
      "Setting:  BC + non-adaptive\n"
     ]
    },
    {
     "name": "stderr",
     "output_type": "stream",
     "text": [
      "100%|██████████████████████████████████████████████████████████████████████████| 12801/12801 [00:06<00:00, 1835.99it/s]\n"
     ]
    },
    {
     "name": "stdout",
     "output_type": "stream",
     "text": [
      "k 0\n",
      "k 1\n",
      "k 2\n",
      "k 3\n",
      "k 4\n",
      "k 5\n",
      "k 6\n",
      "k 7\n",
      "k 8\n",
      "k 9\n",
      "k 10\n",
      "k 11\n",
      "\n",
      "\n",
      "Setting:  Andrew\n",
      "k 0\n",
      "k 1                                                                \n",
      "k 2                                                                  \n",
      "k 3                                                                  \n",
      "k 4                                                                  \n",
      "k 5                                                                   \n",
      "k 6                                                                    \n",
      "k 7                                                                    \n",
      "k 8                                                                    \n",
      "k 9                                                                      \n",
      "k 10                                                                     \n",
      "k 11                                                                     \n",
      "                                                                           \n",
      "\n",
      "Setting:  True Covariance\n"
     ]
    },
    {
     "data": {
      "application/vnd.jupyter.widget-view+json": {
       "model_id": "4981a5149c67490096d7819182d60821",
       "version_major": 2,
       "version_minor": 0
      },
      "text/plain": [
       "IntProgress(value=0, max=12)"
      ]
     },
     "metadata": {},
     "output_type": "display_data"
    },
    {
     "name": "stderr",
     "output_type": "stream",
     "text": [
      "100%|███████████████████████████████████████████████████████████████████████████| 12801/12801 [00:14<00:00, 854.98it/s]\n"
     ]
    },
    {
     "name": "stdout",
     "output_type": "stream",
     "text": [
      "k 0\n",
      "k 1\n",
      "k 2\n",
      "k 3\n",
      "k 4\n",
      "k 5\n",
      "k 6\n",
      "k 7\n",
      "k 8\n",
      "k 9\n",
      "k 10\n",
      "k 11\n",
      "\n",
      "Time Repeat 2 :  159.23597919999156\n",
      "\n",
      "\n",
      "\n",
      "repeat: 3\n",
      "Setting:  GC + adaptive\n"
     ]
    },
    {
     "name": "stderr",
     "output_type": "stream",
     "text": [
      "100%|███████████████████████████████████████████████████████████████████████████| 12801/12801 [00:28<00:00, 455.60it/s]\n"
     ]
    },
    {
     "name": "stdout",
     "output_type": "stream",
     "text": [
      "k 0\n",
      "k 1\n",
      "k 2\n",
      "k 3\n",
      "k 4\n",
      "k 5\n",
      "k 6\n",
      "k 7\n",
      "k 8\n",
      "k 9\n",
      "k 10\n",
      "k 11\n",
      "\n",
      "\n",
      "Setting:  GC + non-adaptive\n"
     ]
    },
    {
     "name": "stderr",
     "output_type": "stream",
     "text": [
      "100%|███████████████████████████████████████████████████████████████████████████| 12801/12801 [00:14<00:00, 878.50it/s]\n"
     ]
    },
    {
     "name": "stdout",
     "output_type": "stream",
     "text": [
      "k 0\n",
      "k 1\n",
      "k 2\n",
      "k 3\n",
      "k 4\n",
      "k 5\n",
      "k 6\n",
      "k 7\n",
      "k 8\n",
      "k 9\n",
      "k 10\n",
      "k 11\n",
      "\n",
      "\n",
      "Setting:  BC + adaptive\n"
     ]
    },
    {
     "name": "stderr",
     "output_type": "stream",
     "text": [
      "100%|██████████████████████████████████████████████████████████████████████████| 12801/12801 [00:09<00:00, 1411.68it/s]\n"
     ]
    },
    {
     "name": "stdout",
     "output_type": "stream",
     "text": [
      "k 0\n",
      "k 1\n",
      "k 2\n",
      "k 3\n",
      "k 4\n",
      "k 5\n",
      "k 6\n",
      "k 7\n",
      "k 8\n",
      "k 9\n",
      "k 10\n",
      "k 11\n",
      "\n",
      "\n",
      "Setting:  BC + non-adaptive\n"
     ]
    },
    {
     "name": "stderr",
     "output_type": "stream",
     "text": [
      "100%|██████████████████████████████████████████████████████████████████████████| 12801/12801 [00:06<00:00, 1908.86it/s]\n"
     ]
    },
    {
     "name": "stdout",
     "output_type": "stream",
     "text": [
      "k 0\n",
      "k 1\n",
      "k 2\n",
      "k 3\n",
      "k 4\n",
      "k 5\n",
      "k 6\n",
      "k 7\n",
      "k 8\n",
      "k 9\n",
      "k 10\n",
      "k 11\n",
      "\n",
      "\n",
      "Setting:  Andrew\n",
      "k 0\n",
      "k 1                                                                \n",
      "k 2                                                                  \n",
      "k 3                                                                  \n",
      "k 4                                                                  \n",
      "k 5                                                                   \n",
      "k 6                                                                    \n",
      "k 7                                                                    \n",
      "k 8                                                                    \n",
      "k 9                                                                      \n",
      "k 10                                                                     \n",
      "k 11                                                                     \n",
      "                                                                           \n",
      "\n",
      "Setting:  True Covariance\n"
     ]
    },
    {
     "data": {
      "application/vnd.jupyter.widget-view+json": {
       "model_id": "e6207b2fc5d5443d8ab9ff29011ed807",
       "version_major": 2,
       "version_minor": 0
      },
      "text/plain": [
       "IntProgress(value=0, max=12)"
      ]
     },
     "metadata": {},
     "output_type": "display_data"
    },
    {
     "name": "stderr",
     "output_type": "stream",
     "text": [
      "100%|███████████████████████████████████████████████████████████████████████████| 12801/12801 [00:15<00:00, 804.54it/s]\n"
     ]
    },
    {
     "name": "stdout",
     "output_type": "stream",
     "text": [
      "k 0\n",
      "k 1\n",
      "k 2\n",
      "k 3\n",
      "k 4\n",
      "k 5\n",
      "k 6\n",
      "k 7\n",
      "k 8\n",
      "k 9\n",
      "k 10\n",
      "k 11\n",
      "\n",
      "Time Repeat 3 :  161.93777859999682\n",
      "\n",
      "\n",
      "\n",
      "\n",
      "\n"
     ]
    }
   ],
   "source": [
    "### Hamiltonian\n",
    "#P,cc = read_luca_test_2(\"./Hamiltonians/\"+\"Hams\"+\"/\"+\"Periodic\"+\"/\"+ \"E_total_D3_Rick\" +\".txt\",dims=3)\n",
    "#P,cc = read_luca_test_2(\"./Hamiltonians/\"+\"Hams\"+\"/\"+\"Open\"+\"/\"+ \"D3\" +\".txt\",dims=[2,2,2,2,3])\n",
    "#P,cc = read_luca_test_2(\"./Hamiltonians/\"+\"Hams\"+\"/\"+\"Open\"+\"/\"+ \"full_D3_rev\" +\".txt\",dims=[3,2,2,2,2])\n",
    "P,cc = random_pauli_hamiltonian(20,[3,3,3])\n",
    "P,cc,pauli_block_sizes = sort_hamiltonian(P,cc)\n",
    "p,q = P.paulis(),P.qudits()\n",
    "psi = ground_state(P,cc)\n",
    "vg = variance_graph(P,cc,psi)\n",
    "\n",
    "# Simulation\n",
    "results = np.zeros((repeats,len(intermediate_results_list),6,4))\n",
    "settings = ['GC + adaptive', 'GC + non-adaptive', 'BC + adaptive', 'BC + non-adaptive','Andrew','True Covariance']\n",
    "\n",
    "for i_r in range(repeats):\n",
    "    print('repeat:',i_r)\n",
    "    start1 = timeit.default_timer()\n",
    "    i_setting = 0\n",
    "    \n",
    "    # all combination of settings\n",
    "    for general_commutation in general_commutation_options:\n",
    "        for update_steps in adaptive_options:\n",
    "            D = {}\n",
    "            print('Setting: ', settings[i_setting])\n",
    "            S,X,xxx,CG,X_list,S_list,D = bucket_filling_qudit(P,cc,psi,shots,part_func,pauli_block_sizes,\n",
    "                                                              full_simulation=full_simulation,update_steps=update_steps,\n",
    "                                                              general_commutation=general_commutation,D=D,\n",
    "                                                              M_list = intermediate_results_list,\n",
    "                                                              allocation_mode = allocation_mode,\n",
    "                                                              mcmc_shot_scale = mcmc_shot_scale,\n",
    "                                                              N_mcmc = N, N_mcmc_max = N_max,p_noise = p_noise,\n",
    "                                                              Q_progress_bar=False)\n",
    "            \n",
    "            for k,X in enumerate(X_list):\n",
    "                print('k',k)\n",
    "                S = S_list[k]\n",
    "                results[i_r,k,i_setting,0] = sum(cc[i0]*sum(X[i0,i0,i1]*math.e**(2*1j*math.pi*i1/P.lcm) for i1 in range(P.lcm))/sum(X[i0,i0,i1] for i1 in range(P.lcm)) if sum(X[i0,i0,i1] for i1 in range(P.lcm))>0 else 0 for i0 in range(p)).real\n",
    "                results[i_r,k,i_setting,1] = np.sqrt(np.sum(scale_variances(graph(bayes_covariance_graph(X,np.array(cc),CG.adj,p,pauli_block_sizes,int(P.lcm),N=N ,N_max=N_max)),S).adj)).real\n",
    "                results[i_r,k,i_setting,2] = np.sqrt(np.sum(scale_variances(vg,S).adj)).real\n",
    "                results[i_r,k,i_setting,3] = error_correction_estimation(P,cc,X,xxx[0:intermediate_results_list[k]],p_noise)\n",
    "                \n",
    "            i_setting += 1\n",
    "            print()\n",
    "            print()\n",
    "    \n",
    "    # AEQuO by Andrew\n",
    "    print('Setting: ', settings[i_setting])\n",
    "    update_steps = np.array([6,12,25,50,100,200,400,800,1600,3200,6400,12800,25600,51200,102400])\n",
    "    for k,M in enumerate(intermediate_results_list):\n",
    "        print('k',k)\n",
    "        S,X,xxx = bucket_filling_mod(P,cc,psi,M,part_func,update_steps=update_steps,repeats=(0,1),\n",
    "                                     full_simulation=True,general_commutation=True,best_possible=False)\n",
    "        results[i_r,k,i_setting,0] = sum(cc[i0]*sum(X[i0,i0][i1,i1]*math.e**(2*1j*math.pi*i1/P.lcm) for i1 in range(P.lcm))/sum(X[i0,i0][i1,i1] for i1 in range(P.lcm)) if sum(X[i0,i0][i1,i1] for i1 in range(P.lcm))>0 else 0 for i0 in range(p)).real\n",
    "        results[i_r,k,i_setting,1] = np.sqrt(np.sum(scale_variances(bayes_variance_graph(X,cc),S).adj)).real\n",
    "        results[i_r,k,i_setting,2] = np.sqrt(np.sum(scale_variances(vg,S).adj)).real\n",
    "    i_setting += 1\n",
    "    print()\n",
    "    print()\n",
    "    \n",
    "    # Allocating according to true covariance\n",
    "    print('Setting: ', settings[i_setting])\n",
    "    S,X,xxx,CG,X_list,S_list,D = bucket_filling_qudit(P,cc,psi,shots,part_func,pauli_block_sizes,\n",
    "                                                      full_simulation=True,update_steps=update_steps,\n",
    "                                                      general_commutation=True,D={},\n",
    "                                                      allocation_mode = allocation_mode,\n",
    "                                                      M_list = intermediate_results_list,\n",
    "                                                      mcmc_shot_scale = mcmc_shot_scale, best_possible=True,\n",
    "                                                      N_mcmc = N, N_mcmc_max = N_max,Q_progress_bar=False)\n",
    "\n",
    "    for k,X in enumerate(X_list):\n",
    "        print('k',k)\n",
    "        S = S_list[k]\n",
    "        results[i_r,k,i_setting,0] = sum(cc[i0]*sum(X[i0,i0,i1]*math.e**(2*1j*math.pi*i1/P.lcm) for i1 in range(P.lcm))/sum(X[i0,i0,i1] for i1 in range(P.lcm)) if sum(X[i0,i0,i1] for i1 in range(P.lcm))>0 else 0 for i0 in range(p)).real\n",
    "        results[i_r,k,i_setting,1] = np.sqrt(np.sum(scale_variances(graph(bayes_covariance_graph(X,np.array(cc),CG.adj,p,pauli_block_sizes,int(P.lcm),N=N ,N_max=N_max)),S).adj)).real\n",
    "        results[i_r,k,i_setting,2] = np.sqrt(np.sum(scale_variances(vg,S).adj)).real\n",
    "        results[i_r,k,i_setting,3] = error_correction_estimation(P,cc,X,xxx,p_noise)\n",
    "        \n",
    "    stop1 = timeit.default_timer()\n",
    "    print()\n",
    "    print('Time Repeat '+ str(i_r) +' : ',stop1-start1)\n",
    "    print()\n",
    "    print()\n",
    "    print()\n",
    "    \n",
    "np.save(\"Random\"+\"D3\"+\"Noise=001_Results\"+\"N\"+str(shots), results)\n",
    "print()\n",
    "print()"
   ]
  },
  {
   "cell_type": "code",
   "execution_count": 5,
   "id": "83eca5b6",
   "metadata": {},
   "outputs": [
    {
     "data": {
      "image/png": "[encoded data removed]",
      "text/plain": [
       "<Figure size 900x900 with 6 Axes>"
      ]
     },
     "metadata": {},
     "output_type": "display_data"
    }
   ],
   "source": [
    "x_dat = intermediate_results_list\n",
    "y_dat = np.zeros((6,len(intermediate_results_list)))\n",
    "y_err_dat = np.zeros((6,len(intermediate_results_list)))\n",
    "\n",
    "n_plot = [0,1,2,3,4,5]\n",
    "H_mean = Hamiltonian_Mean(P,cc,psi).real\n",
    "\n",
    "fig, ax = plt.subplots(ncols=2,nrows=3,figsize=(9,9))\n",
    "\n",
    "for i in n_plot: \n",
    "    for j in range(len(intermediate_results_list)): \n",
    "        y_dat[i,j] = np.mean(np.abs(results[:,j,i,0] - H_mean))\n",
    "        y_err_dat[i,j] = np.sqrt(np.mean(results[:,j,i,1]**2 + results[:,j,i,3]))\n",
    "\n",
    "        \n",
    "for i in n_plot:\n",
    "    ax[i//2,i%2].errorbar(x_dat[0:], y_dat[i,0:], yerr=y_err_dat[i,0:], fmt='o',ecolor='k',\n",
    "                 capsize=1,capthick=0.75,markersize=5,elinewidth=0.75,label=settings[i])\n",
    "\n",
    "    ax[i//2,i%2].set_xscale('log')\n",
    "    ax[i//2,i%2].set_ylabel(r'$\\tilde{O}$')\n",
    "    ax[i//2,i%2].set_xlabel(r'shots $M$')\n",
    "    ax[i//2,i%2].set_title(settings[i])\n",
    "    ax[i//2,i%2].plot([x_dat[0],x_dat[-1]],[0,0],'k--')\n",
    "    \n",
    "plt.tight_layout(pad=1, w_pad=1, h_pad=1)\n",
    "plt.show()"
   ]
  },
  {
   "cell_type": "code",
   "execution_count": 6,
   "id": "2bff6511",
   "metadata": {},
   "outputs": [
    {
     "data": {
      "image/png": "[encoded data removed]",
      "text/plain": [
       "<Figure size 900x900 with 6 Axes>"
      ]
     },
     "metadata": {},
     "output_type": "display_data"
    }
   ],
   "source": [
    "x_dat = intermediate_results_list\n",
    "y_dat = np.zeros((6,len(intermediate_results_list)))\n",
    "y_err_dat = np.zeros((6,len(intermediate_results_list)))\n",
    "\n",
    "n_plot = [0,1,2,3,4,5]\n",
    "H_mean = Hamiltonian_Mean(P,cc,psi).real\n",
    "\n",
    "fig, ax = plt.subplots(ncols=2,nrows=3,figsize=(9,9))\n",
    "\n",
    "for i in n_plot: \n",
    "    for j in range(len(intermediate_results_list)): \n",
    "        y_dat[i,j] = np.mean((results[:,j,i,1]**2 + results[:,j,i,3]) * intermediate_results_list[j]/ (H_mean)**2)  \n",
    "        y_err_dat[i,j] = np.std((results[:,j,i,1]**2 + results[:,j,i,3]) * intermediate_results_list[j] / (H_mean)**2) \n",
    "\n",
    "    \n",
    "y_true_dat = np.zeros((6,len(intermediate_results_list)))\n",
    "y_true_err_dat = np.zeros((6,len(intermediate_results_list)))\n",
    "for i in n_plot: \n",
    "    for j in range(len(intermediate_results_list)): \n",
    "        y_true_dat[i,j] = np.mean(results[:,j,i,2]**2 * intermediate_results_list[j]/ (H_mean)**2)  \n",
    "        y_true_err_dat[i,j] = np.std(results[:,j,i,2]**2 * intermediate_results_list[j] / (H_mean)**2)\n",
    "        \n",
    "for i in n_plot:\n",
    "    ax[i//2,i%2].errorbar(x_dat[:], y_true_dat[i,:], yerr=y_true_err_dat[i,:], fmt='s',ecolor='k',\n",
    "                 capsize=1,capthick=0.75,markersize=5,elinewidth=0.75,label=settings[i] + ' True Error')\n",
    "    ax[i//2,i%2].set_xscale('log')\n",
    "    ax[i//2,i%2].set_ylabel(r'$M \\, \\frac{(\\Delta \\tilde{O})^2}{\\tilde{O}^2}$')\n",
    "    ax[i//2,i%2].set_xlabel(r'shots $M$')\n",
    "    ax[i//2,i%2].set_title(settings[i])\n",
    "    \n",
    "for i in n_plot:\n",
    "    ax[i//2,i%2].errorbar(x_dat[:], y_dat[i,:], yerr=y_err_dat[i,:], fmt='o',ecolor='k',\n",
    "                 capsize=1,capthick=0.75,markersize=5,elinewidth=0.75,label=settings[i])\n",
    "    \n",
    "plt.tight_layout(pad=1, w_pad=1, h_pad=1)\n",
    "plt.show()"
   ]
  },
  {
   "cell_type": "code",
   "execution_count": null,
   "id": "5e29e755",
   "metadata": {},
   "outputs": [],
   "source": []
  }
 ],
 "metadata": {
  "kernelspec": {
   "display_name": "venv",
   "language": "python",
   "name": "python3"
  },
  "language_info": {
   "codemirror_mode": {
    "name": "ipython",
    "version": 3
   },
   "file_extension": ".py",
   "mimetype": "text/x-python",
   "name": "python",
   "nbconvert_exporter": "python",
   "pygments_lexer": "ipython3",
   "version": "3.11.9"
  }
 },
 "nbformat": 4,
 "nbformat_minor": 5
}
