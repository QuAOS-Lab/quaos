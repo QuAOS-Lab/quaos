{
 "cells": [
  {
   "cell_type": "code",
   "execution_count": 1,
   "id": "200cdcfd",
   "metadata": {},
   "outputs": [],
   "source": [
    "import numpy as np\n",
    "from quaos.symplectic import PauliSum, PauliString, Pauli, Xnd, Ynd, Znd, Id, string_to_symplectic, symplectic_to_string\n",
    "from quaos.gates import GateOperation, Circuit, Hadamard as H, SUM as CX, PHASE as S\n",
    "from quaos.hamiltonian import *\n",
    "from quaos.core.prime_Functions_Andrew import int_to_bases\n",
    "from collections import defaultdict"
   ]
  },
  {
   "cell_type": "code",
   "execution_count": 40,
   "id": "dc684609",
   "metadata": {},
   "outputs": [],
   "source": [
    "def group_indices(lst):\n",
    "    \"\"\"\n",
    "    Groups indices of the same value in a list into sublists.\n",
    "    For example, if the input list is [1, 2, 1, 3, 2], the output will be [[0, 2], [1, 4], [3]].\n",
    "    \"\"\"\n",
    "    index_dict = defaultdict(list)\n",
    "    for idx, value in enumerate(lst):\n",
    "        index_dict[value].append(idx)\n",
    "    \n",
    "    return [indices for indices in index_dict.values()]\n",
    "\n",
    "\n",
    "def Hadamard_Symmetric_PauliSum(n_paulis,n_qubits,n_sym_q):\n",
    "    # create coefficients\n",
    "    c_int_bands = np.sort(np.random.randint(n_paulis,size=n_paulis))\n",
    "    c_bands = group_indices(c_int_bands)\n",
    "\n",
    "    coefficients = np.zeros(n_paulis)\n",
    "    sym_bands = []\n",
    "    for i,b in enumerate(c_bands):\n",
    "        coefficients[b] = np.random.normal(0, 1)\n",
    "        if len(b) != 1:\n",
    "            sym_bands.append(b)\n",
    "\n",
    "    #print(sym_bands)\n",
    "    n_extra_bands = np.floor(np.sum([len(b) for b in sym_bands])/2 - n_sym_q)\n",
    "    pauli_strings = ['' for i in range(n_paulis)]\n",
    "\n",
    "    all_x = []\n",
    "    all_z = []\n",
    "    for i in range(n_sym_q):\n",
    "        x_pauli = []\n",
    "        z_pauli = []\n",
    "        if len(sym_bands) >= 1:\n",
    "            b_ind = np.random.randint(len(sym_bands))\n",
    "            b = sym_bands[b_ind]\n",
    "            x_ind = np.random.randint(len(b))\n",
    "            x_pauli.append(b[x_ind])\n",
    "            b.pop(x_ind)\n",
    "            z_ind = np.random.randint(len(b))\n",
    "            z_pauli.append(b[z_ind])\n",
    "            b.pop(z_ind)\n",
    "            if len(b) < 2:\n",
    "                sym_bands.pop(b_ind)\n",
    "            else:\n",
    "                sym_bands[b_ind] = b\n",
    "\n",
    "            # randomly adding extra x and zs if possible\n",
    "            if n_extra_bands > 0 and len(sym_bands) >= 1:\n",
    "                extras = np.random.randint(n_extra_bands)\n",
    "                n_extra_bands -= extras\n",
    "                for j in range(extras):\n",
    "                    b_ind = np.random.randint(len(sym_bands))\n",
    "                    b = sym_bands[b_ind]\n",
    "                    x_ind = np.random.randint(len(b))\n",
    "                    x_pauli.append(b[x_ind])\n",
    "                    b.pop(x_ind)\n",
    "                    z_ind = np.random.randint(len(b))\n",
    "                    z_pauli.append(b[z_ind])\n",
    "                    b.pop(z_ind)\n",
    "                    if len(b) < 2:\n",
    "                        sym_bands.pop(b_ind)\n",
    "                    else:\n",
    "                        sym_bands[b_ind] = b\n",
    "        print(coefficients[x_pauli])\n",
    "        for j in range(n_paulis):\n",
    "            if j in x_pauli:\n",
    "                pauli_strings[j] += 'x1z0 '\n",
    "            elif j in z_pauli:\n",
    "                pauli_strings[j] += 'x0z1 '\n",
    "            else:\n",
    "                pauli_strings[j] += 'x0z0 '\n",
    "        all_x += x_pauli\n",
    "        all_z += z_pauli\n",
    "    print(all_x,all_z)\n",
    "    non_sym_paulis = [i for i in range(n_paulis) if not i in all_x and not i in all_z]\n",
    "    q_dims = [2 for i in range(2*(n_qubits-n_sym_q))]\n",
    "    available_paulis = list(np.arange(int(np.prod(q_dims))))\n",
    "    for i,x in enumerate(all_x):\n",
    "        pauli_index = np.random.choice(available_paulis)\n",
    "        available_paulis.remove(pauli_index)\n",
    "        exponents = int_to_bases(pauli_index, q_dims)\n",
    "        for j in range(n_qubits-n_sym_q):\n",
    "            r, s = int(exponents[2*j]), int(exponents[2*j+1])\n",
    "            pauli_strings[x] += f\"x{r}z{s} \"\n",
    "            pauli_strings[all_z[i]] += f\"x{r}z{s} \"\n",
    "\n",
    "        pauli_strings[x].strip()\n",
    "        pauli_strings[all_z[i]].strip()\n",
    "\n",
    "    for i in non_sym_paulis:\n",
    "        pauli_index = np.random.choice(available_paulis)\n",
    "        available_paulis.remove(pauli_index)\n",
    "        exponents = int_to_bases(pauli_index, q_dims)\n",
    "        for j in range(n_qubits-n_sym_q):\n",
    "            r, s = int(exponents[2*j]), int(exponents[2*j+1])\n",
    "            pauli_strings[i] += f\"x{r}z{s} \"\n",
    "        pauli_strings[i].strip()\n",
    "\n",
    "    P = PauliSum(pauli_strings, weights=coefficients ,dimensions=[2 for i in range(n_qubits)], phases=None,standardise=False)\n",
    "    #print(P)\n",
    "\n",
    "    # construct random Clifford circuit\n",
    "    C = Circuit(dimensions=[2 for i in range(n_qubits)])\n",
    "    gate_list = [H,S,CX]\n",
    "    gg = []\n",
    "    for i in range(100):\n",
    "        g_i = np.random.randint(3)\n",
    "        if g_i == 2:\n",
    "            aa = list(random.sample(range(n_qubits), 2))\n",
    "            gg += [gate_list[g_i](aa[0],aa[1],2)]\n",
    "            #print(aa)\n",
    "        else:\n",
    "            aa = list(random.sample(range(n_qubits), 1))\n",
    "            gg += [gate_list[g_i](aa[0],2)]\n",
    "        \n",
    "    C.add_gate(gg)\n",
    "    P = C.act(P)\n",
    "\n",
    "    phases = P.phases\n",
    "    cc = P.weights\n",
    "    ss = P.pauli_strings\n",
    "    dims = P.dimensions\n",
    "\n",
    "    cc *= np.array([-1]*n_paulis)**phases\n",
    "    P = PauliSum(ss, weights=cc ,dimensions=dims, phases=None,standardise=False)\n",
    "\n",
    "    # qubits shuffle qubits (Fisher Yates Shuffle)\n",
    "    '''\n",
    "    gg = []\n",
    "    order = np.arange(n_qubits)\n",
    "    for i in np.arange(n_qubits)[::-1]:\n",
    "        j = np.random.randint(i+1)\n",
    "        gg += [GateOperation('SWAP',(i,j),['x1z0 x0z0 -> x0z0 x1z0', 'x0z1 x0z0 -> x0z0 x0z1', 'x0z0 x1z0 -> x1z0 x0z0', 'x0z0 x0z1 -> x0z1 x0z0'],2)]\n",
    "        a = int(order[i])\n",
    "        b = int(order[j])\n",
    "        order[i] = b\n",
    "        order[j] = a\n",
    "        \n",
    "    for g in gg:\n",
    "        P = g.act(P)\n",
    "    sym_qubit_ind = []\n",
    "    for i in range(n_qubits):\n",
    "        if order[i] in np.arange(n_sym_q):\n",
    "            sym_qubit_ind.append(i)\n",
    "    '''\n",
    "    #print('Symmetric qubits: ',sym_qubit_ind)\n",
    "    #print(P)\n",
    "    return(P,C)"
   ]
  },
  {
   "cell_type": "code",
   "execution_count": 41,
   "id": "5342aa89",
   "metadata": {},
   "outputs": [
    {
     "name": "stdout",
     "output_type": "stream",
     "text": [
      "[0.7045302]\n",
      "[-0.15249417  1.75883704 -1.00697346]\n",
      "[-0.44596225 -0.08799128]\n",
      "[16, 10, 5, 13, 20, 24] [15, 11, 4, 12, 19, 23]\n",
      "(0.3274779150742539+0j)  |x1z1 x0z1 x0z0 x0z0 x0z1 x1z0 x1z1 x1z1 | 0 \n",
      "(-0.3274779150742539+0j) |x0z0 x1z1 x1z1 x0z1 x0z1 x0z1 x1z0 x0z1 | 0 \n",
      "(-1.244134632880335+0j)  |x0z1 x0z1 x0z1 x0z0 x0z0 x0z1 x1z1 x0z0 | 0 \n",
      "(-1.8812064255478391+0j) |x1z1 x1z0 x1z1 x1z1 x0z1 x1z1 x0z1 x1z0 | 0 \n",
      "(-1.758837041027654+0j)  |x0z0 x0z0 x1z1 x1z1 x0z1 x0z0 x0z1 x0z0 | 0 \n",
      "(-1.758837041027654+0j)  |x1z0 x1z1 x0z1 x1z1 x0z1 x0z1 x0z0 x0z0 | 0 \n",
      "(-1.2444858396713532+0j) |x0z0 x0z1 x0z0 x0z0 x0z0 x1z0 x0z0 x0z1 | 0 \n",
      "(0.4204521766476641-0j)  |x0z1 x1z0 x0z1 x0z0 x0z1 x1z1 x0z1 x0z0 | 0 \n",
      "(0.4204521766476641-0j)  |x0z1 x0z0 x1z1 x1z1 x0z1 x1z0 x1z1 x0z0 | 0 \n",
      "(0.15249416737696-0j)    |x0z1 x0z1 x0z1 x1z1 x0z0 x1z1 x0z1 x1z0 | 0 \n",
      "(-0.15249416737696+0j)   |x1z0 x0z1 x1z0 x1z0 x0z0 x0z0 x0z0 x0z0 | 0 \n",
      "(0.15249416737696-0j)    |x0z0 x1z0 x0z0 x1z0 x0z0 x0z1 x0z1 x0z0 | 0 \n",
      "(1.0069734561494248-0j)  |x0z0 x0z1 x1z1 x1z0 x0z1 x1z1 x0z1 x0z0 | 0 \n",
      "(-1.0069734561494248+0j) |x1z0 x1z0 x0z1 x1z0 x0z1 x1z0 x0z0 x0z0 | 0 \n",
      "(1.1642046511404236-0j)  |x1z1 x1z1 x0z0 x1z0 x0z1 x0z0 x1z1 x1z0 | 0 \n",
      "(-0.7045301964004325+0j) |x1z1 x0z1 x1z1 x0z0 x0z1 x0z1 x1z1 x0z0 | 0 \n",
      "(-0.7045301964004325+0j) |x1z1 x1z1 x1z1 x0z1 x1z0 x1z1 x1z1 x1z1 | 0 \n",
      "(-1.55442009870527+0j)   |x0z1 x0z0 x0z1 x0z1 x0z0 x1z0 x1z1 x0z0 | 0 \n",
      "(0.29903639973657975+0j) |x1z0 x0z1 x0z1 x1z1 x0z1 x0z1 x0z0 x0z0 | 0 \n",
      "(0.44596225182545085-0j) |x1z0 x1z1 x1z1 x1z0 x0z1 x1z0 x0z0 x0z1 | 0 \n",
      "(0.44596225182545085-0j) |x1z0 x1z1 x0z1 x1z0 x0z1 x0z1 x1z1 x1z1 | 0 \n",
      "(-0.08799128231168264+0j)|x0z1 x0z1 x0z0 x0z1 x0z0 x1z0 x1z1 x0z1 | 0 \n",
      "(-0.08799128231168264+0j)|x1z0 x0z1 x1z1 x1z0 x0z1 x1z0 x1z0 x0z1 | 0 \n",
      "(-0.08799128231168264+0j)|x1z1 x1z1 x0z0 x1z0 x0z1 x1z1 x0z1 x0z0 | 0 \n",
      "(0.08799128231168264-0j) |x1z1 x1z1 x1z0 x1z0 x0z1 x0z0 x1z0 x1z0 | 0 \n",
      "\n"
     ]
    }
   ],
   "source": [
    "P,C = Hadamard_Symmetric_PauliSum(25,8,3)\n",
    "print(P)"
   ]
  },
  {
   "cell_type": "code",
   "execution_count": null,
   "id": "5ebd1a1e",
   "metadata": {},
   "outputs": [
    {
     "name": "stdout",
     "output_type": "stream",
     "text": [
      "(0.3274779150742539+0j)  |x1z1 x0z1 x0z0 x0z0 x0z1 x1z0 x1z1 x1z1 | 0 \n",
      "(-0.3274779150742539+0j) |x0z0 x1z1 x1z1 x0z1 x0z1 x0z1 x1z0 x0z1 | 0 \n",
      "(-1.244134632880335+0j)  |x0z1 x0z1 x0z1 x0z0 x0z0 x0z1 x1z1 x0z0 | 0 \n",
      "(-1.8812064255478391+0j) |x1z1 x1z0 x1z1 x1z1 x0z1 x1z1 x0z1 x1z0 | 0 \n",
      "(-1.758837041027654+0j)  |x0z0 x0z0 x1z1 x1z1 x0z1 x0z0 x0z1 x0z0 | 0 \n",
      "(-1.758837041027654+0j)  |x1z0 x1z1 x0z1 x1z1 x0z1 x0z1 x0z0 x0z0 | 0 \n",
      "(-1.2444858396713532+0j) |x0z0 x0z1 x0z0 x0z0 x0z0 x1z0 x0z0 x0z1 | 0 \n",
      "(0.4204521766476641-0j)  |x0z1 x1z0 x0z1 x0z0 x0z1 x1z1 x0z1 x0z0 | 0 \n",
      "(0.4204521766476641-0j)  |x0z1 x0z0 x1z1 x1z1 x0z1 x1z0 x1z1 x0z0 | 0 \n",
      "(0.15249416737696-0j)    |x0z1 x0z1 x0z1 x1z1 x0z0 x1z1 x0z1 x1z0 | 0 \n",
      "(-0.15249416737696+0j)   |x1z0 x0z1 x1z0 x1z0 x0z0 x0z0 x0z0 x0z0 | 0 \n",
      "(0.15249416737696-0j)    |x0z0 x1z0 x0z0 x1z0 x0z0 x0z1 x0z1 x0z0 | 0 \n",
      "(1.0069734561494248-0j)  |x0z0 x0z1 x1z1 x1z0 x0z1 x1z1 x0z1 x0z0 | 0 \n",
      "(-1.0069734561494248+0j) |x1z0 x1z0 x0z1 x1z0 x0z1 x1z0 x0z0 x0z0 | 0 \n",
      "(1.1642046511404236-0j)  |x1z1 x1z1 x0z0 x1z0 x0z1 x0z0 x1z1 x1z0 | 0 \n",
      "(-0.7045301964004325+0j) |x1z1 x0z1 x1z1 x0z0 x0z1 x0z1 x1z1 x0z0 | 0 \n",
      "(-0.7045301964004325+0j) |x1z1 x1z1 x1z1 x0z1 x1z0 x1z1 x1z1 x1z1 | 0 \n",
      "(-1.55442009870527+0j)   |x0z1 x0z0 x0z1 x0z1 x0z0 x1z0 x1z1 x0z0 | 0 \n",
      "(0.29903639973657975+0j) |x1z0 x0z1 x0z1 x1z1 x0z1 x0z1 x0z0 x0z0 | 0 \n",
      "(0.44596225182545085-0j) |x1z0 x1z1 x1z1 x1z0 x0z1 x1z0 x0z0 x0z1 | 0 \n",
      "(0.44596225182545085-0j) |x1z0 x1z1 x0z1 x1z0 x0z1 x0z1 x1z1 x1z1 | 0 \n",
      "(-0.08799128231168264+0j)|x0z1 x0z1 x0z0 x0z1 x0z0 x1z0 x1z1 x0z1 | 0 \n",
      "(-0.08799128231168264+0j)|x1z0 x0z1 x1z1 x1z0 x0z1 x1z0 x1z0 x0z1 | 0 \n",
      "(-0.08799128231168264+0j)|x1z1 x1z1 x0z0 x1z0 x0z1 x1z1 x0z1 x0z0 | 0 \n",
      "(0.08799128231168264-0j) |x1z1 x1z1 x1z0 x1z0 x0z1 x0z0 x1z0 x1z0 | 0 \n",
      "\n",
      "(0.3274779150742539+0j)  |x1z1 x0z0 x1z1 x0z0 x0z0 x1z1 x0z0 x1z1 | 1 \n",
      "(-0.3274779150742539+0j) |x0z0 x1z1 x1z1 x0z1 x0z1 x0z1 x1z0 x0z1 | 0 \n",
      "(-1.244134632880335+0j)  |x0z0 x0z1 x0z1 x0z0 x0z0 x0z1 x1z1 x0z0 | 0 \n",
      "(-1.8812064255478391+0j) |x1z1 x1z1 x0z0 x1z1 x0z0 x1z0 x1z0 x1z0 | 0 \n",
      "(-1.758837041027654+0j)  |x0z1 x0z0 x1z1 x1z1 x0z1 x0z0 x0z1 x0z0 | 0 \n",
      "(-1.758837041027654+0j)  |x1z1 x1z0 x1z0 x1z1 x0z0 x0z0 x1z1 x0z0 | 1 \n",
      "(-1.2444858396713532+0j) |x0z1 x0z1 x0z0 x0z0 x0z0 x1z0 x0z0 x0z1 | 0 \n",
      "(0.4204521766476641-0j)  |x0z1 x1z0 x0z1 x0z0 x0z1 x1z1 x0z1 x0z0 | 0 \n",
      "(0.4204521766476641-0j)  |x0z0 x0z0 x1z1 x1z1 x0z1 x1z0 x1z1 x0z0 | 0 \n",
      "(0.15249416737696-0j)    |x0z0 x0z1 x0z1 x1z1 x0z0 x1z1 x0z1 x1z0 | 0 \n",
      "(-0.15249416737696+0j)   |x1z0 x0z0 x0z1 x1z0 x0z1 x0z1 x1z1 x0z0 | 0 \n",
      "(0.15249416737696-0j)    |x0z0 x1z0 x0z0 x1z0 x0z0 x0z1 x0z1 x0z0 | 0 \n",
      "(1.0069734561494248-0j)  |x0z0 x0z1 x1z1 x1z0 x0z1 x1z1 x0z1 x0z0 | 0 \n",
      "(-1.0069734561494248+0j) |x1z0 x1z1 x1z0 x1z0 x0z0 x1z1 x1z1 x0z0 | 1 \n",
      "(1.1642046511404236-0j)  |x1z1 x1z0 x1z1 x1z0 x0z0 x0z1 x0z0 x1z0 | 1 \n",
      "(-0.7045301964004325+0j) |x1z0 x0z0 x0z0 x0z0 x0z0 x0z0 x0z0 x0z0 | 0 \n",
      "(-0.7045301964004325+0j) |x1z1 x1z0 x0z0 x0z1 x1z1 x1z0 x0z0 x1z1 | 0 \n",
      "(-1.55442009870527+0j)   |x0z1 x0z0 x0z1 x0z1 x0z0 x1z0 x1z1 x0z0 | 0 \n",
      "(0.29903639973657975+0j) |x1z0 x0z0 x1z0 x1z1 x0z0 x0z0 x1z1 x0z0 | 1 \n",
      "(0.44596225182545085-0j) |x1z1 x1z0 x0z0 x1z0 x0z0 x1z1 x1z1 x0z1 | 1 \n",
      "(0.44596225182545085-0j) |x1z1 x1z0 x1z0 x1z0 x0z0 x0z0 x0z0 x1z1 | 0 \n",
      "(-0.08799128231168264+0j)|x0z0 x0z1 x0z0 x0z1 x0z0 x1z0 x1z1 x0z1 | 0 \n",
      "(-0.08799128231168264+0j)|x1z1 x0z0 x0z0 x1z0 x0z0 x1z1 x0z1 x0z1 | 1 \n",
      "(-0.08799128231168264+0j)|x1z1 x1z0 x1z1 x1z0 x0z0 x1z0 x1z0 x0z0 | 1 \n",
      "(0.08799128231168264-0j) |x1z1 x1z0 x0z1 x1z0 x0z0 x0z1 x0z1 x1z0 | 0 \n",
      "\n",
      "\n",
      "(0.3274779150742539+0j)  |x1z1 x1z0 x1z1 x0z1 x1z1 x0z1 x0z0 x0z0 | 0 \n",
      "(-0.3274779150742539+0j) |x0z0 x1z1 x1z1 x0z1 x0z1 x0z1 x1z0 x0z1 | 0 \n",
      "(-1.244134632880335+0j)  |x0z0 x0z1 x0z1 x0z0 x0z0 x0z1 x1z1 x0z0 | 0 \n",
      "(-1.8812064255478391+0j) |x1z1 x0z1 x0z0 x1z0 x1z1 x0z0 x1z0 x0z1 | 0 \n",
      "(-1.758837041027654+0j)  |x1z1 x1z0 x1z1 x1z0 x1z0 x1z0 x0z1 x1z1 | 1 \n",
      "(-1.758837041027654+0j)  |x1z1 x0z0 x1z0 x1z0 x1z1 x1z0 x1z1 x1z1 | 0 \n",
      "(-1.2444858396713532+0j) |x1z1 x1z1 x0z0 x0z1 x1z1 x0z0 x0z0 x1z0 | 0 \n",
      "(0.4204521766476641-0j)  |x1z1 x0z0 x0z1 x0z1 x1z0 x0z1 x0z1 x1z1 | 0 \n",
      "(0.4204521766476641-0j)  |x0z0 x0z0 x1z1 x1z1 x0z1 x1z0 x1z1 x0z0 | 0 \n",
      "(0.15249416737696-0j)    |x0z0 x0z1 x0z1 x1z1 x0z0 x1z1 x0z1 x1z0 | 0 \n",
      "(-0.15249416737696+0j)   |x0z0 x0z0 x0z1 x1z0 x0z1 x0z1 x1z1 x0z0 | 0 \n",
      "(0.15249416737696-0j)    |x0z0 x1z0 x0z0 x1z0 x0z0 x0z1 x0z1 x0z0 | 0 \n",
      "(1.0069734561494248-0j)  |x0z0 x0z1 x1z1 x1z0 x0z1 x1z1 x0z1 x0z0 | 0 \n",
      "(-1.0069734561494248+0j) |x0z0 x1z1 x1z0 x1z0 x0z0 x1z1 x1z1 x0z0 | 1 \n",
      "(1.1642046511404236-0j)  |x1z1 x0z0 x1z1 x1z1 x1z1 x1z1 x0z0 x0z1 | 1 \n",
      "(-0.7045301964004325+0j) |x0z1 x0z0 x0z0 x0z0 x0z0 x0z0 x0z0 x0z0 | 0 \n",
      "(-0.7045301964004325+0j) |x1z0 x0z0 x0z0 x0z0 x0z0 x0z0 x0z0 x0z0 | 1 \n",
      "(-1.55442009870527+0j)   |x1z1 x1z0 x0z1 x0z0 x1z1 x0z0 x1z1 x1z1 | 0 \n",
      "(0.29903639973657975+0j) |x0z0 x0z0 x1z0 x1z1 x0z0 x0z0 x1z1 x0z0 | 1 \n",
      "(0.44596225182545085-0j) |x1z1 x0z0 x0z0 x1z1 x1z1 x0z1 x1z1 x1z0 | 0 \n",
      "(0.44596225182545085-0j) |x1z1 x0z0 x1z0 x1z1 x1z1 x1z0 x0z0 x0z0 | 0 \n",
      "(-0.08799128231168264+0j)|x0z0 x0z1 x0z0 x0z1 x0z0 x1z0 x1z1 x0z1 | 0 \n",
      "(-0.08799128231168264+0j)|x1z1 x1z0 x0z0 x1z1 x1z1 x0z1 x0z1 x1z0 | 0 \n",
      "(-0.08799128231168264+0j)|x1z1 x0z0 x1z1 x1z1 x1z1 x0z0 x1z0 x1z1 | 0 \n",
      "(0.08799128231168264-0j) |x1z1 x0z0 x0z1 x1z1 x1z1 x1z1 x0z1 x0z1 | 0 \n",
      "\n",
      "(0.3274779150742539+0j)  |x1z1 x1z0 x0z0 x0z0 x0z0 x0z0 x0z0 x0z0 | 0 \n",
      "(-0.3274779150742539+0j) |x0z0 x0z0 x0z1 x0z0 x0z0 x0z0 x0z0 x0z0 | 0 \n",
      "(-1.244134632880335+0j)  |x0z0 x0z0 x1z0 x0z0 x0z0 x0z0 x0z0 x0z0 | 0 \n",
      "(-1.8812064255478391+0j) |x1z1 x0z0 x1z1 x1z0 x0z0 x0z0 x0z0 x0z0 | 0 \n",
      "(-1.758837041027654+0j)  |x1z1 x0z1 x0z0 x0z0 x0z0 x0z0 x0z0 x0z0 | 1 \n",
      "(-1.758837041027654+0j)  |x1z1 x1z1 x0z0 x0z0 x1z0 x0z0 x0z0 x0z0 | 1 \n",
      "(-1.2444858396713532+0j) |x1z1 x0z1 x0z1 x1z0 x0z1 x0z0 x0z0 x0z0 | 1 \n",
      "(0.4204521766476641-0j)  |x1z1 x1z0 x0z1 x0z1 x0z0 x0z0 x0z0 x0z0 | 0 \n",
      "(0.4204521766476641-0j)  |x0z0 x1z1 x1z0 x1z0 x0z1 x1z0 x0z0 x0z0 | 0 \n",
      "(0.15249416737696-0j)    |x0z0 x1z0 x0z0 x1z1 x0z0 x0z1 x0z0 x0z0 | 0 \n",
      "(-0.15249416737696+0j)   |x0z0 x0z1 x1z0 x1z1 x0z0 x0z1 x1z0 x0z0 | 1 \n",
      "(0.15249416737696-0j)    |x0z0 x1z1 x1z0 x1z1 x1z0 x0z1 x1z0 x0z0 | 0 \n",
      "(1.0069734561494248-0j)  |x0z0 x1z0 x0z1 x0z1 x1z1 x1z1 x0z1 x0z0 | 1 \n",
      "(-1.0069734561494248+0j) |x0z0 x0z0 x0z1 x0z1 x0z1 x1z1 x0z1 x0z0 | 1 \n",
      "(1.1642046511404236-0j)  |x1z1 x0z0 x1z0 x0z0 x1z0 x0z1 x1z0 x0z0 | 0 \n",
      "(-0.7045301964004325+0j) |x1z0 x0z0 x0z0 x0z0 x0z0 x0z0 x0z0 x0z0 | 1 \n",
      "(-0.7045301964004325+0j) |x0z1 x0z0 x0z0 x0z0 x0z0 x0z0 x0z0 x0z0 | 0 \n",
      "(-1.55442009870527+0j)   |x1z1 x1z1 x1z1 x0z1 x1z1 x1z1 x0z1 x0z0 | 0 \n",
      "(0.29903639973657975+0j) |x0z0 x1z0 x1z1 x0z0 x1z0 x0z0 x1z0 x0z0 | 0 \n",
      "(0.44596225182545085-0j) |x1z1 x1z1 x0z0 x1z1 x1z1 x1z0 x1z0 x1z0 | 1 \n",
      "(0.44596225182545085-0j) |x1z1 x1z1 x0z0 x1z1 x1z1 x1z0 x1z0 x0z1 | 0 \n",
      "(-0.08799128231168264+0j)|x0z0 x0z0 x1z1 x0z0 x1z0 x0z1 x0z1 x0z0 | 0 \n",
      "(-0.08799128231168264+0j)|x1z1 x0z1 x1z0 x1z1 x0z1 x1z1 x0z0 x0z0 | 0 \n",
      "(-0.08799128231168264+0j)|x1z1 x1z1 x1z0 x0z1 x1z1 x1z0 x0z1 x1z0 | 0 \n",
      "(0.08799128231168264-0j) |x1z1 x1z1 x1z0 x0z1 x1z1 x1z0 x0z1 x0z1 | 1 \n",
      "\n",
      "\n",
      "list_n_I [6, 6, 6, 5, 6, 5, 3, 4, 2, 4, 2, 1, 1, 2, 3, 7, 7, 1, 3, 1, 1, 3, 2, 0.0, 0.0]\n",
      "forcing_candidates_paulis [0, 1, 2, 4]\n",
      "forcing_candidates_qubits [1, 2]\n",
      "pauli_indexes [0, 4]\n",
      "first_qubit_x [1. 1.]\n",
      "[0, 1, 2, 3]\n",
      "usable_qubits [2, 3, 4, 5, 6, 7]\n",
      "gate_options [[3], [0, 1, 2, 3], [0, 1, 2, 3], [0, 1, 2, 3], [0, 1, 2, 3], [0, 1, 2, 3], [0, 1, 2, 3]]\n",
      "list_n_I [6, 5, 5, 4, 6, 5, 3, 4, 2, 4, 2, 1, 1, 1, 2, 6, 6, 1, 3, 1, 1, 2, 2, 0.0, 0.0]\n",
      "forcing_candidates_paulis [1, 2, 5]\n",
      "forcing_candidates_qubits [2, 4]\n",
      "pauli_indexes [1, 2]\n",
      "first_qubit_x [0. 0.]\n",
      "[0, 1, 2, 3]\n",
      "usable_qubits [3, 4, 5, 6, 7]\n",
      "gate_options [[3], [0], [0, 1, 2, 3], [0, 1, 2, 3], [0, 1, 2, 3], [0, 1, 2, 3], [0, 1, 2, 3]]\n",
      "list_n_I [5, 5, 5, 4, 5, 4, 3, 4, 2, 3, 2, 1, 1, 1, 2, 5, 5, 1, 3, 0.0, 0.0, 2, 2, 0.0, 0.0]\n",
      "forcing_candidates_paulis [3, 5, 7]\n",
      "forcing_candidates_qubits [3, 4]\n",
      "pauli_indexes [3, 7]\n",
      "first_qubit_x [1. 0.]\n",
      "usable_qubits [4, 5, 6, 7]\n",
      "gate_options [[3], [0], [1], [0, 1, 2, 3], [0, 1, 2, 3], [0, 1, 2, 3], [0, 1, 2, 3]]\n",
      "list_n_I [4, 4, 4, 4, 4, 3, 3, 4, 2, 3, 2, 1, 1, 1, 1, 4, 4, 1, 2, 0.0, 0.0, 1, 2, 0.0, 0.0]\n",
      "forcing_candidates_paulis [5, 6, 9]\n",
      "forcing_candidates_qubits [4, 5]\n",
      "pauli_indexes [5, 6]\n",
      "first_qubit_x [1. 1.]\n",
      "[0, 1, 2, 3]\n",
      "usable_qubits [5, 6, 7]\n",
      "gate_options [[3], [0], [1], [3], [0, 1, 2, 3], [0, 1, 2, 3], [0, 1, 2, 3]]\n",
      "list_n_I [3, 3, 3, 3, 3, 3, 3, 3, 2, 2, 1, 1, 1, 1, 1, 3, 3, 1, 2, 0.0, 0.0, 1, 2, 0.0, 0.0]\n",
      "forcing_candidates_paulis [8, 9, 18, 22]\n",
      "forcing_candidates_qubits [5, 6]\n",
      "pauli_indexes [8, 9, 22]\n",
      "first_qubit_x [0. 0. 0.]\n",
      "[0, 1, 2, 3]\n",
      "usable_qubits [6, 7]\n",
      "gate_options [[3], [0], [1], [3], [0], [0, 1, 2, 3], [0, 1, 2, 3]]\n",
      "list_n_I [2, 2, 2, 2, 2, 2, 2, 2, 2, 2, 1, 1, 1, 1, 1, 2, 2, 1, 1, 0.0, 0.0, 1, 2, 0.0, 0.0]\n",
      "forcing_candidates_paulis [10, 11, 12, 13, 14, 17, 18, 21]\n",
      "forcing_candidates_qubits [6]\n",
      "pauli_indexes [10, 11, 12, 13, 14, 17, 18, 21]\n",
      "first_qubit_x [0. 0. 1. 1. 0. 1. 0. 1.]\n",
      "usable_qubits [7]\n",
      "gate_options [[3], [0], [1], [3], [0], [2], [0, 1, 2, 3]]\n",
      "(0.3274779150742539+0j)  |x0z0 x1z1 x0z0 x0z0 x0z0 x0z0 x0z0 x0z0 | 0 \n",
      "(-0.3274779150742539+0j) |x0z0 x0z0 x0z1 x0z0 x0z0 x0z0 x0z0 x0z0 | 0 \n",
      "(-1.244134632880335+0j)  |x0z0 x0z0 x1z0 x0z0 x0z0 x0z0 x0z0 x0z0 | 0 \n",
      "(-1.8812064255478391+0j) |x0z0 x0z0 x1z1 x1z0 x0z0 x0z0 x0z0 x0z0 | 0 \n",
      "(-1.758837041027654+0j)  |x0z0 x0z1 x0z0 x0z0 x0z0 x0z0 x0z0 x0z0 | 1 \n",
      "(-1.758837041027654+0j)  |x0z0 x1z0 x0z0 x0z0 x1z1 x0z0 x0z0 x0z0 | 1 \n",
      "(-1.2444858396713532+0j) |x0z0 x0z1 x0z1 x1z0 x0z1 x0z0 x0z0 x0z0 | 1 \n",
      "(0.4204521766476641-0j)  |x0z0 x1z1 x0z1 x0z1 x0z0 x0z0 x0z0 x0z0 | 0 \n",
      "(0.4204521766476641-0j)  |x0z0 x1z0 x1z0 x1z0 x0z1 x1z0 x0z0 x0z0 | 0 \n",
      "(0.15249416737696-0j)    |x0z0 x1z1 x0z0 x1z1 x0z0 x0z1 x0z0 x0z0 | 1 \n",
      "(-0.15249416737696+0j)   |x0z0 x0z1 x1z0 x1z1 x0z0 x0z1 x1z0 x0z0 | 0 \n",
      "(0.15249416737696-0j)    |x0z0 x1z0 x1z0 x1z1 x1z1 x0z1 x1z0 x0z0 | 0 \n",
      "(1.0069734561494248-0j)  |x0z0 x1z1 x0z1 x0z1 x1z0 x1z1 x0z1 x0z0 | 0 \n",
      "(-1.0069734561494248+0j) |x0z0 x0z0 x0z1 x0z1 x0z1 x1z1 x0z1 x0z0 | 0 \n",
      "(1.1642046511404236-0j)  |x0z0 x0z0 x1z0 x0z0 x1z1 x0z1 x1z0 x0z0 | 0 \n",
      "(-0.7045301964004325+0j) |x1z0 x1z0 x0z0 x0z1 x1z0 x0z0 x1z0 x0z0 | 1 \n",
      "(-0.7045301964004325+0j) |x0z1 x1z0 x0z0 x0z1 x1z0 x0z0 x1z0 x0z0 | 0 \n",
      "(-1.55442009870527+0j)   |x0z0 x1z0 x1z1 x0z1 x1z0 x1z1 x0z1 x0z0 | 0 \n",
      "(0.29903639973657975+0j) |x0z0 x1z1 x1z1 x0z0 x1z1 x0z0 x1z0 x0z0 | 1 \n",
      "(0.44596225182545085-0j) |x0z0 x1z0 x0z0 x1z1 x1z0 x1z0 x1z0 x1z0 | 1 \n",
      "(0.44596225182545085-0j) |x0z0 x1z0 x0z0 x1z1 x1z0 x1z0 x1z0 x0z1 | 0 \n",
      "(-0.08799128231168264+0j)|x0z0 x0z0 x1z1 x0z0 x1z1 x0z1 x0z1 x0z0 | 1 \n",
      "(-0.08799128231168264+0j)|x0z0 x0z1 x1z0 x1z1 x0z1 x1z1 x0z0 x0z0 | 0 \n",
      "(-0.08799128231168264+0j)|x0z0 x1z0 x1z0 x0z1 x1z0 x1z0 x0z1 x1z0 | 0 \n",
      "(0.08799128231168264-0j) |x0z0 x1z0 x1z0 x0z1 x1z0 x1z0 x0z1 x0z1 | 1 \n",
      "\n"
     ]
    },
    {
     "data": {
      "text/plain": [
       "\"\\nfor i in range(4**(P1.n_qudits()-1)):\\n    addition_options = int_to_bases(i,dims=[4 for i in range(P1.n_qudits()-1)])\\n    print(addition_options)\\n    first_qubit_x = P1.x_exp[[j for j in range(P1.n_paulis()) if j != 15 and j != 16],0]\\n    for k in range(len(addition_options)):\\n        if addition_options[k] == 0:\\n            pass\\n        elif addition_options[k] == 1:\\n            first_qubit_x += P1.x_exp[[j for j in range(P1.n_paulis()) if j != 15 and j != 16],k+1]\\n        elif addition_options[k] == 2:\\n            first_qubit_x += P1.z_exp[[j for j in range(P1.n_paulis()) if j != 15 and j != 16],k+1]\\n        elif addition_options[k] == 3:\\n            first_qubit_x += P1.x_exp[[j for j in range(P1.n_paulis()) if j != 15 and j != 16],k+1] + P1.z_exp[[j for j in range(P1.n_paulis()) if j != 15 and j != 16],k+1]\\n    #print(first_qubit_x%2)\\n    if not any(first_qubit_x%2):\\n        print('found solution')\\n        print(addition_options)\\n        break\\n\""
      ]
     },
     "execution_count": 158,
     "metadata": {},
     "output_type": "execute_result"
    }
   ],
   "source": [
    "print(P)\n",
    "P1 = P.copy()\n",
    "C = Circuit(dimensions=[2 for i in range(P.n_qudits())])\n",
    "#g = CX(0,2,2)\n",
    "#P1 = g.act(P1)\n",
    "#print(P1)\n",
    "P1,C = cancel_pauli(P1,0,15,C,P1.n_qudits())\n",
    "print(P1)\n",
    "g = H(0, P.dimensions[0])\n",
    "C.add_gate(g)\n",
    "P1 = g.act(P1)\n",
    "\n",
    "P1, C = cancel_pauli(P1, 0, 16, C, 8)  ## ### ## \n",
    "\n",
    "g = H(0, P.dimensions[0])\n",
    "C.add_gate(g)\n",
    "P = g.act(P)\n",
    "print()\n",
    "print(P1)\n",
    "for i in range(1,P1.n_qudits()):\n",
    "    C, pivots = symplectic_reduction_iter_qudit_(P.copy(), C, [], i)\n",
    "P1 = C.act(P.copy())\n",
    "#P1._standardise_paulis()\n",
    "print(P1)\n",
    "print()\n",
    "'''\n",
    "g = S(1, 2)\n",
    "P1 = g.act(P1)\n",
    "print('S(1)')\n",
    "print(P1)\n",
    "print()\n",
    "g = add_s2(1)\n",
    "P1 = g.act(P1)\n",
    "print('add_s2(1)')\n",
    "print(P1)\n",
    "print()\n",
    "g = S(4, 2)\n",
    "P1 = g.act(P1)\n",
    "g = add_s2(4)\n",
    "P1 = g.act(P1)\n",
    "print('add_s2(4)')\n",
    "print(P1)\n",
    "print()\n",
    "g = add_r2(3)\n",
    "P1 = g.act(P1)\n",
    "print('add_r2(3)')\n",
    "print(P1)\n",
    "print()\n",
    "g = add_s2(6)\n",
    "P1 = g.act(P1)\n",
    "print('add_s2(6)')\n",
    "print(P1)\n",
    "print()\n",
    "\n",
    "\n",
    "#P1 = gg2.act(P1)\n",
    "#print(P1)\n",
    "'''\n",
    "P2 = P1.copy()\n",
    "h_sym = False\n",
    "h_sym_impossible = False\n",
    "no_forcings = False\n",
    "no_qubits = False\n",
    "usable_qubits = [i for i in range(1,P1.n_qudits())]\n",
    "gate_options = [[0,1,2,3] for i in range(P1.n_qudits()-1)]\n",
    "while not no_forcings and len(usable_qubits) > 0 and not h_sym and not h_sym_impossible:\n",
    "    list_n_I = [number_of_I(P2,Pauli_index,usable_qubits) for Pauli_index in range(P.n_paulis())]\n",
    "    #print('list_n_I',list_n_I)\n",
    "    forcing_candidates_paulis = [i for i in range(P.n_paulis()) if list_n_I[i] == len(usable_qubits) - 1]\n",
    "    #print('forcing_candidates_paulis',forcing_candidates_paulis)\n",
    "    forcing_candidates_qubits = []\n",
    "    for i in forcing_candidates_paulis:\n",
    "        qubit_index = min([j for j in usable_qubits if (P1.x_exp[i,j]+P1.z_exp[i,j]) != 0])\n",
    "        if qubit_index not in forcing_candidates_qubits:\n",
    "            forcing_candidates_qubits.append(qubit_index)\n",
    "    #print('forcing_candidates_qubits',forcing_candidates_qubits)\n",
    "    if len(forcing_candidates_qubits) == 0:\n",
    "        no_forcings = True\n",
    "    for qi in forcing_candidates_qubits:\n",
    "        pauli_indexes = [i for i in forcing_candidates_paulis if (P2.x_exp[i,qi]+P2.z_exp[i,qi]) != 0]\n",
    "        #print('pauli_indexes',pauli_indexes)\n",
    "        first_qubit_x = P2.x_exp[[j for j in pauli_indexes],0]\n",
    "        #print('first_qubit_x',first_qubit_x)\n",
    "        if len(pauli_indexes) > 1: \n",
    "            if not any(first_qubit_x):\n",
    "                print(gate_options[qi-1])\n",
    "                gate_options[qi-1].remove(1)\n",
    "                gate_options[qi-1].remove(2)\n",
    "                gate_options[qi-1].remove(3)\n",
    "                usable_qubits.remove(qi)\n",
    "                # identity\n",
    "            elif not any((first_qubit_x + P1.x_exp[[j for j in pauli_indexes],qi])%2):\n",
    "                gate_options[qi-1].remove(0)\n",
    "                gate_options[qi-1].remove(2)\n",
    "                gate_options[qi-1].remove(3)\n",
    "                g = add_r2(qi)\n",
    "                P2 = g.act(P2)\n",
    "                usable_qubits.remove(qi)\n",
    "            elif not any((first_qubit_x + P1.z_exp[[j for j in pauli_indexes],qi])%2):\n",
    "                gate_options[qi-1].remove(0)\n",
    "                gate_options[qi-1].remove(1)\n",
    "                gate_options[qi-1].remove(3)\n",
    "                g = add_s2(qi)\n",
    "                P2 = g.act(P2)\n",
    "                usable_qubits.remove(qi)\n",
    "            elif not any((first_qubit_x + P1.z_exp[[j for j in pauli_indexes],qi] + P1.x_exp[[j for j in pauli_indexes],qi])%2):\n",
    "                print(gate_options[qi-1])\n",
    "                gate_options[qi-1].remove(0)\n",
    "                gate_options[qi-1].remove(1)\n",
    "                gate_options[qi-1].remove(2)\n",
    "                g = add_r2s2(qi)\n",
    "                P2 = g.act(P2)\n",
    "                usable_qubits.remove(qi)\n",
    "            else:\n",
    "                gate_options[qi-1].remove(0)\n",
    "                gate_options[qi-1].remove(1)\n",
    "                gate_options[qi-1].remove(2)\n",
    "                gate_options[qi-1].remove(3)\n",
    "                h_sym_impossible = True\n",
    "                #print('Not Possible')\n",
    "                usable_qubits.remove(qi)\n",
    "            break\n",
    "        else:\n",
    "            continue\n",
    "    first_qubit_x = P2.x_exp[[j for j in range(P2.n_paulis()) if j != 15 and j != 16],0]\n",
    "    #print('usable_qubits',usable_qubits)\n",
    "    #print('gate_options',gate_options)\n",
    "    if not any(first_qubit_x%2):\n",
    "        h_sym = True\n",
    "\n",
    "print(P2)\n",
    "if not h_sym and not h_sym_impossible:\n",
    "    addition_options_lens = []\n",
    "    for l in gate_options:\n",
    "        addition_options_lens.append(len(l))\n",
    "    max_options = np.prod(addition_options_lens)\n",
    "    for i in range(max_options):\n",
    "        addition_options = int_to_bases(i,dims=addition_options_lens)\n",
    "        first_qubit_x = P2.x_exp[[j for j in range(P1.n_paulis()) if j != 15 and j != 16],0]\n",
    "        for k in range(len(addition_options)):\n",
    "            if addition_options[k] == 0:\n",
    "                pass\n",
    "            elif addition_options[k] == 1:\n",
    "                first_qubit_x += P2.x_exp[[j for j in range(P1.n_paulis()) if j != 15 and j != 16],k+1]\n",
    "            elif addition_options[k] == 2:\n",
    "                first_qubit_x += P2.z_exp[[j for j in range(P1.n_paulis()) if j != 15 and j != 16],k+1]\n",
    "            elif addition_options[k] == 3:\n",
    "                first_qubit_x += P2.x_exp[[j for j in range(P1.n_paulis()) if j != 15 and j != 16],k+1] + P2.z_exp[[j for j in range(P1.n_paulis()) if j != 15 and j != 16],k+1]\n",
    "        #print(first_qubit_x%2)\n",
    "        if not any(first_qubit_x%2):\n",
    "            print('found solution')\n",
    "            print(addition_options)\n",
    "            for j,k in enumerate(addition_options):\n",
    "                if addition_options_lens[j] > 1:\n",
    "                    if k == 0:\n",
    "                        pass\n",
    "                    elif k == 1:\n",
    "                        g = add_r2(j)\n",
    "                        P2 = g.act(P2)\n",
    "                    elif k == 2:\n",
    "                        g = add_s2(j)\n",
    "                        P2 = g.act(P2)\n",
    "                    elif k == 3:\n",
    "                        g = add_r2s2(j)\n",
    "                        P2 = g.act(P2) \n",
    "            break\n",
    "\n",
    "first_qubit_x = P2.x_exp[[j for j in range(P2.n_paulis()) if j != 15 and j != 16],0]\n",
    "if any(first_qubit_x%2):\n",
    "    print('No Hadamard Symmetry')\n",
    "else:\n",
    "    # Align Phases\n",
    "    \n",
    "    \n",
    "\n",
    "\n",
    "    \n",
    "\n",
    "\n",
    "\n",
    "'''\n",
    "addition_options = np.zeros((P1.n_qudits()-1,4)) + 1\n",
    "# count number of I's in each PS\n",
    "list_n_I = [number_of_I(P1,Pauli_index) for Pauli_index in range(P.n_paulis())]\n",
    "#print('list_n_I',list_n_I)\n",
    "if P1.n_qudits()-2 in list_n_I:\n",
    "    pauli_index_1 = min([i for i in range(len(list_n_I)) if list_n_I[i] == P1.n_qudits()-2])\n",
    "    qubit_index = min([i for i in range(1,P1.n_qudits()) if (P1.x_exp[pauli_index_1,i]+P1.z_exp[pauli_index_1,i]) != 0])\n",
    "    #print('qubit_index',qubit_index)\n",
    "    pauli_indexes = [i for i in range(len(list_n_I)) if list_n_I[i] == (P1.n_qudits()-2) and (P1.x_exp[i,qubit_index]+P1.z_exp[i,qubit_index]) != 0]\n",
    "    print(pauli_indexes)\n",
    "    first_qubit_x = P1.x_exp[[j for j in pauli_indexes],0]\n",
    "    if len(pauli_indexes) > 1: \n",
    "        if not any(first_qubit_x):\n",
    "            addition_options[qubit_index-1,1:] = 0\n",
    "        elif not any((first_qubit_x + P1.x_exp[[j for j in pauli_indexes],qubit_index])%2):\n",
    "            addition_options[qubit_index-1,0] = 0\n",
    "            addition_options[qubit_index-1,2:] = 0\n",
    "        elif not any((first_qubit_x + P1.z_exp[[j for j in pauli_indexes],qubit_index])%2):\n",
    "            addition_options[qubit_index-1,0:2] = 0\n",
    "            addition_options[qubit_index-1,3] = 0\n",
    "        elif not any((first_qubit_x + P1.z_exp[[j for j in pauli_indexes],qubit_index] + P1.x_exp[[j for j in pauli_indexes],qubit_index])%2):\n",
    "            addition_options[qubit_index-1,0:3] = 0\n",
    "        else:\n",
    "            addition_options[qubit_index-1,0:4] = 0\n",
    "            print('Not Possible')\n",
    "'''\n",
    "\n",
    "        \n",
    "\n",
    "\n",
    "\n",
    "\n",
    "'''\n",
    "for i in range(4**(P1.n_qudits()-1)):\n",
    "    addition_options = int_to_bases(i,dims=[4 for i in range(P1.n_qudits()-1)])\n",
    "    print(addition_options)\n",
    "    first_qubit_x = P1.x_exp[[j for j in range(P1.n_paulis()) if j != 15 and j != 16],0]\n",
    "    for k in range(len(addition_options)):\n",
    "        if addition_options[k] == 0:\n",
    "            pass\n",
    "        elif addition_options[k] == 1:\n",
    "            first_qubit_x += P1.x_exp[[j for j in range(P1.n_paulis()) if j != 15 and j != 16],k+1]\n",
    "        elif addition_options[k] == 2:\n",
    "            first_qubit_x += P1.z_exp[[j for j in range(P1.n_paulis()) if j != 15 and j != 16],k+1]\n",
    "        elif addition_options[k] == 3:\n",
    "            first_qubit_x += P1.x_exp[[j for j in range(P1.n_paulis()) if j != 15 and j != 16],k+1] + P1.z_exp[[j for j in range(P1.n_paulis()) if j != 15 and j != 16],k+1]\n",
    "    #print(first_qubit_x%2)\n",
    "    if not any(first_qubit_x%2):\n",
    "        print('found solution')\n",
    "        print(addition_options)\n",
    "        break\n",
    "'''"
   ]
  },
  {
   "cell_type": "code",
   "execution_count": 144,
   "id": "1153622b",
   "metadata": {},
   "outputs": [],
   "source": [
    "A = [0,1,2,3]\n",
    "A.remove(1)"
   ]
  },
  {
   "cell_type": "code",
   "execution_count": 146,
   "id": "377bbe1f",
   "metadata": {},
   "outputs": [],
   "source": [
    "def add_s2(qubit):\n",
    "    C = Circuit(dimensions=[2 for i in range(P.n_qudits())],gates=[CX(0,qubit,2),H(qubit,2),CX(qubit,0,2),S(qubit,2),H(qubit,2)])\n",
    "    return(C)\n",
    "\n",
    "def add_r2(qubit):\n",
    "    C = Circuit(dimensions=[2 for i in range(P.n_qudits())],gates=[S(0,2),CX(qubit,0,2),S(0,2)])\n",
    "    return(C)\n",
    "\n",
    "def add_r2s2(qubit):\n",
    "    C = Circuit(dimensions=[2 for i in range(P.n_qudits())],gates=[S(qubit,2),CX(0,qubit,2),H(qubit,2),CX(qubit,0,2),S(qubit,2),H(qubit,2)])\n",
    "    return(C)\n",
    "\n",
    "def number_of_I(P,Pauli_index,qubits):\n",
    "    \"\"\"\n",
    "    Returns the number of I's in the Pauli string at Pauli_index for qubits.\n",
    "    \"\"\"\n",
    "\n",
    "    return np.sum([1 for i in qubits if P.x_exp[Pauli_index,i] == 0 and P.z_exp[Pauli_index,i] == 0])"
   ]
  },
  {
   "cell_type": "code",
   "execution_count": 116,
   "id": "52a7d481",
   "metadata": {},
   "outputs": [
    {
     "name": "stdout",
     "output_type": "stream",
     "text": [
      "(0.3274779150742539+0j)  |x1z1 x0z1 x0z0 x0z0 x0z1 x1z0 x1z1 x1z1 | 0 \n",
      "(-0.3274779150742539+0j) |x0z0 x1z1 x1z1 x0z1 x0z1 x0z1 x1z0 x0z1 | 0 \n",
      "(-1.244134632880335+0j)  |x0z1 x0z1 x0z1 x0z0 x0z0 x0z1 x1z1 x0z0 | 0 \n",
      "(-1.8812064255478391+0j) |x1z1 x1z0 x1z1 x1z1 x0z1 x1z1 x0z1 x1z0 | 0 \n",
      "(-1.758837041027654+0j)  |x0z0 x0z0 x1z1 x1z1 x0z1 x0z0 x0z1 x0z0 | 0 \n",
      "(-1.758837041027654+0j)  |x1z0 x1z1 x0z1 x1z1 x0z1 x0z1 x0z0 x0z0 | 0 \n",
      "(-1.2444858396713532+0j) |x0z0 x0z1 x0z0 x0z0 x0z0 x1z0 x0z0 x0z1 | 0 \n",
      "(0.4204521766476641-0j)  |x0z1 x1z0 x0z1 x0z0 x0z1 x1z1 x0z1 x0z0 | 0 \n",
      "(0.4204521766476641-0j)  |x0z1 x0z0 x1z1 x1z1 x0z1 x1z0 x1z1 x0z0 | 0 \n",
      "(0.15249416737696-0j)    |x0z1 x0z1 x0z1 x1z1 x0z0 x1z1 x0z1 x1z0 | 0 \n",
      "(-0.15249416737696+0j)   |x1z0 x0z1 x1z0 x1z0 x0z0 x0z0 x0z0 x0z0 | 0 \n",
      "(0.15249416737696-0j)    |x0z0 x1z0 x0z0 x1z0 x0z0 x0z1 x0z1 x0z0 | 0 \n",
      "(1.0069734561494248-0j)  |x0z0 x0z1 x1z1 x1z0 x0z1 x1z1 x0z1 x0z0 | 0 \n",
      "(-1.0069734561494248+0j) |x1z0 x1z0 x0z1 x1z0 x0z1 x1z0 x0z0 x0z0 | 0 \n",
      "(1.1642046511404236-0j)  |x1z1 x1z1 x0z0 x1z0 x0z1 x0z0 x1z1 x1z0 | 0 \n",
      "(-0.7045301964004325+0j) |x1z1 x0z1 x1z1 x0z0 x0z1 x0z1 x1z1 x0z0 | 0 \n",
      "(-0.7045301964004325+0j) |x1z1 x1z1 x1z1 x0z1 x1z0 x1z1 x1z1 x1z1 | 0 \n",
      "(-1.55442009870527+0j)   |x0z1 x0z0 x0z1 x0z1 x0z0 x1z0 x1z1 x0z0 | 0 \n",
      "(0.29903639973657975+0j) |x1z0 x0z1 x0z1 x1z1 x0z1 x0z1 x0z0 x0z0 | 0 \n",
      "(0.44596225182545085-0j) |x1z0 x1z1 x1z1 x1z0 x0z1 x1z0 x0z0 x0z1 | 0 \n",
      "(0.44596225182545085-0j) |x1z0 x1z1 x0z1 x1z0 x0z1 x0z1 x1z1 x1z1 | 0 \n",
      "(-0.08799128231168264+0j)|x0z1 x0z1 x0z0 x0z1 x0z0 x1z0 x1z1 x0z1 | 0 \n",
      "(-0.08799128231168264+0j)|x1z0 x0z1 x1z1 x1z0 x0z1 x1z0 x1z0 x0z1 | 0 \n",
      "(-0.08799128231168264+0j)|x1z1 x1z1 x0z0 x1z0 x0z1 x1z1 x0z1 x0z0 | 0 \n",
      "(0.08799128231168264-0j) |x1z1 x1z1 x1z0 x1z0 x0z1 x0z0 x1z0 x1z0 | 0 \n",
      "\n"
     ]
    },
    {
     "data": {
      "text/plain": [
       "2"
      ]
     },
     "execution_count": 116,
     "metadata": {},
     "output_type": "execute_result"
    }
   ],
   "source": [
    "print(P)\n",
    "number_of_I(P,0)"
   ]
  },
  {
   "cell_type": "code",
   "execution_count": 8,
   "id": "1b46a44e",
   "metadata": {},
   "outputs": [
    {
     "data": {
      "text/latex": [
       "$\\displaystyle {{{{{{\\left({X^{r_{2} + r_{4} + r_{5} + r_{6} + r_{7} + r_{8} + s_{1} + s_{2} + s_{5}} Z^{r_{1} + r_{3} + r_{5} + r_{7} + r_{8} + s_{1} + s_{2} + s_{5} + s_{8}}}\\right)\\otimes \\left({X^{r_{8} + s_{2} + s_{3} + s_{4} + s_{7} + s_{8}} Z^{r_{1} + r_{2} + r_{4} + r_{5} + r_{6} + r_{8} + s_{2} + s_{3} + s_{4} + s_{5}}}\\right)}\\otimes \\left({X^{r_{1} + r_{2} + r_{3} + r_{6} + r_{7} + s_{2} + s_{3} + s_{8}} Z^{r_{1} + r_{7} + r_{8} + s_{1} + s_{2} + s_{3} + s_{4} + s_{6}}}\\right)}\\otimes \\left({X^{r_{1} + r_{2} + r_{3} + r_{4} + r_{6} + r_{7} + s_{1} + s_{2} + s_{3} + s_{6}} Z^{r_{3} + r_{4} + r_{6} + r_{8} + s_{2} + s_{4} + s_{6} + s_{8}}}\\right)}\\otimes \\left({X^{r_{3} + r_{8} + s_{1} + s_{2} + s_{4}} Z^{r_{3} + r_{4} + r_{5} + r_{7} + r_{8} + s_{2} + s_{4} + s_{6}}}\\right)}\\otimes \\left({X^{r_{2} + r_{7} + r_{8} + s_{4} + s_{5} + s_{8}} Z^{r_{1} + r_{2} + r_{5} + r_{6} + r_{8} + s_{1} + s_{2} + s_{4} + s_{5}}}\\right)}\\otimes \\left({X^{r_{2} + r_{5} + r_{6} + r_{8} + s_{1} + s_{2} + s_{3} + s_{7}} Z^{r_{1} + r_{4} + r_{7} + s_{1} + s_{4} + s_{5} + s_{7}}}\\right)}\\otimes \\left({X^{r_{3} + r_{4} + r_{5} + r_{6} + r_{7} + s_{2} + s_{4} + s_{8}} Z^{r_{6} + r_{8} + s_{3} + s_{5} + s_{8}}}\\right)$"
      ],
      "text/plain": [
       "(X**(r2 + r4 + r5 + r6 + r7 + r8 + s1 + s2 + s5)*Z**(r1 + r3 + r5 + r7 + r8 + s1 + s2 + s5 + s8))x(X**(r8 + s2 + s3 + s4 + s7 + s8)*Z**(r1 + r2 + r4 + r5 + r6 + r8 + s2 + s3 + s4 + s5))x(X**(r1 + r2 + r3 + r6 + r7 + s2 + s3 + s8)*Z**(r1 + r7 + r8 + s1 + s2 + s3 + s4 + s6))x(X**(r1 + r2 + r3 + r4 + r6 + r7 + s1 + s2 + s3 + s6)*Z**(r3 + r4 + r6 + r8 + s2 + s4 + s6 + s8))x(X**(r3 + r8 + s1 + s2 + s4)*Z**(r3 + r4 + r5 + r7 + r8 + s2 + s4 + s6))x(X**(r2 + r7 + r8 + s4 + s5 + s8)*Z**(r1 + r2 + r5 + r6 + r8 + s1 + s2 + s4 + s5))x(X**(r2 + r5 + r6 + r8 + s1 + s2 + s3 + s7)*Z**(r1 + r4 + r7 + s1 + s4 + s5 + s7))x(X**(r3 + r4 + r5 + r6 + r7 + s2 + s4 + s8)*Z**(r6 + r8 + s3 + s5 + s8))"
      ]
     },
     "metadata": {},
     "output_type": "display_data"
    },
    {
     "data": {
      "text/plain": [
       "()"
      ]
     },
     "execution_count": 8,
     "metadata": {},
     "output_type": "execute_result"
    }
   ],
   "source": [
    "symplectic_effect(C)"
   ]
  },
  {
   "cell_type": "code",
   "execution_count": 57,
   "id": "22051b2f",
   "metadata": {},
   "outputs": [],
   "source": [
    "def flatten_list(nested_list):\n",
    "    \"\"\"\n",
    "    Flattens a list of lists into a single list with all the elements.\n",
    "    \n",
    "    Args:\n",
    "        nested_list (list of lists): The input list of lists.\n",
    "    \n",
    "    Returns:\n",
    "        list: A single flattened list containing all elements.\n",
    "    \"\"\"\n",
    "    return [item for sublist in nested_list for item in sublist]"
   ]
  },
  {
   "cell_type": "code",
   "execution_count": null,
   "id": "ce3c674f",
   "metadata": {},
   "outputs": [
    {
     "name": "stdout",
     "output_type": "stream",
     "text": [
      "[array([0, 1]), array([4, 5]), array([7, 8]), array([ 9, 10, 11]), array([12, 13]), array([15, 16]), array([19, 20]), array([21, 22, 23, 24])]\n",
      "[(0.3274779150742539+0j), (-1.758837041027654+0j), (0.4204521766476641-0j), (0.15249416737696-0j), (1.0069734561494248-0j), (-0.7045301964004325+0j), (0.44596225182545085-0j), (-0.08799128231168264+0j)]\n",
      "Band 1, Pauli 4 and 5 anti-commute\n",
      "Band 2, Pauli 7 and 8 anti-commute\n",
      "Band 3, Pauli 9 and 10 anti-commute\n",
      "Band 3, Pauli 9 and 11 anti-commute\n",
      "Band 3, Pauli 10 and 11 anti-commute\n",
      "Band 4, Pauli 12 and 13 anti-commute\n",
      "Band 5, Pauli 15 and 16 anti-commute\n",
      "Band 6, Pauli 19 and 20 anti-commute\n",
      "Band 7, Pauli 21 and 22 anti-commute\n",
      "Band 7, Pauli 21 and 23 anti-commute\n",
      "Band 7, Pauli 21 and 24 anti-commute\n",
      "Band 7, Pauli 23 and 24 anti-commute\n"
     ]
    },
    {
     "data": {
      "text/plain": [
       "'\\n# Step 1 commutation test\\nfor i in range(len(cc_bands)):\\n    for j in range(len(cc_bands[i])):\\n        for k in range(j+1,len(cc_bands[i])):\\n            c1 = cc_bands[i][j]\\n            c2 = cc_bands[i][k]\\n            #print(c1,c2)\\n            # check if they commute\\n            print(c1,c2,P1.is_commuting(pauli_string_indexes=(c1,c2)))\\n\\n# Step 2 choose anti-commuting pairs in the same band\\n\\np_i = 15\\np_j = 16\\nC = Circuit(dimensions=[2 for i in range(8)])\\nP1,C = cancel_pauli(P1,0,p_i,C,8)\\nprint(P1)\\ng = H(0, P.dimensions[0])\\nC.add_gate(g)\\nP1 = g.act(P1)\\n\\nP1, C = cancel_pauli(P1, 0, p_j, C, 8)  ## ### ## \\n\\ng = H(0, P.dimensions[0])\\nC.add_gate(g)\\nP = g.act(P)\\nprint()\\nprint(P1)\\nprint()\\n\\n# Step 3 (optional) erase phase\\ngg = [CX(1, 0, 2),H(0,2),CX(0,1,2),S(0,2),S(1,2),CX(0,1,2),H(0,2)]\\nfor g in gg:\\n    C.add_gate(g)\\n    #print(g)\\n    P1 = g.act(P1)\\nprint(P1)\\n'"
      ]
     },
     "execution_count": 46,
     "metadata": {},
     "output_type": "execute_result"
    }
   ],
   "source": [
    "# Step 0\n",
    "P1 = P.copy()\n",
    "#print(P1)\n",
    "cc = P1.weights\n",
    "# Step 1, organize the coefficients into bands with the same absolute value\n",
    "cc_abs = np.abs(cc)\n",
    "cc_bands = group_indices(cc_abs)\n",
    "cc_bands = [np.array(b) for b in cc_bands if len(b) > 1]\n",
    "\n",
    "print(cc_bands)\n",
    "print([cc[b[0]] for b in cc_bands])\n",
    "\n",
    "for ib,b in enumerate(cc_bands):\n",
    "    for ic,pi in enumerate(b):\n",
    "        for jc,pj in enumerate(b[ic+1:]):\n",
    "            P1 = P.copy()\n",
    "            if not P1.is_commuting(pauli_string_indexes=(pi,pj)):\n",
    "                print(f\"Band {ib}, Pauli {pi} and {pj} anti-commute\")\n",
    "                C = Circuit(dimensions=[2 for i in range(P1.n_qudits())])\n",
    "                # prime pauli pi and pj for cancel_pauli\n",
    "                if P.x_exp[pi, 0] == 1 and P.z_exp[pj, 0] == 1: # x,z\n",
    "                    px = pi\n",
    "                    pz = pj\n",
    "                elif P.z_exp[pi, 0] == 1 and P.x_exp[pj, 0] == 1: # z,x\n",
    "                    px = pj\n",
    "                    pz = pi\n",
    "                elif P.x_exp[pi, 0] == 1 and P.z_exp[pj, 0] == 0: # x,id or x,x\n",
    "                    if any(P.z_exp[pj, i] for i in range(P1.n_qudits())):\n",
    "                        g = CX(0,min([i for i in range(P1.n_qudits()) if P.z_exp[pj, i]]),2)\n",
    "                    elif any(P.x_exp[pj, i] for i in range(P1.n_qudits())):\n",
    "                        g = H(min([i for i in range(P1.n_qudits()) if P.x_exp[pj, i]]),2)\n",
    "                        P1 = g.act(P1)\n",
    "                        C.add_gate(g)\n",
    "                        g = CX(0,min([i for i in range(P1.n_qudits()) if P.z_exp[pj, i]]),2)\n",
    "                    C.add_gate(g)\n",
    "                    P1 = g.act(P1)\n",
    "                    px = pi\n",
    "                    pz = pj\n",
    "                elif P.z_exp[pi, 0] == 1 and P.x_exp[pj, 0] == 0: # z,id or z,z\n",
    "                    if any(P.x_exp[pj, i] for i in range(P1.n_qudits())):\n",
    "                        g = CX(min([i for i in range(P1.n_qudits()) if P.x_exp[pj, i]]),0,2)\n",
    "                    elif any(P.z_exp[pj, i] for i in range(P1.n_qudits())):\n",
    "                        g = H(min([i for i in range(P1.n_qudits()) if P.z_exp[pj, i]]),2)\n",
    "                        P1 = g.act(P1)\n",
    "                        C.add_gate(g)\n",
    "                        g = CX(min([i for i in range(P1.n_qudits()) if P.x_exp[pj, i]]),0,2)\n",
    "                    C.add_gate(g)\n",
    "                    P1 = g.act(P1)\n",
    "                    px = pj\n",
    "                    pz = pi\n",
    "                elif P.x_exp[pi, 0] == 0 and P.z_exp[pj, 0] == 1: # id,z\n",
    "                    if any(P.x_exp[pi, i] for i in range(P1.n_qudits())):\n",
    "                        g = CX(min([i for i in range(P1.n_qudits()) if P.x_exp[pi, i]]),0,2)\n",
    "                    elif any(P.z_exp[pi, i] for i in range(P1.n_qudits())):\n",
    "                        g = H(min([i for i in range(P1.n_qudits()) if P.z_exp[pi, i]]),2)\n",
    "                        P1 = g.act(P1)\n",
    "                        C.add_gate(g)\n",
    "                        g = CX(min([i for i in range(P1.n_qudits()) if P.x_exp[pi, i]]),0,2)\n",
    "                    C.add_gate(g)\n",
    "                    P1 = g.act(P1)\n",
    "                    px = pi\n",
    "                    pz = pj\n",
    "                elif P.x_exp[pi, 0] == 0 and P.x_exp[pj, 0] == 1: # id,x\n",
    "                    if any(P.z_exp[pi, i] for i in range(P1.n_qudits())):\n",
    "                        g = CX(0,min([i for i in range(P1.n_qudits()) if P.z_exp[pi, i]]),2)\n",
    "                    elif any(P.x_exp[pi, i] for i in range(P1.n_qudits())):\n",
    "                        g = H(min([i for i in range(P1.n_qudits()) if P.x_exp[pi, i]]),2)\n",
    "                        P1 = g.act(P1)\n",
    "                        C.add_gate(g)\n",
    "                        g = CX(0,min([i for i in range(P1.n_qudits()) if P.z_exp[pi, i]]),2)\n",
    "                    C.add_gate(g)\n",
    "                    P1 = g.act(P1)\n",
    "                    px = pj\n",
    "                    pz = pi\n",
    "                else: # id,id\n",
    "                    if any(P.x_exp[pi, i] for i in range(P1.n_qudits())):\n",
    "                        g = CX(min([i for i in range(P1.n_qudits()) if P.x_exp[pi, i]]),0,2)\n",
    "                        P1 = g.act(P1)\n",
    "                        C.add_gate(g)\n",
    "                        if any(P.z_exp[pj, i] for i in range(P1.n_qudits())):\n",
    "                            g = CX(0,min([i for i in range(P1.n_qudits()) if P.z_exp[pj, i]]),2)\n",
    "                        elif any(P.x_exp[pj, i] for i in range(P1.n_qudits())):\n",
    "                            g = H(min([i for i in range(P1.n_qudits()) if P.x_exp[pj, i]]),2)\n",
    "                            P1 = g.act(P1)\n",
    "                            C.add_gate(g)\n",
    "                            g = CX(0,min([i for i in range(P1.n_qudits()) if P.z_exp[pj, i]]),2)\n",
    "                        C.add_gate(g)\n",
    "                        P1 = g.act(P1)\n",
    "                        px = pi\n",
    "                        pz = pj\n",
    "                    elif any(P.z_exp[pi, i] for i in range(P1.n_qudits())):\n",
    "                        g = CX(0,min([i for i in range(P1.n_qudits()) if P.z_exp[pi, i]]),2)\n",
    "                        P1 = g.act(P1)\n",
    "                        C.add_gate(g)\n",
    "                        if any(P.x_exp[pj, i] for i in range(P1.n_qudits())):\n",
    "                            g = CX(min([i for i in range(P1.n_qudits()) if P.x_exp[pj, i]]),0,2)\n",
    "                        elif any(P.z_exp[pj, i] for i in range(P1.n_qudits())):\n",
    "                            g = H(min([i for i in range(P1.n_qudits()) if P.z_exp[pj, i]]),2)\n",
    "                            P1 = g.act(P1)\n",
    "                            C.add_gate(g)\n",
    "                            g = CX(min([i for i in range(P1.n_qudits()) if P.x_exp[pj, i]]),0,2)\n",
    "                        C.add_gate(g)\n",
    "                        P1 = g.act(P1)\n",
    "                        px = pj\n",
    "                        pz = pi\n",
    "                \n",
    "                # cancel for pauli with x\n",
    "                P1, C = cancel_pauli(P1, 0, px, C, P1.n_qudits())\n",
    "                # cancel for pauli with z\n",
    "                g = H(0, P.dimensions[0])\n",
    "                C.add_gate(g)\n",
    "                P1 = g.act(P1)\n",
    "                P1, C = cancel_pauli(P1, 0, pz, C, n_qudits())  \n",
    "                g = H(0, P.dimensions[0])\n",
    "                C.add_gate(g)\n",
    "                P = g.act(P)\n",
    "\n",
    "                # check if all other paulis in the first qubit have either id, Y, or x and z but with the same coefficients\n",
    "                current_qubit_pauli_check = True\n",
    "                for i in range(P1.n_qudits()):\n",
    "                    if i != pi and i != pj:\n",
    "                        if P1.x_exp[i, 0] == 1 and P1.z_exp[i, 0] == 1: # Y\n",
    "                            continue\n",
    "                        elif P1.x_exp[i, 0] == 0 and P1.z_exp[i, 0] == 0: # I\n",
    "                            continue\n",
    "                        elif (P1.x_exp[i, 0] == 1 and P1.z_exp[i, 0] == 0) or (P1.x_exp[i, 0] == 0 and P1.z_exp[i, 0] == 1): # X, Z\n",
    "                            if i not in flatten_list(cc_bands):\n",
    "                                current_qubit_pauli_check = False\n",
    "                                break\n",
    "                            else:\n",
    "                                for b2 in cc_bands:\n",
    "                                    if i in b2:\n",
    "                                        if sum([P1.x_exp[j, 0] for j in b2]) - sum([P1.z_exp[j, 0] for j in b2]) == 0:\n",
    "                                            continue\n",
    "                                        else:\n",
    "                                            current_qubit_pauli_check = False\n",
    "                                            break\n",
    "                if current_qubit_pauli_check:\n",
    "                    continue\n",
    "                \n",
    "                # organize the remaining paulis to make detection of useful qubits easier\n",
    "                for i in range(1,P1.n_qudits()):\n",
    "                    C, pivots = symplectic_reduction_iter_qudit_(P.copy(), C, [], i)\n",
    "                P1 = C.act(P.copy())\n",
    "\n",
    "                # cancel the Y's in the first qubit\n",
    "                sym_paulis_candidates = [i for i in range(P1.n_paulis()) if (P1.x_exp[i,0] == 1 and P1.z_exp[i,0] == 0) or (P1.x_exp[i,0] == 0 and P1.z_exp[i,0] == 1)]\n",
    "                other_paulis = [i for i in range(P1.n_paulis()) if i not in sym_paulis_candidates]\n",
    "                P2 = P1.copy()\n",
    "                h_sym = False\n",
    "                h_sym_impossible = False\n",
    "                no_forcings = False\n",
    "                no_qubits = False\n",
    "                usable_qubits = [i for i in range(1,P1.n_qudits())]\n",
    "                gate_options = [[0,1,2,3] for i in range(P1.n_qudits()-1)]\n",
    "                while not no_forcings and len(usable_qubits) > 0 and not h_sym and not h_sym_impossible:\n",
    "                    list_n_I = [number_of_I(P2,Pauli_index,usable_qubits) for Pauli_index in range(P.n_paulis())]\n",
    "                    #print('list_n_I',list_n_I)\n",
    "                    forcing_candidates_paulis = [i for i in range(P.n_paulis()) if list_n_I[i] == len(usable_qubits) - 1 and i not in sym_paulis_candidates]\n",
    "                    #print('forcing_candidates_paulis',forcing_candidates_paulis)\n",
    "                    forcing_candidates_qubits = []\n",
    "                    for i in forcing_candidates_paulis:\n",
    "                        qubit_index = min([j for j in usable_qubits if (P1.x_exp[i,j]+P1.z_exp[i,j]) != 0])\n",
    "                        if qubit_index not in forcing_candidates_qubits:\n",
    "                            forcing_candidates_qubits.append(qubit_index)\n",
    "                    #print('forcing_candidates_qubits',forcing_candidates_qubits)\n",
    "                    if len(forcing_candidates_qubits) == 0:\n",
    "                        no_forcings = True\n",
    "                    for qi in forcing_candidates_qubits:\n",
    "                        pauli_indexes = [i for i in forcing_candidates_paulis if (P2.x_exp[i,qi]+P2.z_exp[i,qi]) != 0]\n",
    "                        #print('pauli_indexes',pauli_indexes)\n",
    "                        first_qubit_x = P2.x_exp[[j for j in pauli_indexes],0]\n",
    "                        #print('first_qubit_x',first_qubit_x)\n",
    "                        if len(pauli_indexes) > 1: \n",
    "                            if not any(first_qubit_x):\n",
    "                                print(gate_options[qi-1])\n",
    "                                gate_options[qi-1].remove(1)\n",
    "                                gate_options[qi-1].remove(2)\n",
    "                                gate_options[qi-1].remove(3)\n",
    "                                usable_qubits.remove(qi)\n",
    "                                # identity\n",
    "                            elif not any((first_qubit_x + P1.x_exp[[j for j in pauli_indexes],qi])%2):\n",
    "                                gate_options[qi-1].remove(0)\n",
    "                                gate_options[qi-1].remove(2)\n",
    "                                gate_options[qi-1].remove(3)\n",
    "                                g = add_r2(qi)\n",
    "                                P2 = g.act(P2)\n",
    "                                usable_qubits.remove(qi)\n",
    "                            elif not any((first_qubit_x + P1.z_exp[[j for j in pauli_indexes],qi])%2):\n",
    "                                gate_options[qi-1].remove(0)\n",
    "                                gate_options[qi-1].remove(1)\n",
    "                                gate_options[qi-1].remove(3)\n",
    "                                g = add_s2(qi)\n",
    "                                P2 = g.act(P2)\n",
    "                                usable_qubits.remove(qi)\n",
    "                            elif not any((first_qubit_x + P1.z_exp[[j for j in pauli_indexes],qi] + P1.x_exp[[j for j in pauli_indexes],qi])%2):\n",
    "                                print(gate_options[qi-1])\n",
    "                                gate_options[qi-1].remove(0)\n",
    "                                gate_options[qi-1].remove(1)\n",
    "                                gate_options[qi-1].remove(2)\n",
    "                                g = add_r2s2(qi)\n",
    "                                P2 = g.act(P2)\n",
    "                                usable_qubits.remove(qi)\n",
    "                            else:\n",
    "                                gate_options[qi-1].remove(0)\n",
    "                                gate_options[qi-1].remove(1)\n",
    "                                gate_options[qi-1].remove(2)\n",
    "                                gate_options[qi-1].remove(3)\n",
    "                                h_sym_impossible = True\n",
    "                                #print('Not Possible')\n",
    "                                usable_qubits.remove(qi)\n",
    "                            break\n",
    "                        else:\n",
    "                            continue\n",
    "                    first_qubit_x = P2.x_exp[other_paulis,0]\n",
    "                    #print('usable_qubits',usable_qubits)\n",
    "                    #print('gate_options',gate_options)\n",
    "                    if not any(first_qubit_x%2):\n",
    "                        h_sym = True\n",
    "\n",
    "                print(P2)\n",
    "                if not h_sym and not h_sym_impossible:\n",
    "                    addition_options_lens = []\n",
    "                    for l in gate_options:\n",
    "                        addition_options_lens.append(len(l))\n",
    "                    max_options = np.prod(addition_options_lens)\n",
    "                    for i in range(max_options):\n",
    "                        addition_options = int_to_bases(i,dims=addition_options_lens)\n",
    "                        first_qubit_x = P2.x_exp[[j for j in range(P1.n_paulis()) if j not in sym_paulis_candidates],0]\n",
    "                        for k in range(len(addition_options)):\n",
    "                            if addition_options[k] == 0:\n",
    "                                pass\n",
    "                            elif addition_options[k] == 1:\n",
    "                                first_qubit_x += P2.x_exp[other_paulis,k+1]\n",
    "                            elif addition_options[k] == 2:\n",
    "                                first_qubit_x += P2.z_exp[other_paulis,k+1]\n",
    "                            elif addition_options[k] == 3:\n",
    "                                first_qubit_x += P2.x_exp[other_paulis,k+1] + P2.z_exp[other_paulis,k+1]\n",
    "                        #print(first_qubit_x%2)\n",
    "                        if not any(first_qubit_x%2):\n",
    "                            print('found solution')\n",
    "                            print(addition_options)\n",
    "                            for j,k in enumerate(addition_options):\n",
    "                                if addition_options_lens[j] > 1:\n",
    "                                    if k == 0:\n",
    "                                        pass\n",
    "                                    elif k == 1:\n",
    "                                        g = add_r2(j)\n",
    "                                        P2 = g.act(P2)\n",
    "                                    elif k == 2:\n",
    "                                        g = add_s2(j)\n",
    "                                        P2 = g.act(P2)\n",
    "                                    elif k == 3:\n",
    "                                        g = add_r2s2(j)\n",
    "                                        P2 = g.act(P2) \n",
    "                            break\n",
    "\n",
    "                first_qubit_x = P2.x_exp[other_paulis,0]\n",
    "                if any(first_qubit_x%2):\n",
    "                    print('No Hadamard Symmetry')\n",
    "                else:\n",
    "                    # Erase phase\n",
    "                    #                 \n",
    "                            \n",
    "\n",
    "\n",
    "\n",
    "'''\n",
    "# Step 1 commutation test\n",
    "for i in range(len(cc_bands)):\n",
    "    for j in range(len(cc_bands[i])):\n",
    "        for k in range(j+1,len(cc_bands[i])):\n",
    "            c1 = cc_bands[i][j]\n",
    "            c2 = cc_bands[i][k]\n",
    "            #print(c1,c2)\n",
    "            # check if they commute\n",
    "            print(c1,c2,P1.is_commuting(pauli_string_indexes=(c1,c2)))\n",
    "\n",
    "# Step 2 choose anti-commuting pairs in the same band\n",
    "\n",
    "p_i = 15\n",
    "p_j = 16\n",
    "C = Circuit(dimensions=[2 for i in range(8)])\n",
    "P1,C = cancel_pauli(P1,0,p_i,C,8)\n",
    "print(P1)\n",
    "g = H(0, P.dimensions[0])\n",
    "C.add_gate(g)\n",
    "P1 = g.act(P1)\n",
    "\n",
    "P1, C = cancel_pauli(P1, 0, p_j, C, 8)  ## ### ## \n",
    "\n",
    "g = H(0, P.dimensions[0])\n",
    "C.add_gate(g)\n",
    "P = g.act(P)\n",
    "print()\n",
    "print(P1)\n",
    "print()\n",
    "\n",
    "# Step 3 (optional) erase phase\n",
    "gg = [CX(1, 0, 2),H(0,2),CX(0,1,2),S(0,2),S(1,2),CX(0,1,2),H(0,2)]\n",
    "for g in gg:\n",
    "    C.add_gate(g)\n",
    "    #print(g)\n",
    "    P1 = g.act(P1)\n",
    "print(P1)\n",
    "'''"
   ]
  },
  {
   "cell_type": "code",
   "execution_count": null,
   "id": "f1c15c49",
   "metadata": {},
   "outputs": [],
   "source": []
  },
  {
   "cell_type": "code",
   "execution_count": 16,
   "id": "98fadd44",
   "metadata": {},
   "outputs": [],
   "source": [
    "def find_circuit(start_pauli,goal_pauli,iterations,compare_phases = False):\n",
    "    n_qudits = start_pauli.n_qudits()\n",
    "    SUMs = [CX(i, j, 2) for i in range(n_qudits) for j in range(n_qudits) if i != j]\n",
    "    Ss = [S(i, 2) for i in range(n_qudits)]\n",
    "    Hs = [H(i, 2) for i in range(n_qudits)]\n",
    "    all_gates = SUMs + Ss + Hs\n",
    "\n",
    "    goal_circuits = []\n",
    "    circuits = [Circuit(dimensions=[2 for i in range(n_qudits)])]\n",
    "    intermediate_paulis = [start_pauli.copy()]\n",
    "    for i in range(iterations):\n",
    "        print(i,len(intermediate_paulis),len(goal_circuits))\n",
    "        intermediate_paulis_old = intermediate_paulis.copy()\n",
    "        for i,p in enumerate(intermediate_paulis_old):\n",
    "            for g in all_gates:\n",
    "                P_temp = g.act(p)\n",
    "                if not compare_phases:  \n",
    "                    P_temp.phases = [0] \n",
    "                C_temp = Circuit(dimensions=[2 for i in range(n_qudits)])\n",
    "                for g2 in circuits[i].gates:\n",
    "                    C_temp.add_gate(g2)\n",
    "                C_temp.add_gate(g)\n",
    "                if P_temp not in intermediate_paulis:\n",
    "                    intermediate_paulis.append(P_temp)\n",
    "                    circuits.append(C_temp)\n",
    "                if P_temp == goal_pauli:\n",
    "                    goal_circuits.append(C_temp)\n",
    "                    #print(\"Found goal circuit\") \n",
    "    return(goal_circuits)\n",
    "\n"
   ]
  },
  {
   "cell_type": "code",
   "execution_count": 89,
   "id": "73ab29ae",
   "metadata": {},
   "outputs": [],
   "source": [
    "import sympy as sym\n",
    "from sympy.physics.quantum import TensorProduct,Operator"
   ]
  },
  {
   "cell_type": "code",
   "execution_count": 179,
   "id": "70aa738a",
   "metadata": {},
   "outputs": [],
   "source": [
    "def modulo_2(expr):\n",
    "    \"\"\"\n",
    "    Takes a SymPy expression and reduces its coefficients modulo 2.\n",
    "    \"\"\"\n",
    "    # Expand the expression to handle all terms\n",
    "    expr = expr.expand()\n",
    "    \n",
    "    # Iterate through the terms and apply modulo 2 to coefficients\n",
    "    terms = expr.as_ordered_terms()\n",
    "    mod_expr = sum(sym.Mod(term.as_coeff_Mul()[0], 2) * term.as_coeff_Mul()[1] for term in terms)\n",
    "    \n",
    "    return mod_expr\n",
    "\n",
    "def reduce_exponents(expr):\n",
    "    \"\"\"\n",
    "    Reduces all exponents in a SymPy expression to zero, assuming symbols are binary (0 or 1).\n",
    "    \n",
    "    Args:\n",
    "        expr (sympy.Expr): The input SymPy expression.\n",
    "    \n",
    "    Returns:\n",
    "        sympy.Expr: The modified expression with all exponents set to zero.\n",
    "    \"\"\"\n",
    "    expr = sym.expand(expr)  # Expand the expression to handle all terms\n",
    "    return expr.replace(lambda x: x.is_Pow, lambda x: x.base)\n",
    "\n",
    "def symplectic_effect(circuit):\n",
    "    n_qudits = len(circuit.dimensions)\n",
    "    #print(n_qudits)\n",
    "    r_now = list(sym.symbols([f'r{i}' for i in range(1, n_qudits+1)]))\n",
    "    omega = sym.symbols('omega')\n",
    "    #print(len(r_now))\n",
    "    s_now = list(sym.symbols([f's{i}' for i in range(1, n_qudits+1)]))\n",
    "    r_next = [r_now[i] for i in range(n_qudits)]\n",
    "    s_next = [s_now[i] for i in range(n_qudits)]\n",
    "\n",
    "    #r1_start, r2_start, s1_start, s2_start = sym.symbols('r1 r2 s1 s2')\n",
    "    X = Operator('X')\n",
    "    Z = Operator('Z')\n",
    "\n",
    "    phase = 0\n",
    "    gates = circuit.gates\n",
    "    qubits = circuit.indexes\n",
    "    for i,g in enumerate(gates):\n",
    "        if g.name == 'SUM':\n",
    "            r_next[qubits[i][1]] = r_now[qubits[i][0]] + r_now[qubits[i][1]]\n",
    "            s_next[qubits[i][0]] = s_now[qubits[i][0]] + s_now[qubits[i][1]]\n",
    "        elif g.name == 'H' or g.name == 'HADAMARD':\n",
    "            r_next[qubits[i][0]] = s_now[qubits[i][0]]\n",
    "            s_next[qubits[i][0]] = r_now[qubits[i][0]]\n",
    "            phase += s_now[qubits[i][0]] * r_now[qubits[i][0]]\n",
    "        elif g.name == 'S' or g.name == 'PHASE':\n",
    "            s_next[qubits[i][0]] = s_now[qubits[i][0]] + r_now[qubits[i][0]]\n",
    "            phase += r_now[qubits[i][0]] * (r_now[qubits[i][0]]-1)/2\n",
    "        r_now = [r_next[i] for i in range(n_qudits)]\n",
    "        s_now = [s_next[i] for i in range(n_qudits)]\n",
    "    final = TensorProduct(X**(modulo_2(r_now[0])) * Z**(modulo_2(s_now[0])), X**(modulo_2(r_now[1])) * Z**(modulo_2(s_now[1])))\n",
    "    for i in range(2, n_qudits):\n",
    "        final = TensorProduct(final, X**(modulo_2(r_now[i])) * Z**(modulo_2(s_now[i])))\n",
    "    \n",
    "    display(omega**modulo_2(reduce_exponents(modulo_2(sym.simplify(phase)))) * final)\n",
    "    return()\n"
   ]
  },
  {
   "cell_type": "code",
   "execution_count": 216,
   "id": "7af3d23c",
   "metadata": {},
   "outputs": [
    {
     "name": "stdout",
     "output_type": "stream",
     "text": [
      "r\n"
     ]
    }
   ],
   "source": [
    "r, s = sym.symbols('r s')\n",
    "expr = 13 * r + 8 * s\n",
    "result = modulo_2(expr)\n",
    "print(result)  "
   ]
  },
  {
   "cell_type": "code",
   "execution_count": 182,
   "id": "baed09fc",
   "metadata": {},
   "outputs": [
    {
     "name": "stdout",
     "output_type": "stream",
     "text": [
      "SUM [0, 1]\n",
      "H [0]\n",
      "SUM [0, 1]\n",
      "SUM [1, 2]\n",
      "H [1]\n",
      "\n"
     ]
    }
   ],
   "source": [
    "#symplectic_effect(goal_circuits[0])\n",
    "print(goal_circuits[0])"
   ]
  },
  {
   "cell_type": "code",
   "execution_count": 148,
   "id": "564c1aab",
   "metadata": {},
   "outputs": [
    {
     "name": "stdout",
     "output_type": "stream",
     "text": [
      "SUM [1, 0]\n",
      "H [1]\n",
      "SUM [0, 1]\n",
      "\n"
     ]
    }
   ],
   "source": [
    "for i,g in enumerate(goal_circuits):\n",
    "    print(g)"
   ]
  },
  {
   "cell_type": "code",
   "execution_count": null,
   "id": "38899356",
   "metadata": {},
   "outputs": [
    {
     "name": "stdout",
     "output_type": "stream",
     "text": [
      "SORTING\n",
      "SORTING\n",
      "0 1 0\n",
      "1 7 0\n",
      "2 30 0\n",
      "3 104 1\n",
      "4 239 2\n",
      "5 381 8\n",
      "6 466 14\n",
      "7 480 20\n",
      "SORTING\n",
      "(1+0j)|x0z1 x0z1 | 1 \n",
      "\n"
     ]
    },
    {
     "data": {
      "text/latex": [
       "$\\displaystyle \\omega^{r_{1} s_{1} + r_{2} s_{1}} \\left({X^{r_{2} + s_{1}} Z^{r_{1} + r_{2}}}\\right)\\otimes \\left({X^{r_{2}} Z^{r_{1} + r_{2} + s_{1} + s_{2}}}\\right)$"
      ],
      "text/plain": [
       "omega**(r1*s1 + r2*s1)*(X**(r2 + s1)*Z**(r1 + r2))x(X**r2*Z**(r1 + r2 + s1 + s2))"
      ]
     },
     "metadata": {},
     "output_type": "display_data"
    },
    {
     "name": "stdout",
     "output_type": "stream",
     "text": [
      "SORTING\n",
      "(1+0j)|x0z1 x0z1 | 1 \n",
      "\n"
     ]
    },
    {
     "data": {
      "text/latex": [
       "$\\displaystyle \\omega^{r_{1} s_{1} + r_{2} s_{1}} \\left({X^{r_{2} + s_{1}} Z^{r_{1} + r_{2}}}\\right)\\otimes \\left({X^{r_{2}} Z^{r_{1} + r_{2} + s_{1} + s_{2}}}\\right)$"
      ],
      "text/plain": [
       "omega**(r1*s1 + r2*s1)*(X**(r2 + s1)*Z**(r1 + r2))x(X**r2*Z**(r1 + r2 + s1 + s2))"
      ]
     },
     "metadata": {},
     "output_type": "display_data"
    },
    {
     "name": "stdout",
     "output_type": "stream",
     "text": [
      "SORTING\n",
      "(1+0j)|x0z1 x0z1 | 1 \n",
      "\n"
     ]
    },
    {
     "data": {
      "text/latex": [
       "$\\displaystyle \\omega^{r_{1} s_{1} + r_{2} s_{1}} \\left({X^{r_{2} + s_{1}} Z^{r_{1} + r_{2}}}\\right)\\otimes \\left({X^{r_{2}} Z^{r_{1} + r_{2} + s_{1} + s_{2}}}\\right)$"
      ],
      "text/plain": [
       "omega**(r1*s1 + r2*s1)*(X**(r2 + s1)*Z**(r1 + r2))x(X**r2*Z**(r1 + r2 + s1 + s2))"
      ]
     },
     "metadata": {},
     "output_type": "display_data"
    },
    {
     "name": "stdout",
     "output_type": "stream",
     "text": [
      "SORTING\n",
      "(1+0j)|x0z1 x0z1 | 1 \n",
      "\n"
     ]
    },
    {
     "data": {
      "text/latex": [
       "$\\displaystyle \\omega^{r_{1} s_{1} + r_{2} s_{1}} \\left({X^{r_{2} + s_{1}} Z^{r_{1} + r_{2}}}\\right)\\otimes \\left({X^{r_{2}} Z^{r_{1} + r_{2} + s_{1} + s_{2}}}\\right)$"
      ],
      "text/plain": [
       "omega**(r1*s1 + r2*s1)*(X**(r2 + s1)*Z**(r1 + r2))x(X**r2*Z**(r1 + r2 + s1 + s2))"
      ]
     },
     "metadata": {},
     "output_type": "display_data"
    },
    {
     "name": "stdout",
     "output_type": "stream",
     "text": [
      "SORTING\n",
      "(1+0j)|x0z1 x0z1 | 1 \n",
      "\n"
     ]
    },
    {
     "data": {
      "text/latex": [
       "$\\displaystyle \\omega^{r_{1} s_{1} + r_{2} s_{1}} \\left({X^{r_{2} + s_{1}} Z^{r_{1} + r_{2}}}\\right)\\otimes \\left({X^{r_{2}} Z^{r_{1} + r_{2} + s_{1} + s_{2}}}\\right)$"
      ],
      "text/plain": [
       "omega**(r1*s1 + r2*s1)*(X**(r2 + s1)*Z**(r1 + r2))x(X**r2*Z**(r1 + r2 + s1 + s2))"
      ]
     },
     "metadata": {},
     "output_type": "display_data"
    },
    {
     "name": "stdout",
     "output_type": "stream",
     "text": [
      "SORTING\n",
      "(1+0j)|x0z1 x0z1 | 1 \n",
      "\n"
     ]
    },
    {
     "data": {
      "text/latex": [
       "$\\displaystyle \\omega^{r_{1} s_{1} + r_{2} s_{1}} \\left({X^{r_{2} + s_{1}} Z^{r_{1} + r_{2}}}\\right)\\otimes \\left({X^{r_{2}} Z^{r_{1} + r_{2} + s_{1} + s_{2}}}\\right)$"
      ],
      "text/plain": [
       "omega**(r1*s1 + r2*s1)*(X**(r2 + s1)*Z**(r1 + r2))x(X**r2*Z**(r1 + r2 + s1 + s2))"
      ]
     },
     "metadata": {},
     "output_type": "display_data"
    },
    {
     "name": "stdout",
     "output_type": "stream",
     "text": [
      "SORTING\n",
      "(1+0j)|x0z1 x0z1 | 1 \n",
      "\n"
     ]
    },
    {
     "data": {
      "text/latex": [
       "$\\displaystyle \\omega^{r_{1} s_{1} + r_{2} s_{1}} \\left({X^{r_{2} + s_{1}} Z^{r_{1} + r_{2}}}\\right)\\otimes \\left({X^{r_{2}} Z^{r_{1} + r_{2} + s_{1} + s_{2}}}\\right)$"
      ],
      "text/plain": [
       "omega**(r1*s1 + r2*s1)*(X**(r2 + s1)*Z**(r1 + r2))x(X**r2*Z**(r1 + r2 + s1 + s2))"
      ]
     },
     "metadata": {},
     "output_type": "display_data"
    },
    {
     "name": "stdout",
     "output_type": "stream",
     "text": [
      "SORTING\n",
      "(1+0j)|x0z1 x0z1 | 1 \n",
      "\n"
     ]
    },
    {
     "data": {
      "text/latex": [
       "$\\displaystyle \\omega^{r_{1} s_{1} + r_{2} s_{1}} \\left({X^{r_{2} + s_{1}} Z^{r_{1} + r_{2}}}\\right)\\otimes \\left({X^{r_{2}} Z^{r_{1} + r_{2} + s_{1} + s_{2}}}\\right)$"
      ],
      "text/plain": [
       "omega**(r1*s1 + r2*s1)*(X**(r2 + s1)*Z**(r1 + r2))x(X**r2*Z**(r1 + r2 + s1 + s2))"
      ]
     },
     "metadata": {},
     "output_type": "display_data"
    },
    {
     "name": "stdout",
     "output_type": "stream",
     "text": [
      "SORTING\n",
      "(1+0j)|x0z1 x0z1 | 1 \n",
      "\n"
     ]
    },
    {
     "data": {
      "text/latex": [
       "$\\displaystyle \\omega^{r_{1} s_{1} + r_{2} s_{1}} \\left({X^{r_{2} + s_{1}} Z^{r_{1} + r_{2}}}\\right)\\otimes \\left({X^{r_{2}} Z^{r_{1} + r_{2} + s_{1} + s_{2}}}\\right)$"
      ],
      "text/plain": [
       "omega**(r1*s1 + r2*s1)*(X**(r2 + s1)*Z**(r1 + r2))x(X**r2*Z**(r1 + r2 + s1 + s2))"
      ]
     },
     "metadata": {},
     "output_type": "display_data"
    },
    {
     "name": "stdout",
     "output_type": "stream",
     "text": [
      "SORTING\n",
      "(1+0j)|x0z1 x0z1 | 1 \n",
      "\n"
     ]
    },
    {
     "data": {
      "text/latex": [
       "$\\displaystyle \\omega^{r_{1} s_{1} + r_{2} s_{1}} \\left({X^{r_{2} + s_{1}} Z^{r_{1} + r_{2}}}\\right)\\otimes \\left({X^{r_{2}} Z^{r_{1} + r_{2} + s_{1} + s_{2}}}\\right)$"
      ],
      "text/plain": [
       "omega**(r1*s1 + r2*s1)*(X**(r2 + s1)*Z**(r1 + r2))x(X**r2*Z**(r1 + r2 + s1 + s2))"
      ]
     },
     "metadata": {},
     "output_type": "display_data"
    },
    {
     "name": "stdout",
     "output_type": "stream",
     "text": [
      "SORTING\n",
      "(1+0j)|x0z1 x0z1 | 1 \n",
      "\n"
     ]
    },
    {
     "data": {
      "text/latex": [
       "$\\displaystyle \\omega^{r_{1} s_{1} + r_{2} s_{1}} \\left({X^{r_{2} + s_{1}} Z^{r_{1} + r_{2}}}\\right)\\otimes \\left({X^{r_{2}} Z^{r_{1} + r_{2} + s_{1} + s_{2}}}\\right)$"
      ],
      "text/plain": [
       "omega**(r1*s1 + r2*s1)*(X**(r2 + s1)*Z**(r1 + r2))x(X**r2*Z**(r1 + r2 + s1 + s2))"
      ]
     },
     "metadata": {},
     "output_type": "display_data"
    },
    {
     "name": "stdout",
     "output_type": "stream",
     "text": [
      "SORTING\n",
      "(1+0j)|x0z1 x0z1 | 1 \n",
      "\n"
     ]
    },
    {
     "data": {
      "text/latex": [
       "$\\displaystyle \\omega^{r_{1} s_{1} + r_{2} s_{1}} \\left({X^{r_{2} + s_{1}} Z^{r_{1} + r_{2}}}\\right)\\otimes \\left({X^{r_{2}} Z^{r_{1} + r_{2} + s_{1} + s_{2}}}\\right)$"
      ],
      "text/plain": [
       "omega**(r1*s1 + r2*s1)*(X**(r2 + s1)*Z**(r1 + r2))x(X**r2*Z**(r1 + r2 + s1 + s2))"
      ]
     },
     "metadata": {},
     "output_type": "display_data"
    },
    {
     "name": "stdout",
     "output_type": "stream",
     "text": [
      "SORTING\n",
      "(1+0j)|x0z1 x0z1 | 1 \n",
      "\n"
     ]
    },
    {
     "data": {
      "text/latex": [
       "$\\displaystyle \\omega^{r_{1} s_{1} + r_{2} s_{1}} \\left({X^{r_{2} + s_{1}} Z^{r_{1} + r_{2}}}\\right)\\otimes \\left({X^{r_{2}} Z^{r_{1} + r_{2} + s_{1} + s_{2}}}\\right)$"
      ],
      "text/plain": [
       "omega**(r1*s1 + r2*s1)*(X**(r2 + s1)*Z**(r1 + r2))x(X**r2*Z**(r1 + r2 + s1 + s2))"
      ]
     },
     "metadata": {},
     "output_type": "display_data"
    },
    {
     "name": "stdout",
     "output_type": "stream",
     "text": [
      "SORTING\n",
      "(1+0j)|x0z1 x0z1 | 1 \n",
      "\n"
     ]
    },
    {
     "data": {
      "text/latex": [
       "$\\displaystyle \\omega^{r_{1} s_{1} + r_{2} s_{1}} \\left({X^{r_{2} + s_{1}} Z^{r_{1} + r_{2}}}\\right)\\otimes \\left({X^{r_{2}} Z^{r_{1} + r_{2} + s_{1} + s_{2}}}\\right)$"
      ],
      "text/plain": [
       "omega**(r1*s1 + r2*s1)*(X**(r2 + s1)*Z**(r1 + r2))x(X**r2*Z**(r1 + r2 + s1 + s2))"
      ]
     },
     "metadata": {},
     "output_type": "display_data"
    },
    {
     "name": "stdout",
     "output_type": "stream",
     "text": [
      "SORTING\n",
      "(1+0j)|x0z1 x0z1 | 1 \n",
      "\n"
     ]
    },
    {
     "data": {
      "text/latex": [
       "$\\displaystyle \\omega^{r_{1} s_{1} + r_{2} s_{1}} \\left({X^{r_{2} + s_{1}} Z^{r_{1} + r_{2}}}\\right)\\otimes \\left({X^{r_{2}} Z^{r_{1} + r_{2} + s_{1} + s_{2}}}\\right)$"
      ],
      "text/plain": [
       "omega**(r1*s1 + r2*s1)*(X**(r2 + s1)*Z**(r1 + r2))x(X**r2*Z**(r1 + r2 + s1 + s2))"
      ]
     },
     "metadata": {},
     "output_type": "display_data"
    },
    {
     "name": "stdout",
     "output_type": "stream",
     "text": [
      "SORTING\n",
      "(1+0j)|x0z1 x0z1 | 1 \n",
      "\n"
     ]
    },
    {
     "data": {
      "text/latex": [
       "$\\displaystyle \\omega^{r_{1} s_{1} + r_{2} s_{1}} \\left({X^{r_{2} + s_{1}} Z^{r_{1} + r_{2}}}\\right)\\otimes \\left({X^{r_{2}} Z^{r_{1} + r_{2} + s_{1} + s_{2}}}\\right)$"
      ],
      "text/plain": [
       "omega**(r1*s1 + r2*s1)*(X**(r2 + s1)*Z**(r1 + r2))x(X**r2*Z**(r1 + r2 + s1 + s2))"
      ]
     },
     "metadata": {},
     "output_type": "display_data"
    },
    {
     "name": "stdout",
     "output_type": "stream",
     "text": [
      "SORTING\n",
      "(1+0j)|x0z1 x0z1 | 1 \n",
      "\n"
     ]
    },
    {
     "data": {
      "text/latex": [
       "$\\displaystyle \\omega^{r_{1} s_{1} + r_{2} s_{1}} \\left({X^{r_{2} + s_{1}} Z^{r_{1} + r_{2}}}\\right)\\otimes \\left({X^{r_{2}} Z^{r_{1} + r_{2} + s_{1} + s_{2}}}\\right)$"
      ],
      "text/plain": [
       "omega**(r1*s1 + r2*s1)*(X**(r2 + s1)*Z**(r1 + r2))x(X**r2*Z**(r1 + r2 + s1 + s2))"
      ]
     },
     "metadata": {},
     "output_type": "display_data"
    },
    {
     "name": "stdout",
     "output_type": "stream",
     "text": [
      "SORTING\n",
      "(1+0j)|x0z1 x0z1 | 1 \n",
      "\n"
     ]
    },
    {
     "data": {
      "text/latex": [
       "$\\displaystyle \\omega^{r_{1} s_{1} + r_{2} s_{1}} \\left({X^{r_{2} + s_{1}} Z^{r_{1} + r_{2}}}\\right)\\otimes \\left({X^{r_{2}} Z^{r_{1} + r_{2} + s_{1} + s_{2}}}\\right)$"
      ],
      "text/plain": [
       "omega**(r1*s1 + r2*s1)*(X**(r2 + s1)*Z**(r1 + r2))x(X**r2*Z**(r1 + r2 + s1 + s2))"
      ]
     },
     "metadata": {},
     "output_type": "display_data"
    },
    {
     "name": "stdout",
     "output_type": "stream",
     "text": [
      "SORTING\n",
      "(1+0j)|x0z1 x0z1 | 1 \n",
      "\n"
     ]
    },
    {
     "data": {
      "text/latex": [
       "$\\displaystyle \\omega^{r_{1} s_{1} + r_{2} s_{1}} \\left({X^{r_{2} + s_{1}} Z^{r_{1} + r_{2}}}\\right)\\otimes \\left({X^{r_{2}} Z^{r_{1} + r_{2} + s_{1} + s_{2}}}\\right)$"
      ],
      "text/plain": [
       "omega**(r1*s1 + r2*s1)*(X**(r2 + s1)*Z**(r1 + r2))x(X**r2*Z**(r1 + r2 + s1 + s2))"
      ]
     },
     "metadata": {},
     "output_type": "display_data"
    },
    {
     "name": "stdout",
     "output_type": "stream",
     "text": [
      "SORTING\n",
      "(1+0j)|x0z1 x0z1 | 1 \n",
      "\n"
     ]
    },
    {
     "data": {
      "text/latex": [
       "$\\displaystyle \\omega^{r_{1} s_{1} + r_{2} s_{1}} \\left({X^{r_{2} + s_{1}} Z^{r_{1} + r_{2}}}\\right)\\otimes \\left({X^{r_{2}} Z^{r_{1} + r_{2} + s_{1} + s_{2}}}\\right)$"
      ],
      "text/plain": [
       "omega**(r1*s1 + r2*s1)*(X**(r2 + s1)*Z**(r1 + r2))x(X**r2*Z**(r1 + r2 + s1 + s2))"
      ]
     },
     "metadata": {},
     "output_type": "display_data"
    },
    {
     "name": "stdout",
     "output_type": "stream",
     "text": [
      "SORTING\n",
      "(1+0j)|x0z1 x0z1 | 1 \n",
      "\n"
     ]
    },
    {
     "data": {
      "text/latex": [
       "$\\displaystyle \\omega^{r_{1} s_{1} + r_{2} s_{1}} \\left({X^{r_{2} + s_{1}} Z^{r_{1} + r_{2}}}\\right)\\otimes \\left({X^{r_{2}} Z^{r_{1} + r_{2} + s_{1} + s_{2}}}\\right)$"
      ],
      "text/plain": [
       "omega**(r1*s1 + r2*s1)*(X**(r2 + s1)*Z**(r1 + r2))x(X**r2*Z**(r1 + r2 + s1 + s2))"
      ]
     },
     "metadata": {},
     "output_type": "display_data"
    },
    {
     "name": "stdout",
     "output_type": "stream",
     "text": [
      "SORTING\n",
      "(1+0j)|x0z1 x0z1 | 1 \n",
      "\n"
     ]
    },
    {
     "data": {
      "text/latex": [
       "$\\displaystyle \\omega^{r_{1} s_{1} + r_{2} s_{1}} \\left({X^{r_{2} + s_{1}} Z^{r_{1} + r_{2}}}\\right)\\otimes \\left({X^{r_{2}} Z^{r_{1} + r_{2} + s_{1} + s_{2}}}\\right)$"
      ],
      "text/plain": [
       "omega**(r1*s1 + r2*s1)*(X**(r2 + s1)*Z**(r1 + r2))x(X**r2*Z**(r1 + r2 + s1 + s2))"
      ]
     },
     "metadata": {},
     "output_type": "display_data"
    },
    {
     "name": "stdout",
     "output_type": "stream",
     "text": [
      "SORTING\n",
      "(1+0j)|x0z1 x0z1 | 1 \n",
      "\n"
     ]
    },
    {
     "data": {
      "text/latex": [
       "$\\displaystyle \\omega^{r_{1} s_{1} + r_{2} s_{1}} \\left({X^{r_{2} + s_{1}} Z^{r_{1} + r_{2}}}\\right)\\otimes \\left({X^{r_{2}} Z^{r_{1} + r_{2} + s_{1} + s_{2}}}\\right)$"
      ],
      "text/plain": [
       "omega**(r1*s1 + r2*s1)*(X**(r2 + s1)*Z**(r1 + r2))x(X**r2*Z**(r1 + r2 + s1 + s2))"
      ]
     },
     "metadata": {},
     "output_type": "display_data"
    },
    {
     "name": "stdout",
     "output_type": "stream",
     "text": [
      "SORTING\n",
      "(1+0j)|x0z1 x0z1 | 1 \n",
      "\n"
     ]
    },
    {
     "data": {
      "text/latex": [
       "$\\displaystyle \\omega^{r_{1} s_{1} + r_{2} s_{1}} \\left({X^{r_{2} + s_{1}} Z^{r_{1} + r_{2}}}\\right)\\otimes \\left({X^{r_{2}} Z^{r_{1} + r_{2} + s_{1} + s_{2}}}\\right)$"
      ],
      "text/plain": [
       "omega**(r1*s1 + r2*s1)*(X**(r2 + s1)*Z**(r1 + r2))x(X**r2*Z**(r1 + r2 + s1 + s2))"
      ]
     },
     "metadata": {},
     "output_type": "display_data"
    },
    {
     "name": "stdout",
     "output_type": "stream",
     "text": [
      "SORTING\n",
      "(1+0j)|x0z1 x0z1 | 1 \n",
      "\n"
     ]
    },
    {
     "data": {
      "text/latex": [
       "$\\displaystyle \\omega^{r_{1} s_{1} + r_{2} s_{1}} \\left({X^{r_{2} + s_{1}} Z^{r_{1} + r_{2}}}\\right)\\otimes \\left({X^{r_{2}} Z^{r_{1} + r_{2} + s_{1} + s_{2}}}\\right)$"
      ],
      "text/plain": [
       "omega**(r1*s1 + r2*s1)*(X**(r2 + s1)*Z**(r1 + r2))x(X**r2*Z**(r1 + r2 + s1 + s2))"
      ]
     },
     "metadata": {},
     "output_type": "display_data"
    },
    {
     "name": "stdout",
     "output_type": "stream",
     "text": [
      "SORTING\n",
      "(1+0j)|x0z1 x0z1 | 1 \n",
      "\n"
     ]
    },
    {
     "data": {
      "text/latex": [
       "$\\displaystyle \\omega^{r_{1} s_{1} + r_{2} s_{1}} \\left({X^{r_{2} + s_{1}} Z^{r_{1} + r_{2}}}\\right)\\otimes \\left({X^{r_{2}} Z^{r_{1} + r_{2} + s_{1} + s_{2}}}\\right)$"
      ],
      "text/plain": [
       "omega**(r1*s1 + r2*s1)*(X**(r2 + s1)*Z**(r1 + r2))x(X**r2*Z**(r1 + r2 + s1 + s2))"
      ]
     },
     "metadata": {},
     "output_type": "display_data"
    }
   ],
   "source": [
    "start_pauli = PauliSum(['x1z0 x1z0', 'x0z1 x1z0'], dimensions=[2, 2], phases=[0,1])\n",
    "goal_pauli = PauliSum(['x1z0 x1z0', 'x0z1 x1z0'], dimensions=[2, 2], phases=[0,0])\n",
    "iterations = 8\n",
    "goal_circuits = find_circuit(start_pauli,goal_pauli,iterations,compare_phases=True)\n",
    "for i,c in enumerate(goal_circuits):\n",
    "    p = PauliSum(['x1z0 x0z0'], dimensions=[2, 2], phases=[1])\n",
    "    for g in c.gates:\n",
    "        p = g.act(p)\n",
    "    print(p)\n",
    "    symplectic_effect(c)"
   ]
  },
  {
   "cell_type": "code",
   "execution_count": 180,
   "id": "1ff1720c",
   "metadata": {},
   "outputs": [
    {
     "name": "stdout",
     "output_type": "stream",
     "text": [
      "SORTING\n",
      "SUM [1, 0]\n",
      "H [0]\n",
      "SUM [0, 1]\n",
      "S [0]\n",
      "S [1]\n",
      "SUM [0, 1]\n",
      "H [0]\n",
      "\n"
     ]
    },
    {
     "data": {
      "text/latex": [
       "$\\displaystyle \\left({X^{r_{1}} Z^{s_{1}}}\\right)\\otimes \\left({X^{r_{2}} Z^{r_{2} + s_{2}}}\\right)$"
      ],
      "text/plain": [
       "(X**r1*Z**s1)x(X**r2*Z**(r2 + s2))"
      ]
     },
     "metadata": {},
     "output_type": "display_data"
    },
    {
     "name": "stdout",
     "output_type": "stream",
     "text": [
      "SORTING\n",
      "SUM [1, 0]\n",
      "H [0]\n",
      "SUM [0, 1]\n",
      "H [0]\n",
      "SUM [1, 0]\n",
      "H [1]\n",
      "SUM [1, 0]\n",
      "\n"
     ]
    },
    {
     "data": {
      "text/latex": [
       "$\\displaystyle \\omega^{r_{2} s_{2} + s_{1}} \\left({X^{r_{1}} Z^{s_{1}}}\\right)\\otimes \\left({X^{s_{2}} Z^{r_{2}}}\\right)$"
      ],
      "text/plain": [
       "omega**(r2*s2 + s1)*(X**r1*Z**s1)x(X**s2*Z**r2)"
      ]
     },
     "metadata": {},
     "output_type": "display_data"
    },
    {
     "name": "stdout",
     "output_type": "stream",
     "text": [
      "SORTING\n",
      "SUM [1, 0]\n",
      "H [0]\n",
      "SUM [0, 1]\n",
      "S [0]\n",
      "S [1]\n",
      "SUM [0, 1]\n",
      "H [0]\n",
      "\n"
     ]
    },
    {
     "data": {
      "text/latex": [
       "$\\displaystyle \\left({X^{r_{1}} Z^{s_{1}}}\\right)\\otimes \\left({X^{r_{2}} Z^{r_{2} + s_{2}}}\\right)$"
      ],
      "text/plain": [
       "(X**r1*Z**s1)x(X**r2*Z**(r2 + s2))"
      ]
     },
     "metadata": {},
     "output_type": "display_data"
    },
    {
     "name": "stdout",
     "output_type": "stream",
     "text": [
      "SORTING\n",
      "SUM [1, 0]\n",
      "H [0]\n",
      "SUM [0, 1]\n",
      "H [0]\n",
      "SUM [1, 0]\n",
      "H [1]\n",
      "SUM [1, 0]\n",
      "\n"
     ]
    },
    {
     "data": {
      "text/latex": [
       "$\\displaystyle \\omega^{r_{2} s_{2} + s_{1}} \\left({X^{r_{1}} Z^{s_{1}}}\\right)\\otimes \\left({X^{s_{2}} Z^{r_{2}}}\\right)$"
      ],
      "text/plain": [
       "omega**(r2*s2 + s1)*(X**r1*Z**s1)x(X**s2*Z**r2)"
      ]
     },
     "metadata": {},
     "output_type": "display_data"
    },
    {
     "name": "stdout",
     "output_type": "stream",
     "text": [
      "SORTING\n",
      "SUM [1, 0]\n",
      "H [0]\n",
      "SUM [0, 1]\n",
      "S [0]\n",
      "S [1]\n",
      "SUM [0, 1]\n",
      "H [0]\n",
      "S [1]\n",
      "\n"
     ]
    },
    {
     "data": {
      "text/latex": [
       "$\\displaystyle \\omega^{s_{1}} \\left({X^{r_{1}} Z^{s_{1}}}\\right)\\otimes \\left({X^{r_{2}} Z^{s_{2}}}\\right)$"
      ],
      "text/plain": [
       "omega**s1*(X**r1*Z**s1)x(X**r2*Z**s2)"
      ]
     },
     "metadata": {},
     "output_type": "display_data"
    },
    {
     "name": "stdout",
     "output_type": "stream",
     "text": [
      "SORTING\n",
      "SUM [1, 0]\n",
      "H [0]\n",
      "SUM [0, 1]\n",
      "S [0]\n",
      "S [1]\n",
      "SUM [0, 1]\n",
      "H [0]\n",
      "H [1]\n",
      "\n"
     ]
    },
    {
     "data": {
      "text/latex": [
       "$\\displaystyle \\omega^{r_{2} s_{2} + r_{2}} \\left({X^{r_{1}} Z^{s_{1}}}\\right)\\otimes \\left({X^{r_{2} + s_{2}} Z^{r_{2}}}\\right)$"
      ],
      "text/plain": [
       "omega**(r2*s2 + r2)*(X**r1*Z**s1)x(X**(r2 + s2)*Z**r2)"
      ]
     },
     "metadata": {},
     "output_type": "display_data"
    },
    {
     "name": "stdout",
     "output_type": "stream",
     "text": [
      "SORTING\n",
      "SUM [1, 0]\n",
      "H [0]\n",
      "SUM [0, 1]\n",
      "S [0]\n",
      "S [1]\n",
      "SUM [0, 1]\n",
      "H [0]\n",
      "\n"
     ]
    },
    {
     "data": {
      "text/latex": [
       "$\\displaystyle \\left({X^{r_{1}} Z^{s_{1}}}\\right)\\otimes \\left({X^{r_{2}} Z^{r_{2} + s_{2}}}\\right)$"
      ],
      "text/plain": [
       "(X**r1*Z**s1)x(X**r2*Z**(r2 + s2))"
      ]
     },
     "metadata": {},
     "output_type": "display_data"
    },
    {
     "name": "stdout",
     "output_type": "stream",
     "text": [
      "SORTING\n",
      "SUM [1, 0]\n",
      "H [0]\n",
      "SUM [0, 1]\n",
      "H [0]\n",
      "SUM [1, 0]\n",
      "H [1]\n",
      "SUM [1, 0]\n",
      "\n"
     ]
    },
    {
     "data": {
      "text/latex": [
       "$\\displaystyle \\omega^{r_{2} s_{2} + s_{1}} \\left({X^{r_{1}} Z^{s_{1}}}\\right)\\otimes \\left({X^{s_{2}} Z^{r_{2}}}\\right)$"
      ],
      "text/plain": [
       "omega**(r2*s2 + s1)*(X**r1*Z**s1)x(X**s2*Z**r2)"
      ]
     },
     "metadata": {},
     "output_type": "display_data"
    },
    {
     "name": "stdout",
     "output_type": "stream",
     "text": [
      "SORTING\n",
      "SUM [1, 0]\n",
      "H [0]\n",
      "SUM [0, 1]\n",
      "S [0]\n",
      "S [1]\n",
      "SUM [0, 1]\n",
      "H [0]\n",
      "S [1]\n",
      "\n"
     ]
    },
    {
     "data": {
      "text/latex": [
       "$\\displaystyle \\omega^{s_{1}} \\left({X^{r_{1}} Z^{s_{1}}}\\right)\\otimes \\left({X^{r_{2}} Z^{s_{2}}}\\right)$"
      ],
      "text/plain": [
       "omega**s1*(X**r1*Z**s1)x(X**r2*Z**s2)"
      ]
     },
     "metadata": {},
     "output_type": "display_data"
    },
    {
     "name": "stdout",
     "output_type": "stream",
     "text": [
      "SORTING\n",
      "SUM [1, 0]\n",
      "H [0]\n",
      "SUM [0, 1]\n",
      "S [0]\n",
      "S [1]\n",
      "SUM [0, 1]\n",
      "H [0]\n",
      "H [1]\n",
      "\n"
     ]
    },
    {
     "data": {
      "text/latex": [
       "$\\displaystyle \\omega^{r_{2} s_{2} + r_{2}} \\left({X^{r_{1}} Z^{s_{1}}}\\right)\\otimes \\left({X^{r_{2} + s_{2}} Z^{r_{2}}}\\right)$"
      ],
      "text/plain": [
       "omega**(r2*s2 + r2)*(X**r1*Z**s1)x(X**(r2 + s2)*Z**r2)"
      ]
     },
     "metadata": {},
     "output_type": "display_data"
    },
    {
     "name": "stdout",
     "output_type": "stream",
     "text": [
      "SORTING\n",
      "SUM [0, 1]\n",
      "SUM [1, 0]\n",
      "H [0]\n",
      "SUM [0, 1]\n",
      "H [0]\n",
      "SUM [0, 1]\n",
      "H [0]\n",
      "SUM [1, 0]\n",
      "SUM [0, 1]\n",
      "\n"
     ]
    },
    {
     "data": {
      "text/latex": [
       "$\\displaystyle \\omega^{r_{2} s_{2} + s_{1}} \\left({X^{r_{1}} Z^{s_{1}}}\\right)\\otimes \\left({X^{s_{2}} Z^{r_{2}}}\\right)$"
      ],
      "text/plain": [
       "omega**(r2*s2 + s1)*(X**r1*Z**s1)x(X**s2*Z**r2)"
      ]
     },
     "metadata": {},
     "output_type": "display_data"
    },
    {
     "name": "stdout",
     "output_type": "stream",
     "text": [
      "SORTING\n",
      "SUM [1, 0]\n",
      "H [0]\n",
      "SUM [0, 1]\n",
      "S [0]\n",
      "S [1]\n",
      "SUM [0, 1]\n",
      "H [0]\n",
      "S [0]\n",
      "S [0]\n",
      "\n"
     ]
    },
    {
     "data": {
      "text/latex": [
       "$\\displaystyle \\left({X^{r_{1}} Z^{s_{1}}}\\right)\\otimes \\left({X^{r_{2}} Z^{r_{2} + s_{2}}}\\right)$"
      ],
      "text/plain": [
       "(X**r1*Z**s1)x(X**r2*Z**(r2 + s2))"
      ]
     },
     "metadata": {},
     "output_type": "display_data"
    },
    {
     "name": "stdout",
     "output_type": "stream",
     "text": [
      "SORTING\n",
      "SUM [1, 0]\n",
      "H [0]\n",
      "SUM [0, 1]\n",
      "S [0]\n",
      "S [1]\n",
      "SUM [0, 1]\n",
      "H [0]\n",
      "\n"
     ]
    },
    {
     "data": {
      "text/latex": [
       "$\\displaystyle \\left({X^{r_{1}} Z^{s_{1}}}\\right)\\otimes \\left({X^{r_{2}} Z^{r_{2} + s_{2}}}\\right)$"
      ],
      "text/plain": [
       "(X**r1*Z**s1)x(X**r2*Z**(r2 + s2))"
      ]
     },
     "metadata": {},
     "output_type": "display_data"
    },
    {
     "name": "stdout",
     "output_type": "stream",
     "text": [
      "SORTING\n",
      "SUM [1, 0]\n",
      "H [0]\n",
      "SUM [0, 1]\n",
      "H [0]\n",
      "SUM [1, 0]\n",
      "H [1]\n",
      "SUM [1, 0]\n",
      "\n"
     ]
    },
    {
     "data": {
      "text/latex": [
       "$\\displaystyle \\omega^{r_{2} s_{2} + s_{1}} \\left({X^{r_{1}} Z^{s_{1}}}\\right)\\otimes \\left({X^{s_{2}} Z^{r_{2}}}\\right)$"
      ],
      "text/plain": [
       "omega**(r2*s2 + s1)*(X**r1*Z**s1)x(X**s2*Z**r2)"
      ]
     },
     "metadata": {},
     "output_type": "display_data"
    },
    {
     "name": "stdout",
     "output_type": "stream",
     "text": [
      "SORTING\n",
      "SUM [1, 0]\n",
      "H [0]\n",
      "SUM [0, 1]\n",
      "S [0]\n",
      "S [1]\n",
      "SUM [0, 1]\n",
      "H [0]\n",
      "S [1]\n",
      "\n"
     ]
    },
    {
     "data": {
      "text/latex": [
       "$\\displaystyle \\omega^{s_{1}} \\left({X^{r_{1}} Z^{s_{1}}}\\right)\\otimes \\left({X^{r_{2}} Z^{s_{2}}}\\right)$"
      ],
      "text/plain": [
       "omega**s1*(X**r1*Z**s1)x(X**r2*Z**s2)"
      ]
     },
     "metadata": {},
     "output_type": "display_data"
    },
    {
     "name": "stdout",
     "output_type": "stream",
     "text": [
      "SORTING\n",
      "SUM [1, 0]\n",
      "H [0]\n",
      "SUM [0, 1]\n",
      "S [0]\n",
      "S [1]\n",
      "SUM [0, 1]\n",
      "H [0]\n",
      "H [1]\n",
      "\n"
     ]
    },
    {
     "data": {
      "text/latex": [
       "$\\displaystyle \\omega^{r_{2} s_{2} + r_{2}} \\left({X^{r_{1}} Z^{s_{1}}}\\right)\\otimes \\left({X^{r_{2} + s_{2}} Z^{r_{2}}}\\right)$"
      ],
      "text/plain": [
       "omega**(r2*s2 + r2)*(X**r1*Z**s1)x(X**(r2 + s2)*Z**r2)"
      ]
     },
     "metadata": {},
     "output_type": "display_data"
    },
    {
     "name": "stdout",
     "output_type": "stream",
     "text": [
      "SORTING\n",
      "SUM [0, 1]\n",
      "SUM [1, 0]\n",
      "H [0]\n",
      "SUM [0, 1]\n",
      "H [0]\n",
      "SUM [0, 1]\n",
      "H [0]\n",
      "SUM [1, 0]\n",
      "SUM [0, 1]\n",
      "\n"
     ]
    },
    {
     "data": {
      "text/latex": [
       "$\\displaystyle \\omega^{r_{2} s_{2} + s_{1}} \\left({X^{r_{1}} Z^{s_{1}}}\\right)\\otimes \\left({X^{s_{2}} Z^{r_{2}}}\\right)$"
      ],
      "text/plain": [
       "omega**(r2*s2 + s1)*(X**r1*Z**s1)x(X**s2*Z**r2)"
      ]
     },
     "metadata": {},
     "output_type": "display_data"
    },
    {
     "name": "stdout",
     "output_type": "stream",
     "text": [
      "SORTING\n",
      "SUM [1, 0]\n",
      "H [0]\n",
      "SUM [0, 1]\n",
      "S [0]\n",
      "S [1]\n",
      "SUM [0, 1]\n",
      "H [0]\n",
      "S [0]\n",
      "S [0]\n",
      "\n"
     ]
    },
    {
     "data": {
      "text/latex": [
       "$\\displaystyle \\left({X^{r_{1}} Z^{s_{1}}}\\right)\\otimes \\left({X^{r_{2}} Z^{r_{2} + s_{2}}}\\right)$"
      ],
      "text/plain": [
       "(X**r1*Z**s1)x(X**r2*Z**(r2 + s2))"
      ]
     },
     "metadata": {},
     "output_type": "display_data"
    }
   ],
   "source": [
    "for i,c in enumerate(goal_circuits):\n",
    "    p = PauliSum(['x1z0 x0z0'], dimensions=[2, 2])\n",
    "    for g in c.gates:\n",
    "        p = g.act(p)\n",
    "    print(c)\n",
    "    symplectic_effect(c)"
   ]
  },
  {
   "cell_type": "code",
   "execution_count": 20,
   "id": "f4e798bd",
   "metadata": {},
   "outputs": [
    {
     "data": {
      "text/plain": [
       "2"
      ]
     },
     "execution_count": 20,
     "metadata": {},
     "output_type": "execute_result"
    }
   ],
   "source": [
    "len(goal_circuits)"
   ]
  },
  {
   "cell_type": "code",
   "execution_count": null,
   "id": "8f52162d",
   "metadata": {},
   "outputs": [
    {
     "name": "stdout",
     "output_type": "stream",
     "text": [
      "H [0]\n",
      "S [0]\n",
      "SUM [1, 0]\n",
      "SUM [2, 1]\n",
      "S [0]\n",
      "\n"
     ]
    }
   ],
   "source": [
    "print(goal_circuits[-1])"
   ]
  },
  {
   "cell_type": "code",
   "execution_count": 105,
   "id": "ddafa647",
   "metadata": {},
   "outputs": [
    {
     "name": "stdout",
     "output_type": "stream",
     "text": [
      "Found goal circuit\n",
      "Found goal circuit\n"
     ]
    }
   ],
   "source": [
    "start_paulis = [PauliSum(['x1z0 x0z0', 'x0z1 x0z0'], dimensions=[2, 2]), PauliSum(['x0z1 x0z0', 'x1z0 x0z0'], dimensions=[2, 2])]\n",
    "goal_pauli = [PauliSum(['x1z0 x1z0', 'x0z1 x1z0'], dimensions=[2, 2]),PauliSum(['x0z1 x1z0', 'x1z0 x1z0'], dimensions=[2, 2])]\n",
    "\n",
    "SUM_01 = CX(0, 1, 2)\n",
    "SUM_10 = CX(1, 0, 2)\n",
    "S0 = S(0, 2)\n",
    "S1 = S(1, 2)\n",
    "H1 = H(1, 2)\n",
    "H0 = H(0, 2)\n",
    "all_gates = [SUM_01, SUM_10, S0, S1,H1,H0]\n",
    "\n",
    "intermediate_paulis = start_paulis.copy()\n",
    "circuits = [Circuit(dimensions=[2, 2]) for _ in range(len(start_paulis))]\n",
    "goal_circuits = []\n",
    "for i,p in enumerate(start_paulis):\n",
    "    for g in all_gates:\n",
    "        P_temp = g.act(p)\n",
    "        P_temp.phases = [0,0] \n",
    "        if P_temp not in intermediate_paulis:\n",
    "            intermediate_paulis.append(P_temp)\n",
    "            C_temp = Circuit(dimensions=[2, 2])\n",
    "            for g2 in circuits[i].gates:\n",
    "                C_temp.add_gate(g2)\n",
    "            C_temp.add_gate(g)\n",
    "            circuits.append(C_temp)\n",
    "            if P_temp in goal_pauli:\n",
    "                goal_circuits.append(C_temp)\n",
    "                print(\"Found goal circuit\") \n",
    "\n",
    "for _ in range(10):\n",
    "    intermediate_paulis_old = intermediate_paulis.copy()\n",
    "    for i,p in enumerate(intermediate_paulis_old):\n",
    "        for g in all_gates:\n",
    "            P_temp = g.act(p)\n",
    "            P_temp.phases = [0,0] \n",
    "            if P_temp not in intermediate_paulis:\n",
    "                intermediate_paulis.append(P_temp)\n",
    "                C_temp = Circuit(dimensions=[2, 2])\n",
    "                for g2 in circuits[i].gates:\n",
    "                    C_temp.add_gate(g2)\n",
    "                C_temp.add_gate(g)\n",
    "                circuits.append(C_temp)\n",
    "                if P_temp in goal_pauli:\n",
    "                    goal_circuits.append(C_temp)\n",
    "                    print(\"Found goal circuit\") \n",
    "\n"
   ]
  },
  {
   "cell_type": "code",
   "execution_count": 96,
   "id": "e510a84d",
   "metadata": {},
   "outputs": [
    {
     "data": {
      "text/plain": [
       "120"
      ]
     },
     "execution_count": 96,
     "metadata": {},
     "output_type": "execute_result"
    }
   ],
   "source": [
    "len(intermediate_paulis)"
   ]
  },
  {
   "cell_type": "code",
   "execution_count": 107,
   "id": "72e1a00d",
   "metadata": {},
   "outputs": [
    {
     "name": "stdout",
     "output_type": "stream",
     "text": [
      "SUM [0, 1]\n",
      "H [0]\n",
      "SUM [0, 1]\n",
      "\n",
      "\n",
      "SUM [1, 0]\n",
      "H [1]\n",
      "SUM [0, 1]\n",
      "\n",
      "\n"
     ]
    }
   ],
   "source": [
    "for g in goal_circuits:\n",
    "    print(g)\n",
    "    print()"
   ]
  },
  {
   "cell_type": "code",
   "execution_count": 37,
   "id": "c0678914",
   "metadata": {},
   "outputs": [],
   "source": [
    "ps0 = PauliSum(['x1z0 x0z0', 'x0z1 x0z0'], dimensions=[2, 2])\n",
    "ps1 = PauliSum(['x1z0 x1z0', 'x0z1 x1z0'], dimensions=[2, 2])\n",
    "ps2 = PauliSum(['x1z0 x0z1', 'x0z1 x0z1'], dimensions=[2, 2])\n",
    "ps3 = PauliSum(['x1z0 x1z1', 'x0z1 x1z1'], dimensions=[2, 2])\n",
    "\n",
    "ps0_2 = PauliSum(['x0z1 x0z0', 'x1z0 x0z0'], dimensions=[2, 2])\n",
    "ps1_2 = PauliSum(['x0z1 x1z0', 'x1z0 x1z0'], dimensions=[2, 2])\n",
    "ps2_2 = PauliSum(['x0z1 x0z1', 'x1z0 x0z1'], dimensions=[2, 2])\n",
    "ps3_2 = PauliSum(['x0z1 x1z1', 'x1z0 x1z1'], dimensions=[2, 2])\n",
    "\n",
    "SUM_01 = CX(0, 1, 2)\n",
    "SUM_10 = CX(1, 0, 2)\n",
    "S0 = S(0, 2)\n",
    "S1 = S(1, 2)\n",
    "H1 = H(1, 2)\n",
    "H0 = H(0, 2)"
   ]
  },
  {
   "cell_type": "code",
   "execution_count": null,
   "id": "c8ef974e",
   "metadata": {},
   "outputs": [],
   "source": [
    "tier0_1 = [PauliSum(['x1z0 x'+str(i)+'z'+str(j), 'x0z1 x'+str(k)+'z'+str(l)], dimensions=[2, 2]) for i in range(2) for j in range(2) for k in range(2) for l in range(2)]\n",
    "tier0_2 = [PauliSum(['x0z1 x'+str(i)+'z'+str(j), 'x1z0 x'+str(k)+'z'+str(l)], dimensions=[2, 2]) for i in range(2) for j in range(2) for k in range(2) for l in range(2)]\n",
    "\n",
    "tier0_1_C = [Circuit(dimensions=[2, 2]) for i in range(len(tier0_1))]\n",
    "tier0_2_C = [Circuit(dimensions=[2, 2]) for i in range(len(tier0_1))]"
   ]
  },
  {
   "cell_type": "code",
   "execution_count": 31,
   "id": "43c3eb41",
   "metadata": {},
   "outputs": [
    {
     "data": {
      "text/plain": [
       "256"
      ]
     },
     "execution_count": 31,
     "metadata": {},
     "output_type": "execute_result"
    }
   ],
   "source": [
    "all_pauli = [PauliSum(['x'+str(i1)+'z'+str(j1)+' x'+str(i)+'z'+str(j), 'x'+str(k1)+'z'+str(l1)+' x'+str(k)+'z'+str(l)], dimensions=[2, 2]) for i in range(2) for j in range(2) for k in range(2) for l in range(2) for i1 in range(2) for j1 in range(2) for k1 in range(2) for l1 in range(2)]\n",
    "len(all_pauli)"
   ]
  },
  {
   "cell_type": "code",
   "execution_count": 30,
   "id": "7e9fe346",
   "metadata": {},
   "outputs": [
    {
     "name": "stdout",
     "output_type": "stream",
     "text": [
      "(1+0j)|x1z0 x1z1 | 0 \n",
      "(1+0j)|x0z1 x0z0 | 0 \n",
      "\n"
     ]
    }
   ],
   "source": [
    "print(tier0_1[12])"
   ]
  },
  {
   "cell_type": "code",
   "execution_count": null,
   "id": "f458c450",
   "metadata": {},
   "outputs": [
    {
     "name": "stdout",
     "output_type": "stream",
     "text": [
      "32 102 80 26 2 0 0 0\n",
      "210\n"
     ]
    }
   ],
   "source": [
    "tier0 = set(tier0_1 + tier0_2)\n",
    "tier0_C = [Circuit(dimensions=[2, 2]) for i in range(len(tier0))]\n",
    "tier0_gates = [SUM_01, SUM_10, S0, S1,H1,H0]\n",
    "all_gates = [SUM_01, SUM_10, S0, S1,H1,H0]\n",
    "\n",
    "#print('tier0')\n",
    "tier1 = tier0.copy()\n",
    "tier1_C = tier0_C.copy()\n",
    "for i,p in enumerate(tier0):\n",
    "    for g in all_gates:\n",
    "        P_temp = g.act(p)\n",
    "        P_temp.phases = [0,0] \n",
    "        if P_temp not in tier1:\n",
    "            tier1_C.append(g.name + str(g.qudit_indices) )     \n",
    "        tier1.add(P_temp)\n",
    "        #print(P_temp)\n",
    "\n",
    "tier2 = tier1.copy()\n",
    "tier2_C = tier0_C.copy()\n",
    "for p in tier1:\n",
    "    for g in all_gates:\n",
    "        P_temp = g.act(p)\n",
    "        P_temp.phases = [0 for i in range(2)] \n",
    "        if P_temp not in tier2:\n",
    "            tier2_C.append(g.name + str(g.qudit_indices) )       \n",
    "        tier2.add(P_temp)\n",
    "\n",
    "tier3 = tier2.copy()\n",
    "for p in tier2:\n",
    "    for g in all_gates:\n",
    "        P_temp = g.act(p)\n",
    "        P_temp.phases = [0 for i in range(2)]         \n",
    "        tier3.add(P_temp)\n",
    "\n",
    "tier4 = tier3.copy()\n",
    "for p in tier3:\n",
    "    for g in all_gates:\n",
    "        P_temp = g.act(p)\n",
    "        P_temp.phases = [0 for i in range(2)]         \n",
    "        tier4.add(P_temp)\n",
    "\n",
    "tier5 = tier4.copy()\n",
    "for p in tier4:\n",
    "    for g in all_gates: \n",
    "        P_temp = g.act(p)\n",
    "        P_temp.phases = [0 for i in range(2)]        \n",
    "        tier5.add(P_temp)\n",
    "    \n",
    "tier6 = tier5.copy()\n",
    "for p in tier5:\n",
    "    for g in all_gates:\n",
    "        P_temp = g.act(p)\n",
    "        P_temp.phases = [0 for i in range(2)]         \n",
    "        tier6.add(P_temp)\n",
    "\n",
    "tier7 = tier6.copy()\n",
    "for p in tier6:\n",
    "    for g in all_gates:\n",
    "        P_temp = g.act(p)\n",
    "        P_temp.phases = [0 for i in range(2)]        \n",
    "        tier7.add(P_temp)\n",
    "\n",
    "print(len(tier0),len(tier1)-len(tier0), len(tier2) - len(tier1), len(tier3) - len(tier2), \n",
    "len(tier4) - len(tier3), len(tier5) - len(tier4), len(tier6) - len(tier5), len(tier7) - len(tier6))\n",
    "\n",
    "print(len(tier7))"
   ]
  },
  {
   "cell_type": "code",
   "execution_count": 45,
   "id": "8381071e",
   "metadata": {},
   "outputs": [
    {
     "data": {
      "text/plain": [
       "['SUM[0, 1]',\n",
       " 'S[0]',\n",
       " 'SUM[0, 1]',\n",
       " 'H[0]',\n",
       " 'SUM[1, 0]',\n",
       " 'SUM[0, 1]',\n",
       " 'SUM[0, 1]',\n",
       " 'H[1]',\n",
       " 'H[0]',\n",
       " 'SUM[0, 1]',\n",
       " 'S[0]',\n",
       " 'H[1]',\n",
       " 'SUM[1, 0]',\n",
       " 'SUM[0, 1]',\n",
       " 'S[0]',\n",
       " 'H[1]',\n",
       " 'SUM[1, 0]',\n",
       " 'S[0]',\n",
       " 'S[1]',\n",
       " 'SUM[0, 1]',\n",
       " 'S[0]',\n",
       " 'SUM[1, 0]',\n",
       " 'S[0]',\n",
       " 'S[1]',\n",
       " 'S[0]',\n",
       " 'S[1]',\n",
       " 'S[0]',\n",
       " 'S[1]',\n",
       " 'H[0]',\n",
       " 'SUM[0, 1]',\n",
       " 'H[0]',\n",
       " 'SUM[0, 1]',\n",
       " 'SUM[1, 0]',\n",
       " 'SUM[0, 1]',\n",
       " 'SUM[1, 0]',\n",
       " 'SUM[1, 0]',\n",
       " 'S[0]',\n",
       " 'SUM[0, 1]',\n",
       " 'S[0]',\n",
       " 'H[1]',\n",
       " 'H[0]',\n",
       " 'SUM[1, 0]',\n",
       " 'SUM[0, 1]',\n",
       " 'SUM[1, 0]',\n",
       " 'SUM[0, 1]',\n",
       " 'S[0]',\n",
       " 'H[0]',\n",
       " 'SUM[0, 1]',\n",
       " 'H[1]',\n",
       " 'SUM[0, 1]',\n",
       " 'SUM[1, 0]',\n",
       " 'H[0]',\n",
       " 'H[0]',\n",
       " 'S[1]',\n",
       " 'SUM[1, 0]',\n",
       " 'H[0]',\n",
       " 'SUM[1, 0]',\n",
       " 'S[1]',\n",
       " 'H[0]',\n",
       " 'SUM[1, 0]',\n",
       " 'H[1]',\n",
       " 'H[0]',\n",
       " 'SUM[0, 1]',\n",
       " 'SUM[0, 1]',\n",
       " 'H[0]',\n",
       " 'H[0]',\n",
       " 'SUM[1, 0]',\n",
       " 'SUM[0, 1]',\n",
       " 'SUM[1, 0]',\n",
       " 'SUM[0, 1]',\n",
       " 'S[0]',\n",
       " 'H[0]',\n",
       " 'H[0]',\n",
       " 'SUM[1, 0]',\n",
       " 'SUM[0, 1]',\n",
       " 'H[1]',\n",
       " 'H[0]',\n",
       " 'SUM[1, 0]',\n",
       " 'H[0]',\n",
       " 'H[0]']"
      ]
     },
     "execution_count": 45,
     "metadata": {},
     "output_type": "execute_result"
    }
   ],
   "source": [
    "tier2_C"
   ]
  },
  {
   "cell_type": "code",
   "execution_count": 35,
   "id": "a4bb3525",
   "metadata": {},
   "outputs": [
    {
     "name": "stdout",
     "output_type": "stream",
     "text": [
      "(1+0j)|x1z1 x1z1 | 0 \n",
      "(1+0j)|x0z0 x1z0 | 0 \n",
      "\n",
      "\n",
      "(1+0j)|x1z1 x1z0 | 0 \n",
      "(1+0j)|x0z1 x1z1 | 0 \n",
      "\n",
      "\n",
      "(1+0j)|x0z0 x1z1 | 0 \n",
      "(1+0j)|x1z1 x1z1 | 0 \n",
      "\n",
      "\n",
      "(1+0j)|x1z1 x1z0 | 0 \n",
      "(1+0j)|x0z1 x0z1 | 0 \n",
      "\n",
      "\n",
      "(1+0j)|x1z0 x1z0 | 0 \n",
      "(1+0j)|x0z0 x0z1 | 0 \n",
      "\n",
      "\n",
      "(1+0j)|x1z1 x1z1 | 0 \n",
      "(1+0j)|x1z0 x0z0 | 0 \n",
      "\n",
      "\n",
      "(1+0j)|x1z1 x1z0 | 0 \n",
      "(1+0j)|x0z1 x0z0 | 0 \n",
      "\n",
      "\n",
      "(1+0j)|x0z1 x1z0 | 0 \n",
      "(1+0j)|x1z1 x1z1 | 0 \n",
      "\n",
      "\n",
      "(1+0j)|x0z0 x1z0 | 0 \n",
      "(1+0j)|x1z1 x1z0 | 0 \n",
      "\n",
      "\n",
      "(1+0j)|x1z1 x1z1 | 0 \n",
      "(1+0j)|x1z0 x0z1 | 0 \n",
      "\n",
      "\n",
      "(1+0j)|x1z0 x0z0 | 0 \n",
      "(1+0j)|x0z0 x0z1 | 0 \n",
      "\n",
      "\n",
      "(1+0j)|x0z1 x1z1 | 0 \n",
      "(1+0j)|x1z1 x1z0 | 0 \n",
      "\n",
      "\n",
      "(1+0j)|x0z0 x0z1 | 0 \n",
      "(1+0j)|x1z0 x0z0 | 0 \n",
      "\n",
      "\n",
      "(1+0j)|x1z0 x0z0 | 0 \n",
      "(1+0j)|x1z1 x1z0 | 0 \n",
      "\n",
      "\n",
      "(1+0j)|x1z1 x1z0 | 0 \n",
      "(1+0j)|x1z0 x0z1 | 0 \n",
      "\n",
      "\n",
      "(1+0j)|x1z1 x1z1 | 0 \n",
      "(1+0j)|x0z1 x1z1 | 0 \n",
      "\n",
      "\n",
      "(1+0j)|x1z0 x0z0 | 0 \n",
      "(1+0j)|x1z1 x1z1 | 0 \n",
      "\n",
      "\n",
      "(1+0j)|x0z1 x1z0 | 0 \n",
      "(1+0j)|x1z1 x1z0 | 0 \n",
      "\n",
      "\n",
      "(1+0j)|x0z1 x1z0 | 0 \n",
      "(1+0j)|x1z1 x0z1 | 0 \n",
      "\n",
      "\n",
      "(1+0j)|x1z1 x0z1 | 0 \n",
      "(1+0j)|x0z1 x1z0 | 0 \n",
      "\n",
      "\n",
      "(1+0j)|x0z1 x0z0 | 0 \n",
      "(1+0j)|x1z1 x1z0 | 0 \n",
      "\n",
      "\n",
      "(1+0j)|x0z1 x1z0 | 0 \n",
      "(1+0j)|x1z1 x0z0 | 0 \n",
      "\n",
      "\n",
      "(1+0j)|x0z1 x0z0 | 0 \n",
      "(1+0j)|x0z0 x1z1 | 0 \n",
      "\n",
      "\n",
      "(1+0j)|x1z1 x0z1 | 0 \n",
      "(1+0j)|x0z1 x1z1 | 0 \n",
      "\n",
      "\n",
      "(1+0j)|x1z1 x1z0 | 0 \n",
      "(1+0j)|x0z0 x1z0 | 0 \n",
      "\n",
      "\n",
      "(1+0j)|x0z0 x1z0 | 0 \n",
      "(1+0j)|x0z1 x0z0 | 0 \n",
      "\n",
      "\n",
      "(1+0j)|x1z1 x1z1 | 0 \n",
      "(1+0j)|x0z0 x1z1 | 0 \n",
      "\n",
      "\n",
      "(1+0j)|x0z1 x0z1 | 0 \n",
      "(1+0j)|x0z0 x1z0 | 0 \n",
      "\n",
      "\n",
      "(1+0j)|x0z1 x0z1 | 0 \n",
      "(1+0j)|x1z1 x0z0 | 0 \n",
      "\n",
      "\n",
      "(1+0j)|x0z1 x0z0 | 0 \n",
      "(1+0j)|x1z1 x0z1 | 0 \n",
      "\n",
      "\n",
      "(1+0j)|x0z1 x0z1 | 0 \n",
      "(1+0j)|x0z0 x1z1 | 0 \n",
      "\n",
      "\n",
      "(1+0j)|x1z0 x0z1 | 0 \n",
      "(1+0j)|x1z1 x1z0 | 0 \n",
      "\n",
      "\n",
      "(1+0j)|x1z1 x1z1 | 0 \n",
      "(1+0j)|x0z1 x1z0 | 0 \n",
      "\n",
      "\n",
      "(1+0j)|x1z1 x1z1 | 0 \n",
      "(1+0j)|x0z1 x0z0 | 0 \n",
      "\n",
      "\n",
      "(1+0j)|x1z1 x0z1 | 0 \n",
      "(1+0j)|x0z0 x0z1 | 0 \n",
      "\n",
      "\n",
      "(1+0j)|x0z0 x0z1 | 0 \n",
      "(1+0j)|x1z1 x1z1 | 0 \n",
      "\n",
      "\n",
      "(1+0j)|x0z0 x1z0 | 0 \n",
      "(1+0j)|x0z1 x0z1 | 0 \n",
      "\n",
      "\n",
      "(1+0j)|x0z1 x1z1 | 0 \n",
      "(1+0j)|x1z1 x0z0 | 0 \n",
      "\n",
      "\n",
      "(1+0j)|x1z1 x0z0 | 0 \n",
      "(1+0j)|x0z1 x0z1 | 0 \n",
      "\n",
      "\n",
      "(1+0j)|x0z0 x1z1 | 0 \n",
      "(1+0j)|x0z1 x0z1 | 0 \n",
      "\n",
      "\n",
      "(1+0j)|x0z1 x0z0 | 0 \n",
      "(1+0j)|x0z0 x1z0 | 0 \n",
      "\n",
      "\n",
      "(1+0j)|x0z1 x0z1 | 0 \n",
      "(1+0j)|x1z1 x1z0 | 0 \n",
      "\n",
      "\n",
      "(1+0j)|x1z1 x1z1 | 0 \n",
      "(1+0j)|x0z0 x0z1 | 0 \n",
      "\n",
      "\n",
      "(1+0j)|x1z1 x1z0 | 0 \n",
      "(1+0j)|x1z0 x0z0 | 0 \n",
      "\n",
      "\n",
      "(1+0j)|x0z0 x1z1 | 0 \n",
      "(1+0j)|x0z1 x0z0 | 0 \n",
      "\n",
      "\n",
      "(1+0j)|x1z1 x0z1 | 0 \n",
      "(1+0j)|x0z1 x0z0 | 0 \n",
      "\n",
      "\n",
      "(1+0j)|x1z0 x0z1 | 0 \n",
      "(1+0j)|x1z1 x1z1 | 0 \n",
      "\n",
      "\n",
      "(1+0j)|x0z0 x1z1 | 0 \n",
      "(1+0j)|x1z0 x0z0 | 0 \n",
      "\n",
      "\n",
      "(1+0j)|x0z1 x1z1 | 0 \n",
      "(1+0j)|x1z1 x0z1 | 0 \n",
      "\n",
      "\n",
      "(1+0j)|x1z1 x0z0 | 0 \n",
      "(1+0j)|x0z1 x0z0 | 0 \n",
      "\n",
      "\n",
      "(1+0j)|x0z0 x1z0 | 0 \n",
      "(1+0j)|x1z1 x1z1 | 0 \n",
      "\n",
      "\n",
      "(1+0j)|x0z0 x1z1 | 0 \n",
      "(1+0j)|x1z0 x1z0 | 0 \n",
      "\n",
      "\n",
      "(1+0j)|x0z0 x0z1 | 0 \n",
      "(1+0j)|x1z1 x0z1 | 0 \n",
      "\n",
      "\n",
      "(1+0j)|x1z0 x0z0 | 0 \n",
      "(1+0j)|x0z0 x1z1 | 0 \n",
      "\n",
      "\n",
      "(1+0j)|x1z0 x1z0 | 0 \n",
      "(1+0j)|x0z0 x1z1 | 0 \n",
      "\n",
      "\n",
      "(1+0j)|x1z1 x0z0 | 0 \n",
      "(1+0j)|x0z1 x1z0 | 0 \n",
      "\n",
      "\n",
      "(1+0j)|x1z1 x1z0 | 0 \n",
      "(1+0j)|x0z1 x1z0 | 0 \n",
      "\n",
      "\n",
      "(1+0j)|x0z1 x0z1 | 0 \n",
      "(1+0j)|x1z1 x0z1 | 0 \n",
      "\n",
      "\n",
      "(1+0j)|x0z0 x1z1 | 0 \n",
      "(1+0j)|x1z1 x0z1 | 0 \n",
      "\n",
      "\n",
      "(1+0j)|x1z1 x0z1 | 0 \n",
      "(1+0j)|x0z0 x1z1 | 0 \n",
      "\n",
      "\n",
      "(1+0j)|x1z1 x0z0 | 0 \n",
      "(1+0j)|x0z1 x1z1 | 0 \n",
      "\n",
      "\n",
      "(1+0j)|x0z0 x0z1 | 0 \n",
      "(1+0j)|x1z0 x1z0 | 0 \n",
      "\n",
      "\n",
      "(1+0j)|x1z1 x0z1 | 0 \n",
      "(1+0j)|x0z1 x0z1 | 0 \n",
      "\n",
      "\n",
      "(1+0j)|x0z0 x1z1 | 0 \n",
      "(1+0j)|x1z1 x1z0 | 0 \n",
      "\n",
      "\n",
      "(1+0j)|x0z1 x0z0 | 0 \n",
      "(1+0j)|x1z1 x1z1 | 0 \n",
      "\n",
      "\n",
      "(1+0j)|x0z1 x0z1 | 0 \n",
      "(1+0j)|x1z1 x1z1 | 0 \n",
      "\n",
      "\n",
      "(1+0j)|x1z1 x1z0 | 0 \n",
      "(1+0j)|x0z0 x1z1 | 0 \n",
      "\n",
      "\n",
      "(1+0j)|x0z1 x0z0 | 0 \n",
      "(1+0j)|x1z1 x0z0 | 0 \n",
      "\n",
      "\n",
      "(1+0j)|x1z1 x1z1 | 0 \n",
      "(1+0j)|x0z1 x0z1 | 0 \n",
      "\n",
      "\n",
      "(1+0j)|x0z1 x1z1 | 0 \n",
      "(1+0j)|x1z1 x1z1 | 0 \n",
      "\n",
      "\n"
     ]
    }
   ],
   "source": [
    "for p in tier1.difference(tier0):\n",
    "    print(p)\n",
    "    print()"
   ]
  },
  {
   "cell_type": "code",
   "execution_count": null,
   "id": "99326902",
   "metadata": {},
   "outputs": [],
   "source": [
    "def find_tier(pauli_sum):\n",
    "    # find the tier of a given PauliSum of two qubits\n",
    "    x_exp_00 = pauli_sum.x_exp[0,0]\n",
    "    x_exp_01 = pauli_sum.x_exp[0,1]\n",
    "    x_exp_10 = pauli_sum.x_exp[1,0]\n",
    "    x_exp_11 = pauli_sum.x_exp[1,1]\n",
    "    z_exp_00 = pauli_sum.z_exp[0,0]\n",
    "    z_exp_01 = pauli_sum.z_exp[0,1]\n",
    "    z_exp_10 = pauli_sum.z_exp[1,0]\n",
    "    z_exp_11 = pauli_sum.z_exp[1,1]\n",
    "    if x_exp_00*x_exp_10 == 0 and z_exp_00*z_exp_10 == 0:\n",
    "        return 0\n",
    "    elif (x_exp_00*z_exp_00 == 1 and z_exp_10 == 1 and x_exp_10 == 0) or (x_exp_10*z_exp_10 == 1 and z_exp_00 == 1 and x_exp_00 == 0):\n",
    "        # one S-gate removed from tier 0\n",
    "        return 1\n",
    "    elif x_exp_00*x_exp_10 == 0 and ((z_exp_00+z_exp_01)%2)*((z_exp_10+z_exp_11)%2) == 0:\n",
    "        # one CNOT(0,1) removed from tier 0\n",
    "        return 1\n",
    "    elif ((x_exp_00+x_exp_01)%2)*((x_exp_10+x_exp_11)%2) == 0 and z_exp_00*z_exp_10 == 0:\n",
    "        # one CNOT(1,0) removed from tier 0\n",
    "        return 1\n",
    "    "
   ]
  },
  {
   "cell_type": "code",
   "execution_count": 45,
   "id": "ce8c1e03",
   "metadata": {},
   "outputs": [
    {
     "data": {
      "text/plain": [
       "[array([1, 2]),\n",
       " array([3, 5]),\n",
       " array([7, 8, 9]),\n",
       " array([12, 13, 15]),\n",
       " array([18, 19])]"
      ]
     },
     "execution_count": 45,
     "metadata": {},
     "output_type": "execute_result"
    }
   ],
   "source": [
    "# Step 0\n",
    "P1 = P.copy\n",
    "\n",
    "# Step 1, organize the coefficients into bands with the same absolute value\n",
    "cc_abs = np.abs(cc)\n",
    "cc_bands = group_indices(cc_abs)\n",
    "cc_bands = [np.array(b) for b in cc_bands if len(b) > 1]\n",
    "cc_bands\n"
   ]
  },
  {
   "cell_type": "code",
   "execution_count": 167,
   "id": "bf28e78c",
   "metadata": {},
   "outputs": [
    {
     "name": "stdout",
     "output_type": "stream",
     "text": [
      "SORTING\n",
      "(1+0j)|x0z0 x0z1 x0z0 x0z0 x0z1 | 0 \n",
      "(1+0j)|x1z0 x1z1 x1z0 x0z1 x1z0 | 0 \n",
      "(1+0j)|x0z1 x0z0 x1z1 x1z0 x0z0 | 0 \n",
      "(1+0j)|x1z0 x0z1 x1z0 x0z0 x0z1 | 0 \n",
      "(1+0j)|x1z1 x0z0 x1z1 x0z1 x0z0 | 0 \n",
      "\n",
      "(<quaos.gates.Circuit object at 0x0000020A33C87B10>, [(1, 0, 'X'), (2, 0, 'Z'), (3, 1, 'X'), (4, 2, 'X'), (0, 4, 'X')])\n",
      "(1+0j)|x0z0 x0z0 x0z0 x0z0 x0z1 | 0 \n",
      "(1+0j)|x1z0 x0z0 x0z0 x0z0 x0z0 | 1 \n",
      "(1+0j)|x0z1 x0z0 x0z0 x0z0 x0z0 | 1 \n",
      "(1+0j)|x0z0 x0z1 x0z0 x0z0 x0z0 | 1 \n",
      "(1+0j)|x0z0 x0z1 x0z1 x0z0 x0z0 | 1 \n",
      "\n"
     ]
    }
   ],
   "source": [
    "pauli_strings = ['x0z0 x0z1 x0z0 x0z0 x0z1', 'x1z0 x1z1 x1z0 x0z1 x1z0', 'x0z1 x0z0 x1z1 x1z0 x0z0',\n",
    "                     'x1z0 x0z1 x1z0 x0z0 x0z1', 'x1z1 x0z0 x1z1 x0z1 x0z0']\n",
    "ham = PauliSum(pauli_strings, weights=[1, 1, 1, 1, 1], dimensions=[2] * 5)\n",
    "print(ham)\n",
    "circuit = symplectic_pauli_reduction(ham)\n",
    "print(circuit)\n",
    "print(circuit[0].act(ham))"
   ]
  }
 ],
 "metadata": {
  "kernelspec": {
   "display_name": "base",
   "language": "python",
   "name": "python3"
  },
  "language_info": {
   "codemirror_mode": {
    "name": "ipython",
    "version": 3
   },
   "file_extension": ".py",
   "mimetype": "text/x-python",
   "name": "python",
   "nbconvert_exporter": "python",
   "pygments_lexer": "ipython3",
   "version": "3.11.5"
  }
 },
 "nbformat": 4,
 "nbformat_minor": 5
}
