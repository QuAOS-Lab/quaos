{
 "cells": [
  {
   "cell_type": "code",
   "execution_count": 4,
   "id": "cf9de360",
   "metadata": {},
   "outputs": [],
   "source": [
    "import numpy as np\n",
    "from quaos.paulis import PauliSum, PauliString\n",
    "from quaos.gates import GateOperation, Circuit, Hadamard as H, SUM as CX, PHASE as S\n",
    "from quaos.hamiltonian import *\n",
    "from quaos.core.prime_Functions_Andrew import int_to_bases,bases_to_int\n",
    "from collections import defaultdict\n",
    "import sympy as sym\n",
    "from sympy.physics.quantum import TensorProduct,Operator\n",
    "import itertools\n",
    "from itertools import combinations\n",
    "import time"
   ]
  },
  {
   "cell_type": "code",
   "execution_count": null,
   "id": "4101be64",
   "metadata": {},
   "outputs": [],
   "source": [
    "P = PauliSum(['x1z0 x0z1'],dimensions=[2,2])\n",
    "dims = P.dimensions\n",
    "dims_double = [d ]\n",
    "int_to_bases(pauli_index, q_dims)"
   ]
  },
  {
   "cell_type": "code",
   "execution_count": 40,
   "id": "7a23283d",
   "metadata": {},
   "outputs": [],
   "source": [
    "from quaos.core.prime_Functions_Andrew import bases_to_int\n",
    "\n",
    "def PauliString_to_int(P,reverse=False):\t\n",
    "    dims = P.dimensions\n",
    "    dims_double = [d for d in dims for _ in range(2)]\n",
    "    base = np.zeros(len(dims_double), dtype=int)\n",
    "    base[:len(dims)] = P.x_exp\n",
    "    base[len(dims):] = P.z_exp\n",
    "    if not reverse:\n",
    "        return bases_to_int(base, dims_double)\n",
    "    else:\n",
    "        base[:len(dims)] = P.z_exp\n",
    "        base[len(dims):] = P.x_exp\n",
    "        return bases_to_int(base[::-1], dims_double[::-1])\n"
   ]
  },
  {
   "cell_type": "code",
   "execution_count": 47,
   "id": "faa3a6fb",
   "metadata": {},
   "outputs": [
    {
     "name": "stdout",
     "output_type": "stream",
     "text": [
      "1\n"
     ]
    }
   ],
   "source": [
    "P = PauliString('x0z1 x0z0 x0z0 x0z0 x0z0 x0z0 x0z0 x0z0', dimensions=[2, 2, 2, 2, 2, 2, 2, 2])\n",
    "pauli_index = PauliString_to_int(P, reverse=True)\n",
    "print(pauli_index)"
   ]
  },
  {
   "cell_type": "code",
   "execution_count": null,
   "id": "47186b80",
   "metadata": {},
   "outputs": [],
   "source": []
  }
 ],
 "metadata": {
  "kernelspec": {
   "display_name": "base",
   "language": "python",
   "name": "python3"
  },
  "language_info": {
   "codemirror_mode": {
    "name": "ipython",
    "version": 3
   },
   "file_extension": ".py",
   "mimetype": "text/x-python",
   "name": "python",
   "nbconvert_exporter": "python",
   "pygments_lexer": "ipython3",
   "version": "3.11.5"
  }
 },
 "nbformat": 4,
 "nbformat_minor": 5
}
