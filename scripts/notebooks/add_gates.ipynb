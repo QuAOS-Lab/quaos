{
 "cells": [
  {
   "cell_type": "code",
   "execution_count": 4,
   "id": "fba23575",
   "metadata": {},
   "outputs": [],
   "source": [
    "import numpy as np\n",
    "from quaos.paulis import PauliSum, PauliString\n",
    "from quaos.gates import GateOperation, Circuit, Hadamard as H, SUM as CX, PHASE as S\n",
    "from quaos.hamiltonian import *\n",
    "from quaos.core.prime_Functions_Andrew import int_to_bases\n",
    "from collections import defaultdict\n",
    "import sympy as sym\n",
    "from sympy.physics.quantum import TensorProduct,Operator"
   ]
  },
  {
   "cell_type": "code",
   "execution_count": 5,
   "id": "559392bd",
   "metadata": {},
   "outputs": [],
   "source": [
    "def modulo_2(expr):\n",
    "    \"\"\"\n",
    "    Takes a SymPy expression and reduces its coefficients modulo 2.\n",
    "    \"\"\"\n",
    "    # Expand the expression to handle all terms\n",
    "    expr = expr.expand()\n",
    "    \n",
    "    # Iterate through the terms and apply modulo 2 to coefficients\n",
    "    terms = expr.as_ordered_terms()\n",
    "    mod_expr = sum(sym.Mod(term.as_coeff_Mul()[0], 2) * term.as_coeff_Mul()[1] for term in terms)\n",
    "    \n",
    "    return mod_expr\n",
    "\n",
    "def reduce_exponents(expr):\n",
    "    \"\"\"\n",
    "    Reduces all exponents in a SymPy expression to zero, assuming symbols are binary (0 or 1).\n",
    "    \n",
    "    Args:\n",
    "        expr (sympy.Expr): The input SymPy expression.\n",
    "    \n",
    "    Returns:\n",
    "        sympy.Expr: The modified expression with all exponents set to zero.\n",
    "    \"\"\"\n",
    "    expr = sym.expand(expr)  # Expand the expression to handle all terms\n",
    "    return expr.replace(lambda x: x.is_Pow, lambda x: x.base)\n",
    "\n",
    "def symplectic_effect(circuit,phases = True):\n",
    "    n_qudits = len(circuit.dimensions)\n",
    "    #print(n_qudits)\n",
    "    r_now = list(sym.symbols([f'r{i}' for i in range(1, n_qudits+1)]))\n",
    "    omega = sym.symbols('omega')\n",
    "    #print(len(r_now))\n",
    "    s_now = list(sym.symbols([f's{i}' for i in range(1, n_qudits+1)]))\n",
    "    r_next = [r_now[i] for i in range(n_qudits)]\n",
    "    s_next = [s_now[i] for i in range(n_qudits)]\n",
    "\n",
    "    #r1_start, r2_start, s1_start, s2_start = sym.symbols('r1 r2 s1 s2')\n",
    "    X = Operator('X')\n",
    "    Z = Operator('Z')\n",
    "\n",
    "    phase = 0\n",
    "    gates = circuit.gates\n",
    "    qubits = circuit.indexes\n",
    "    for i,g in enumerate(gates):\n",
    "        if g.name == 'SUM':\n",
    "            r_next[qubits[i][1]] = r_now[qubits[i][0]] + r_now[qubits[i][1]]\n",
    "            s_next[qubits[i][0]] = s_now[qubits[i][0]] + s_now[qubits[i][1]]\n",
    "            #phase += r_now[qubits[i][1]] * s_now[qubits[i][1]] * (r_now[qubits[i][0]] + s_now[qubits[i][0]] + 1)\n",
    "        elif g.name == 'H' or g.name == 'HADAMARD':\n",
    "            r_next[qubits[i][0]] = s_now[qubits[i][0]]\n",
    "            s_next[qubits[i][0]] = r_now[qubits[i][0]]\n",
    "            phase += s_now[qubits[i][0]] * r_now[qubits[i][0]]\n",
    "        elif g.name == 'S' or g.name == 'PHASE':\n",
    "            s_next[qubits[i][0]] = s_now[qubits[i][0]] + r_now[qubits[i][0]]\n",
    "            #phase += s_now[qubits[i][0]] * r_now[qubits[i][0]]\n",
    "        r_now = [r_next[i] for i in range(n_qudits)]\n",
    "        s_now = [s_next[i] for i in range(n_qudits)]\n",
    "    final = TensorProduct(X**(modulo_2(r_now[0])) * Z**(modulo_2(s_now[0])), X**(modulo_2(r_now[1])) * Z**(modulo_2(s_now[1])))\n",
    "    for i in range(2, n_qudits):\n",
    "        final = TensorProduct(final, X**(modulo_2(r_now[i])) * Z**(modulo_2(s_now[i])))\n",
    "    \n",
    "    if phases:\n",
    "        display(omega**modulo_2(reduce_exponents(modulo_2(sym.simplify(phase)))) * final)\n",
    "    else:\n",
    "        display(final)\n",
    "    return()"
   ]
  },
  {
   "cell_type": "code",
   "execution_count": 6,
   "id": "5bf400c9",
   "metadata": {},
   "outputs": [],
   "source": [
    "# Identity\n",
    "\n",
    "list_add_id = []\n",
    "\n",
    "# I: S\n",
    "# X: S\n",
    "# Z: S\n",
    "# Y: S\n",
    "\n",
    "'''\n",
    "I  ->  I\n",
    "X  ->  Z\n",
    "Z  ->  Y\n",
    "Y  ->  X\n",
    "'''\n",
    "list_add_id.append(Circuit(dimensions=[2,2], gates=[H(1,2),S(1,2)]))\n",
    "list_add_id.append(Circuit(dimensions=[2,2], gates=[S(0,2),H(1,2),S(1,2),S(0,2)]))\n",
    "list_add_id.append(Circuit(dimensions=[2,2], gates=[H(1,2),CX(1,0,2),S(1,2),CX(1,0,2)]))\n",
    "\n",
    "'''\n",
    "I  ->  I\n",
    "X  ->  Y\n",
    "Z  ->  Z\n",
    "Y  ->  X\n",
    "'''\n",
    "list_add_id.append(Circuit(dimensions=[2,2], gates=[CX(0,1,2),CX(1,0,2),S(0,2),CX(1,0,2),CX(0,1,2)]))\n",
    "\n",
    "'''\n",
    "I  ->  I\n",
    "X  ->  X\n",
    "Z  ->  Y\n",
    "Y  ->  Z\n",
    "'''\n",
    "list_add_id.append(Circuit(dimensions=[2,2], gates=[CX(0,1,2),H(1,2),S(1,2),H(1,2),CX(0,1,2)]))\n",
    "\n",
    "# I: D\n",
    "# X: D\n",
    "# Z: S\n",
    "# Y: S\n",
    "'''\n",
    "I  ->  I\n",
    "X  ->  X\n",
    "Z  ->  Y\n",
    "Y  ->  Z\n",
    "'''\n",
    "list_add_id.append(Circuit(dimensions=[2,2], gates=[CX(0,1,2),S(1,2),H(1,2),S(1,2),CX(0,1,2)]))\n",
    "list_add_id.append(Circuit(dimensions=[2,2], gates=[CX(1,0,2),CX(0,1,2),S(0,2),H(0,2),CX(0,1,2),S(0,2),CX(1,0,2)]))\n",
    "\n",
    "\n",
    "# I: D\n",
    "# X: S\n",
    "# Z: D\n",
    "# Y: S\n",
    "'''\n",
    "I  ->  I\n",
    "X  ->  Y\n",
    "Z  ->  Z\n",
    "Y  ->  X\n",
    "'''\n",
    "list_add_id.append(Circuit(dimensions=[2,2], gates=[CX(0,1,2),S(0,2),S(1,2),CX(0,1,2),H(0,2),CX(1,0,2)]))\n",
    "\n",
    "\n",
    "# I: S\n",
    "# X: D\n",
    "# Z: S\n",
    "# Y: D\n",
    "'''\n",
    "I  ->  I\n",
    "X  ->  Y\n",
    "Z  ->  X\n",
    "Y  ->  Z\n",
    "'''\n",
    "list_add_id.append(Circuit(dimensions=[2,2], gates=[CX(1,0,2),S(0,2),CX(1,0,2),H(1,2),CX(0,1,2),S(0,2)]))\n",
    "\n"
   ]
  },
  {
   "cell_type": "code",
   "execution_count": 9,
   "id": "e2a32616",
   "metadata": {},
   "outputs": [
    {
     "name": "stdout",
     "output_type": "stream",
     "text": [
      "Option  0 :  SSSS\n",
      "H [1]\n",
      "S [1]\n",
      "\n",
      "\n",
      "S [0]\n",
      "H [1]\n",
      "S [1]\n",
      "S [0]\n",
      "\n"
     ]
    },
    {
     "data": {
      "text/latex": [
       "$\\displaystyle \\left({X^{r_{1}} Z^{s_{1}}}\\right)\\otimes \\left({X^{s_{2}} Z^{r_{2} + s_{2}}}\\right)$"
      ],
      "text/plain": [
       "(X**r1*Z**s1)x(X**s2*Z**(r2 + s2))"
      ]
     },
     "metadata": {},
     "output_type": "display_data"
    },
    {
     "name": "stdout",
     "output_type": "stream",
     "text": [
      "\n",
      "H [1]\n",
      "SUM [1, 0]\n",
      "S [1]\n",
      "SUM [1, 0]\n",
      "\n"
     ]
    },
    {
     "data": {
      "text/latex": [
       "$\\displaystyle \\left({X^{r_{1}} Z^{s_{1}}}\\right)\\otimes \\left({X^{s_{2}} Z^{r_{2} + s_{2}}}\\right)$"
      ],
      "text/plain": [
       "(X**r1*Z**s1)x(X**s2*Z**(r2 + s2))"
      ]
     },
     "metadata": {},
     "output_type": "display_data"
    },
    {
     "name": "stdout",
     "output_type": "stream",
     "text": [
      "\n",
      "SUM [0, 1]\n",
      "SUM [1, 0]\n",
      "S [0]\n",
      "SUM [1, 0]\n",
      "SUM [0, 1]\n",
      "\n"
     ]
    },
    {
     "data": {
      "text/latex": [
       "$\\displaystyle \\left({X^{r_{1}} Z^{s_{1}}}\\right)\\otimes \\left({X^{r_{2}} Z^{r_{2} + s_{2}}}\\right)$"
      ],
      "text/plain": [
       "(X**r1*Z**s1)x(X**r2*Z**(r2 + s2))"
      ]
     },
     "metadata": {},
     "output_type": "display_data"
    },
    {
     "name": "stdout",
     "output_type": "stream",
     "text": [
      "\n",
      "SUM [0, 1]\n",
      "H [1]\n",
      "S [1]\n",
      "H [1]\n",
      "SUM [0, 1]\n",
      "\n"
     ]
    },
    {
     "data": {
      "text/latex": [
       "$\\displaystyle \\left({X^{r_{1}} Z^{s_{1}}}\\right)\\otimes \\left({X^{r_{2} + s_{2}} Z^{s_{2}}}\\right)$"
      ],
      "text/plain": [
       "(X**r1*Z**s1)x(X**(r2 + s2)*Z**s2)"
      ]
     },
     "metadata": {},
     "output_type": "display_data"
    },
    {
     "name": "stdout",
     "output_type": "stream",
     "text": [
      "\n",
      "SUM [0, 1]\n",
      "S [1]\n",
      "H [1]\n",
      "S [1]\n",
      "SUM [0, 1]\n",
      "SUM [0, 1]\n",
      "S [1]\n",
      "H [1]\n",
      "S [1]\n",
      "SUM [0, 1]\n",
      "\n"
     ]
    },
    {
     "data": {
      "text/latex": [
       "$\\displaystyle \\left({X^{r_{1}} Z^{s_{1}}}\\right)\\otimes \\left({X^{r_{2}} Z^{s_{2}}}\\right)$"
      ],
      "text/plain": [
       "(X**r1*Z**s1)x(X**r2*Z**s2)"
      ]
     },
     "metadata": {},
     "output_type": "display_data"
    },
    {
     "name": "stdout",
     "output_type": "stream",
     "text": [
      "\n",
      "SUM [1, 0]\n",
      "SUM [0, 1]\n",
      "S [0]\n",
      "H [0]\n",
      "SUM [0, 1]\n",
      "S [0]\n",
      "SUM [1, 0]\n",
      "SUM [0, 1]\n",
      "S [1]\n",
      "H [1]\n",
      "S [1]\n",
      "SUM [0, 1]\n",
      "\n"
     ]
    },
    {
     "data": {
      "text/latex": [
       "$\\displaystyle \\left({X^{r_{1}} Z^{s_{1}}}\\right)\\otimes \\left({X^{r_{2}} Z^{s_{2}}}\\right)$"
      ],
      "text/plain": [
       "(X**r1*Z**s1)x(X**r2*Z**s2)"
      ]
     },
     "metadata": {},
     "output_type": "display_data"
    },
    {
     "name": "stdout",
     "output_type": "stream",
     "text": [
      "\n",
      "SUM [0, 1]\n",
      "S [0]\n",
      "S [1]\n",
      "SUM [0, 1]\n",
      "H [0]\n",
      "SUM [1, 0]\n",
      "SUM [0, 1]\n",
      "S [1]\n",
      "SUM [0, 1]\n",
      "H [1]\n",
      "SUM [0, 1]\n",
      "S [0]\n",
      "\n"
     ]
    },
    {
     "data": {
      "text/latex": [
       "$\\displaystyle \\left({X^{s_{1}} Z^{r_{1}}}\\right)\\otimes \\left({X^{s_{2}} Z^{r_{2}}}\\right)$"
      ],
      "text/plain": [
       "(X**s1*Z**r1)x(X**s2*Z**r2)"
      ]
     },
     "metadata": {},
     "output_type": "display_data"
    },
    {
     "name": "stdout",
     "output_type": "stream",
     "text": [
      "\n",
      "SUM [1, 0]\n",
      "S [0]\n",
      "SUM [1, 0]\n",
      "H [1]\n",
      "SUM [0, 1]\n",
      "S [0]\n",
      "H [1]\n",
      "SUM [1, 0]\n",
      "S [0]\n",
      "SUM [1, 0]\n",
      "H [1]\n",
      "SUM [0, 1]\n",
      "S [0]\n",
      "\n"
     ]
    },
    {
     "data": {
      "text/latex": [
       "$\\displaystyle \\left({X^{r_{1}} Z^{s_{1}}}\\right)\\otimes \\left({X^{s_{2}} Z^{r_{2}}}\\right)$"
      ],
      "text/plain": [
       "(X**r1*Z**s1)x(X**s2*Z**r2)"
      ]
     },
     "metadata": {},
     "output_type": "display_data"
    },
    {
     "name": "stdout",
     "output_type": "stream",
     "text": [
      "\n",
      "\n",
      "----------------------------------\n",
      "Option  1 :  DDSS\n",
      "SUM [0, 1]\n",
      "S [1]\n",
      "H [1]\n",
      "S [1]\n",
      "SUM [0, 1]\n",
      "\n",
      "\n",
      "SUM [1, 0]\n",
      "SUM [0, 1]\n",
      "S [0]\n",
      "H [0]\n",
      "SUM [0, 1]\n",
      "S [0]\n",
      "SUM [1, 0]\n",
      "\n"
     ]
    },
    {
     "data": {
      "text/latex": [
       "$\\displaystyle \\left({X^{r_{1}} Z^{s_{1}}}\\right)\\otimes \\left({X^{r_{2} + s_{2}} Z^{s_{2}}}\\right)$"
      ],
      "text/plain": [
       "(X**r1*Z**s1)x(X**(r2 + s2)*Z**s2)"
      ]
     },
     "metadata": {},
     "output_type": "display_data"
    },
    {
     "name": "stdout",
     "output_type": "stream",
     "text": [
      "\n",
      "H [1]\n",
      "S [1]\n",
      "SUM [0, 1]\n",
      "S [1]\n",
      "SUM [0, 1]\n",
      "H [1]\n",
      "SUM [0, 1]\n",
      "S [0]\n",
      "\n"
     ]
    },
    {
     "data": {
      "text/latex": [
       "$\\displaystyle \\left({X^{r_{1}} Z^{s_{1}}}\\right)\\otimes \\left({X^{r_{2}} Z^{s_{2}}}\\right)$"
      ],
      "text/plain": [
       "(X**r1*Z**s1)x(X**r2*Z**s2)"
      ]
     },
     "metadata": {},
     "output_type": "display_data"
    },
    {
     "name": "stdout",
     "output_type": "stream",
     "text": [
      "\n",
      "SUM [0, 1]\n",
      "H [1]\n",
      "S [1]\n",
      "H [1]\n",
      "SUM [0, 1]\n",
      "SUM [0, 1]\n",
      "S [1]\n",
      "H [1]\n",
      "S [1]\n",
      "SUM [0, 1]\n",
      "\n"
     ]
    },
    {
     "data": {
      "text/latex": [
       "$\\displaystyle \\left({X^{r_{1}} Z^{s_{1}}}\\right)\\otimes \\left({X^{r_{2}} Z^{s_{2}}}\\right)$"
      ],
      "text/plain": [
       "(X**r1*Z**s1)x(X**r2*Z**s2)"
      ]
     },
     "metadata": {},
     "output_type": "display_data"
    },
    {
     "name": "stdout",
     "output_type": "stream",
     "text": [
      "\n",
      "S [0]\n",
      "H [1]\n",
      "S [1]\n",
      "S [0]\n",
      "SUM [0, 1]\n",
      "S [1]\n",
      "SUM [0, 1]\n",
      "H [1]\n",
      "SUM [0, 1]\n",
      "S [0]\n",
      "\n"
     ]
    },
    {
     "data": {
      "text/latex": [
       "$\\displaystyle \\left({X^{r_{1}} Z^{s_{1}}}\\right)\\otimes \\left({X^{r_{2}} Z^{s_{2}}}\\right)$"
      ],
      "text/plain": [
       "(X**r1*Z**s1)x(X**r2*Z**s2)"
      ]
     },
     "metadata": {},
     "output_type": "display_data"
    },
    {
     "name": "stdout",
     "output_type": "stream",
     "text": [
      "\n",
      "H [1]\n",
      "SUM [1, 0]\n",
      "S [1]\n",
      "SUM [1, 0]\n",
      "SUM [0, 1]\n",
      "S [1]\n",
      "SUM [0, 1]\n",
      "H [1]\n",
      "SUM [0, 1]\n",
      "S [0]\n",
      "\n"
     ]
    },
    {
     "data": {
      "text/latex": [
       "$\\displaystyle \\left({X^{r_{1}} Z^{s_{1}}}\\right)\\otimes \\left({X^{r_{2}} Z^{s_{2}}}\\right)$"
      ],
      "text/plain": [
       "(X**r1*Z**s1)x(X**r2*Z**s2)"
      ]
     },
     "metadata": {},
     "output_type": "display_data"
    },
    {
     "name": "stdout",
     "output_type": "stream",
     "text": [
      "\n",
      "SUM [0, 1]\n",
      "SUM [1, 0]\n",
      "S [0]\n",
      "SUM [1, 0]\n",
      "SUM [0, 1]\n",
      "S [1]\n",
      "SUM [0, 1]\n",
      "S [1]\n",
      "H [1]\n",
      "S [1]\n",
      "SUM [0, 1]\n",
      "\n"
     ]
    },
    {
     "data": {
      "text/latex": [
       "$\\displaystyle \\left({X^{r_{1}} Z^{s_{1}}}\\right)\\otimes \\left({X^{r_{2} + s_{2}} Z^{s_{2}}}\\right)$"
      ],
      "text/plain": [
       "(X**r1*Z**s1)x(X**(r2 + s2)*Z**s2)"
      ]
     },
     "metadata": {},
     "output_type": "display_data"
    },
    {
     "name": "stdout",
     "output_type": "stream",
     "text": [
      "\n",
      "SUM [1, 0]\n",
      "S [0]\n",
      "SUM [1, 0]\n",
      "H [1]\n",
      "SUM [0, 1]\n",
      "S [0]\n",
      "SUM [0, 1]\n",
      "S [1]\n",
      "SUM [0, 1]\n",
      "H [1]\n",
      "SUM [0, 1]\n",
      "S [0]\n",
      "\n"
     ]
    },
    {
     "data": {
      "text/latex": [
       "$\\displaystyle \\left({X^{r_{1}} Z^{s_{1}}}\\right)\\otimes \\left({X^{s_{2}} Z^{r_{2} + s_{2}}}\\right)$"
      ],
      "text/plain": [
       "(X**r1*Z**s1)x(X**s2*Z**(r2 + s2))"
      ]
     },
     "metadata": {},
     "output_type": "display_data"
    },
    {
     "name": "stdout",
     "output_type": "stream",
     "text": [
      "\n",
      "SUM [0, 1]\n",
      "S [0]\n",
      "S [1]\n",
      "SUM [0, 1]\n",
      "H [0]\n",
      "SUM [1, 0]\n",
      "H [1]\n",
      "SUM [1, 0]\n",
      "S [0]\n",
      "SUM [1, 0]\n",
      "H [1]\n",
      "SUM [0, 1]\n",
      "S [0]\n",
      "\n"
     ]
    },
    {
     "data": {
      "text/latex": [
       "$\\displaystyle \\left({X^{s_{1}} Z^{r_{1}}}\\right)\\otimes \\left({X^{s_{2}} Z^{r_{2} + s_{2}}}\\right)$"
      ],
      "text/plain": [
       "(X**s1*Z**r1)x(X**s2*Z**(r2 + s2))"
      ]
     },
     "metadata": {},
     "output_type": "display_data"
    },
    {
     "name": "stdout",
     "output_type": "stream",
     "text": [
      "\n",
      "\n",
      "----------------------------------\n",
      "Option  2 :  DSDS\n",
      "SUM [0, 1]\n",
      "S [0]\n",
      "S [1]\n",
      "SUM [0, 1]\n",
      "H [0]\n",
      "SUM [1, 0]\n",
      "\n",
      "\n",
      "H [1]\n",
      "S [1]\n",
      "S [1]\n",
      "SUM [0, 1]\n",
      "S [1]\n",
      "H [1]\n",
      "S [1]\n",
      "SUM [0, 1]\n",
      "\n"
     ]
    },
    {
     "data": {
      "text/latex": [
       "$\\displaystyle \\left({X^{r_{1}} Z^{s_{1}}}\\right)\\otimes \\left({X^{r_{2} + s_{2}} Z^{r_{2}}}\\right)$"
      ],
      "text/plain": [
       "(X**r1*Z**s1)x(X**(r2 + s2)*Z**r2)"
      ]
     },
     "metadata": {},
     "output_type": "display_data"
    },
    {
     "name": "stdout",
     "output_type": "stream",
     "text": [
      "\n",
      "S [0]\n",
      "H [1]\n",
      "S [1]\n",
      "S [0]\n",
      "S [1]\n",
      "SUM [0, 1]\n",
      "S [1]\n",
      "H [1]\n",
      "S [1]\n",
      "SUM [0, 1]\n",
      "\n"
     ]
    },
    {
     "data": {
      "text/latex": [
       "$\\displaystyle \\left({X^{r_{1}} Z^{s_{1}}}\\right)\\otimes \\left({X^{r_{2} + s_{2}} Z^{r_{2}}}\\right)$"
      ],
      "text/plain": [
       "(X**r1*Z**s1)x(X**(r2 + s2)*Z**r2)"
      ]
     },
     "metadata": {},
     "output_type": "display_data"
    },
    {
     "name": "stdout",
     "output_type": "stream",
     "text": [
      "\n",
      "H [1]\n",
      "SUM [1, 0]\n",
      "S [1]\n",
      "SUM [1, 0]\n",
      "S [1]\n",
      "SUM [0, 1]\n",
      "S [1]\n",
      "H [1]\n",
      "S [1]\n",
      "SUM [0, 1]\n",
      "\n"
     ]
    },
    {
     "data": {
      "text/latex": [
       "$\\displaystyle \\left({X^{r_{1}} Z^{s_{1}}}\\right)\\otimes \\left({X^{r_{2} + s_{2}} Z^{r_{2}}}\\right)$"
      ],
      "text/plain": [
       "(X**r1*Z**s1)x(X**(r2 + s2)*Z**r2)"
      ]
     },
     "metadata": {},
     "output_type": "display_data"
    },
    {
     "name": "stdout",
     "output_type": "stream",
     "text": [
      "\n",
      "SUM [0, 1]\n",
      "SUM [1, 0]\n",
      "S [0]\n",
      "SUM [1, 0]\n",
      "SUM [0, 1]\n",
      "SUM [0, 1]\n",
      "S [1]\n",
      "SUM [0, 1]\n",
      "H [1]\n",
      "SUM [0, 1]\n",
      "S [0]\n",
      "\n"
     ]
    },
    {
     "data": {
      "text/latex": [
       "$\\displaystyle \\left({X^{r_{1}} Z^{s_{1}}}\\right)\\otimes \\left({X^{s_{2}} Z^{r_{2}}}\\right)$"
      ],
      "text/plain": [
       "(X**r1*Z**s1)x(X**s2*Z**r2)"
      ]
     },
     "metadata": {},
     "output_type": "display_data"
    },
    {
     "name": "stdout",
     "output_type": "stream",
     "text": [
      "\n",
      "SUM [0, 1]\n",
      "H [1]\n",
      "S [1]\n",
      "H [1]\n",
      "SUM [0, 1]\n",
      "S [1]\n",
      "SUM [0, 1]\n",
      "S [1]\n",
      "H [1]\n",
      "S [1]\n",
      "SUM [0, 1]\n",
      "\n"
     ]
    },
    {
     "data": {
      "text/latex": [
       "$\\displaystyle \\left({X^{r_{1}} Z^{s_{1}}}\\right)\\otimes \\left({X^{s_{2}} Z^{r_{2}}}\\right)$"
      ],
      "text/plain": [
       "(X**r1*Z**s1)x(X**s2*Z**r2)"
      ]
     },
     "metadata": {},
     "output_type": "display_data"
    },
    {
     "name": "stdout",
     "output_type": "stream",
     "text": [
      "\n",
      "SUM [0, 1]\n",
      "S [1]\n",
      "H [1]\n",
      "S [1]\n",
      "SUM [0, 1]\n",
      "SUM [1, 0]\n",
      "S [0]\n",
      "SUM [1, 0]\n",
      "H [1]\n",
      "SUM [0, 1]\n",
      "S [0]\n",
      "\n"
     ]
    },
    {
     "data": {
      "text/latex": [
       "$\\displaystyle \\left({X^{r_{1}} Z^{s_{1}}}\\right)\\otimes \\left({X^{r_{2}} Z^{r_{2} + s_{2}}}\\right)$"
      ],
      "text/plain": [
       "(X**r1*Z**s1)x(X**r2*Z**(r2 + s2))"
      ]
     },
     "metadata": {},
     "output_type": "display_data"
    },
    {
     "name": "stdout",
     "output_type": "stream",
     "text": [
      "\n",
      "SUM [1, 0]\n",
      "SUM [0, 1]\n",
      "S [0]\n",
      "H [0]\n",
      "SUM [0, 1]\n",
      "S [0]\n",
      "SUM [1, 0]\n",
      "SUM [1, 0]\n",
      "S [0]\n",
      "SUM [1, 0]\n",
      "H [1]\n",
      "SUM [0, 1]\n",
      "S [0]\n",
      "\n"
     ]
    },
    {
     "data": {
      "text/latex": [
       "$\\displaystyle \\left({X^{r_{1}} Z^{s_{1}}}\\right)\\otimes \\left({X^{r_{2}} Z^{r_{2} + s_{2}}}\\right)$"
      ],
      "text/plain": [
       "(X**r1*Z**s1)x(X**r2*Z**(r2 + s2))"
      ]
     },
     "metadata": {},
     "output_type": "display_data"
    },
    {
     "name": "stdout",
     "output_type": "stream",
     "text": [
      "\n",
      "SUM [1, 0]\n",
      "S [0]\n",
      "SUM [1, 0]\n",
      "H [1]\n",
      "SUM [0, 1]\n",
      "S [0]\n",
      "SUM [1, 0]\n",
      "S [0]\n",
      "SUM [1, 0]\n",
      "H [1]\n",
      "SUM [0, 1]\n",
      "S [0]\n",
      "SUM [0, 1]\n",
      "S [1]\n",
      "H [1]\n",
      "S [1]\n",
      "SUM [0, 1]\n",
      "\n"
     ]
    },
    {
     "data": {
      "text/latex": [
       "$\\displaystyle \\left({X^{r_{1}} Z^{s_{1}}}\\right)\\otimes \\left({X^{r_{2}} Z^{r_{2} + s_{2}}}\\right)$"
      ],
      "text/plain": [
       "(X**r1*Z**s1)x(X**r2*Z**(r2 + s2))"
      ]
     },
     "metadata": {},
     "output_type": "display_data"
    },
    {
     "name": "stdout",
     "output_type": "stream",
     "text": [
      "\n",
      "\n",
      "----------------------------------\n",
      "Option  3 :  DSSD\n",
      "H [1]\n",
      "S [1]\n",
      "SUM [0, 1]\n",
      "S [1]\n",
      "H [1]\n",
      "S [1]\n",
      "SUM [0, 1]\n",
      "\n",
      "\n",
      "S [0]\n",
      "H [1]\n",
      "S [1]\n",
      "S [0]\n",
      "SUM [0, 1]\n",
      "S [1]\n",
      "H [1]\n",
      "S [1]\n",
      "SUM [0, 1]\n",
      "\n"
     ]
    },
    {
     "data": {
      "text/latex": [
       "$\\displaystyle \\left({X^{r_{1}} Z^{s_{1}}}\\right)\\otimes \\left({X^{r_{2}} Z^{r_{2} + s_{2}}}\\right)$"
      ],
      "text/plain": [
       "(X**r1*Z**s1)x(X**r2*Z**(r2 + s2))"
      ]
     },
     "metadata": {},
     "output_type": "display_data"
    },
    {
     "name": "stdout",
     "output_type": "stream",
     "text": [
      "\n",
      "H [1]\n",
      "SUM [1, 0]\n",
      "S [1]\n",
      "SUM [1, 0]\n",
      "SUM [0, 1]\n",
      "S [1]\n",
      "H [1]\n",
      "S [1]\n",
      "SUM [0, 1]\n",
      "\n"
     ]
    },
    {
     "data": {
      "text/latex": [
       "$\\displaystyle \\left({X^{r_{1}} Z^{s_{1}}}\\right)\\otimes \\left({X^{r_{2}} Z^{r_{2} + s_{2}}}\\right)$"
      ],
      "text/plain": [
       "(X**r1*Z**s1)x(X**r2*Z**(r2 + s2))"
      ]
     },
     "metadata": {},
     "output_type": "display_data"
    },
    {
     "name": "stdout",
     "output_type": "stream",
     "text": [
      "\n",
      "SUM [0, 1]\n",
      "SUM [1, 0]\n",
      "S [0]\n",
      "SUM [1, 0]\n",
      "SUM [0, 1]\n",
      "SUM [0, 1]\n",
      "S [1]\n",
      "H [1]\n",
      "S [1]\n",
      "SUM [0, 1]\n",
      "\n"
     ]
    },
    {
     "data": {
      "text/latex": [
       "$\\displaystyle \\left({X^{r_{1}} Z^{s_{1}}}\\right)\\otimes \\left({X^{s_{2}} Z^{r_{2} + s_{2}}}\\right)$"
      ],
      "text/plain": [
       "(X**r1*Z**s1)x(X**s2*Z**(r2 + s2))"
      ]
     },
     "metadata": {},
     "output_type": "display_data"
    },
    {
     "name": "stdout",
     "output_type": "stream",
     "text": [
      "\n",
      "SUM [0, 1]\n",
      "H [1]\n",
      "S [1]\n",
      "H [1]\n",
      "SUM [0, 1]\n",
      "SUM [0, 1]\n",
      "S [1]\n",
      "SUM [0, 1]\n",
      "H [1]\n",
      "SUM [0, 1]\n",
      "S [0]\n",
      "\n"
     ]
    },
    {
     "data": {
      "text/latex": [
       "$\\displaystyle \\left({X^{r_{1}} Z^{s_{1}}}\\right)\\otimes \\left({X^{r_{2}} Z^{r_{2} + s_{2}}}\\right)$"
      ],
      "text/plain": [
       "(X**r1*Z**s1)x(X**r2*Z**(r2 + s2))"
      ]
     },
     "metadata": {},
     "output_type": "display_data"
    },
    {
     "name": "stdout",
     "output_type": "stream",
     "text": [
      "\n",
      "SUM [1, 0]\n",
      "S [0]\n",
      "SUM [1, 0]\n",
      "H [1]\n",
      "SUM [0, 1]\n",
      "S [0]\n",
      "S [1]\n",
      "SUM [0, 1]\n",
      "S [1]\n",
      "H [1]\n",
      "S [1]\n",
      "SUM [0, 1]\n",
      "\n"
     ]
    },
    {
     "data": {
      "text/latex": [
       "$\\displaystyle \\left({X^{r_{1}} Z^{s_{1}}}\\right)\\otimes \\left({X^{r_{2}} Z^{s_{2}}}\\right)$"
      ],
      "text/plain": [
       "(X**r1*Z**s1)x(X**r2*Z**s2)"
      ]
     },
     "metadata": {},
     "output_type": "display_data"
    },
    {
     "name": "stdout",
     "output_type": "stream",
     "text": [
      "\n",
      "SUM [0, 1]\n",
      "S [1]\n",
      "H [1]\n",
      "S [1]\n",
      "SUM [0, 1]\n",
      "S [1]\n",
      "H [1]\n",
      "SUM [1, 0]\n",
      "S [0]\n",
      "SUM [1, 0]\n",
      "H [1]\n",
      "SUM [0, 1]\n",
      "S [0]\n",
      "\n"
     ]
    },
    {
     "data": {
      "text/latex": [
       "$\\displaystyle \\left({X^{r_{1}} Z^{s_{1}}}\\right)\\otimes \\left({X^{s_{2}} Z^{r_{2}}}\\right)$"
      ],
      "text/plain": [
       "(X**r1*Z**s1)x(X**s2*Z**r2)"
      ]
     },
     "metadata": {},
     "output_type": "display_data"
    },
    {
     "name": "stdout",
     "output_type": "stream",
     "text": [
      "\n",
      "SUM [0, 1]\n",
      "S [0]\n",
      "S [1]\n",
      "SUM [0, 1]\n",
      "H [0]\n",
      "SUM [1, 0]\n",
      "S [1]\n",
      "H [1]\n",
      "SUM [1, 0]\n",
      "S [0]\n",
      "SUM [1, 0]\n",
      "H [1]\n",
      "SUM [0, 1]\n",
      "S [0]\n",
      "\n"
     ]
    },
    {
     "data": {
      "text/latex": [
       "$\\displaystyle \\left({X^{s_{1}} Z^{r_{1}}}\\right)\\otimes \\left({X^{r_{2} + s_{2}} Z^{s_{2}}}\\right)$"
      ],
      "text/plain": [
       "(X**s1*Z**r1)x(X**(r2 + s2)*Z**s2)"
      ]
     },
     "metadata": {},
     "output_type": "display_data"
    },
    {
     "name": "stdout",
     "output_type": "stream",
     "text": [
      "\n",
      "SUM [1, 0]\n",
      "SUM [0, 1]\n",
      "S [0]\n",
      "H [0]\n",
      "SUM [0, 1]\n",
      "S [0]\n",
      "SUM [1, 0]\n",
      "S [1]\n",
      "H [1]\n",
      "SUM [1, 0]\n",
      "S [0]\n",
      "SUM [1, 0]\n",
      "H [1]\n",
      "SUM [0, 1]\n",
      "S [0]\n",
      "\n"
     ]
    },
    {
     "data": {
      "text/latex": [
       "$\\displaystyle \\left({X^{r_{1}} Z^{s_{1}}}\\right)\\otimes \\left({X^{s_{2}} Z^{r_{2}}}\\right)$"
      ],
      "text/plain": [
       "(X**r1*Z**s1)x(X**s2*Z**r2)"
      ]
     },
     "metadata": {},
     "output_type": "display_data"
    },
    {
     "name": "stdout",
     "output_type": "stream",
     "text": [
      "\n",
      "\n",
      "----------------------------------\n",
      "Option  4 :  SDDS\n",
      "H [1]\n",
      "S [1]\n",
      "H [1]\n",
      "SUM [1, 0]\n",
      "S [0]\n",
      "SUM [1, 0]\n",
      "H [1]\n",
      "SUM [0, 1]\n",
      "S [0]\n",
      "\n",
      "\n",
      "SUM [0, 1]\n",
      "S [1]\n",
      "H [1]\n",
      "S [1]\n",
      "SUM [0, 1]\n",
      "S [1]\n",
      "SUM [0, 1]\n",
      "S [1]\n",
      "H [1]\n",
      "S [1]\n",
      "SUM [0, 1]\n",
      "\n"
     ]
    },
    {
     "data": {
      "text/latex": [
       "$\\displaystyle \\left({X^{r_{1}} Z^{s_{1}}}\\right)\\otimes \\left({X^{s_{2}} Z^{r_{2}}}\\right)$"
      ],
      "text/plain": [
       "(X**r1*Z**s1)x(X**s2*Z**r2)"
      ]
     },
     "metadata": {},
     "output_type": "display_data"
    },
    {
     "name": "stdout",
     "output_type": "stream",
     "text": [
      "\n",
      "SUM [0, 1]\n",
      "H [1]\n",
      "S [1]\n",
      "H [1]\n",
      "SUM [0, 1]\n",
      "SUM [1, 0]\n",
      "S [0]\n",
      "SUM [1, 0]\n",
      "H [1]\n",
      "SUM [0, 1]\n",
      "S [0]\n",
      "\n"
     ]
    },
    {
     "data": {
      "text/latex": [
       "$\\displaystyle \\left({X^{r_{1}} Z^{s_{1}}}\\right)\\otimes \\left({X^{r_{2}} Z^{r_{2} + s_{2}}}\\right)$"
      ],
      "text/plain": [
       "(X**r1*Z**s1)x(X**r2*Z**(r2 + s2))"
      ]
     },
     "metadata": {},
     "output_type": "display_data"
    },
    {
     "name": "stdout",
     "output_type": "stream",
     "text": [
      "\n",
      "S [0]\n",
      "H [1]\n",
      "S [1]\n",
      "S [0]\n",
      "H [1]\n",
      "SUM [1, 0]\n",
      "S [0]\n",
      "SUM [1, 0]\n",
      "H [1]\n",
      "SUM [0, 1]\n",
      "S [0]\n",
      "\n"
     ]
    },
    {
     "data": {
      "text/latex": [
       "$\\displaystyle \\left({X^{r_{1}} Z^{s_{1}}}\\right)\\otimes \\left({X^{r_{2}} Z^{r_{2} + s_{2}}}\\right)$"
      ],
      "text/plain": [
       "(X**r1*Z**s1)x(X**r2*Z**(r2 + s2))"
      ]
     },
     "metadata": {},
     "output_type": "display_data"
    },
    {
     "name": "stdout",
     "output_type": "stream",
     "text": [
      "\n",
      "H [1]\n",
      "SUM [1, 0]\n",
      "S [1]\n",
      "SUM [1, 0]\n",
      "H [1]\n",
      "SUM [1, 0]\n",
      "S [0]\n",
      "SUM [1, 0]\n",
      "H [1]\n",
      "SUM [0, 1]\n",
      "S [0]\n",
      "\n"
     ]
    },
    {
     "data": {
      "text/latex": [
       "$\\displaystyle \\left({X^{r_{1}} Z^{s_{1}}}\\right)\\otimes \\left({X^{r_{2}} Z^{r_{2} + s_{2}}}\\right)$"
      ],
      "text/plain": [
       "(X**r1*Z**s1)x(X**r2*Z**(r2 + s2))"
      ]
     },
     "metadata": {},
     "output_type": "display_data"
    },
    {
     "name": "stdout",
     "output_type": "stream",
     "text": [
      "\n",
      "SUM [0, 1]\n",
      "S [0]\n",
      "S [1]\n",
      "SUM [0, 1]\n",
      "H [0]\n",
      "SUM [1, 0]\n",
      "S [1]\n",
      "SUM [0, 1]\n",
      "S [1]\n",
      "H [1]\n",
      "S [1]\n",
      "SUM [0, 1]\n",
      "\n"
     ]
    },
    {
     "data": {
      "text/latex": [
       "$\\displaystyle \\left({X^{s_{1}} Z^{r_{1}}}\\right)\\otimes \\left({X^{r_{2} + s_{2}} Z^{s_{2}}}\\right)$"
      ],
      "text/plain": [
       "(X**s1*Z**r1)x(X**(r2 + s2)*Z**s2)"
      ]
     },
     "metadata": {},
     "output_type": "display_data"
    },
    {
     "name": "stdout",
     "output_type": "stream",
     "text": [
      "\n",
      "SUM [0, 1]\n",
      "SUM [1, 0]\n",
      "S [0]\n",
      "SUM [1, 0]\n",
      "SUM [0, 1]\n",
      "H [1]\n",
      "SUM [1, 0]\n",
      "S [0]\n",
      "SUM [1, 0]\n",
      "H [1]\n",
      "SUM [0, 1]\n",
      "S [0]\n",
      "\n"
     ]
    },
    {
     "data": {
      "text/latex": [
       "$\\displaystyle \\left({X^{r_{1}} Z^{s_{1}}}\\right)\\otimes \\left({X^{s_{2}} Z^{r_{2} + s_{2}}}\\right)$"
      ],
      "text/plain": [
       "(X**r1*Z**s1)x(X**s2*Z**(r2 + s2))"
      ]
     },
     "metadata": {},
     "output_type": "display_data"
    },
    {
     "name": "stdout",
     "output_type": "stream",
     "text": [
      "\n",
      "SUM [1, 0]\n",
      "SUM [0, 1]\n",
      "S [0]\n",
      "H [0]\n",
      "SUM [0, 1]\n",
      "S [0]\n",
      "SUM [1, 0]\n",
      "S [1]\n",
      "SUM [0, 1]\n",
      "S [1]\n",
      "H [1]\n",
      "S [1]\n",
      "SUM [0, 1]\n",
      "\n"
     ]
    },
    {
     "data": {
      "text/latex": [
       "$\\displaystyle \\left({X^{r_{1}} Z^{s_{1}}}\\right)\\otimes \\left({X^{s_{2}} Z^{r_{2}}}\\right)$"
      ],
      "text/plain": [
       "(X**r1*Z**s1)x(X**s2*Z**r2)"
      ]
     },
     "metadata": {},
     "output_type": "display_data"
    },
    {
     "name": "stdout",
     "output_type": "stream",
     "text": [
      "\n",
      "SUM [1, 0]\n",
      "S [0]\n",
      "SUM [1, 0]\n",
      "H [1]\n",
      "SUM [0, 1]\n",
      "S [0]\n",
      "S [1]\n",
      "H [1]\n",
      "SUM [1, 0]\n",
      "S [0]\n",
      "SUM [1, 0]\n",
      "H [1]\n",
      "SUM [0, 1]\n",
      "S [0]\n",
      "\n"
     ]
    },
    {
     "data": {
      "text/latex": [
       "$\\displaystyle \\left({X^{r_{1}} Z^{s_{1}}}\\right)\\otimes \\left({X^{r_{2}} Z^{s_{2}}}\\right)$"
      ],
      "text/plain": [
       "(X**r1*Z**s1)x(X**r2*Z**s2)"
      ]
     },
     "metadata": {},
     "output_type": "display_data"
    },
    {
     "name": "stdout",
     "output_type": "stream",
     "text": [
      "\n",
      "\n",
      "----------------------------------\n",
      "Option  5 :  SDSD\n",
      "SUM [1, 0]\n",
      "S [0]\n",
      "SUM [1, 0]\n",
      "H [1]\n",
      "SUM [0, 1]\n",
      "S [0]\n",
      "\n",
      "\n",
      "H [1]\n",
      "S [1]\n",
      "S [1]\n",
      "H [1]\n",
      "SUM [1, 0]\n",
      "S [0]\n",
      "SUM [1, 0]\n",
      "H [1]\n",
      "SUM [0, 1]\n",
      "S [0]\n",
      "\n"
     ]
    },
    {
     "data": {
      "text/latex": [
       "$\\displaystyle \\left({X^{r_{1}} Z^{s_{1}}}\\right)\\otimes \\left({X^{r_{2} + s_{2}} Z^{r_{2}}}\\right)$"
      ],
      "text/plain": [
       "(X**r1*Z**s1)x(X**(r2 + s2)*Z**r2)"
      ]
     },
     "metadata": {},
     "output_type": "display_data"
    },
    {
     "name": "stdout",
     "output_type": "stream",
     "text": [
      "\n",
      "SUM [0, 1]\n",
      "S [1]\n",
      "H [1]\n",
      "S [1]\n",
      "SUM [0, 1]\n",
      "SUM [0, 1]\n",
      "S [1]\n",
      "SUM [0, 1]\n",
      "H [1]\n",
      "SUM [0, 1]\n",
      "S [0]\n",
      "\n"
     ]
    },
    {
     "data": {
      "text/latex": [
       "$\\displaystyle \\left({X^{r_{1}} Z^{s_{1}}}\\right)\\otimes \\left({X^{r_{2}} Z^{r_{2} + s_{2}}}\\right)$"
      ],
      "text/plain": [
       "(X**r1*Z**s1)x(X**r2*Z**(r2 + s2))"
      ]
     },
     "metadata": {},
     "output_type": "display_data"
    },
    {
     "name": "stdout",
     "output_type": "stream",
     "text": [
      "\n",
      "SUM [0, 1]\n",
      "SUM [1, 0]\n",
      "S [0]\n",
      "SUM [1, 0]\n",
      "SUM [0, 1]\n",
      "SUM [1, 0]\n",
      "S [0]\n",
      "SUM [1, 0]\n",
      "H [1]\n",
      "SUM [0, 1]\n",
      "S [0]\n",
      "\n"
     ]
    },
    {
     "data": {
      "text/latex": [
       "$\\displaystyle \\left({X^{r_{1}} Z^{s_{1}}}\\right)\\otimes \\left({X^{s_{2}} Z^{r_{2}}}\\right)$"
      ],
      "text/plain": [
       "(X**r1*Z**s1)x(X**s2*Z**r2)"
      ]
     },
     "metadata": {},
     "output_type": "display_data"
    },
    {
     "name": "stdout",
     "output_type": "stream",
     "text": [
      "\n",
      "S [0]\n",
      "H [1]\n",
      "S [1]\n",
      "S [0]\n",
      "S [1]\n",
      "H [1]\n",
      "SUM [1, 0]\n",
      "S [0]\n",
      "SUM [1, 0]\n",
      "H [1]\n",
      "SUM [0, 1]\n",
      "S [0]\n",
      "\n"
     ]
    },
    {
     "data": {
      "text/latex": [
       "$\\displaystyle \\left({X^{r_{1}} Z^{s_{1}}}\\right)\\otimes \\left({X^{r_{2} + s_{2}} Z^{r_{2}}}\\right)$"
      ],
      "text/plain": [
       "(X**r1*Z**s1)x(X**(r2 + s2)*Z**r2)"
      ]
     },
     "metadata": {},
     "output_type": "display_data"
    },
    {
     "name": "stdout",
     "output_type": "stream",
     "text": [
      "\n",
      "H [1]\n",
      "SUM [1, 0]\n",
      "S [1]\n",
      "SUM [1, 0]\n",
      "S [1]\n",
      "H [1]\n",
      "SUM [1, 0]\n",
      "S [0]\n",
      "SUM [1, 0]\n",
      "H [1]\n",
      "SUM [0, 1]\n",
      "S [0]\n",
      "\n"
     ]
    },
    {
     "data": {
      "text/latex": [
       "$\\displaystyle \\left({X^{r_{1}} Z^{s_{1}}}\\right)\\otimes \\left({X^{r_{2} + s_{2}} Z^{r_{2}}}\\right)$"
      ],
      "text/plain": [
       "(X**r1*Z**s1)x(X**(r2 + s2)*Z**r2)"
      ]
     },
     "metadata": {},
     "output_type": "display_data"
    },
    {
     "name": "stdout",
     "output_type": "stream",
     "text": [
      "\n",
      "SUM [1, 0]\n",
      "SUM [0, 1]\n",
      "S [0]\n",
      "H [0]\n",
      "SUM [0, 1]\n",
      "S [0]\n",
      "SUM [1, 0]\n",
      "SUM [0, 1]\n",
      "S [1]\n",
      "SUM [0, 1]\n",
      "H [1]\n",
      "SUM [0, 1]\n",
      "S [0]\n",
      "\n"
     ]
    },
    {
     "data": {
      "text/latex": [
       "$\\displaystyle \\left({X^{r_{1}} Z^{s_{1}}}\\right)\\otimes \\left({X^{r_{2}} Z^{r_{2} + s_{2}}}\\right)$"
      ],
      "text/plain": [
       "(X**r1*Z**s1)x(X**r2*Z**(r2 + s2))"
      ]
     },
     "metadata": {},
     "output_type": "display_data"
    },
    {
     "name": "stdout",
     "output_type": "stream",
     "text": [
      "\n",
      "SUM [0, 1]\n",
      "H [1]\n",
      "S [1]\n",
      "H [1]\n",
      "SUM [0, 1]\n",
      "S [1]\n",
      "H [1]\n",
      "SUM [1, 0]\n",
      "S [0]\n",
      "SUM [1, 0]\n",
      "H [1]\n",
      "SUM [0, 1]\n",
      "S [0]\n",
      "\n"
     ]
    },
    {
     "data": {
      "text/latex": [
       "$\\displaystyle \\left({X^{r_{1}} Z^{s_{1}}}\\right)\\otimes \\left({X^{s_{2}} Z^{r_{2}}}\\right)$"
      ],
      "text/plain": [
       "(X**r1*Z**s1)x(X**s2*Z**r2)"
      ]
     },
     "metadata": {},
     "output_type": "display_data"
    },
    {
     "name": "stdout",
     "output_type": "stream",
     "text": [
      "\n",
      "SUM [0, 1]\n",
      "S [0]\n",
      "S [1]\n",
      "SUM [0, 1]\n",
      "H [0]\n",
      "SUM [1, 0]\n",
      "SUM [1, 0]\n",
      "S [0]\n",
      "SUM [1, 0]\n",
      "H [1]\n",
      "SUM [0, 1]\n",
      "S [0]\n",
      "SUM [0, 1]\n",
      "S [1]\n",
      "H [1]\n",
      "S [1]\n",
      "SUM [0, 1]\n",
      "\n"
     ]
    },
    {
     "data": {
      "text/latex": [
       "$\\displaystyle \\left({X^{s_{1}} Z^{r_{1}}}\\right)\\otimes \\left({X^{r_{2} + s_{2}} Z^{r_{2}}}\\right)$"
      ],
      "text/plain": [
       "(X**s1*Z**r1)x(X**(r2 + s2)*Z**r2)"
      ]
     },
     "metadata": {},
     "output_type": "display_data"
    },
    {
     "name": "stdout",
     "output_type": "stream",
     "text": [
      "\n",
      "\n",
      "----------------------------------\n",
      "Option  6 :  SSDD\n",
      "H [1]\n",
      "S [1]\n",
      "SUM [1, 0]\n",
      "S [0]\n",
      "SUM [1, 0]\n",
      "H [1]\n",
      "SUM [0, 1]\n",
      "S [0]\n",
      "\n",
      "\n",
      "S [0]\n",
      "H [1]\n",
      "S [1]\n",
      "S [0]\n",
      "SUM [1, 0]\n",
      "S [0]\n",
      "SUM [1, 0]\n",
      "H [1]\n",
      "SUM [0, 1]\n",
      "S [0]\n",
      "\n"
     ]
    },
    {
     "data": {
      "text/latex": [
       "$\\displaystyle \\left({X^{r_{1}} Z^{s_{1}}}\\right)\\otimes \\left({X^{r_{2}} Z^{s_{2}}}\\right)$"
      ],
      "text/plain": [
       "(X**r1*Z**s1)x(X**r2*Z**s2)"
      ]
     },
     "metadata": {},
     "output_type": "display_data"
    },
    {
     "name": "stdout",
     "output_type": "stream",
     "text": [
      "\n",
      "H [1]\n",
      "SUM [1, 0]\n",
      "S [1]\n",
      "SUM [1, 0]\n",
      "SUM [1, 0]\n",
      "S [0]\n",
      "SUM [1, 0]\n",
      "H [1]\n",
      "SUM [0, 1]\n",
      "S [0]\n",
      "\n"
     ]
    },
    {
     "data": {
      "text/latex": [
       "$\\displaystyle \\left({X^{r_{1}} Z^{s_{1}}}\\right)\\otimes \\left({X^{r_{2}} Z^{s_{2}}}\\right)$"
      ],
      "text/plain": [
       "(X**r1*Z**s1)x(X**r2*Z**s2)"
      ]
     },
     "metadata": {},
     "output_type": "display_data"
    },
    {
     "name": "stdout",
     "output_type": "stream",
     "text": [
      "\n",
      "SUM [0, 1]\n",
      "S [0]\n",
      "S [1]\n",
      "SUM [0, 1]\n",
      "H [0]\n",
      "SUM [1, 0]\n",
      "SUM [0, 1]\n",
      "S [1]\n",
      "H [1]\n",
      "S [1]\n",
      "SUM [0, 1]\n",
      "\n"
     ]
    },
    {
     "data": {
      "text/latex": [
       "$\\displaystyle \\left({X^{s_{1}} Z^{r_{1}}}\\right)\\otimes \\left({X^{s_{2}} Z^{r_{2} + s_{2}}}\\right)$"
      ],
      "text/plain": [
       "(X**s1*Z**r1)x(X**s2*Z**(r2 + s2))"
      ]
     },
     "metadata": {},
     "output_type": "display_data"
    },
    {
     "name": "stdout",
     "output_type": "stream",
     "text": [
      "\n",
      "SUM [1, 0]\n",
      "S [0]\n",
      "SUM [1, 0]\n",
      "H [1]\n",
      "SUM [0, 1]\n",
      "S [0]\n",
      "SUM [1, 0]\n",
      "S [0]\n",
      "SUM [1, 0]\n",
      "H [1]\n",
      "SUM [0, 1]\n",
      "S [0]\n",
      "\n"
     ]
    },
    {
     "data": {
      "text/latex": [
       "$\\displaystyle \\left({X^{r_{1}} Z^{s_{1}}}\\right)\\otimes \\left({X^{s_{2}} Z^{r_{2} + s_{2}}}\\right)$"
      ],
      "text/plain": [
       "(X**r1*Z**s1)x(X**s2*Z**(r2 + s2))"
      ]
     },
     "metadata": {},
     "output_type": "display_data"
    },
    {
     "name": "stdout",
     "output_type": "stream",
     "text": [
      "\n",
      "SUM [0, 1]\n",
      "H [1]\n",
      "S [1]\n",
      "H [1]\n",
      "SUM [0, 1]\n",
      "H [1]\n",
      "SUM [1, 0]\n",
      "S [0]\n",
      "SUM [1, 0]\n",
      "H [1]\n",
      "SUM [0, 1]\n",
      "S [0]\n",
      "\n"
     ]
    },
    {
     "data": {
      "text/latex": [
       "$\\displaystyle \\left({X^{r_{1}} Z^{s_{1}}}\\right)\\otimes \\left({X^{r_{2}} Z^{s_{2}}}\\right)$"
      ],
      "text/plain": [
       "(X**r1*Z**s1)x(X**r2*Z**s2)"
      ]
     },
     "metadata": {},
     "output_type": "display_data"
    },
    {
     "name": "stdout",
     "output_type": "stream",
     "text": [
      "\n",
      "SUM [0, 1]\n",
      "SUM [1, 0]\n",
      "S [0]\n",
      "SUM [1, 0]\n",
      "SUM [0, 1]\n",
      "S [1]\n",
      "H [1]\n",
      "SUM [1, 0]\n",
      "S [0]\n",
      "SUM [1, 0]\n",
      "H [1]\n",
      "SUM [0, 1]\n",
      "S [0]\n",
      "\n"
     ]
    },
    {
     "data": {
      "text/latex": [
       "$\\displaystyle \\left({X^{r_{1}} Z^{s_{1}}}\\right)\\otimes \\left({X^{r_{2} + s_{2}} Z^{s_{2}}}\\right)$"
      ],
      "text/plain": [
       "(X**r1*Z**s1)x(X**(r2 + s2)*Z**s2)"
      ]
     },
     "metadata": {},
     "output_type": "display_data"
    },
    {
     "name": "stdout",
     "output_type": "stream",
     "text": [
      "\n",
      "SUM [0, 1]\n",
      "S [1]\n",
      "H [1]\n",
      "S [1]\n",
      "SUM [0, 1]\n",
      "SUM [1, 0]\n",
      "S [0]\n",
      "SUM [1, 0]\n",
      "H [1]\n",
      "SUM [0, 1]\n",
      "S [0]\n",
      "SUM [0, 1]\n",
      "S [1]\n",
      "H [1]\n",
      "S [1]\n",
      "SUM [0, 1]\n",
      "\n"
     ]
    },
    {
     "data": {
      "text/latex": [
       "$\\displaystyle \\left({X^{r_{1}} Z^{s_{1}}}\\right)\\otimes \\left({X^{s_{2}} Z^{r_{2} + s_{2}}}\\right)$"
      ],
      "text/plain": [
       "(X**r1*Z**s1)x(X**s2*Z**(r2 + s2))"
      ]
     },
     "metadata": {},
     "output_type": "display_data"
    },
    {
     "name": "stdout",
     "output_type": "stream",
     "text": [
      "\n",
      "SUM [1, 0]\n",
      "SUM [0, 1]\n",
      "S [0]\n",
      "H [0]\n",
      "SUM [0, 1]\n",
      "S [0]\n",
      "SUM [1, 0]\n",
      "SUM [1, 0]\n",
      "S [0]\n",
      "SUM [1, 0]\n",
      "H [1]\n",
      "SUM [0, 1]\n",
      "S [0]\n",
      "SUM [0, 1]\n",
      "S [1]\n",
      "H [1]\n",
      "S [1]\n",
      "SUM [0, 1]\n",
      "\n"
     ]
    },
    {
     "data": {
      "text/latex": [
       "$\\displaystyle \\left({X^{r_{1}} Z^{s_{1}}}\\right)\\otimes \\left({X^{s_{2}} Z^{r_{2} + s_{2}}}\\right)$"
      ],
      "text/plain": [
       "(X**r1*Z**s1)x(X**s2*Z**(r2 + s2))"
      ]
     },
     "metadata": {},
     "output_type": "display_data"
    },
    {
     "name": "stdout",
     "output_type": "stream",
     "text": [
      "\n",
      "\n",
      "----------------------------------\n",
      "Option  7 :  DDDD\n",
      "SUM [1, 0]\n",
      "S [0]\n",
      "SUM [1, 0]\n",
      "H [1]\n",
      "SUM [0, 1]\n",
      "S [0]\n",
      "SUM [0, 1]\n",
      "S [1]\n",
      "H [1]\n",
      "S [1]\n",
      "SUM [0, 1]\n",
      "\n",
      "\n",
      "SUM [0, 1]\n",
      "S [0]\n",
      "S [1]\n",
      "SUM [0, 1]\n",
      "H [0]\n",
      "SUM [1, 0]\n",
      "SUM [1, 0]\n",
      "S [0]\n",
      "SUM [1, 0]\n",
      "H [1]\n",
      "SUM [0, 1]\n",
      "S [0]\n",
      "\n"
     ]
    },
    {
     "data": {
      "text/latex": [
       "$\\displaystyle \\left({X^{s_{1}} Z^{r_{1}}}\\right)\\otimes \\left({X^{s_{2}} Z^{r_{2}}}\\right)$"
      ],
      "text/plain": [
       "(X**s1*Z**r1)x(X**s2*Z**r2)"
      ]
     },
     "metadata": {},
     "output_type": "display_data"
    },
    {
     "name": "stdout",
     "output_type": "stream",
     "text": [
      "\n",
      "SUM [0, 1]\n",
      "S [1]\n",
      "H [1]\n",
      "S [1]\n",
      "SUM [0, 1]\n",
      "H [1]\n",
      "SUM [1, 0]\n",
      "S [0]\n",
      "SUM [1, 0]\n",
      "H [1]\n",
      "SUM [0, 1]\n",
      "S [0]\n",
      "\n"
     ]
    },
    {
     "data": {
      "text/latex": [
       "$\\displaystyle \\left({X^{r_{1}} Z^{s_{1}}}\\right)\\otimes \\left({X^{r_{2}} Z^{s_{2}}}\\right)$"
      ],
      "text/plain": [
       "(X**r1*Z**s1)x(X**r2*Z**s2)"
      ]
     },
     "metadata": {},
     "output_type": "display_data"
    },
    {
     "name": "stdout",
     "output_type": "stream",
     "text": [
      "\n",
      "H [1]\n",
      "S [1]\n",
      "SUM [1, 0]\n",
      "S [0]\n",
      "SUM [1, 0]\n",
      "H [1]\n",
      "SUM [0, 1]\n",
      "S [0]\n",
      "SUM [0, 1]\n",
      "S [1]\n",
      "H [1]\n",
      "S [1]\n",
      "SUM [0, 1]\n",
      "\n"
     ]
    },
    {
     "data": {
      "text/latex": [
       "$\\displaystyle \\left({X^{r_{1}} Z^{s_{1}}}\\right)\\otimes \\left({X^{r_{2} + s_{2}} Z^{s_{2}}}\\right)$"
      ],
      "text/plain": [
       "(X**r1*Z**s1)x(X**(r2 + s2)*Z**s2)"
      ]
     },
     "metadata": {},
     "output_type": "display_data"
    },
    {
     "name": "stdout",
     "output_type": "stream",
     "text": [
      "\n",
      "SUM [1, 0]\n",
      "SUM [0, 1]\n",
      "S [0]\n",
      "H [0]\n",
      "SUM [0, 1]\n",
      "S [0]\n",
      "SUM [1, 0]\n",
      "H [1]\n",
      "SUM [1, 0]\n",
      "S [0]\n",
      "SUM [1, 0]\n",
      "H [1]\n",
      "SUM [0, 1]\n",
      "S [0]\n",
      "\n"
     ]
    },
    {
     "data": {
      "text/latex": [
       "$\\displaystyle \\left({X^{r_{1}} Z^{s_{1}}}\\right)\\otimes \\left({X^{r_{2}} Z^{s_{2}}}\\right)$"
      ],
      "text/plain": [
       "(X**r1*Z**s1)x(X**r2*Z**s2)"
      ]
     },
     "metadata": {},
     "output_type": "display_data"
    },
    {
     "name": "stdout",
     "output_type": "stream",
     "text": [
      "\n",
      "S [0]\n",
      "H [1]\n",
      "S [1]\n",
      "S [0]\n",
      "SUM [1, 0]\n",
      "S [0]\n",
      "SUM [1, 0]\n",
      "H [1]\n",
      "SUM [0, 1]\n",
      "S [0]\n",
      "SUM [0, 1]\n",
      "S [1]\n",
      "H [1]\n",
      "S [1]\n",
      "SUM [0, 1]\n",
      "\n"
     ]
    },
    {
     "data": {
      "text/latex": [
       "$\\displaystyle \\left({X^{r_{1}} Z^{s_{1}}}\\right)\\otimes \\left({X^{r_{2} + s_{2}} Z^{s_{2}}}\\right)$"
      ],
      "text/plain": [
       "(X**r1*Z**s1)x(X**(r2 + s2)*Z**s2)"
      ]
     },
     "metadata": {},
     "output_type": "display_data"
    },
    {
     "name": "stdout",
     "output_type": "stream",
     "text": [
      "\n",
      "H [1]\n",
      "SUM [1, 0]\n",
      "S [1]\n",
      "SUM [1, 0]\n",
      "SUM [1, 0]\n",
      "S [0]\n",
      "SUM [1, 0]\n",
      "H [1]\n",
      "SUM [0, 1]\n",
      "S [0]\n",
      "SUM [0, 1]\n",
      "S [1]\n",
      "H [1]\n",
      "S [1]\n",
      "SUM [0, 1]\n",
      "\n"
     ]
    },
    {
     "data": {
      "text/latex": [
       "$\\displaystyle \\left({X^{r_{1}} Z^{s_{1}}}\\right)\\otimes \\left({X^{r_{2} + s_{2}} Z^{s_{2}}}\\right)$"
      ],
      "text/plain": [
       "(X**r1*Z**s1)x(X**(r2 + s2)*Z**s2)"
      ]
     },
     "metadata": {},
     "output_type": "display_data"
    },
    {
     "name": "stdout",
     "output_type": "stream",
     "text": [
      "\n",
      "SUM [0, 1]\n",
      "SUM [1, 0]\n",
      "S [0]\n",
      "SUM [1, 0]\n",
      "SUM [0, 1]\n",
      "SUM [1, 0]\n",
      "S [0]\n",
      "SUM [1, 0]\n",
      "H [1]\n",
      "SUM [0, 1]\n",
      "S [0]\n",
      "SUM [0, 1]\n",
      "S [1]\n",
      "H [1]\n",
      "S [1]\n",
      "SUM [0, 1]\n",
      "\n"
     ]
    },
    {
     "data": {
      "text/latex": [
       "$\\displaystyle \\left({X^{r_{1}} Z^{s_{1}}}\\right)\\otimes \\left({X^{r_{2} + s_{2}} Z^{r_{2}}}\\right)$"
      ],
      "text/plain": [
       "(X**r1*Z**s1)x(X**(r2 + s2)*Z**r2)"
      ]
     },
     "metadata": {},
     "output_type": "display_data"
    },
    {
     "name": "stdout",
     "output_type": "stream",
     "text": [
      "\n",
      "SUM [0, 1]\n",
      "H [1]\n",
      "S [1]\n",
      "H [1]\n",
      "SUM [0, 1]\n",
      "SUM [1, 0]\n",
      "S [0]\n",
      "SUM [1, 0]\n",
      "H [1]\n",
      "SUM [0, 1]\n",
      "S [0]\n",
      "SUM [0, 1]\n",
      "S [1]\n",
      "H [1]\n",
      "S [1]\n",
      "SUM [0, 1]\n",
      "\n"
     ]
    },
    {
     "data": {
      "text/latex": [
       "$\\displaystyle \\left({X^{r_{1}} Z^{s_{1}}}\\right)\\otimes \\left({X^{s_{2}} Z^{r_{2} + s_{2}}}\\right)$"
      ],
      "text/plain": [
       "(X**r1*Z**s1)x(X**s2*Z**(r2 + s2))"
      ]
     },
     "metadata": {},
     "output_type": "display_data"
    },
    {
     "name": "stdout",
     "output_type": "stream",
     "text": [
      "\n",
      "\n",
      "----------------------------------\n"
     ]
    }
   ],
   "source": [
    "start_paulis = [PauliSum(['x1z0 x0z0', 'x0z1 x0z0'], dimensions=[2, 2], phases=[0,0],standardise=False),\n",
    "               PauliSum(['x1z0 x1z0', 'x0z1 x1z0'], dimensions=[2, 2], phases=[0,0],standardise=False),\n",
    "               PauliSum(['x1z0 x0z1', 'x0z1 x0z1'], dimensions=[2, 2], phases=[0,0],standardise=False),\n",
    "               PauliSum(['x1z0 x1z1', 'x0z1 x1z1'], dimensions=[2, 2], phases=[0,0],standardise=False)]\n",
    "\n",
    "modes = ['SSSS','DDSS','DSDS','DSSD','SDDS','SDSD','SSDD','DDDD'] \n",
    "options = [0,1,2,3,4,5,6,7]\n",
    "gate_options = [[],[],[],[],[],[],[],[]]\n",
    "\n",
    "for mode in modes:\n",
    "    for i,ci in enumerate(list_add_id):\n",
    "        c = Circuit(dimensions=[2,2])\n",
    "        id_c = add_phase(start_paulis[0],0,1,mode)\n",
    "        for gj in ci.gates:\n",
    "            c.add_gate(gj)\n",
    "        for gj in id_c.gates:\n",
    "            c.add_gate(gj)\n",
    "        #print(c)\n",
    "        #symplectic_effect(c,phases=False)\n",
    "        '''\n",
    "        for ip,p in enumerate(start_paulis):\n",
    "            P_temp = c.act(p)\n",
    "            if ip == 0:\n",
    "                ini_s = 'I'\n",
    "            elif ip == 1:\n",
    "                ini_s = 'X'\n",
    "            elif ip == 2:\n",
    "                ini_s = 'Z'\n",
    "            elif ip == 3:\n",
    "                ini_s = 'Y'\n",
    "\n",
    "            if P_temp.x_exp[0,1] == 0:\n",
    "                if P_temp.z_exp[0,1] == 0:\n",
    "                    print(ini_s,' -> ','I')\n",
    "                else:\n",
    "                    print(ini_s,' -> ','Z')\n",
    "            elif P_temp.x_exp[0,1] == 1:\n",
    "                if P_temp.z_exp[0,1] == 0:\n",
    "                    print(ini_s,' -> ','X')\n",
    "                else:\n",
    "                    print(ini_s,' -> ','Y')\n",
    "\n",
    "            phases = P_temp.phases\n",
    "            if phases[0] == phases[1]:\n",
    "                print('Same Phase')\n",
    "            else:\n",
    "                print('Different Phase')\n",
    "        print()\n",
    "        print()\n",
    "        print()\n",
    "        '''\n",
    "\n",
    "        p_counter = 0\n",
    "        p_ss = ''\n",
    "        ini_ss = []\n",
    "        for ip,p in enumerate(start_paulis):\n",
    "            P_temp = c.act(p)\n",
    "            if ip == 0:\n",
    "                ini_s = 'I'\n",
    "            elif ip == 1:\n",
    "                ini_s = 'X'\n",
    "            elif ip == 2:\n",
    "                ini_s = 'Z'\n",
    "            elif ip == 3:\n",
    "                ini_s = 'Y'\n",
    "\n",
    "            if P_temp.x_exp[0,1] == 0:\n",
    "                if P_temp.z_exp[0,1] == 0:\n",
    "                    ini_s += '-> I'\n",
    "                    #print(ini_s,' -> ','I')\n",
    "                    pass\n",
    "                else:\n",
    "                    ini_s += '-> Z'\n",
    "                    #print(ini_s,' -> ','Z')\n",
    "                    pass\n",
    "            elif P_temp.x_exp[0,1] == 1:\n",
    "                if P_temp.z_exp[0,1] == 0:\n",
    "                    ini_s += '-> X'\n",
    "                    #print(ini_s,' -> ','X')\n",
    "                    pass\n",
    "                else:\n",
    "                    ini_s += '-> Y'\n",
    "                    #print(ini_s,' -> ','Y')\n",
    "                    pass\n",
    "            ini_ss.append(ini_s)\n",
    "            phases = P_temp.phases\n",
    "            if phases[0] == phases[1]:\n",
    "                #print('Same Phase')\n",
    "                p_ss += 'S'\n",
    "                p_counter += 1\n",
    "            else:\n",
    "                p_ss += 'D'\n",
    "                #print('Different Phase')\n",
    "                pass\n",
    "        if p_ss == 'SSSS' and 0 in options:\n",
    "            #print('Option 0: SSSS')\n",
    "            #print(c)\n",
    "            #print()\n",
    "            #options.remove(0)\n",
    "            gate_options[0].append(c)\n",
    "        elif p_ss == 'DDSS' and 1 in options:\n",
    "            #print('Option 1: DDSS')\n",
    "            #print(c)\n",
    "            #print()\n",
    "            #options.remove(1)\n",
    "            gate_options[1].append(c)\n",
    "        elif p_ss == 'DSDS' and 2 in options:\n",
    "            #print('Option 2: DSDS')\n",
    "            #print(c)\n",
    "            #print()\n",
    "            #options.remove(2)\n",
    "            gate_options[2].append(c)\n",
    "        elif p_ss == 'DSSD' and 3 in options:\n",
    "            #print('Option 3: DSSD')\n",
    "            #print(c)\n",
    "            #print()\n",
    "            #options.remove(3)\n",
    "            gate_options[3].append(c)\n",
    "        elif p_ss == 'SDDS' and 4 in options:\n",
    "            #print('Option 4: SDDS')\n",
    "            #print(c)\n",
    "            #print()\n",
    "            #options.remove(4)\n",
    "            gate_options[4].append(c)\n",
    "        elif p_ss == 'SDSD' and 5 in options:\n",
    "            #print('Option 5: SDSD')\n",
    "            #print(c)\n",
    "            #print()\n",
    "            #options.remove(5)\n",
    "            gate_options[5].append(c)\n",
    "        elif p_ss == 'SSDD' and 6 in options:\n",
    "            #print('Option 6: SSDD')\n",
    "            #print(c)\n",
    "            #print()\n",
    "            #options.remove(6)\n",
    "            gate_options[6].append(c)\n",
    "        elif p_ss == 'DDDD' and 7 in options:\n",
    "            #print('Option 7: DDDD')\n",
    "            #print(c)\n",
    "            #print()\n",
    "            #options.remove(7)\n",
    "            gate_options[7].append(c)\n",
    "\n",
    "        if p_counter == 3 or p_counter == 1:\n",
    "            #print(combo)\n",
    "            print(c)\n",
    "            symplectic_effect(c,phases=False)\n",
    "            for ini_s in ini_ss:\n",
    "                print(ini_s)\n",
    "            print()\n",
    "            print()\n",
    "            print()\n",
    "\n",
    "        if len(options) == 0:\n",
    "            break\n",
    "\n",
    "for i,l in enumerate(gate_options):\n",
    "    print('Option ',i,': ',modes[i])\n",
    "    l_sorted = sorted(l,key=lambda c: len(c.gates))\n",
    "    print(l_sorted[0])\n",
    "    print()\n",
    "    for j in l_sorted[1:]:\n",
    "        print(j)\n",
    "        symplectic_effect(j,phases=False)\n",
    "        print()\n",
    "    print()\n",
    "    print('----------------------------------')"
   ]
  },
  {
   "cell_type": "code",
   "execution_count": 8,
   "id": "211d93a7",
   "metadata": {},
   "outputs": [],
   "source": [
    "def add_phase(P,cq,qubit,phase_mode):\n",
    "    if phase_mode == 'SSSS':\n",
    "        C = Circuit(dimensions=[2 for i in range(P.n_qudits())])\n",
    "        return(C)\n",
    "    elif phase_mode == 'DDSS':\n",
    "        C = Circuit(dimensions=[2 for i in range(P.n_qudits())],gates=[CX(cq,qubit,2),S(qubit,2),H(qubit,2),S(qubit,2),CX(cq,qubit,2)])\n",
    "        return(C)\n",
    "    elif phase_mode == 'DSDS':\n",
    "        C = Circuit(dimensions=[2 for i in range(P.n_qudits())],gates=[CX(cq,qubit,2),S(qubit,2),CX(cq,qubit,2),H(qubit,2),CX(cq,qubit,2),S(cq,2)])\n",
    "        return(C)\n",
    "    elif phase_mode == 'DSSD':\n",
    "        C = Circuit(dimensions=[2 for i in range(P.n_qudits())],gates=[S(qubit,2),CX(cq,qubit,2),S(qubit,2),H(qubit,2),S(qubit,2),CX(cq,qubit,2)])\n",
    "        return(C)\n",
    "    elif phase_mode == 'SDDS':\n",
    "        C = Circuit(dimensions=[2 for i in range(P.n_qudits())],gates=[S(qubit,2),H(qubit,2),CX(qubit,cq,2),S(cq,2),CX(qubit,cq,2),H(qubit,2),CX(cq,qubit,2),S(cq,2)])\n",
    "        return(C)\n",
    "    elif phase_mode == 'SDSD':\n",
    "        C = Circuit(dimensions=[2 for i in range(P.n_qudits())],gates=[CX(qubit,cq,2),S(cq,2),CX(qubit,cq,2),H(qubit,2),CX(cq,qubit,2),S(cq,2)])\n",
    "        return(C)    \n",
    "    elif phase_mode == 'SSDD':\n",
    "        C = Circuit(dimensions=[2 for i in range(P.n_qudits())],gates=[H(qubit,2),CX(qubit,cq,2),S(cq,2),CX(qubit,cq,2),H(qubit,2),CX(cq,qubit,2),S(cq,2)])\n",
    "        return(C) \n",
    "    elif phase_mode == 'DDDD':\n",
    "        C = Circuit(dimensions=[2 for i in range(P.n_qudits())],gates=[CX(qubit,cq,2),S(cq,2),CX(qubit,cq,2),H(qubit,2),CX(cq,qubit,2),S(cq,2),CX(cq,qubit,2),S(qubit,2),H(qubit,2),S(qubit,2),CX(cq,qubit,2)])\n",
    "        return(C)     "
   ]
  },
  {
   "cell_type": "code",
   "execution_count": 10,
   "id": "4ab7a2fa",
   "metadata": {},
   "outputs": [],
   "source": [
    "### add_r2\n",
    "\n",
    "list_addr2 = []\n",
    "\n",
    "# I: S\n",
    "# X: D\n",
    "# Z: S\n",
    "# Y: D\n",
    "\n",
    "'''\n",
    "I  ->  Z\n",
    "X  ->  X\n",
    "Z  ->  I\n",
    "Y  ->  Y\n",
    "'''\n",
    "list_addr2.append(Circuit(dimensions=[2,2], gates=[CX(1,0,2),H(0,2),CX(1,0,2)])) # checked\n",
    "\n",
    "'''\n",
    "I  ->  X\n",
    "X  ->  Z\n",
    "Z  ->  I\n",
    "Y  ->  Y\n",
    "'''\n",
    "list_addr2.append(Circuit(dimensions=[2,2], gates=[CX(1,0,2),H(1,2),CX(0,1,2)])) #checked\n",
    "list_addr2.append(Circuit(dimensions=[2,2], gates=[H(0,2),CX(1,0,2),H(1,2),CX(0,1,2)])) #checked\n",
    "list_addr2.append(Circuit(dimensions=[2,2], gates=[CX(0,1,2),CX(1,0,2),H(0,2),CX(0,1,2),CX(1,0,2)])) #checked\n",
    "list_addr2.append(Circuit(dimensions=[2,2], gates=[CX(1,0,2),S(0,2),H(1,2),CX(0,1,2),S(0,2)])) # checked\n",
    "\n",
    "'''\n",
    "I  ->  Z\n",
    "X  ->  X\n",
    "Z  ->  I\n",
    "Y  ->  Y\n",
    "'''\n",
    "list_addr2.append(Circuit(dimensions=[2,2], gates=[CX(0,1,2),CX(1,0,2),H(1,2),CX(1,0,2),CX(0,1,2)])) #checked \n",
    "\n",
    "\n",
    "'''\n",
    "I  ->  X\n",
    "X  ->  Y\n",
    "Z  ->  I\n",
    "Y  ->  Z\n",
    "'''\n",
    "list_addr2.append(Circuit(dimensions=[2,2], gates=[CX(0,1,2),CX(1,0,2),S(0,2),H(0,2),CX(0,1,2),CX(1,0,2)])) # checked\n",
    "\n",
    "'''\n",
    "I  ->  Z\n",
    "X  ->  Y\n",
    "Z  ->  I\n",
    "Y  ->  X\n",
    "'''\n",
    "list_addr2.append(Circuit(dimensions=[2,2], gates=[CX(0,1,2),CX(1,0,2),S(0,2),H(1,2),CX(1,0,2),CX(0,1,2)])) # checked\n",
    "\n",
    "'''\n",
    "I  ->  Y\n",
    "X  ->  X\n",
    "Z  ->  I\n",
    "Y  ->  Z\n",
    "'''\n",
    "list_addr2.append(Circuit(dimensions=[2,2], gates=[CX(1,0,2),S(0,2),H(1,2),CX(0,1,2),S(1,2),H(1,2),S(0,2)])) # checked\n",
    "\n",
    "\n",
    "# I: S\n",
    "# X: S\n",
    "# Z: S\n",
    "# Y: S\n",
    "\n",
    "'''\n",
    "I  ->  Z\n",
    "X  ->  I\n",
    "Z  ->  Y\n",
    "Y  ->  X\n",
    "'''\n",
    "list_addr2.append(Circuit(dimensions=[2,2], gates=[S(0,2),CX(1,0,2),S(0,2)])) # checked\n",
    "\n",
    "'''\n",
    "I  ->  Y\n",
    "X  ->  X\n",
    "Z  ->  I\n",
    "Y  ->  Z\n",
    "'''\n",
    "list_addr2.append(Circuit(dimensions=[2,2], gates=[S(0,2),CX(1,0,2),S(0,2),H(1,2),S(1,2)])) # checked\n",
    "\n",
    "'''\n",
    "I  ->  Z\n",
    "X  ->  X\n",
    "Z  ->  I\n",
    "Y  ->  Y\n",
    "'''\n",
    "list_addr2.append(Circuit(dimensions=[2,2], gates=[S(0,2),CX(1,0,2),S(0,2),S(1,2)])) # checked\n",
    "\n",
    "'''\n",
    "I  ->  Z\n",
    "X  ->  Y\n",
    "Z  ->  I\n",
    "Y  ->  X\n",
    "'''\n",
    "list_addr2.append(Circuit(dimensions=[2,2], gates=[S(0,2),CX(1,0,2),S(0,2),H(0,2)])) # checked\n",
    "list_addr2.append(Circuit(dimensions=[2,2], gates=[S(0,2),CX(1,0,2),CX(0,1,2),S(0,2),CX(0,1,2)])) # checked\n",
    "\n",
    "'''\n",
    "I  ->  X\n",
    "X  ->  Y\n",
    "Z  ->  I\n",
    "Y  ->  Z\n",
    "'''\n",
    "list_addr2.append(Circuit(dimensions=[2,2], gates=[S(0,2),CX(1,0,2),S(0,2),H(1,2)])) # checked\n",
    "list_addr2.append(Circuit(dimensions=[2,2], gates=[S(0,2),CX(1,0,2),H(1,2),S(0,2)])) # checked\n",
    "list_addr2.append(Circuit(dimensions=[2,2], gates=[S(0,2),CX(1,0,2),S(0,2),H(1,2),H(0,2)])) # checked\n",
    "\n",
    "# I: D\n",
    "# X: D\n",
    "# Z: D\n",
    "# Y: D\n",
    "'''\n",
    "I  ->  Z\n",
    "X  ->  Y\n",
    "Z  ->  I\n",
    "Y  ->  X\n",
    "'''\n",
    "list_addr2.append(Circuit(dimensions=[2,2], gates=[CX(0,1,2),S(0,2),S(1,2),CX(0,1,2),CX(1,0,2)])) # checked\n",
    "list_addr2.append(Circuit(dimensions=[2,2], gates=[CX(1,0,2),CX(0,1,2),S(0,2),S(1,2),CX(0,1,2)])) # checked\n",
    "list_addr2.append(Circuit(dimensions=[2,2], gates=[CX(1,0,2),CX(0,1,2),S(1,2),CX(0,1,2),S(0,2)])) # checked\n",
    "\n",
    "'''\n",
    "I  ->  X\n",
    "X  ->  Y\n",
    "Z  ->  I\n",
    "Y  ->  Z\n",
    "'''\n",
    "list_addr2.append(Circuit(dimensions=[2,2], gates=[CX(1,0,2),CX(0,1,2),S(0,2),S(1,2),H(0,2),H(1,2),CX(1,0,2)])) # checked\n",
    "list_addr2 = sorted(list_addr2,key=lambda c: len(c.gates))\n",
    "\n",
    "\n",
    "\n",
    "\n",
    "\n"
   ]
  },
  {
   "cell_type": "code",
   "execution_count": 11,
   "id": "d67aa5dc",
   "metadata": {},
   "outputs": [
    {
     "name": "stdout",
     "output_type": "stream",
     "text": [
      "Option  0 :  SSSS\n",
      "S [0]\n",
      "SUM [1, 0]\n",
      "S [0]\n",
      "\n",
      "\n",
      "Option  1 :  DDSS\n",
      "SUM [1, 0]\n",
      "H [1]\n",
      "SUM [0, 1]\n",
      "SUM [1, 0]\n",
      "S [0]\n",
      "SUM [1, 0]\n",
      "H [1]\n",
      "SUM [0, 1]\n",
      "S [0]\n",
      "\n",
      "\n",
      "Option  2 :  DSDS\n",
      "S [0]\n",
      "SUM [1, 0]\n",
      "S [0]\n",
      "H [1]\n",
      "SUM [0, 1]\n",
      "S [1]\n",
      "H [1]\n",
      "S [1]\n",
      "SUM [0, 1]\n",
      "\n",
      "\n",
      "Option  3 :  DSSD\n",
      "SUM [0, 1]\n",
      "S [0]\n",
      "S [1]\n",
      "SUM [0, 1]\n",
      "SUM [1, 0]\n",
      "S [1]\n",
      "SUM [0, 1]\n",
      "S [1]\n",
      "H [1]\n",
      "S [1]\n",
      "SUM [0, 1]\n",
      "\n",
      "\n",
      "Option  4 :  SDDS\n",
      "S [0]\n",
      "SUM [1, 0]\n",
      "S [0]\n",
      "S [1]\n",
      "SUM [0, 1]\n",
      "S [1]\n",
      "H [1]\n",
      "S [1]\n",
      "SUM [0, 1]\n",
      "\n",
      "\n",
      "Option  5 :  SDSD\n",
      "SUM [1, 0]\n",
      "H [0]\n",
      "SUM [1, 0]\n",
      "\n",
      "\n",
      "Option  6 :  SSDD\n",
      "SUM [1, 0]\n",
      "H [0]\n",
      "SUM [1, 0]\n",
      "SUM [0, 1]\n",
      "S [1]\n",
      "H [1]\n",
      "S [1]\n",
      "SUM [0, 1]\n",
      "\n",
      "\n",
      "Option  7 :  DDDD\n",
      "SUM [0, 1]\n",
      "S [0]\n",
      "S [1]\n",
      "SUM [0, 1]\n",
      "SUM [1, 0]\n",
      "\n",
      "\n"
     ]
    }
   ],
   "source": [
    "start_paulis = [PauliSum(['x1z0 x0z0', 'x0z1 x0z0'], dimensions=[2, 2], phases=[0,0],standardise=False),\n",
    "               PauliSum(['x1z0 x1z0', 'x0z1 x1z0'], dimensions=[2, 2], phases=[0,0],standardise=False),\n",
    "               PauliSum(['x1z0 x0z1', 'x0z1 x0z1'], dimensions=[2, 2], phases=[0,0],standardise=False),\n",
    "               PauliSum(['x1z0 x1z1', 'x0z1 x1z1'], dimensions=[2, 2], phases=[0,0],standardise=False)]\n",
    "\n",
    "modes = ['SSSS','DDSS','DSDS','DSSD','SDDS','SDSD','SSDD','DDDD'] \n",
    "options = [0,1,2,3,4,5,6,7]\n",
    "gate_options = [[],[],[],[],[],[],[],[]]\n",
    "\n",
    "for mode in modes:\n",
    "    for i,ci in enumerate(list_addr2):\n",
    "        c = Circuit(dimensions=[2,2])\n",
    "        id_c = add_phase(start_paulis[0],0,1,mode)\n",
    "        for gj in ci.gates:\n",
    "            c.add_gate(gj)\n",
    "        for gj in id_c.gates:\n",
    "            c.add_gate(gj)\n",
    "        #print(c)\n",
    "        #symplectic_effect(c,phases=False)\n",
    "        '''\n",
    "        for ip,p in enumerate(start_paulis):\n",
    "            P_temp = c.act(p)\n",
    "            if ip == 0:\n",
    "                ini_s = 'I'\n",
    "            elif ip == 1:\n",
    "                ini_s = 'X'\n",
    "            elif ip == 2:\n",
    "                ini_s = 'Z'\n",
    "            elif ip == 3:\n",
    "                ini_s = 'Y'\n",
    "\n",
    "            if P_temp.x_exp[0,1] == 0:\n",
    "                if P_temp.z_exp[0,1] == 0:\n",
    "                    print(ini_s,' -> ','I')\n",
    "                else:\n",
    "                    print(ini_s,' -> ','Z')\n",
    "            elif P_temp.x_exp[0,1] == 1:\n",
    "                if P_temp.z_exp[0,1] == 0:\n",
    "                    print(ini_s,' -> ','X')\n",
    "                else:\n",
    "                    print(ini_s,' -> ','Y')\n",
    "\n",
    "            phases = P_temp.phases\n",
    "            if phases[0] == phases[1]:\n",
    "                print('Same Phase')\n",
    "            else:\n",
    "                print('Different Phase')\n",
    "        print()\n",
    "        print()\n",
    "        print()\n",
    "        '''\n",
    "\n",
    "        p_counter = 0\n",
    "        p_ss = ''\n",
    "        ini_ss = []\n",
    "        for ip,p in enumerate(start_paulis):\n",
    "            P_temp = c.act(p)\n",
    "            if ip == 0:\n",
    "                ini_s = 'I'\n",
    "            elif ip == 1:\n",
    "                ini_s = 'X'\n",
    "            elif ip == 2:\n",
    "                ini_s = 'Z'\n",
    "            elif ip == 3:\n",
    "                ini_s = 'Y'\n",
    "\n",
    "            if P_temp.x_exp[0,1] == 0:\n",
    "                if P_temp.z_exp[0,1] == 0:\n",
    "                    ini_s += '-> I'\n",
    "                    #print(ini_s,' -> ','I')\n",
    "                    pass\n",
    "                else:\n",
    "                    ini_s += '-> Z'\n",
    "                    #print(ini_s,' -> ','Z')\n",
    "                    pass\n",
    "            elif P_temp.x_exp[0,1] == 1:\n",
    "                if P_temp.z_exp[0,1] == 0:\n",
    "                    ini_s += '-> X'\n",
    "                    #print(ini_s,' -> ','X')\n",
    "                    pass\n",
    "                else:\n",
    "                    ini_s += '-> Y'\n",
    "                    #print(ini_s,' -> ','Y')\n",
    "                    pass\n",
    "            ini_ss.append(ini_s)\n",
    "            phases = P_temp.phases\n",
    "            if phases[0] == phases[1]:\n",
    "                #print('Same Phase')\n",
    "                p_ss += 'S'\n",
    "                p_counter += 1\n",
    "            else:\n",
    "                p_ss += 'D'\n",
    "                #print('Different Phase')\n",
    "                pass\n",
    "        if p_ss == 'SSSS' and 0 in options:\n",
    "            #print('Option 0: SSSS')\n",
    "            #print(c)\n",
    "            #print()\n",
    "            #options.remove(0)\n",
    "            gate_options[0].append(c)\n",
    "        elif p_ss == 'DDSS' and 1 in options:\n",
    "            #print('Option 1: DDSS')\n",
    "            #print(c)\n",
    "            #print()\n",
    "            #options.remove(1)\n",
    "            gate_options[1].append(c)\n",
    "        elif p_ss == 'DSDS' and 2 in options:\n",
    "            #print('Option 2: DSDS')\n",
    "            #print(c)\n",
    "            #print()\n",
    "            #options.remove(2)\n",
    "            gate_options[2].append(c)\n",
    "        elif p_ss == 'DSSD' and 3 in options:\n",
    "            #print('Option 3: DSSD')\n",
    "            #print(c)\n",
    "            #print()\n",
    "            #options.remove(3)\n",
    "            gate_options[3].append(c)\n",
    "        elif p_ss == 'SDDS' and 4 in options:\n",
    "            #print('Option 4: SDDS')\n",
    "            #print(c)\n",
    "            #print()\n",
    "            #options.remove(4)\n",
    "            gate_options[4].append(c)\n",
    "        elif p_ss == 'SDSD' and 5 in options:\n",
    "            #print('Option 5: SDSD')\n",
    "            #print(c)\n",
    "            #print()\n",
    "            #options.remove(5)\n",
    "            gate_options[5].append(c)\n",
    "        elif p_ss == 'SSDD' and 6 in options:\n",
    "            #print('Option 6: SSDD')\n",
    "            #print(c)\n",
    "            #print()\n",
    "            #options.remove(6)\n",
    "            gate_options[6].append(c)\n",
    "        elif p_ss == 'DDDD' and 7 in options:\n",
    "            #print('Option 7: DDDD')\n",
    "            #print(c)\n",
    "            #print()\n",
    "            #options.remove(7)\n",
    "            gate_options[7].append(c)\n",
    "\n",
    "        if p_counter == 3 or p_counter == 1:\n",
    "            #print(combo)\n",
    "            print(c)\n",
    "            symplectic_effect(c,phases=False)\n",
    "            for ini_s in ini_ss:\n",
    "                print(ini_s)\n",
    "            print()\n",
    "            print()\n",
    "            print()\n",
    "\n",
    "        if len(options) == 0:\n",
    "            break\n",
    "\n",
    "for i,l in enumerate(gate_options):\n",
    "    print('Option ',i,': ',modes[i])\n",
    "    l_sorted = sorted(l,key=lambda c: len(c.gates))\n",
    "    print(l_sorted[0])\n",
    "    print()"
   ]
  },
  {
   "cell_type": "code",
   "execution_count": null,
   "id": "68812532",
   "metadata": {},
   "outputs": [
    {
     "name": "stdout",
     "output_type": "stream",
     "text": [
      "S [0]\n",
      "SUM [1, 0]\n",
      "S [0]\n",
      "\n"
     ]
    },
    {
     "data": {
      "text/latex": [
       "$\\displaystyle \\left({X^{r_{1} + r_{2}} Z^{r_{2} + s_{1}}}\\right)\\otimes \\left({X^{r_{2}} Z^{r_{1} + s_{1} + s_{2}}}\\right)$"
      ],
      "text/plain": [
       "(X**(r1 + r2)*Z**(r2 + s1))x(X**r2*Z**(r1 + s1 + s2))"
      ]
     },
     "metadata": {},
     "output_type": "display_data"
    },
    {
     "name": "stdout",
     "output_type": "stream",
     "text": [
      "I  ->  Z\n",
      "Same Phase\n",
      "X  ->  Y\n",
      "Same Phase\n",
      "Z  ->  I\n",
      "Same Phase\n",
      "Y  ->  X\n",
      "Same Phase\n",
      "\n",
      "\n",
      "\n",
      "SUM [1, 0]\n",
      "H [1]\n",
      "SUM [0, 1]\n",
      "SUM [1, 0]\n",
      "S [0]\n",
      "SUM [1, 0]\n",
      "H [1]\n",
      "SUM [0, 1]\n",
      "S [0]\n",
      "\n"
     ]
    },
    {
     "data": {
      "text/latex": [
       "$\\displaystyle \\left({X^{r_{1} + r_{2}} Z^{r_{2} + s_{1}}}\\right)\\otimes \\left({X^{r_{1} + s_{1} + s_{2}} Z^{r_{1} + r_{2} + s_{1} + s_{2}}}\\right)$"
      ],
      "text/plain": [
       "(X**(r1 + r2)*Z**(r2 + s1))x(X**(r1 + s1 + s2)*Z**(r1 + r2 + s1 + s2))"
      ]
     },
     "metadata": {},
     "output_type": "display_data"
    },
    {
     "name": "stdout",
     "output_type": "stream",
     "text": [
      "I  ->  Y\n",
      "Different Phase\n",
      "X  ->  X\n",
      "Different Phase\n",
      "Z  ->  I\n",
      "Same Phase\n",
      "Y  ->  Z\n",
      "Same Phase\n",
      "\n",
      "\n",
      "\n",
      "S [0]\n",
      "SUM [1, 0]\n",
      "S [0]\n",
      "H [1]\n",
      "SUM [0, 1]\n",
      "S [1]\n",
      "H [1]\n",
      "S [1]\n",
      "SUM [0, 1]\n",
      "\n"
     ]
    },
    {
     "data": {
      "text/latex": [
       "$\\displaystyle \\left({X^{r_{1} + r_{2}} Z^{r_{2} + s_{1}}}\\right)\\otimes \\left({X^{r_{1} + r_{2} + s_{1} + s_{2}} Z^{r_{2}}}\\right)$"
      ],
      "text/plain": [
       "(X**(r1 + r2)*Z**(r2 + s1))x(X**(r1 + r2 + s1 + s2)*Z**r2)"
      ]
     },
     "metadata": {},
     "output_type": "display_data"
    },
    {
     "name": "stdout",
     "output_type": "stream",
     "text": [
      "I  ->  X\n",
      "Different Phase\n",
      "X  ->  Z\n",
      "Same Phase\n",
      "Z  ->  I\n",
      "Different Phase\n",
      "Y  ->  Y\n",
      "Same Phase\n",
      "\n",
      "\n",
      "\n",
      "SUM [0, 1]\n",
      "S [0]\n",
      "S [1]\n",
      "SUM [0, 1]\n",
      "SUM [1, 0]\n",
      "S [1]\n",
      "SUM [0, 1]\n",
      "S [1]\n",
      "H [1]\n",
      "S [1]\n",
      "SUM [0, 1]\n",
      "\n"
     ]
    },
    {
     "data": {
      "text/latex": [
       "$\\displaystyle \\left({X^{r_{1} + r_{2}} Z^{r_{2} + s_{1}}}\\right)\\otimes \\left({X^{r_{1} + s_{1} + s_{2}} Z^{r_{1} + r_{2} + s_{1} + s_{2}}}\\right)$"
      ],
      "text/plain": [
       "(X**(r1 + r2)*Z**(r2 + s1))x(X**(r1 + s1 + s2)*Z**(r1 + r2 + s1 + s2))"
      ]
     },
     "metadata": {},
     "output_type": "display_data"
    },
    {
     "name": "stdout",
     "output_type": "stream",
     "text": [
      "I  ->  Y\n",
      "Different Phase\n",
      "X  ->  X\n",
      "Same Phase\n",
      "Z  ->  I\n",
      "Same Phase\n",
      "Y  ->  Z\n",
      "Different Phase\n",
      "\n",
      "\n",
      "\n",
      "S [0]\n",
      "SUM [1, 0]\n",
      "S [0]\n",
      "S [1]\n",
      "SUM [0, 1]\n",
      "S [1]\n",
      "H [1]\n",
      "S [1]\n",
      "SUM [0, 1]\n",
      "\n"
     ]
    },
    {
     "data": {
      "text/latex": [
       "$\\displaystyle \\left({X^{r_{1} + r_{2}} Z^{r_{2} + s_{1}}}\\right)\\otimes \\left({X^{r_{1} + s_{1} + s_{2}} Z^{r_{1} + r_{2} + s_{1} + s_{2}}}\\right)$"
      ],
      "text/plain": [
       "(X**(r1 + r2)*Z**(r2 + s1))x(X**(r1 + s1 + s2)*Z**(r1 + r2 + s1 + s2))"
      ]
     },
     "metadata": {},
     "output_type": "display_data"
    },
    {
     "name": "stdout",
     "output_type": "stream",
     "text": [
      "I  ->  Y\n",
      "Same Phase\n",
      "X  ->  X\n",
      "Different Phase\n",
      "Z  ->  I\n",
      "Different Phase\n",
      "Y  ->  Z\n",
      "Same Phase\n",
      "\n",
      "\n",
      "\n",
      "SUM [1, 0]\n",
      "H [0]\n",
      "SUM [1, 0]\n",
      "\n"
     ]
    },
    {
     "data": {
      "text/latex": [
       "$\\displaystyle \\left({X^{r_{2} + s_{1}} Z^{r_{1} + r_{2}}}\\right)\\otimes \\left({X^{r_{2}} Z^{r_{1} + r_{2} + s_{1} + s_{2}}}\\right)$"
      ],
      "text/plain": [
       "(X**(r2 + s1)*Z**(r1 + r2))x(X**r2*Z**(r1 + r2 + s1 + s2))"
      ]
     },
     "metadata": {},
     "output_type": "display_data"
    },
    {
     "name": "stdout",
     "output_type": "stream",
     "text": [
      "I  ->  Z\n",
      "Same Phase\n",
      "X  ->  X\n",
      "Different Phase\n",
      "Z  ->  I\n",
      "Same Phase\n",
      "Y  ->  Y\n",
      "Different Phase\n",
      "\n",
      "\n",
      "\n",
      "SUM [1, 0]\n",
      "H [0]\n",
      "SUM [1, 0]\n",
      "SUM [0, 1]\n",
      "S [1]\n",
      "H [1]\n",
      "S [1]\n",
      "SUM [0, 1]\n",
      "\n"
     ]
    },
    {
     "data": {
      "text/latex": [
       "$\\displaystyle \\left({X^{r_{2} + s_{1}} Z^{r_{1} + r_{2}}}\\right)\\otimes \\left({X^{r_{1} + s_{1} + s_{2}} Z^{r_{1} + r_{2} + s_{1} + s_{2}}}\\right)$"
      ],
      "text/plain": [
       "(X**(r2 + s1)*Z**(r1 + r2))x(X**(r1 + s1 + s2)*Z**(r1 + r2 + s1 + s2))"
      ]
     },
     "metadata": {},
     "output_type": "display_data"
    },
    {
     "name": "stdout",
     "output_type": "stream",
     "text": [
      "I  ->  Y\n",
      "Same Phase\n",
      "X  ->  X\n",
      "Same Phase\n",
      "Z  ->  I\n",
      "Different Phase\n",
      "Y  ->  Z\n",
      "Different Phase\n",
      "\n",
      "\n",
      "\n",
      "SUM [0, 1]\n",
      "S [0]\n",
      "S [1]\n",
      "SUM [0, 1]\n",
      "SUM [1, 0]\n",
      "\n"
     ]
    },
    {
     "data": {
      "text/latex": [
       "$\\displaystyle \\left({X^{r_{1} + r_{2}} Z^{r_{2} + s_{1}}}\\right)\\otimes \\left({X^{r_{2}} Z^{r_{1} + s_{1} + s_{2}}}\\right)$"
      ],
      "text/plain": [
       "(X**(r1 + r2)*Z**(r2 + s1))x(X**r2*Z**(r1 + s1 + s2))"
      ]
     },
     "metadata": {},
     "output_type": "display_data"
    },
    {
     "name": "stdout",
     "output_type": "stream",
     "text": [
      "I  ->  Z\n",
      "Different Phase\n",
      "X  ->  Y\n",
      "Different Phase\n",
      "Z  ->  I\n",
      "Different Phase\n",
      "Y  ->  X\n",
      "Different Phase\n",
      "\n",
      "\n",
      "\n"
     ]
    }
   ],
   "source": [
    "def add_r2(P,q0,q1,phase_mode):\n",
    "    if phase_mode == 'SSSS':\n",
    "        C = Circuit(dimensions=[2 for i in range(P.n_qudits())], \n",
    "                    gates=[S(q0,2),CX(q1,q0,2),S(q0,2)])\n",
    "        return(C)\n",
    "    elif phase_mode == 'DDSS':\n",
    "        C = Circuit(dimensions=[2 for i in range(P.n_qudits())],\n",
    "                    gates=[CX(q1,q0,2),H(q1,2),CX(q0,q1,2),CX(q1,q0,2),S(q0,2),CX(q1,q0,2),H(q1,2),CX(q0,q1,2),S(q0,2)])\n",
    "        return(C)\n",
    "    elif phase_mode == 'DSDS':\n",
    "        C = Circuit(dimensions=[2 for i in range(P.n_qudits())],\n",
    "                    gates=[S(q0,2),CX(q1,q0,2),S(q0,2),H(q1,2),CX(q0,q1,2),S(q1,2),H(q1,2),S(q1,2),CX(q0,q1,2)])\n",
    "        return(C)\n",
    "    elif phase_mode == 'DSSD':\n",
    "        C = Circuit(dimensions=[2 for i in range(P.n_qudits())],\n",
    "                    gates=[CX(q0,q1,2),S(q0,2),S(q1,2),CX(q0,q1,2),CX(q1,q0,2),S(q1,2),CX(q0,q1,2),S(q1,2),H(q1,2),S(q1,2),CX(q0,q1,2)])\n",
    "        return(C)\n",
    "    elif phase_mode == 'SDDS':\n",
    "        C = Circuit(dimensions=[2 for i in range(P.n_qudits())],\n",
    "                    gates=[S(q0,2),CX(q1,q0,2),S(q0,2),S(q1,2),CX(q0,q1,2),S(q1,2),H(q1,2),S(q1,2),CX(q0,q1,2)])\n",
    "        return(C)\n",
    "    elif phase_mode == 'SDSD':\n",
    "        C = Circuit(dimensions=[2 for i in range(P.n_qudits())],\n",
    "                    gates=[CX(q1,q0,2),H(q0,2),CX(q1,q0,2)])\n",
    "        return(C)    \n",
    "    elif phase_mode == 'SSDD':\n",
    "        C = Circuit(dimensions=[2 for i in range(P.n_qudits())],\n",
    "                    gates=[CX(q1,q0,2),H(q0,2),CX(q1,q0,2),CX(q0,q1,2),S(q1,2),H(q1,2),S(q1,2),CX(q0,q1,2)])\n",
    "        return(C) \n",
    "    elif phase_mode == 'DDDD':\n",
    "        C = Circuit(dimensions=[2 for i in range(P.n_qudits())],\n",
    "                    gates=[CX(q0,q1,2),S(q0,2),S(q1,2),CX(q0,q1,2),CX(q1,q0,2)])\n",
    "        return(C)   \n",
    "\n",
    "for i,mode in enumerate(modes):\n",
    "    c = add_r2(start_paulis[0],0,1,mode)\n",
    "    print(c)\n",
    "    symplectic_effect(c,phases=False)\n",
    "    for ip,p in enumerate(start_paulis):\n",
    "        P_temp = c.act(p)\n",
    "        if ip == 0:\n",
    "            ini_s = 'I'\n",
    "        elif ip == 1:\n",
    "            ini_s = 'X'\n",
    "        elif ip == 2:\n",
    "            ini_s = 'Z'\n",
    "        elif ip == 3:\n",
    "            ini_s = 'Y'\n",
    "\n",
    "        if P_temp.x_exp[0,1] == 0:\n",
    "            if P_temp.z_exp[0,1] == 0:\n",
    "                print(ini_s,' -> ','I')\n",
    "            else:\n",
    "                print(ini_s,' -> ','Z')\n",
    "        elif P_temp.x_exp[0,1] == 1:\n",
    "            if P_temp.z_exp[0,1] == 0:\n",
    "                print(ini_s,' -> ','X')\n",
    "            else:\n",
    "                print(ini_s,' -> ','Y')\n",
    "\n",
    "        phases = P_temp.phases\n",
    "        if phases[0] == phases[1]:\n",
    "            print('Same Phase')\n",
    "        else:\n",
    "            print('Different Phase')\n",
    "    print()\n",
    "    print()\n",
    "    print() "
   ]
  },
  {
   "cell_type": "code",
   "execution_count": 8,
   "id": "0f3551e6",
   "metadata": {},
   "outputs": [],
   "source": [
    "### add_s2\n",
    "\n",
    "list_adds2 = []\n",
    "\n",
    "# I: S\n",
    "# X: S\n",
    "# Z: D\n",
    "# Y: D\n",
    "\n",
    "'''\n",
    "I  ->  X\n",
    "X  ->  I\n",
    "Z  ->  Z\n",
    "Y  ->  Y\n",
    "'''\n",
    "list_adds2.append(Circuit(dimensions=[2,2], gates=[CX(0,1,2),H(0,2),CX(0,1,2)])) # checked\n",
    "list_adds2.append(Circuit(dimensions=[2,2], gates=[H(0,2),CX(0,1,2),H(0,2),CX(0,1,2)])) # checked\n",
    "list_adds2.append(Circuit(dimensions=[2,2], gates=[CX(0,1,2),H(0,2),S(0,2),CX(0,1,2),S(0,2)])) # checked\n",
    "\n",
    "'''\n",
    "I  ->  Z\n",
    "X  ->  I\n",
    "Z  ->  X\n",
    "Y  ->  Y\n",
    "'''\n",
    "list_adds2.append(Circuit(dimensions=[2,2], gates=[CX(0,1,2),H(1,2),CX(1,0,2)])) # checked\n",
    "list_adds2.append(Circuit(dimensions=[2,2], gates=[H(0,2),CX(0,1,2),H(1,2),CX(1,0,2)])) # checked\n",
    "list_adds2.append(Circuit(dimensions=[2,2], gates=[CX(1,0,2),CX(0,1,2),H(0,2),CX(1,0,2),CX(0,1,2)])) # checked\n",
    "list_adds2.append(Circuit(dimensions=[2,2], gates=[CX(0,1,2),H(0,2),S(0,2),CX(0,1,2),H(1,2),S(0,2)])) # checked\n",
    "\n",
    "'''\n",
    "I  ->  Z\n",
    "X  ->  I\n",
    "Z  ->  Y\n",
    "Y  ->  X\n",
    "'''\n",
    "list_adds2.append(Circuit(dimensions=[2,2], gates=[CX(0,1,2),H(1,2),S(1,2),CX(1,0,2)])) # checked\n",
    "list_adds2.append(Circuit(dimensions=[2,2], gates=[H(0,2),CX(0,1,2),H(1,2),S(1,2),CX(1,0,2)])) # checked\n",
    "\n",
    "\n",
    "'''\n",
    "I  ->  X\n",
    "X  ->  I\n",
    "Z  ->  Y\n",
    "Y  ->  Z\n",
    "'''\n",
    "\n",
    "list_adds2.append(Circuit(dimensions=[2,2], gates=[CX(0,1,2),H(0,2),H(1,2),S(1,2),H(1,2),CX(0,1,2)])) # checked\n",
    "list_adds2.append(Circuit(dimensions=[2,2], gates=[H(1,2),CX(1,0,2),S(1,2),H(1,2),CX(0,1,2)])) # checked\n",
    "\n",
    "\n",
    "# I: D\n",
    "# X: D\n",
    "# Z: S\n",
    "# Y: S\n",
    "\n",
    "'''\n",
    "I  ->  Z\n",
    "X  ->  I\n",
    "Z  ->  X\n",
    "Y  ->  Y\n",
    "'''\n",
    "list_adds2.append(Circuit(dimensions=[2,2], gates=[CX(0,1,2),CX(1,0,2),H(0,2),CX(0,1,2),H(1,2),CX(0,1,2)])) # checked\n",
    "\n",
    "# I: S\n",
    "# X: D\n",
    "# Z: S\n",
    "# Y: D\n",
    "\n",
    "'''\n",
    "I  ->  Y\n",
    "X  ->  I\n",
    "Z  ->  Z\n",
    "Y  ->  X\n",
    "'''\n",
    "list_adds2.append(Circuit(dimensions=[2,2], gates=[CX(1,0,2),S(0,2),H(1,2),CX(0,1,2),CX(1,0,2),S(0,2)]))\n",
    "list_adds2 = sorted(list_adds2,key=lambda c: len(c.gates))\n"
   ]
  },
  {
   "cell_type": "code",
   "execution_count": 9,
   "id": "2b7b6a5a",
   "metadata": {},
   "outputs": [
    {
     "name": "stdout",
     "output_type": "stream",
     "text": [
      "Option  0 :  SSSS\n",
      "SUM [0, 1]\n",
      "H [1]\n",
      "SUM [1, 0]\n",
      "SUM [1, 0]\n",
      "S [0]\n",
      "SUM [1, 0]\n",
      "H [1]\n",
      "SUM [0, 1]\n",
      "S [0]\n",
      "\n",
      "\n",
      "Option  1 :  DDSS\n",
      "SUM [0, 1]\n",
      "SUM [1, 0]\n",
      "H [0]\n",
      "SUM [0, 1]\n",
      "H [1]\n",
      "SUM [0, 1]\n",
      "\n",
      "\n",
      "Option  2 :  DSDS\n",
      "SUM [0, 1]\n",
      "H [0]\n",
      "SUM [0, 1]\n",
      "SUM [1, 0]\n",
      "S [0]\n",
      "SUM [1, 0]\n",
      "H [1]\n",
      "SUM [0, 1]\n",
      "S [0]\n",
      "\n",
      "\n",
      "Option  3 :  DSSD\n",
      "SUM [0, 1]\n",
      "H [0]\n",
      "SUM [0, 1]\n",
      "S [1]\n",
      "H [1]\n",
      "SUM [1, 0]\n",
      "S [0]\n",
      "SUM [1, 0]\n",
      "H [1]\n",
      "SUM [0, 1]\n",
      "S [0]\n",
      "\n",
      "\n",
      "Option  4 :  SDDS\n",
      "SUM [0, 1]\n",
      "H [1]\n",
      "S [1]\n",
      "SUM [1, 0]\n",
      "SUM [0, 1]\n",
      "S [1]\n",
      "H [1]\n",
      "S [1]\n",
      "SUM [0, 1]\n",
      "\n",
      "\n",
      "Option  5 :  SDSD\n",
      "SUM [1, 0]\n",
      "S [0]\n",
      "H [1]\n",
      "SUM [0, 1]\n",
      "SUM [1, 0]\n",
      "S [0]\n",
      "\n",
      "\n",
      "Option  6 :  SSDD\n",
      "SUM [0, 1]\n",
      "H [0]\n",
      "SUM [0, 1]\n",
      "\n",
      "\n",
      "Option  7 :  DDDD\n",
      "SUM [0, 1]\n",
      "H [0]\n",
      "SUM [0, 1]\n",
      "SUM [0, 1]\n",
      "S [1]\n",
      "H [1]\n",
      "S [1]\n",
      "SUM [0, 1]\n",
      "\n",
      "\n"
     ]
    }
   ],
   "source": [
    "start_paulis = [PauliSum(['x1z0 x0z0', 'x0z1 x0z0'], dimensions=[2, 2], phases=[0,0],standardise=False),\n",
    "               PauliSum(['x1z0 x1z0', 'x0z1 x1z0'], dimensions=[2, 2], phases=[0,0],standardise=False),\n",
    "               PauliSum(['x1z0 x0z1', 'x0z1 x0z1'], dimensions=[2, 2], phases=[0,0],standardise=False),\n",
    "               PauliSum(['x1z0 x1z1', 'x0z1 x1z1'], dimensions=[2, 2], phases=[0,0],standardise=False)]\n",
    "\n",
    "modes = ['SSSS','DDSS','DSDS','DSSD','SDDS','SDSD','SSDD','DDDD'] \n",
    "options = [0,1,2,3,4,5,6,7]\n",
    "gate_options = [[],[],[],[],[],[],[],[]]\n",
    "\n",
    "for mode in modes:\n",
    "    for i,ci in enumerate(list_adds2):\n",
    "        c = Circuit(dimensions=[2,2])\n",
    "        id_c = add_phase(start_paulis[0],0,1,mode)\n",
    "        for gj in ci.gates:\n",
    "            c.add_gate(gj)\n",
    "        for gj in id_c.gates:\n",
    "            c.add_gate(gj)\n",
    "        #print(c)\n",
    "        #symplectic_effect(c,phases=False)\n",
    "        '''\n",
    "        for ip,p in enumerate(start_paulis):\n",
    "            P_temp = c.act(p)\n",
    "            if ip == 0:\n",
    "                ini_s = 'I'\n",
    "            elif ip == 1:\n",
    "                ini_s = 'X'\n",
    "            elif ip == 2:\n",
    "                ini_s = 'Z'\n",
    "            elif ip == 3:\n",
    "                ini_s = 'Y'\n",
    "\n",
    "            if P_temp.x_exp[0,1] == 0:\n",
    "                if P_temp.z_exp[0,1] == 0:\n",
    "                    print(ini_s,' -> ','I')\n",
    "                else:\n",
    "                    print(ini_s,' -> ','Z')\n",
    "            elif P_temp.x_exp[0,1] == 1:\n",
    "                if P_temp.z_exp[0,1] == 0:\n",
    "                    print(ini_s,' -> ','X')\n",
    "                else:\n",
    "                    print(ini_s,' -> ','Y')\n",
    "\n",
    "            phases = P_temp.phases\n",
    "            if phases[0] == phases[1]:\n",
    "                print('Same Phase')\n",
    "            else:\n",
    "                print('Different Phase')\n",
    "        print()\n",
    "        print()\n",
    "        print()\n",
    "        '''\n",
    "\n",
    "        p_counter = 0\n",
    "        p_ss = ''\n",
    "        ini_ss = []\n",
    "        for ip,p in enumerate(start_paulis):\n",
    "            P_temp = c.act(p)\n",
    "            if ip == 0:\n",
    "                ini_s = 'I'\n",
    "            elif ip == 1:\n",
    "                ini_s = 'X'\n",
    "            elif ip == 2:\n",
    "                ini_s = 'Z'\n",
    "            elif ip == 3:\n",
    "                ini_s = 'Y'\n",
    "\n",
    "            if P_temp.x_exp[0,1] == 0:\n",
    "                if P_temp.z_exp[0,1] == 0:\n",
    "                    ini_s += '-> I'\n",
    "                    #print(ini_s,' -> ','I')\n",
    "                    pass\n",
    "                else:\n",
    "                    ini_s += '-> Z'\n",
    "                    #print(ini_s,' -> ','Z')\n",
    "                    pass\n",
    "            elif P_temp.x_exp[0,1] == 1:\n",
    "                if P_temp.z_exp[0,1] == 0:\n",
    "                    ini_s += '-> X'\n",
    "                    #print(ini_s,' -> ','X')\n",
    "                    pass\n",
    "                else:\n",
    "                    ini_s += '-> Y'\n",
    "                    #print(ini_s,' -> ','Y')\n",
    "                    pass\n",
    "            ini_ss.append(ini_s)\n",
    "            phases = P_temp.phases\n",
    "            if phases[0] == phases[1]:\n",
    "                #print('Same Phase')\n",
    "                p_ss += 'S'\n",
    "                p_counter += 1\n",
    "            else:\n",
    "                p_ss += 'D'\n",
    "                #print('Different Phase')\n",
    "                pass\n",
    "        if p_ss == 'SSSS' and 0 in options:\n",
    "            #print('Option 0: SSSS')\n",
    "            #print(c)\n",
    "            #print()\n",
    "            #options.remove(0)\n",
    "            gate_options[0].append(c)\n",
    "        elif p_ss == 'DDSS' and 1 in options:\n",
    "            #print('Option 1: DDSS')\n",
    "            #print(c)\n",
    "            #print()\n",
    "            #options.remove(1)\n",
    "            gate_options[1].append(c)\n",
    "        elif p_ss == 'DSDS' and 2 in options:\n",
    "            #print('Option 2: DSDS')\n",
    "            #print(c)\n",
    "            #print()\n",
    "            #options.remove(2)\n",
    "            gate_options[2].append(c)\n",
    "        elif p_ss == 'DSSD' and 3 in options:\n",
    "            #print('Option 3: DSSD')\n",
    "            #print(c)\n",
    "            #print()\n",
    "            #options.remove(3)\n",
    "            gate_options[3].append(c)\n",
    "        elif p_ss == 'SDDS' and 4 in options:\n",
    "            #print('Option 4: SDDS')\n",
    "            #print(c)\n",
    "            #print()\n",
    "            #options.remove(4)\n",
    "            gate_options[4].append(c)\n",
    "        elif p_ss == 'SDSD' and 5 in options:\n",
    "            #print('Option 5: SDSD')\n",
    "            #print(c)\n",
    "            #print()\n",
    "            #options.remove(5)\n",
    "            gate_options[5].append(c)\n",
    "        elif p_ss == 'SSDD' and 6 in options:\n",
    "            #print('Option 6: SSDD')\n",
    "            #print(c)\n",
    "            #print()\n",
    "            #options.remove(6)\n",
    "            gate_options[6].append(c)\n",
    "        elif p_ss == 'DDDD' and 7 in options:\n",
    "            #print('Option 7: DDDD')\n",
    "            #print(c)\n",
    "            #print()\n",
    "            #options.remove(7)\n",
    "            gate_options[7].append(c)\n",
    "\n",
    "        if p_counter == 3 or p_counter == 1:\n",
    "            #print(combo)\n",
    "            print(c)\n",
    "            symplectic_effect(c,phases=False)\n",
    "            for ini_s in ini_ss:\n",
    "                print(ini_s)\n",
    "            print()\n",
    "            print()\n",
    "            print()\n",
    "\n",
    "        if len(options) == 0:\n",
    "            break\n",
    "\n",
    "for i,l in enumerate(gate_options):\n",
    "    print('Option ',i,': ',modes[i])\n",
    "    l_sorted = sorted(l,key=lambda c: len(c.gates))\n",
    "    print(l_sorted[0])\n",
    "    print()"
   ]
  },
  {
   "cell_type": "code",
   "execution_count": 10,
   "id": "2ae24c6b",
   "metadata": {},
   "outputs": [
    {
     "name": "stdout",
     "output_type": "stream",
     "text": [
      "SUM [0, 1]\n",
      "H [1]\n",
      "S [0]\n",
      "SUM [1, 0]\n",
      "H [1]\n",
      "SUM [0, 1]\n",
      "S [0]\n",
      "\n"
     ]
    },
    {
     "data": {
      "text/latex": [
       "$\\displaystyle \\left({X^{r_{1} + s_{2}} Z^{s_{1} + s_{2}}}\\right)\\otimes \\left({X^{r_{1} + r_{2} + s_{1}} Z^{s_{2}}}\\right)$"
      ],
      "text/plain": [
       "(X**(r1 + s2)*Z**(s1 + s2))x(X**(r1 + r2 + s1)*Z**s2)"
      ]
     },
     "metadata": {},
     "output_type": "display_data"
    },
    {
     "name": "stdout",
     "output_type": "stream",
     "text": [
      "I  ->  X\n",
      "Same Phase\n",
      "X  ->  I\n",
      "Same Phase\n",
      "Z  ->  Y\n",
      "Same Phase\n",
      "Y  ->  Z\n",
      "Same Phase\n",
      "\n",
      "\n",
      "\n",
      "SUM [0, 1]\n",
      "SUM [1, 0]\n",
      "H [0]\n",
      "SUM [0, 1]\n",
      "H [1]\n",
      "SUM [0, 1]\n",
      "\n"
     ]
    },
    {
     "data": {
      "text/latex": [
       "$\\displaystyle \\left({X^{s_{1} + s_{2}} Z^{r_{1} + s_{2}}}\\right)\\otimes \\left({X^{s_{2}} Z^{r_{1} + r_{2} + s_{1} + s_{2}}}\\right)$"
      ],
      "text/plain": [
       "(X**(s1 + s2)*Z**(r1 + s2))x(X**s2*Z**(r1 + r2 + s1 + s2))"
      ]
     },
     "metadata": {},
     "output_type": "display_data"
    },
    {
     "name": "stdout",
     "output_type": "stream",
     "text": [
      "I  ->  Z\n",
      "Different Phase\n",
      "X  ->  I\n",
      "Different Phase\n",
      "Z  ->  X\n",
      "Same Phase\n",
      "Y  ->  Y\n",
      "Same Phase\n",
      "\n",
      "\n",
      "\n",
      "SUM [0, 1]\n",
      "H [0]\n",
      "SUM [0, 1]\n",
      "SUM [1, 0]\n",
      "S [0]\n",
      "SUM [1, 0]\n",
      "H [1]\n",
      "SUM [0, 1]\n",
      "S [0]\n",
      "\n"
     ]
    },
    {
     "data": {
      "text/latex": [
       "$\\displaystyle \\left({X^{s_{1} + s_{2}} Z^{r_{1} + s_{2}}}\\right)\\otimes \\left({X^{r_{1} + r_{2} + s_{1}} Z^{r_{1} + r_{2} + s_{1} + s_{2}}}\\right)$"
      ],
      "text/plain": [
       "(X**(s1 + s2)*Z**(r1 + s2))x(X**(r1 + r2 + s1)*Z**(r1 + r2 + s1 + s2))"
      ]
     },
     "metadata": {},
     "output_type": "display_data"
    },
    {
     "name": "stdout",
     "output_type": "stream",
     "text": [
      "I  ->  Y\n",
      "Different Phase\n",
      "X  ->  I\n",
      "Same Phase\n",
      "Z  ->  X\n",
      "Different Phase\n",
      "Y  ->  Z\n",
      "Same Phase\n",
      "\n",
      "\n",
      "\n",
      "SUM [0, 1]\n",
      "H [0]\n",
      "SUM [0, 1]\n",
      "S [1]\n",
      "H [1]\n",
      "SUM [1, 0]\n",
      "S [0]\n",
      "SUM [1, 0]\n",
      "H [1]\n",
      "SUM [0, 1]\n",
      "S [0]\n",
      "\n"
     ]
    },
    {
     "data": {
      "text/latex": [
       "$\\displaystyle \\left({X^{s_{1} + s_{2}} Z^{r_{1} + s_{2}}}\\right)\\otimes \\left({X^{s_{2}} Z^{r_{1} + r_{2} + s_{1}}}\\right)$"
      ],
      "text/plain": [
       "(X**(s1 + s2)*Z**(r1 + s2))x(X**s2*Z**(r1 + r2 + s1))"
      ]
     },
     "metadata": {},
     "output_type": "display_data"
    },
    {
     "name": "stdout",
     "output_type": "stream",
     "text": [
      "I  ->  Z\n",
      "Different Phase\n",
      "X  ->  I\n",
      "Same Phase\n",
      "Z  ->  Y\n",
      "Same Phase\n",
      "Y  ->  X\n",
      "Different Phase\n",
      "\n",
      "\n",
      "\n",
      "SUM [0, 1]\n",
      "H [1]\n",
      "S [1]\n",
      "SUM [1, 0]\n",
      "SUM [0, 1]\n",
      "S [1]\n",
      "H [1]\n",
      "S [1]\n",
      "SUM [0, 1]\n",
      "\n"
     ]
    },
    {
     "data": {
      "text/latex": [
       "$\\displaystyle \\left({X^{r_{1} + s_{2}} Z^{s_{1} + s_{2}}}\\right)\\otimes \\left({X^{r_{1} + r_{2} + s_{1} + s_{2}} Z^{r_{1} + r_{2} + s_{1}}}\\right)$"
      ],
      "text/plain": [
       "(X**(r1 + s2)*Z**(s1 + s2))x(X**(r1 + r2 + s1 + s2)*Z**(r1 + r2 + s1))"
      ]
     },
     "metadata": {},
     "output_type": "display_data"
    },
    {
     "name": "stdout",
     "output_type": "stream",
     "text": [
      "I  ->  Y\n",
      "Same Phase\n",
      "X  ->  I\n",
      "Different Phase\n",
      "Z  ->  Z\n",
      "Different Phase\n",
      "Y  ->  X\n",
      "Same Phase\n",
      "\n",
      "\n",
      "\n",
      "SUM [1, 0]\n",
      "S [0]\n",
      "H [1]\n",
      "SUM [0, 1]\n",
      "SUM [1, 0]\n",
      "S [0]\n",
      "\n"
     ]
    },
    {
     "data": {
      "text/latex": [
       "$\\displaystyle \\left({X^{s_{1} + s_{2}} Z^{r_{1} + s_{2}}}\\right)\\otimes \\left({X^{r_{1} + r_{2} + s_{1} + s_{2}} Z^{r_{1} + r_{2} + s_{1}}}\\right)$"
      ],
      "text/plain": [
       "(X**(s1 + s2)*Z**(r1 + s2))x(X**(r1 + r2 + s1 + s2)*Z**(r1 + r2 + s1))"
      ]
     },
     "metadata": {},
     "output_type": "display_data"
    },
    {
     "name": "stdout",
     "output_type": "stream",
     "text": [
      "I  ->  Y\n",
      "Same Phase\n",
      "X  ->  I\n",
      "Different Phase\n",
      "Z  ->  Z\n",
      "Same Phase\n",
      "Y  ->  X\n",
      "Different Phase\n",
      "\n",
      "\n",
      "\n",
      "SUM [0, 1]\n",
      "H [0]\n",
      "SUM [0, 1]\n",
      "\n"
     ]
    },
    {
     "data": {
      "text/latex": [
       "$\\displaystyle \\left({X^{s_{1} + s_{2}} Z^{r_{1} + s_{2}}}\\right)\\otimes \\left({X^{r_{1} + r_{2} + s_{1} + s_{2}} Z^{s_{2}}}\\right)$"
      ],
      "text/plain": [
       "(X**(s1 + s2)*Z**(r1 + s2))x(X**(r1 + r2 + s1 + s2)*Z**s2)"
      ]
     },
     "metadata": {},
     "output_type": "display_data"
    },
    {
     "name": "stdout",
     "output_type": "stream",
     "text": [
      "I  ->  X\n",
      "Same Phase\n",
      "X  ->  I\n",
      "Same Phase\n",
      "Z  ->  Z\n",
      "Different Phase\n",
      "Y  ->  Y\n",
      "Different Phase\n",
      "\n",
      "\n",
      "\n",
      "SUM [0, 1]\n",
      "H [0]\n",
      "S [1]\n",
      "H [1]\n",
      "S [1]\n",
      "SUM [0, 1]\n",
      "\n"
     ]
    },
    {
     "data": {
      "text/latex": [
       "$\\displaystyle \\left({X^{s_{1} + s_{2}} Z^{r_{1} + s_{2}}}\\right)\\otimes \\left({X^{r_{1} + r_{2} + s_{1}} Z^{s_{2}}}\\right)$"
      ],
      "text/plain": [
       "(X**(s1 + s2)*Z**(r1 + s2))x(X**(r1 + r2 + s1)*Z**s2)"
      ]
     },
     "metadata": {},
     "output_type": "display_data"
    },
    {
     "name": "stdout",
     "output_type": "stream",
     "text": [
      "I  ->  X\n",
      "Different Phase\n",
      "X  ->  I\n",
      "Different Phase\n",
      "Z  ->  Y\n",
      "Different Phase\n",
      "Y  ->  Z\n",
      "Different Phase\n",
      "\n",
      "\n",
      "\n"
     ]
    }
   ],
   "source": [
    "def add_s2(P,q0,q1,phase_mode):\n",
    "    if phase_mode == 'SSSS':\n",
    "        C = Circuit(dimensions=[2 for i in range(P.n_qudits())], \n",
    "                    gates=[CX(q0,q1,2),H(q1,2),S(q0,2),CX(q1,q0,2),H(q1,2),CX(q0,q1,2),S(q0,2)])\n",
    "        return(C)\n",
    "    elif phase_mode == 'DDSS':\n",
    "        C = Circuit(dimensions=[2 for i in range(P.n_qudits())],\n",
    "                    gates=[CX(q0,q1,2),CX(q1,q0,2),H(q0,2),CX(q0,q1,2),H(q1,2),CX(q0,q1,2)])\n",
    "        return(C)\n",
    "    elif phase_mode == 'DSDS':\n",
    "        C = Circuit(dimensions=[2 for i in range(P.n_qudits())],\n",
    "                    gates=[CX(q0,q1,2),H(q0,2),CX(q0,q1,2),CX(q1,q0,2),S(q0,2),CX(q1,q0,2),H(q1,2),CX(q0,q1,2),S(q0,2)])\n",
    "        return(C)\n",
    "    elif phase_mode == 'DSSD':\n",
    "        C = Circuit(dimensions=[2 for i in range(P.n_qudits())],\n",
    "                    gates=[CX(q0,q1,2),H(q0,2),CX(q0,q1,2),S(q1,2),H(q1,2),CX(q1,q0,2),S(q0,2),CX(q1,q0,2),H(q1,2),CX(q0,q1,2),S(q0,2)])\n",
    "        return(C)\n",
    "    elif phase_mode == 'SDDS':\n",
    "        C = Circuit(dimensions=[2 for i in range(P.n_qudits())],\n",
    "                    gates=[CX(q0,q1,2),H(q1,2),S(q1,2),CX(q1,q0,2),CX(q0,q1,2),S(q1,2),H(q1,2),S(q1,2),CX(q0,q1,2)])\n",
    "        return(C)\n",
    "    elif phase_mode == 'SDSD':\n",
    "        C = Circuit(dimensions=[2 for i in range(P.n_qudits())],\n",
    "                    gates=[CX(q1,q0,2),S(q0,2),H(q1,2),CX(q0,q1,2),CX(q1,q0,2),S(q0,2)])\n",
    "        return(C)    \n",
    "    elif phase_mode == 'SSDD':\n",
    "        C = Circuit(dimensions=[2 for i in range(P.n_qudits())],\n",
    "                    gates=[CX(q0,q1,2),H(q0,2),CX(q0,q1,2)])\n",
    "        return(C) \n",
    "    elif phase_mode == 'DDDD':\n",
    "        C = Circuit(dimensions=[2 for i in range(P.n_qudits())],\n",
    "                    gates=[CX(q0,q1,2),H(q0,2),S(q1,2),H(q1,2),S(q1,2),CX(q0,q1,2)])\n",
    "        return(C)  \n",
    "    \n",
    "\n",
    "for i,mode in enumerate(modes):\n",
    "    c = add_s2(start_paulis[0],0,1,mode)\n",
    "    print(c)\n",
    "    symplectic_effect(c,phases=False)\n",
    "    for ip,p in enumerate(start_paulis):\n",
    "        P_temp = c.act(p)\n",
    "        if ip == 0:\n",
    "            ini_s = 'I'\n",
    "        elif ip == 1:\n",
    "            ini_s = 'X'\n",
    "        elif ip == 2:\n",
    "            ini_s = 'Z'\n",
    "        elif ip == 3:\n",
    "            ini_s = 'Y'\n",
    "\n",
    "        if P_temp.x_exp[0,1] == 0:\n",
    "            if P_temp.z_exp[0,1] == 0:\n",
    "                print(ini_s,' -> ','I')\n",
    "            else:\n",
    "                print(ini_s,' -> ','Z')\n",
    "        elif P_temp.x_exp[0,1] == 1:\n",
    "            if P_temp.z_exp[0,1] == 0:\n",
    "                print(ini_s,' -> ','X')\n",
    "            else:\n",
    "                print(ini_s,' -> ','Y')\n",
    "\n",
    "        phases = P_temp.phases\n",
    "        if phases[0] == phases[1]:\n",
    "            print('Same Phase')\n",
    "        else:\n",
    "            print('Different Phase')\n",
    "    print()\n",
    "    print()\n",
    "    print()"
   ]
  },
  {
   "cell_type": "code",
   "execution_count": 10,
   "id": "f9f9e818",
   "metadata": {},
   "outputs": [],
   "source": [
    "# add_r2s2\n",
    "\n",
    "list_addr2s2 = []\n",
    "\n",
    "# I: S\n",
    "# X: S\n",
    "# Z: S\n",
    "# Y: S\n",
    "\n",
    "'''\n",
    "I  ->  Y\n",
    "X  ->  X\n",
    "Z  ->  Z\n",
    "Y  ->  I\n",
    "'''\n",
    "list_addr2s2.append(Circuit(dimensions=[2,2], gates=[S(0,2),CX(1,0,2),H(1,2),CX(1,0,2),S(0,2)]))\n",
    "list_addr2s2.append(Circuit(dimensions=[2,2], gates=[S(0,2),CX(1,0,2),H(1,2),CX(1,0,2),S(0,2),H(0,2)]))\n",
    "\n",
    "'''\n",
    "I  ->  Y\n",
    "X  ->  Z\n",
    "Z  ->  X\n",
    "Y  ->  I\n",
    "'''\n",
    "list_addr2s2.append(Circuit(dimensions=[2,2], gates=[S(0,2),CX(1,0,2),H(1,2),CX(1,0,2),S(0,2),H(1,2)]))\n",
    "\n",
    "'''\n",
    "I  ->  X\n",
    "X  ->  Y\n",
    "Z  ->  Z\n",
    "Y  ->  I\n",
    "'''\n",
    "list_addr2s2.append(Circuit(dimensions=[2,2], gates=[S(0,2),CX(1,0,2),H(1,2),CX(1,0,2),S(0,2),S(1,2)]))\n",
    "\n",
    "'''\n",
    "I  ->  Z\n",
    "X  ->  Y\n",
    "Z  ->  X\n",
    "Y  ->  I\n",
    "'''\n",
    "list_addr2s2.append(Circuit(dimensions=[2,2], gates=[S(0,2),H(1,2),S(1,2),H(1,2),CX(1,0,2),S(0,2)]))\n",
    "\n",
    "\n",
    "# I: S\n",
    "# X: D\n",
    "# Z: D\n",
    "# Y: S\n",
    "\n",
    "'''\n",
    "I  ->  X\n",
    "X  ->  Y\n",
    "Z  ->  Z\n",
    "Y  ->  I\n",
    "'''\n",
    "list_addr2s2.append(Circuit(dimensions=[2,2], gates=[CX(0,1,2),CX(1,0,2),S(0,2),CX(1,0,2),H(0,2),CX(0,1,2)]))\n",
    "\n",
    "'''\n",
    "I  ->  Z\n",
    "X  ->  Y\n",
    "Z  ->  X\n",
    "Y  ->  I\n",
    "'''\n",
    "list_addr2s2.append(Circuit(dimensions=[2,2], gates=[CX(0,1,2),CX(1,0,2),S(0,2),CX(1,0,2),H(1,2),CX(1,0,2)]))\n",
    "\n",
    "# I: S\n",
    "# X: S\n",
    "# Z: D\n",
    "# Y: D\n",
    "\n",
    "'''\n",
    "I  ->  X\n",
    "X  ->  Y\n",
    "Z  ->  Z\n",
    "Y  ->  I\n",
    "'''\n",
    "list_addr2s2.append(Circuit(dimensions=[2,2], gates=[CX(0,1,2),S(0,2),S(1,2),H(0,2),CX(1,0,2),CX(0,1,2)]))\n",
    "list_addr2s2.append(Circuit(dimensions=[2,2], gates=[CX(1,0,2),CX(0,1,2),S(0,2),S(1,2),H(1,2),CX(1,0,2)]))\n",
    "\n",
    "\n",
    "'''\n",
    "I  ->  Z\n",
    "X  ->  Y\n",
    "Z  ->  X\n",
    "Y  ->  I\n",
    "'''\n",
    "list_addr2s2.append(Circuit(dimensions=[2,2], gates=[CX(1,0,2),CX(0,1,2),S(0,2),S(1,2),H(0,2),CX(0,1,2)]))\n",
    "\n",
    "\n",
    "\n",
    "# I: D\n",
    "# X: D\n",
    "# Z: S\n",
    "# Y: S\n",
    "'''\n",
    "I  ->  Z\n",
    "X  ->  Y\n",
    "Z  ->  X\n",
    "Y  ->  I\n",
    "'''\n",
    "list_addr2s2.append(Circuit(dimensions=[2,2], gates=[S(0,2),CX(1,0,2),CX(0,1,2),S(0,2),H(0,2),CX(0,1,2)]))\n",
    "\n",
    "'''\n",
    "I  ->  X\n",
    "X  ->  Y\n",
    "Z  ->  Z\n",
    "Y  ->  I\n",
    "'''\n",
    "list_addr2s2.append(Circuit(dimensions=[2,2], gates=[S(0,2),CX(1,0,2),CX(0,1,2),S(0,2),H(1,2),CX(1,0,2)]))\n",
    "\n",
    "# I: S\n",
    "# X: D\n",
    "# Z: S\n",
    "# Y: D\n",
    "\n",
    "'''\n",
    "I  ->  Z\n",
    "X  ->  X\n",
    "Z  ->  Y\n",
    "Y  ->  I\n",
    "'''\n",
    "list_addr2s2.append(Circuit(dimensions=[2,2], gates=[CX(1,0,2),CX(0,1,2),S(0,2),CX(1,0,2),H(0,2),CX(0,1,2),S(0,2)]))\n",
    "\n",
    "\n",
    "# I: D\n",
    "# X: D\n",
    "# Z: D\n",
    "# Y: D\n",
    "\n",
    "'''\n",
    "I  ->  Z\n",
    "X  ->  X\n",
    "Z  ->  Y\n",
    "Y  ->  I\n",
    "'''\n",
    "list_addr2s2.append(Circuit(dimensions=[2,2], gates=[CX(0,1,2),CX(1,0,2),S(0,2),H(0,2),H(1,2),S(1,2),CX(0,1,2),S(0,2)]))\n",
    "list_addr2s2 = sorted(list_addr2s2,key=lambda c: len(c.gates))"
   ]
  },
  {
   "cell_type": "code",
   "execution_count": 11,
   "id": "6da0f218",
   "metadata": {},
   "outputs": [
    {
     "name": "stdout",
     "output_type": "stream",
     "text": [
      "Option  0 :  SSSS\n",
      "S [0]\n",
      "SUM [1, 0]\n",
      "H [1]\n",
      "SUM [1, 0]\n",
      "S [0]\n",
      "\n",
      "\n",
      "S [0]\n",
      "SUM [1, 0]\n",
      "H [1]\n",
      "SUM [1, 0]\n",
      "S [0]\n",
      "H [0]\n",
      "\n"
     ]
    },
    {
     "data": {
      "text/latex": [
       "$\\displaystyle \\left({X^{r_{1} + r_{2} + s_{2}} Z^{r_{2} + s_{1} + s_{2}}}\\right)\\otimes \\left({X^{r_{1} + s_{1} + s_{2}} Z^{r_{1} + r_{2} + s_{1}}}\\right)$"
      ],
      "text/plain": [
       "(X**(r1 + r2 + s2)*Z**(r2 + s1 + s2))x(X**(r1 + s1 + s2)*Z**(r1 + r2 + s1))"
      ]
     },
     "metadata": {},
     "output_type": "display_data"
    },
    {
     "name": "stdout",
     "output_type": "stream",
     "text": [
      "\n",
      "S [0]\n",
      "SUM [1, 0]\n",
      "H [1]\n",
      "SUM [1, 0]\n",
      "S [0]\n",
      "H [1]\n",
      "\n"
     ]
    },
    {
     "data": {
      "text/latex": [
       "$\\displaystyle \\left({X^{r_{2} + s_{1} + s_{2}} Z^{r_{1} + r_{2} + s_{2}}}\\right)\\otimes \\left({X^{r_{1} + r_{2} + s_{1}} Z^{r_{1} + s_{1} + s_{2}}}\\right)$"
      ],
      "text/plain": [
       "(X**(r2 + s1 + s2)*Z**(r1 + r2 + s2))x(X**(r1 + r2 + s1)*Z**(r1 + s1 + s2))"
      ]
     },
     "metadata": {},
     "output_type": "display_data"
    },
    {
     "name": "stdout",
     "output_type": "stream",
     "text": [
      "\n",
      "S [0]\n",
      "SUM [1, 0]\n",
      "H [1]\n",
      "SUM [1, 0]\n",
      "S [0]\n",
      "S [1]\n",
      "\n"
     ]
    },
    {
     "data": {
      "text/latex": [
       "$\\displaystyle \\left({X^{r_{2} + s_{1} + s_{2}} Z^{r_{1} + r_{2} + s_{2}}}\\right)\\otimes \\left({X^{r_{1} + s_{1} + s_{2}} Z^{r_{2} + s_{2}}}\\right)$"
      ],
      "text/plain": [
       "(X**(r2 + s1 + s2)*Z**(r1 + r2 + s2))x(X**(r1 + s1 + s2)*Z**(r2 + s2))"
      ]
     },
     "metadata": {},
     "output_type": "display_data"
    },
    {
     "name": "stdout",
     "output_type": "stream",
     "text": [
      "\n",
      "S [0]\n",
      "H [1]\n",
      "S [1]\n",
      "H [1]\n",
      "SUM [1, 0]\n",
      "S [0]\n",
      "\n"
     ]
    },
    {
     "data": {
      "text/latex": [
       "$\\displaystyle \\left({X^{r_{1} + r_{2} + s_{2}} Z^{r_{2} + s_{1} + s_{2}}}\\right)\\otimes \\left({X^{r_{2} + s_{2}} Z^{r_{1} + s_{1} + s_{2}}}\\right)$"
      ],
      "text/plain": [
       "(X**(r1 + r2 + s2)*Z**(r2 + s1 + s2))x(X**(r2 + s2)*Z**(r1 + s1 + s2))"
      ]
     },
     "metadata": {},
     "output_type": "display_data"
    },
    {
     "name": "stdout",
     "output_type": "stream",
     "text": [
      "\n",
      "SUM [1, 0]\n",
      "SUM [0, 1]\n",
      "S [0]\n",
      "S [1]\n",
      "H [0]\n",
      "SUM [0, 1]\n",
      "SUM [0, 1]\n",
      "S [1]\n",
      "H [1]\n",
      "S [1]\n",
      "SUM [0, 1]\n",
      "\n"
     ]
    },
    {
     "data": {
      "text/latex": [
       "$\\displaystyle \\left({X^{r_{1} + r_{2} + s_{2}} Z^{r_{2} + s_{1} + s_{2}}}\\right)\\otimes \\left({X^{r_{1} + r_{2} + s_{1}} Z^{r_{1} + s_{1} + s_{2}}}\\right)$"
      ],
      "text/plain": [
       "(X**(r1 + r2 + s2)*Z**(r2 + s1 + s2))x(X**(r1 + r2 + s1)*Z**(r1 + s1 + s2))"
      ]
     },
     "metadata": {},
     "output_type": "display_data"
    },
    {
     "name": "stdout",
     "output_type": "stream",
     "text": [
      "\n",
      "SUM [1, 0]\n",
      "SUM [0, 1]\n",
      "S [0]\n",
      "SUM [1, 0]\n",
      "H [0]\n",
      "SUM [0, 1]\n",
      "S [0]\n",
      "SUM [0, 1]\n",
      "S [1]\n",
      "H [1]\n",
      "S [1]\n",
      "SUM [0, 1]\n",
      "\n"
     ]
    },
    {
     "data": {
      "text/latex": [
       "$\\displaystyle \\left({X^{r_{1} + r_{2} + s_{2}} Z^{r_{2} + s_{1} + s_{2}}}\\right)\\otimes \\left({X^{r_{1} + s_{1} + s_{2}} Z^{r_{1} + r_{2} + s_{1}}}\\right)$"
      ],
      "text/plain": [
       "(X**(r1 + r2 + s2)*Z**(r2 + s1 + s2))x(X**(r1 + s1 + s2)*Z**(r1 + r2 + s1))"
      ]
     },
     "metadata": {},
     "output_type": "display_data"
    },
    {
     "name": "stdout",
     "output_type": "stream",
     "text": [
      "\n",
      "SUM [0, 1]\n",
      "S [0]\n",
      "S [1]\n",
      "H [0]\n",
      "SUM [1, 0]\n",
      "SUM [0, 1]\n",
      "SUM [0, 1]\n",
      "S [1]\n",
      "SUM [0, 1]\n",
      "H [1]\n",
      "SUM [0, 1]\n",
      "S [0]\n",
      "\n"
     ]
    },
    {
     "data": {
      "text/latex": [
       "$\\displaystyle \\left({X^{r_{2} + s_{1} + s_{2}} Z^{r_{1} + r_{2} + s_{2}}}\\right)\\otimes \\left({X^{r_{1} + r_{2} + s_{1}} Z^{r_{1} + s_{1} + s_{2}}}\\right)$"
      ],
      "text/plain": [
       "(X**(r2 + s1 + s2)*Z**(r1 + r2 + s2))x(X**(r1 + r2 + s1)*Z**(r1 + s1 + s2))"
      ]
     },
     "metadata": {},
     "output_type": "display_data"
    },
    {
     "name": "stdout",
     "output_type": "stream",
     "text": [
      "\n",
      "SUM [1, 0]\n",
      "SUM [0, 1]\n",
      "S [0]\n",
      "S [1]\n",
      "H [1]\n",
      "SUM [1, 0]\n",
      "SUM [0, 1]\n",
      "S [1]\n",
      "SUM [0, 1]\n",
      "H [1]\n",
      "SUM [0, 1]\n",
      "S [0]\n",
      "\n"
     ]
    },
    {
     "data": {
      "text/latex": [
       "$\\displaystyle \\left({X^{r_{2} + s_{1} + s_{2}} Z^{r_{1} + r_{2} + s_{2}}}\\right)\\otimes \\left({X^{r_{1} + r_{2} + s_{1}} Z^{r_{1} + s_{1} + s_{2}}}\\right)$"
      ],
      "text/plain": [
       "(X**(r2 + s1 + s2)*Z**(r1 + r2 + s2))x(X**(r1 + r2 + s1)*Z**(r1 + s1 + s2))"
      ]
     },
     "metadata": {},
     "output_type": "display_data"
    },
    {
     "name": "stdout",
     "output_type": "stream",
     "text": [
      "\n",
      "SUM [0, 1]\n",
      "SUM [1, 0]\n",
      "S [0]\n",
      "SUM [1, 0]\n",
      "H [1]\n",
      "SUM [1, 0]\n",
      "SUM [1, 0]\n",
      "S [0]\n",
      "SUM [1, 0]\n",
      "H [1]\n",
      "SUM [0, 1]\n",
      "S [0]\n",
      "\n"
     ]
    },
    {
     "data": {
      "text/latex": [
       "$\\displaystyle \\left({X^{r_{1} + r_{2} + s_{2}} Z^{r_{2} + s_{1} + s_{2}}}\\right)\\otimes \\left({X^{r_{1} + r_{2} + s_{1}} Z^{r_{2} + s_{2}}}\\right)$"
      ],
      "text/plain": [
       "(X**(r1 + r2 + s2)*Z**(r2 + s1 + s2))x(X**(r1 + r2 + s1)*Z**(r2 + s2))"
      ]
     },
     "metadata": {},
     "output_type": "display_data"
    },
    {
     "name": "stdout",
     "output_type": "stream",
     "text": [
      "\n",
      "S [0]\n",
      "SUM [1, 0]\n",
      "SUM [0, 1]\n",
      "S [0]\n",
      "H [1]\n",
      "SUM [1, 0]\n",
      "SUM [1, 0]\n",
      "S [0]\n",
      "SUM [1, 0]\n",
      "H [1]\n",
      "SUM [0, 1]\n",
      "S [0]\n",
      "\n"
     ]
    },
    {
     "data": {
      "text/latex": [
       "$\\displaystyle \\left({X^{r_{2} + s_{1} + s_{2}} Z^{r_{1} + r_{2} + s_{2}}}\\right)\\otimes \\left({X^{r_{1} + r_{2} + s_{1}} Z^{r_{1} + s_{1} + s_{2}}}\\right)$"
      ],
      "text/plain": [
       "(X**(r2 + s1 + s2)*Z**(r1 + r2 + s2))x(X**(r1 + r2 + s1)*Z**(r1 + s1 + s2))"
      ]
     },
     "metadata": {},
     "output_type": "display_data"
    },
    {
     "name": "stdout",
     "output_type": "stream",
     "text": [
      "\n",
      "SUM [0, 1]\n",
      "SUM [1, 0]\n",
      "S [0]\n",
      "SUM [1, 0]\n",
      "H [0]\n",
      "SUM [0, 1]\n",
      "H [1]\n",
      "SUM [1, 0]\n",
      "S [0]\n",
      "SUM [1, 0]\n",
      "H [1]\n",
      "SUM [0, 1]\n",
      "S [0]\n",
      "\n"
     ]
    },
    {
     "data": {
      "text/latex": [
       "$\\displaystyle \\left({X^{r_{2} + s_{1} + s_{2}} Z^{r_{1} + r_{2} + s_{2}}}\\right)\\otimes \\left({X^{r_{1} + r_{2} + s_{1}} Z^{r_{2} + s_{2}}}\\right)$"
      ],
      "text/plain": [
       "(X**(r2 + s1 + s2)*Z**(r1 + r2 + s2))x(X**(r1 + r2 + s1)*Z**(r2 + s2))"
      ]
     },
     "metadata": {},
     "output_type": "display_data"
    },
    {
     "name": "stdout",
     "output_type": "stream",
     "text": [
      "\n",
      "S [0]\n",
      "SUM [1, 0]\n",
      "SUM [0, 1]\n",
      "S [0]\n",
      "H [0]\n",
      "SUM [0, 1]\n",
      "H [1]\n",
      "SUM [1, 0]\n",
      "S [0]\n",
      "SUM [1, 0]\n",
      "H [1]\n",
      "SUM [0, 1]\n",
      "S [0]\n",
      "\n"
     ]
    },
    {
     "data": {
      "text/latex": [
       "$\\displaystyle \\left({X^{r_{1} + r_{2} + s_{2}} Z^{r_{2} + s_{1} + s_{2}}}\\right)\\otimes \\left({X^{r_{1} + r_{2} + s_{1}} Z^{r_{1} + s_{1} + s_{2}}}\\right)$"
      ],
      "text/plain": [
       "(X**(r1 + r2 + s2)*Z**(r2 + s1 + s2))x(X**(r1 + r2 + s1)*Z**(r1 + s1 + s2))"
      ]
     },
     "metadata": {},
     "output_type": "display_data"
    },
    {
     "name": "stdout",
     "output_type": "stream",
     "text": [
      "\n",
      "SUM [0, 1]\n",
      "SUM [1, 0]\n",
      "S [0]\n",
      "H [0]\n",
      "H [1]\n",
      "S [1]\n",
      "SUM [0, 1]\n",
      "S [0]\n",
      "SUM [1, 0]\n",
      "S [0]\n",
      "SUM [1, 0]\n",
      "H [1]\n",
      "SUM [0, 1]\n",
      "S [0]\n",
      "SUM [0, 1]\n",
      "S [1]\n",
      "H [1]\n",
      "S [1]\n",
      "SUM [0, 1]\n",
      "\n"
     ]
    },
    {
     "data": {
      "text/latex": [
       "$\\displaystyle \\left({X^{r_{2} + s_{1} + s_{2}} Z^{r_{1} + r_{2} + s_{2}}}\\right)\\otimes \\left({X^{r_{1} + r_{2} + s_{1}} Z^{r_{2} + s_{2}}}\\right)$"
      ],
      "text/plain": [
       "(X**(r2 + s1 + s2)*Z**(r1 + r2 + s2))x(X**(r1 + r2 + s1)*Z**(r2 + s2))"
      ]
     },
     "metadata": {},
     "output_type": "display_data"
    },
    {
     "name": "stdout",
     "output_type": "stream",
     "text": [
      "\n",
      "\n",
      "----------------------------------\n",
      "Option  1 :  DDSS\n",
      "S [0]\n",
      "SUM [1, 0]\n",
      "SUM [0, 1]\n",
      "S [0]\n",
      "H [0]\n",
      "SUM [0, 1]\n",
      "\n",
      "\n",
      "S [0]\n",
      "SUM [1, 0]\n",
      "SUM [0, 1]\n",
      "S [0]\n",
      "H [1]\n",
      "SUM [1, 0]\n",
      "\n"
     ]
    },
    {
     "data": {
      "text/latex": [
       "$\\displaystyle \\left({X^{r_{2} + s_{1} + s_{2}} Z^{r_{1} + r_{2} + s_{2}}}\\right)\\otimes \\left({X^{r_{1} + s_{1} + s_{2}} Z^{r_{2} + s_{2}}}\\right)$"
      ],
      "text/plain": [
       "(X**(r2 + s1 + s2)*Z**(r1 + r2 + s2))x(X**(r1 + s1 + s2)*Z**(r2 + s2))"
      ]
     },
     "metadata": {},
     "output_type": "display_data"
    },
    {
     "name": "stdout",
     "output_type": "stream",
     "text": [
      "\n",
      "S [0]\n",
      "SUM [1, 0]\n",
      "H [1]\n",
      "SUM [1, 0]\n",
      "S [0]\n",
      "SUM [1, 0]\n",
      "S [0]\n",
      "SUM [1, 0]\n",
      "H [1]\n",
      "SUM [0, 1]\n",
      "S [0]\n",
      "\n"
     ]
    },
    {
     "data": {
      "text/latex": [
       "$\\displaystyle \\left({X^{r_{2} + s_{1} + s_{2}} Z^{r_{1} + r_{2} + s_{2}}}\\right)\\otimes \\left({X^{r_{2} + s_{2}} Z^{r_{1} + s_{1} + s_{2}}}\\right)$"
      ],
      "text/plain": [
       "(X**(r2 + s1 + s2)*Z**(r1 + r2 + s2))x(X**(r2 + s2)*Z**(r1 + s1 + s2))"
      ]
     },
     "metadata": {},
     "output_type": "display_data"
    },
    {
     "name": "stdout",
     "output_type": "stream",
     "text": [
      "\n",
      "S [0]\n",
      "SUM [1, 0]\n",
      "H [1]\n",
      "SUM [1, 0]\n",
      "S [0]\n",
      "H [0]\n",
      "SUM [1, 0]\n",
      "S [0]\n",
      "SUM [1, 0]\n",
      "H [1]\n",
      "SUM [0, 1]\n",
      "S [0]\n",
      "\n"
     ]
    },
    {
     "data": {
      "text/latex": [
       "$\\displaystyle \\left({X^{r_{1} + r_{2} + s_{2}} Z^{r_{2} + s_{1} + s_{2}}}\\right)\\otimes \\left({X^{r_{2} + s_{2}} Z^{r_{1} + s_{1} + s_{2}}}\\right)$"
      ],
      "text/plain": [
       "(X**(r1 + r2 + s2)*Z**(r2 + s1 + s2))x(X**(r2 + s2)*Z**(r1 + s1 + s2))"
      ]
     },
     "metadata": {},
     "output_type": "display_data"
    },
    {
     "name": "stdout",
     "output_type": "stream",
     "text": [
      "\n",
      "S [0]\n",
      "SUM [1, 0]\n",
      "H [1]\n",
      "SUM [1, 0]\n",
      "S [0]\n",
      "S [1]\n",
      "SUM [1, 0]\n",
      "S [0]\n",
      "SUM [1, 0]\n",
      "H [1]\n",
      "SUM [0, 1]\n",
      "S [0]\n",
      "\n"
     ]
    },
    {
     "data": {
      "text/latex": [
       "$\\displaystyle \\left({X^{r_{2} + s_{1} + s_{2}} Z^{r_{1} + r_{2} + s_{2}}}\\right)\\otimes \\left({X^{r_{1} + r_{2} + s_{1}} Z^{r_{1} + s_{1} + s_{2}}}\\right)$"
      ],
      "text/plain": [
       "(X**(r2 + s1 + s2)*Z**(r1 + r2 + s2))x(X**(r1 + r2 + s1)*Z**(r1 + s1 + s2))"
      ]
     },
     "metadata": {},
     "output_type": "display_data"
    },
    {
     "name": "stdout",
     "output_type": "stream",
     "text": [
      "\n",
      "SUM [1, 0]\n",
      "SUM [0, 1]\n",
      "S [0]\n",
      "SUM [1, 0]\n",
      "H [0]\n",
      "SUM [0, 1]\n",
      "S [0]\n",
      "SUM [0, 1]\n",
      "S [1]\n",
      "SUM [0, 1]\n",
      "H [1]\n",
      "SUM [0, 1]\n",
      "S [0]\n",
      "\n"
     ]
    },
    {
     "data": {
      "text/latex": [
       "$\\displaystyle \\left({X^{r_{1} + r_{2} + s_{2}} Z^{r_{2} + s_{1} + s_{2}}}\\right)\\otimes \\left({X^{r_{1} + s_{1} + s_{2}} Z^{r_{2} + s_{2}}}\\right)$"
      ],
      "text/plain": [
       "(X**(r1 + r2 + s2)*Z**(r2 + s1 + s2))x(X**(r1 + s1 + s2)*Z**(r2 + s2))"
      ]
     },
     "metadata": {},
     "output_type": "display_data"
    },
    {
     "name": "stdout",
     "output_type": "stream",
     "text": [
      "\n",
      "S [0]\n",
      "SUM [1, 0]\n",
      "H [1]\n",
      "SUM [1, 0]\n",
      "S [0]\n",
      "H [1]\n",
      "H [1]\n",
      "SUM [1, 0]\n",
      "S [0]\n",
      "SUM [1, 0]\n",
      "H [1]\n",
      "SUM [0, 1]\n",
      "S [0]\n",
      "\n"
     ]
    },
    {
     "data": {
      "text/latex": [
       "$\\displaystyle \\left({X^{r_{2} + s_{1} + s_{2}} Z^{r_{1} + r_{2} + s_{2}}}\\right)\\otimes \\left({X^{r_{2} + s_{2}} Z^{r_{1} + s_{1} + s_{2}}}\\right)$"
      ],
      "text/plain": [
       "(X**(r2 + s1 + s2)*Z**(r1 + r2 + s2))x(X**(r2 + s2)*Z**(r1 + s1 + s2))"
      ]
     },
     "metadata": {},
     "output_type": "display_data"
    },
    {
     "name": "stdout",
     "output_type": "stream",
     "text": [
      "\n",
      "S [0]\n",
      "H [1]\n",
      "S [1]\n",
      "H [1]\n",
      "SUM [1, 0]\n",
      "S [0]\n",
      "H [1]\n",
      "SUM [1, 0]\n",
      "S [0]\n",
      "SUM [1, 0]\n",
      "H [1]\n",
      "SUM [0, 1]\n",
      "S [0]\n",
      "\n"
     ]
    },
    {
     "data": {
      "text/latex": [
       "$\\displaystyle \\left({X^{r_{1} + r_{2} + s_{2}} Z^{r_{2} + s_{1} + s_{2}}}\\right)\\otimes \\left({X^{r_{1} + r_{2} + s_{1}} Z^{r_{1} + s_{1} + s_{2}}}\\right)$"
      ],
      "text/plain": [
       "(X**(r1 + r2 + s2)*Z**(r2 + s1 + s2))x(X**(r1 + r2 + s1)*Z**(r1 + s1 + s2))"
      ]
     },
     "metadata": {},
     "output_type": "display_data"
    },
    {
     "name": "stdout",
     "output_type": "stream",
     "text": [
      "\n",
      "SUM [0, 1]\n",
      "SUM [1, 0]\n",
      "S [0]\n",
      "H [0]\n",
      "H [1]\n",
      "S [1]\n",
      "SUM [0, 1]\n",
      "S [0]\n",
      "S [1]\n",
      "SUM [0, 1]\n",
      "S [1]\n",
      "H [1]\n",
      "S [1]\n",
      "SUM [0, 1]\n",
      "\n"
     ]
    },
    {
     "data": {
      "text/latex": [
       "$\\displaystyle \\left({X^{r_{2} + s_{1} + s_{2}} Z^{r_{1} + r_{2} + s_{2}}}\\right)\\otimes \\left({X^{r_{1} + r_{2} + s_{1}} Z^{r_{1} + s_{1} + s_{2}}}\\right)$"
      ],
      "text/plain": [
       "(X**(r2 + s1 + s2)*Z**(r1 + r2 + s2))x(X**(r1 + r2 + s1)*Z**(r1 + s1 + s2))"
      ]
     },
     "metadata": {},
     "output_type": "display_data"
    },
    {
     "name": "stdout",
     "output_type": "stream",
     "text": [
      "\n",
      "SUM [0, 1]\n",
      "SUM [1, 0]\n",
      "S [0]\n",
      "SUM [1, 0]\n",
      "H [0]\n",
      "SUM [0, 1]\n",
      "S [1]\n",
      "H [1]\n",
      "SUM [1, 0]\n",
      "S [0]\n",
      "SUM [1, 0]\n",
      "H [1]\n",
      "SUM [0, 1]\n",
      "S [0]\n",
      "\n"
     ]
    },
    {
     "data": {
      "text/latex": [
       "$\\displaystyle \\left({X^{r_{2} + s_{1} + s_{2}} Z^{r_{1} + r_{2} + s_{2}}}\\right)\\otimes \\left({X^{r_{2} + s_{2}} Z^{r_{1} + r_{2} + s_{1}}}\\right)$"
      ],
      "text/plain": [
       "(X**(r2 + s1 + s2)*Z**(r1 + r2 + s2))x(X**(r2 + s2)*Z**(r1 + r2 + s1))"
      ]
     },
     "metadata": {},
     "output_type": "display_data"
    },
    {
     "name": "stdout",
     "output_type": "stream",
     "text": [
      "\n",
      "SUM [0, 1]\n",
      "SUM [1, 0]\n",
      "S [0]\n",
      "SUM [1, 0]\n",
      "H [1]\n",
      "SUM [1, 0]\n",
      "S [1]\n",
      "H [1]\n",
      "SUM [1, 0]\n",
      "S [0]\n",
      "SUM [1, 0]\n",
      "H [1]\n",
      "SUM [0, 1]\n",
      "S [0]\n",
      "\n"
     ]
    },
    {
     "data": {
      "text/latex": [
       "$\\displaystyle \\left({X^{r_{1} + r_{2} + s_{2}} Z^{r_{2} + s_{1} + s_{2}}}\\right)\\otimes \\left({X^{r_{1} + s_{1} + s_{2}} Z^{r_{1} + r_{2} + s_{1}}}\\right)$"
      ],
      "text/plain": [
       "(X**(r1 + r2 + s2)*Z**(r2 + s1 + s2))x(X**(r1 + s1 + s2)*Z**(r1 + r2 + s1))"
      ]
     },
     "metadata": {},
     "output_type": "display_data"
    },
    {
     "name": "stdout",
     "output_type": "stream",
     "text": [
      "\n",
      "SUM [0, 1]\n",
      "S [0]\n",
      "S [1]\n",
      "H [0]\n",
      "SUM [1, 0]\n",
      "SUM [0, 1]\n",
      "SUM [1, 0]\n",
      "S [0]\n",
      "SUM [1, 0]\n",
      "H [1]\n",
      "SUM [0, 1]\n",
      "S [0]\n",
      "SUM [0, 1]\n",
      "S [1]\n",
      "H [1]\n",
      "S [1]\n",
      "SUM [0, 1]\n",
      "\n"
     ]
    },
    {
     "data": {
      "text/latex": [
       "$\\displaystyle \\left({X^{r_{2} + s_{1} + s_{2}} Z^{r_{1} + r_{2} + s_{2}}}\\right)\\otimes \\left({X^{r_{2} + s_{2}} Z^{r_{1} + s_{1} + s_{2}}}\\right)$"
      ],
      "text/plain": [
       "(X**(r2 + s1 + s2)*Z**(r1 + r2 + s2))x(X**(r2 + s2)*Z**(r1 + s1 + s2))"
      ]
     },
     "metadata": {},
     "output_type": "display_data"
    },
    {
     "name": "stdout",
     "output_type": "stream",
     "text": [
      "\n",
      "SUM [1, 0]\n",
      "SUM [0, 1]\n",
      "S [0]\n",
      "S [1]\n",
      "H [1]\n",
      "SUM [1, 0]\n",
      "SUM [1, 0]\n",
      "S [0]\n",
      "SUM [1, 0]\n",
      "H [1]\n",
      "SUM [0, 1]\n",
      "S [0]\n",
      "SUM [0, 1]\n",
      "S [1]\n",
      "H [1]\n",
      "S [1]\n",
      "SUM [0, 1]\n",
      "\n"
     ]
    },
    {
     "data": {
      "text/latex": [
       "$\\displaystyle \\left({X^{r_{2} + s_{1} + s_{2}} Z^{r_{1} + r_{2} + s_{2}}}\\right)\\otimes \\left({X^{r_{2} + s_{2}} Z^{r_{1} + s_{1} + s_{2}}}\\right)$"
      ],
      "text/plain": [
       "(X**(r2 + s1 + s2)*Z**(r1 + r2 + s2))x(X**(r2 + s2)*Z**(r1 + s1 + s2))"
      ]
     },
     "metadata": {},
     "output_type": "display_data"
    },
    {
     "name": "stdout",
     "output_type": "stream",
     "text": [
      "\n",
      "SUM [1, 0]\n",
      "SUM [0, 1]\n",
      "S [0]\n",
      "S [1]\n",
      "H [0]\n",
      "SUM [0, 1]\n",
      "SUM [1, 0]\n",
      "S [0]\n",
      "SUM [1, 0]\n",
      "H [1]\n",
      "SUM [0, 1]\n",
      "S [0]\n",
      "SUM [0, 1]\n",
      "S [1]\n",
      "H [1]\n",
      "S [1]\n",
      "SUM [0, 1]\n",
      "\n"
     ]
    },
    {
     "data": {
      "text/latex": [
       "$\\displaystyle \\left({X^{r_{1} + r_{2} + s_{2}} Z^{r_{2} + s_{1} + s_{2}}}\\right)\\otimes \\left({X^{r_{1} + s_{1} + s_{2}} Z^{r_{2} + s_{2}}}\\right)$"
      ],
      "text/plain": [
       "(X**(r1 + r2 + s2)*Z**(r2 + s1 + s2))x(X**(r1 + s1 + s2)*Z**(r2 + s2))"
      ]
     },
     "metadata": {},
     "output_type": "display_data"
    },
    {
     "name": "stdout",
     "output_type": "stream",
     "text": [
      "\n",
      "\n",
      "----------------------------------\n",
      "Option  2 :  DSDS\n",
      "SUM [0, 1]\n",
      "S [0]\n",
      "S [1]\n",
      "H [0]\n",
      "SUM [1, 0]\n",
      "SUM [0, 1]\n",
      "SUM [0, 1]\n",
      "S [1]\n",
      "H [1]\n",
      "S [1]\n",
      "SUM [0, 1]\n",
      "\n",
      "\n",
      "SUM [1, 0]\n",
      "SUM [0, 1]\n",
      "S [0]\n",
      "S [1]\n",
      "H [1]\n",
      "SUM [1, 0]\n",
      "SUM [0, 1]\n",
      "S [1]\n",
      "H [1]\n",
      "S [1]\n",
      "SUM [0, 1]\n",
      "\n"
     ]
    },
    {
     "data": {
      "text/latex": [
       "$\\displaystyle \\left({X^{r_{2} + s_{1} + s_{2}} Z^{r_{1} + r_{2} + s_{2}}}\\right)\\otimes \\left({X^{r_{1} + r_{2} + s_{1}} Z^{r_{2} + s_{2}}}\\right)$"
      ],
      "text/plain": [
       "(X**(r2 + s1 + s2)*Z**(r1 + r2 + s2))x(X**(r1 + r2 + s1)*Z**(r2 + s2))"
      ]
     },
     "metadata": {},
     "output_type": "display_data"
    },
    {
     "name": "stdout",
     "output_type": "stream",
     "text": [
      "\n",
      "SUM [1, 0]\n",
      "SUM [0, 1]\n",
      "S [0]\n",
      "S [1]\n",
      "H [0]\n",
      "SUM [0, 1]\n",
      "SUM [0, 1]\n",
      "S [1]\n",
      "SUM [0, 1]\n",
      "H [1]\n",
      "SUM [0, 1]\n",
      "S [0]\n",
      "\n"
     ]
    },
    {
     "data": {
      "text/latex": [
       "$\\displaystyle \\left({X^{r_{1} + r_{2} + s_{2}} Z^{r_{2} + s_{1} + s_{2}}}\\right)\\otimes \\left({X^{r_{1} + r_{2} + s_{1}} Z^{r_{2} + s_{2}}}\\right)$"
      ],
      "text/plain": [
       "(X**(r1 + r2 + s2)*Z**(r2 + s1 + s2))x(X**(r1 + r2 + s1)*Z**(r2 + s2))"
      ]
     },
     "metadata": {},
     "output_type": "display_data"
    },
    {
     "name": "stdout",
     "output_type": "stream",
     "text": [
      "\n",
      "S [0]\n",
      "SUM [1, 0]\n",
      "H [1]\n",
      "SUM [1, 0]\n",
      "S [0]\n",
      "H [1]\n",
      "SUM [1, 0]\n",
      "S [0]\n",
      "SUM [1, 0]\n",
      "H [1]\n",
      "SUM [0, 1]\n",
      "S [0]\n",
      "\n"
     ]
    },
    {
     "data": {
      "text/latex": [
       "$\\displaystyle \\left({X^{r_{2} + s_{1} + s_{2}} Z^{r_{1} + r_{2} + s_{2}}}\\right)\\otimes \\left({X^{r_{2} + s_{2}} Z^{r_{1} + r_{2} + s_{1}}}\\right)$"
      ],
      "text/plain": [
       "(X**(r2 + s1 + s2)*Z**(r1 + r2 + s2))x(X**(r2 + s2)*Z**(r1 + r2 + s1))"
      ]
     },
     "metadata": {},
     "output_type": "display_data"
    },
    {
     "name": "stdout",
     "output_type": "stream",
     "text": [
      "\n",
      "SUM [0, 1]\n",
      "SUM [1, 0]\n",
      "S [0]\n",
      "SUM [1, 0]\n",
      "H [0]\n",
      "SUM [0, 1]\n",
      "SUM [1, 0]\n",
      "S [0]\n",
      "SUM [1, 0]\n",
      "H [1]\n",
      "SUM [0, 1]\n",
      "S [0]\n",
      "\n"
     ]
    },
    {
     "data": {
      "text/latex": [
       "$\\displaystyle \\left({X^{r_{2} + s_{1} + s_{2}} Z^{r_{1} + r_{2} + s_{2}}}\\right)\\otimes \\left({X^{r_{1} + r_{2} + s_{1}} Z^{r_{1} + s_{1} + s_{2}}}\\right)$"
      ],
      "text/plain": [
       "(X**(r2 + s1 + s2)*Z**(r1 + r2 + s2))x(X**(r1 + r2 + s1)*Z**(r1 + s1 + s2))"
      ]
     },
     "metadata": {},
     "output_type": "display_data"
    },
    {
     "name": "stdout",
     "output_type": "stream",
     "text": [
      "\n",
      "S [0]\n",
      "SUM [1, 0]\n",
      "SUM [0, 1]\n",
      "S [0]\n",
      "H [0]\n",
      "SUM [0, 1]\n",
      "SUM [1, 0]\n",
      "S [0]\n",
      "SUM [1, 0]\n",
      "H [1]\n",
      "SUM [0, 1]\n",
      "S [0]\n",
      "\n"
     ]
    },
    {
     "data": {
      "text/latex": [
       "$\\displaystyle \\left({X^{r_{1} + r_{2} + s_{2}} Z^{r_{2} + s_{1} + s_{2}}}\\right)\\otimes \\left({X^{r_{1} + r_{2} + s_{1}} Z^{r_{2} + s_{2}}}\\right)$"
      ],
      "text/plain": [
       "(X**(r1 + r2 + s2)*Z**(r2 + s1 + s2))x(X**(r1 + r2 + s1)*Z**(r2 + s2))"
      ]
     },
     "metadata": {},
     "output_type": "display_data"
    },
    {
     "name": "stdout",
     "output_type": "stream",
     "text": [
      "\n",
      "S [0]\n",
      "SUM [1, 0]\n",
      "H [1]\n",
      "SUM [1, 0]\n",
      "S [0]\n",
      "H [1]\n",
      "SUM [1, 0]\n",
      "S [0]\n",
      "SUM [1, 0]\n",
      "H [1]\n",
      "SUM [0, 1]\n",
      "S [0]\n",
      "\n"
     ]
    },
    {
     "data": {
      "text/latex": [
       "$\\displaystyle \\left({X^{r_{2} + s_{1} + s_{2}} Z^{r_{1} + r_{2} + s_{2}}}\\right)\\otimes \\left({X^{r_{2} + s_{2}} Z^{r_{1} + r_{2} + s_{1}}}\\right)$"
      ],
      "text/plain": [
       "(X**(r2 + s1 + s2)*Z**(r1 + r2 + s2))x(X**(r2 + s2)*Z**(r1 + r2 + s1))"
      ]
     },
     "metadata": {},
     "output_type": "display_data"
    },
    {
     "name": "stdout",
     "output_type": "stream",
     "text": [
      "\n",
      "SUM [0, 1]\n",
      "SUM [1, 0]\n",
      "S [0]\n",
      "H [0]\n",
      "H [1]\n",
      "S [1]\n",
      "SUM [0, 1]\n",
      "S [0]\n",
      "SUM [0, 1]\n",
      "S [1]\n",
      "H [1]\n",
      "S [1]\n",
      "SUM [0, 1]\n",
      "\n"
     ]
    },
    {
     "data": {
      "text/latex": [
       "$\\displaystyle \\left({X^{r_{2} + s_{1} + s_{2}} Z^{r_{1} + r_{2} + s_{2}}}\\right)\\otimes \\left({X^{r_{1} + s_{1} + s_{2}} Z^{r_{1} + r_{2} + s_{1}}}\\right)$"
      ],
      "text/plain": [
       "(X**(r2 + s1 + s2)*Z**(r1 + r2 + s2))x(X**(r1 + s1 + s2)*Z**(r1 + r2 + s1))"
      ]
     },
     "metadata": {},
     "output_type": "display_data"
    },
    {
     "name": "stdout",
     "output_type": "stream",
     "text": [
      "\n",
      "S [0]\n",
      "SUM [1, 0]\n",
      "H [1]\n",
      "SUM [1, 0]\n",
      "S [0]\n",
      "H [0]\n",
      "H [1]\n",
      "SUM [1, 0]\n",
      "S [0]\n",
      "SUM [1, 0]\n",
      "H [1]\n",
      "SUM [0, 1]\n",
      "S [0]\n",
      "\n"
     ]
    },
    {
     "data": {
      "text/latex": [
       "$\\displaystyle \\left({X^{r_{1} + r_{2} + s_{2}} Z^{r_{2} + s_{1} + s_{2}}}\\right)\\otimes \\left({X^{r_{2} + s_{2}} Z^{r_{1} + r_{2} + s_{1}}}\\right)$"
      ],
      "text/plain": [
       "(X**(r1 + r2 + s2)*Z**(r2 + s1 + s2))x(X**(r2 + s2)*Z**(r1 + r2 + s1))"
      ]
     },
     "metadata": {},
     "output_type": "display_data"
    },
    {
     "name": "stdout",
     "output_type": "stream",
     "text": [
      "\n",
      "SUM [0, 1]\n",
      "SUM [1, 0]\n",
      "S [0]\n",
      "SUM [1, 0]\n",
      "H [1]\n",
      "SUM [1, 0]\n",
      "H [1]\n",
      "SUM [1, 0]\n",
      "S [0]\n",
      "SUM [1, 0]\n",
      "H [1]\n",
      "SUM [0, 1]\n",
      "S [0]\n",
      "\n"
     ]
    },
    {
     "data": {
      "text/latex": [
       "$\\displaystyle \\left({X^{r_{1} + r_{2} + s_{2}} Z^{r_{2} + s_{1} + s_{2}}}\\right)\\otimes \\left({X^{r_{1} + r_{2} + s_{1}} Z^{r_{1} + s_{1} + s_{2}}}\\right)$"
      ],
      "text/plain": [
       "(X**(r1 + r2 + s2)*Z**(r2 + s1 + s2))x(X**(r1 + r2 + s1)*Z**(r1 + s1 + s2))"
      ]
     },
     "metadata": {},
     "output_type": "display_data"
    },
    {
     "name": "stdout",
     "output_type": "stream",
     "text": [
      "\n",
      "S [0]\n",
      "SUM [1, 0]\n",
      "SUM [0, 1]\n",
      "S [0]\n",
      "H [1]\n",
      "SUM [1, 0]\n",
      "H [1]\n",
      "SUM [1, 0]\n",
      "S [0]\n",
      "SUM [1, 0]\n",
      "H [1]\n",
      "SUM [0, 1]\n",
      "S [0]\n",
      "\n"
     ]
    },
    {
     "data": {
      "text/latex": [
       "$\\displaystyle \\left({X^{r_{2} + s_{1} + s_{2}} Z^{r_{1} + r_{2} + s_{2}}}\\right)\\otimes \\left({X^{r_{1} + r_{2} + s_{1}} Z^{r_{2} + s_{2}}}\\right)$"
      ],
      "text/plain": [
       "(X**(r2 + s1 + s2)*Z**(r1 + r2 + s2))x(X**(r1 + r2 + s1)*Z**(r2 + s2))"
      ]
     },
     "metadata": {},
     "output_type": "display_data"
    },
    {
     "name": "stdout",
     "output_type": "stream",
     "text": [
      "\n",
      "S [0]\n",
      "SUM [1, 0]\n",
      "H [1]\n",
      "SUM [1, 0]\n",
      "S [0]\n",
      "S [1]\n",
      "S [1]\n",
      "H [1]\n",
      "SUM [1, 0]\n",
      "S [0]\n",
      "SUM [1, 0]\n",
      "H [1]\n",
      "SUM [0, 1]\n",
      "S [0]\n",
      "\n"
     ]
    },
    {
     "data": {
      "text/latex": [
       "$\\displaystyle \\left({X^{r_{2} + s_{1} + s_{2}} Z^{r_{1} + r_{2} + s_{2}}}\\right)\\otimes \\left({X^{r_{2} + s_{2}} Z^{r_{1} + r_{2} + s_{1}}}\\right)$"
      ],
      "text/plain": [
       "(X**(r2 + s1 + s2)*Z**(r1 + r2 + s2))x(X**(r2 + s2)*Z**(r1 + r2 + s1))"
      ]
     },
     "metadata": {},
     "output_type": "display_data"
    },
    {
     "name": "stdout",
     "output_type": "stream",
     "text": [
      "\n",
      "S [0]\n",
      "H [1]\n",
      "S [1]\n",
      "H [1]\n",
      "SUM [1, 0]\n",
      "S [0]\n",
      "S [1]\n",
      "H [1]\n",
      "SUM [1, 0]\n",
      "S [0]\n",
      "SUM [1, 0]\n",
      "H [1]\n",
      "SUM [0, 1]\n",
      "S [0]\n",
      "\n"
     ]
    },
    {
     "data": {
      "text/latex": [
       "$\\displaystyle \\left({X^{r_{1} + r_{2} + s_{2}} Z^{r_{2} + s_{1} + s_{2}}}\\right)\\otimes \\left({X^{r_{1} + s_{1} + s_{2}} Z^{r_{1} + r_{2} + s_{1}}}\\right)$"
      ],
      "text/plain": [
       "(X**(r1 + r2 + s2)*Z**(r2 + s1 + s2))x(X**(r1 + s1 + s2)*Z**(r1 + r2 + s1))"
      ]
     },
     "metadata": {},
     "output_type": "display_data"
    },
    {
     "name": "stdout",
     "output_type": "stream",
     "text": [
      "\n",
      "SUM [1, 0]\n",
      "SUM [0, 1]\n",
      "S [0]\n",
      "SUM [1, 0]\n",
      "H [0]\n",
      "SUM [0, 1]\n",
      "S [0]\n",
      "SUM [1, 0]\n",
      "S [0]\n",
      "SUM [1, 0]\n",
      "H [1]\n",
      "SUM [0, 1]\n",
      "S [0]\n",
      "SUM [0, 1]\n",
      "S [1]\n",
      "H [1]\n",
      "S [1]\n",
      "SUM [0, 1]\n",
      "\n"
     ]
    },
    {
     "data": {
      "text/latex": [
       "$\\displaystyle \\left({X^{r_{1} + r_{2} + s_{2}} Z^{r_{2} + s_{1} + s_{2}}}\\right)\\otimes \\left({X^{r_{1} + r_{2} + s_{1}} Z^{r_{2} + s_{2}}}\\right)$"
      ],
      "text/plain": [
       "(X**(r1 + r2 + s2)*Z**(r2 + s1 + s2))x(X**(r1 + r2 + s1)*Z**(r2 + s2))"
      ]
     },
     "metadata": {},
     "output_type": "display_data"
    },
    {
     "name": "stdout",
     "output_type": "stream",
     "text": [
      "\n",
      "\n",
      "----------------------------------\n",
      "Option  3 :  DSSD\n",
      "S [0]\n",
      "SUM [1, 0]\n",
      "H [1]\n",
      "SUM [1, 0]\n",
      "S [0]\n",
      "S [1]\n",
      "SUM [0, 1]\n",
      "S [1]\n",
      "H [1]\n",
      "S [1]\n",
      "SUM [0, 1]\n",
      "\n",
      "\n",
      "S [0]\n",
      "SUM [1, 0]\n",
      "H [1]\n",
      "SUM [1, 0]\n",
      "S [0]\n",
      "S [1]\n",
      "SUM [0, 1]\n",
      "S [1]\n",
      "H [1]\n",
      "S [1]\n",
      "SUM [0, 1]\n",
      "\n"
     ]
    },
    {
     "data": {
      "text/latex": [
       "$\\displaystyle \\left({X^{r_{2} + s_{1} + s_{2}} Z^{r_{1} + r_{2} + s_{2}}}\\right)\\otimes \\left({X^{r_{1} + r_{2} + s_{1}} Z^{r_{2} + s_{2}}}\\right)$"
      ],
      "text/plain": [
       "(X**(r2 + s1 + s2)*Z**(r1 + r2 + s2))x(X**(r1 + r2 + s1)*Z**(r2 + s2))"
      ]
     },
     "metadata": {},
     "output_type": "display_data"
    },
    {
     "name": "stdout",
     "output_type": "stream",
     "text": [
      "\n",
      "S [0]\n",
      "H [1]\n",
      "S [1]\n",
      "H [1]\n",
      "SUM [1, 0]\n",
      "S [0]\n",
      "SUM [0, 1]\n",
      "S [1]\n",
      "SUM [0, 1]\n",
      "H [1]\n",
      "SUM [0, 1]\n",
      "S [0]\n",
      "\n"
     ]
    },
    {
     "data": {
      "text/latex": [
       "$\\displaystyle \\left({X^{r_{1} + r_{2} + s_{2}} Z^{r_{2} + s_{1} + s_{2}}}\\right)\\otimes \\left({X^{r_{1} + r_{2} + s_{1}} Z^{r_{2} + s_{2}}}\\right)$"
      ],
      "text/plain": [
       "(X**(r1 + r2 + s2)*Z**(r2 + s1 + s2))x(X**(r1 + r2 + s1)*Z**(r2 + s2))"
      ]
     },
     "metadata": {},
     "output_type": "display_data"
    },
    {
     "name": "stdout",
     "output_type": "stream",
     "text": [
      "\n",
      "S [0]\n",
      "SUM [1, 0]\n",
      "H [1]\n",
      "SUM [1, 0]\n",
      "S [0]\n",
      "H [0]\n",
      "S [1]\n",
      "SUM [0, 1]\n",
      "S [1]\n",
      "H [1]\n",
      "S [1]\n",
      "SUM [0, 1]\n",
      "\n"
     ]
    },
    {
     "data": {
      "text/latex": [
       "$\\displaystyle \\left({X^{r_{1} + r_{2} + s_{2}} Z^{r_{2} + s_{1} + s_{2}}}\\right)\\otimes \\left({X^{r_{1} + r_{2} + s_{1}} Z^{r_{2} + s_{2}}}\\right)$"
      ],
      "text/plain": [
       "(X**(r1 + r2 + s2)*Z**(r2 + s1 + s2))x(X**(r1 + r2 + s1)*Z**(r2 + s2))"
      ]
     },
     "metadata": {},
     "output_type": "display_data"
    },
    {
     "name": "stdout",
     "output_type": "stream",
     "text": [
      "\n",
      "S [0]\n",
      "SUM [1, 0]\n",
      "H [1]\n",
      "SUM [1, 0]\n",
      "S [0]\n",
      "H [1]\n",
      "S [1]\n",
      "SUM [0, 1]\n",
      "S [1]\n",
      "H [1]\n",
      "S [1]\n",
      "SUM [0, 1]\n",
      "\n"
     ]
    },
    {
     "data": {
      "text/latex": [
       "$\\displaystyle \\left({X^{r_{2} + s_{1} + s_{2}} Z^{r_{1} + r_{2} + s_{2}}}\\right)\\otimes \\left({X^{r_{1} + s_{1} + s_{2}} Z^{r_{2} + s_{2}}}\\right)$"
      ],
      "text/plain": [
       "(X**(r2 + s1 + s2)*Z**(r1 + r2 + s2))x(X**(r1 + s1 + s2)*Z**(r2 + s2))"
      ]
     },
     "metadata": {},
     "output_type": "display_data"
    },
    {
     "name": "stdout",
     "output_type": "stream",
     "text": [
      "\n",
      "S [0]\n",
      "SUM [1, 0]\n",
      "SUM [0, 1]\n",
      "S [0]\n",
      "H [0]\n",
      "SUM [0, 1]\n",
      "S [1]\n",
      "SUM [0, 1]\n",
      "S [1]\n",
      "H [1]\n",
      "S [1]\n",
      "SUM [0, 1]\n",
      "\n"
     ]
    },
    {
     "data": {
      "text/latex": [
       "$\\displaystyle \\left({X^{r_{1} + r_{2} + s_{2}} Z^{r_{2} + s_{1} + s_{2}}}\\right)\\otimes \\left({X^{r_{1} + s_{1} + s_{2}} Z^{r_{1} + r_{2} + s_{1}}}\\right)$"
      ],
      "text/plain": [
       "(X**(r1 + r2 + s2)*Z**(r2 + s1 + s2))x(X**(r1 + s1 + s2)*Z**(r1 + r2 + s1))"
      ]
     },
     "metadata": {},
     "output_type": "display_data"
    },
    {
     "name": "stdout",
     "output_type": "stream",
     "text": [
      "\n",
      "S [0]\n",
      "SUM [1, 0]\n",
      "SUM [0, 1]\n",
      "S [0]\n",
      "H [1]\n",
      "SUM [1, 0]\n",
      "S [1]\n",
      "SUM [0, 1]\n",
      "S [1]\n",
      "H [1]\n",
      "S [1]\n",
      "SUM [0, 1]\n",
      "\n"
     ]
    },
    {
     "data": {
      "text/latex": [
       "$\\displaystyle \\left({X^{r_{2} + s_{1} + s_{2}} Z^{r_{1} + r_{2} + s_{2}}}\\right)\\otimes \\left({X^{r_{2} + s_{2}} Z^{r_{1} + r_{2} + s_{1}}}\\right)$"
      ],
      "text/plain": [
       "(X**(r2 + s1 + s2)*Z**(r1 + r2 + s2))x(X**(r2 + s2)*Z**(r1 + r2 + s1))"
      ]
     },
     "metadata": {},
     "output_type": "display_data"
    },
    {
     "name": "stdout",
     "output_type": "stream",
     "text": [
      "\n",
      "SUM [0, 1]\n",
      "S [0]\n",
      "S [1]\n",
      "H [0]\n",
      "SUM [1, 0]\n",
      "SUM [0, 1]\n",
      "S [1]\n",
      "H [1]\n",
      "SUM [1, 0]\n",
      "S [0]\n",
      "SUM [1, 0]\n",
      "H [1]\n",
      "SUM [0, 1]\n",
      "S [0]\n",
      "\n"
     ]
    },
    {
     "data": {
      "text/latex": [
       "$\\displaystyle \\left({X^{r_{2} + s_{1} + s_{2}} Z^{r_{1} + r_{2} + s_{2}}}\\right)\\otimes \\left({X^{r_{2} + s_{2}} Z^{r_{1} + r_{2} + s_{1}}}\\right)$"
      ],
      "text/plain": [
       "(X**(r2 + s1 + s2)*Z**(r1 + r2 + s2))x(X**(r2 + s2)*Z**(r1 + r2 + s1))"
      ]
     },
     "metadata": {},
     "output_type": "display_data"
    },
    {
     "name": "stdout",
     "output_type": "stream",
     "text": [
      "\n",
      "SUM [1, 0]\n",
      "SUM [0, 1]\n",
      "S [0]\n",
      "S [1]\n",
      "H [1]\n",
      "SUM [1, 0]\n",
      "S [1]\n",
      "H [1]\n",
      "SUM [1, 0]\n",
      "S [0]\n",
      "SUM [1, 0]\n",
      "H [1]\n",
      "SUM [0, 1]\n",
      "S [0]\n",
      "\n"
     ]
    },
    {
     "data": {
      "text/latex": [
       "$\\displaystyle \\left({X^{r_{2} + s_{1} + s_{2}} Z^{r_{1} + r_{2} + s_{2}}}\\right)\\otimes \\left({X^{r_{2} + s_{2}} Z^{r_{1} + r_{2} + s_{1}}}\\right)$"
      ],
      "text/plain": [
       "(X**(r2 + s1 + s2)*Z**(r1 + r2 + s2))x(X**(r2 + s2)*Z**(r1 + r2 + s1))"
      ]
     },
     "metadata": {},
     "output_type": "display_data"
    },
    {
     "name": "stdout",
     "output_type": "stream",
     "text": [
      "\n",
      "SUM [1, 0]\n",
      "SUM [0, 1]\n",
      "S [0]\n",
      "S [1]\n",
      "H [0]\n",
      "SUM [0, 1]\n",
      "S [1]\n",
      "H [1]\n",
      "SUM [1, 0]\n",
      "S [0]\n",
      "SUM [1, 0]\n",
      "H [1]\n",
      "SUM [0, 1]\n",
      "S [0]\n",
      "\n"
     ]
    },
    {
     "data": {
      "text/latex": [
       "$\\displaystyle \\left({X^{r_{1} + r_{2} + s_{2}} Z^{r_{2} + s_{1} + s_{2}}}\\right)\\otimes \\left({X^{r_{1} + s_{1} + s_{2}} Z^{r_{1} + r_{2} + s_{1}}}\\right)$"
      ],
      "text/plain": [
       "(X**(r1 + r2 + s2)*Z**(r2 + s1 + s2))x(X**(r1 + s1 + s2)*Z**(r1 + r2 + s1))"
      ]
     },
     "metadata": {},
     "output_type": "display_data"
    },
    {
     "name": "stdout",
     "output_type": "stream",
     "text": [
      "\n",
      "SUM [0, 1]\n",
      "SUM [1, 0]\n",
      "S [0]\n",
      "H [0]\n",
      "H [1]\n",
      "S [1]\n",
      "SUM [0, 1]\n",
      "S [0]\n",
      "SUM [1, 0]\n",
      "S [0]\n",
      "SUM [1, 0]\n",
      "H [1]\n",
      "SUM [0, 1]\n",
      "S [0]\n",
      "\n"
     ]
    },
    {
     "data": {
      "text/latex": [
       "$\\displaystyle \\left({X^{r_{2} + s_{1} + s_{2}} Z^{r_{1} + r_{2} + s_{2}}}\\right)\\otimes \\left({X^{r_{1} + s_{1} + s_{2}} Z^{r_{2} + s_{2}}}\\right)$"
      ],
      "text/plain": [
       "(X**(r2 + s1 + s2)*Z**(r1 + r2 + s2))x(X**(r1 + s1 + s2)*Z**(r2 + s2))"
      ]
     },
     "metadata": {},
     "output_type": "display_data"
    },
    {
     "name": "stdout",
     "output_type": "stream",
     "text": [
      "\n",
      "SUM [1, 0]\n",
      "SUM [0, 1]\n",
      "S [0]\n",
      "SUM [1, 0]\n",
      "H [0]\n",
      "SUM [0, 1]\n",
      "S [0]\n",
      "S [1]\n",
      "H [1]\n",
      "SUM [1, 0]\n",
      "S [0]\n",
      "SUM [1, 0]\n",
      "H [1]\n",
      "SUM [0, 1]\n",
      "S [0]\n",
      "\n"
     ]
    },
    {
     "data": {
      "text/latex": [
       "$\\displaystyle \\left({X^{r_{1} + r_{2} + s_{2}} Z^{r_{2} + s_{1} + s_{2}}}\\right)\\otimes \\left({X^{r_{1} + r_{2} + s_{1}} Z^{r_{1} + s_{1} + s_{2}}}\\right)$"
      ],
      "text/plain": [
       "(X**(r1 + r2 + s2)*Z**(r2 + s1 + s2))x(X**(r1 + r2 + s1)*Z**(r1 + s1 + s2))"
      ]
     },
     "metadata": {},
     "output_type": "display_data"
    },
    {
     "name": "stdout",
     "output_type": "stream",
     "text": [
      "\n",
      "SUM [0, 1]\n",
      "SUM [1, 0]\n",
      "S [0]\n",
      "SUM [1, 0]\n",
      "H [0]\n",
      "SUM [0, 1]\n",
      "SUM [1, 0]\n",
      "S [0]\n",
      "SUM [1, 0]\n",
      "H [1]\n",
      "SUM [0, 1]\n",
      "S [0]\n",
      "SUM [0, 1]\n",
      "S [1]\n",
      "H [1]\n",
      "S [1]\n",
      "SUM [0, 1]\n",
      "\n"
     ]
    },
    {
     "data": {
      "text/latex": [
       "$\\displaystyle \\left({X^{r_{2} + s_{1} + s_{2}} Z^{r_{1} + r_{2} + s_{2}}}\\right)\\otimes \\left({X^{r_{2} + s_{2}} Z^{r_{1} + s_{1} + s_{2}}}\\right)$"
      ],
      "text/plain": [
       "(X**(r2 + s1 + s2)*Z**(r1 + r2 + s2))x(X**(r2 + s2)*Z**(r1 + s1 + s2))"
      ]
     },
     "metadata": {},
     "output_type": "display_data"
    },
    {
     "name": "stdout",
     "output_type": "stream",
     "text": [
      "\n",
      "SUM [0, 1]\n",
      "SUM [1, 0]\n",
      "S [0]\n",
      "SUM [1, 0]\n",
      "H [1]\n",
      "SUM [1, 0]\n",
      "SUM [1, 0]\n",
      "S [0]\n",
      "SUM [1, 0]\n",
      "H [1]\n",
      "SUM [0, 1]\n",
      "S [0]\n",
      "SUM [0, 1]\n",
      "S [1]\n",
      "H [1]\n",
      "S [1]\n",
      "SUM [0, 1]\n",
      "\n"
     ]
    },
    {
     "data": {
      "text/latex": [
       "$\\displaystyle \\left({X^{r_{1} + r_{2} + s_{2}} Z^{r_{2} + s_{1} + s_{2}}}\\right)\\otimes \\left({X^{r_{1} + s_{1} + s_{2}} Z^{r_{2} + s_{2}}}\\right)$"
      ],
      "text/plain": [
       "(X**(r1 + r2 + s2)*Z**(r2 + s1 + s2))x(X**(r1 + s1 + s2)*Z**(r2 + s2))"
      ]
     },
     "metadata": {},
     "output_type": "display_data"
    },
    {
     "name": "stdout",
     "output_type": "stream",
     "text": [
      "\n",
      "\n",
      "----------------------------------\n",
      "Option  4 :  SDDS\n",
      "SUM [0, 1]\n",
      "SUM [1, 0]\n",
      "S [0]\n",
      "SUM [1, 0]\n",
      "H [0]\n",
      "SUM [0, 1]\n",
      "\n",
      "\n",
      "SUM [0, 1]\n",
      "SUM [1, 0]\n",
      "S [0]\n",
      "SUM [1, 0]\n",
      "H [1]\n",
      "SUM [1, 0]\n",
      "\n"
     ]
    },
    {
     "data": {
      "text/latex": [
       "$\\displaystyle \\left({X^{r_{1} + r_{2} + s_{2}} Z^{r_{2} + s_{1} + s_{2}}}\\right)\\otimes \\left({X^{r_{2} + s_{2}} Z^{r_{1} + s_{1} + s_{2}}}\\right)$"
      ],
      "text/plain": [
       "(X**(r1 + r2 + s2)*Z**(r2 + s1 + s2))x(X**(r2 + s2)*Z**(r1 + s1 + s2))"
      ]
     },
     "metadata": {},
     "output_type": "display_data"
    },
    {
     "name": "stdout",
     "output_type": "stream",
     "text": [
      "\n",
      "SUM [0, 1]\n",
      "S [0]\n",
      "S [1]\n",
      "H [0]\n",
      "SUM [1, 0]\n",
      "SUM [0, 1]\n",
      "S [1]\n",
      "SUM [0, 1]\n",
      "S [1]\n",
      "H [1]\n",
      "S [1]\n",
      "SUM [0, 1]\n",
      "\n"
     ]
    },
    {
     "data": {
      "text/latex": [
       "$\\displaystyle \\left({X^{r_{2} + s_{1} + s_{2}} Z^{r_{1} + r_{2} + s_{2}}}\\right)\\otimes \\left({X^{r_{2} + s_{2}} Z^{r_{1} + r_{2} + s_{1}}}\\right)$"
      ],
      "text/plain": [
       "(X**(r2 + s1 + s2)*Z**(r1 + r2 + s2))x(X**(r2 + s2)*Z**(r1 + r2 + s1))"
      ]
     },
     "metadata": {},
     "output_type": "display_data"
    },
    {
     "name": "stdout",
     "output_type": "stream",
     "text": [
      "\n",
      "SUM [1, 0]\n",
      "SUM [0, 1]\n",
      "S [0]\n",
      "S [1]\n",
      "H [1]\n",
      "SUM [1, 0]\n",
      "S [1]\n",
      "SUM [0, 1]\n",
      "S [1]\n",
      "H [1]\n",
      "S [1]\n",
      "SUM [0, 1]\n",
      "\n"
     ]
    },
    {
     "data": {
      "text/latex": [
       "$\\displaystyle \\left({X^{r_{2} + s_{1} + s_{2}} Z^{r_{1} + r_{2} + s_{2}}}\\right)\\otimes \\left({X^{r_{2} + s_{2}} Z^{r_{1} + r_{2} + s_{1}}}\\right)$"
      ],
      "text/plain": [
       "(X**(r2 + s1 + s2)*Z**(r1 + r2 + s2))x(X**(r2 + s2)*Z**(r1 + r2 + s1))"
      ]
     },
     "metadata": {},
     "output_type": "display_data"
    },
    {
     "name": "stdout",
     "output_type": "stream",
     "text": [
      "\n",
      "SUM [1, 0]\n",
      "SUM [0, 1]\n",
      "S [0]\n",
      "S [1]\n",
      "H [0]\n",
      "SUM [0, 1]\n",
      "S [1]\n",
      "SUM [0, 1]\n",
      "S [1]\n",
      "H [1]\n",
      "S [1]\n",
      "SUM [0, 1]\n",
      "\n"
     ]
    },
    {
     "data": {
      "text/latex": [
       "$\\displaystyle \\left({X^{r_{1} + r_{2} + s_{2}} Z^{r_{2} + s_{1} + s_{2}}}\\right)\\otimes \\left({X^{r_{1} + s_{1} + s_{2}} Z^{r_{1} + r_{2} + s_{1}}}\\right)$"
      ],
      "text/plain": [
       "(X**(r1 + r2 + s2)*Z**(r2 + s1 + s2))x(X**(r1 + s1 + s2)*Z**(r1 + r2 + s1))"
      ]
     },
     "metadata": {},
     "output_type": "display_data"
    },
    {
     "name": "stdout",
     "output_type": "stream",
     "text": [
      "\n",
      "S [0]\n",
      "H [1]\n",
      "S [1]\n",
      "H [1]\n",
      "SUM [1, 0]\n",
      "S [0]\n",
      "SUM [1, 0]\n",
      "S [0]\n",
      "SUM [1, 0]\n",
      "H [1]\n",
      "SUM [0, 1]\n",
      "S [0]\n",
      "\n"
     ]
    },
    {
     "data": {
      "text/latex": [
       "$\\displaystyle \\left({X^{r_{1} + r_{2} + s_{2}} Z^{r_{2} + s_{1} + s_{2}}}\\right)\\otimes \\left({X^{r_{1} + r_{2} + s_{1}} Z^{r_{2} + s_{2}}}\\right)$"
      ],
      "text/plain": [
       "(X**(r1 + r2 + s2)*Z**(r2 + s1 + s2))x(X**(r1 + r2 + s1)*Z**(r2 + s2))"
      ]
     },
     "metadata": {},
     "output_type": "display_data"
    },
    {
     "name": "stdout",
     "output_type": "stream",
     "text": [
      "\n",
      "SUM [1, 0]\n",
      "SUM [0, 1]\n",
      "S [0]\n",
      "SUM [1, 0]\n",
      "H [0]\n",
      "SUM [0, 1]\n",
      "S [0]\n",
      "S [1]\n",
      "SUM [0, 1]\n",
      "S [1]\n",
      "H [1]\n",
      "S [1]\n",
      "SUM [0, 1]\n",
      "\n"
     ]
    },
    {
     "data": {
      "text/latex": [
       "$\\displaystyle \\left({X^{r_{1} + r_{2} + s_{2}} Z^{r_{2} + s_{1} + s_{2}}}\\right)\\otimes \\left({X^{r_{1} + r_{2} + s_{1}} Z^{r_{1} + s_{1} + s_{2}}}\\right)$"
      ],
      "text/plain": [
       "(X**(r1 + r2 + s2)*Z**(r2 + s1 + s2))x(X**(r1 + r2 + s1)*Z**(r1 + s1 + s2))"
      ]
     },
     "metadata": {},
     "output_type": "display_data"
    },
    {
     "name": "stdout",
     "output_type": "stream",
     "text": [
      "\n",
      "S [0]\n",
      "SUM [1, 0]\n",
      "H [1]\n",
      "SUM [1, 0]\n",
      "S [0]\n",
      "S [1]\n",
      "H [1]\n",
      "SUM [1, 0]\n",
      "S [0]\n",
      "SUM [1, 0]\n",
      "H [1]\n",
      "SUM [0, 1]\n",
      "S [0]\n",
      "\n"
     ]
    },
    {
     "data": {
      "text/latex": [
       "$\\displaystyle \\left({X^{r_{2} + s_{1} + s_{2}} Z^{r_{1} + r_{2} + s_{2}}}\\right)\\otimes \\left({X^{r_{1} + r_{2} + s_{1}} Z^{r_{2} + s_{2}}}\\right)$"
      ],
      "text/plain": [
       "(X**(r2 + s1 + s2)*Z**(r1 + r2 + s2))x(X**(r1 + r2 + s1)*Z**(r2 + s2))"
      ]
     },
     "metadata": {},
     "output_type": "display_data"
    },
    {
     "name": "stdout",
     "output_type": "stream",
     "text": [
      "\n",
      "S [0]\n",
      "SUM [1, 0]\n",
      "H [1]\n",
      "SUM [1, 0]\n",
      "S [0]\n",
      "S [1]\n",
      "H [1]\n",
      "SUM [1, 0]\n",
      "S [0]\n",
      "SUM [1, 0]\n",
      "H [1]\n",
      "SUM [0, 1]\n",
      "S [0]\n",
      "\n"
     ]
    },
    {
     "data": {
      "text/latex": [
       "$\\displaystyle \\left({X^{r_{2} + s_{1} + s_{2}} Z^{r_{1} + r_{2} + s_{2}}}\\right)\\otimes \\left({X^{r_{1} + r_{2} + s_{1}} Z^{r_{2} + s_{2}}}\\right)$"
      ],
      "text/plain": [
       "(X**(r2 + s1 + s2)*Z**(r1 + r2 + s2))x(X**(r1 + r2 + s1)*Z**(r2 + s2))"
      ]
     },
     "metadata": {},
     "output_type": "display_data"
    },
    {
     "name": "stdout",
     "output_type": "stream",
     "text": [
      "\n",
      "SUM [0, 1]\n",
      "SUM [1, 0]\n",
      "S [0]\n",
      "H [0]\n",
      "H [1]\n",
      "S [1]\n",
      "SUM [0, 1]\n",
      "S [0]\n",
      "SUM [0, 1]\n",
      "S [1]\n",
      "SUM [0, 1]\n",
      "H [1]\n",
      "SUM [0, 1]\n",
      "S [0]\n",
      "\n"
     ]
    },
    {
     "data": {
      "text/latex": [
       "$\\displaystyle \\left({X^{r_{2} + s_{1} + s_{2}} Z^{r_{1} + r_{2} + s_{2}}}\\right)\\otimes \\left({X^{r_{1} + s_{1} + s_{2}} Z^{r_{2} + s_{2}}}\\right)$"
      ],
      "text/plain": [
       "(X**(r2 + s1 + s2)*Z**(r1 + r2 + s2))x(X**(r1 + s1 + s2)*Z**(r2 + s2))"
      ]
     },
     "metadata": {},
     "output_type": "display_data"
    },
    {
     "name": "stdout",
     "output_type": "stream",
     "text": [
      "\n",
      "S [0]\n",
      "SUM [1, 0]\n",
      "H [1]\n",
      "SUM [1, 0]\n",
      "S [0]\n",
      "H [0]\n",
      "S [1]\n",
      "H [1]\n",
      "SUM [1, 0]\n",
      "S [0]\n",
      "SUM [1, 0]\n",
      "H [1]\n",
      "SUM [0, 1]\n",
      "S [0]\n",
      "\n"
     ]
    },
    {
     "data": {
      "text/latex": [
       "$\\displaystyle \\left({X^{r_{1} + r_{2} + s_{2}} Z^{r_{2} + s_{1} + s_{2}}}\\right)\\otimes \\left({X^{r_{1} + r_{2} + s_{1}} Z^{r_{2} + s_{2}}}\\right)$"
      ],
      "text/plain": [
       "(X**(r1 + r2 + s2)*Z**(r2 + s1 + s2))x(X**(r1 + r2 + s1)*Z**(r2 + s2))"
      ]
     },
     "metadata": {},
     "output_type": "display_data"
    },
    {
     "name": "stdout",
     "output_type": "stream",
     "text": [
      "\n",
      "S [0]\n",
      "SUM [1, 0]\n",
      "H [1]\n",
      "SUM [1, 0]\n",
      "S [0]\n",
      "H [1]\n",
      "S [1]\n",
      "H [1]\n",
      "SUM [1, 0]\n",
      "S [0]\n",
      "SUM [1, 0]\n",
      "H [1]\n",
      "SUM [0, 1]\n",
      "S [0]\n",
      "\n"
     ]
    },
    {
     "data": {
      "text/latex": [
       "$\\displaystyle \\left({X^{r_{2} + s_{1} + s_{2}} Z^{r_{1} + r_{2} + s_{2}}}\\right)\\otimes \\left({X^{r_{1} + s_{1} + s_{2}} Z^{r_{2} + s_{2}}}\\right)$"
      ],
      "text/plain": [
       "(X**(r2 + s1 + s2)*Z**(r1 + r2 + s2))x(X**(r1 + s1 + s2)*Z**(r2 + s2))"
      ]
     },
     "metadata": {},
     "output_type": "display_data"
    },
    {
     "name": "stdout",
     "output_type": "stream",
     "text": [
      "\n",
      "S [0]\n",
      "SUM [1, 0]\n",
      "SUM [0, 1]\n",
      "S [0]\n",
      "H [0]\n",
      "SUM [0, 1]\n",
      "S [1]\n",
      "H [1]\n",
      "SUM [1, 0]\n",
      "S [0]\n",
      "SUM [1, 0]\n",
      "H [1]\n",
      "SUM [0, 1]\n",
      "S [0]\n",
      "\n"
     ]
    },
    {
     "data": {
      "text/latex": [
       "$\\displaystyle \\left({X^{r_{1} + r_{2} + s_{2}} Z^{r_{2} + s_{1} + s_{2}}}\\right)\\otimes \\left({X^{r_{1} + s_{1} + s_{2}} Z^{r_{1} + r_{2} + s_{1}}}\\right)$"
      ],
      "text/plain": [
       "(X**(r1 + r2 + s2)*Z**(r2 + s1 + s2))x(X**(r1 + s1 + s2)*Z**(r1 + r2 + s1))"
      ]
     },
     "metadata": {},
     "output_type": "display_data"
    },
    {
     "name": "stdout",
     "output_type": "stream",
     "text": [
      "\n",
      "S [0]\n",
      "SUM [1, 0]\n",
      "SUM [0, 1]\n",
      "S [0]\n",
      "H [1]\n",
      "SUM [1, 0]\n",
      "S [1]\n",
      "H [1]\n",
      "SUM [1, 0]\n",
      "S [0]\n",
      "SUM [1, 0]\n",
      "H [1]\n",
      "SUM [0, 1]\n",
      "S [0]\n",
      "\n"
     ]
    },
    {
     "data": {
      "text/latex": [
       "$\\displaystyle \\left({X^{r_{2} + s_{1} + s_{2}} Z^{r_{1} + r_{2} + s_{2}}}\\right)\\otimes \\left({X^{r_{2} + s_{2}} Z^{r_{1} + r_{2} + s_{1}}}\\right)$"
      ],
      "text/plain": [
       "(X**(r2 + s1 + s2)*Z**(r1 + r2 + s2))x(X**(r2 + s2)*Z**(r1 + r2 + s1))"
      ]
     },
     "metadata": {},
     "output_type": "display_data"
    },
    {
     "name": "stdout",
     "output_type": "stream",
     "text": [
      "\n",
      "\n",
      "----------------------------------\n",
      "Option  5 :  SDSD\n",
      "SUM [1, 0]\n",
      "SUM [0, 1]\n",
      "S [0]\n",
      "SUM [1, 0]\n",
      "H [0]\n",
      "SUM [0, 1]\n",
      "S [0]\n",
      "\n",
      "\n",
      "S [0]\n",
      "SUM [1, 0]\n",
      "H [1]\n",
      "SUM [1, 0]\n",
      "S [0]\n",
      "SUM [0, 1]\n",
      "S [1]\n",
      "H [1]\n",
      "S [1]\n",
      "SUM [0, 1]\n",
      "\n"
     ]
    },
    {
     "data": {
      "text/latex": [
       "$\\displaystyle \\left({X^{r_{2} + s_{1} + s_{2}} Z^{r_{1} + r_{2} + s_{2}}}\\right)\\otimes \\left({X^{r_{2} + s_{2}} Z^{r_{1} + r_{2} + s_{1}}}\\right)$"
      ],
      "text/plain": [
       "(X**(r2 + s1 + s2)*Z**(r1 + r2 + s2))x(X**(r2 + s2)*Z**(r1 + r2 + s1))"
      ]
     },
     "metadata": {},
     "output_type": "display_data"
    },
    {
     "name": "stdout",
     "output_type": "stream",
     "text": [
      "\n",
      "S [0]\n",
      "SUM [1, 0]\n",
      "H [1]\n",
      "SUM [1, 0]\n",
      "S [0]\n",
      "H [0]\n",
      "SUM [0, 1]\n",
      "S [1]\n",
      "H [1]\n",
      "S [1]\n",
      "SUM [0, 1]\n",
      "\n"
     ]
    },
    {
     "data": {
      "text/latex": [
       "$\\displaystyle \\left({X^{r_{1} + r_{2} + s_{2}} Z^{r_{2} + s_{1} + s_{2}}}\\right)\\otimes \\left({X^{r_{2} + s_{2}} Z^{r_{1} + r_{2} + s_{1}}}\\right)$"
      ],
      "text/plain": [
       "(X**(r1 + r2 + s2)*Z**(r2 + s1 + s2))x(X**(r2 + s2)*Z**(r1 + r2 + s1))"
      ]
     },
     "metadata": {},
     "output_type": "display_data"
    },
    {
     "name": "stdout",
     "output_type": "stream",
     "text": [
      "\n",
      "SUM [0, 1]\n",
      "SUM [1, 0]\n",
      "S [0]\n",
      "SUM [1, 0]\n",
      "H [1]\n",
      "SUM [1, 0]\n",
      "SUM [0, 1]\n",
      "S [1]\n",
      "H [1]\n",
      "S [1]\n",
      "SUM [0, 1]\n",
      "\n"
     ]
    },
    {
     "data": {
      "text/latex": [
       "$\\displaystyle \\left({X^{r_{1} + r_{2} + s_{2}} Z^{r_{2} + s_{1} + s_{2}}}\\right)\\otimes \\left({X^{r_{1} + r_{2} + s_{1}} Z^{r_{1} + s_{1} + s_{2}}}\\right)$"
      ],
      "text/plain": [
       "(X**(r1 + r2 + s2)*Z**(r2 + s1 + s2))x(X**(r1 + r2 + s1)*Z**(r1 + s1 + s2))"
      ]
     },
     "metadata": {},
     "output_type": "display_data"
    },
    {
     "name": "stdout",
     "output_type": "stream",
     "text": [
      "\n",
      "S [0]\n",
      "SUM [1, 0]\n",
      "SUM [0, 1]\n",
      "S [0]\n",
      "H [1]\n",
      "SUM [1, 0]\n",
      "SUM [0, 1]\n",
      "S [1]\n",
      "H [1]\n",
      "S [1]\n",
      "SUM [0, 1]\n",
      "\n"
     ]
    },
    {
     "data": {
      "text/latex": [
       "$\\displaystyle \\left({X^{r_{2} + s_{1} + s_{2}} Z^{r_{1} + r_{2} + s_{2}}}\\right)\\otimes \\left({X^{r_{1} + r_{2} + s_{1}} Z^{r_{2} + s_{2}}}\\right)$"
      ],
      "text/plain": [
       "(X**(r2 + s1 + s2)*Z**(r1 + r2 + s2))x(X**(r1 + r2 + s1)*Z**(r2 + s2))"
      ]
     },
     "metadata": {},
     "output_type": "display_data"
    },
    {
     "name": "stdout",
     "output_type": "stream",
     "text": [
      "\n",
      "S [0]\n",
      "SUM [1, 0]\n",
      "H [1]\n",
      "SUM [1, 0]\n",
      "S [0]\n",
      "H [1]\n",
      "SUM [0, 1]\n",
      "S [1]\n",
      "SUM [0, 1]\n",
      "H [1]\n",
      "SUM [0, 1]\n",
      "S [0]\n",
      "\n"
     ]
    },
    {
     "data": {
      "text/latex": [
       "$\\displaystyle \\left({X^{r_{2} + s_{1} + s_{2}} Z^{r_{1} + r_{2} + s_{2}}}\\right)\\otimes \\left({X^{r_{2} + s_{2}} Z^{r_{1} + r_{2} + s_{1}}}\\right)$"
      ],
      "text/plain": [
       "(X**(r2 + s1 + s2)*Z**(r1 + r2 + s2))x(X**(r2 + s2)*Z**(r1 + r2 + s1))"
      ]
     },
     "metadata": {},
     "output_type": "display_data"
    },
    {
     "name": "stdout",
     "output_type": "stream",
     "text": [
      "\n",
      "SUM [0, 1]\n",
      "SUM [1, 0]\n",
      "S [0]\n",
      "SUM [1, 0]\n",
      "H [0]\n",
      "SUM [0, 1]\n",
      "SUM [0, 1]\n",
      "S [1]\n",
      "SUM [0, 1]\n",
      "H [1]\n",
      "SUM [0, 1]\n",
      "S [0]\n",
      "\n"
     ]
    },
    {
     "data": {
      "text/latex": [
       "$\\displaystyle \\left({X^{r_{2} + s_{1} + s_{2}} Z^{r_{1} + r_{2} + s_{2}}}\\right)\\otimes \\left({X^{r_{1} + r_{2} + s_{1}} Z^{r_{1} + s_{1} + s_{2}}}\\right)$"
      ],
      "text/plain": [
       "(X**(r2 + s1 + s2)*Z**(r1 + r2 + s2))x(X**(r1 + r2 + s1)*Z**(r1 + s1 + s2))"
      ]
     },
     "metadata": {},
     "output_type": "display_data"
    },
    {
     "name": "stdout",
     "output_type": "stream",
     "text": [
      "\n",
      "S [0]\n",
      "SUM [1, 0]\n",
      "SUM [0, 1]\n",
      "S [0]\n",
      "H [0]\n",
      "SUM [0, 1]\n",
      "SUM [0, 1]\n",
      "S [1]\n",
      "SUM [0, 1]\n",
      "H [1]\n",
      "SUM [0, 1]\n",
      "S [0]\n",
      "\n"
     ]
    },
    {
     "data": {
      "text/latex": [
       "$\\displaystyle \\left({X^{r_{1} + r_{2} + s_{2}} Z^{r_{2} + s_{1} + s_{2}}}\\right)\\otimes \\left({X^{r_{1} + r_{2} + s_{1}} Z^{r_{2} + s_{2}}}\\right)$"
      ],
      "text/plain": [
       "(X**(r1 + r2 + s2)*Z**(r2 + s1 + s2))x(X**(r1 + r2 + s1)*Z**(r2 + s2))"
      ]
     },
     "metadata": {},
     "output_type": "display_data"
    },
    {
     "name": "stdout",
     "output_type": "stream",
     "text": [
      "\n",
      "S [0]\n",
      "SUM [1, 0]\n",
      "H [1]\n",
      "SUM [1, 0]\n",
      "S [0]\n",
      "S [1]\n",
      "S [1]\n",
      "SUM [0, 1]\n",
      "S [1]\n",
      "H [1]\n",
      "S [1]\n",
      "SUM [0, 1]\n",
      "\n"
     ]
    },
    {
     "data": {
      "text/latex": [
       "$\\displaystyle \\left({X^{r_{2} + s_{1} + s_{2}} Z^{r_{1} + r_{2} + s_{2}}}\\right)\\otimes \\left({X^{r_{2} + s_{2}} Z^{r_{1} + r_{2} + s_{1}}}\\right)$"
      ],
      "text/plain": [
       "(X**(r2 + s1 + s2)*Z**(r1 + r2 + s2))x(X**(r2 + s2)*Z**(r1 + r2 + s1))"
      ]
     },
     "metadata": {},
     "output_type": "display_data"
    },
    {
     "name": "stdout",
     "output_type": "stream",
     "text": [
      "\n",
      "S [0]\n",
      "H [1]\n",
      "S [1]\n",
      "H [1]\n",
      "SUM [1, 0]\n",
      "S [0]\n",
      "S [1]\n",
      "SUM [0, 1]\n",
      "S [1]\n",
      "H [1]\n",
      "S [1]\n",
      "SUM [0, 1]\n",
      "\n"
     ]
    },
    {
     "data": {
      "text/latex": [
       "$\\displaystyle \\left({X^{r_{1} + r_{2} + s_{2}} Z^{r_{2} + s_{1} + s_{2}}}\\right)\\otimes \\left({X^{r_{1} + s_{1} + s_{2}} Z^{r_{1} + r_{2} + s_{1}}}\\right)$"
      ],
      "text/plain": [
       "(X**(r1 + r2 + s2)*Z**(r2 + s1 + s2))x(X**(r1 + s1 + s2)*Z**(r1 + r2 + s1))"
      ]
     },
     "metadata": {},
     "output_type": "display_data"
    },
    {
     "name": "stdout",
     "output_type": "stream",
     "text": [
      "\n",
      "SUM [1, 0]\n",
      "SUM [0, 1]\n",
      "S [0]\n",
      "S [1]\n",
      "H [0]\n",
      "SUM [0, 1]\n",
      "SUM [1, 0]\n",
      "S [0]\n",
      "SUM [1, 0]\n",
      "H [1]\n",
      "SUM [0, 1]\n",
      "S [0]\n",
      "\n"
     ]
    },
    {
     "data": {
      "text/latex": [
       "$\\displaystyle \\left({X^{r_{1} + r_{2} + s_{2}} Z^{r_{2} + s_{1} + s_{2}}}\\right)\\otimes \\left({X^{r_{1} + r_{2} + s_{1}} Z^{r_{2} + s_{2}}}\\right)$"
      ],
      "text/plain": [
       "(X**(r1 + r2 + s2)*Z**(r2 + s1 + s2))x(X**(r1 + r2 + s1)*Z**(r2 + s2))"
      ]
     },
     "metadata": {},
     "output_type": "display_data"
    },
    {
     "name": "stdout",
     "output_type": "stream",
     "text": [
      "\n",
      "SUM [0, 1]\n",
      "S [0]\n",
      "S [1]\n",
      "H [0]\n",
      "SUM [1, 0]\n",
      "SUM [0, 1]\n",
      "H [1]\n",
      "SUM [1, 0]\n",
      "S [0]\n",
      "SUM [1, 0]\n",
      "H [1]\n",
      "SUM [0, 1]\n",
      "S [0]\n",
      "\n"
     ]
    },
    {
     "data": {
      "text/latex": [
       "$\\displaystyle \\left({X^{r_{2} + s_{1} + s_{2}} Z^{r_{1} + r_{2} + s_{2}}}\\right)\\otimes \\left({X^{r_{1} + r_{2} + s_{1}} Z^{r_{2} + s_{2}}}\\right)$"
      ],
      "text/plain": [
       "(X**(r2 + s1 + s2)*Z**(r1 + r2 + s2))x(X**(r1 + r2 + s1)*Z**(r2 + s2))"
      ]
     },
     "metadata": {},
     "output_type": "display_data"
    },
    {
     "name": "stdout",
     "output_type": "stream",
     "text": [
      "\n",
      "SUM [1, 0]\n",
      "SUM [0, 1]\n",
      "S [0]\n",
      "S [1]\n",
      "H [1]\n",
      "SUM [1, 0]\n",
      "H [1]\n",
      "SUM [1, 0]\n",
      "S [0]\n",
      "SUM [1, 0]\n",
      "H [1]\n",
      "SUM [0, 1]\n",
      "S [0]\n",
      "\n"
     ]
    },
    {
     "data": {
      "text/latex": [
       "$\\displaystyle \\left({X^{r_{2} + s_{1} + s_{2}} Z^{r_{1} + r_{2} + s_{2}}}\\right)\\otimes \\left({X^{r_{1} + r_{2} + s_{1}} Z^{r_{2} + s_{2}}}\\right)$"
      ],
      "text/plain": [
       "(X**(r2 + s1 + s2)*Z**(r1 + r2 + s2))x(X**(r1 + r2 + s1)*Z**(r2 + s2))"
      ]
     },
     "metadata": {},
     "output_type": "display_data"
    },
    {
     "name": "stdout",
     "output_type": "stream",
     "text": [
      "\n",
      "SUM [0, 1]\n",
      "SUM [1, 0]\n",
      "S [0]\n",
      "H [0]\n",
      "H [1]\n",
      "S [1]\n",
      "SUM [0, 1]\n",
      "S [0]\n",
      "H [1]\n",
      "SUM [1, 0]\n",
      "S [0]\n",
      "SUM [1, 0]\n",
      "H [1]\n",
      "SUM [0, 1]\n",
      "S [0]\n",
      "\n"
     ]
    },
    {
     "data": {
      "text/latex": [
       "$\\displaystyle \\left({X^{r_{2} + s_{1} + s_{2}} Z^{r_{1} + r_{2} + s_{2}}}\\right)\\otimes \\left({X^{r_{1} + s_{1} + s_{2}} Z^{r_{1} + r_{2} + s_{1}}}\\right)$"
      ],
      "text/plain": [
       "(X**(r2 + s1 + s2)*Z**(r1 + r2 + s2))x(X**(r1 + s1 + s2)*Z**(r1 + r2 + s1))"
      ]
     },
     "metadata": {},
     "output_type": "display_data"
    },
    {
     "name": "stdout",
     "output_type": "stream",
     "text": [
      "\n",
      "\n",
      "----------------------------------\n",
      "Option  6 :  SSDD\n",
      "SUM [0, 1]\n",
      "S [0]\n",
      "S [1]\n",
      "H [0]\n",
      "SUM [1, 0]\n",
      "SUM [0, 1]\n",
      "\n",
      "\n",
      "SUM [1, 0]\n",
      "SUM [0, 1]\n",
      "S [0]\n",
      "S [1]\n",
      "H [1]\n",
      "SUM [1, 0]\n",
      "\n"
     ]
    },
    {
     "data": {
      "text/latex": [
       "$\\displaystyle \\left({X^{r_{2} + s_{1} + s_{2}} Z^{r_{1} + r_{2} + s_{2}}}\\right)\\otimes \\left({X^{r_{1} + s_{1} + s_{2}} Z^{r_{2} + s_{2}}}\\right)$"
      ],
      "text/plain": [
       "(X**(r2 + s1 + s2)*Z**(r1 + r2 + s2))x(X**(r1 + s1 + s2)*Z**(r2 + s2))"
      ]
     },
     "metadata": {},
     "output_type": "display_data"
    },
    {
     "name": "stdout",
     "output_type": "stream",
     "text": [
      "\n",
      "SUM [1, 0]\n",
      "SUM [0, 1]\n",
      "S [0]\n",
      "S [1]\n",
      "H [0]\n",
      "SUM [0, 1]\n",
      "\n"
     ]
    },
    {
     "data": {
      "text/latex": [
       "$\\displaystyle \\left({X^{r_{1} + r_{2} + s_{2}} Z^{r_{2} + s_{1} + s_{2}}}\\right)\\otimes \\left({X^{r_{2} + s_{2}} Z^{r_{1} + s_{1} + s_{2}}}\\right)$"
      ],
      "text/plain": [
       "(X**(r1 + r2 + s2)*Z**(r2 + s1 + s2))x(X**(r2 + s2)*Z**(r1 + s1 + s2))"
      ]
     },
     "metadata": {},
     "output_type": "display_data"
    },
    {
     "name": "stdout",
     "output_type": "stream",
     "text": [
      "\n",
      "S [0]\n",
      "SUM [1, 0]\n",
      "H [1]\n",
      "SUM [1, 0]\n",
      "S [0]\n",
      "H [1]\n",
      "SUM [0, 1]\n",
      "S [1]\n",
      "H [1]\n",
      "S [1]\n",
      "SUM [0, 1]\n",
      "\n"
     ]
    },
    {
     "data": {
      "text/latex": [
       "$\\displaystyle \\left({X^{r_{2} + s_{1} + s_{2}} Z^{r_{1} + r_{2} + s_{2}}}\\right)\\otimes \\left({X^{r_{2} + s_{2}} Z^{r_{1} + s_{1} + s_{2}}}\\right)$"
      ],
      "text/plain": [
       "(X**(r2 + s1 + s2)*Z**(r1 + r2 + s2))x(X**(r2 + s2)*Z**(r1 + s1 + s2))"
      ]
     },
     "metadata": {},
     "output_type": "display_data"
    },
    {
     "name": "stdout",
     "output_type": "stream",
     "text": [
      "\n",
      "S [0]\n",
      "H [1]\n",
      "S [1]\n",
      "H [1]\n",
      "SUM [1, 0]\n",
      "S [0]\n",
      "SUM [0, 1]\n",
      "S [1]\n",
      "H [1]\n",
      "S [1]\n",
      "SUM [0, 1]\n",
      "\n"
     ]
    },
    {
     "data": {
      "text/latex": [
       "$\\displaystyle \\left({X^{r_{1} + r_{2} + s_{2}} Z^{r_{2} + s_{1} + s_{2}}}\\right)\\otimes \\left({X^{r_{1} + r_{2} + s_{1}} Z^{r_{1} + s_{1} + s_{2}}}\\right)$"
      ],
      "text/plain": [
       "(X**(r1 + r2 + s2)*Z**(r2 + s1 + s2))x(X**(r1 + r2 + s1)*Z**(r1 + s1 + s2))"
      ]
     },
     "metadata": {},
     "output_type": "display_data"
    },
    {
     "name": "stdout",
     "output_type": "stream",
     "text": [
      "\n",
      "S [0]\n",
      "SUM [1, 0]\n",
      "H [1]\n",
      "SUM [1, 0]\n",
      "S [0]\n",
      "SUM [0, 1]\n",
      "S [1]\n",
      "SUM [0, 1]\n",
      "H [1]\n",
      "SUM [0, 1]\n",
      "S [0]\n",
      "\n"
     ]
    },
    {
     "data": {
      "text/latex": [
       "$\\displaystyle \\left({X^{r_{2} + s_{1} + s_{2}} Z^{r_{1} + r_{2} + s_{2}}}\\right)\\otimes \\left({X^{r_{2} + s_{2}} Z^{r_{1} + s_{1} + s_{2}}}\\right)$"
      ],
      "text/plain": [
       "(X**(r2 + s1 + s2)*Z**(r1 + r2 + s2))x(X**(r2 + s2)*Z**(r1 + s1 + s2))"
      ]
     },
     "metadata": {},
     "output_type": "display_data"
    },
    {
     "name": "stdout",
     "output_type": "stream",
     "text": [
      "\n",
      "S [0]\n",
      "SUM [1, 0]\n",
      "H [1]\n",
      "SUM [1, 0]\n",
      "S [0]\n",
      "H [0]\n",
      "SUM [0, 1]\n",
      "S [1]\n",
      "SUM [0, 1]\n",
      "H [1]\n",
      "SUM [0, 1]\n",
      "S [0]\n",
      "\n"
     ]
    },
    {
     "data": {
      "text/latex": [
       "$\\displaystyle \\left({X^{r_{1} + r_{2} + s_{2}} Z^{r_{2} + s_{1} + s_{2}}}\\right)\\otimes \\left({X^{r_{2} + s_{2}} Z^{r_{1} + s_{1} + s_{2}}}\\right)$"
      ],
      "text/plain": [
       "(X**(r1 + r2 + s2)*Z**(r2 + s1 + s2))x(X**(r2 + s2)*Z**(r1 + s1 + s2))"
      ]
     },
     "metadata": {},
     "output_type": "display_data"
    },
    {
     "name": "stdout",
     "output_type": "stream",
     "text": [
      "\n",
      "S [0]\n",
      "SUM [1, 0]\n",
      "H [1]\n",
      "SUM [1, 0]\n",
      "S [0]\n",
      "S [1]\n",
      "SUM [0, 1]\n",
      "S [1]\n",
      "SUM [0, 1]\n",
      "H [1]\n",
      "SUM [0, 1]\n",
      "S [0]\n",
      "\n"
     ]
    },
    {
     "data": {
      "text/latex": [
       "$\\displaystyle \\left({X^{r_{2} + s_{1} + s_{2}} Z^{r_{1} + r_{2} + s_{2}}}\\right)\\otimes \\left({X^{r_{1} + r_{2} + s_{1}} Z^{r_{1} + s_{1} + s_{2}}}\\right)$"
      ],
      "text/plain": [
       "(X**(r2 + s1 + s2)*Z**(r1 + r2 + s2))x(X**(r1 + r2 + s1)*Z**(r1 + s1 + s2))"
      ]
     },
     "metadata": {},
     "output_type": "display_data"
    },
    {
     "name": "stdout",
     "output_type": "stream",
     "text": [
      "\n",
      "SUM [0, 1]\n",
      "SUM [1, 0]\n",
      "S [0]\n",
      "SUM [1, 0]\n",
      "H [0]\n",
      "SUM [0, 1]\n",
      "S [1]\n",
      "SUM [0, 1]\n",
      "S [1]\n",
      "H [1]\n",
      "S [1]\n",
      "SUM [0, 1]\n",
      "\n"
     ]
    },
    {
     "data": {
      "text/latex": [
       "$\\displaystyle \\left({X^{r_{2} + s_{1} + s_{2}} Z^{r_{1} + r_{2} + s_{2}}}\\right)\\otimes \\left({X^{r_{2} + s_{2}} Z^{r_{1} + r_{2} + s_{1}}}\\right)$"
      ],
      "text/plain": [
       "(X**(r2 + s1 + s2)*Z**(r1 + r2 + s2))x(X**(r2 + s2)*Z**(r1 + r2 + s1))"
      ]
     },
     "metadata": {},
     "output_type": "display_data"
    },
    {
     "name": "stdout",
     "output_type": "stream",
     "text": [
      "\n",
      "SUM [0, 1]\n",
      "SUM [1, 0]\n",
      "S [0]\n",
      "SUM [1, 0]\n",
      "H [1]\n",
      "SUM [1, 0]\n",
      "S [1]\n",
      "SUM [0, 1]\n",
      "S [1]\n",
      "H [1]\n",
      "S [1]\n",
      "SUM [0, 1]\n",
      "\n"
     ]
    },
    {
     "data": {
      "text/latex": [
       "$\\displaystyle \\left({X^{r_{1} + r_{2} + s_{2}} Z^{r_{2} + s_{1} + s_{2}}}\\right)\\otimes \\left({X^{r_{1} + s_{1} + s_{2}} Z^{r_{1} + r_{2} + s_{1}}}\\right)$"
      ],
      "text/plain": [
       "(X**(r1 + r2 + s2)*Z**(r2 + s1 + s2))x(X**(r1 + s1 + s2)*Z**(r1 + r2 + s1))"
      ]
     },
     "metadata": {},
     "output_type": "display_data"
    },
    {
     "name": "stdout",
     "output_type": "stream",
     "text": [
      "\n",
      "SUM [1, 0]\n",
      "SUM [0, 1]\n",
      "S [0]\n",
      "SUM [1, 0]\n",
      "H [0]\n",
      "SUM [0, 1]\n",
      "S [0]\n",
      "SUM [1, 0]\n",
      "S [0]\n",
      "SUM [1, 0]\n",
      "H [1]\n",
      "SUM [0, 1]\n",
      "S [0]\n",
      "\n"
     ]
    },
    {
     "data": {
      "text/latex": [
       "$\\displaystyle \\left({X^{r_{1} + r_{2} + s_{2}} Z^{r_{2} + s_{1} + s_{2}}}\\right)\\otimes \\left({X^{r_{1} + s_{1} + s_{2}} Z^{r_{2} + s_{2}}}\\right)$"
      ],
      "text/plain": [
       "(X**(r1 + r2 + s2)*Z**(r2 + s1 + s2))x(X**(r1 + s1 + s2)*Z**(r2 + s2))"
      ]
     },
     "metadata": {},
     "output_type": "display_data"
    },
    {
     "name": "stdout",
     "output_type": "stream",
     "text": [
      "\n",
      "SUM [0, 1]\n",
      "SUM [1, 0]\n",
      "S [0]\n",
      "H [0]\n",
      "H [1]\n",
      "S [1]\n",
      "SUM [0, 1]\n",
      "S [0]\n",
      "S [1]\n",
      "H [1]\n",
      "SUM [1, 0]\n",
      "S [0]\n",
      "SUM [1, 0]\n",
      "H [1]\n",
      "SUM [0, 1]\n",
      "S [0]\n",
      "\n"
     ]
    },
    {
     "data": {
      "text/latex": [
       "$\\displaystyle \\left({X^{r_{2} + s_{1} + s_{2}} Z^{r_{1} + r_{2} + s_{2}}}\\right)\\otimes \\left({X^{r_{1} + r_{2} + s_{1}} Z^{r_{1} + s_{1} + s_{2}}}\\right)$"
      ],
      "text/plain": [
       "(X**(r2 + s1 + s2)*Z**(r1 + r2 + s2))x(X**(r1 + r2 + s1)*Z**(r1 + s1 + s2))"
      ]
     },
     "metadata": {},
     "output_type": "display_data"
    },
    {
     "name": "stdout",
     "output_type": "stream",
     "text": [
      "\n",
      "S [0]\n",
      "SUM [1, 0]\n",
      "SUM [0, 1]\n",
      "S [0]\n",
      "H [0]\n",
      "SUM [0, 1]\n",
      "SUM [1, 0]\n",
      "S [0]\n",
      "SUM [1, 0]\n",
      "H [1]\n",
      "SUM [0, 1]\n",
      "S [0]\n",
      "SUM [0, 1]\n",
      "S [1]\n",
      "H [1]\n",
      "S [1]\n",
      "SUM [0, 1]\n",
      "\n"
     ]
    },
    {
     "data": {
      "text/latex": [
       "$\\displaystyle \\left({X^{r_{1} + r_{2} + s_{2}} Z^{r_{2} + s_{1} + s_{2}}}\\right)\\otimes \\left({X^{r_{1} + s_{1} + s_{2}} Z^{r_{2} + s_{2}}}\\right)$"
      ],
      "text/plain": [
       "(X**(r1 + r2 + s2)*Z**(r2 + s1 + s2))x(X**(r1 + s1 + s2)*Z**(r2 + s2))"
      ]
     },
     "metadata": {},
     "output_type": "display_data"
    },
    {
     "name": "stdout",
     "output_type": "stream",
     "text": [
      "\n",
      "S [0]\n",
      "SUM [1, 0]\n",
      "SUM [0, 1]\n",
      "S [0]\n",
      "H [1]\n",
      "SUM [1, 0]\n",
      "SUM [1, 0]\n",
      "S [0]\n",
      "SUM [1, 0]\n",
      "H [1]\n",
      "SUM [0, 1]\n",
      "S [0]\n",
      "SUM [0, 1]\n",
      "S [1]\n",
      "H [1]\n",
      "S [1]\n",
      "SUM [0, 1]\n",
      "\n"
     ]
    },
    {
     "data": {
      "text/latex": [
       "$\\displaystyle \\left({X^{r_{2} + s_{1} + s_{2}} Z^{r_{1} + r_{2} + s_{2}}}\\right)\\otimes \\left({X^{r_{2} + s_{2}} Z^{r_{1} + s_{1} + s_{2}}}\\right)$"
      ],
      "text/plain": [
       "(X**(r2 + s1 + s2)*Z**(r1 + r2 + s2))x(X**(r2 + s2)*Z**(r1 + s1 + s2))"
      ]
     },
     "metadata": {},
     "output_type": "display_data"
    },
    {
     "name": "stdout",
     "output_type": "stream",
     "text": [
      "\n",
      "\n",
      "----------------------------------\n",
      "Option  7 :  DDDD\n",
      "SUM [0, 1]\n",
      "SUM [1, 0]\n",
      "S [0]\n",
      "H [0]\n",
      "H [1]\n",
      "S [1]\n",
      "SUM [0, 1]\n",
      "S [0]\n",
      "\n",
      "\n",
      "SUM [0, 1]\n",
      "SUM [1, 0]\n",
      "S [0]\n",
      "SUM [1, 0]\n",
      "H [0]\n",
      "SUM [0, 1]\n",
      "SUM [0, 1]\n",
      "S [1]\n",
      "H [1]\n",
      "S [1]\n",
      "SUM [0, 1]\n",
      "\n"
     ]
    },
    {
     "data": {
      "text/latex": [
       "$\\displaystyle \\left({X^{r_{2} + s_{1} + s_{2}} Z^{r_{1} + r_{2} + s_{2}}}\\right)\\otimes \\left({X^{r_{1} + r_{2} + s_{1}} Z^{r_{2} + s_{2}}}\\right)$"
      ],
      "text/plain": [
       "(X**(r2 + s1 + s2)*Z**(r1 + r2 + s2))x(X**(r1 + r2 + s1)*Z**(r2 + s2))"
      ]
     },
     "metadata": {},
     "output_type": "display_data"
    },
    {
     "name": "stdout",
     "output_type": "stream",
     "text": [
      "\n",
      "S [0]\n",
      "SUM [1, 0]\n",
      "SUM [0, 1]\n",
      "S [0]\n",
      "H [0]\n",
      "SUM [0, 1]\n",
      "SUM [0, 1]\n",
      "S [1]\n",
      "H [1]\n",
      "S [1]\n",
      "SUM [0, 1]\n",
      "\n"
     ]
    },
    {
     "data": {
      "text/latex": [
       "$\\displaystyle \\left({X^{r_{1} + r_{2} + s_{2}} Z^{r_{2} + s_{1} + s_{2}}}\\right)\\otimes \\left({X^{r_{1} + r_{2} + s_{1}} Z^{r_{1} + s_{1} + s_{2}}}\\right)$"
      ],
      "text/plain": [
       "(X**(r1 + r2 + s2)*Z**(r2 + s1 + s2))x(X**(r1 + r2 + s1)*Z**(r1 + s1 + s2))"
      ]
     },
     "metadata": {},
     "output_type": "display_data"
    },
    {
     "name": "stdout",
     "output_type": "stream",
     "text": [
      "\n",
      "SUM [0, 1]\n",
      "SUM [1, 0]\n",
      "S [0]\n",
      "SUM [1, 0]\n",
      "H [1]\n",
      "SUM [1, 0]\n",
      "SUM [0, 1]\n",
      "S [1]\n",
      "SUM [0, 1]\n",
      "H [1]\n",
      "SUM [0, 1]\n",
      "S [0]\n",
      "\n"
     ]
    },
    {
     "data": {
      "text/latex": [
       "$\\displaystyle \\left({X^{r_{1} + r_{2} + s_{2}} Z^{r_{2} + s_{1} + s_{2}}}\\right)\\otimes \\left({X^{r_{1} + r_{2} + s_{1}} Z^{r_{2} + s_{2}}}\\right)$"
      ],
      "text/plain": [
       "(X**(r1 + r2 + s2)*Z**(r2 + s1 + s2))x(X**(r1 + r2 + s1)*Z**(r2 + s2))"
      ]
     },
     "metadata": {},
     "output_type": "display_data"
    },
    {
     "name": "stdout",
     "output_type": "stream",
     "text": [
      "\n",
      "S [0]\n",
      "SUM [1, 0]\n",
      "SUM [0, 1]\n",
      "S [0]\n",
      "H [1]\n",
      "SUM [1, 0]\n",
      "SUM [0, 1]\n",
      "S [1]\n",
      "SUM [0, 1]\n",
      "H [1]\n",
      "SUM [0, 1]\n",
      "S [0]\n",
      "\n"
     ]
    },
    {
     "data": {
      "text/latex": [
       "$\\displaystyle \\left({X^{r_{2} + s_{1} + s_{2}} Z^{r_{1} + r_{2} + s_{2}}}\\right)\\otimes \\left({X^{r_{1} + r_{2} + s_{1}} Z^{r_{1} + s_{1} + s_{2}}}\\right)$"
      ],
      "text/plain": [
       "(X**(r2 + s1 + s2)*Z**(r1 + r2 + s2))x(X**(r1 + r2 + s1)*Z**(r1 + s1 + s2))"
      ]
     },
     "metadata": {},
     "output_type": "display_data"
    },
    {
     "name": "stdout",
     "output_type": "stream",
     "text": [
      "\n",
      "SUM [0, 1]\n",
      "S [0]\n",
      "S [1]\n",
      "H [0]\n",
      "SUM [1, 0]\n",
      "SUM [0, 1]\n",
      "SUM [1, 0]\n",
      "S [0]\n",
      "SUM [1, 0]\n",
      "H [1]\n",
      "SUM [0, 1]\n",
      "S [0]\n",
      "\n"
     ]
    },
    {
     "data": {
      "text/latex": [
       "$\\displaystyle \\left({X^{r_{2} + s_{1} + s_{2}} Z^{r_{1} + r_{2} + s_{2}}}\\right)\\otimes \\left({X^{r_{1} + r_{2} + s_{1}} Z^{r_{1} + s_{1} + s_{2}}}\\right)$"
      ],
      "text/plain": [
       "(X**(r2 + s1 + s2)*Z**(r1 + r2 + s2))x(X**(r1 + r2 + s1)*Z**(r1 + s1 + s2))"
      ]
     },
     "metadata": {},
     "output_type": "display_data"
    },
    {
     "name": "stdout",
     "output_type": "stream",
     "text": [
      "\n",
      "SUM [1, 0]\n",
      "SUM [0, 1]\n",
      "S [0]\n",
      "S [1]\n",
      "H [1]\n",
      "SUM [1, 0]\n",
      "SUM [1, 0]\n",
      "S [0]\n",
      "SUM [1, 0]\n",
      "H [1]\n",
      "SUM [0, 1]\n",
      "S [0]\n",
      "\n"
     ]
    },
    {
     "data": {
      "text/latex": [
       "$\\displaystyle \\left({X^{r_{2} + s_{1} + s_{2}} Z^{r_{1} + r_{2} + s_{2}}}\\right)\\otimes \\left({X^{r_{1} + r_{2} + s_{1}} Z^{r_{1} + s_{1} + s_{2}}}\\right)$"
      ],
      "text/plain": [
       "(X**(r2 + s1 + s2)*Z**(r1 + r2 + s2))x(X**(r1 + r2 + s1)*Z**(r1 + s1 + s2))"
      ]
     },
     "metadata": {},
     "output_type": "display_data"
    },
    {
     "name": "stdout",
     "output_type": "stream",
     "text": [
      "\n",
      "SUM [1, 0]\n",
      "SUM [0, 1]\n",
      "S [0]\n",
      "S [1]\n",
      "H [0]\n",
      "SUM [0, 1]\n",
      "H [1]\n",
      "SUM [1, 0]\n",
      "S [0]\n",
      "SUM [1, 0]\n",
      "H [1]\n",
      "SUM [0, 1]\n",
      "S [0]\n",
      "\n"
     ]
    },
    {
     "data": {
      "text/latex": [
       "$\\displaystyle \\left({X^{r_{1} + r_{2} + s_{2}} Z^{r_{2} + s_{1} + s_{2}}}\\right)\\otimes \\left({X^{r_{1} + r_{2} + s_{1}} Z^{r_{1} + s_{1} + s_{2}}}\\right)$"
      ],
      "text/plain": [
       "(X**(r1 + r2 + s2)*Z**(r2 + s1 + s2))x(X**(r1 + r2 + s1)*Z**(r1 + s1 + s2))"
      ]
     },
     "metadata": {},
     "output_type": "display_data"
    },
    {
     "name": "stdout",
     "output_type": "stream",
     "text": [
      "\n",
      "SUM [1, 0]\n",
      "SUM [0, 1]\n",
      "S [0]\n",
      "SUM [1, 0]\n",
      "H [0]\n",
      "SUM [0, 1]\n",
      "S [0]\n",
      "H [1]\n",
      "SUM [1, 0]\n",
      "S [0]\n",
      "SUM [1, 0]\n",
      "H [1]\n",
      "SUM [0, 1]\n",
      "S [0]\n",
      "\n"
     ]
    },
    {
     "data": {
      "text/latex": [
       "$\\displaystyle \\left({X^{r_{1} + r_{2} + s_{2}} Z^{r_{2} + s_{1} + s_{2}}}\\right)\\otimes \\left({X^{r_{1} + s_{1} + s_{2}} Z^{r_{1} + r_{2} + s_{1}}}\\right)$"
      ],
      "text/plain": [
       "(X**(r1 + r2 + s2)*Z**(r2 + s1 + s2))x(X**(r1 + s1 + s2)*Z**(r1 + r2 + s1))"
      ]
     },
     "metadata": {},
     "output_type": "display_data"
    },
    {
     "name": "stdout",
     "output_type": "stream",
     "text": [
      "\n",
      "S [0]\n",
      "SUM [1, 0]\n",
      "H [1]\n",
      "SUM [1, 0]\n",
      "S [0]\n",
      "SUM [1, 0]\n",
      "S [0]\n",
      "SUM [1, 0]\n",
      "H [1]\n",
      "SUM [0, 1]\n",
      "S [0]\n",
      "SUM [0, 1]\n",
      "S [1]\n",
      "H [1]\n",
      "S [1]\n",
      "SUM [0, 1]\n",
      "\n"
     ]
    },
    {
     "data": {
      "text/latex": [
       "$\\displaystyle \\left({X^{r_{2} + s_{1} + s_{2}} Z^{r_{1} + r_{2} + s_{2}}}\\right)\\otimes \\left({X^{r_{1} + r_{2} + s_{1}} Z^{r_{1} + s_{1} + s_{2}}}\\right)$"
      ],
      "text/plain": [
       "(X**(r2 + s1 + s2)*Z**(r1 + r2 + s2))x(X**(r1 + r2 + s1)*Z**(r1 + s1 + s2))"
      ]
     },
     "metadata": {},
     "output_type": "display_data"
    },
    {
     "name": "stdout",
     "output_type": "stream",
     "text": [
      "\n",
      "S [0]\n",
      "SUM [1, 0]\n",
      "H [1]\n",
      "SUM [1, 0]\n",
      "S [0]\n",
      "H [0]\n",
      "SUM [1, 0]\n",
      "S [0]\n",
      "SUM [1, 0]\n",
      "H [1]\n",
      "SUM [0, 1]\n",
      "S [0]\n",
      "SUM [0, 1]\n",
      "S [1]\n",
      "H [1]\n",
      "S [1]\n",
      "SUM [0, 1]\n",
      "\n"
     ]
    },
    {
     "data": {
      "text/latex": [
       "$\\displaystyle \\left({X^{r_{1} + r_{2} + s_{2}} Z^{r_{2} + s_{1} + s_{2}}}\\right)\\otimes \\left({X^{r_{1} + r_{2} + s_{1}} Z^{r_{1} + s_{1} + s_{2}}}\\right)$"
      ],
      "text/plain": [
       "(X**(r1 + r2 + s2)*Z**(r2 + s1 + s2))x(X**(r1 + r2 + s1)*Z**(r1 + s1 + s2))"
      ]
     },
     "metadata": {},
     "output_type": "display_data"
    },
    {
     "name": "stdout",
     "output_type": "stream",
     "text": [
      "\n",
      "S [0]\n",
      "SUM [1, 0]\n",
      "H [1]\n",
      "SUM [1, 0]\n",
      "S [0]\n",
      "H [1]\n",
      "SUM [1, 0]\n",
      "S [0]\n",
      "SUM [1, 0]\n",
      "H [1]\n",
      "SUM [0, 1]\n",
      "S [0]\n",
      "SUM [0, 1]\n",
      "S [1]\n",
      "H [1]\n",
      "S [1]\n",
      "SUM [0, 1]\n",
      "\n"
     ]
    },
    {
     "data": {
      "text/latex": [
       "$\\displaystyle \\left({X^{r_{2} + s_{1} + s_{2}} Z^{r_{1} + r_{2} + s_{2}}}\\right)\\otimes \\left({X^{r_{1} + s_{1} + s_{2}} Z^{r_{1} + r_{2} + s_{1}}}\\right)$"
      ],
      "text/plain": [
       "(X**(r2 + s1 + s2)*Z**(r1 + r2 + s2))x(X**(r1 + s1 + s2)*Z**(r1 + r2 + s1))"
      ]
     },
     "metadata": {},
     "output_type": "display_data"
    },
    {
     "name": "stdout",
     "output_type": "stream",
     "text": [
      "\n",
      "S [0]\n",
      "SUM [1, 0]\n",
      "H [1]\n",
      "SUM [1, 0]\n",
      "S [0]\n",
      "S [1]\n",
      "SUM [1, 0]\n",
      "S [0]\n",
      "SUM [1, 0]\n",
      "H [1]\n",
      "SUM [0, 1]\n",
      "S [0]\n",
      "SUM [0, 1]\n",
      "S [1]\n",
      "H [1]\n",
      "S [1]\n",
      "SUM [0, 1]\n",
      "\n"
     ]
    },
    {
     "data": {
      "text/latex": [
       "$\\displaystyle \\left({X^{r_{2} + s_{1} + s_{2}} Z^{r_{1} + r_{2} + s_{2}}}\\right)\\otimes \\left({X^{r_{2} + s_{2}} Z^{r_{1} + s_{1} + s_{2}}}\\right)$"
      ],
      "text/plain": [
       "(X**(r2 + s1 + s2)*Z**(r1 + r2 + s2))x(X**(r2 + s2)*Z**(r1 + s1 + s2))"
      ]
     },
     "metadata": {},
     "output_type": "display_data"
    },
    {
     "name": "stdout",
     "output_type": "stream",
     "text": [
      "\n",
      "S [0]\n",
      "H [1]\n",
      "S [1]\n",
      "H [1]\n",
      "SUM [1, 0]\n",
      "S [0]\n",
      "SUM [1, 0]\n",
      "S [0]\n",
      "SUM [1, 0]\n",
      "H [1]\n",
      "SUM [0, 1]\n",
      "S [0]\n",
      "SUM [0, 1]\n",
      "S [1]\n",
      "H [1]\n",
      "S [1]\n",
      "SUM [0, 1]\n",
      "\n"
     ]
    },
    {
     "data": {
      "text/latex": [
       "$\\displaystyle \\left({X^{r_{1} + r_{2} + s_{2}} Z^{r_{2} + s_{1} + s_{2}}}\\right)\\otimes \\left({X^{r_{1} + s_{1} + s_{2}} Z^{r_{2} + s_{2}}}\\right)$"
      ],
      "text/plain": [
       "(X**(r1 + r2 + s2)*Z**(r2 + s1 + s2))x(X**(r1 + s1 + s2)*Z**(r2 + s2))"
      ]
     },
     "metadata": {},
     "output_type": "display_data"
    },
    {
     "name": "stdout",
     "output_type": "stream",
     "text": [
      "\n",
      "\n",
      "----------------------------------\n"
     ]
    }
   ],
   "source": [
    "start_paulis = [PauliSum(['x1z0 x0z0', 'x0z1 x0z0'], dimensions=[2, 2], phases=[0,0],standardise=False),\n",
    "               PauliSum(['x1z0 x1z0', 'x0z1 x1z0'], dimensions=[2, 2], phases=[0,0],standardise=False),\n",
    "               PauliSum(['x1z0 x0z1', 'x0z1 x0z1'], dimensions=[2, 2], phases=[0,0],standardise=False),\n",
    "               PauliSum(['x1z0 x1z1', 'x0z1 x1z1'], dimensions=[2, 2], phases=[0,0],standardise=False)]\n",
    "\n",
    "modes = ['SSSS','DDSS','DSDS','DSSD','SDDS','SDSD','SSDD','DDDD'] \n",
    "options = [0,1,2,3,4,5,6,7]\n",
    "gate_options = [[],[],[],[],[],[],[],[]]\n",
    "\n",
    "for mode in modes:\n",
    "    for i,ci in enumerate(list_addr2s2):\n",
    "        c = Circuit(dimensions=[2,2])\n",
    "        id_c = add_phase(start_paulis[0],0,1,mode)\n",
    "        for gj in ci.gates:\n",
    "            c.add_gate(gj)\n",
    "        for gj in id_c.gates:\n",
    "            c.add_gate(gj)\n",
    "        #print(c)\n",
    "        #symplectic_effect(c,phases=False)\n",
    "        '''\n",
    "        for ip,p in enumerate(start_paulis):\n",
    "            P_temp = c.act(p)\n",
    "            if ip == 0:\n",
    "                ini_s = 'I'\n",
    "            elif ip == 1:\n",
    "                ini_s = 'X'\n",
    "            elif ip == 2:\n",
    "                ini_s = 'Z'\n",
    "            elif ip == 3:\n",
    "                ini_s = 'Y'\n",
    "\n",
    "            if P_temp.x_exp[0,1] == 0:\n",
    "                if P_temp.z_exp[0,1] == 0:\n",
    "                    print(ini_s,' -> ','I')\n",
    "                else:\n",
    "                    print(ini_s,' -> ','Z')\n",
    "            elif P_temp.x_exp[0,1] == 1:\n",
    "                if P_temp.z_exp[0,1] == 0:\n",
    "                    print(ini_s,' -> ','X')\n",
    "                else:\n",
    "                    print(ini_s,' -> ','Y')\n",
    "\n",
    "            phases = P_temp.phases\n",
    "            if phases[0] == phases[1]:\n",
    "                print('Same Phase')\n",
    "            else:\n",
    "                print('Different Phase')\n",
    "        print()\n",
    "        print()\n",
    "        print()\n",
    "        '''\n",
    "\n",
    "        p_counter = 0\n",
    "        p_ss = ''\n",
    "        ini_ss = []\n",
    "        for ip,p in enumerate(start_paulis):\n",
    "            P_temp = c.act(p)\n",
    "            if ip == 0:\n",
    "                ini_s = 'I'\n",
    "            elif ip == 1:\n",
    "                ini_s = 'X'\n",
    "            elif ip == 2:\n",
    "                ini_s = 'Z'\n",
    "            elif ip == 3:\n",
    "                ini_s = 'Y'\n",
    "\n",
    "            if P_temp.x_exp[0,1] == 0:\n",
    "                if P_temp.z_exp[0,1] == 0:\n",
    "                    ini_s += '-> I'\n",
    "                    #print(ini_s,' -> ','I')\n",
    "                    pass\n",
    "                else:\n",
    "                    ini_s += '-> Z'\n",
    "                    #print(ini_s,' -> ','Z')\n",
    "                    pass\n",
    "            elif P_temp.x_exp[0,1] == 1:\n",
    "                if P_temp.z_exp[0,1] == 0:\n",
    "                    ini_s += '-> X'\n",
    "                    #print(ini_s,' -> ','X')\n",
    "                    pass\n",
    "                else:\n",
    "                    ini_s += '-> Y'\n",
    "                    #print(ini_s,' -> ','Y')\n",
    "                    pass\n",
    "            ini_ss.append(ini_s)\n",
    "            phases = P_temp.phases\n",
    "            if phases[0] == phases[1]:\n",
    "                #print('Same Phase')\n",
    "                p_ss += 'S'\n",
    "                p_counter += 1\n",
    "            else:\n",
    "                p_ss += 'D'\n",
    "                #print('Different Phase')\n",
    "                pass\n",
    "        if p_ss == 'SSSS' and 0 in options:\n",
    "            #print('Option 0: SSSS')\n",
    "            #print(c)\n",
    "            #print()\n",
    "            #options.remove(0)\n",
    "            gate_options[0].append(c)\n",
    "        elif p_ss == 'DDSS' and 1 in options:\n",
    "            #print('Option 1: DDSS')\n",
    "            #print(c)\n",
    "            #print()\n",
    "            #options.remove(1)\n",
    "            gate_options[1].append(c)\n",
    "        elif p_ss == 'DSDS' and 2 in options:\n",
    "            #print('Option 2: DSDS')\n",
    "            #print(c)\n",
    "            #print()\n",
    "            #options.remove(2)\n",
    "            gate_options[2].append(c)\n",
    "        elif p_ss == 'DSSD' and 3 in options:\n",
    "            #print('Option 3: DSSD')\n",
    "            #print(c)\n",
    "            #print()\n",
    "            #options.remove(3)\n",
    "            gate_options[3].append(c)\n",
    "        elif p_ss == 'SDDS' and 4 in options:\n",
    "            #print('Option 4: SDDS')\n",
    "            #print(c)\n",
    "            #print()\n",
    "            #options.remove(4)\n",
    "            gate_options[4].append(c)\n",
    "        elif p_ss == 'SDSD' and 5 in options:\n",
    "            #print('Option 5: SDSD')\n",
    "            #print(c)\n",
    "            #print()\n",
    "            #options.remove(5)\n",
    "            gate_options[5].append(c)\n",
    "        elif p_ss == 'SSDD' and 6 in options:\n",
    "            #print('Option 6: SSDD')\n",
    "            #print(c)\n",
    "            #print()\n",
    "            #options.remove(6)\n",
    "            gate_options[6].append(c)\n",
    "        elif p_ss == 'DDDD' and 7 in options:\n",
    "            #print('Option 7: DDDD')\n",
    "            #print(c)\n",
    "            #print()\n",
    "            #options.remove(7)\n",
    "            gate_options[7].append(c)\n",
    "\n",
    "        if p_counter == 3 or p_counter == 1:\n",
    "            #print(combo)\n",
    "            print(c)\n",
    "            symplectic_effect(c,phases=False)\n",
    "            for ini_s in ini_ss:\n",
    "                print(ini_s)\n",
    "            print()\n",
    "            print()\n",
    "            print()\n",
    "\n",
    "        if len(options) == 0:\n",
    "            break\n",
    "\n",
    "for i,l in enumerate(gate_options):\n",
    "    print('Option ',i,': ',modes[i])\n",
    "    l_sorted = sorted(l,key=lambda c: len(c.gates))\n",
    "    print(l_sorted[0])\n",
    "    print()\n",
    "    for j in l_sorted[1:]:\n",
    "        print(j)\n",
    "        symplectic_effect(j,phases=False)\n",
    "        print()\n",
    "    print()\n",
    "    print('----------------------------------')"
   ]
  },
  {
   "cell_type": "code",
   "execution_count": 13,
   "id": "949c16e3",
   "metadata": {},
   "outputs": [
    {
     "name": "stdout",
     "output_type": "stream",
     "text": [
      "S [0]\n",
      "SUM [1, 0]\n",
      "H [1]\n",
      "SUM [1, 0]\n",
      "S [0]\n",
      "\n"
     ]
    },
    {
     "data": {
      "text/latex": [
       "$\\displaystyle \\left({X^{r_{2} + s_{1} + s_{2}} Z^{r_{1} + r_{2} + s_{2}}}\\right)\\otimes \\left({X^{r_{1} + s_{1} + s_{2}} Z^{r_{1} + r_{2} + s_{1}}}\\right)$"
      ],
      "text/plain": [
       "(X**(r2 + s1 + s2)*Z**(r1 + r2 + s2))x(X**(r1 + s1 + s2)*Z**(r1 + r2 + s1))"
      ]
     },
     "metadata": {},
     "output_type": "display_data"
    },
    {
     "name": "stdout",
     "output_type": "stream",
     "text": [
      "I  ->  Y\n",
      "Same Phase\n",
      "X  ->  X\n",
      "Same Phase\n",
      "Z  ->  Z\n",
      "Same Phase\n",
      "Y  ->  I\n",
      "Same Phase\n",
      "\n",
      "\n",
      "\n",
      "S [0]\n",
      "SUM [1, 0]\n",
      "SUM [0, 1]\n",
      "S [0]\n",
      "H [0]\n",
      "SUM [0, 1]\n",
      "\n"
     ]
    },
    {
     "data": {
      "text/latex": [
       "$\\displaystyle \\left({X^{r_{1} + r_{2} + s_{2}} Z^{r_{2} + s_{1} + s_{2}}}\\right)\\otimes \\left({X^{r_{2} + s_{2}} Z^{r_{1} + s_{1} + s_{2}}}\\right)$"
      ],
      "text/plain": [
       "(X**(r1 + r2 + s2)*Z**(r2 + s1 + s2))x(X**(r2 + s2)*Z**(r1 + s1 + s2))"
      ]
     },
     "metadata": {},
     "output_type": "display_data"
    },
    {
     "name": "stdout",
     "output_type": "stream",
     "text": [
      "I  ->  Z\n",
      "Different Phase\n",
      "X  ->  Y\n",
      "Different Phase\n",
      "Z  ->  X\n",
      "Same Phase\n",
      "Y  ->  I\n",
      "Same Phase\n",
      "\n",
      "\n",
      "\n",
      "SUM [0, 1]\n",
      "S [0]\n",
      "S [1]\n",
      "H [0]\n",
      "SUM [1, 0]\n",
      "S [1]\n",
      "H [1]\n",
      "S [1]\n",
      "SUM [0, 1]\n",
      "\n"
     ]
    },
    {
     "data": {
      "text/latex": [
       "$\\displaystyle \\left({X^{r_{2} + s_{1} + s_{2}} Z^{r_{1} + r_{2} + s_{2}}}\\right)\\otimes \\left({X^{r_{1} + r_{2} + s_{1}} Z^{r_{2} + s_{2}}}\\right)$"
      ],
      "text/plain": [
       "(X**(r2 + s1 + s2)*Z**(r1 + r2 + s2))x(X**(r1 + r2 + s1)*Z**(r2 + s2))"
      ]
     },
     "metadata": {},
     "output_type": "display_data"
    },
    {
     "name": "stdout",
     "output_type": "stream",
     "text": [
      "I  ->  X\n",
      "Different Phase\n",
      "X  ->  Z\n",
      "Same Phase\n",
      "Z  ->  Y\n",
      "Different Phase\n",
      "Y  ->  I\n",
      "Same Phase\n",
      "\n",
      "\n",
      "\n",
      "S [0]\n",
      "SUM [1, 0]\n",
      "H [1]\n",
      "SUM [1, 0]\n",
      "S [0]\n",
      "S [1]\n",
      "SUM [0, 1]\n",
      "S [1]\n",
      "H [1]\n",
      "S [1]\n",
      "SUM [0, 1]\n",
      "\n"
     ]
    },
    {
     "data": {
      "text/latex": [
       "$\\displaystyle \\left({X^{r_{2} + s_{1} + s_{2}} Z^{r_{1} + r_{2} + s_{2}}}\\right)\\otimes \\left({X^{r_{1} + r_{2} + s_{1}} Z^{r_{2} + s_{2}}}\\right)$"
      ],
      "text/plain": [
       "(X**(r2 + s1 + s2)*Z**(r1 + r2 + s2))x(X**(r1 + r2 + s1)*Z**(r2 + s2))"
      ]
     },
     "metadata": {},
     "output_type": "display_data"
    },
    {
     "name": "stdout",
     "output_type": "stream",
     "text": [
      "I  ->  X\n",
      "Different Phase\n",
      "X  ->  Z\n",
      "Same Phase\n",
      "Z  ->  Y\n",
      "Same Phase\n",
      "Y  ->  I\n",
      "Different Phase\n",
      "\n",
      "\n",
      "\n",
      "SUM [0, 1]\n",
      "SUM [1, 0]\n",
      "S [0]\n",
      "SUM [1, 0]\n",
      "H [0]\n",
      "SUM [0, 1]\n",
      "\n"
     ]
    },
    {
     "data": {
      "text/latex": [
       "$\\displaystyle \\left({X^{r_{2} + s_{1} + s_{2}} Z^{r_{1} + r_{2} + s_{2}}}\\right)\\otimes \\left({X^{r_{1} + s_{1} + s_{2}} Z^{r_{2} + s_{2}}}\\right)$"
      ],
      "text/plain": [
       "(X**(r2 + s1 + s2)*Z**(r1 + r2 + s2))x(X**(r1 + s1 + s2)*Z**(r2 + s2))"
      ]
     },
     "metadata": {},
     "output_type": "display_data"
    },
    {
     "name": "stdout",
     "output_type": "stream",
     "text": [
      "I  ->  X\n",
      "Same Phase\n",
      "X  ->  Y\n",
      "Different Phase\n",
      "Z  ->  Z\n",
      "Different Phase\n",
      "Y  ->  I\n",
      "Same Phase\n",
      "\n",
      "\n",
      "\n",
      "SUM [1, 0]\n",
      "SUM [0, 1]\n",
      "S [0]\n",
      "SUM [1, 0]\n",
      "H [0]\n",
      "SUM [0, 1]\n",
      "S [0]\n",
      "\n"
     ]
    },
    {
     "data": {
      "text/latex": [
       "$\\displaystyle \\left({X^{r_{1} + r_{2} + s_{2}} Z^{r_{2} + s_{1} + s_{2}}}\\right)\\otimes \\left({X^{r_{2} + s_{2}} Z^{r_{1} + r_{2} + s_{1}}}\\right)$"
      ],
      "text/plain": [
       "(X**(r1 + r2 + s2)*Z**(r2 + s1 + s2))x(X**(r2 + s2)*Z**(r1 + r2 + s1))"
      ]
     },
     "metadata": {},
     "output_type": "display_data"
    },
    {
     "name": "stdout",
     "output_type": "stream",
     "text": [
      "I  ->  Z\n",
      "Same Phase\n",
      "X  ->  X\n",
      "Different Phase\n",
      "Z  ->  Y\n",
      "Same Phase\n",
      "Y  ->  I\n",
      "Different Phase\n",
      "\n",
      "\n",
      "\n",
      "SUM [0, 1]\n",
      "S [0]\n",
      "S [1]\n",
      "H [0]\n",
      "SUM [1, 0]\n",
      "SUM [0, 1]\n",
      "\n"
     ]
    },
    {
     "data": {
      "text/latex": [
       "$\\displaystyle \\left({X^{r_{2} + s_{1} + s_{2}} Z^{r_{1} + r_{2} + s_{2}}}\\right)\\otimes \\left({X^{r_{1} + s_{1} + s_{2}} Z^{r_{2} + s_{2}}}\\right)$"
      ],
      "text/plain": [
       "(X**(r2 + s1 + s2)*Z**(r1 + r2 + s2))x(X**(r1 + s1 + s2)*Z**(r2 + s2))"
      ]
     },
     "metadata": {},
     "output_type": "display_data"
    },
    {
     "name": "stdout",
     "output_type": "stream",
     "text": [
      "I  ->  X\n",
      "Same Phase\n",
      "X  ->  Y\n",
      "Same Phase\n",
      "Z  ->  Z\n",
      "Different Phase\n",
      "Y  ->  I\n",
      "Different Phase\n",
      "\n",
      "\n",
      "\n",
      "SUM [0, 1]\n",
      "SUM [1, 0]\n",
      "S [0]\n",
      "H [0]\n",
      "H [1]\n",
      "S [1]\n",
      "SUM [0, 1]\n",
      "S [0]\n",
      "\n"
     ]
    },
    {
     "data": {
      "text/latex": [
       "$\\displaystyle \\left({X^{r_{2} + s_{1} + s_{2}} Z^{r_{1} + r_{2} + s_{2}}}\\right)\\otimes \\left({X^{r_{2} + s_{2}} Z^{r_{1} + r_{2} + s_{1}}}\\right)$"
      ],
      "text/plain": [
       "(X**(r2 + s1 + s2)*Z**(r1 + r2 + s2))x(X**(r2 + s2)*Z**(r1 + r2 + s1))"
      ]
     },
     "metadata": {},
     "output_type": "display_data"
    },
    {
     "name": "stdout",
     "output_type": "stream",
     "text": [
      "I  ->  Z\n",
      "Different Phase\n",
      "X  ->  X\n",
      "Different Phase\n",
      "Z  ->  Y\n",
      "Different Phase\n",
      "Y  ->  I\n",
      "Different Phase\n",
      "\n",
      "\n",
      "\n"
     ]
    }
   ],
   "source": [
    "def add_r2s2(P,q0,q1,phase_mode):\n",
    "    if phase_mode == 'SSSS':\n",
    "        C = Circuit(dimensions=[2 for i in range(P.n_qudits())], \n",
    "                    gates=[S(q0,2),CX(q1,q0,2),H(q1,2),CX(q1,q0,2),S(q0,2)])\n",
    "        return(C)\n",
    "    elif phase_mode == 'DDSS':\n",
    "        C = Circuit(dimensions=[2 for i in range(P.n_qudits())],\n",
    "                    gates=[S(q0,2),CX(q1,q0,2),CX(q0,q1,2),S(q0,2),H(q0,2),CX(q0,q1,2)])\n",
    "        return(C)\n",
    "    elif phase_mode == 'DSDS':\n",
    "        C = Circuit(dimensions=[2 for i in range(P.n_qudits())],\n",
    "                    gates=[CX(q0,q1,2),S(q0,2),S(q1,2),H(q0,2),CX(q1,q0,2),S(q1,2),H(q1,2),S(q1,2),CX(q0,q1,2)])\n",
    "        return(C)\n",
    "    elif phase_mode == 'DSSD':\n",
    "        C = Circuit(dimensions=[2 for i in range(P.n_qudits())],\n",
    "                    gates=[S(q0,2),CX(q1,q0,2),H(q1,2),CX(q1,q0,2),S(q0,2),S(q1,2),CX(q0,q1,2),S(q1,2),H(q1,2),S(q1,2),CX(q0,q1,2)])\n",
    "        return(C)\n",
    "    elif phase_mode == 'SDDS':\n",
    "        C = Circuit(dimensions=[2 for i in range(P.n_qudits())],\n",
    "                    gates=[CX(q0,q1,2),CX(q1,q0,2),S(q0,2),CX(q1,q0,2),H(q0,2),CX(q0,q1,2)])\n",
    "        return(C)\n",
    "    elif phase_mode == 'SDSD':\n",
    "        C = Circuit(dimensions=[2 for i in range(P.n_qudits())],\n",
    "                    gates=[CX(q1,q0,2),CX(q0,q1,2),S(q0,2),CX(q1,q0,2),H(q0,2),CX(q0,q1,2),S(q0,2)])\n",
    "        return(C)    \n",
    "    elif phase_mode == 'SSDD':\n",
    "        C = Circuit(dimensions=[2 for i in range(P.n_qudits())],\n",
    "                    gates=[CX(q0,q1,2),S(q0,2),S(q1,2),H(q0,2),CX(q1,q0,2),CX(q0,q1,2)])\n",
    "        return(C) \n",
    "    elif phase_mode == 'DDDD':\n",
    "        C = Circuit(dimensions=[2 for i in range(P.n_qudits())],\n",
    "                    gates=[CX(q0,q1,2),CX(q1,q0,2),S(q0,2),H(q0,2),H(q1,2),S(q1,2),CX(q0,q1,2),S(q0,2)])\n",
    "        return(C)  \n",
    "    \n",
    "\n",
    "for i,mode in enumerate(modes):\n",
    "    c = add_r2s2(start_paulis[0],0,1,mode)\n",
    "    print(c)\n",
    "    symplectic_effect(c,phases=False)\n",
    "    for ip,p in enumerate(start_paulis):\n",
    "        P_temp = c.act(p)\n",
    "        if ip == 0:\n",
    "            ini_s = 'I'\n",
    "        elif ip == 1:\n",
    "            ini_s = 'X'\n",
    "        elif ip == 2:\n",
    "            ini_s = 'Z'\n",
    "        elif ip == 3:\n",
    "            ini_s = 'Y'\n",
    "\n",
    "        if P_temp.x_exp[0,1] == 0:\n",
    "            if P_temp.z_exp[0,1] == 0:\n",
    "                print(ini_s,' -> ','I')\n",
    "            else:\n",
    "                print(ini_s,' -> ','Z')\n",
    "        elif P_temp.x_exp[0,1] == 1:\n",
    "            if P_temp.z_exp[0,1] == 0:\n",
    "                print(ini_s,' -> ','X')\n",
    "            else:\n",
    "                print(ini_s,' -> ','Y')\n",
    "\n",
    "        phases = P_temp.phases\n",
    "        if phases[0] == phases[1]:\n",
    "            print('Same Phase')\n",
    "        else:\n",
    "            print('Different Phase')\n",
    "    print()\n",
    "    print()\n",
    "    print()"
   ]
  },
  {
   "cell_type": "code",
   "execution_count": null,
   "id": "248c290a",
   "metadata": {},
   "outputs": [],
   "source": []
  }
 ],
 "metadata": {
  "kernelspec": {
   "display_name": "base",
   "language": "python",
   "name": "python3"
  },
  "language_info": {
   "codemirror_mode": {
    "name": "ipython",
    "version": 3
   },
   "file_extension": ".py",
   "mimetype": "text/x-python",
   "name": "python",
   "nbconvert_exporter": "python",
   "pygments_lexer": "ipython3",
   "version": "3.11.5"
  }
 },
 "nbformat": 4,
 "nbformat_minor": 5
}
